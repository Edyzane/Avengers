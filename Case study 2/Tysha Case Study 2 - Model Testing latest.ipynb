{
 "cells": [
  {
   "cell_type": "code",
   "execution_count": 75,
   "id": "computational-joining",
   "metadata": {},
   "outputs": [],
   "source": [
    "import numpy as np\n",
    "import pandas as pd\n",
    "import matplotlib.pyplot as plt\n",
    "import seaborn as sns"
   ]
  },
  {
   "cell_type": "code",
   "execution_count": 76,
   "id": "demonstrated-laugh",
   "metadata": {},
   "outputs": [],
   "source": [
    "df = pd.read_csv('Heart Data Cleaning latest.csv')"
   ]
  },
  {
   "cell_type": "code",
   "execution_count": 77,
   "id": "limited-expert",
   "metadata": {},
   "outputs": [
    {
     "data": {
      "text/html": [
       "<div>\n",
       "<style scoped>\n",
       "    .dataframe tbody tr th:only-of-type {\n",
       "        vertical-align: middle;\n",
       "    }\n",
       "\n",
       "    .dataframe tbody tr th {\n",
       "        vertical-align: top;\n",
       "    }\n",
       "\n",
       "    .dataframe thead th {\n",
       "        text-align: right;\n",
       "    }\n",
       "</style>\n",
       "<table border=\"1\" class=\"dataframe\">\n",
       "  <thead>\n",
       "    <tr style=\"text-align: right;\">\n",
       "      <th></th>\n",
       "      <th>age</th>\n",
       "      <th>sex</th>\n",
       "      <th>cp</th>\n",
       "      <th>trestbps</th>\n",
       "      <th>chol</th>\n",
       "      <th>fbs</th>\n",
       "      <th>restecg</th>\n",
       "      <th>thalach</th>\n",
       "      <th>exang</th>\n",
       "      <th>oldpeak</th>\n",
       "      <th>slope</th>\n",
       "      <th>ca</th>\n",
       "      <th>thal</th>\n",
       "      <th>target</th>\n",
       "    </tr>\n",
       "  </thead>\n",
       "  <tbody>\n",
       "    <tr>\n",
       "      <th>0</th>\n",
       "      <td>63</td>\n",
       "      <td>1</td>\n",
       "      <td>3</td>\n",
       "      <td>145</td>\n",
       "      <td>233</td>\n",
       "      <td>1</td>\n",
       "      <td>0</td>\n",
       "      <td>150</td>\n",
       "      <td>0</td>\n",
       "      <td>2.3</td>\n",
       "      <td>0</td>\n",
       "      <td>0</td>\n",
       "      <td>1</td>\n",
       "      <td>1</td>\n",
       "    </tr>\n",
       "    <tr>\n",
       "      <th>1</th>\n",
       "      <td>37</td>\n",
       "      <td>1</td>\n",
       "      <td>2</td>\n",
       "      <td>130</td>\n",
       "      <td>250</td>\n",
       "      <td>0</td>\n",
       "      <td>1</td>\n",
       "      <td>187</td>\n",
       "      <td>0</td>\n",
       "      <td>3.5</td>\n",
       "      <td>0</td>\n",
       "      <td>0</td>\n",
       "      <td>2</td>\n",
       "      <td>1</td>\n",
       "    </tr>\n",
       "    <tr>\n",
       "      <th>2</th>\n",
       "      <td>41</td>\n",
       "      <td>0</td>\n",
       "      <td>1</td>\n",
       "      <td>130</td>\n",
       "      <td>204</td>\n",
       "      <td>0</td>\n",
       "      <td>0</td>\n",
       "      <td>172</td>\n",
       "      <td>0</td>\n",
       "      <td>1.4</td>\n",
       "      <td>2</td>\n",
       "      <td>0</td>\n",
       "      <td>2</td>\n",
       "      <td>1</td>\n",
       "    </tr>\n",
       "    <tr>\n",
       "      <th>3</th>\n",
       "      <td>56</td>\n",
       "      <td>1</td>\n",
       "      <td>1</td>\n",
       "      <td>120</td>\n",
       "      <td>236</td>\n",
       "      <td>0</td>\n",
       "      <td>1</td>\n",
       "      <td>178</td>\n",
       "      <td>0</td>\n",
       "      <td>0.8</td>\n",
       "      <td>2</td>\n",
       "      <td>0</td>\n",
       "      <td>2</td>\n",
       "      <td>1</td>\n",
       "    </tr>\n",
       "    <tr>\n",
       "      <th>4</th>\n",
       "      <td>57</td>\n",
       "      <td>0</td>\n",
       "      <td>0</td>\n",
       "      <td>120</td>\n",
       "      <td>354</td>\n",
       "      <td>0</td>\n",
       "      <td>1</td>\n",
       "      <td>163</td>\n",
       "      <td>1</td>\n",
       "      <td>0.6</td>\n",
       "      <td>2</td>\n",
       "      <td>0</td>\n",
       "      <td>2</td>\n",
       "      <td>1</td>\n",
       "    </tr>\n",
       "    <tr>\n",
       "      <th>...</th>\n",
       "      <td>...</td>\n",
       "      <td>...</td>\n",
       "      <td>...</td>\n",
       "      <td>...</td>\n",
       "      <td>...</td>\n",
       "      <td>...</td>\n",
       "      <td>...</td>\n",
       "      <td>...</td>\n",
       "      <td>...</td>\n",
       "      <td>...</td>\n",
       "      <td>...</td>\n",
       "      <td>...</td>\n",
       "      <td>...</td>\n",
       "      <td>...</td>\n",
       "    </tr>\n",
       "    <tr>\n",
       "      <th>298</th>\n",
       "      <td>57</td>\n",
       "      <td>0</td>\n",
       "      <td>0</td>\n",
       "      <td>140</td>\n",
       "      <td>241</td>\n",
       "      <td>0</td>\n",
       "      <td>1</td>\n",
       "      <td>123</td>\n",
       "      <td>1</td>\n",
       "      <td>0.2</td>\n",
       "      <td>1</td>\n",
       "      <td>0</td>\n",
       "      <td>3</td>\n",
       "      <td>0</td>\n",
       "    </tr>\n",
       "    <tr>\n",
       "      <th>299</th>\n",
       "      <td>45</td>\n",
       "      <td>1</td>\n",
       "      <td>3</td>\n",
       "      <td>110</td>\n",
       "      <td>264</td>\n",
       "      <td>0</td>\n",
       "      <td>1</td>\n",
       "      <td>132</td>\n",
       "      <td>0</td>\n",
       "      <td>1.2</td>\n",
       "      <td>1</td>\n",
       "      <td>0</td>\n",
       "      <td>3</td>\n",
       "      <td>0</td>\n",
       "    </tr>\n",
       "    <tr>\n",
       "      <th>300</th>\n",
       "      <td>68</td>\n",
       "      <td>1</td>\n",
       "      <td>0</td>\n",
       "      <td>144</td>\n",
       "      <td>193</td>\n",
       "      <td>1</td>\n",
       "      <td>1</td>\n",
       "      <td>141</td>\n",
       "      <td>0</td>\n",
       "      <td>3.4</td>\n",
       "      <td>1</td>\n",
       "      <td>2</td>\n",
       "      <td>3</td>\n",
       "      <td>0</td>\n",
       "    </tr>\n",
       "    <tr>\n",
       "      <th>301</th>\n",
       "      <td>57</td>\n",
       "      <td>1</td>\n",
       "      <td>0</td>\n",
       "      <td>130</td>\n",
       "      <td>131</td>\n",
       "      <td>0</td>\n",
       "      <td>1</td>\n",
       "      <td>115</td>\n",
       "      <td>1</td>\n",
       "      <td>1.2</td>\n",
       "      <td>1</td>\n",
       "      <td>1</td>\n",
       "      <td>3</td>\n",
       "      <td>0</td>\n",
       "    </tr>\n",
       "    <tr>\n",
       "      <th>302</th>\n",
       "      <td>57</td>\n",
       "      <td>0</td>\n",
       "      <td>1</td>\n",
       "      <td>130</td>\n",
       "      <td>236</td>\n",
       "      <td>0</td>\n",
       "      <td>0</td>\n",
       "      <td>174</td>\n",
       "      <td>0</td>\n",
       "      <td>0.0</td>\n",
       "      <td>1</td>\n",
       "      <td>1</td>\n",
       "      <td>2</td>\n",
       "      <td>0</td>\n",
       "    </tr>\n",
       "  </tbody>\n",
       "</table>\n",
       "<p>303 rows × 14 columns</p>\n",
       "</div>"
      ],
      "text/plain": [
       "     age  sex  cp  trestbps  chol  fbs  restecg  thalach  exang  oldpeak  \\\n",
       "0     63    1   3       145   233    1        0      150      0      2.3   \n",
       "1     37    1   2       130   250    0        1      187      0      3.5   \n",
       "2     41    0   1       130   204    0        0      172      0      1.4   \n",
       "3     56    1   1       120   236    0        1      178      0      0.8   \n",
       "4     57    0   0       120   354    0        1      163      1      0.6   \n",
       "..   ...  ...  ..       ...   ...  ...      ...      ...    ...      ...   \n",
       "298   57    0   0       140   241    0        1      123      1      0.2   \n",
       "299   45    1   3       110   264    0        1      132      0      1.2   \n",
       "300   68    1   0       144   193    1        1      141      0      3.4   \n",
       "301   57    1   0       130   131    0        1      115      1      1.2   \n",
       "302   57    0   1       130   236    0        0      174      0      0.0   \n",
       "\n",
       "     slope  ca  thal  target  \n",
       "0        0   0     1       1  \n",
       "1        0   0     2       1  \n",
       "2        2   0     2       1  \n",
       "3        2   0     2       1  \n",
       "4        2   0     2       1  \n",
       "..     ...  ..   ...     ...  \n",
       "298      1   0     3       0  \n",
       "299      1   0     3       0  \n",
       "300      1   2     3       0  \n",
       "301      1   1     3       0  \n",
       "302      1   1     2       0  \n",
       "\n",
       "[303 rows x 14 columns]"
      ]
     },
     "execution_count": 77,
     "metadata": {},
     "output_type": "execute_result"
    }
   ],
   "source": [
    "df"
   ]
  },
  {
   "cell_type": "markdown",
   "id": "dutch-antarctica",
   "metadata": {},
   "source": [
    "**Logistic Regression CV**"
   ]
  },
  {
   "cell_type": "code",
   "execution_count": 78,
   "id": "portable-yahoo",
   "metadata": {},
   "outputs": [],
   "source": [
    "X = df.drop('target',axis=1)\n",
    "y = df['target']\n",
    "\n",
    "from sklearn.model_selection import train_test_split\n",
    "from sklearn.preprocessing import StandardScaler\n",
    "\n",
    "X_train, X_test, y_train, y_test = train_test_split(X, y, test_size=0.1, random_state=101)\n",
    "\n",
    "scaler = StandardScaler()\n",
    "scaled_X_train = scaler.fit_transform(X_train)\n",
    "scaled_X_test = scaler.transform(X_test)"
   ]
  },
  {
   "cell_type": "code",
   "execution_count": 79,
   "id": "union-supplier",
   "metadata": {},
   "outputs": [],
   "source": [
    "from sklearn.linear_model import LogisticRegressionCV"
   ]
  },
  {
   "cell_type": "code",
   "execution_count": 80,
   "id": "surprising-budget",
   "metadata": {},
   "outputs": [],
   "source": [
    "model = LogisticRegressionCV()"
   ]
  },
  {
   "cell_type": "code",
   "execution_count": 81,
   "id": "signed-navigator",
   "metadata": {},
   "outputs": [
    {
     "data": {
      "text/plain": [
       "LogisticRegressionCV()"
      ]
     },
     "execution_count": 81,
     "metadata": {},
     "output_type": "execute_result"
    }
   ],
   "source": [
    "model.fit(scaled_X_train, y_train)"
   ]
  },
  {
   "cell_type": "code",
   "execution_count": 82,
   "id": "nearby-milton",
   "metadata": {},
   "outputs": [
    {
     "data": {
      "text/plain": [
       "array([2.7825594])"
      ]
     },
     "execution_count": 82,
     "metadata": {},
     "output_type": "execute_result"
    }
   ],
   "source": [
    "model.C_"
   ]
  },
  {
   "cell_type": "code",
   "execution_count": 83,
   "id": "occasional-complexity",
   "metadata": {},
   "outputs": [],
   "source": [
    "y_pred = model.predict(X_test)"
   ]
  },
  {
   "cell_type": "code",
   "execution_count": 84,
   "id": "chicken-blackjack",
   "metadata": {},
   "outputs": [
    {
     "data": {
      "text/plain": [
       "array([[ 0.09227941, -0.77542035,  0.86691058, -0.36564453, -0.2261593 ,\n",
       "         0.15384769,  0.07879184,  0.46579066, -0.43310431, -0.42945358,\n",
       "         0.45058897, -1.18460384, -0.63213268]])"
      ]
     },
     "execution_count": 84,
     "metadata": {},
     "output_type": "execute_result"
    }
   ],
   "source": [
    "model.coef_"
   ]
  },
  {
   "cell_type": "code",
   "execution_count": 85,
   "id": "eligible-wyoming",
   "metadata": {},
   "outputs": [],
   "source": [
    "from sklearn.metrics import accuracy_score,confusion_matrix,classification_report,plot_confusion_matrix"
   ]
  },
  {
   "cell_type": "code",
   "execution_count": 86,
   "id": "excellent-anthropology",
   "metadata": {},
   "outputs": [],
   "source": [
    "y_pred = model.predict(scaled_X_test)"
   ]
  },
  {
   "cell_type": "code",
   "execution_count": 87,
   "id": "favorite-salem",
   "metadata": {},
   "outputs": [
    {
     "data": {
      "text/plain": [
       "0.8709677419354839"
      ]
     },
     "execution_count": 87,
     "metadata": {},
     "output_type": "execute_result"
    }
   ],
   "source": [
    "accuracy_score(y_test,y_pred)"
   ]
  },
  {
   "cell_type": "code",
   "execution_count": 88,
   "id": "national-pearl",
   "metadata": {},
   "outputs": [
    {
     "data": {
      "text/plain": [
       "array([[12,  3],\n",
       "       [ 1, 15]], dtype=int64)"
      ]
     },
     "execution_count": 88,
     "metadata": {},
     "output_type": "execute_result"
    }
   ],
   "source": [
    "confusion_matrix(y_test,y_pred)"
   ]
  },
  {
   "cell_type": "code",
   "execution_count": 89,
   "id": "behavioral-criminal",
   "metadata": {},
   "outputs": [
    {
     "data": {
      "text/plain": [
       "<sklearn.metrics._plot.confusion_matrix.ConfusionMatrixDisplay at 0x561a388>"
      ]
     },
     "execution_count": 89,
     "metadata": {},
     "output_type": "execute_result"
    },
    {
     "data": {
      "image/png": "[encoded data removed]",
      "text/plain": [
       "<Figure size 432x288 with 2 Axes>"
      ]
     },
     "metadata": {
      "needs_background": "light"
     },
     "output_type": "display_data"
    }
   ],
   "source": [
    "plot_confusion_matrix(model,scaled_X_test,y_test)"
   ]
  },
  {
   "cell_type": "code",
   "execution_count": 90,
   "id": "searching-selection",
   "metadata": {},
   "outputs": [
    {
     "name": "stdout",
     "output_type": "stream",
     "text": [
      "              precision    recall  f1-score   support\n",
      "\n",
      "           0       0.92      0.80      0.86        15\n",
      "           1       0.83      0.94      0.88        16\n",
      "\n",
      "    accuracy                           0.87        31\n",
      "   macro avg       0.88      0.87      0.87        31\n",
      "weighted avg       0.88      0.87      0.87        31\n",
      "\n"
     ]
    }
   ],
   "source": [
    "print(classification_report(y_test,y_pred))"
   ]
  },
  {
   "cell_type": "code",
   "execution_count": 91,
   "id": "decreased-welsh",
   "metadata": {},
   "outputs": [],
   "source": [
    "from sklearn.metrics import precision_recall_curve,plot_precision_recall_curve,plot_roc_curve"
   ]
  },
  {
   "cell_type": "code",
   "execution_count": 92,
   "id": "pending-replication",
   "metadata": {},
   "outputs": [
    {
     "data": {
      "text/plain": [
       "<sklearn.metrics._plot.precision_recall_curve.PrecisionRecallDisplay at 0x5765048>"
      ]
     },
     "execution_count": 92,
     "metadata": {},
     "output_type": "execute_result"
    },
    {
     "data": {
      "image/png": "[encoded data removed]",
      "text/plain": [
       "<Figure size 432x288 with 1 Axes>"
      ]
     },
     "metadata": {
      "needs_background": "light"
     },
     "output_type": "display_data"
    }
   ],
   "source": [
    "plot_precision_recall_curve(model,scaled_X_test,y_test)"
   ]
  },
  {
   "cell_type": "code",
   "execution_count": 93,
   "id": "joined-browse",
   "metadata": {},
   "outputs": [
    {
     "data": {
      "text/plain": [
       "<sklearn.metrics._plot.roc_curve.RocCurveDisplay at 0x5664ac8>"
      ]
     },
     "execution_count": 93,
     "metadata": {},
     "output_type": "execute_result"
    },
    {
     "data": {
      "image/png": "[encoded data removed]",
      "text/plain": [
       "<Figure size 432x288 with 1 Axes>"
      ]
     },
     "metadata": {
      "needs_background": "light"
     },
     "output_type": "display_data"
    }
   ],
   "source": [
    "plot_roc_curve(model,scaled_X_test,y_test)"
   ]
  },
  {
   "cell_type": "code",
   "execution_count": 108,
   "id": "incredible-october",
   "metadata": {},
   "outputs": [
    {
     "data": {
      "text/plain": [
       "array([[ 0.09227941, -0.77542035,  0.86691058, -0.36564453, -0.2261593 ,\n",
       "         0.15384769,  0.07879184,  0.46579066, -0.43310431, -0.42945358,\n",
       "         0.45058897, -1.18460384, -0.63213268]])"
      ]
     },
     "execution_count": 108,
     "metadata": {},
     "output_type": "execute_result"
    }
   ],
   "source": [
    "model.coef_"
   ]
  },
  {
   "cell_type": "markdown",
   "id": "correct-collection",
   "metadata": {},
   "source": [
    "**Grid Search**"
   ]
  },
  {
   "cell_type": "code",
   "execution_count": 94,
   "id": "thirty-number",
   "metadata": {},
   "outputs": [],
   "source": [
    "X = df.drop('target',axis=1)\n",
    "y = df['target']\n",
    "\n",
    "from sklearn.model_selection import train_test_split\n",
    "from sklearn.preprocessing import StandardScaler\n",
    "\n",
    "X_train, X_test, y_train, y_test = train_test_split(X, y, test_size=0.1, random_state=101)\n",
    "\n",
    "scaler = StandardScaler()\n",
    "scaled_X_train = scaler.fit_transform(X_train)\n",
    "scaled_X_test = scaler.transform(X_test)"
   ]
  },
  {
   "cell_type": "code",
   "execution_count": 95,
   "id": "parallel-anatomy",
   "metadata": {},
   "outputs": [],
   "source": [
    "from sklearn.linear_model import LogisticRegression"
   ]
  },
  {
   "cell_type": "code",
   "execution_count": 59,
   "id": "cellular-clinic",
   "metadata": {},
   "outputs": [],
   "source": [
    "from sklearn.model_selection import GridSearchCV"
   ]
  },
  {
   "cell_type": "code",
   "execution_count": 60,
   "id": "posted-japan",
   "metadata": {},
   "outputs": [],
   "source": [
    "# Depending on warnings you may need to adjust max iterations allowed \n",
    "# Or experiment with different solvers\n",
    "log_model = LogisticRegression(solver='saga',multi_class=\"ovr\",max_iter=500)"
   ]
  },
  {
   "cell_type": "code",
   "execution_count": 61,
   "id": "ordinary-relay",
   "metadata": {},
   "outputs": [
    {
     "data": {
      "text/plain": [
       "array([1.00000000e+000, 1.58635653e+000, 2.51652705e+000, 3.99210913e+000,\n",
       "       6.33290840e+000, 1.00462506e+001, 1.59369353e+001, 2.52816614e+001,\n",
       "       4.01057288e+001, 6.36219849e+001, 1.00927151e+002, 1.60106446e+002,\n",
       "       2.53985907e+002, 4.02912203e+002, 6.39162405e+002, 1.01393946e+003,\n",
       "       1.60846948e+003, 2.55160607e+003, 4.04775697e+003, 6.42118571e+003,\n",
       "       1.01862899e+004, 1.61590875e+004, 2.56340741e+004, 4.06647809e+004,\n",
       "       6.45088409e+004, 1.02334021e+005, 1.62338243e+005, 2.57526333e+005,\n",
       "       4.08528580e+005, 6.48071983e+005, 1.02807322e+006, 1.63089068e+006,\n",
       "       2.58717408e+006, 4.10418050e+006, 6.51069356e+006, 1.03282813e+007,\n",
       "       1.63843365e+007, 2.59913992e+007, 4.12316259e+007, 6.54080591e+007,\n",
       "       1.03760502e+008, 1.64601150e+008, 2.61116110e+008, 4.14223247e+008,\n",
       "       6.57105755e+008, 1.04240401e+009, 1.65362441e+009, 2.62323788e+009,\n",
       "       4.16139055e+009, 6.60144909e+009, 1.04722519e+010, 1.66127252e+010,\n",
       "       2.63537052e+010, 4.18063724e+010, 6.63198120e+010, 1.05206867e+011,\n",
       "       1.66895601e+011, 2.64755927e+011, 4.19997295e+011, 6.66265452e+011,\n",
       "       1.05693455e+012, 1.67667503e+012, 2.65980440e+012, 4.21939808e+012,\n",
       "       6.69346971e+012, 1.06182294e+013, 1.68442976e+013, 2.67210616e+013,\n",
       "       4.23891306e+013, 6.72442742e+013, 1.06673394e+014, 1.69222035e+014,\n",
       "       2.68446481e+014, 4.25851829e+014, 6.75552832e+014, 1.07166765e+015,\n",
       "       1.70004698e+015, 2.69688063e+015, 4.27821420e+015, 6.78677305e+015,\n",
       "       1.07662418e+016, 1.70790980e+016, 2.70935387e+016, 4.29800121e+016,\n",
       "       6.81816229e+016, 1.08160363e+017, 1.71580899e+017, 2.72188479e+017,\n",
       "       4.31787973e+017, 6.84969672e+017, 1.08660611e+018, 1.72374471e+018,\n",
       "       2.73447368e+018, 4.33785019e+018, 6.88137699e+018, 1.09163173e+019,\n",
       "       1.73171713e+019, 2.74712079e+019, 4.35791301e+019, 6.91320378e+019,\n",
       "       1.09668060e+020, 1.73972643e+020, 2.75982639e+020, 4.37806863e+020,\n",
       "       6.94517777e+020, 1.10175281e+021, 1.74777277e+021, 2.77259076e+021,\n",
       "       4.39831747e+021, 6.97729965e+021, 1.10684849e+022, 1.75585633e+022,\n",
       "       2.78541416e+022, 4.41865996e+022, 7.00957009e+022, 1.11196773e+023,\n",
       "       1.76397728e+023, 2.79829688e+023, 4.43909653e+023, 7.04198979e+023,\n",
       "       1.11711065e+024, 1.77213578e+024, 2.81123917e+024, 4.45962763e+024,\n",
       "       7.07455942e+024, 1.12227736e+025, 1.78033202e+025, 2.82424133e+025,\n",
       "       4.48025368e+025, 7.10727970e+025, 1.12746796e+026, 1.78856616e+026,\n",
       "       2.83730362e+026, 4.50097513e+026, 7.14015130e+026, 1.13268257e+027,\n",
       "       1.79683839e+027, 2.85042632e+027, 4.52179242e+027, 7.17317494e+027,\n",
       "       1.13792129e+028, 1.80514888e+028, 2.86360972e+028, 4.54270599e+028,\n",
       "       7.20635132e+028, 1.14318425e+029, 1.81349780e+029, 2.87685409e+029,\n",
       "       4.56371628e+029, 7.23968114e+029, 1.14847155e+030, 1.82188534e+030,\n",
       "       2.89015972e+030, 4.58482375e+030, 7.27316511e+030, 1.15378330e+031,\n",
       "       1.83031168e+031, 2.90352688e+031, 4.60602884e+031, 7.30680395e+031,\n",
       "       1.15911962e+032, 1.83877698e+032, 2.91695588e+032, 4.62733201e+032,\n",
       "       7.34059837e+032, 1.16448062e+033, 1.84728144e+033, 2.93044698e+033,\n",
       "       4.64873371e+033, 7.37454909e+033, 1.16986641e+034, 1.85582523e+034,\n",
       "       2.94400048e+034, 4.67023439e+034, 7.40865683e+034, 1.17527712e+035,\n",
       "       1.86440853e+035, 2.95761666e+035, 4.69183451e+035, 7.44292233e+035,\n",
       "       1.18071285e+036, 1.87303154e+036, 2.97129582e+036, 4.71353453e+036,\n",
       "       7.47734631e+036, 1.18617372e+037, 1.88169442e+037, 2.98503825e+037,\n",
       "       4.73533492e+037, 7.51192949e+037, 1.19165984e+038, 1.89039738e+038,\n",
       "       2.99884423e+038, 4.75723614e+038, 7.54667263e+038, 1.19717134e+039,\n",
       "       1.89914058e+039, 3.01271407e+039, 4.77923865e+039, 7.58157646e+039,\n",
       "       1.20270833e+040, 1.90792422e+040, 3.02664806e+040, 4.80134292e+040,\n",
       "       7.61664172e+040, 1.20827094e+041, 1.91674849e+041, 3.04064649e+041,\n",
       "       4.82354943e+041, 7.65186915e+041, 1.21385926e+042, 1.92561357e+042,\n",
       "       3.05470967e+042, 4.84585864e+042, 7.68725952e+042, 1.21947344e+043,\n",
       "       1.93451965e+043, 3.06883789e+043, 4.86827104e+043, 7.72281357e+043,\n",
       "       1.22511358e+044, 1.94346693e+044, 3.08303146e+044, 4.89078709e+044,\n",
       "       7.75853206e+044, 1.23077980e+045, 1.95245558e+045, 3.09729067e+045,\n",
       "       4.91340729e+045, 7.79441575e+045, 1.23647224e+046, 1.96148581e+046,\n",
       "       3.11161583e+046, 4.93613210e+046, 7.83046540e+046, 1.24219100e+047,\n",
       "       1.97055780e+047, 3.12600724e+047, 4.95896201e+047, 7.86668179e+047,\n",
       "       1.24793621e+048, 1.97967175e+048, 3.14046522e+048, 4.98189752e+048,\n",
       "       7.90306568e+048, 1.25370799e+049, 1.98882786e+049, 3.15499006e+049,\n",
       "       5.00493910e+049, 7.93961785e+049, 1.25950646e+050, 1.99802631e+050,\n",
       "       3.16958209e+050, 5.02808725e+050, 7.97633907e+050, 1.26533176e+051,\n",
       "       2.00726730e+051, 3.18424160e+051, 5.05134247e+051, 8.01323013e+051,\n",
       "       1.27118400e+052, 2.01655104e+052, 3.19896892e+052, 5.07470524e+052,\n",
       "       8.05029181e+052, 1.27706330e+053, 2.02587771e+053, 3.21376434e+053,\n",
       "       5.09817606e+053, 8.08752491e+053, 1.28296980e+054, 2.03524752e+054,\n",
       "       3.22862820e+054, 5.12175544e+054, 8.12493021e+054, 1.28890361e+055,\n",
       "       2.04466067e+055, 3.24356081e+055, 5.14544388e+055, 8.16250851e+055,\n",
       "       1.29486487e+056, 2.05411735e+056, 3.25856248e+056, 5.16924187e+056,\n",
       "       8.20026062e+056, 1.30085370e+057, 2.06361777e+057, 3.27363353e+057,\n",
       "       5.19314994e+057, 8.23818733e+057, 1.30687023e+058, 2.07316213e+058,\n",
       "       3.28877429e+058, 5.21716858e+058, 8.27628946e+058, 1.31291459e+059,\n",
       "       2.08275063e+059, 3.30398507e+059, 5.24129830e+059, 8.31456781e+059,\n",
       "       1.31898690e+060, 2.09238348e+060, 3.31926620e+060, 5.26553963e+060,\n",
       "       8.35302320e+060, 1.32508729e+061, 2.10206088e+061, 3.33461802e+061,\n",
       "       5.28989308e+061, 8.39165644e+061, 1.33121590e+062, 2.11178304e+062,\n",
       "       3.35004083e+062, 5.31435916e+062, 8.43046837e+062, 1.33737286e+063,\n",
       "       2.12155017e+063, 3.36553498e+063, 5.33893840e+063, 8.46945981e+063,\n",
       "       1.34355829e+064, 2.13136247e+064, 3.38110078e+064, 5.36363132e+064,\n",
       "       8.50863158e+064, 1.34977233e+065, 2.14122015e+065, 3.39673858e+065,\n",
       "       5.38843844e+065, 8.54798453e+065, 1.35601511e+066, 2.15112343e+066,\n",
       "       3.41244871e+066, 5.41336030e+066, 8.58751948e+066, 1.36228676e+067,\n",
       "       2.16107251e+067, 3.42823149e+067, 5.43839743e+067, 8.62723729e+067,\n",
       "       1.36858742e+068, 2.17106760e+068, 3.44408728e+068, 5.46355035e+068,\n",
       "       8.66713880e+068, 1.37491723e+069, 2.18110892e+069, 3.46001639e+069,\n",
       "       5.48881961e+069, 8.70722485e+069, 1.38127630e+070, 2.19119669e+070,\n",
       "       3.47601918e+070, 5.51420574e+070, 8.74749630e+070, 1.38766479e+071,\n",
       "       2.20133111e+071, 3.49209598e+071, 5.53970928e+071, 8.78795401e+071,\n",
       "       1.39408283e+072, 2.21151240e+072, 3.50824714e+072, 5.56533078e+072,\n",
       "       8.82859884e+072, 1.40053055e+073, 2.22174078e+073, 3.52447300e+073,\n",
       "       5.59107078e+073, 8.86943166e+073, 1.40700809e+074, 2.23201647e+074,\n",
       "       3.54077391e+074, 5.61692982e+074, 8.91045332e+074, 1.41351558e+075,\n",
       "       2.24233968e+075, 3.55715021e+075, 5.64290847e+075, 8.95166472e+075,\n",
       "       1.42005318e+076, 2.25271064e+076, 3.57360225e+076, 5.66900727e+076,\n",
       "       8.99306672e+076, 1.42662102e+077, 2.26312957e+077, 3.59013038e+077,\n",
       "       5.69522678e+077, 9.03466021e+077, 1.43321923e+078, 2.27359668e+078,\n",
       "       3.60673495e+078, 5.72156756e+078, 9.07644607e+078, 1.43984795e+079,\n",
       "       2.28411221e+079, 3.62341632e+079, 5.74803016e+079, 9.11842520e+079,\n",
       "       1.44650734e+080, 2.29467637e+080, 3.64017485e+080, 5.77461515e+080,\n",
       "       9.16059848e+080, 1.45319752e+081, 2.30528939e+081, 3.65701088e+081,\n",
       "       5.80132310e+081, 9.20296681e+081, 1.45991865e+082, 2.31595149e+082,\n",
       "       3.67392478e+082, 5.82815458e+082, 9.24553110e+082, 1.46667087e+083,\n",
       "       2.32666291e+083, 3.69091691e+083, 5.85511016e+083, 9.28829225e+083,\n",
       "       1.47345431e+084, 2.33742387e+084, 3.70798763e+084, 5.88219040e+084,\n",
       "       9.33125118e+084, 1.48026913e+085, 2.34823460e+085, 3.72513730e+085,\n",
       "       5.90939590e+085, 9.37440879e+085, 1.48711546e+086, 2.35909533e+086,\n",
       "       3.74236629e+086, 5.93672722e+086, 9.41776601e+086, 1.49399346e+087,\n",
       "       2.37000629e+087, 3.75967497e+087, 5.96418495e+087, 9.46132376e+087,\n",
       "       1.50090328e+088, 2.38096772e+088, 3.77706369e+088, 5.99176967e+088,\n",
       "       9.50508296e+088, 1.50784505e+089, 2.39197984e+089, 3.79453285e+089,\n",
       "       6.01948197e+089, 9.54904456e+089, 1.51481892e+090, 2.40304289e+090,\n",
       "       3.81208280e+090, 6.04732245e+090, 9.59320948e+090, 1.52182505e+091,\n",
       "       2.41415712e+091, 3.82971391e+091, 6.07529169e+091, 9.63757866e+091,\n",
       "       1.52886359e+092, 2.42532274e+092, 3.84742658e+092, 6.10339029e+092,\n",
       "       9.68215306e+092, 1.53593468e+093, 2.43654001e+093, 3.86522116e+093,\n",
       "       6.13161884e+093, 9.72693362e+093, 1.54303847e+094, 2.44780916e+094,\n",
       "       3.88309805e+094, 6.15997796e+094, 9.77192128e+094, 1.55017512e+095,\n",
       "       2.45913043e+095, 3.90105762e+095, 6.18846824e+095, 9.81711702e+095,\n",
       "       1.55734477e+096, 2.47050406e+096, 3.91910025e+096, 6.21709029e+096,\n",
       "       9.86252179e+096, 1.56454759e+097, 2.48193029e+097, 3.93722633e+097,\n",
       "       6.24584471e+097, 9.90813657e+097, 1.57178372e+098, 2.49340937e+098,\n",
       "       3.95543624e+098, 6.27473213e+098, 9.95396231e+098, 1.57905331e+099,\n",
       "       2.50494154e+099, 3.97373038e+099, 6.30375315e+099, 1.00000000e+100])"
      ]
     },
     "execution_count": 61,
     "metadata": {},
     "output_type": "execute_result"
    }
   ],
   "source": [
    "np.logspace(0,100,500)"
   ]
  },
  {
   "cell_type": "code",
   "execution_count": 62,
   "id": "industrial-killing",
   "metadata": {},
   "outputs": [],
   "source": [
    "# Penalty Type\n",
    "penalty = ['l1', 'l2']\n",
    "# Use logarithmically spaced C values (recommended in official docs)\n",
    "C = np.logspace(0,100,500)"
   ]
  },
  {
   "cell_type": "code",
   "execution_count": 63,
   "id": "planned-spirit",
   "metadata": {},
   "outputs": [],
   "source": [
    "grid_model = GridSearchCV(log_model,param_grid={'C':C,'penalty':penalty})"
   ]
  },
  {
   "cell_type": "code",
   "execution_count": 64,
   "id": "measured-address",
   "metadata": {},
   "outputs": [
    {
     "data": {
      "text/plain": [
       "GridSearchCV(estimator=LogisticRegression(max_iter=500, multi_class='ovr',\n",
       "                                          solver='saga'),\n",
       "             param_grid={'C': array([1.00000000e+000, 1.58635653e+000, 2.51652705e+000, 3.99210913e+000,\n",
       "       6.33290840e+000, 1.00462506e+001, 1.59369353e+001, 2.52816614e+001,\n",
       "       4.01057288e+001, 6.36219849e+001, 1.00927151e+002, 1.60106446e+002,\n",
       "       2.53985907e+002, 4.02912203e+002, 6.39162405e+002...\n",
       "       2.45913043e+095, 3.90105762e+095, 6.18846824e+095, 9.81711702e+095,\n",
       "       1.55734477e+096, 2.47050406e+096, 3.91910025e+096, 6.21709029e+096,\n",
       "       9.86252179e+096, 1.56454759e+097, 2.48193029e+097, 3.93722633e+097,\n",
       "       6.24584471e+097, 9.90813657e+097, 1.57178372e+098, 2.49340937e+098,\n",
       "       3.95543624e+098, 6.27473213e+098, 9.95396231e+098, 1.57905331e+099,\n",
       "       2.50494154e+099, 3.97373038e+099, 6.30375315e+099, 1.00000000e+100]),\n",
       "                         'penalty': ['l1', 'l2']})"
      ]
     },
     "execution_count": 64,
     "metadata": {},
     "output_type": "execute_result"
    }
   ],
   "source": [
    "grid_model.fit(scaled_X_train,y_train)"
   ]
  },
  {
   "cell_type": "code",
   "execution_count": 65,
   "id": "mysterious-battlefield",
   "metadata": {},
   "outputs": [
    {
     "data": {
      "text/plain": [
       "{'C': 3.9921091297480524, 'penalty': 'l1'}"
      ]
     },
     "execution_count": 65,
     "metadata": {},
     "output_type": "execute_result"
    }
   ],
   "source": [
    "grid_model.best_params_"
   ]
  },
  {
   "cell_type": "code",
   "execution_count": 66,
   "id": "roman-engagement",
   "metadata": {},
   "outputs": [],
   "source": [
    "from sklearn.metrics import accuracy_score,confusion_matrix,classification_report,plot_confusion_matrix"
   ]
  },
  {
   "cell_type": "code",
   "execution_count": 67,
   "id": "shaped-voice",
   "metadata": {},
   "outputs": [],
   "source": [
    "y_pred = grid_model.predict(scaled_X_test)"
   ]
  },
  {
   "cell_type": "code",
   "execution_count": 68,
   "id": "curious-butter",
   "metadata": {},
   "outputs": [
    {
     "data": {
      "text/plain": [
       "0.8709677419354839"
      ]
     },
     "execution_count": 68,
     "metadata": {},
     "output_type": "execute_result"
    }
   ],
   "source": [
    "accuracy_score(y_test,y_pred)"
   ]
  },
  {
   "cell_type": "code",
   "execution_count": 69,
   "id": "pediatric-pension",
   "metadata": {},
   "outputs": [
    {
     "data": {
      "text/plain": [
       "array([[12,  3],\n",
       "       [ 1, 15]], dtype=int64)"
      ]
     },
     "execution_count": 69,
     "metadata": {},
     "output_type": "execute_result"
    }
   ],
   "source": [
    "confusion_matrix(y_test,y_pred)"
   ]
  },
  {
   "cell_type": "code",
   "execution_count": 70,
   "id": "organized-floor",
   "metadata": {},
   "outputs": [
    {
     "data": {
      "text/plain": [
       "<sklearn.metrics._plot.confusion_matrix.ConfusionMatrixDisplay at 0xc9bb788>"
      ]
     },
     "execution_count": 70,
     "metadata": {},
     "output_type": "execute_result"
    },
    {
     "data": {
      "image/png": "[encoded data removed]",
      "text/plain": [
       "<Figure size 432x288 with 2 Axes>"
      ]
     },
     "metadata": {
      "needs_background": "light"
     },
     "output_type": "display_data"
    }
   ],
   "source": [
    "plot_confusion_matrix(grid_model,scaled_X_test,y_test)"
   ]
  },
  {
   "cell_type": "code",
   "execution_count": 71,
   "id": "general-inflation",
   "metadata": {},
   "outputs": [
    {
     "name": "stdout",
     "output_type": "stream",
     "text": [
      "              precision    recall  f1-score   support\n",
      "\n",
      "           0       0.92      0.80      0.86        15\n",
      "           1       0.83      0.94      0.88        16\n",
      "\n",
      "    accuracy                           0.87        31\n",
      "   macro avg       0.88      0.87      0.87        31\n",
      "weighted avg       0.88      0.87      0.87        31\n",
      "\n"
     ]
    }
   ],
   "source": [
    "print(classification_report(y_test,y_pred))"
   ]
  },
  {
   "cell_type": "code",
   "execution_count": 72,
   "id": "difficult-course",
   "metadata": {},
   "outputs": [],
   "source": [
    "from sklearn.metrics import precision_recall_curve,plot_precision_recall_curve,plot_roc_curve"
   ]
  },
  {
   "cell_type": "code",
   "execution_count": 73,
   "id": "right-tenant",
   "metadata": {},
   "outputs": [
    {
     "data": {
      "text/plain": [
       "<sklearn.metrics._plot.precision_recall_curve.PrecisionRecallDisplay at 0x5605908>"
      ]
     },
     "execution_count": 73,
     "metadata": {},
     "output_type": "execute_result"
    },
    {
     "data": {
      "image/png": "[encoded data removed]",
      "text/plain": [
       "<Figure size 432x288 with 1 Axes>"
      ]
     },
     "metadata": {
      "needs_background": "light"
     },
     "output_type": "display_data"
    }
   ],
   "source": [
    "plot_precision_recall_curve(grid_model,scaled_X_test,y_test)"
   ]
  },
  {
   "cell_type": "code",
   "execution_count": 74,
   "id": "italic-glass",
   "metadata": {
    "scrolled": true
   },
   "outputs": [
    {
     "data": {
      "text/plain": [
       "<sklearn.metrics._plot.roc_curve.RocCurveDisplay at 0x564fe88>"
      ]
     },
     "execution_count": 74,
     "metadata": {},
     "output_type": "execute_result"
    },
    {
     "data": {
      "image/png": "[encoded data removed]",
      "text/plain": [
       "<Figure size 432x288 with 1 Axes>"
      ]
     },
     "metadata": {
      "needs_background": "light"
     },
     "output_type": "display_data"
    }
   ],
   "source": [
    "plot_roc_curve(grid_model,scaled_X_test,y_test)"
   ]
  },
  {
   "cell_type": "code",
   "execution_count": null,
   "id": "after-murray",
   "metadata": {},
   "outputs": [],
   "source": []
  },
  {
   "cell_type": "code",
   "execution_count": null,
   "id": "surprised-independence",
   "metadata": {},
   "outputs": [],
   "source": []
  },
  {
   "cell_type": "code",
   "execution_count": null,
   "id": "southern-prague",
   "metadata": {},
   "outputs": [],
   "source": []
  }
 ],
 "metadata": {
  "kernelspec": {
   "display_name": "Python 3",
   "language": "python",
   "name": "python3"
  },
  "language_info": {
   "codemirror_mode": {
    "name": "ipython",
    "version": 3
   },
   "file_extension": ".py",
   "mimetype": "text/x-python",
   "name": "python",
   "nbconvert_exporter": "python",
   "pygments_lexer": "ipython3",
   "version": "3.7.10"
  }
 },
 "nbformat": 4,
 "nbformat_minor": 5
}
