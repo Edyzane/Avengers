{
 "cells": [
  {
   "cell_type": "markdown",
   "metadata": {},
   "source": [
    "# train new model with selected features and revert log transformation"
   ]
  },
  {
   "cell_type": "code",
   "execution_count": 1,
   "metadata": {},
   "outputs": [],
   "source": [
    "#importing libraries\n",
    "from sklearn.datasets import load_boston\n",
    "import pandas as pd\n",
    "import numpy as np\n",
    "import matplotlib\n",
    "import matplotlib.pyplot as plt\n",
    "import seaborn as sns\n",
    "\n",
    "%matplotlib inline\n",
    "from sklearn.model_selection import train_test_split\n",
    "from sklearn.linear_model import LinearRegression\n",
    "from sklearn.feature_selection import RFE\n",
    "from sklearn.linear_model import RidgeCV, LassoCV, Ridge, Lasso\n",
    "from sklearn.metrics import mean_squared_error, mean_absolute_error,r2_score\n",
    "import scipy as sp\n",
    "from joblib import dump\n",
    "from sklearn.linear_model import ElasticNet\n",
    "from sklearn.model_selection import GridSearchCV\n",
    "from sklearn.preprocessing import StandardScaler\n",
    "from sklearn.metrics import r2_score"
   ]
  },
  {
   "cell_type": "code",
   "execution_count": 2,
   "metadata": {},
   "outputs": [],
   "source": [
    "df = pd.read_csv(\"cs1_part3_res.csv\")"
   ]
  },
  {
   "cell_type": "code",
   "execution_count": 3,
   "metadata": {},
   "outputs": [],
   "source": [
    "#include saleprice here\n",
    "df = df[['lot_area', 'year_built', 'year_remod/add', 'mas_vnr_area',\n",
    "       'bsmtfin_sf_1', 'total_bsmt_sf', '2nd_flr_sf', 'gr_liv_area',\n",
    "       'garage_yr_blt', 'garage_area', 'wood_deck_sf', 'open_porch_sf',\n",
    "       'screen_porch','saleprice']]"
   ]
  },
  {
   "cell_type": "code",
   "execution_count": 4,
   "metadata": {},
   "outputs": [
    {
     "name": "stderr",
     "output_type": "stream",
     "text": [
      "C:\\Users\\Asus\\anaconda3\\lib\\site-packages\\seaborn\\distributions.py:2551: FutureWarning: `distplot` is a deprecated function and will be removed in a future version. Please adapt your code to use either `displot` (a figure-level function with similar flexibility) or `histplot` (an axes-level function for histograms).\n",
      "  warnings.warn(msg, FutureWarning)\n"
     ]
    },
    {
     "data": {
      "image/png": "[encoded data removed]",
      "text/plain": [
       "<Figure size 432x288 with 1 Axes>"
      ]
     },
     "metadata": {
      "needs_background": "light"
     },
     "output_type": "display_data"
    }
   ],
   "source": [
    "sns.distplot(df.saleprice);"
   ]
  },
  {
   "cell_type": "markdown",
   "metadata": {},
   "source": [
    "# result of testing with deployment\n",
    "\n",
    "index,actual,predicted,difference\n",
    "\n",
    "2906, 70999.98292913866, 113441.06, 42442\n",
    "\n",
    "2907, 150899.95900937598, 213214.95, 62315\n",
    "\n",
    "2908, 188000.08254244438, 224813.55, 36813\n",
    "\n",
    "2909, 159999.94492823596, 161209.56, 1210\n",
    "\n",
    "2910, 130999.96911757377, 162663.79, 31664\n",
    "\n",
    "2911, 142499.9577897737, 151870.90, 9371\n",
    "\n",
    "2912, 130999.96911757377, 132991.46, 1992\n",
    "\n",
    "2913, 132000.0293969709, 116182.95, -15818\n",
    "\n",
    "2914, 170000.0682778486, 177016.31, 7016\n",
    "\n",
    "2915, 188000.08254244438, 232543.53, 44543"
   ]
  },
  {
   "cell_type": "code",
   "execution_count": 5,
   "metadata": {},
   "outputs": [
    {
     "data": {
      "text/html": [
       "<div>\n",
       "<style scoped>\n",
       "    .dataframe tbody tr th:only-of-type {\n",
       "        vertical-align: middle;\n",
       "    }\n",
       "\n",
       "    .dataframe tbody tr th {\n",
       "        vertical-align: top;\n",
       "    }\n",
       "\n",
       "    .dataframe thead th {\n",
       "        text-align: right;\n",
       "    }\n",
       "</style>\n",
       "<table border=\"1\" class=\"dataframe\">\n",
       "  <thead>\n",
       "    <tr style=\"text-align: right;\">\n",
       "      <th></th>\n",
       "      <th>lot_area</th>\n",
       "      <th>year_built</th>\n",
       "      <th>year_remod/add</th>\n",
       "      <th>mas_vnr_area</th>\n",
       "      <th>bsmtfin_sf_1</th>\n",
       "      <th>total_bsmt_sf</th>\n",
       "      <th>2nd_flr_sf</th>\n",
       "      <th>gr_liv_area</th>\n",
       "      <th>garage_yr_blt</th>\n",
       "      <th>garage_area</th>\n",
       "      <th>wood_deck_sf</th>\n",
       "      <th>open_porch_sf</th>\n",
       "      <th>screen_porch</th>\n",
       "      <th>saleprice</th>\n",
       "    </tr>\n",
       "  </thead>\n",
       "  <tbody>\n",
       "    <tr>\n",
       "      <th>2903</th>\n",
       "      <td>1894</td>\n",
       "      <td>1970</td>\n",
       "      <td>1970</td>\n",
       "      <td>0.0</td>\n",
       "      <td>252.0</td>\n",
       "      <td>546.0</td>\n",
       "      <td>546</td>\n",
       "      <td>1092</td>\n",
       "      <td>1970.0</td>\n",
       "      <td>286.0</td>\n",
       "      <td>0</td>\n",
       "      <td>24</td>\n",
       "      <td>0</td>\n",
       "      <td>11.170449</td>\n",
       "    </tr>\n",
       "    <tr>\n",
       "      <th>2904</th>\n",
       "      <td>12640</td>\n",
       "      <td>1976</td>\n",
       "      <td>1976</td>\n",
       "      <td>0.0</td>\n",
       "      <td>936.0</td>\n",
       "      <td>1728.0</td>\n",
       "      <td>0</td>\n",
       "      <td>1728</td>\n",
       "      <td>1976.0</td>\n",
       "      <td>574.0</td>\n",
       "      <td>40</td>\n",
       "      <td>0</td>\n",
       "      <td>0</td>\n",
       "      <td>11.924379</td>\n",
       "    </tr>\n",
       "    <tr>\n",
       "      <th>2905</th>\n",
       "      <td>9297</td>\n",
       "      <td>1976</td>\n",
       "      <td>1976</td>\n",
       "      <td>0.0</td>\n",
       "      <td>1606.0</td>\n",
       "      <td>1728.0</td>\n",
       "      <td>0</td>\n",
       "      <td>1728</td>\n",
       "      <td>1976.0</td>\n",
       "      <td>560.0</td>\n",
       "      <td>0</td>\n",
       "      <td>0</td>\n",
       "      <td>0</td>\n",
       "      <td>12.144203</td>\n",
       "    </tr>\n",
       "    <tr>\n",
       "      <th>2906</th>\n",
       "      <td>17400</td>\n",
       "      <td>1977</td>\n",
       "      <td>1977</td>\n",
       "      <td>0.0</td>\n",
       "      <td>936.0</td>\n",
       "      <td>1126.0</td>\n",
       "      <td>0</td>\n",
       "      <td>1126</td>\n",
       "      <td>1977.0</td>\n",
       "      <td>484.0</td>\n",
       "      <td>295</td>\n",
       "      <td>41</td>\n",
       "      <td>0</td>\n",
       "      <td>11.982935</td>\n",
       "    </tr>\n",
       "    <tr>\n",
       "      <th>2907</th>\n",
       "      <td>20000</td>\n",
       "      <td>1960</td>\n",
       "      <td>1996</td>\n",
       "      <td>0.0</td>\n",
       "      <td>1224.0</td>\n",
       "      <td>1224.0</td>\n",
       "      <td>0</td>\n",
       "      <td>1224</td>\n",
       "      <td>1960.0</td>\n",
       "      <td>576.0</td>\n",
       "      <td>474</td>\n",
       "      <td>0</td>\n",
       "      <td>0</td>\n",
       "      <td>11.782960</td>\n",
       "    </tr>\n",
       "    <tr>\n",
       "      <th>2908</th>\n",
       "      <td>7937</td>\n",
       "      <td>1984</td>\n",
       "      <td>1984</td>\n",
       "      <td>0.0</td>\n",
       "      <td>819.0</td>\n",
       "      <td>1003.0</td>\n",
       "      <td>0</td>\n",
       "      <td>1003</td>\n",
       "      <td>1984.0</td>\n",
       "      <td>588.0</td>\n",
       "      <td>120</td>\n",
       "      <td>0</td>\n",
       "      <td>0</td>\n",
       "      <td>11.867104</td>\n",
       "    </tr>\n",
       "    <tr>\n",
       "      <th>2909</th>\n",
       "      <td>8885</td>\n",
       "      <td>1983</td>\n",
       "      <td>1983</td>\n",
       "      <td>0.0</td>\n",
       "      <td>301.0</td>\n",
       "      <td>864.0</td>\n",
       "      <td>0</td>\n",
       "      <td>902</td>\n",
       "      <td>1983.0</td>\n",
       "      <td>484.0</td>\n",
       "      <td>164</td>\n",
       "      <td>0</td>\n",
       "      <td>0</td>\n",
       "      <td>11.782960</td>\n",
       "    </tr>\n",
       "    <tr>\n",
       "      <th>2910</th>\n",
       "      <td>10441</td>\n",
       "      <td>1992</td>\n",
       "      <td>1992</td>\n",
       "      <td>0.0</td>\n",
       "      <td>337.0</td>\n",
       "      <td>912.0</td>\n",
       "      <td>0</td>\n",
       "      <td>970</td>\n",
       "      <td>0.0</td>\n",
       "      <td>0.0</td>\n",
       "      <td>80</td>\n",
       "      <td>32</td>\n",
       "      <td>0</td>\n",
       "      <td>11.790565</td>\n",
       "    </tr>\n",
       "    <tr>\n",
       "      <th>2911</th>\n",
       "      <td>10010</td>\n",
       "      <td>1974</td>\n",
       "      <td>1975</td>\n",
       "      <td>0.0</td>\n",
       "      <td>1071.0</td>\n",
       "      <td>1389.0</td>\n",
       "      <td>0</td>\n",
       "      <td>1389</td>\n",
       "      <td>1975.0</td>\n",
       "      <td>418.0</td>\n",
       "      <td>240</td>\n",
       "      <td>38</td>\n",
       "      <td>0</td>\n",
       "      <td>12.043560</td>\n",
       "    </tr>\n",
       "    <tr>\n",
       "      <th>2912</th>\n",
       "      <td>9627</td>\n",
       "      <td>1993</td>\n",
       "      <td>1994</td>\n",
       "      <td>94.0</td>\n",
       "      <td>758.0</td>\n",
       "      <td>996.0</td>\n",
       "      <td>1004</td>\n",
       "      <td>2000</td>\n",
       "      <td>1993.0</td>\n",
       "      <td>650.0</td>\n",
       "      <td>190</td>\n",
       "      <td>48</td>\n",
       "      <td>0</td>\n",
       "      <td>12.144203</td>\n",
       "    </tr>\n",
       "  </tbody>\n",
       "</table>\n",
       "</div>"
      ],
      "text/plain": [
       "      lot_area  year_built  year_remod/add  mas_vnr_area  bsmtfin_sf_1  \\\n",
       "2903      1894        1970            1970           0.0         252.0   \n",
       "2904     12640        1976            1976           0.0         936.0   \n",
       "2905      9297        1976            1976           0.0        1606.0   \n",
       "2906     17400        1977            1977           0.0         936.0   \n",
       "2907     20000        1960            1996           0.0        1224.0   \n",
       "2908      7937        1984            1984           0.0         819.0   \n",
       "2909      8885        1983            1983           0.0         301.0   \n",
       "2910     10441        1992            1992           0.0         337.0   \n",
       "2911     10010        1974            1975           0.0        1071.0   \n",
       "2912      9627        1993            1994          94.0         758.0   \n",
       "\n",
       "      total_bsmt_sf  2nd_flr_sf  gr_liv_area  garage_yr_blt  garage_area  \\\n",
       "2903          546.0         546         1092         1970.0        286.0   \n",
       "2904         1728.0           0         1728         1976.0        574.0   \n",
       "2905         1728.0           0         1728         1976.0        560.0   \n",
       "2906         1126.0           0         1126         1977.0        484.0   \n",
       "2907         1224.0           0         1224         1960.0        576.0   \n",
       "2908         1003.0           0         1003         1984.0        588.0   \n",
       "2909          864.0           0          902         1983.0        484.0   \n",
       "2910          912.0           0          970            0.0          0.0   \n",
       "2911         1389.0           0         1389         1975.0        418.0   \n",
       "2912          996.0        1004         2000         1993.0        650.0   \n",
       "\n",
       "      wood_deck_sf  open_porch_sf  screen_porch  saleprice  \n",
       "2903             0             24             0  11.170449  \n",
       "2904            40              0             0  11.924379  \n",
       "2905             0              0             0  12.144203  \n",
       "2906           295             41             0  11.982935  \n",
       "2907           474              0             0  11.782960  \n",
       "2908           120              0             0  11.867104  \n",
       "2909           164              0             0  11.782960  \n",
       "2910            80             32             0  11.790565  \n",
       "2911           240             38             0  12.043560  \n",
       "2912           190             48             0  12.144203  "
      ]
     },
     "execution_count": 5,
     "metadata": {},
     "output_type": "execute_result"
    }
   ],
   "source": [
    "df.tail(10)"
   ]
  },
  {
   "cell_type": "code",
   "execution_count": 6,
   "metadata": {},
   "outputs": [
    {
     "name": "stdout",
     "output_type": "stream",
     "text": [
      "150899.95900937598\n"
     ]
    }
   ],
   "source": [
    "#testing purpose\n",
    "x = np.expm1(11.924379)\n",
    "print(x)"
   ]
  },
  {
   "cell_type": "code",
   "execution_count": 7,
   "metadata": {},
   "outputs": [],
   "source": [
    "#Create  and y \n",
    "X = df.drop('saleprice',axis=1)\n",
    "y = df['saleprice']"
   ]
  },
  {
   "cell_type": "code",
   "execution_count": 8,
   "metadata": {},
   "outputs": [],
   "source": [
    "##Log transformation of sale price for whole training set\n",
    "#decide to disable this and put it in the deployment instead\n",
    "#x = np.expm1(y)\n",
    "#df['saleprice'] = x"
   ]
  },
  {
   "cell_type": "code",
   "execution_count": 9,
   "metadata": {},
   "outputs": [],
   "source": [
    "from sklearn.model_selection import train_test_split\n",
    "X_train,X_test, y_train, y_test = train_test_split(X,y, test_size = 0.2)"
   ]
  },
  {
   "cell_type": "code",
   "execution_count": 10,
   "metadata": {},
   "outputs": [],
   "source": [
    "from sklearn.preprocessing import StandardScaler\n",
    "scaler = StandardScaler()\n",
    "scaler.fit(X_train)\n",
    "X_train = scaler.transform(X_train)\n",
    "X_test = scaler.transform(X_test)"
   ]
  },
  {
   "cell_type": "code",
   "execution_count": 11,
   "metadata": {},
   "outputs": [],
   "source": [
    "lasso_model = LassoCV()"
   ]
  },
  {
   "cell_type": "code",
   "execution_count": 12,
   "metadata": {},
   "outputs": [
    {
     "data": {
      "text/plain": [
       "LassoCV()"
      ]
     },
     "execution_count": 12,
     "metadata": {},
     "output_type": "execute_result"
    }
   ],
   "source": [
    "lasso_model.fit(X_train,y_train)"
   ]
  },
  {
   "cell_type": "code",
   "execution_count": 13,
   "metadata": {},
   "outputs": [],
   "source": [
    "pred_test_lasso = lasso_model.predict(X_test)"
   ]
  },
  {
   "cell_type": "code",
   "execution_count": 14,
   "metadata": {},
   "outputs": [],
   "source": [
    "#pred_test_lasso[pred_test_lasso<0] = 0"
   ]
  },
  {
   "cell_type": "code",
   "execution_count": 15,
   "metadata": {},
   "outputs": [
    {
     "data": {
      "text/plain": [
       "array([12.6193591 , 11.67760665, 11.83961178, 12.34851976, 11.59447998,\n",
       "       11.70680715, 12.24777051, 12.33606309, 12.4885195 , 12.09046517,\n",
       "       12.03694024, 12.24356097, 12.45449505, 11.97045654, 12.10162522,\n",
       "       11.8809848 , 12.06863891, 12.16444891, 11.0493892 , 12.32858721,\n",
       "       11.50809852, 12.59403474, 11.83852253, 12.04248878, 12.62497726,\n",
       "       12.19248218, 12.02384995, 12.71662671, 12.20974291, 12.06203256,\n",
       "       11.45622801, 11.80433001, 12.56064502, 11.61207969, 11.76911935,\n",
       "       12.01866436, 12.2215481 , 11.95555041, 11.99430813, 11.18142103,\n",
       "       11.5592833 , 11.39660128, 12.17692926, 12.24530504, 13.02685018,\n",
       "       12.13515214, 12.35897364, 12.47287819, 11.63921828, 11.93776692,\n",
       "       12.44825133, 12.05279485, 12.14434072, 12.57138672, 11.45375834,\n",
       "       12.47790863, 12.01677429, 12.37092386, 12.69595754, 11.89025617,\n",
       "       11.82872366, 12.4164611 , 12.10283058, 11.62865905, 12.12129815,\n",
       "       12.35856118, 11.97503266, 12.22198238, 12.50941341, 11.77099521,\n",
       "       12.19097309, 11.64862073, 12.26187513, 11.95858339, 11.59600949,\n",
       "       11.97457686, 12.163961  , 12.51881147, 11.79670319, 12.38319956,\n",
       "       12.22674582, 11.98813247, 11.46355224, 11.52408988, 12.44969405,\n",
       "       12.01706613, 12.06732959, 11.8101014 , 11.58531141, 12.10400135,\n",
       "       12.12455576, 11.97594354, 12.71102083, 11.95994815, 11.55807628,\n",
       "       11.57237126, 11.88180503, 12.06136295, 11.70282027, 12.07139992,\n",
       "       11.73542525, 11.8062305 , 12.39079733, 12.20936725, 11.80823902,\n",
       "       11.80334775, 12.03570554, 12.29992956, 11.74850905, 11.53341892,\n",
       "       11.67286003, 11.83910602, 12.47565336, 12.1527415 , 11.86319925,\n",
       "       11.9296061 , 12.26874758, 11.58393294, 12.10030124, 11.92145973,\n",
       "       12.06076713, 12.23296524, 12.37285668, 11.86357081, 11.84656178,\n",
       "       11.47326939, 12.04340101, 12.424144  , 12.02389526, 12.02310961,\n",
       "       12.11089548, 11.55856662, 12.75622389, 11.65522036, 13.30259744,\n",
       "       11.98592725, 11.67035682, 11.87991257, 12.05396704, 11.61436339,\n",
       "       12.25662929, 12.19426858, 12.50864014, 11.3716648 , 11.62932678,\n",
       "       12.69306311, 11.40665085, 11.89903383, 12.15923613, 11.80073614,\n",
       "       11.40759807, 11.71588065, 12.45830064, 12.06060425, 11.88647369,\n",
       "       12.36940788, 12.70656407, 11.67950787, 12.3949542 , 11.87175924,\n",
       "       11.85277743, 12.15164613, 12.39418982, 11.83249118, 12.16787791,\n",
       "       11.95888881, 13.13029695, 12.0431395 , 12.4590288 , 11.65922953,\n",
       "       12.07305392, 11.70154749, 12.34412734, 12.11622228, 11.49762351,\n",
       "       11.54587611, 11.43510075, 12.4082139 , 11.63026015, 12.57653108,\n",
       "       12.16720775, 12.55812671, 12.62959139, 12.03817969, 11.68812082,\n",
       "       11.17100194, 12.20048792, 11.61516369, 12.15373088, 11.87296122,\n",
       "       11.75949375, 12.0707316 , 12.27152383, 12.10888353, 11.66213474,\n",
       "       11.80494027, 12.32640973, 11.74450226, 12.17841272, 11.69957154,\n",
       "       12.6246466 , 11.71174109, 12.48863551, 11.66510126, 11.6183455 ,\n",
       "       12.12136608, 12.82867972, 11.66361075, 11.79490853, 12.39830319,\n",
       "       13.08998883, 12.19633133, 12.36453942, 11.90461788, 12.45703541,\n",
       "       12.30848322, 12.23146666, 11.4136548 , 12.31026557, 11.86140466,\n",
       "       11.79162037, 12.42031446, 12.29874138, 11.82645114, 11.59571683,\n",
       "       11.48664709, 11.49290855, 12.44276128, 12.11074897, 11.62217337,\n",
       "       13.33927278, 11.86087865, 11.92480434, 12.73729818, 11.93036359,\n",
       "       12.13194293, 12.26064663, 12.68542214, 12.06663044, 11.8553858 ,\n",
       "       12.18336823, 12.11668967, 11.84019658, 12.47965351, 11.83079513,\n",
       "       11.90081913, 12.02259286, 11.59260381, 11.6182996 , 11.77172492,\n",
       "       11.79513205, 12.07524741, 11.59215209, 11.58997669, 11.71647289,\n",
       "       11.65238934, 12.08050343, 12.10046163, 11.81090076, 12.30193987,\n",
       "       12.27006001, 11.84771517, 12.23958706, 11.54157025, 12.0669833 ,\n",
       "       12.61845744, 12.97686264, 11.74942961, 12.19536096, 12.15466948,\n",
       "       12.27296017, 12.43365154, 12.2481764 , 12.36365353, 11.72684846,\n",
       "       11.97527539, 12.35082076, 12.7251845 , 11.96938146, 12.43258309,\n",
       "       11.67961481, 12.26757411, 12.1784501 , 12.38958652, 11.77656887,\n",
       "       11.19068528, 11.7175338 , 11.58382747, 12.1142709 , 12.7689332 ,\n",
       "       11.68254666, 12.50200009, 11.45184281, 11.63933715, 12.35248767,\n",
       "       12.0089294 , 11.84548796, 12.28530521, 11.78443271, 13.03779638,\n",
       "       11.50912611, 11.7203412 , 10.96132157, 12.26843955, 12.38005767,\n",
       "       12.16733728, 12.10149417, 12.90083895, 12.38552872, 11.71352603,\n",
       "       11.77819855, 12.21317793, 11.47919009, 12.66233573, 12.70119199,\n",
       "       11.78071873, 11.86451367, 12.26196478, 12.1911121 , 11.68509647,\n",
       "       11.47159288, 12.45309737, 12.17157673, 11.60223367, 12.50769019,\n",
       "       12.31377612, 12.14714538, 12.65540602, 11.89279971, 11.82273526,\n",
       "       11.99650693, 11.60453504, 11.65379067, 12.20129231, 11.85954877,\n",
       "       12.36903282, 11.95642612, 11.5602223 , 12.8073917 , 11.76104305,\n",
       "       12.20320904, 12.35772325, 11.44146709, 12.02234582, 12.65085791,\n",
       "       12.41228758, 11.7956522 , 12.77388393, 11.61687746, 11.85107902,\n",
       "       11.61617282, 11.61338231, 12.27360882, 11.79797984, 11.85090627,\n",
       "       12.0523504 , 12.25755406, 11.78335667, 12.11470768, 11.77400833,\n",
       "       11.6843318 , 11.96169267, 12.76053297, 12.24681136, 11.46488069,\n",
       "       12.4247872 , 11.39197199, 11.81893283, 12.42248869, 12.02570755,\n",
       "       12.1380351 , 11.50208731, 11.68647407, 12.1810697 , 11.74179948,\n",
       "       12.06674035, 11.79838203, 12.77985086, 12.01868803, 12.17485227,\n",
       "       11.93087112, 11.70948681, 11.32775056, 12.59346853, 11.61464547,\n",
       "       12.62214635, 12.26693974, 11.88311888, 11.79978393, 12.08331102,\n",
       "       12.67238269, 12.31430332, 11.99542554, 12.25960802, 11.33820833,\n",
       "       11.62508835, 11.73240689, 11.68490731, 12.24146274, 12.21640049,\n",
       "       12.57213902, 11.67333954, 11.63669132, 12.09933385, 12.28488194,\n",
       "       12.65047041, 11.47351621, 11.823187  , 11.84866313, 12.1211868 ,\n",
       "       11.71818564, 11.64300641, 12.15901356, 11.12039495, 11.74224124,\n",
       "       11.72764127, 11.76465696, 12.35945572, 11.93032765, 11.66485432,\n",
       "       12.67265937, 12.25188998, 11.74592125, 12.56372247, 12.73148988,\n",
       "       12.38787617, 12.38090165, 11.45745501, 12.21319999, 12.15914909,\n",
       "       11.83613213, 12.32534707, 11.68897036, 12.12377446, 11.87931542,\n",
       "       12.43196249, 12.26983604, 11.85051458, 11.70165709, 12.03424558,\n",
       "       12.01804106, 12.57258334, 11.48509585, 12.39990064, 12.07370757,\n",
       "       12.29321973, 11.85819772, 12.77348173, 11.90175723, 12.02274114,\n",
       "       12.00911573, 12.52863486, 12.03115805, 11.87480025, 11.51310547,\n",
       "       11.76424971, 11.61768983, 11.6287704 , 11.32666369, 12.06302321,\n",
       "       12.08765158, 12.24759384, 11.78167212, 11.65998214, 11.54925742,\n",
       "       12.6497568 , 11.71219714, 11.58886976, 12.01090616, 12.11345583,\n",
       "       11.72238506, 11.92828449, 12.6714313 , 12.03901058, 11.77238215,\n",
       "       11.73424116, 11.93478302, 12.25660193, 11.66143656, 12.00048536,\n",
       "       11.53667535, 12.12830739, 11.97608572, 12.36096249, 12.07661415,\n",
       "       11.89683747, 11.27963921, 13.01951264, 12.29187147, 12.52708376,\n",
       "       12.18916779, 12.16875921, 11.80636612, 11.50483707, 12.05910999,\n",
       "       11.95320818, 11.8804101 , 11.65811337, 12.33331271, 11.9274093 ,\n",
       "       11.64731028, 11.80798023, 11.42692082, 12.21746819, 12.09043563,\n",
       "       12.30084197, 12.3067258 , 11.79725946, 11.83851256, 11.88984123,\n",
       "       11.86028606, 12.56612651, 11.73850907, 11.79385694, 12.5838307 ,\n",
       "       12.4010681 , 11.83239453, 12.34274928, 12.03919925, 11.9050666 ,\n",
       "       11.31911067, 11.80049506, 12.09275948, 11.43715364, 11.76858542,\n",
       "       12.19455584, 12.05234831, 12.09767196, 11.70421054, 11.58769213,\n",
       "       12.30709378, 12.23588281, 11.88687811, 12.01471385, 12.05177037,\n",
       "       12.42912979, 11.81500172, 11.74040837, 11.96398361, 12.14188566,\n",
       "       12.09246712, 11.71129107, 12.46897069, 11.89455776, 12.05651344,\n",
       "       11.79986987, 11.62669855, 11.75707648, 12.17530254, 11.68914054,\n",
       "       11.85311366, 11.63513054, 11.66812141, 11.59053637, 12.42598076,\n",
       "       11.98316049, 12.70737862, 12.32791346, 12.17520151, 12.9555967 ,\n",
       "       11.90093164, 12.79591973, 12.02505592, 12.36539118, 12.22797476,\n",
       "       11.41538987, 12.07552115, 12.12560569, 11.81916516, 11.96900581,\n",
       "       11.55543778, 12.1120686 , 11.34464069, 11.77262728, 12.02888494,\n",
       "       12.5966666 , 12.10845558, 12.08322339, 11.67237857, 12.21525939,\n",
       "       11.95573878, 11.9295299 , 11.66798888])"
      ]
     },
     "execution_count": 15,
     "metadata": {},
     "output_type": "execute_result"
    }
   ],
   "source": [
    "pred_test_lasso"
   ]
  },
  {
   "cell_type": "code",
   "execution_count": 16,
   "metadata": {},
   "outputs": [],
   "source": [
    "MAE_Lasso = mean_absolute_error(y_test,pred_test_lasso)\n",
    "MSE_Lasso = mean_squared_error(y_test,pred_test_lasso)\n",
    "RMSE_Lasso = np.sqrt(MSE_Lasso)"
   ]
  },
  {
   "cell_type": "code",
   "execution_count": 17,
   "metadata": {},
   "outputs": [
    {
     "data": {
      "text/plain": [
       "0.1103512524862837"
      ]
     },
     "execution_count": 17,
     "metadata": {},
     "output_type": "execute_result"
    }
   ],
   "source": [
    "MAE_Lasso"
   ]
  },
  {
   "cell_type": "code",
   "execution_count": 18,
   "metadata": {},
   "outputs": [
    {
     "data": {
      "text/plain": [
       "0.024289205587208113"
      ]
     },
     "execution_count": 18,
     "metadata": {},
     "output_type": "execute_result"
    }
   ],
   "source": [
    "MSE_Lasso"
   ]
  },
  {
   "cell_type": "code",
   "execution_count": 19,
   "metadata": {},
   "outputs": [
    {
     "data": {
      "text/plain": [
       "0.15584994574015132"
      ]
     },
     "execution_count": 19,
     "metadata": {},
     "output_type": "execute_result"
    }
   ],
   "source": [
    "RMSE_Lasso"
   ]
  },
  {
   "cell_type": "code",
   "execution_count": 20,
   "metadata": {},
   "outputs": [],
   "source": [
    "def MAPE(y_test,pred_test_lasso):\n",
    "    mape = np.mean(np.abs((y_test - pred_test_lasso)/y_test))*100\n",
    "    return mape"
   ]
  },
  {
   "cell_type": "code",
   "execution_count": 21,
   "metadata": {},
   "outputs": [],
   "source": [
    "LR_MAPElassocv= MAPE(y_test,pred_test_lasso)"
   ]
  },
  {
   "cell_type": "code",
   "execution_count": 22,
   "metadata": {},
   "outputs": [
    {
     "name": "stdout",
     "output_type": "stream",
     "text": [
      "lassocv MAPE:  0.9261302020839227\n"
     ]
    }
   ],
   "source": [
    "print(\"lassocv MAPE: \",LR_MAPElassocv)"
   ]
  },
  {
   "cell_type": "code",
   "execution_count": 23,
   "metadata": {},
   "outputs": [
    {
     "data": {
      "text/plain": [
       "86.0"
      ]
     },
     "execution_count": 23,
     "metadata": {},
     "output_type": "execute_result"
    }
   ],
   "source": [
    "accuracy= round(r2_score(y_test, pred_test_lasso), 2)\n",
    "accuracy = accuracy * 100\n",
    "accuracy"
   ]
  },
  {
   "cell_type": "code",
   "execution_count": 24,
   "metadata": {},
   "outputs": [],
   "source": [
    "test_pred=y_test-pred_test_lasso"
   ]
  },
  {
   "cell_type": "code",
   "execution_count": 33,
   "metadata": {},
   "outputs": [
    {
     "data": {
      "image/png": "[encoded data removed]",
      "text/plain": [
       "<Figure size 432x288 with 1 Axes>"
      ]
     },
     "metadata": {
      "needs_background": "light"
     },
     "output_type": "display_data"
    }
   ],
   "source": [
    "sns.scatterplot(x=y_test,y=test_pred)\n",
    "plt.axhline(y=0,color='magenta',linestyle='--')\n",
    "plt.title('Residual Plot');"
   ]
  },
  {
   "cell_type": "code",
   "execution_count": 26,
   "metadata": {},
   "outputs": [
    {
     "data": {
      "image/png": "[encoded data removed]",
      "text/plain": [
       "<Figure size 1000x1200 with 1 Axes>"
      ]
     },
     "metadata": {
      "needs_background": "light"
     },
     "output_type": "display_data"
    }
   ],
   "source": [
    "fig,ax = plt.subplots(figsize=(10,12),dpi=100)\n",
    "\n",
    "_=sp.stats.probplot(test_pred,plot=ax)"
   ]
  },
  {
   "cell_type": "code",
   "execution_count": 34,
   "metadata": {},
   "outputs": [
    {
     "data": {
      "image/png": "[encoded data removed]",
      "text/plain": [
       "<Figure size 360x360 with 1 Axes>"
      ]
     },
     "metadata": {
      "needs_background": "light"
     },
     "output_type": "display_data"
    }
   ],
   "source": [
    "sns.displot(test_pred,bins=15,kde=True)\n",
    "plt.title('Distribution Plot');"
   ]
  },
  {
   "cell_type": "code",
   "execution_count": 28,
   "metadata": {},
   "outputs": [
    {
     "data": {
      "text/plain": [
       "array([0.01947593, 0.08326472, 0.07444425, 0.01149489, 0.04124271,\n",
       "       0.07681712, 0.        , 0.16129389, 0.02845369, 0.04045917,\n",
       "       0.01239252, 0.00790466, 0.01909249])"
      ]
     },
     "execution_count": 28,
     "metadata": {},
     "output_type": "execute_result"
    }
   ],
   "source": [
    "lasso_model.coef_"
   ]
  },
  {
   "cell_type": "code",
   "execution_count": 29,
   "metadata": {},
   "outputs": [
    {
     "data": {
      "text/plain": [
       "['cs1_Ames_Housing_scaler.pkl']"
      ]
     },
     "execution_count": 29,
     "metadata": {},
     "output_type": "execute_result"
    }
   ],
   "source": [
    "dump(scaler,\"cs1_Ames_Housing_scaler.pkl\")"
   ]
  },
  {
   "cell_type": "code",
   "execution_count": 30,
   "metadata": {},
   "outputs": [
    {
     "data": {
      "text/plain": [
       "['cs1_Ames_Housing_model.h5']"
      ]
     },
     "execution_count": 30,
     "metadata": {},
     "output_type": "execute_result"
    }
   ],
   "source": [
    "dump(lasso_model,\"cs1_Ames_Housing_model.h5\")"
   ]
  },
  {
   "cell_type": "code",
   "execution_count": 31,
   "metadata": {},
   "outputs": [
    {
     "name": "stdout",
     "output_type": "stream",
     "text": [
      "<class 'pandas.core.frame.DataFrame'>\n",
      "RangeIndex: 2913 entries, 0 to 2912\n",
      "Data columns (total 14 columns):\n",
      " #   Column          Non-Null Count  Dtype  \n",
      "---  ------          --------------  -----  \n",
      " 0   lot_area        2913 non-null   int64  \n",
      " 1   year_built      2913 non-null   int64  \n",
      " 2   year_remod/add  2913 non-null   int64  \n",
      " 3   mas_vnr_area    2913 non-null   float64\n",
      " 4   bsmtfin_sf_1    2913 non-null   float64\n",
      " 5   total_bsmt_sf   2913 non-null   float64\n",
      " 6   2nd_flr_sf      2913 non-null   int64  \n",
      " 7   gr_liv_area     2913 non-null   int64  \n",
      " 8   garage_yr_blt   2913 non-null   float64\n",
      " 9   garage_area     2913 non-null   float64\n",
      " 10  wood_deck_sf    2913 non-null   int64  \n",
      " 11  open_porch_sf   2913 non-null   int64  \n",
      " 12  screen_porch    2913 non-null   int64  \n",
      " 13  saleprice       2913 non-null   float64\n",
      "dtypes: float64(6), int64(8)\n",
      "memory usage: 318.7 KB\n"
     ]
    }
   ],
   "source": [
    "df.info()"
   ]
  }
 ],
 "metadata": {
  "kernelspec": {
   "display_name": "Python 3",
   "language": "python",
   "name": "python3"
  },
  "language_info": {
   "codemirror_mode": {
    "name": "ipython",
    "version": 3
   },
   "file_extension": ".py",
   "mimetype": "text/x-python",
   "name": "python",
   "nbconvert_exporter": "python",
   "pygments_lexer": "ipython3",
   "version": "3.8.5"
  }
 },
 "nbformat": 4,
 "nbformat_minor": 5
}
