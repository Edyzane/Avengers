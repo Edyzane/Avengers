{
 "cells": [
  {
   "cell_type": "markdown",
   "id": "described-pierre",
   "metadata": {},
   "source": [
    "# train new model with selected features and revert log transformation"
   ]
  },
  {
   "cell_type": "code",
   "execution_count": 1,
   "id": "requested-suffering",
   "metadata": {},
   "outputs": [],
   "source": [
    "#importing libraries\n",
    "from sklearn.datasets import load_boston\n",
    "import pandas as pd\n",
    "import numpy as np\n",
    "import matplotlib\n",
    "import matplotlib.pyplot as plt\n",
    "import seaborn as sns\n",
    "\n",
    "%matplotlib inline\n",
    "from sklearn.model_selection import train_test_split\n",
    "from sklearn.linear_model import LinearRegression\n",
    "from sklearn.feature_selection import RFE\n",
    "from sklearn.linear_model import RidgeCV, LassoCV, Ridge, Lasso\n",
    "from sklearn.metrics import mean_squared_error, mean_absolute_error,r2_score\n",
    "import scipy as sp\n",
    "from joblib import dump\n",
    "from sklearn.linear_model import ElasticNet\n",
    "from sklearn.model_selection import GridSearchCV\n",
    "from sklearn.preprocessing import StandardScaler\n",
    "from sklearn.metrics import r2_score"
   ]
  },
  {
   "cell_type": "code",
   "execution_count": 2,
   "id": "homeless-garlic",
   "metadata": {},
   "outputs": [],
   "source": [
    "df = pd.read_csv(\"cs1_part3_res.csv\")"
   ]
  },
  {
   "cell_type": "code",
   "execution_count": 3,
   "id": "accessory-plastic",
   "metadata": {},
   "outputs": [],
   "source": [
    "#include saleprice here\n",
    "df = df[['lot_area', 'year_built', 'year_remod/add', 'mas_vnr_area',\n",
    "       'bsmtfin_sf_1', 'total_bsmt_sf', '2nd_flr_sf', 'gr_liv_area',\n",
    "       'garage_yr_blt', 'garage_area', 'wood_deck_sf', 'open_porch_sf',\n",
    "       'screen_porch','saleprice']]"
   ]
  },
  {
   "cell_type": "code",
   "execution_count": 4,
   "id": "genuine-texas",
   "metadata": {},
   "outputs": [
    {
     "name": "stderr",
     "output_type": "stream",
     "text": [
      "C:\\Users\\Mellon\\anaconda3\\envs\\NSSDC\\lib\\site-packages\\seaborn\\distributions.py:2551: FutureWarning: `distplot` is a deprecated function and will be removed in a future version. Please adapt your code to use either `displot` (a figure-level function with similar flexibility) or `histplot` (an axes-level function for histograms).\n",
      "  warnings.warn(msg, FutureWarning)\n"
     ]
    },
    {
     "data": {
      "image/png": "[encoded data removed]",
      "text/plain": [
       "<Figure size 432x288 with 1 Axes>"
      ]
     },
     "metadata": {
      "needs_background": "light"
     },
     "output_type": "display_data"
    }
   ],
   "source": [
    "sns.distplot(df.saleprice);"
   ]
  },
  {
   "cell_type": "markdown",
   "id": "great-cuisine",
   "metadata": {},
   "source": [
    "# result of testing with deployment\n",
    "\n",
    "index,actual,predicted,difference\n",
    "\n",
    "2906, 70999.98292913866, 113441.06, 42442\n",
    "\n",
    "2907, 150899.95900937598, 213214.95, 62315\n",
    "\n",
    "2908, 188000.08254244438, 224813.55, 36813\n",
    "\n",
    "2909, 159999.94492823596, 161209.56, 1210\n",
    "\n",
    "2910, 130999.96911757377, 162663.79, 31664\n",
    "\n",
    "2911, 142499.9577897737, 151870.90, 9371\n",
    "\n",
    "2912, 130999.96911757377, 132991.46, 1992\n",
    "\n",
    "2913, 132000.0293969709, 116182.95, -15818\n",
    "\n",
    "2914, 170000.0682778486, 177016.31, 7016\n",
    "\n",
    "2915, 188000.08254244438, 232543.53, 44543"
   ]
  },
  {
   "cell_type": "code",
   "execution_count": 5,
   "id": "agricultural-cornell",
   "metadata": {},
   "outputs": [
    {
     "data": {
      "text/html": [
       "<div>\n",
       "<style scoped>\n",
       "    .dataframe tbody tr th:only-of-type {\n",
       "        vertical-align: middle;\n",
       "    }\n",
       "\n",
       "    .dataframe tbody tr th {\n",
       "        vertical-align: top;\n",
       "    }\n",
       "\n",
       "    .dataframe thead th {\n",
       "        text-align: right;\n",
       "    }\n",
       "</style>\n",
       "<table border=\"1\" class=\"dataframe\">\n",
       "  <thead>\n",
       "    <tr style=\"text-align: right;\">\n",
       "      <th></th>\n",
       "      <th>lot_area</th>\n",
       "      <th>year_built</th>\n",
       "      <th>year_remod/add</th>\n",
       "      <th>mas_vnr_area</th>\n",
       "      <th>bsmtfin_sf_1</th>\n",
       "      <th>total_bsmt_sf</th>\n",
       "      <th>2nd_flr_sf</th>\n",
       "      <th>gr_liv_area</th>\n",
       "      <th>garage_yr_blt</th>\n",
       "      <th>garage_area</th>\n",
       "      <th>wood_deck_sf</th>\n",
       "      <th>open_porch_sf</th>\n",
       "      <th>screen_porch</th>\n",
       "      <th>saleprice</th>\n",
       "    </tr>\n",
       "  </thead>\n",
       "  <tbody>\n",
       "    <tr>\n",
       "      <th>2903</th>\n",
       "      <td>1894</td>\n",
       "      <td>1970</td>\n",
       "      <td>1970</td>\n",
       "      <td>0.0</td>\n",
       "      <td>252.0</td>\n",
       "      <td>546.0</td>\n",
       "      <td>546</td>\n",
       "      <td>1092</td>\n",
       "      <td>1970.0</td>\n",
       "      <td>286.0</td>\n",
       "      <td>0</td>\n",
       "      <td>24</td>\n",
       "      <td>0</td>\n",
       "      <td>11.170449</td>\n",
       "    </tr>\n",
       "    <tr>\n",
       "      <th>2904</th>\n",
       "      <td>12640</td>\n",
       "      <td>1976</td>\n",
       "      <td>1976</td>\n",
       "      <td>0.0</td>\n",
       "      <td>936.0</td>\n",
       "      <td>1728.0</td>\n",
       "      <td>0</td>\n",
       "      <td>1728</td>\n",
       "      <td>1976.0</td>\n",
       "      <td>574.0</td>\n",
       "      <td>40</td>\n",
       "      <td>0</td>\n",
       "      <td>0</td>\n",
       "      <td>11.924379</td>\n",
       "    </tr>\n",
       "    <tr>\n",
       "      <th>2905</th>\n",
       "      <td>9297</td>\n",
       "      <td>1976</td>\n",
       "      <td>1976</td>\n",
       "      <td>0.0</td>\n",
       "      <td>1606.0</td>\n",
       "      <td>1728.0</td>\n",
       "      <td>0</td>\n",
       "      <td>1728</td>\n",
       "      <td>1976.0</td>\n",
       "      <td>560.0</td>\n",
       "      <td>0</td>\n",
       "      <td>0</td>\n",
       "      <td>0</td>\n",
       "      <td>12.144203</td>\n",
       "    </tr>\n",
       "    <tr>\n",
       "      <th>2906</th>\n",
       "      <td>17400</td>\n",
       "      <td>1977</td>\n",
       "      <td>1977</td>\n",
       "      <td>0.0</td>\n",
       "      <td>936.0</td>\n",
       "      <td>1126.0</td>\n",
       "      <td>0</td>\n",
       "      <td>1126</td>\n",
       "      <td>1977.0</td>\n",
       "      <td>484.0</td>\n",
       "      <td>295</td>\n",
       "      <td>41</td>\n",
       "      <td>0</td>\n",
       "      <td>11.982935</td>\n",
       "    </tr>\n",
       "    <tr>\n",
       "      <th>2907</th>\n",
       "      <td>20000</td>\n",
       "      <td>1960</td>\n",
       "      <td>1996</td>\n",
       "      <td>0.0</td>\n",
       "      <td>1224.0</td>\n",
       "      <td>1224.0</td>\n",
       "      <td>0</td>\n",
       "      <td>1224</td>\n",
       "      <td>1960.0</td>\n",
       "      <td>576.0</td>\n",
       "      <td>474</td>\n",
       "      <td>0</td>\n",
       "      <td>0</td>\n",
       "      <td>11.782960</td>\n",
       "    </tr>\n",
       "    <tr>\n",
       "      <th>2908</th>\n",
       "      <td>7937</td>\n",
       "      <td>1984</td>\n",
       "      <td>1984</td>\n",
       "      <td>0.0</td>\n",
       "      <td>819.0</td>\n",
       "      <td>1003.0</td>\n",
       "      <td>0</td>\n",
       "      <td>1003</td>\n",
       "      <td>1984.0</td>\n",
       "      <td>588.0</td>\n",
       "      <td>120</td>\n",
       "      <td>0</td>\n",
       "      <td>0</td>\n",
       "      <td>11.867104</td>\n",
       "    </tr>\n",
       "    <tr>\n",
       "      <th>2909</th>\n",
       "      <td>8885</td>\n",
       "      <td>1983</td>\n",
       "      <td>1983</td>\n",
       "      <td>0.0</td>\n",
       "      <td>301.0</td>\n",
       "      <td>864.0</td>\n",
       "      <td>0</td>\n",
       "      <td>902</td>\n",
       "      <td>1983.0</td>\n",
       "      <td>484.0</td>\n",
       "      <td>164</td>\n",
       "      <td>0</td>\n",
       "      <td>0</td>\n",
       "      <td>11.782960</td>\n",
       "    </tr>\n",
       "    <tr>\n",
       "      <th>2910</th>\n",
       "      <td>10441</td>\n",
       "      <td>1992</td>\n",
       "      <td>1992</td>\n",
       "      <td>0.0</td>\n",
       "      <td>337.0</td>\n",
       "      <td>912.0</td>\n",
       "      <td>0</td>\n",
       "      <td>970</td>\n",
       "      <td>0.0</td>\n",
       "      <td>0.0</td>\n",
       "      <td>80</td>\n",
       "      <td>32</td>\n",
       "      <td>0</td>\n",
       "      <td>11.790565</td>\n",
       "    </tr>\n",
       "    <tr>\n",
       "      <th>2911</th>\n",
       "      <td>10010</td>\n",
       "      <td>1974</td>\n",
       "      <td>1975</td>\n",
       "      <td>0.0</td>\n",
       "      <td>1071.0</td>\n",
       "      <td>1389.0</td>\n",
       "      <td>0</td>\n",
       "      <td>1389</td>\n",
       "      <td>1975.0</td>\n",
       "      <td>418.0</td>\n",
       "      <td>240</td>\n",
       "      <td>38</td>\n",
       "      <td>0</td>\n",
       "      <td>12.043560</td>\n",
       "    </tr>\n",
       "    <tr>\n",
       "      <th>2912</th>\n",
       "      <td>9627</td>\n",
       "      <td>1993</td>\n",
       "      <td>1994</td>\n",
       "      <td>94.0</td>\n",
       "      <td>758.0</td>\n",
       "      <td>996.0</td>\n",
       "      <td>1004</td>\n",
       "      <td>2000</td>\n",
       "      <td>1993.0</td>\n",
       "      <td>650.0</td>\n",
       "      <td>190</td>\n",
       "      <td>48</td>\n",
       "      <td>0</td>\n",
       "      <td>12.144203</td>\n",
       "    </tr>\n",
       "  </tbody>\n",
       "</table>\n",
       "</div>"
      ],
      "text/plain": [
       "      lot_area  year_built  year_remod/add  mas_vnr_area  bsmtfin_sf_1  \\\n",
       "2903      1894        1970            1970           0.0         252.0   \n",
       "2904     12640        1976            1976           0.0         936.0   \n",
       "2905      9297        1976            1976           0.0        1606.0   \n",
       "2906     17400        1977            1977           0.0         936.0   \n",
       "2907     20000        1960            1996           0.0        1224.0   \n",
       "2908      7937        1984            1984           0.0         819.0   \n",
       "2909      8885        1983            1983           0.0         301.0   \n",
       "2910     10441        1992            1992           0.0         337.0   \n",
       "2911     10010        1974            1975           0.0        1071.0   \n",
       "2912      9627        1993            1994          94.0         758.0   \n",
       "\n",
       "      total_bsmt_sf  2nd_flr_sf  gr_liv_area  garage_yr_blt  garage_area  \\\n",
       "2903          546.0         546         1092         1970.0        286.0   \n",
       "2904         1728.0           0         1728         1976.0        574.0   \n",
       "2905         1728.0           0         1728         1976.0        560.0   \n",
       "2906         1126.0           0         1126         1977.0        484.0   \n",
       "2907         1224.0           0         1224         1960.0        576.0   \n",
       "2908         1003.0           0         1003         1984.0        588.0   \n",
       "2909          864.0           0          902         1983.0        484.0   \n",
       "2910          912.0           0          970            0.0          0.0   \n",
       "2911         1389.0           0         1389         1975.0        418.0   \n",
       "2912          996.0        1004         2000         1993.0        650.0   \n",
       "\n",
       "      wood_deck_sf  open_porch_sf  screen_porch  saleprice  \n",
       "2903             0             24             0  11.170449  \n",
       "2904            40              0             0  11.924379  \n",
       "2905             0              0             0  12.144203  \n",
       "2906           295             41             0  11.982935  \n",
       "2907           474              0             0  11.782960  \n",
       "2908           120              0             0  11.867104  \n",
       "2909           164              0             0  11.782960  \n",
       "2910            80             32             0  11.790565  \n",
       "2911           240             38             0  12.043560  \n",
       "2912           190             48             0  12.144203  "
      ]
     },
     "execution_count": 5,
     "metadata": {},
     "output_type": "execute_result"
    }
   ],
   "source": [
    "df.tail(10)"
   ]
  },
  {
   "cell_type": "code",
   "execution_count": 6,
   "id": "checked-going",
   "metadata": {},
   "outputs": [
    {
     "name": "stdout",
     "output_type": "stream",
     "text": [
      "150899.95900937598\n"
     ]
    }
   ],
   "source": [
    "#testing purpose\n",
    "x = np.expm1(11.924379)\n",
    "print(x)"
   ]
  },
  {
   "cell_type": "code",
   "execution_count": 7,
   "id": "metallic-bernard",
   "metadata": {},
   "outputs": [],
   "source": [
    "#Create  and y \n",
    "X = df.drop('saleprice',axis=1)\n",
    "y = df['saleprice']"
   ]
  },
  {
   "cell_type": "code",
   "execution_count": 8,
   "id": "oriental-keeping",
   "metadata": {},
   "outputs": [],
   "source": [
    "##Log transformation of sale price for whole training set\n",
    "#decide to disable this and put it in the deployment instead\n",
    "#x = np.expm1(y)\n",
    "#df['saleprice'] = x"
   ]
  },
  {
   "cell_type": "code",
   "execution_count": 9,
   "id": "comfortable-drama",
   "metadata": {},
   "outputs": [],
   "source": [
    "from sklearn.model_selection import train_test_split\n",
    "X_train,X_test, y_train, y_test = train_test_split(X,y, test_size = 0.2)"
   ]
  },
  {
   "cell_type": "code",
   "execution_count": 10,
   "id": "available-finger",
   "metadata": {},
   "outputs": [],
   "source": [
    "from sklearn.preprocessing import StandardScaler\n",
    "scaler = StandardScaler()\n",
    "scaler.fit(X_train)\n",
    "X_train = scaler.transform(X_train)\n",
    "X_test = scaler.transform(X_test)"
   ]
  },
  {
   "cell_type": "code",
   "execution_count": 11,
   "id": "architectural-assessment",
   "metadata": {},
   "outputs": [],
   "source": [
    "lasso_model = LassoCV()"
   ]
  },
  {
   "cell_type": "code",
   "execution_count": 12,
   "id": "affiliated-snowboard",
   "metadata": {},
   "outputs": [
    {
     "data": {
      "text/plain": [
       "LassoCV()"
      ]
     },
     "execution_count": 12,
     "metadata": {},
     "output_type": "execute_result"
    }
   ],
   "source": [
    "lasso_model.fit(X_train,y_train)"
   ]
  },
  {
   "cell_type": "code",
   "execution_count": 13,
   "id": "instant-starter",
   "metadata": {},
   "outputs": [],
   "source": [
    "pred_test_lasso = lasso_model.predict(X_test)"
   ]
  },
  {
   "cell_type": "code",
   "execution_count": 14,
   "id": "composite-roman",
   "metadata": {},
   "outputs": [],
   "source": [
    "#pred_test_lasso[pred_test_lasso<0] = 0"
   ]
  },
  {
   "cell_type": "code",
   "execution_count": 15,
   "id": "realistic-ethnic",
   "metadata": {},
   "outputs": [
    {
     "data": {
      "text/plain": [
       "array([12.18133612, 11.86562401, 12.63719301, 11.20236267, 11.09638377,\n",
       "       11.84982579, 11.91987486, 11.97813974, 11.3788527 , 12.33531579,\n",
       "       12.11999326, 11.74391766, 12.28570733, 11.66747   , 12.1741101 ,\n",
       "       12.79366332, 12.28135586, 11.9408562 , 12.34143115, 12.24607327,\n",
       "       12.15741845, 12.11658662, 11.69496098, 11.70907257, 11.73830329,\n",
       "       11.72023448, 12.16501449, 11.60336765, 11.91880179, 12.39904815,\n",
       "       12.11001129, 12.03162454, 11.7326772 , 11.75587922, 11.70828326,\n",
       "       12.62835544, 11.74245025, 11.86124569, 11.33735259, 12.26157848,\n",
       "       11.63731476, 12.56444849, 11.9021544 , 11.80643649, 11.38094161,\n",
       "       11.61704436, 12.18346721, 11.98661272, 11.80288742, 11.6477503 ,\n",
       "       11.94208256, 11.99576493, 11.93007294, 11.69248595, 11.38426706,\n",
       "       12.42314994, 11.94038968, 12.80535958, 12.1755899 , 11.87576688,\n",
       "       12.14165851, 11.48818271, 11.7816222 , 11.75710511, 11.326056  ,\n",
       "       12.68972072, 12.61144481, 11.83177829, 11.49239158, 11.76433097,\n",
       "       12.44213162, 12.42973144, 11.48560767, 11.54009086, 12.06584349,\n",
       "       11.33876472, 12.50413924, 12.07111343, 11.52379214, 11.76600875,\n",
       "       11.89090697, 11.3008148 , 12.18919598, 12.16148378, 12.07017568,\n",
       "       11.91098724, 12.25263923, 12.01013604, 12.37704946, 11.74681491,\n",
       "       11.56949576, 11.95736073, 12.3908929 , 12.2000053 , 11.57042402,\n",
       "       11.93560426, 11.69689986, 12.50389379, 12.21740373, 12.05557972,\n",
       "       12.42755241, 12.28780877, 11.30642107, 11.81486279, 11.98650934,\n",
       "       12.38565097, 11.62655724, 11.52667957, 11.75911708, 11.79082593,\n",
       "       12.19676536, 11.9494364 , 11.51259419, 12.30338845, 12.13631118,\n",
       "       11.52979497, 11.58417854, 11.74352165, 11.44997015, 12.3520561 ,\n",
       "       11.59487477, 11.48713636, 12.23816365, 11.73753068, 12.16763814,\n",
       "       11.65416422, 12.1026333 , 12.23737243, 12.28320585, 12.2141685 ,\n",
       "       12.37885044, 11.84794527, 12.03037854, 11.48651683, 11.97138365,\n",
       "       12.77786858, 11.90323643, 12.60099566, 12.09509771, 11.50882028,\n",
       "       12.20919726, 11.83557355, 12.28073391, 11.94322688, 11.63339017,\n",
       "       11.64222496, 12.18043183, 12.14074215, 12.38961249, 11.70439152,\n",
       "       11.70844948, 11.75263108, 11.71231096, 11.77878692, 11.69891568,\n",
       "       12.89603222, 11.61133249, 12.56679218, 12.1785615 , 12.43262301,\n",
       "       11.71521577, 11.65218962, 11.9254824 , 11.94671172, 11.84841191,\n",
       "       12.23462918, 11.58786386, 11.65730771, 11.49137979, 12.65783062,\n",
       "       12.41579856, 11.79197737, 12.58199703, 11.80959162, 11.92700059,\n",
       "       12.2566919 , 12.29946396, 11.91758979, 12.27036163, 11.71359365,\n",
       "       12.17843161, 11.47993823, 12.7834948 , 13.06015984, 11.89352524,\n",
       "       12.06573876, 12.21452524, 12.1535252 , 11.83111621, 12.55715573,\n",
       "       12.10012477, 11.99426209, 11.6362279 , 12.63170495, 11.80028897,\n",
       "       11.84368218, 11.20546566, 12.09216755, 12.09516594, 11.58355756,\n",
       "       11.94209074, 12.33797146, 11.65791275, 11.11603149, 12.20841028,\n",
       "       12.00353891, 11.78300177, 12.04080629, 11.86258356, 11.71295618,\n",
       "       12.38491628, 11.8793872 , 12.1336033 , 12.2063329 , 11.87668228,\n",
       "       11.75644479, 11.68197526, 12.10897896, 12.23214713, 11.80913472,\n",
       "       12.1770442 , 12.56579691, 11.78462643, 12.19359638, 11.73679517,\n",
       "       12.50135845, 12.41730938, 11.66986217, 12.08956064, 12.50758719,\n",
       "       11.81040032, 11.52039041, 12.36015132, 12.35451448, 11.50051653,\n",
       "       12.0454168 , 11.51614522, 12.52586738, 12.18167522, 12.31205172,\n",
       "       12.23740688, 12.2441461 , 11.63391173, 11.95153423, 11.85910126,\n",
       "       12.1089864 , 12.10630699, 12.27606576, 12.10631809, 11.6643886 ,\n",
       "       11.68881494, 12.23569416, 12.8174364 , 11.9262981 , 12.15576956,\n",
       "       11.47444878, 11.7368614 , 11.96817103, 11.87168051, 11.67954321,\n",
       "       12.48350168, 12.22673173, 12.25115301, 12.65511735, 12.20709359,\n",
       "       12.34024457, 11.94175605, 11.77784518, 12.0405752 , 11.57391736,\n",
       "       12.81711048, 11.19446505, 11.67547283, 12.04485078, 11.73957448,\n",
       "       12.26719918, 11.78479486, 11.90171707, 12.49345411, 11.75731483,\n",
       "       12.38568361, 11.95175496, 12.25109733, 12.39249492, 11.84506905,\n",
       "       11.62146501, 11.8853068 , 12.04784131, 12.05913326, 11.44372085,\n",
       "       12.09398511, 12.40247703, 12.11467592, 12.56959922, 11.46802155,\n",
       "       12.5563173 , 12.17373713, 12.24665376, 12.14736539, 11.60153665,\n",
       "       11.95855297, 12.07696999, 12.04724213, 11.61587194, 11.47972243,\n",
       "       11.60384315, 11.80896129, 12.35886692, 12.44029325, 12.00092148,\n",
       "       12.28267582, 12.05032791, 12.71354266, 11.68727841, 12.16410357,\n",
       "       11.65656362, 11.80370275, 11.47239729, 11.80664257, 11.51491523,\n",
       "       12.42035858, 12.18324178, 11.39966906, 12.14509089, 12.37712104,\n",
       "       11.63853013, 11.70834134, 11.72739214, 11.66736055, 11.3415911 ,\n",
       "       12.56804278, 13.35767611, 12.71976044, 11.84477652, 12.77476536,\n",
       "       11.91050149, 12.05427234, 12.22396448, 11.62161457, 12.11746603,\n",
       "       12.1447674 , 12.52849852, 12.35955715, 12.40824125, 11.71816927,\n",
       "       11.66921146, 12.03399797, 11.96256126, 12.435792  , 12.8613816 ,\n",
       "       12.05618766, 11.87627598, 12.64863733, 12.09809602, 11.93154172,\n",
       "       12.40156822, 11.96863531, 12.01687334, 12.28348175, 12.63384957,\n",
       "       11.9044138 , 11.79398548, 11.80539818, 11.94403861, 12.35663271,\n",
       "       11.58742451, 11.63222618, 12.39409704, 11.56123656, 12.08916587,\n",
       "       11.72369372, 11.7426094 , 11.78403536, 11.70162199, 12.23857516,\n",
       "       12.03246153, 11.90719419, 12.65114892, 11.82293831, 11.85934777,\n",
       "       11.6490643 , 12.31143952, 12.53049006, 11.46283114, 12.12160497,\n",
       "       12.12214696, 12.23673672, 12.49001919, 12.48143694, 11.65516145,\n",
       "       12.15534293, 11.80402502, 12.14437967, 11.79471786, 11.83766042,\n",
       "       11.73742416, 12.24306301, 11.73809244, 12.24800738, 11.91175882,\n",
       "       11.65433299, 11.78175314, 12.16310966, 12.08160865, 12.06441295,\n",
       "       11.49548411, 11.84396128, 12.10105019, 13.05790558, 12.25327189,\n",
       "       12.03608889, 11.86928781, 12.09785615, 11.53842859, 12.67900612,\n",
       "       12.13364527, 12.04392594, 11.35720921, 12.37309052, 11.82405857,\n",
       "       11.75110145, 12.19155783, 12.06873253, 11.89737757, 11.92861491,\n",
       "       12.08736702, 11.95498992, 12.74920218, 12.0675844 , 11.82760995,\n",
       "       12.03826934, 11.85336532, 11.87236193, 12.40783529, 11.37185759,\n",
       "       11.93004477, 12.09850983, 12.00502155, 11.64046269, 12.1563838 ,\n",
       "       11.55666784, 11.98895073, 12.30235676, 11.59159522, 11.95010351,\n",
       "       12.17967688, 12.27074579, 11.50327243, 11.85216557, 11.68157623,\n",
       "       12.29331159, 12.45747458, 12.24803577, 11.75517863, 12.44664803,\n",
       "       11.85565995, 12.61388035, 11.91664818, 11.73547646, 12.45733482,\n",
       "       11.73731642, 11.4371391 , 12.62207398, 12.32227491, 11.95652761,\n",
       "       12.0715318 , 12.02550759, 12.43053552, 11.75619081, 12.35550771,\n",
       "       12.25700116, 11.58980916, 11.70011263, 11.62356898, 12.63187154,\n",
       "       12.07481398, 11.8527159 , 11.53482989, 11.85161912, 12.13649695,\n",
       "       12.01311545, 11.94303302, 12.07945718, 12.20655315, 11.75330716,\n",
       "       12.06555851, 12.35806034, 11.99230948, 11.51998361, 11.77071818,\n",
       "       12.15734828, 11.98979081, 11.83280946, 11.86351159, 11.95548512,\n",
       "       11.78169402, 12.18772631, 11.81789842, 11.69325006, 11.85407973,\n",
       "       12.66237344, 11.82365693, 11.66185359, 12.38645087, 11.93360655,\n",
       "       12.12991774, 12.1226513 , 12.3578647 , 12.09452783, 12.32515149,\n",
       "       11.7882771 , 12.7520621 , 12.29708296, 12.22105236, 11.97491592,\n",
       "       11.73426338, 12.13916478, 11.97860045, 11.89352053, 11.89547679,\n",
       "       11.70414785, 12.80503989, 11.72376316, 11.88513213, 11.54345383,\n",
       "       11.47097002, 12.05774847, 11.9789097 , 12.18541311, 12.25201488,\n",
       "       12.21245274, 11.82694503, 11.47939068, 11.96153358, 12.08774772,\n",
       "       11.80774451, 11.20628162, 12.88977986, 11.54849356, 11.97699007,\n",
       "       11.93452529, 12.14283144, 12.2093409 , 12.7597562 , 11.5562011 ,\n",
       "       12.11576553, 12.04851316, 11.91798217, 11.39365132, 13.19489109,\n",
       "       11.50985853, 12.60747473, 12.05051721, 11.64946836, 11.55718888,\n",
       "       12.27656487, 11.9494364 , 12.12255043, 12.00504702, 12.17634863,\n",
       "       11.49769054, 11.63611998, 12.42118048, 11.84333595, 11.98151484,\n",
       "       12.82290189, 12.10333113, 12.51976332, 12.16130823, 11.26201373,\n",
       "       11.85938884, 12.09394209, 12.6444575 , 11.43909567, 12.56784987,\n",
       "       11.65744062, 11.93217008, 11.73160413, 11.95175496, 11.82801454,\n",
       "       12.04558276, 12.00113798, 12.14521526])"
      ]
     },
     "execution_count": 15,
     "metadata": {},
     "output_type": "execute_result"
    }
   ],
   "source": [
    "pred_test_lasso"
   ]
  },
  {
   "cell_type": "code",
   "execution_count": 16,
   "id": "approved-valuation",
   "metadata": {},
   "outputs": [],
   "source": [
    "MAE_Lasso = mean_absolute_error(y_test,pred_test_lasso)\n",
    "MSE_Lasso = mean_squared_error(y_test,pred_test_lasso)\n",
    "RMSE_Lasso = np.sqrt(MSE_Lasso)"
   ]
  },
  {
   "cell_type": "code",
   "execution_count": 17,
   "id": "normal-championship",
   "metadata": {},
   "outputs": [
    {
     "data": {
      "text/plain": [
       "0.11060872100592671"
      ]
     },
     "execution_count": 17,
     "metadata": {},
     "output_type": "execute_result"
    }
   ],
   "source": [
    "MAE_Lasso"
   ]
  },
  {
   "cell_type": "code",
   "execution_count": 18,
   "id": "annual-logistics",
   "metadata": {},
   "outputs": [
    {
     "data": {
      "text/plain": [
       "0.02487058218309749"
      ]
     },
     "execution_count": 18,
     "metadata": {},
     "output_type": "execute_result"
    }
   ],
   "source": [
    "MSE_Lasso"
   ]
  },
  {
   "cell_type": "code",
   "execution_count": 19,
   "id": "moving-difficulty",
   "metadata": {},
   "outputs": [
    {
     "data": {
      "text/plain": [
       "0.1577040969128497"
      ]
     },
     "execution_count": 19,
     "metadata": {},
     "output_type": "execute_result"
    }
   ],
   "source": [
    "RMSE_Lasso"
   ]
  },
  {
   "cell_type": "code",
   "execution_count": 20,
   "id": "acceptable-cosmetic",
   "metadata": {},
   "outputs": [],
   "source": [
    "def MAPE(y_test,pred_test_lasso):\n",
    "    mape = np.mean(np.abs((y_test - pred_test_lasso)/y_test))*100\n",
    "    return mape"
   ]
  },
  {
   "cell_type": "code",
   "execution_count": 21,
   "id": "sound-alcohol",
   "metadata": {},
   "outputs": [],
   "source": [
    "LR_MAPElassocv= MAPE(y_test,pred_test_lasso)"
   ]
  },
  {
   "cell_type": "code",
   "execution_count": 22,
   "id": "dietary-rescue",
   "metadata": {},
   "outputs": [
    {
     "name": "stdout",
     "output_type": "stream",
     "text": [
      "lassocv MAPE:  0.9269868757900545\n"
     ]
    }
   ],
   "source": [
    "print(\"lassocv MAPE: \",LR_MAPElassocv)"
   ]
  },
  {
   "cell_type": "code",
   "execution_count": 23,
   "id": "perfect-article",
   "metadata": {},
   "outputs": [
    {
     "data": {
      "text/plain": [
       "83.0"
      ]
     },
     "execution_count": 23,
     "metadata": {},
     "output_type": "execute_result"
    }
   ],
   "source": [
    "accuracy= round(r2_score(y_test, pred_test_lasso), 2)\n",
    "accuracy = accuracy * 100\n",
    "accuracy"
   ]
  },
  {
   "cell_type": "code",
   "execution_count": 24,
   "id": "swiss-toner",
   "metadata": {},
   "outputs": [],
   "source": [
    "test_pred=y_test-pred_test_lasso"
   ]
  },
  {
   "cell_type": "code",
   "execution_count": 25,
   "id": "optimum-lebanon",
   "metadata": {},
   "outputs": [
    {
     "data": {
      "image/png": "[encoded data removed]",
      "text/plain": [
       "<Figure size 432x288 with 1 Axes>"
      ]
     },
     "metadata": {
      "needs_background": "light"
     },
     "output_type": "display_data"
    }
   ],
   "source": [
    "sns.scatterplot(x=y_test,y=test_pred)\n",
    "plt.axhline(y=0,color='magenta',linestyle='--')\n",
    "plt.title('Residual Plot');"
   ]
  },
  {
   "cell_type": "code",
   "execution_count": 26,
   "id": "practical-accommodation",
   "metadata": {},
   "outputs": [
    {
     "data": {
      "image/png": "[encoded data removed]",
      "text/plain": [
       "<Figure size 1000x1200 with 1 Axes>"
      ]
     },
     "metadata": {
      "needs_background": "light"
     },
     "output_type": "display_data"
    }
   ],
   "source": [
    "fig,ax = plt.subplots(figsize=(10,12),dpi=100)\n",
    "\n",
    "_=sp.stats.probplot(test_pred,plot=ax)"
   ]
  },
  {
   "cell_type": "code",
   "execution_count": 27,
   "id": "white-while",
   "metadata": {},
   "outputs": [
    {
     "data": {
      "image/png": "[encoded data removed]",
      "text/plain": [
       "<Figure size 360x360 with 1 Axes>"
      ]
     },
     "metadata": {
      "needs_background": "light"
     },
     "output_type": "display_data"
    }
   ],
   "source": [
    "sns.displot(test_pred,bins=15,kde=True)\n",
    "plt.title('Distribution Plot');"
   ]
  },
  {
   "cell_type": "code",
   "execution_count": 28,
   "id": "identical-structure",
   "metadata": {},
   "outputs": [
    {
     "data": {
      "text/plain": [
       "array([0.02125373, 0.08227359, 0.08063655, 0.01205017, 0.04178357,\n",
       "       0.07985873, 0.00514459, 0.15677365, 0.02870541, 0.04346349,\n",
       "       0.01536996, 0.00636704, 0.0189593 ])"
      ]
     },
     "execution_count": 28,
     "metadata": {},
     "output_type": "execute_result"
    }
   ],
   "source": [
    "lasso_model.coef_"
   ]
  },
  {
   "cell_type": "code",
   "execution_count": 29,
   "id": "fuzzy-circle",
   "metadata": {},
   "outputs": [
    {
     "data": {
      "text/plain": [
       "['cs1_Ames_Housing_scaler.pkl']"
      ]
     },
     "execution_count": 29,
     "metadata": {},
     "output_type": "execute_result"
    }
   ],
   "source": [
    "dump(scaler,\"cs1_Ames_Housing_scaler.pkl\")"
   ]
  },
  {
   "cell_type": "code",
   "execution_count": 30,
   "id": "outside-passing",
   "metadata": {},
   "outputs": [
    {
     "data": {
      "text/plain": [
       "['cs1_Ames_Housing_model.h5']"
      ]
     },
     "execution_count": 30,
     "metadata": {},
     "output_type": "execute_result"
    }
   ],
   "source": [
    "dump(lasso_model,\"cs1_Ames_Housing_model.h5\")"
   ]
  },
  {
   "cell_type": "code",
   "execution_count": 31,
   "id": "occupational-graduation",
   "metadata": {},
   "outputs": [
    {
     "name": "stdout",
     "output_type": "stream",
     "text": [
      "<class 'pandas.core.frame.DataFrame'>\n",
      "RangeIndex: 2913 entries, 0 to 2912\n",
      "Data columns (total 14 columns):\n",
      " #   Column          Non-Null Count  Dtype  \n",
      "---  ------          --------------  -----  \n",
      " 0   lot_area        2913 non-null   int64  \n",
      " 1   year_built      2913 non-null   int64  \n",
      " 2   year_remod/add  2913 non-null   int64  \n",
      " 3   mas_vnr_area    2913 non-null   float64\n",
      " 4   bsmtfin_sf_1    2913 non-null   float64\n",
      " 5   total_bsmt_sf   2913 non-null   float64\n",
      " 6   2nd_flr_sf      2913 non-null   int64  \n",
      " 7   gr_liv_area     2913 non-null   int64  \n",
      " 8   garage_yr_blt   2913 non-null   float64\n",
      " 9   garage_area     2913 non-null   float64\n",
      " 10  wood_deck_sf    2913 non-null   int64  \n",
      " 11  open_porch_sf   2913 non-null   int64  \n",
      " 12  screen_porch    2913 non-null   int64  \n",
      " 13  saleprice       2913 non-null   float64\n",
      "dtypes: float64(6), int64(8)\n",
      "memory usage: 318.7 KB\n"
     ]
    }
   ],
   "source": [
    "df.info()"
   ]
  }
 ],
 "metadata": {
  "kernelspec": {
   "display_name": "Python 3",
   "language": "python",
   "name": "python3"
  },
  "language_info": {
   "codemirror_mode": {
    "name": "ipython",
    "version": 3
   },
   "file_extension": ".py",
   "mimetype": "text/x-python",
   "name": "python",
   "nbconvert_exporter": "python",
   "pygments_lexer": "ipython3",
   "version": "3.7.10"
  }
 },
 "nbformat": 4,
 "nbformat_minor": 5
}
