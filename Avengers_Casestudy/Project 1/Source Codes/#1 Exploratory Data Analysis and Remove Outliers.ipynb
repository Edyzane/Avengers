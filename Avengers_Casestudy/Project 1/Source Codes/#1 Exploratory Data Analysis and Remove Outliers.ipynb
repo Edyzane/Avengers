{
 "cells": [
  {
   "cell_type": "markdown",
   "id": "sacred-coach",
   "metadata": {},
   "source": [
    "# imports"
   ]
  },
  {
   "cell_type": "code",
   "execution_count": 1,
   "id": "typical-corpus",
   "metadata": {},
   "outputs": [],
   "source": [
    "import warnings\n",
    "import numpy as np\n",
    "import pandas as pd\n",
    "%matplotlib inline\n",
    "%config InlineBackend.figure_format = 'png' #retina\n",
    "import matplotlib.pyplot as plt\n",
    "import seaborn as sns\n",
    "import warnings\n",
    "warnings.filterwarnings('ignore')\n",
    "import scipy.stats as stats\n",
    "from scipy.stats import skew,norm\n",
    "from scipy.stats.stats import pearsonr"
   ]
  },
  {
   "cell_type": "code",
   "execution_count": 2,
   "id": "sought-personality",
   "metadata": {},
   "outputs": [],
   "source": [
    "df = pd.read_csv(\"Ames_Housing_Data.csv\")"
   ]
  },
  {
   "cell_type": "markdown",
   "id": "sixth-hudson",
   "metadata": {},
   "source": [
    "# change features name to lowercase and spaces to underscore, edited to ease during deployment and convenient sake"
   ]
  },
  {
   "cell_type": "code",
   "execution_count": 3,
   "id": "waiting-integral",
   "metadata": {},
   "outputs": [],
   "source": [
    "# Make column labels lowercase\n",
    "df.columns = map(str.lower, df.columns)\n",
    "\n",
    "# Replace spaces in columns with underscore\n",
    "df.columns = df.columns.str.replace('\\s+', '_')"
   ]
  },
  {
   "cell_type": "code",
   "execution_count": 4,
   "id": "institutional-explosion",
   "metadata": {},
   "outputs": [
    {
     "data": {
      "text/html": [
       "<div>\n",
       "<style scoped>\n",
       "    .dataframe tbody tr th:only-of-type {\n",
       "        vertical-align: middle;\n",
       "    }\n",
       "\n",
       "    .dataframe tbody tr th {\n",
       "        vertical-align: top;\n",
       "    }\n",
       "\n",
       "    .dataframe thead th {\n",
       "        text-align: right;\n",
       "    }\n",
       "</style>\n",
       "<table border=\"1\" class=\"dataframe\">\n",
       "  <thead>\n",
       "    <tr style=\"text-align: right;\">\n",
       "      <th></th>\n",
       "      <th>pid</th>\n",
       "      <th>ms_subclass</th>\n",
       "      <th>ms_zoning</th>\n",
       "      <th>lot_frontage</th>\n",
       "      <th>lot_area</th>\n",
       "      <th>street</th>\n",
       "      <th>alley</th>\n",
       "      <th>lot_shape</th>\n",
       "      <th>land_contour</th>\n",
       "      <th>utilities</th>\n",
       "      <th>...</th>\n",
       "      <th>pool_area</th>\n",
       "      <th>pool_qc</th>\n",
       "      <th>fence</th>\n",
       "      <th>misc_feature</th>\n",
       "      <th>misc_val</th>\n",
       "      <th>mo_sold</th>\n",
       "      <th>yr_sold</th>\n",
       "      <th>sale_type</th>\n",
       "      <th>sale_condition</th>\n",
       "      <th>saleprice</th>\n",
       "    </tr>\n",
       "  </thead>\n",
       "  <tbody>\n",
       "    <tr>\n",
       "      <th>0</th>\n",
       "      <td>526301100</td>\n",
       "      <td>20</td>\n",
       "      <td>RL</td>\n",
       "      <td>141.0</td>\n",
       "      <td>31770</td>\n",
       "      <td>Pave</td>\n",
       "      <td>NaN</td>\n",
       "      <td>IR1</td>\n",
       "      <td>Lvl</td>\n",
       "      <td>AllPub</td>\n",
       "      <td>...</td>\n",
       "      <td>0</td>\n",
       "      <td>NaN</td>\n",
       "      <td>NaN</td>\n",
       "      <td>NaN</td>\n",
       "      <td>0</td>\n",
       "      <td>5</td>\n",
       "      <td>2010</td>\n",
       "      <td>WD</td>\n",
       "      <td>Normal</td>\n",
       "      <td>215000</td>\n",
       "    </tr>\n",
       "    <tr>\n",
       "      <th>1</th>\n",
       "      <td>526350040</td>\n",
       "      <td>20</td>\n",
       "      <td>RH</td>\n",
       "      <td>80.0</td>\n",
       "      <td>11622</td>\n",
       "      <td>Pave</td>\n",
       "      <td>NaN</td>\n",
       "      <td>Reg</td>\n",
       "      <td>Lvl</td>\n",
       "      <td>AllPub</td>\n",
       "      <td>...</td>\n",
       "      <td>0</td>\n",
       "      <td>NaN</td>\n",
       "      <td>MnPrv</td>\n",
       "      <td>NaN</td>\n",
       "      <td>0</td>\n",
       "      <td>6</td>\n",
       "      <td>2010</td>\n",
       "      <td>WD</td>\n",
       "      <td>Normal</td>\n",
       "      <td>105000</td>\n",
       "    </tr>\n",
       "    <tr>\n",
       "      <th>2</th>\n",
       "      <td>526351010</td>\n",
       "      <td>20</td>\n",
       "      <td>RL</td>\n",
       "      <td>81.0</td>\n",
       "      <td>14267</td>\n",
       "      <td>Pave</td>\n",
       "      <td>NaN</td>\n",
       "      <td>IR1</td>\n",
       "      <td>Lvl</td>\n",
       "      <td>AllPub</td>\n",
       "      <td>...</td>\n",
       "      <td>0</td>\n",
       "      <td>NaN</td>\n",
       "      <td>NaN</td>\n",
       "      <td>Gar2</td>\n",
       "      <td>12500</td>\n",
       "      <td>6</td>\n",
       "      <td>2010</td>\n",
       "      <td>WD</td>\n",
       "      <td>Normal</td>\n",
       "      <td>172000</td>\n",
       "    </tr>\n",
       "    <tr>\n",
       "      <th>3</th>\n",
       "      <td>526353030</td>\n",
       "      <td>20</td>\n",
       "      <td>RL</td>\n",
       "      <td>93.0</td>\n",
       "      <td>11160</td>\n",
       "      <td>Pave</td>\n",
       "      <td>NaN</td>\n",
       "      <td>Reg</td>\n",
       "      <td>Lvl</td>\n",
       "      <td>AllPub</td>\n",
       "      <td>...</td>\n",
       "      <td>0</td>\n",
       "      <td>NaN</td>\n",
       "      <td>NaN</td>\n",
       "      <td>NaN</td>\n",
       "      <td>0</td>\n",
       "      <td>4</td>\n",
       "      <td>2010</td>\n",
       "      <td>WD</td>\n",
       "      <td>Normal</td>\n",
       "      <td>244000</td>\n",
       "    </tr>\n",
       "    <tr>\n",
       "      <th>4</th>\n",
       "      <td>527105010</td>\n",
       "      <td>60</td>\n",
       "      <td>RL</td>\n",
       "      <td>74.0</td>\n",
       "      <td>13830</td>\n",
       "      <td>Pave</td>\n",
       "      <td>NaN</td>\n",
       "      <td>IR1</td>\n",
       "      <td>Lvl</td>\n",
       "      <td>AllPub</td>\n",
       "      <td>...</td>\n",
       "      <td>0</td>\n",
       "      <td>NaN</td>\n",
       "      <td>MnPrv</td>\n",
       "      <td>NaN</td>\n",
       "      <td>0</td>\n",
       "      <td>3</td>\n",
       "      <td>2010</td>\n",
       "      <td>WD</td>\n",
       "      <td>Normal</td>\n",
       "      <td>189900</td>\n",
       "    </tr>\n",
       "  </tbody>\n",
       "</table>\n",
       "<p>5 rows × 81 columns</p>\n",
       "</div>"
      ],
      "text/plain": [
       "         pid  ms_subclass ms_zoning  lot_frontage  lot_area street alley  \\\n",
       "0  526301100           20        RL         141.0     31770   Pave   NaN   \n",
       "1  526350040           20        RH          80.0     11622   Pave   NaN   \n",
       "2  526351010           20        RL          81.0     14267   Pave   NaN   \n",
       "3  526353030           20        RL          93.0     11160   Pave   NaN   \n",
       "4  527105010           60        RL          74.0     13830   Pave   NaN   \n",
       "\n",
       "  lot_shape land_contour utilities  ... pool_area pool_qc  fence misc_feature  \\\n",
       "0       IR1          Lvl    AllPub  ...         0     NaN    NaN          NaN   \n",
       "1       Reg          Lvl    AllPub  ...         0     NaN  MnPrv          NaN   \n",
       "2       IR1          Lvl    AllPub  ...         0     NaN    NaN         Gar2   \n",
       "3       Reg          Lvl    AllPub  ...         0     NaN    NaN          NaN   \n",
       "4       IR1          Lvl    AllPub  ...         0     NaN  MnPrv          NaN   \n",
       "\n",
       "  misc_val mo_sold yr_sold  sale_type  sale_condition  saleprice  \n",
       "0        0       5    2010        WD           Normal     215000  \n",
       "1        0       6    2010        WD           Normal     105000  \n",
       "2    12500       6    2010        WD           Normal     172000  \n",
       "3        0       4    2010        WD           Normal     244000  \n",
       "4        0       3    2010        WD           Normal     189900  \n",
       "\n",
       "[5 rows x 81 columns]"
      ]
     },
     "execution_count": 4,
     "metadata": {},
     "output_type": "execute_result"
    }
   ],
   "source": [
    "df.head()"
   ]
  },
  {
   "cell_type": "code",
   "execution_count": 5,
   "id": "vietnamese-chapel",
   "metadata": {},
   "outputs": [
    {
     "name": "stdout",
     "output_type": "stream",
     "text": [
      "Data: \n",
      "\n",
      "Number of columns: 81\n",
      "Number of rows: 2930\n"
     ]
    }
   ],
   "source": [
    "print('Data: \\n')\n",
    "print(\"Number of columns: \"+ str(df.shape[1]))\n",
    "print(\"Number of rows: \"+ str(df.shape[0]))"
   ]
  },
  {
   "cell_type": "code",
   "execution_count": 6,
   "id": "environmental-freedom",
   "metadata": {},
   "outputs": [
    {
     "name": "stdout",
     "output_type": "stream",
     "text": [
      "<class 'pandas.core.frame.DataFrame'>\n",
      "RangeIndex: 2930 entries, 0 to 2929\n",
      "Data columns (total 81 columns):\n",
      " #   Column           Non-Null Count  Dtype  \n",
      "---  ------           --------------  -----  \n",
      " 0   pid              2930 non-null   int64  \n",
      " 1   ms_subclass      2930 non-null   int64  \n",
      " 2   ms_zoning        2930 non-null   object \n",
      " 3   lot_frontage     2440 non-null   float64\n",
      " 4   lot_area         2930 non-null   int64  \n",
      " 5   street           2930 non-null   object \n",
      " 6   alley            198 non-null    object \n",
      " 7   lot_shape        2930 non-null   object \n",
      " 8   land_contour     2930 non-null   object \n",
      " 9   utilities        2930 non-null   object \n",
      " 10  lot_config       2930 non-null   object \n",
      " 11  land_slope       2930 non-null   object \n",
      " 12  neighborhood     2930 non-null   object \n",
      " 13  condition_1      2930 non-null   object \n",
      " 14  condition_2      2930 non-null   object \n",
      " 15  bldg_type        2930 non-null   object \n",
      " 16  house_style      2930 non-null   object \n",
      " 17  overall_qual     2930 non-null   int64  \n",
      " 18  overall_cond     2930 non-null   int64  \n",
      " 19  year_built       2930 non-null   int64  \n",
      " 20  year_remod/add   2930 non-null   int64  \n",
      " 21  roof_style       2930 non-null   object \n",
      " 22  roof_matl        2930 non-null   object \n",
      " 23  exterior_1st     2930 non-null   object \n",
      " 24  exterior_2nd     2930 non-null   object \n",
      " 25  mas_vnr_type     2907 non-null   object \n",
      " 26  mas_vnr_area     2907 non-null   float64\n",
      " 27  exter_qual       2930 non-null   object \n",
      " 28  exter_cond       2930 non-null   object \n",
      " 29  foundation       2930 non-null   object \n",
      " 30  bsmt_qual        2850 non-null   object \n",
      " 31  bsmt_cond        2850 non-null   object \n",
      " 32  bsmt_exposure    2847 non-null   object \n",
      " 33  bsmtfin_type_1   2850 non-null   object \n",
      " 34  bsmtfin_sf_1     2929 non-null   float64\n",
      " 35  bsmtfin_type_2   2849 non-null   object \n",
      " 36  bsmtfin_sf_2     2929 non-null   float64\n",
      " 37  bsmt_unf_sf      2929 non-null   float64\n",
      " 38  total_bsmt_sf    2929 non-null   float64\n",
      " 39  heating          2930 non-null   object \n",
      " 40  heating_qc       2930 non-null   object \n",
      " 41  central_air      2930 non-null   object \n",
      " 42  electrical       2929 non-null   object \n",
      " 43  1st_flr_sf       2930 non-null   int64  \n",
      " 44  2nd_flr_sf       2930 non-null   int64  \n",
      " 45  low_qual_fin_sf  2930 non-null   int64  \n",
      " 46  gr_liv_area      2930 non-null   int64  \n",
      " 47  bsmt_full_bath   2928 non-null   float64\n",
      " 48  bsmt_half_bath   2928 non-null   float64\n",
      " 49  full_bath        2930 non-null   int64  \n",
      " 50  half_bath        2930 non-null   int64  \n",
      " 51  bedroom_abvgr    2930 non-null   int64  \n",
      " 52  kitchen_abvgr    2930 non-null   int64  \n",
      " 53  kitchen_qual     2930 non-null   object \n",
      " 54  totrms_abvgrd    2930 non-null   int64  \n",
      " 55  functional       2930 non-null   object \n",
      " 56  fireplaces       2930 non-null   int64  \n",
      " 57  fireplace_qu     1508 non-null   object \n",
      " 58  garage_type      2773 non-null   object \n",
      " 59  garage_yr_blt    2771 non-null   float64\n",
      " 60  garage_finish    2771 non-null   object \n",
      " 61  garage_cars      2929 non-null   float64\n",
      " 62  garage_area      2929 non-null   float64\n",
      " 63  garage_qual      2771 non-null   object \n",
      " 64  garage_cond      2771 non-null   object \n",
      " 65  paved_drive      2930 non-null   object \n",
      " 66  wood_deck_sf     2930 non-null   int64  \n",
      " 67  open_porch_sf    2930 non-null   int64  \n",
      " 68  enclosed_porch   2930 non-null   int64  \n",
      " 69  3ssn_porch       2930 non-null   int64  \n",
      " 70  screen_porch     2930 non-null   int64  \n",
      " 71  pool_area        2930 non-null   int64  \n",
      " 72  pool_qc          13 non-null     object \n",
      " 73  fence            572 non-null    object \n",
      " 74  misc_feature     106 non-null    object \n",
      " 75  misc_val         2930 non-null   int64  \n",
      " 76  mo_sold          2930 non-null   int64  \n",
      " 77  yr_sold          2930 non-null   int64  \n",
      " 78  sale_type        2930 non-null   object \n",
      " 79  sale_condition   2930 non-null   object \n",
      " 80  saleprice        2930 non-null   int64  \n",
      "dtypes: float64(11), int64(27), object(43)\n",
      "memory usage: 1.8+ MB\n"
     ]
    }
   ],
   "source": [
    "df.info()"
   ]
  },
  {
   "cell_type": "code",
   "execution_count": 7,
   "id": "cardiovascular-galaxy",
   "metadata": {},
   "outputs": [
    {
     "data": {
      "text/plain": [
       "count      2930.000000\n",
       "mean     180796.060068\n",
       "std       79886.692357\n",
       "min       12789.000000\n",
       "25%      129500.000000\n",
       "50%      160000.000000\n",
       "75%      213500.000000\n",
       "max      755000.000000\n",
       "Name: saleprice, dtype: float64"
      ]
     },
     "execution_count": 7,
     "metadata": {},
     "output_type": "execute_result"
    }
   ],
   "source": [
    "df['saleprice'].describe()\n"
   ]
  },
  {
   "cell_type": "code",
   "execution_count": 8,
   "id": "prepared-watershed",
   "metadata": {},
   "outputs": [
    {
     "data": {
      "image/png": "[encoded data removed]",
      "text/plain": [
       "<Figure size 576x432 with 2 Axes>"
      ]
     },
     "metadata": {
      "needs_background": "light"
     },
     "output_type": "display_data"
    }
   ],
   "source": [
    "plt.figure(figsize=(8,6))\n",
    "sns.heatmap(df.corr(),cmap=\"magma\");"
   ]
  },
  {
   "cell_type": "code",
   "execution_count": 9,
   "id": "imperial-beaver",
   "metadata": {
    "scrolled": true
   },
   "outputs": [
    {
     "data": {
      "image/png": "[encoded data removed]",
      "text/plain": [
       "<Figure size 432x288 with 1 Axes>"
      ]
     },
     "metadata": {
      "needs_background": "light"
     },
     "output_type": "display_data"
    }
   ],
   "source": [
    "sns.kdeplot(x='saleprice',data=df,color='black',fill=True,);\n",
    "\n",
    "# right skew data, not normal distribution"
   ]
  },
  {
   "cell_type": "code",
   "execution_count": 13,
   "id": "treated-plant",
   "metadata": {
    "scrolled": false
   },
   "outputs": [
    {
     "data": {
      "image/png": "[encoded data removed]",
      "text/plain": [
       "<Figure size 576x432 with 2 Axes>"
      ]
     },
     "metadata": {
      "needs_background": "light"
     },
     "output_type": "display_data"
    },
    {
     "data": {
      "image/png": "[encoded data removed]",
      "text/plain": [
       "<Figure size 864x432 with 1 Axes>"
      ]
     },
     "metadata": {
      "needs_background": "light"
     },
     "output_type": "display_data"
    }
   ],
   "source": [
    "plt.figure(figsize=(8,6))\n",
    "sns.heatmap(df.corr(),cmap=\"magma\");\n",
    "\n",
    "plt.figure(figsize=(12,6))\n",
    "\n",
    "ax=sns.countplot(x='overall_qual',data=df)\n",
    "\n",
    "for p in ax.patches:\n",
    "    txt = str(p.get_height().round(2))\n",
    "    txt_x = p.get_x() \n",
    "    txt_y = p.get_height()\n",
    "    ax.text(txt_x,txt_y,txt);sns.kdeplot(x='saleprice',data=df,color='black',fill=True,);\n",
    "\n",
    "# right skew data, not normal distributionplt.figure(figsize=(12,6))\n",
    "\n",
    "ax=sns.countplot(x='overall_qual',data=df)\n",
    "\n",
    "for p in ax.patches:\n",
    "    txt = str(p.get_height().round(2))\n",
    "    txt_x = p.get_x() \n",
    "    txt_y = p.get_height()\n",
    "    ax.text(txt_x,txt_y,txt);"
   ]
  },
  {
   "cell_type": "code",
   "execution_count": null,
   "id": "collaborative-expansion",
   "metadata": {
    "scrolled": true
   },
   "outputs": [],
   "source": [
    "# Kernel Density Plot\n",
    "sns.distplot(df.saleprice,fit=norm);\n",
    "plt.ylabel=('Frequency')\n",
    "plt.title=('SalePrice distribution');\n",
    "\n",
    "# Get the fitted parameters used by the function\n",
    "(mu, sigma) = norm.fit(df['saleprice']);\n",
    "\n",
    "print(\"skewness: %f\" % df['saleprice'].skew());"
   ]
  },
  {
   "cell_type": "code",
   "execution_count": null,
   "id": "executive-bradley",
   "metadata": {},
   "outputs": [],
   "source": [
    "fig = plt.figure()\n",
    "res = stats.probplot(df['saleprice'], plot=plt)\n",
    "plt.show()"
   ]
  },
  {
   "cell_type": "code",
   "execution_count": null,
   "id": "optional-preserve",
   "metadata": {},
   "outputs": [],
   "source": [
    "#since it is right skewed we will use log transformation\n",
    "#https://gdcoder.com/when-why-to-use-log-transformation-in-regression/\n"
   ]
  },
  {
   "cell_type": "code",
   "execution_count": null,
   "id": "mobile-geology",
   "metadata": {},
   "outputs": [],
   "source": [
    "#df.corr()['SalePrice'].sort_values()\n",
    "a =df.corr()['saleprice'].sort_values(ascending =False).head(10)\n",
    "\n",
    "print(a)\n",
    "#print(df.info())"
   ]
  },
  {
   "cell_type": "code",
   "execution_count": null,
   "id": "seeing-circle",
   "metadata": {},
   "outputs": [],
   "source": [
    "#how do we plan to fix skewness?\n",
    "#remove all outliers or using sqrt/log/box cox\n",
    "#https://medium.com/@ODSC/transforming-skewed-data-for-machine-learning-90e6cc364b0"
   ]
  },
  {
   "cell_type": "code",
   "execution_count": null,
   "id": "spiritual-thailand",
   "metadata": {},
   "outputs": [],
   "source": [
    "#features with categorical dont touch!!\n",
    "#features with numerical, or ordinal..yes ..try check"
   ]
  },
  {
   "cell_type": "markdown",
   "id": "frank-rebound",
   "metadata": {},
   "source": [
    "# fixing outliers"
   ]
  },
  {
   "cell_type": "code",
   "execution_count": null,
   "id": "chronic-underwear",
   "metadata": {},
   "outputs": [],
   "source": [
    "sns.boxplot(x='saleprice',data=df);"
   ]
  },
  {
   "cell_type": "code",
   "execution_count": null,
   "id": "collect-flesh",
   "metadata": {},
   "outputs": [],
   "source": [
    "#overall_qual\n",
    "#doesnt make sense to remove any of the data!!\n",
    "\n",
    "#box plot overallqual/saleprice\n",
    "plt.figure(figsize=(12,8))\n",
    "sns.boxplot(data=df, x='overall_qual',y='saleprice')\n",
    "plt.show()\n"
   ]
  },
  {
   "cell_type": "code",
   "execution_count": null,
   "id": "curious-little",
   "metadata": {},
   "outputs": [],
   "source": [
    "plt.figure(figsize=(12,8))\n",
    "sns.scatterplot(x='overall_qual',y='saleprice',data=df)"
   ]
  },
  {
   "cell_type": "code",
   "execution_count": null,
   "id": "fatty-floating",
   "metadata": {},
   "outputs": [],
   "source": [
    "#gr_liv_area\n",
    "plt.figure(figsize=(20,10),dpi=90)\n",
    "sns.displot(df['gr_liv_area'],kde=True)\n",
    "plt.show()"
   ]
  },
  {
   "cell_type": "code",
   "execution_count": null,
   "id": "taken-storm",
   "metadata": {},
   "outputs": [],
   "source": [
    "plt.figure(figsize=(12,8))\n",
    "sns.scatterplot(x='gr_liv_area',y='saleprice',data=df)"
   ]
  },
  {
   "cell_type": "code",
   "execution_count": null,
   "id": "opposed-spread",
   "metadata": {},
   "outputs": [],
   "source": [
    "#remove using visual aid\n",
    "df = df.drop(df[(df['gr_liv_area']>4000) & (df['gr_liv_area']<400000)].index)"
   ]
  },
  {
   "cell_type": "code",
   "execution_count": null,
   "id": "critical-flesh",
   "metadata": {},
   "outputs": [],
   "source": [
    "#garage_cars\n",
    "plt.figure(figsize=(12,8))\n",
    "sns.boxplot(data=df, x='garage_cars',y='saleprice')\n",
    "plt.show()\n",
    "\n"
   ]
  },
  {
   "cell_type": "code",
   "execution_count": null,
   "id": "fitted-croatia",
   "metadata": {},
   "outputs": [],
   "source": [
    "plt.figure(figsize=(12,8))\n",
    "sns.scatterplot(x='garage_cars',y='saleprice',data=df)"
   ]
  },
  {
   "cell_type": "code",
   "execution_count": null,
   "id": "detected-credit",
   "metadata": {},
   "outputs": [],
   "source": [
    "#garage_area\n",
    "plt.figure(figsize=(20,10),dpi=90)\n",
    "sns.displot(df['garage_area'],kde=True)\n",
    "plt.show()"
   ]
  },
  {
   "cell_type": "code",
   "execution_count": null,
   "id": "transparent-terrace",
   "metadata": {},
   "outputs": [],
   "source": [
    "plt.figure(figsize=(12,8))\n",
    "sns.scatterplot(x='garage_area',y='saleprice',data=df)\n",
    "plt.show()"
   ]
  },
  {
   "cell_type": "code",
   "execution_count": null,
   "id": "opening-seeker",
   "metadata": {},
   "outputs": [],
   "source": [
    "#remove using visual aid\n",
    "df = df.drop(df[(df['garage_area']>1200)].index)"
   ]
  },
  {
   "cell_type": "code",
   "execution_count": null,
   "id": "scheduled-alias",
   "metadata": {},
   "outputs": [],
   "source": [
    "plt.figure(figsize=(12,8))\n",
    "sns.scatterplot(x='garage_area',y='saleprice',data=df)\n",
    "plt.show()"
   ]
  },
  {
   "cell_type": "code",
   "execution_count": null,
   "id": "urban-missouri",
   "metadata": {},
   "outputs": [],
   "source": [
    "#total_bsmt_sf\n",
    "plt.figure(figsize=(12,8))\n",
    "sns.scatterplot(x='total_bsmt_sf',y='saleprice',data=df)\n",
    "plt.show()"
   ]
  },
  {
   "cell_type": "code",
   "execution_count": null,
   "id": "super-integration",
   "metadata": {},
   "outputs": [],
   "source": [
    "#1st_flr_sf \n",
    "plt.figure(figsize=(12,8))\n",
    "sns.scatterplot(x='1st_flr_sf',y='saleprice',data=df)\n",
    "plt.show()"
   ]
  },
  {
   "cell_type": "code",
   "execution_count": null,
   "id": "timely-offset",
   "metadata": {},
   "outputs": [],
   "source": [
    "#remove using visual aid\n",
    "df = df.drop(df[(df['1st_flr_sf']>3500)].index)"
   ]
  },
  {
   "cell_type": "code",
   "execution_count": null,
   "id": "orange-airport",
   "metadata": {},
   "outputs": [],
   "source": [
    "#after\n",
    "plt.figure(figsize=(12,8))\n",
    "sns.scatterplot(x='1st_flr_sf',y='saleprice',data=df)\n",
    "plt.show()"
   ]
  },
  {
   "cell_type": "code",
   "execution_count": null,
   "id": "finite-special",
   "metadata": {},
   "outputs": [],
   "source": [
    "#year_built\n",
    "plt.figure(figsize=(16,8))\n",
    "\n",
    "sns.boxplot(data=df, x='year_built',y='saleprice')\n",
    "plt.xticks(rotation=90)\n",
    "plt.show()"
   ]
  },
  {
   "cell_type": "code",
   "execution_count": null,
   "id": "affecting-protection",
   "metadata": {},
   "outputs": [],
   "source": [
    "#full_bath\n",
    "plt.figure(figsize=(16,8))\n",
    "\n",
    "sns.boxplot(data=df, x='full_bath',y='saleprice')\n",
    "plt.show()"
   ]
  },
  {
   "cell_type": "code",
   "execution_count": null,
   "id": "right-causing",
   "metadata": {},
   "outputs": [],
   "source": [
    "sns.scatterplot(x='full_bath',y='saleprice',data=df);"
   ]
  },
  {
   "cell_type": "code",
   "execution_count": null,
   "id": "endangered-obligation",
   "metadata": {},
   "outputs": [],
   "source": [
    "df.index[df['full_bath']==1.0] & df.index[df['saleprice']<10.0]\n",
    "\n",
    "df.loc[[181,1553]]\n",
    "\n",
    "df.drop([181,1553],axis=0,inplace=True)"
   ]
  },
  {
   "cell_type": "code",
   "execution_count": null,
   "id": "fallen-poison",
   "metadata": {},
   "outputs": [],
   "source": [
    "df.index[df['full_bath']==0] & df.index[df['saleprice']>300000]\n",
    "\n",
    "df.drop([2522],axis=0,inplace=True)"
   ]
  },
  {
   "cell_type": "code",
   "execution_count": null,
   "id": "comparable-balance",
   "metadata": {},
   "outputs": [],
   "source": [
    "#year_remod/add\n",
    "plt.figure(figsize=(16,8))\n",
    "\n",
    "sns.boxplot(data=df, x='year_remod/add',y='saleprice')\n",
    "plt.xticks(rotation=90)\n",
    "plt.show()"
   ]
  },
  {
   "cell_type": "code",
   "execution_count": null,
   "id": "connected-cargo",
   "metadata": {},
   "outputs": [],
   "source": [
    "df.info()"
   ]
  },
  {
   "cell_type": "markdown",
   "id": "acknowledged-venue",
   "metadata": {},
   "source": [
    "# fixing skewness"
   ]
  },
  {
   "cell_type": "code",
   "execution_count": null,
   "id": "labeled-pattern",
   "metadata": {},
   "outputs": [],
   "source": [
    "#log transform the data saleprice\n",
    "#df[\"saleprice\"] = np.log1p(df[\"saleprice\"])"
   ]
  },
  {
   "cell_type": "code",
   "execution_count": null,
   "id": "careful-sheffield",
   "metadata": {},
   "outputs": [],
   "source": [
    "sns.rugplot(x='saleprice',data=df,height=0.5);"
   ]
  },
  {
   "cell_type": "code",
   "execution_count": null,
   "id": "orange-liechtenstein",
   "metadata": {},
   "outputs": [],
   "source": [
    "df['saleprice'].skew()"
   ]
  },
  {
   "cell_type": "code",
   "execution_count": null,
   "id": "consolidated-disabled",
   "metadata": {},
   "outputs": [],
   "source": [
    "df[\"saleprice\"] = np.log1p(df[\"saleprice\"])"
   ]
  },
  {
   "cell_type": "code",
   "execution_count": null,
   "id": "northern-penny",
   "metadata": {},
   "outputs": [],
   "source": [
    "df['saleprice'].skew()"
   ]
  },
  {
   "cell_type": "code",
   "execution_count": null,
   "id": "further-marble",
   "metadata": {},
   "outputs": [],
   "source": [
    "# Kernel Density Plot\n",
    "\n",
    "sns.distplot(df.saleprice,fit=norm);\n",
    "plt.ylabel=('Frequency')\n",
    "plt.title=('SalePrice distribution');\n",
    "\n",
    "# Get the fitted parameters used by the function\n",
    "(mu, sigma) = norm.fit(df['saleprice']);\n",
    "\n",
    "print(\"skewness: %f\" % df['saleprice'].skew());\n",
    "\n",
    "\n"
   ]
  },
  {
   "cell_type": "code",
   "execution_count": null,
   "id": "dental-happiness",
   "metadata": {},
   "outputs": [],
   "source": [
    "fig = plt.figure()\n",
    "res = stats.probplot(df['saleprice'], plot=plt)\n",
    "plt.show()"
   ]
  },
  {
   "cell_type": "markdown",
   "id": "geographic-portuguese",
   "metadata": {},
   "source": [
    "# save the model"
   ]
  },
  {
   "cell_type": "code",
   "execution_count": null,
   "id": "logical-shoulder",
   "metadata": {},
   "outputs": [],
   "source": [
    "df.to_csv('cs1_part1_res.csv',index=False)"
   ]
  }
 ],
 "metadata": {
  "kernelspec": {
   "display_name": "Python 3",
   "language": "python",
   "name": "python3"
  },
  "language_info": {
   "codemirror_mode": {
    "name": "ipython",
    "version": 3
   },
   "file_extension": ".py",
   "mimetype": "text/x-python",
   "name": "python",
   "nbconvert_exporter": "python",
   "pygments_lexer": "ipython3",
   "version": "3.7.10"
  }
 },
 "nbformat": 4,
 "nbformat_minor": 5
}
