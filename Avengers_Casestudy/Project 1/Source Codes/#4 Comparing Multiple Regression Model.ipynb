{
 "cells": [
  {
   "cell_type": "markdown",
   "id": "posted-healing",
   "metadata": {},
   "source": [
    "# testing different models for accuracy"
   ]
  },
  {
   "cell_type": "code",
   "execution_count": 1,
   "id": "centered-region",
   "metadata": {},
   "outputs": [],
   "source": [
    "#importing libraries\n",
    "from sklearn.datasets import load_boston\n",
    "import pandas as pd\n",
    "import numpy as np\n",
    "import matplotlib\n",
    "import matplotlib.pyplot as plt\n",
    "import seaborn as sns\n",
    "\n",
    "%matplotlib inline\n",
    "from sklearn.model_selection import train_test_split\n",
    "from sklearn.linear_model import LinearRegression\n",
    "from sklearn.feature_selection import RFE\n",
    "from sklearn.linear_model import RidgeCV, LassoCV, Ridge, Lasso\n",
    "from sklearn.metrics import mean_squared_error, mean_absolute_error,r2_score\n",
    "import scipy as sp\n",
    "from joblib import dump\n",
    "from sklearn.linear_model import ElasticNet\n",
    "from sklearn.model_selection import GridSearchCV\n",
    "from sklearn.preprocessing import StandardScaler\n",
    "from sklearn.metrics import r2_score"
   ]
  },
  {
   "cell_type": "code",
   "execution_count": 2,
   "id": "incorrect-instruction",
   "metadata": {},
   "outputs": [],
   "source": [
    "df = pd.read_csv(\"cs1_part3_res.csv\")"
   ]
  },
  {
   "cell_type": "code",
   "execution_count": 3,
   "id": "helpful-persian",
   "metadata": {
    "scrolled": true
   },
   "outputs": [
    {
     "name": "stdout",
     "output_type": "stream",
     "text": [
      "<class 'pandas.core.frame.DataFrame'>\n",
      "RangeIndex: 2913 entries, 0 to 2912\n",
      "Columns: 229 entries, ms_subclass to sale_condition_Partial\n",
      "dtypes: float64(38), int64(191)\n",
      "memory usage: 5.1 MB\n"
     ]
    }
   ],
   "source": [
    "df.info()"
   ]
  },
  {
   "cell_type": "markdown",
   "id": "corporate-joshua",
   "metadata": {},
   "source": [
    "# lasso"
   ]
  },
  {
   "cell_type": "code",
   "execution_count": 4,
   "id": "iraqi-covering",
   "metadata": {},
   "outputs": [],
   "source": [
    "#Create  and y \n",
    "X = df.drop('saleprice',axis=1)\n",
    "y = df['saleprice']\n",
    "\n",
    "from sklearn.model_selection import train_test_split\n",
    "X_train,X_test, y_train, y_test = train_test_split(X,y, test_size = 0.2)"
   ]
  },
  {
   "cell_type": "code",
   "execution_count": 5,
   "id": "rolled-opera",
   "metadata": {},
   "outputs": [],
   "source": [
    "from sklearn.preprocessing import StandardScaler\n",
    "scaler = StandardScaler()\n",
    "scaler.fit(X_train)\n",
    "X_train = scaler.transform(X_train)\n",
    "X_test = scaler.transform(X_test)"
   ]
  },
  {
   "cell_type": "code",
   "execution_count": 6,
   "id": "realistic-scotland",
   "metadata": {},
   "outputs": [],
   "source": [
    "lasso_model = Lasso()"
   ]
  },
  {
   "cell_type": "code",
   "execution_count": 7,
   "id": "surprised-harbor",
   "metadata": {},
   "outputs": [
    {
     "data": {
      "text/plain": [
       "Lasso()"
      ]
     },
     "execution_count": 7,
     "metadata": {},
     "output_type": "execute_result"
    }
   ],
   "source": [
    "lasso_model.fit(X_train,y_train)"
   ]
  },
  {
   "cell_type": "code",
   "execution_count": 8,
   "id": "swiss-acrylic",
   "metadata": {},
   "outputs": [],
   "source": [
    "pred_test_lasso = lasso_model.predict(X_test)"
   ]
  },
  {
   "cell_type": "code",
   "execution_count": 9,
   "id": "planned-tennessee",
   "metadata": {},
   "outputs": [
    {
     "data": {
      "text/plain": [
       "array([12.02148188, 12.02148188, 12.02148188, 12.02148188, 12.02148188,\n",
       "       12.02148188, 12.02148188, 12.02148188, 12.02148188, 12.02148188,\n",
       "       12.02148188, 12.02148188, 12.02148188, 12.02148188, 12.02148188,\n",
       "       12.02148188, 12.02148188, 12.02148188, 12.02148188, 12.02148188,\n",
       "       12.02148188, 12.02148188, 12.02148188, 12.02148188, 12.02148188,\n",
       "       12.02148188, 12.02148188, 12.02148188, 12.02148188, 12.02148188,\n",
       "       12.02148188, 12.02148188, 12.02148188, 12.02148188, 12.02148188,\n",
       "       12.02148188, 12.02148188, 12.02148188, 12.02148188, 12.02148188,\n",
       "       12.02148188, 12.02148188, 12.02148188, 12.02148188, 12.02148188,\n",
       "       12.02148188, 12.02148188, 12.02148188, 12.02148188, 12.02148188,\n",
       "       12.02148188, 12.02148188, 12.02148188, 12.02148188, 12.02148188,\n",
       "       12.02148188, 12.02148188, 12.02148188, 12.02148188, 12.02148188,\n",
       "       12.02148188, 12.02148188, 12.02148188, 12.02148188, 12.02148188,\n",
       "       12.02148188, 12.02148188, 12.02148188, 12.02148188, 12.02148188,\n",
       "       12.02148188, 12.02148188, 12.02148188, 12.02148188, 12.02148188,\n",
       "       12.02148188, 12.02148188, 12.02148188, 12.02148188, 12.02148188,\n",
       "       12.02148188, 12.02148188, 12.02148188, 12.02148188, 12.02148188,\n",
       "       12.02148188, 12.02148188, 12.02148188, 12.02148188, 12.02148188,\n",
       "       12.02148188, 12.02148188, 12.02148188, 12.02148188, 12.02148188,\n",
       "       12.02148188, 12.02148188, 12.02148188, 12.02148188, 12.02148188,\n",
       "       12.02148188, 12.02148188, 12.02148188, 12.02148188, 12.02148188,\n",
       "       12.02148188, 12.02148188, 12.02148188, 12.02148188, 12.02148188,\n",
       "       12.02148188, 12.02148188, 12.02148188, 12.02148188, 12.02148188,\n",
       "       12.02148188, 12.02148188, 12.02148188, 12.02148188, 12.02148188,\n",
       "       12.02148188, 12.02148188, 12.02148188, 12.02148188, 12.02148188,\n",
       "       12.02148188, 12.02148188, 12.02148188, 12.02148188, 12.02148188,\n",
       "       12.02148188, 12.02148188, 12.02148188, 12.02148188, 12.02148188,\n",
       "       12.02148188, 12.02148188, 12.02148188, 12.02148188, 12.02148188,\n",
       "       12.02148188, 12.02148188, 12.02148188, 12.02148188, 12.02148188,\n",
       "       12.02148188, 12.02148188, 12.02148188, 12.02148188, 12.02148188,\n",
       "       12.02148188, 12.02148188, 12.02148188, 12.02148188, 12.02148188,\n",
       "       12.02148188, 12.02148188, 12.02148188, 12.02148188, 12.02148188,\n",
       "       12.02148188, 12.02148188, 12.02148188, 12.02148188, 12.02148188,\n",
       "       12.02148188, 12.02148188, 12.02148188, 12.02148188, 12.02148188,\n",
       "       12.02148188, 12.02148188, 12.02148188, 12.02148188, 12.02148188,\n",
       "       12.02148188, 12.02148188, 12.02148188, 12.02148188, 12.02148188,\n",
       "       12.02148188, 12.02148188, 12.02148188, 12.02148188, 12.02148188,\n",
       "       12.02148188, 12.02148188, 12.02148188, 12.02148188, 12.02148188,\n",
       "       12.02148188, 12.02148188, 12.02148188, 12.02148188, 12.02148188,\n",
       "       12.02148188, 12.02148188, 12.02148188, 12.02148188, 12.02148188,\n",
       "       12.02148188, 12.02148188, 12.02148188, 12.02148188, 12.02148188,\n",
       "       12.02148188, 12.02148188, 12.02148188, 12.02148188, 12.02148188,\n",
       "       12.02148188, 12.02148188, 12.02148188, 12.02148188, 12.02148188,\n",
       "       12.02148188, 12.02148188, 12.02148188, 12.02148188, 12.02148188,\n",
       "       12.02148188, 12.02148188, 12.02148188, 12.02148188, 12.02148188,\n",
       "       12.02148188, 12.02148188, 12.02148188, 12.02148188, 12.02148188,\n",
       "       12.02148188, 12.02148188, 12.02148188, 12.02148188, 12.02148188,\n",
       "       12.02148188, 12.02148188, 12.02148188, 12.02148188, 12.02148188,\n",
       "       12.02148188, 12.02148188, 12.02148188, 12.02148188, 12.02148188,\n",
       "       12.02148188, 12.02148188, 12.02148188, 12.02148188, 12.02148188,\n",
       "       12.02148188, 12.02148188, 12.02148188, 12.02148188, 12.02148188,\n",
       "       12.02148188, 12.02148188, 12.02148188, 12.02148188, 12.02148188,\n",
       "       12.02148188, 12.02148188, 12.02148188, 12.02148188, 12.02148188,\n",
       "       12.02148188, 12.02148188, 12.02148188, 12.02148188, 12.02148188,\n",
       "       12.02148188, 12.02148188, 12.02148188, 12.02148188, 12.02148188,\n",
       "       12.02148188, 12.02148188, 12.02148188, 12.02148188, 12.02148188,\n",
       "       12.02148188, 12.02148188, 12.02148188, 12.02148188, 12.02148188,\n",
       "       12.02148188, 12.02148188, 12.02148188, 12.02148188, 12.02148188,\n",
       "       12.02148188, 12.02148188, 12.02148188, 12.02148188, 12.02148188,\n",
       "       12.02148188, 12.02148188, 12.02148188, 12.02148188, 12.02148188,\n",
       "       12.02148188, 12.02148188, 12.02148188, 12.02148188, 12.02148188,\n",
       "       12.02148188, 12.02148188, 12.02148188, 12.02148188, 12.02148188,\n",
       "       12.02148188, 12.02148188, 12.02148188, 12.02148188, 12.02148188,\n",
       "       12.02148188, 12.02148188, 12.02148188, 12.02148188, 12.02148188,\n",
       "       12.02148188, 12.02148188, 12.02148188, 12.02148188, 12.02148188,\n",
       "       12.02148188, 12.02148188, 12.02148188, 12.02148188, 12.02148188,\n",
       "       12.02148188, 12.02148188, 12.02148188, 12.02148188, 12.02148188,\n",
       "       12.02148188, 12.02148188, 12.02148188, 12.02148188, 12.02148188,\n",
       "       12.02148188, 12.02148188, 12.02148188, 12.02148188, 12.02148188,\n",
       "       12.02148188, 12.02148188, 12.02148188, 12.02148188, 12.02148188,\n",
       "       12.02148188, 12.02148188, 12.02148188, 12.02148188, 12.02148188,\n",
       "       12.02148188, 12.02148188, 12.02148188, 12.02148188, 12.02148188,\n",
       "       12.02148188, 12.02148188, 12.02148188, 12.02148188, 12.02148188,\n",
       "       12.02148188, 12.02148188, 12.02148188, 12.02148188, 12.02148188,\n",
       "       12.02148188, 12.02148188, 12.02148188, 12.02148188, 12.02148188,\n",
       "       12.02148188, 12.02148188, 12.02148188, 12.02148188, 12.02148188,\n",
       "       12.02148188, 12.02148188, 12.02148188, 12.02148188, 12.02148188,\n",
       "       12.02148188, 12.02148188, 12.02148188, 12.02148188, 12.02148188,\n",
       "       12.02148188, 12.02148188, 12.02148188, 12.02148188, 12.02148188,\n",
       "       12.02148188, 12.02148188, 12.02148188, 12.02148188, 12.02148188,\n",
       "       12.02148188, 12.02148188, 12.02148188, 12.02148188, 12.02148188,\n",
       "       12.02148188, 12.02148188, 12.02148188, 12.02148188, 12.02148188,\n",
       "       12.02148188, 12.02148188, 12.02148188, 12.02148188, 12.02148188,\n",
       "       12.02148188, 12.02148188, 12.02148188, 12.02148188, 12.02148188,\n",
       "       12.02148188, 12.02148188, 12.02148188, 12.02148188, 12.02148188,\n",
       "       12.02148188, 12.02148188, 12.02148188, 12.02148188, 12.02148188,\n",
       "       12.02148188, 12.02148188, 12.02148188, 12.02148188, 12.02148188,\n",
       "       12.02148188, 12.02148188, 12.02148188, 12.02148188, 12.02148188,\n",
       "       12.02148188, 12.02148188, 12.02148188, 12.02148188, 12.02148188,\n",
       "       12.02148188, 12.02148188, 12.02148188, 12.02148188, 12.02148188,\n",
       "       12.02148188, 12.02148188, 12.02148188, 12.02148188, 12.02148188,\n",
       "       12.02148188, 12.02148188, 12.02148188, 12.02148188, 12.02148188,\n",
       "       12.02148188, 12.02148188, 12.02148188, 12.02148188, 12.02148188,\n",
       "       12.02148188, 12.02148188, 12.02148188, 12.02148188, 12.02148188,\n",
       "       12.02148188, 12.02148188, 12.02148188, 12.02148188, 12.02148188,\n",
       "       12.02148188, 12.02148188, 12.02148188, 12.02148188, 12.02148188,\n",
       "       12.02148188, 12.02148188, 12.02148188, 12.02148188, 12.02148188,\n",
       "       12.02148188, 12.02148188, 12.02148188, 12.02148188, 12.02148188,\n",
       "       12.02148188, 12.02148188, 12.02148188, 12.02148188, 12.02148188,\n",
       "       12.02148188, 12.02148188, 12.02148188, 12.02148188, 12.02148188,\n",
       "       12.02148188, 12.02148188, 12.02148188, 12.02148188, 12.02148188,\n",
       "       12.02148188, 12.02148188, 12.02148188, 12.02148188, 12.02148188,\n",
       "       12.02148188, 12.02148188, 12.02148188, 12.02148188, 12.02148188,\n",
       "       12.02148188, 12.02148188, 12.02148188, 12.02148188, 12.02148188,\n",
       "       12.02148188, 12.02148188, 12.02148188, 12.02148188, 12.02148188,\n",
       "       12.02148188, 12.02148188, 12.02148188, 12.02148188, 12.02148188,\n",
       "       12.02148188, 12.02148188, 12.02148188, 12.02148188, 12.02148188,\n",
       "       12.02148188, 12.02148188, 12.02148188, 12.02148188, 12.02148188,\n",
       "       12.02148188, 12.02148188, 12.02148188, 12.02148188, 12.02148188,\n",
       "       12.02148188, 12.02148188, 12.02148188, 12.02148188, 12.02148188,\n",
       "       12.02148188, 12.02148188, 12.02148188, 12.02148188, 12.02148188,\n",
       "       12.02148188, 12.02148188, 12.02148188, 12.02148188, 12.02148188,\n",
       "       12.02148188, 12.02148188, 12.02148188, 12.02148188, 12.02148188,\n",
       "       12.02148188, 12.02148188, 12.02148188, 12.02148188, 12.02148188,\n",
       "       12.02148188, 12.02148188, 12.02148188, 12.02148188, 12.02148188,\n",
       "       12.02148188, 12.02148188, 12.02148188, 12.02148188, 12.02148188,\n",
       "       12.02148188, 12.02148188, 12.02148188])"
      ]
     },
     "execution_count": 9,
     "metadata": {},
     "output_type": "execute_result"
    }
   ],
   "source": [
    "pred_test_lasso"
   ]
  },
  {
   "cell_type": "code",
   "execution_count": 10,
   "id": "unlimited-professor",
   "metadata": {},
   "outputs": [],
   "source": [
    "MAE_Lasso = mean_absolute_error(y_test,pred_test_lasso)\n",
    "MSE_Lasso = mean_squared_error(y_test,pred_test_lasso)\n",
    "RMSE_Lasso = np.sqrt(MSE_Lasso)"
   ]
  },
  {
   "cell_type": "code",
   "execution_count": 11,
   "id": "intermediate-liverpool",
   "metadata": {},
   "outputs": [
    {
     "data": {
      "text/plain": [
       "0.31075561189765727"
      ]
     },
     "execution_count": 11,
     "metadata": {},
     "output_type": "execute_result"
    }
   ],
   "source": [
    "MAE_Lasso"
   ]
  },
  {
   "cell_type": "code",
   "execution_count": 12,
   "id": "thousand-tennessee",
   "metadata": {},
   "outputs": [
    {
     "data": {
      "text/plain": [
       "0.15790589321041712"
      ]
     },
     "execution_count": 12,
     "metadata": {},
     "output_type": "execute_result"
    }
   ],
   "source": [
    "MSE_Lasso"
   ]
  },
  {
   "cell_type": "code",
   "execution_count": 13,
   "id": "hollow-teens",
   "metadata": {},
   "outputs": [
    {
     "data": {
      "text/plain": [
       "0.39737374499382455"
      ]
     },
     "execution_count": 13,
     "metadata": {},
     "output_type": "execute_result"
    }
   ],
   "source": [
    "RMSE_Lasso"
   ]
  },
  {
   "cell_type": "code",
   "execution_count": 14,
   "id": "seven-promotion",
   "metadata": {},
   "outputs": [],
   "source": [
    "def MAPE(y_test,pred_test_lasso):\n",
    "    mape = np.mean(np.abs((y_test - pred_test_lasso)/y_test))*100\n",
    "    return mape"
   ]
  },
  {
   "cell_type": "code",
   "execution_count": 15,
   "id": "dangerous-russell",
   "metadata": {},
   "outputs": [],
   "source": [
    "LR_MAPElasso= MAPE(y_test,pred_test_lasso)"
   ]
  },
  {
   "cell_type": "code",
   "execution_count": 16,
   "id": "consolidated-brass",
   "metadata": {},
   "outputs": [
    {
     "name": "stdout",
     "output_type": "stream",
     "text": [
      "lassocv MAPE:  2.5912655430698592\n"
     ]
    }
   ],
   "source": [
    "print(\"lassocv MAPE: \",LR_MAPElasso)"
   ]
  },
  {
   "cell_type": "code",
   "execution_count": 17,
   "id": "affecting-dryer",
   "metadata": {},
   "outputs": [
    {
     "data": {
      "text/plain": [
       "-0.0"
      ]
     },
     "execution_count": 17,
     "metadata": {},
     "output_type": "execute_result"
    }
   ],
   "source": [
    "accuracy1= round(r2_score(y_test, pred_test_lasso), 2)\n",
    "accuracy1= accuracy1 * 100\n",
    "accuracy1"
   ]
  },
  {
   "cell_type": "markdown",
   "id": "russian-values",
   "metadata": {},
   "source": [
    "# lasso cv"
   ]
  },
  {
   "cell_type": "code",
   "execution_count": 18,
   "id": "cognitive-collective",
   "metadata": {},
   "outputs": [],
   "source": [
    "#Create  and y \n",
    "X = df.drop('saleprice',axis=1)\n",
    "y = df['saleprice']\n",
    "\n",
    "from sklearn.model_selection import train_test_split\n",
    "X_train,X_test, y_train, y_test = train_test_split(X,y, test_size = 0.2)"
   ]
  },
  {
   "cell_type": "code",
   "execution_count": 19,
   "id": "paperback-aviation",
   "metadata": {},
   "outputs": [],
   "source": [
    "from sklearn.preprocessing import StandardScaler\n",
    "scaler = StandardScaler()\n",
    "scaler.fit(X_train)\n",
    "X_train = scaler.transform(X_train)\n",
    "X_test = scaler.transform(X_test)"
   ]
  },
  {
   "cell_type": "code",
   "execution_count": 20,
   "id": "sticky-walker",
   "metadata": {},
   "outputs": [],
   "source": [
    "lasso_model = LassoCV()"
   ]
  },
  {
   "cell_type": "code",
   "execution_count": 21,
   "id": "living-video",
   "metadata": {},
   "outputs": [
    {
     "data": {
      "text/plain": [
       "LassoCV()"
      ]
     },
     "execution_count": 21,
     "metadata": {},
     "output_type": "execute_result"
    }
   ],
   "source": [
    "lasso_model.fit(X_train,y_train)"
   ]
  },
  {
   "cell_type": "code",
   "execution_count": 22,
   "id": "median-anniversary",
   "metadata": {},
   "outputs": [],
   "source": [
    "pred_test_lasso = lasso_model.predict(X_test)"
   ]
  },
  {
   "cell_type": "code",
   "execution_count": 23,
   "id": "fabulous-tours",
   "metadata": {},
   "outputs": [
    {
     "data": {
      "text/plain": [
       "array([11.07996105, 12.54479967, 12.53227869, 12.31174785, 11.50185452,\n",
       "       12.1646356 , 11.82335552, 11.92891394, 13.13857666, 12.74672419,\n",
       "       11.63533411, 11.91698972, 11.38033338, 12.29360183, 11.84104565,\n",
       "       12.70196848, 12.14459606, 12.20637662, 11.66018428, 12.03174497,\n",
       "       12.77179282, 11.76595381, 12.15265288, 11.90715783, 11.39911061,\n",
       "       12.51823231, 11.87845771, 11.64085876, 12.12417788, 12.02036855,\n",
       "       12.04000021, 12.66680406, 12.0400895 , 11.73749185, 11.71764786,\n",
       "       12.66923929, 11.87931527, 12.07803357, 12.21135039, 12.31110414,\n",
       "       12.01639868, 11.31298762, 11.789639  , 11.4181084 , 12.15922387,\n",
       "       11.49895867, 11.63713221, 12.1060782 , 11.75088342, 12.50887147,\n",
       "       11.45832993, 11.98278829, 12.15142958, 12.29912604, 11.59773271,\n",
       "       11.37608021, 12.35190975, 11.83743376, 11.83731163, 11.79772042,\n",
       "       12.22659926, 11.70997535, 12.15494281, 11.85776081, 12.23453663,\n",
       "       11.84046297, 12.47110887, 12.17958817, 11.86655786, 12.28916747,\n",
       "       12.6702679 , 11.74057797, 12.25353877, 11.88155657, 11.74713363,\n",
       "       12.31022952, 11.89561357, 12.19575559, 12.03225686, 12.24093763,\n",
       "       12.58918673, 12.07162244, 11.96575642, 12.89683901, 12.67492431,\n",
       "       11.95996603, 12.25978766, 11.82811734, 11.723709  , 12.46543016,\n",
       "       11.92935698, 12.11292087, 11.90615952, 11.79709234, 12.01046896,\n",
       "       11.92228458, 11.96161159, 12.50654162, 11.4893857 , 11.54512452,\n",
       "       12.12149231, 11.94716004, 12.05396289, 11.96689068, 12.44922325,\n",
       "       13.13428119, 11.93421813, 11.81520952, 11.80010618, 12.17307767,\n",
       "       11.74447847, 11.36014454, 11.6838173 , 11.07041713, 11.7119579 ,\n",
       "       12.08458188, 11.61603531, 12.27082801, 12.19630347, 11.43447782,\n",
       "       12.24440172, 11.68857688, 12.46853618, 11.64176907, 12.17031951,\n",
       "       12.14713288, 12.2289159 , 12.27069828, 11.99521027, 11.8884558 ,\n",
       "       12.25184317, 12.77779513, 12.32849159, 12.43021884, 11.49578392,\n",
       "       12.40608382, 11.82312494, 12.19714012, 11.59857774, 11.96980481,\n",
       "       11.52980337, 12.65017013, 10.79849141, 12.55420184, 12.6484561 ,\n",
       "       11.8177946 , 12.18589769, 12.69336728, 11.40324591, 12.3503564 ,\n",
       "       12.18263887, 11.40083849, 12.03440371, 11.61574401, 12.0642789 ,\n",
       "       12.31435231, 12.00392255, 12.01286464, 11.69562098, 12.05181151,\n",
       "       12.1209959 , 12.31123272, 12.6332499 , 11.88845019, 11.73941894,\n",
       "       12.09400311, 12.34902279, 12.26245241, 12.13651926, 11.36531778,\n",
       "       11.66245076, 11.66373572, 12.01613083, 11.81355186, 11.54379525,\n",
       "       11.95612061, 11.52795673, 11.98984467, 11.94367766, 11.84211114,\n",
       "       11.86854216, 11.63517761, 11.45519003, 12.25981225, 11.84728959,\n",
       "       12.93305812, 12.0919844 , 12.72208098, 11.43723755, 11.94771214,\n",
       "       11.44834762, 11.8049827 , 12.31093085, 12.27135306, 12.02157907,\n",
       "       12.97269456, 12.17506328, 11.40263861, 12.2872832 , 12.31558668,\n",
       "       11.66930375, 12.18781772, 12.64396365, 11.92742068, 12.29372256,\n",
       "       11.91759622, 12.32591442, 11.88856906, 12.24431478, 11.43503113,\n",
       "       11.68963903, 11.47527748, 11.87145409, 11.6659143 , 11.87631399,\n",
       "       11.69749281, 11.87285314, 11.68080905, 11.90253132, 11.69603258,\n",
       "       12.10257907, 13.05642381, 11.88578131, 11.59876348, 11.58031324,\n",
       "       12.05029691, 12.39744247, 11.85876647, 11.29168692, 12.31981983,\n",
       "       11.81143528, 12.70968701, 11.15536026, 11.92660885, 11.87240394,\n",
       "       11.08108418, 12.08177072, 12.4362629 , 11.89286007, 11.48888315,\n",
       "       12.20586592, 11.93880503, 12.17259729, 11.91990655, 12.02855078,\n",
       "       12.230305  , 11.89319636, 12.06059228, 11.88879228, 11.68661508,\n",
       "       12.28476954, 12.19210103, 11.6164234 , 12.17049938, 11.91184981,\n",
       "       11.43216587, 12.08116341, 13.07227285, 11.86220221, 12.34549466,\n",
       "       12.53974711, 11.94784617, 11.79164963, 12.07929508, 12.97583782,\n",
       "       11.47410923, 11.61798858, 11.22207589, 11.73517927, 10.99511209,\n",
       "       12.86809711, 11.76351403, 11.51765645, 12.18476597, 11.91280568,\n",
       "       12.6758684 , 11.8334819 , 12.60686552, 12.66459953, 12.10111826,\n",
       "       12.31555357, 12.16818891, 11.92405944, 11.81086917, 11.8672408 ,\n",
       "       11.78233152, 11.72521856, 12.14159461, 12.05183078, 11.84272874,\n",
       "       11.92607971, 12.12542801, 11.54071365, 12.06136661, 11.7386356 ,\n",
       "       11.91401081, 12.81224744, 11.9277379 , 11.90459812, 12.44794703,\n",
       "       12.05436469, 11.38720836, 11.35201288, 12.26351578, 11.74538177,\n",
       "       11.80522995, 12.34492489, 11.66473871, 12.07431185, 11.76750307,\n",
       "       11.74868628, 12.66496723, 12.01050739, 11.49137948, 12.75906656,\n",
       "       11.86312894, 11.95151519, 12.34776739, 11.7502406 , 11.45206432,\n",
       "       12.45240451, 11.91555963, 11.80131893, 11.44691946, 11.42852865,\n",
       "       11.86065355, 12.69674279, 11.82929038, 12.51731138, 12.21807597,\n",
       "       11.74930723, 11.78791642, 12.29659124, 11.75815685, 11.82501077,\n",
       "       12.20973598, 11.79616752, 12.13109325, 12.21853322, 12.02541811,\n",
       "       11.91115445, 12.38897615, 12.05050446, 12.22803103, 11.64594157,\n",
       "       11.61545911, 11.90365637, 11.92399396, 12.50058104, 11.51403139,\n",
       "       11.59190555, 11.91667652, 11.67561555, 12.1926924 , 12.06107064,\n",
       "       12.30125259, 12.16051905, 12.17891115, 12.1142277 , 12.11989321,\n",
       "       12.20633372, 11.99534061, 11.87951517, 11.93573582, 12.97749583,\n",
       "       11.92531688, 11.38557506, 11.91356817, 12.61103286, 12.18009845,\n",
       "       12.29177655, 12.00046863, 11.85304568, 12.54294744, 12.21520515,\n",
       "       11.96991223, 11.2068858 , 11.5042783 , 11.78543841, 11.61583728,\n",
       "       11.91016178, 11.94780587, 11.85068682, 11.97238824, 12.10647934,\n",
       "       11.89463592, 11.86641249, 12.11069622, 11.75867261, 11.91080597,\n",
       "       12.91183464, 11.47663985, 11.86545809, 11.33247646, 12.32524096,\n",
       "       11.84300835, 11.27283617, 12.28502913, 11.87960578, 11.78273831,\n",
       "       11.67673307, 12.81010553, 11.96139338, 11.67716757, 11.75349873,\n",
       "       11.60833361, 11.72415113, 12.08808742, 11.61637262, 11.79621518,\n",
       "       12.0518553 , 11.87751537, 12.54347843, 12.67852115, 11.33077006,\n",
       "       12.169484  , 12.16732574, 12.02057993, 11.72426439, 12.17989525,\n",
       "       11.85281769, 12.0087465 , 11.50197792, 11.90302319, 11.59789765,\n",
       "       12.05837084, 11.95275495, 12.31356875, 12.87836591, 12.58273669,\n",
       "       11.89054709, 11.68525241, 12.04799248, 11.8727627 , 12.05421743,\n",
       "       11.48640039, 11.78646184, 11.82013179, 11.9708468 , 11.96578309,\n",
       "       12.07103878, 11.73264984, 12.25163353, 11.9621076 , 12.23432283,\n",
       "       11.21479295, 12.12509112, 12.10414418, 12.5111581 , 12.28444576,\n",
       "       12.21920479, 12.40510328, 11.71911656, 12.27400966, 11.35736227,\n",
       "       11.52510557, 11.9786975 , 12.70555427, 11.79620523, 11.84934615,\n",
       "       11.13864046, 12.20359641, 12.30124299, 11.98606251, 11.71794158,\n",
       "       11.55262107, 12.18253077, 12.05850849, 11.60303153, 11.61391886,\n",
       "       11.47140003, 11.82195993, 11.95676039, 11.69585983, 11.57132009,\n",
       "       12.96040539, 11.70379032, 12.2627406 , 11.9467695 , 11.94003401,\n",
       "       12.88402358, 12.55885232, 12.29506807, 11.74595146, 11.98936282,\n",
       "       12.46488097, 12.4047737 , 12.50121955, 11.77447146, 11.54873592,\n",
       "       12.15349273, 11.71996407, 11.94824521, 12.65668609, 12.36871504,\n",
       "       12.33463258, 11.66275013, 12.97312373, 11.49952002, 12.85578987,\n",
       "       12.24849445, 12.62700222, 12.15974899, 12.14499811, 11.65916868,\n",
       "       11.89083842, 12.85091571, 11.75825514, 12.21277725, 11.84427303,\n",
       "       12.14928273, 13.00266966, 12.46501628, 11.51580372, 12.51956565,\n",
       "       11.7535662 , 12.15681594, 12.88455955, 11.2949925 , 11.89365657,\n",
       "       11.25088319, 12.39372862, 12.12151436, 11.67385332, 12.66569648,\n",
       "       12.60944379, 11.87732757, 12.29715378, 12.31690172, 11.92932317,\n",
       "       12.00377933, 11.31011537, 11.63285008, 11.87140645, 11.81027093,\n",
       "       12.33569993, 11.74749279, 12.36609129, 12.14388406, 11.9260254 ,\n",
       "       11.94729826, 11.85894352, 12.24573298, 12.01587875, 11.28853522,\n",
       "       12.3160389 , 12.0752988 , 11.75201823, 12.07438071, 12.63783541,\n",
       "       11.45855303, 11.82791432, 12.07105927, 11.605424  , 11.86834938,\n",
       "       12.08192199, 11.83362604, 11.81625626, 12.60385382, 11.70425096,\n",
       "       12.30799645, 12.70794188, 11.92499181, 12.48148544, 12.73516097,\n",
       "       12.149066  , 12.34357425, 12.16140152, 11.70851417, 13.09075505,\n",
       "       11.80885272, 11.77685287, 11.38734834, 12.1548904 , 12.25038877,\n",
       "       12.16494161, 12.02545571, 12.41493311, 12.12909779, 12.07342913,\n",
       "       12.68447333, 11.75650566, 11.93150494])"
      ]
     },
     "execution_count": 23,
     "metadata": {},
     "output_type": "execute_result"
    }
   ],
   "source": [
    "pred_test_lasso"
   ]
  },
  {
   "cell_type": "code",
   "execution_count": 24,
   "id": "cardiovascular-customer",
   "metadata": {},
   "outputs": [],
   "source": [
    "MAE_Lasso = mean_absolute_error(y_test,pred_test_lasso)\n",
    "MSE_Lasso = mean_squared_error(y_test,pred_test_lasso)\n",
    "RMSE_Lasso = np.sqrt(MSE_Lasso)"
   ]
  },
  {
   "cell_type": "code",
   "execution_count": 25,
   "id": "numerous-permission",
   "metadata": {},
   "outputs": [
    {
     "data": {
      "text/plain": [
       "0.07534249878300636"
      ]
     },
     "execution_count": 25,
     "metadata": {},
     "output_type": "execute_result"
    }
   ],
   "source": [
    "MAE_Lasso"
   ]
  },
  {
   "cell_type": "code",
   "execution_count": 26,
   "id": "basic-diploma",
   "metadata": {},
   "outputs": [
    {
     "data": {
      "text/plain": [
       "0.011142277669986853"
      ]
     },
     "execution_count": 26,
     "metadata": {},
     "output_type": "execute_result"
    }
   ],
   "source": [
    "MSE_Lasso"
   ]
  },
  {
   "cell_type": "code",
   "execution_count": 27,
   "id": "affected-column",
   "metadata": {},
   "outputs": [
    {
     "data": {
      "text/plain": [
       "0.1055569877837884"
      ]
     },
     "execution_count": 27,
     "metadata": {},
     "output_type": "execute_result"
    }
   ],
   "source": [
    "RMSE_Lasso"
   ]
  },
  {
   "cell_type": "code",
   "execution_count": 28,
   "id": "comprehensive-animation",
   "metadata": {},
   "outputs": [],
   "source": [
    "def MAPE(y_test,pred_test_lasso):\n",
    "    mape = np.mean(np.abs((y_test - pred_test_lasso)/y_test))*100\n",
    "    return mape"
   ]
  },
  {
   "cell_type": "code",
   "execution_count": 29,
   "id": "hired-actress",
   "metadata": {},
   "outputs": [],
   "source": [
    "LR_MAPElassocv= MAPE(y_test,pred_test_lasso)"
   ]
  },
  {
   "cell_type": "code",
   "execution_count": 30,
   "id": "plastic-portrait",
   "metadata": {},
   "outputs": [
    {
     "name": "stdout",
     "output_type": "stream",
     "text": [
      "lassocv MAPE:  0.6318260623063565\n"
     ]
    }
   ],
   "source": [
    "print(\"lassocv MAPE: \",LR_MAPElassocv)"
   ]
  },
  {
   "cell_type": "code",
   "execution_count": 31,
   "id": "together-dublin",
   "metadata": {},
   "outputs": [
    {
     "name": "stdout",
     "output_type": "stream",
     "text": [
      "Best alpha using built-in LassoCV: 0.002315\n",
      "Best score using built-in LassoCV: -2315483.577322\n"
     ]
    }
   ],
   "source": [
    "print(\"Best alpha using built-in LassoCV: %f\" % lasso_model.alpha_)\n",
    "print(\"Best score using built-in LassoCV: %f\" %lasso_model.score(X,y))\n",
    "coef = pd.Series(lasso_model.coef_, index = X.columns)"
   ]
  },
  {
   "cell_type": "code",
   "execution_count": 32,
   "id": "skilled-parking",
   "metadata": {},
   "outputs": [],
   "source": [
    "test_pred=y_test-pred_test_lasso"
   ]
  },
  {
   "cell_type": "code",
   "execution_count": 33,
   "id": "careful-buffalo",
   "metadata": {},
   "outputs": [
    {
     "data": {
      "text/plain": [
       "<matplotlib.lines.Line2D at 0x273cb8a21c8>"
      ]
     },
     "execution_count": 33,
     "metadata": {},
     "output_type": "execute_result"
    },
    {
     "data": {
      "image/png": "[encoded data removed]",
      "text/plain": [
       "<Figure size 432x288 with 1 Axes>"
      ]
     },
     "metadata": {
      "needs_background": "light"
     },
     "output_type": "display_data"
    }
   ],
   "source": [
    "sns.scatterplot(x=y_test,y=test_pred)\n",
    "plt.axhline(y=0,color='magenta',linestyle='--')"
   ]
  },
  {
   "cell_type": "code",
   "execution_count": 34,
   "id": "foreign-reward",
   "metadata": {},
   "outputs": [
    {
     "data": {
      "image/png": "[encoded data removed]",
      "text/plain": [
       "<Figure size 1000x1200 with 1 Axes>"
      ]
     },
     "metadata": {
      "needs_background": "light"
     },
     "output_type": "display_data"
    }
   ],
   "source": [
    "fig,ax = plt.subplots(figsize=(10,12),dpi=100)\n",
    "\n",
    "_=sp.stats.probplot(test_pred,plot=ax)"
   ]
  },
  {
   "cell_type": "code",
   "execution_count": 35,
   "id": "spoken-edwards",
   "metadata": {},
   "outputs": [
    {
     "data": {
      "text/plain": [
       "0.878153175795918"
      ]
     },
     "execution_count": 35,
     "metadata": {},
     "output_type": "execute_result"
    }
   ],
   "source": [
    "100*RMSE_Lasso/df['saleprice'].mean()"
   ]
  },
  {
   "cell_type": "code",
   "execution_count": 36,
   "id": "capable-drunk",
   "metadata": {},
   "outputs": [
    {
     "data": {
      "text/plain": [
       "93.0"
      ]
     },
     "execution_count": 36,
     "metadata": {},
     "output_type": "execute_result"
    }
   ],
   "source": [
    "accuracy2= round(r2_score(y_test, pred_test_lasso), 2)\n",
    "accuracy2= accuracy2 * 100\n",
    "accuracy2"
   ]
  },
  {
   "cell_type": "markdown",
   "id": "loaded-omega",
   "metadata": {},
   "source": [
    "# linear regression"
   ]
  },
  {
   "cell_type": "code",
   "execution_count": 37,
   "id": "false-tanzania",
   "metadata": {},
   "outputs": [],
   "source": [
    "#Create  and y \n",
    "X = df.drop('saleprice',axis=1)\n",
    "y = df['saleprice']\n",
    "\n",
    "from sklearn.model_selection import train_test_split\n",
    "X_train,X_test, y_train, y_test = train_test_split(X,y, test_size = 0.2)"
   ]
  },
  {
   "cell_type": "code",
   "execution_count": 38,
   "id": "sorted-grove",
   "metadata": {},
   "outputs": [],
   "source": [
    "from sklearn.preprocessing import StandardScaler\n",
    "scaler = StandardScaler()\n",
    "scaler.fit(X_train)\n",
    "X_train = scaler.transform(X_train)\n",
    "X_test = scaler.transform(X_test)"
   ]
  },
  {
   "cell_type": "code",
   "execution_count": 39,
   "id": "confident-finland",
   "metadata": {},
   "outputs": [],
   "source": [
    "linear_model = LinearRegression()"
   ]
  },
  {
   "cell_type": "code",
   "execution_count": 40,
   "id": "signed-attendance",
   "metadata": {},
   "outputs": [
    {
     "data": {
      "text/plain": [
       "LinearRegression()"
      ]
     },
     "execution_count": 40,
     "metadata": {},
     "output_type": "execute_result"
    }
   ],
   "source": [
    "linear_model.fit(X_train,y_train)"
   ]
  },
  {
   "cell_type": "code",
   "execution_count": 41,
   "id": "biblical-consensus",
   "metadata": {},
   "outputs": [],
   "source": [
    "pred_linear_model = linear_model.predict(X_test)"
   ]
  },
  {
   "cell_type": "code",
   "execution_count": 42,
   "id": "located-savings",
   "metadata": {},
   "outputs": [
    {
     "data": {
      "text/plain": [
       "array([1.14230172e+01, 1.18975427e+01, 1.18259408e+01, 1.29354989e+01,\n",
       "       1.19067132e+01, 1.25724923e+01, 1.18089234e+01, 1.26474892e+01,\n",
       "       1.20742471e+01, 1.24116036e+01, 1.16381356e+01, 1.17399651e+01,\n",
       "       1.27734200e+01, 1.16508157e+01, 1.30628793e+01, 1.14102685e+01,\n",
       "       1.23455865e+01, 1.29476907e+01, 1.24430291e+01, 1.21277367e+01,\n",
       "       1.21450555e+01, 1.16966378e+01, 1.16053407e+01, 1.15195672e+01,\n",
       "       1.20839135e+01, 1.23544976e+01, 1.13057305e+01, 1.21613595e+01,\n",
       "       1.17070825e+01, 1.18606011e+01, 1.18507974e+01, 1.21763436e+01,\n",
       "       1.24554116e+01, 1.21850106e+01, 1.19823243e+01, 1.22711999e+01,\n",
       "       1.26325280e+01, 1.15633447e+01, 1.13840310e+01, 1.19061715e+01,\n",
       "       1.14756524e+01, 1.16530206e+01, 1.22616708e+01, 1.18533761e+01,\n",
       "       1.22080514e+01, 1.19603631e+01, 1.27662637e+01, 1.25562875e+01,\n",
       "       1.17890145e+01, 1.17278420e+01, 1.16136186e+01, 1.18100411e+01,\n",
       "       1.22984902e+01, 1.21584298e+01, 1.20763680e+01, 1.29331872e+01,\n",
       "       1.14341065e+01, 1.30681893e+01, 1.21981942e+01, 1.16463236e+12,\n",
       "       1.18636605e+01, 1.16301667e+01, 1.17395532e+01, 1.15693452e+01,\n",
       "       1.24130685e+01, 1.18794381e+01, 1.22416818e+01, 1.25247933e+01,\n",
       "       1.20891778e+01, 1.21437661e+01, 1.17147195e+01, 1.20607011e+01,\n",
       "       3.15073784e+12, 1.26385095e+01, 1.20204141e+01, 1.24382684e+01,\n",
       "       1.20923211e+01, 1.23441445e+01, 1.18407266e+01, 1.26881616e+01,\n",
       "       1.21820962e+01, 1.18048608e+01, 1.20240380e+01, 1.25211694e+01,\n",
       "       1.11852471e+01, 1.20070779e+01, 1.16594979e+01, 1.15268456e+01,\n",
       "       1.14720132e+01, 1.23055856e+01, 1.20043465e+01, 1.25833337e+01,\n",
       "       1.17818200e+01, 1.16832635e+01, 1.16457574e+01, 1.12131440e+01,\n",
       "       1.24781472e+01, 1.32200143e+01, 1.17162225e+01, 1.22932107e+01,\n",
       "       1.14030053e+01, 1.16094872e+01, 1.24972054e+01, 1.13083703e+01,\n",
       "       1.18819177e+01, 1.25943429e+01, 1.22806069e+01, 1.20566766e+01,\n",
       "       1.15927026e+01, 1.18161256e+01, 1.24612557e+01, 1.15760323e+01,\n",
       "       1.17939584e+01, 2.21967939e+12, 1.19160439e+01, 1.23853738e+01,\n",
       "       1.18802316e+01, 1.24769570e+01, 1.14757516e+01, 1.24127480e+01,\n",
       "       1.16860253e+01, 1.18538949e+01, 1.26226327e+01, 1.23485085e+01,\n",
       "       1.21482674e+01, 1.16365868e+01, 1.20370080e+01, 1.17330758e+01,\n",
       "       1.15225770e+01, 1.15326287e+01, 1.20589425e+01, 1.18272530e+01,\n",
       "       1.20046212e+01, 1.19994408e+01, 1.18621575e+01, 1.22650582e+01,\n",
       "       1.23222710e+01, 1.17592294e+01, 1.15542199e+01, 1.26240060e+01,\n",
       "       1.27052819e+01, 1.16792199e+01, 1.16651589e+01, 1.17582299e+01,\n",
       "       1.17428338e+01, 1.22374703e+01, 1.18177621e+01, 1.26452996e+01,\n",
       "       1.22137963e+01, 1.21182687e+01, 1.22417352e+01, 1.20594613e+01,\n",
       "       1.18848779e+01, 1.25351998e+01, 1.25089700e+01, 1.23526894e+01,\n",
       "       1.19035012e+01, 1.13189065e+01, 1.23165719e+01, 1.30585458e+01,\n",
       "       1.20271356e+01, 1.18821008e+01, 1.18599984e+01, 1.17901666e+01,\n",
       "       1.23987710e+01, 1.18268105e+01, 1.15253732e+01, 1.22974374e+01,\n",
       "       1.18114564e+01, 1.24628884e+01, 1.19138314e+01, 1.23807046e+01,\n",
       "       1.23699471e+01, 1.23577706e+01, 1.24897744e+01, 1.20773904e+01,\n",
       "       1.21063897e+01, 1.20885293e+01, 1.14817559e+01, 1.19996087e+01,\n",
       "       1.19028298e+01, 1.23482186e+01, 1.17168710e+01, 1.18975121e+01,\n",
       "       1.26217553e+01, 1.17383477e+01, 1.13930375e+01, 1.16650063e+01,\n",
       "       1.20404794e+01, 1.26186654e+01, 1.21210763e+01, 1.16945092e+01,\n",
       "       1.27791879e+01, 1.22277352e+01, 1.18207757e+01, 1.18145043e+01,\n",
       "       1.11614205e+01, 1.19504220e+01, 1.15263726e+01, 1.20575387e+01,\n",
       "       1.22090890e+01, 1.19071557e+01, 1.20585153e+01, 1.21310098e+01,\n",
       "       1.21956002e+01, 1.17773950e+01, 1.31993615e+01, 1.21814858e+01,\n",
       "       1.22106454e+01, 1.19175393e+01, 1.15806329e+01, 1.15829064e+01,\n",
       "       1.15132272e+01, 1.22404458e+01, 1.23042275e+01, 1.19058053e+01,\n",
       "       1.20223443e+01, 1.15576989e+01, 1.21737038e+01, 1.11504571e+01,\n",
       "       1.21338136e+01, 1.23780648e+01, 1.18995492e+01, 1.28521706e+01,\n",
       "       1.18849542e+01, 1.21323335e+01, 1.26719224e+01, 1.23348214e+01,\n",
       "       1.25848138e+01, 1.18858392e+01, 1.14655663e+01, 1.16485726e+01,\n",
       "       1.18991219e+01, 1.17627808e+01, 1.18490807e+01, 1.13833253e+01,\n",
       "       1.18360803e+01, 1.15618111e+01, 1.23005044e+01, 1.24661843e+01,\n",
       "       1.25213220e+01, 1.17427422e+01, 1.23756692e+01, 1.21244904e+01,\n",
       "       1.18370110e+01, 1.26154305e+01, 1.22589242e+01, 1.18304955e+01,\n",
       "       1.23754098e+01, 1.24943139e+01, 1.16384560e+01, 1.19610574e+01,\n",
       "       1.23123299e+01, 1.20919930e+01, 1.21483399e+01, 1.17576653e+01,\n",
       "       1.15839211e+01, 1.19981439e+01, 1.20746667e+01, 1.27437395e+12,\n",
       "       1.20031678e+01, 1.20911843e+01, 1.17920968e+01, 1.17228295e+01,\n",
       "       1.15386407e+01, 1.13760354e+01, 1.22764108e+01, 1.21727731e+01,\n",
       "       1.20328690e+01, 1.18664071e+01, 1.24829690e+01, 1.16436898e+01,\n",
       "       1.26385934e+01, 1.23859994e+01, 1.18445832e+01, 1.19542214e+01,\n",
       "       1.18292977e+01, 1.16854836e+01, 1.25394799e+01, 1.18513619e+01,\n",
       "       1.21023232e+01, 1.22608697e+01, 1.16737153e+01, 1.27481896e+01,\n",
       "       1.18812158e+01, 1.21416909e+01, 1.23317849e+01, 1.19519174e+01,\n",
       "       1.18710458e+01, 1.15002839e+01, 1.27043435e+01, 1.16790063e+01,\n",
       "       1.18274514e+01, 1.24076898e+01, 1.21585824e+01, 1.17821252e+01,\n",
       "       1.16934258e+01, 1.20781915e+01, 1.21369912e+01, 1.22532250e+01,\n",
       "       1.17350900e+01, 1.16898476e+01, 1.23142526e+01, 1.16554391e+01,\n",
       "       1.18448541e+01, 1.22826974e+01, 1.17335717e+01, 1.17871758e+01,\n",
       "       1.23164040e+01, 1.17683770e+01, 1.19724252e+01, 1.20554101e+01,\n",
       "       1.19207284e+01, 1.18483712e+01, 1.21027123e+01, 1.16011559e+01,\n",
       "       1.17245919e+01, 1.17892663e+01, 1.28593881e+01, 1.17975289e+01,\n",
       "       1.13185479e+01, 1.22345559e+01, 1.20561959e+01, 1.22317254e+01,\n",
       "       1.18923852e+01, 1.20938012e+01, 1.21339204e+01, 1.17840936e+01,\n",
       "       1.14560601e+01, 1.20082948e+01, 1.21791512e+01, 1.16667649e+01,\n",
       "       1.25074059e+01, 1.21038033e+01, 1.12386300e+01, 1.12619073e+01,\n",
       "       1.17539803e+01, 1.19358727e+01, 1.21568429e+01, 1.17450349e+01,\n",
       "       1.20278756e+01, 1.19597756e+01, 1.21411416e+01, 1.17094170e+01,\n",
       "       1.27332742e+01, 1.13708283e+01, 1.16613404e+01, 1.16616418e+01,\n",
       "       1.15412461e+01, 1.20324227e+01, 1.25111977e+01, 1.20764367e+01,\n",
       "       1.20737588e+01, 1.22310159e+01, 1.15726067e+01, 1.19244744e+01,\n",
       "       1.22964608e+01, 1.20240762e+01, 1.22285287e+01, 1.23935220e+01,\n",
       "       1.18206307e+01, 1.23032815e+01, 1.18443734e+01, 1.20643670e+01,\n",
       "       1.19060952e+01, 1.18126962e+01, 1.21574227e+01, 1.14927461e+01,\n",
       "       1.17701966e+01, 1.20351693e+01, 1.19168374e+01, 1.18215005e+01,\n",
       "       1.18058602e+01, 1.17504098e+01, 1.14229066e+01, 1.17823007e+01,\n",
       "       1.20079629e+01, 1.16251733e+01, 1.24701287e+01, 1.28690545e+01,\n",
       "       1.16752755e+01, 1.25304696e+01, 1.33820664e+01, 1.21697976e+01,\n",
       "       1.17165429e+01, 1.14933869e+01, 1.16228158e+01, 1.26167886e+01,\n",
       "       1.19765069e+01, 1.16448113e+01, 1.12633416e+01, 1.19406106e+01,\n",
       "       1.23925759e+01, 1.22504327e+01, 1.17409951e+01, 1.17640054e+01,\n",
       "       1.21407601e+01, 1.21429726e+01, 1.20794656e+01, 1.18992364e+01,\n",
       "       1.20010735e+01, 1.22358071e+01, 1.17274987e+01, 1.20476128e+01,\n",
       "       1.18836800e+01, 1.18403375e+01, 1.23514153e+01, 1.17771737e+01,\n",
       "       1.22881600e+01, 1.25035149e+01, 1.20536630e+01, 1.18874413e+01,\n",
       "       1.18278329e+01, 1.15794274e+01, 1.23084313e+01, 1.22173287e+01,\n",
       "       1.17803933e+01, 1.20834939e+01, 1.19120690e+01, 1.29223267e+01,\n",
       "       1.18813302e+01, 1.26123559e+01, 1.16345612e+01, 1.24828698e+01,\n",
       "       1.27629220e+01, 1.21580788e+01, 1.16591927e+01, 1.21553628e+01,\n",
       "       1.25391061e+01, 1.18705193e+01, 1.18292901e+01, 1.28481728e+01,\n",
       "       1.24297158e+01, 1.15514924e+01, 1.20736443e+01, 1.20729501e+01,\n",
       "       1.14604623e+01, 1.26236169e+01, 1.21807382e+01, 1.17173364e+01,\n",
       "       1.20119073e+01, 1.21868569e+01, 1.17889268e+01, 1.23588845e+01,\n",
       "       1.17904717e+01, 1.23807504e+01, 1.17799737e+01, 1.16376550e+01,\n",
       "       1.20984780e+01, 1.17986276e+01, 1.23370644e+01, 1.20146767e+01,\n",
       "       1.21858651e+01, 1.19797685e+01, 1.25239388e+01, 1.24545113e+01,\n",
       "       1.22275674e+01, 1.21238992e+01, 1.18691308e+01, 1.22280251e+01,\n",
       "       1.15923898e+01, 1.24163339e+01, 1.21953217e+01, 1.17839715e+01,\n",
       "       1.14683892e+01, 1.10047051e+01, 1.23075349e+01, 1.14274499e+01,\n",
       "       1.21440865e+01, 1.28344323e+01, 1.23158967e+01, 1.22576577e+01,\n",
       "       1.19528100e+01, 1.17930390e+01, 1.23211419e+01, 1.18505914e+01,\n",
       "       1.24348657e+01, 1.22529733e+01, 1.26856362e+01, 1.19070031e+01,\n",
       "       1.25997445e+01, 1.18709237e+01, 1.16762902e+01, 1.20614907e+01,\n",
       "       1.24861581e+01, 1.23161523e+01, 1.19920594e+01, 1.24364602e+01,\n",
       "       1.18963601e+01, 1.19302956e+01, 1.22242562e+01, 1.18515450e+01,\n",
       "       1.26573617e+01, 1.22525155e+01, 1.23197762e+01, 1.19096581e+01,\n",
       "       1.15666100e+01, 1.21655709e+01, 1.25454842e+01, 1.12818467e+01,\n",
       "       1.20945107e+01, 1.22743966e+01, 1.19511010e+01, 1.14316308e+01,\n",
       "       1.15160424e+01, 1.24201409e+01, 1.23614556e+01, 1.14984338e+01,\n",
       "       1.18347604e+01, 1.19246957e+01, 1.17848336e+01, 1.20782449e+01,\n",
       "       1.17602822e+01, 1.15105683e+01, 1.26557595e+01, 1.20747125e+01,\n",
       "       1.21467187e+01, 1.26328408e+01, 1.25732400e+01, 1.22135445e+01,\n",
       "       1.21524178e+01, 1.18151223e+01, 1.15224282e+01, 1.27041833e+01,\n",
       "       1.15405785e+01, 1.23426797e+01, 1.24457223e+01, 1.17443520e+01,\n",
       "       1.20750481e+01, 1.19274575e+01, 1.16540276e+01, 1.18575875e+01,\n",
       "       1.11574151e+01, 1.19845940e+01, 1.18846871e+01, 1.07548501e+01,\n",
       "       1.18388268e+01, 1.24268014e+01, 1.17647912e+01, 1.21106545e+01,\n",
       "       1.20117013e+01, 1.17435128e+01, 1.17268273e+01, 1.14757897e+01,\n",
       "       1.13697450e+01, 1.16037804e+01, 1.18789727e+01, 1.25271127e+01,\n",
       "       1.18488061e+01, 1.18810479e+01, 1.16864526e+01, 1.28328339e+01,\n",
       "       1.17337167e+01, 1.24564034e+01, 1.31394677e+11, 1.14893472e+01,\n",
       "       1.19554269e+01, 1.19162652e+01, 1.20573174e+01, 1.19089410e+01,\n",
       "       1.25649087e+01, 1.24170205e+01, 1.25641457e+01, 1.25430238e+01,\n",
       "       1.18040749e+01, 1.17909295e+01, 1.18246285e+01, 1.20679681e+01,\n",
       "       1.22426659e+01, 1.18995492e+01, 1.22205788e+01, 1.18590066e+01,\n",
       "       1.20211312e+01, 1.19860284e+01, 1.26882302e+01, 1.14448144e+01,\n",
       "       1.12854516e+01, 1.20167825e+01, 1.23285119e+01, 1.15083215e+01,\n",
       "       1.21537148e+01, 1.14587113e+01, 1.21494119e+01])"
      ]
     },
     "execution_count": 42,
     "metadata": {},
     "output_type": "execute_result"
    }
   ],
   "source": [
    "pred_linear_model"
   ]
  },
  {
   "cell_type": "code",
   "execution_count": 43,
   "id": "caroline-feelings",
   "metadata": {},
   "outputs": [],
   "source": [
    "MAE_Lr = mean_absolute_error(y_test,pred_linear_model)\n",
    "MSE_Lr = mean_squared_error(y_test,pred_linear_model)\n",
    "RMSE_Lr = np.sqrt(MSE_Lr)"
   ]
  },
  {
   "cell_type": "code",
   "execution_count": 44,
   "id": "functional-librarian",
   "metadata": {},
   "outputs": [
    {
     "data": {
      "text/plain": [
       "13620614442.803099"
      ]
     },
     "execution_count": 44,
     "metadata": {},
     "output_type": "execute_result"
    }
   ],
   "source": [
    "MAE_Lr"
   ]
  },
  {
   "cell_type": "code",
   "execution_count": 45,
   "id": "operational-aggregate",
   "metadata": {},
   "outputs": [
    {
     "data": {
      "text/plain": [
       "3.062056189768481e+22"
      ]
     },
     "execution_count": 45,
     "metadata": {},
     "output_type": "execute_result"
    }
   ],
   "source": [
    "MSE_Lr"
   ]
  },
  {
   "cell_type": "code",
   "execution_count": 46,
   "id": "alive-benefit",
   "metadata": {},
   "outputs": [
    {
     "data": {
      "text/plain": [
       "174987319248.23813"
      ]
     },
     "execution_count": 46,
     "metadata": {},
     "output_type": "execute_result"
    }
   ],
   "source": [
    "RMSE_Lr"
   ]
  },
  {
   "cell_type": "code",
   "execution_count": 47,
   "id": "conditional-plaintiff",
   "metadata": {},
   "outputs": [],
   "source": [
    "def MAPE(y_test,pred_linear_model):\n",
    "    mape = np.mean(np.abs((y_test - pred_linear_model)/y_test))*100\n",
    "    return mape"
   ]
  },
  {
   "cell_type": "code",
   "execution_count": 48,
   "id": "complicated-convertible",
   "metadata": {},
   "outputs": [],
   "source": [
    "LR_MAPE= MAPE(y_test,pred_linear_model)"
   ]
  },
  {
   "cell_type": "code",
   "execution_count": 49,
   "id": "aboriginal-monte",
   "metadata": {},
   "outputs": [
    {
     "name": "stdout",
     "output_type": "stream",
     "text": [
      "MAPE:  118122382698.38686\n"
     ]
    }
   ],
   "source": [
    "print(\"MAPE: \",LR_MAPE)"
   ]
  },
  {
   "cell_type": "code",
   "execution_count": 50,
   "id": "formed-hurricane",
   "metadata": {},
   "outputs": [
    {
     "name": "stdout",
     "output_type": "stream",
     "text": [
      "Best score using built-in LassoCV: -550432936885781644595280478208.000000\n"
     ]
    }
   ],
   "source": [
    "#print(\"Best alpha using built-in LassoCV: %f\" % linear_model.alpha_)\n",
    "print(\"Best score using built-in LassoCV: %f\" %linear_model.score(X,y))\n",
    "coef = pd.Series(linear_model.coef_, index = X.columns)"
   ]
  },
  {
   "cell_type": "code",
   "execution_count": 51,
   "id": "quick-installation",
   "metadata": {},
   "outputs": [],
   "source": [
    "test_pred=y_test-pred_linear_model"
   ]
  },
  {
   "cell_type": "code",
   "execution_count": 52,
   "id": "played-manchester",
   "metadata": {},
   "outputs": [
    {
     "data": {
      "text/plain": [
       "<matplotlib.lines.Line2D at 0x273cc1eac48>"
      ]
     },
     "execution_count": 52,
     "metadata": {},
     "output_type": "execute_result"
    },
    {
     "data": {
      "image/png": "[encoded data removed]",
      "text/plain": [
       "<Figure size 432x288 with 1 Axes>"
      ]
     },
     "metadata": {
      "needs_background": "light"
     },
     "output_type": "display_data"
    }
   ],
   "source": [
    "sns.scatterplot(x=y_test,y=test_pred)\n",
    "plt.axhline(y=0,color='magenta',linestyle='--')"
   ]
  },
  {
   "cell_type": "code",
   "execution_count": 53,
   "id": "accomplished-ambassador",
   "metadata": {},
   "outputs": [
    {
     "data": {
      "image/png": "[encoded data removed]",
      "text/plain": [
       "<Figure size 1000x1200 with 1 Axes>"
      ]
     },
     "metadata": {
      "needs_background": "light"
     },
     "output_type": "display_data"
    }
   ],
   "source": [
    "fig,ax = plt.subplots(figsize=(10,12),dpi=100)\n",
    "\n",
    "_=sp.stats.probplot(test_pred,plot=ax)"
   ]
  },
  {
   "cell_type": "code",
   "execution_count": 54,
   "id": "current-shopping",
   "metadata": {},
   "outputs": [
    {
     "data": {
      "text/plain": [
       "-1.909109121509044e+25"
      ]
     },
     "execution_count": 54,
     "metadata": {},
     "output_type": "execute_result"
    }
   ],
   "source": [
    "accuracy3= round(r2_score(y_test, pred_linear_model), 2)\n",
    "accuracy3= accuracy3 * 100\n",
    "accuracy3"
   ]
  },
  {
   "cell_type": "markdown",
   "id": "fitting-contract",
   "metadata": {},
   "source": [
    "# Grid search with elastic cv"
   ]
  },
  {
   "cell_type": "code",
   "execution_count": 55,
   "id": "joined-cameroon",
   "metadata": {},
   "outputs": [],
   "source": [
    "#Create  and y \n",
    "X = df.drop('saleprice',axis=1)\n",
    "y = df['saleprice']\n",
    "\n",
    "from sklearn.model_selection import train_test_split\n",
    "X_train,X_test, y_train, y_test = train_test_split(X,y, test_size = 0.3)\n",
    "\n",
    "from sklearn.preprocessing import StandardScaler\n",
    "scaler = StandardScaler()\n",
    "scaler.fit(X_train)\n",
    "X_train = scaler.transform(X_train)\n",
    "X_test = scaler.transform(X_test)"
   ]
  },
  {
   "cell_type": "code",
   "execution_count": 56,
   "id": "reasonable-aviation",
   "metadata": {},
   "outputs": [],
   "source": [
    "#base_elastic_model = ElasticNet(max_iter=250000)\n",
    "base_elastic_model = ElasticNet()"
   ]
  },
  {
   "cell_type": "code",
   "execution_count": 57,
   "id": "defensive-planner",
   "metadata": {},
   "outputs": [],
   "source": [
    "param_grid = {'alpha':[0.1,1,10,50,100],'l1_ratio':[0.1,0.5,0.7,0.9,1]}"
   ]
  },
  {
   "cell_type": "code",
   "execution_count": 58,
   "id": "supposed-flood",
   "metadata": {},
   "outputs": [],
   "source": [
    "#grid_model = GridSearchCV(estimator=base_elastic_model,param_grid=param_grid,scoring='neg_mean_squared_error',cv=10,verbose=2)\n",
    "grid_model = GridSearchCV(estimator=base_elastic_model,param_grid=param_grid,scoring='neg_mean_squared_error',cv=10,verbose=2)"
   ]
  },
  {
   "cell_type": "code",
   "execution_count": 59,
   "id": "warming-pitch",
   "metadata": {},
   "outputs": [
    {
     "name": "stdout",
     "output_type": "stream",
     "text": [
      "Fitting 10 folds for each of 25 candidates, totalling 250 fits\n",
      "[CV] alpha=0.1, l1_ratio=0.1 .........................................\n",
      "[CV] .......................... alpha=0.1, l1_ratio=0.1, total=   0.0s\n",
      "[CV] alpha=0.1, l1_ratio=0.1 .........................................\n",
      "[CV] .......................... alpha=0.1, l1_ratio=0.1, total=   0.0s\n",
      "[CV] alpha=0.1, l1_ratio=0.1 .........................................\n",
      "[CV] .......................... alpha=0.1, l1_ratio=0.1, total=   0.0s\n",
      "[CV] alpha=0.1, l1_ratio=0.1 .........................................\n",
      "[CV] .......................... alpha=0.1, l1_ratio=0.1, total=   0.0s\n",
      "[CV] alpha=0.1, l1_ratio=0.1 .........................................\n",
      "[CV] .......................... alpha=0.1, l1_ratio=0.1, total=   0.0s\n",
      "[CV] alpha=0.1, l1_ratio=0.1 .........................................\n",
      "[CV] .......................... alpha=0.1, l1_ratio=0.1, total=   0.0s\n",
      "[CV] alpha=0.1, l1_ratio=0.1 .........................................\n",
      "[CV] .......................... alpha=0.1, l1_ratio=0.1, total=   0.0s\n",
      "[CV] alpha=0.1, l1_ratio=0.1 .........................................\n",
      "[CV] .......................... alpha=0.1, l1_ratio=0.1, total=   0.0s\n",
      "[CV] alpha=0.1, l1_ratio=0.1 .........................................\n"
     ]
    },
    {
     "name": "stderr",
     "output_type": "stream",
     "text": [
      "[Parallel(n_jobs=1)]: Using backend SequentialBackend with 1 concurrent workers.\n",
      "[Parallel(n_jobs=1)]: Done   1 out of   1 | elapsed:    0.0s remaining:    0.0s\n"
     ]
    },
    {
     "name": "stdout",
     "output_type": "stream",
     "text": [
      "[CV] .......................... alpha=0.1, l1_ratio=0.1, total=   0.0s\n",
      "[CV] alpha=0.1, l1_ratio=0.1 .........................................\n",
      "[CV] .......................... alpha=0.1, l1_ratio=0.1, total=   0.0s\n",
      "[CV] alpha=0.1, l1_ratio=0.5 .........................................\n",
      "[CV] .......................... alpha=0.1, l1_ratio=0.5, total=   0.0s\n",
      "[CV] alpha=0.1, l1_ratio=0.5 .........................................\n",
      "[CV] .......................... alpha=0.1, l1_ratio=0.5, total=   0.0s\n",
      "[CV] alpha=0.1, l1_ratio=0.5 .........................................\n",
      "[CV] .......................... alpha=0.1, l1_ratio=0.5, total=   0.0s\n",
      "[CV] alpha=0.1, l1_ratio=0.5 .........................................\n",
      "[CV] .......................... alpha=0.1, l1_ratio=0.5, total=   0.0s\n",
      "[CV] alpha=0.1, l1_ratio=0.5 .........................................\n",
      "[CV] .......................... alpha=0.1, l1_ratio=0.5, total=   0.0s\n",
      "[CV] alpha=0.1, l1_ratio=0.5 .........................................\n",
      "[CV] .......................... alpha=0.1, l1_ratio=0.5, total=   0.0s\n",
      "[CV] alpha=0.1, l1_ratio=0.5 .........................................\n",
      "[CV] .......................... alpha=0.1, l1_ratio=0.5, total=   0.0s\n",
      "[CV] alpha=0.1, l1_ratio=0.5 .........................................\n",
      "[CV] .......................... alpha=0.1, l1_ratio=0.5, total=   0.0s\n",
      "[CV] alpha=0.1, l1_ratio=0.5 .........................................\n",
      "[CV] .......................... alpha=0.1, l1_ratio=0.5, total=   0.0s\n",
      "[CV] alpha=0.1, l1_ratio=0.5 .........................................\n",
      "[CV] .......................... alpha=0.1, l1_ratio=0.5, total=   0.0s\n",
      "[CV] alpha=0.1, l1_ratio=0.7 .........................................\n",
      "[CV] .......................... alpha=0.1, l1_ratio=0.7, total=   0.0s\n",
      "[CV] alpha=0.1, l1_ratio=0.7 .........................................\n",
      "[CV] .......................... alpha=0.1, l1_ratio=0.7, total=   0.0s\n",
      "[CV] alpha=0.1, l1_ratio=0.7 .........................................\n",
      "[CV] .......................... alpha=0.1, l1_ratio=0.7, total=   0.0s\n",
      "[CV] alpha=0.1, l1_ratio=0.7 .........................................\n",
      "[CV] .......................... alpha=0.1, l1_ratio=0.7, total=   0.0s\n",
      "[CV] alpha=0.1, l1_ratio=0.7 .........................................\n",
      "[CV] .......................... alpha=0.1, l1_ratio=0.7, total=   0.0s\n",
      "[CV] alpha=0.1, l1_ratio=0.7 .........................................\n",
      "[CV] .......................... alpha=0.1, l1_ratio=0.7, total=   0.0s\n",
      "[CV] alpha=0.1, l1_ratio=0.7 .........................................\n",
      "[CV] .......................... alpha=0.1, l1_ratio=0.7, total=   0.0s\n",
      "[CV] alpha=0.1, l1_ratio=0.7 .........................................\n",
      "[CV] .......................... alpha=0.1, l1_ratio=0.7, total=   0.0s\n",
      "[CV] alpha=0.1, l1_ratio=0.7 .........................................\n",
      "[CV] .......................... alpha=0.1, l1_ratio=0.7, total=   0.0s\n",
      "[CV] alpha=0.1, l1_ratio=0.7 .........................................\n",
      "[CV] .......................... alpha=0.1, l1_ratio=0.7, total=   0.0s\n",
      "[CV] alpha=0.1, l1_ratio=0.9 .........................................\n",
      "[CV] .......................... alpha=0.1, l1_ratio=0.9, total=   0.0s\n",
      "[CV] alpha=0.1, l1_ratio=0.9 .........................................\n",
      "[CV] .......................... alpha=0.1, l1_ratio=0.9, total=   0.0s\n",
      "[CV] alpha=0.1, l1_ratio=0.9 .........................................\n",
      "[CV] .......................... alpha=0.1, l1_ratio=0.9, total=   0.0s\n",
      "[CV] alpha=0.1, l1_ratio=0.9 .........................................\n",
      "[CV] .......................... alpha=0.1, l1_ratio=0.9, total=   0.0s\n",
      "[CV] alpha=0.1, l1_ratio=0.9 .........................................\n",
      "[CV] .......................... alpha=0.1, l1_ratio=0.9, total=   0.0s\n",
      "[CV] alpha=0.1, l1_ratio=0.9 .........................................\n",
      "[CV] .......................... alpha=0.1, l1_ratio=0.9, total=   0.0s\n",
      "[CV] alpha=0.1, l1_ratio=0.9 .........................................\n",
      "[CV] .......................... alpha=0.1, l1_ratio=0.9, total=   0.0s\n",
      "[CV] alpha=0.1, l1_ratio=0.9 .........................................\n",
      "[CV] .......................... alpha=0.1, l1_ratio=0.9, total=   0.0s\n",
      "[CV] alpha=0.1, l1_ratio=0.9 .........................................\n",
      "[CV] .......................... alpha=0.1, l1_ratio=0.9, total=   0.0s\n",
      "[CV] alpha=0.1, l1_ratio=0.9 .........................................\n",
      "[CV] .......................... alpha=0.1, l1_ratio=0.9, total=   0.0s\n",
      "[CV] alpha=0.1, l1_ratio=1 ...........................................\n",
      "[CV] ............................ alpha=0.1, l1_ratio=1, total=   0.0s\n",
      "[CV] alpha=0.1, l1_ratio=1 ...........................................\n",
      "[CV] ............................ alpha=0.1, l1_ratio=1, total=   0.0s\n",
      "[CV] alpha=0.1, l1_ratio=1 ...........................................\n",
      "[CV] ............................ alpha=0.1, l1_ratio=1, total=   0.0s\n",
      "[CV] alpha=0.1, l1_ratio=1 ...........................................\n",
      "[CV] ............................ alpha=0.1, l1_ratio=1, total=   0.0s\n",
      "[CV] alpha=0.1, l1_ratio=1 ...........................................\n",
      "[CV] ............................ alpha=0.1, l1_ratio=1, total=   0.0s\n",
      "[CV] alpha=0.1, l1_ratio=1 ...........................................\n",
      "[CV] ............................ alpha=0.1, l1_ratio=1, total=   0.0s\n",
      "[CV] alpha=0.1, l1_ratio=1 ...........................................\n",
      "[CV] ............................ alpha=0.1, l1_ratio=1, total=   0.0s\n",
      "[CV] alpha=0.1, l1_ratio=1 ...........................................\n",
      "[CV] ............................ alpha=0.1, l1_ratio=1, total=   0.0s\n",
      "[CV] alpha=0.1, l1_ratio=1 ...........................................\n",
      "[CV] ............................ alpha=0.1, l1_ratio=1, total=   0.0s\n",
      "[CV] alpha=0.1, l1_ratio=1 ...........................................\n",
      "[CV] ............................ alpha=0.1, l1_ratio=1, total=   0.0s\n",
      "[CV] alpha=1, l1_ratio=0.1 ...........................................\n",
      "[CV] ............................ alpha=1, l1_ratio=0.1, total=   0.0s\n",
      "[CV] alpha=1, l1_ratio=0.1 ...........................................\n",
      "[CV] ............................ alpha=1, l1_ratio=0.1, total=   0.0s\n",
      "[CV] alpha=1, l1_ratio=0.1 ...........................................\n",
      "[CV] ............................ alpha=1, l1_ratio=0.1, total=   0.0s\n",
      "[CV] alpha=1, l1_ratio=0.1 ...........................................\n",
      "[CV] ............................ alpha=1, l1_ratio=0.1, total=   0.0s\n",
      "[CV] alpha=1, l1_ratio=0.1 ...........................................\n",
      "[CV] ............................ alpha=1, l1_ratio=0.1, total=   0.0s\n",
      "[CV] alpha=1, l1_ratio=0.1 ...........................................\n",
      "[CV] ............................ alpha=1, l1_ratio=0.1, total=   0.0s\n",
      "[CV] alpha=1, l1_ratio=0.1 ...........................................\n",
      "[CV] ............................ alpha=1, l1_ratio=0.1, total=   0.0s\n",
      "[CV] alpha=1, l1_ratio=0.1 ...........................................\n",
      "[CV] ............................ alpha=1, l1_ratio=0.1, total=   0.0s\n",
      "[CV] alpha=1, l1_ratio=0.1 ...........................................\n",
      "[CV] ............................ alpha=1, l1_ratio=0.1, total=   0.0s\n",
      "[CV] alpha=1, l1_ratio=0.1 ...........................................\n",
      "[CV] ............................ alpha=1, l1_ratio=0.1, total=   0.0s\n",
      "[CV] alpha=1, l1_ratio=0.5 ...........................................\n",
      "[CV] ............................ alpha=1, l1_ratio=0.5, total=   0.0s\n",
      "[CV] alpha=1, l1_ratio=0.5 ...........................................\n",
      "[CV] ............................ alpha=1, l1_ratio=0.5, total=   0.0s\n",
      "[CV] alpha=1, l1_ratio=0.5 ...........................................\n",
      "[CV] ............................ alpha=1, l1_ratio=0.5, total=   0.0s\n",
      "[CV] alpha=1, l1_ratio=0.5 ...........................................\n",
      "[CV] ............................ alpha=1, l1_ratio=0.5, total=   0.0s\n",
      "[CV] alpha=1, l1_ratio=0.5 ...........................................\n",
      "[CV] ............................ alpha=1, l1_ratio=0.5, total=   0.0s\n",
      "[CV] alpha=1, l1_ratio=0.5 ...........................................\n",
      "[CV] ............................ alpha=1, l1_ratio=0.5, total=   0.0s\n",
      "[CV] alpha=1, l1_ratio=0.5 ...........................................\n",
      "[CV] ............................ alpha=1, l1_ratio=0.5, total=   0.0s\n",
      "[CV] alpha=1, l1_ratio=0.5 ...........................................\n",
      "[CV] ............................ alpha=1, l1_ratio=0.5, total=   0.0s\n",
      "[CV] alpha=1, l1_ratio=0.5 ...........................................\n"
     ]
    },
    {
     "name": "stdout",
     "output_type": "stream",
     "text": [
      "[CV] ............................ alpha=1, l1_ratio=0.5, total=   0.0s\n",
      "[CV] alpha=1, l1_ratio=0.5 ...........................................\n",
      "[CV] ............................ alpha=1, l1_ratio=0.5, total=   0.0s\n",
      "[CV] alpha=1, l1_ratio=0.7 ...........................................\n",
      "[CV] ............................ alpha=1, l1_ratio=0.7, total=   0.0s\n",
      "[CV] alpha=1, l1_ratio=0.7 ...........................................\n",
      "[CV] ............................ alpha=1, l1_ratio=0.7, total=   0.0s\n",
      "[CV] alpha=1, l1_ratio=0.7 ...........................................\n",
      "[CV] ............................ alpha=1, l1_ratio=0.7, total=   0.0s\n",
      "[CV] alpha=1, l1_ratio=0.7 ...........................................\n",
      "[CV] ............................ alpha=1, l1_ratio=0.7, total=   0.0s\n",
      "[CV] alpha=1, l1_ratio=0.7 ...........................................\n",
      "[CV] ............................ alpha=1, l1_ratio=0.7, total=   0.0s\n",
      "[CV] alpha=1, l1_ratio=0.7 ...........................................\n",
      "[CV] ............................ alpha=1, l1_ratio=0.7, total=   0.0s\n",
      "[CV] alpha=1, l1_ratio=0.7 ...........................................\n",
      "[CV] ............................ alpha=1, l1_ratio=0.7, total=   0.0s\n",
      "[CV] alpha=1, l1_ratio=0.7 ...........................................\n",
      "[CV] ............................ alpha=1, l1_ratio=0.7, total=   0.0s\n",
      "[CV] alpha=1, l1_ratio=0.7 ...........................................\n",
      "[CV] ............................ alpha=1, l1_ratio=0.7, total=   0.0s\n",
      "[CV] alpha=1, l1_ratio=0.7 ...........................................\n",
      "[CV] ............................ alpha=1, l1_ratio=0.7, total=   0.0s\n",
      "[CV] alpha=1, l1_ratio=0.9 ...........................................\n",
      "[CV] ............................ alpha=1, l1_ratio=0.9, total=   0.0s\n",
      "[CV] alpha=1, l1_ratio=0.9 ...........................................\n",
      "[CV] ............................ alpha=1, l1_ratio=0.9, total=   0.0s\n",
      "[CV] alpha=1, l1_ratio=0.9 ...........................................\n",
      "[CV] ............................ alpha=1, l1_ratio=0.9, total=   0.0s\n",
      "[CV] alpha=1, l1_ratio=0.9 ...........................................\n",
      "[CV] ............................ alpha=1, l1_ratio=0.9, total=   0.0s\n",
      "[CV] alpha=1, l1_ratio=0.9 ...........................................\n",
      "[CV] ............................ alpha=1, l1_ratio=0.9, total=   0.0s\n",
      "[CV] alpha=1, l1_ratio=0.9 ...........................................\n",
      "[CV] ............................ alpha=1, l1_ratio=0.9, total=   0.0s\n",
      "[CV] alpha=1, l1_ratio=0.9 ...........................................\n",
      "[CV] ............................ alpha=1, l1_ratio=0.9, total=   0.0s\n",
      "[CV] alpha=1, l1_ratio=0.9 ...........................................\n",
      "[CV] ............................ alpha=1, l1_ratio=0.9, total=   0.0s\n",
      "[CV] alpha=1, l1_ratio=0.9 ...........................................\n",
      "[CV] ............................ alpha=1, l1_ratio=0.9, total=   0.0s\n",
      "[CV] alpha=1, l1_ratio=0.9 ...........................................\n",
      "[CV] ............................ alpha=1, l1_ratio=0.9, total=   0.0s\n",
      "[CV] alpha=1, l1_ratio=1 .............................................\n",
      "[CV] .............................. alpha=1, l1_ratio=1, total=   0.0s\n",
      "[CV] alpha=1, l1_ratio=1 .............................................\n",
      "[CV] .............................. alpha=1, l1_ratio=1, total=   0.0s\n",
      "[CV] alpha=1, l1_ratio=1 .............................................\n",
      "[CV] .............................. alpha=1, l1_ratio=1, total=   0.0s\n",
      "[CV] alpha=1, l1_ratio=1 .............................................\n",
      "[CV] .............................. alpha=1, l1_ratio=1, total=   0.0s\n",
      "[CV] alpha=1, l1_ratio=1 .............................................\n",
      "[CV] .............................. alpha=1, l1_ratio=1, total=   0.0s\n",
      "[CV] alpha=1, l1_ratio=1 .............................................\n",
      "[CV] .............................. alpha=1, l1_ratio=1, total=   0.0s\n",
      "[CV] alpha=1, l1_ratio=1 .............................................\n",
      "[CV] .............................. alpha=1, l1_ratio=1, total=   0.0s\n",
      "[CV] alpha=1, l1_ratio=1 .............................................\n",
      "[CV] .............................. alpha=1, l1_ratio=1, total=   0.0s\n",
      "[CV] alpha=1, l1_ratio=1 .............................................\n",
      "[CV] .............................. alpha=1, l1_ratio=1, total=   0.0s\n",
      "[CV] alpha=1, l1_ratio=1 .............................................\n",
      "[CV] .............................. alpha=1, l1_ratio=1, total=   0.0s\n",
      "[CV] alpha=10, l1_ratio=0.1 ..........................................\n",
      "[CV] ........................... alpha=10, l1_ratio=0.1, total=   0.0s\n",
      "[CV] alpha=10, l1_ratio=0.1 ..........................................\n",
      "[CV] ........................... alpha=10, l1_ratio=0.1, total=   0.0s\n",
      "[CV] alpha=10, l1_ratio=0.1 ..........................................\n",
      "[CV] ........................... alpha=10, l1_ratio=0.1, total=   0.0s\n",
      "[CV] alpha=10, l1_ratio=0.1 ..........................................\n",
      "[CV] ........................... alpha=10, l1_ratio=0.1, total=   0.0s\n",
      "[CV] alpha=10, l1_ratio=0.1 ..........................................\n",
      "[CV] ........................... alpha=10, l1_ratio=0.1, total=   0.0s\n",
      "[CV] alpha=10, l1_ratio=0.1 ..........................................\n",
      "[CV] ........................... alpha=10, l1_ratio=0.1, total=   0.0s\n",
      "[CV] alpha=10, l1_ratio=0.1 ..........................................\n",
      "[CV] ........................... alpha=10, l1_ratio=0.1, total=   0.0s\n",
      "[CV] alpha=10, l1_ratio=0.1 ..........................................\n",
      "[CV] ........................... alpha=10, l1_ratio=0.1, total=   0.0s\n",
      "[CV] alpha=10, l1_ratio=0.1 ..........................................\n",
      "[CV] ........................... alpha=10, l1_ratio=0.1, total=   0.0s\n",
      "[CV] alpha=10, l1_ratio=0.1 ..........................................\n",
      "[CV] ........................... alpha=10, l1_ratio=0.1, total=   0.0s\n",
      "[CV] alpha=10, l1_ratio=0.5 ..........................................\n",
      "[CV] ........................... alpha=10, l1_ratio=0.5, total=   0.0s\n",
      "[CV] alpha=10, l1_ratio=0.5 ..........................................\n",
      "[CV] ........................... alpha=10, l1_ratio=0.5, total=   0.0s\n",
      "[CV] alpha=10, l1_ratio=0.5 ..........................................\n",
      "[CV] ........................... alpha=10, l1_ratio=0.5, total=   0.0s\n",
      "[CV] alpha=10, l1_ratio=0.5 ..........................................\n",
      "[CV] ........................... alpha=10, l1_ratio=0.5, total=   0.0s\n",
      "[CV] alpha=10, l1_ratio=0.5 ..........................................\n",
      "[CV] ........................... alpha=10, l1_ratio=0.5, total=   0.0s\n",
      "[CV] alpha=10, l1_ratio=0.5 ..........................................\n",
      "[CV] ........................... alpha=10, l1_ratio=0.5, total=   0.0s\n",
      "[CV] alpha=10, l1_ratio=0.5 ..........................................\n",
      "[CV] ........................... alpha=10, l1_ratio=0.5, total=   0.0s\n",
      "[CV] alpha=10, l1_ratio=0.5 ..........................................\n",
      "[CV] ........................... alpha=10, l1_ratio=0.5, total=   0.0s\n",
      "[CV] alpha=10, l1_ratio=0.5 ..........................................\n",
      "[CV] ........................... alpha=10, l1_ratio=0.5, total=   0.0s\n",
      "[CV] alpha=10, l1_ratio=0.5 ..........................................\n",
      "[CV] ........................... alpha=10, l1_ratio=0.5, total=   0.0s\n",
      "[CV] alpha=10, l1_ratio=0.7 ..........................................\n",
      "[CV] ........................... alpha=10, l1_ratio=0.7, total=   0.0s\n",
      "[CV] alpha=10, l1_ratio=0.7 ..........................................\n",
      "[CV] ........................... alpha=10, l1_ratio=0.7, total=   0.0s\n",
      "[CV] alpha=10, l1_ratio=0.7 ..........................................\n",
      "[CV] ........................... alpha=10, l1_ratio=0.7, total=   0.0s\n",
      "[CV] alpha=10, l1_ratio=0.7 ..........................................\n",
      "[CV] ........................... alpha=10, l1_ratio=0.7, total=   0.0s\n",
      "[CV] alpha=10, l1_ratio=0.7 ..........................................\n",
      "[CV] ........................... alpha=10, l1_ratio=0.7, total=   0.0s\n",
      "[CV] alpha=10, l1_ratio=0.7 ..........................................\n",
      "[CV] ........................... alpha=10, l1_ratio=0.7, total=   0.0s\n",
      "[CV] alpha=10, l1_ratio=0.7 ..........................................\n",
      "[CV] ........................... alpha=10, l1_ratio=0.7, total=   0.0s\n",
      "[CV] alpha=10, l1_ratio=0.7 ..........................................\n",
      "[CV] ........................... alpha=10, l1_ratio=0.7, total=   0.0s\n"
     ]
    },
    {
     "name": "stdout",
     "output_type": "stream",
     "text": [
      "[CV] alpha=10, l1_ratio=0.7 ..........................................\n",
      "[CV] ........................... alpha=10, l1_ratio=0.7, total=   0.0s\n",
      "[CV] alpha=10, l1_ratio=0.7 ..........................................\n",
      "[CV] ........................... alpha=10, l1_ratio=0.7, total=   0.0s\n",
      "[CV] alpha=10, l1_ratio=0.9 ..........................................\n",
      "[CV] ........................... alpha=10, l1_ratio=0.9, total=   0.0s\n",
      "[CV] alpha=10, l1_ratio=0.9 ..........................................\n",
      "[CV] ........................... alpha=10, l1_ratio=0.9, total=   0.0s\n",
      "[CV] alpha=10, l1_ratio=0.9 ..........................................\n",
      "[CV] ........................... alpha=10, l1_ratio=0.9, total=   0.0s\n",
      "[CV] alpha=10, l1_ratio=0.9 ..........................................\n",
      "[CV] ........................... alpha=10, l1_ratio=0.9, total=   0.0s\n",
      "[CV] alpha=10, l1_ratio=0.9 ..........................................\n",
      "[CV] ........................... alpha=10, l1_ratio=0.9, total=   0.0s\n",
      "[CV] alpha=10, l1_ratio=0.9 ..........................................\n",
      "[CV] ........................... alpha=10, l1_ratio=0.9, total=   0.0s\n",
      "[CV] alpha=10, l1_ratio=0.9 ..........................................\n",
      "[CV] ........................... alpha=10, l1_ratio=0.9, total=   0.0s\n",
      "[CV] alpha=10, l1_ratio=0.9 ..........................................\n",
      "[CV] ........................... alpha=10, l1_ratio=0.9, total=   0.0s\n",
      "[CV] alpha=10, l1_ratio=0.9 ..........................................\n",
      "[CV] ........................... alpha=10, l1_ratio=0.9, total=   0.0s\n",
      "[CV] alpha=10, l1_ratio=0.9 ..........................................\n",
      "[CV] ........................... alpha=10, l1_ratio=0.9, total=   0.0s\n",
      "[CV] alpha=10, l1_ratio=1 ............................................\n",
      "[CV] ............................. alpha=10, l1_ratio=1, total=   0.0s\n",
      "[CV] alpha=10, l1_ratio=1 ............................................\n",
      "[CV] ............................. alpha=10, l1_ratio=1, total=   0.0s\n",
      "[CV] alpha=10, l1_ratio=1 ............................................\n",
      "[CV] ............................. alpha=10, l1_ratio=1, total=   0.0s\n",
      "[CV] alpha=10, l1_ratio=1 ............................................\n",
      "[CV] ............................. alpha=10, l1_ratio=1, total=   0.0s\n",
      "[CV] alpha=10, l1_ratio=1 ............................................\n",
      "[CV] ............................. alpha=10, l1_ratio=1, total=   0.0s\n",
      "[CV] alpha=10, l1_ratio=1 ............................................\n",
      "[CV] ............................. alpha=10, l1_ratio=1, total=   0.0s\n",
      "[CV] alpha=10, l1_ratio=1 ............................................\n",
      "[CV] ............................. alpha=10, l1_ratio=1, total=   0.0s\n",
      "[CV] alpha=10, l1_ratio=1 ............................................\n",
      "[CV] ............................. alpha=10, l1_ratio=1, total=   0.0s\n",
      "[CV] alpha=10, l1_ratio=1 ............................................\n",
      "[CV] ............................. alpha=10, l1_ratio=1, total=   0.0s\n",
      "[CV] alpha=10, l1_ratio=1 ............................................\n",
      "[CV] ............................. alpha=10, l1_ratio=1, total=   0.0s\n",
      "[CV] alpha=50, l1_ratio=0.1 ..........................................\n",
      "[CV] ........................... alpha=50, l1_ratio=0.1, total=   0.0s\n",
      "[CV] alpha=50, l1_ratio=0.1 ..........................................\n",
      "[CV] ........................... alpha=50, l1_ratio=0.1, total=   0.0s\n",
      "[CV] alpha=50, l1_ratio=0.1 ..........................................\n",
      "[CV] ........................... alpha=50, l1_ratio=0.1, total=   0.0s\n",
      "[CV] alpha=50, l1_ratio=0.1 ..........................................\n",
      "[CV] ........................... alpha=50, l1_ratio=0.1, total=   0.0s\n",
      "[CV] alpha=50, l1_ratio=0.1 ..........................................\n",
      "[CV] ........................... alpha=50, l1_ratio=0.1, total=   0.0s\n",
      "[CV] alpha=50, l1_ratio=0.1 ..........................................\n",
      "[CV] ........................... alpha=50, l1_ratio=0.1, total=   0.0s\n",
      "[CV] alpha=50, l1_ratio=0.1 ..........................................\n",
      "[CV] ........................... alpha=50, l1_ratio=0.1, total=   0.0s\n",
      "[CV] alpha=50, l1_ratio=0.1 ..........................................\n",
      "[CV] ........................... alpha=50, l1_ratio=0.1, total=   0.0s\n",
      "[CV] alpha=50, l1_ratio=0.1 ..........................................\n",
      "[CV] ........................... alpha=50, l1_ratio=0.1, total=   0.0s\n",
      "[CV] alpha=50, l1_ratio=0.1 ..........................................\n",
      "[CV] ........................... alpha=50, l1_ratio=0.1, total=   0.0s\n",
      "[CV] alpha=50, l1_ratio=0.5 ..........................................\n",
      "[CV] ........................... alpha=50, l1_ratio=0.5, total=   0.0s\n",
      "[CV] alpha=50, l1_ratio=0.5 ..........................................\n",
      "[CV] ........................... alpha=50, l1_ratio=0.5, total=   0.0s\n",
      "[CV] alpha=50, l1_ratio=0.5 ..........................................\n",
      "[CV] ........................... alpha=50, l1_ratio=0.5, total=   0.0s\n",
      "[CV] alpha=50, l1_ratio=0.5 ..........................................\n",
      "[CV] ........................... alpha=50, l1_ratio=0.5, total=   0.0s\n",
      "[CV] alpha=50, l1_ratio=0.5 ..........................................\n",
      "[CV] ........................... alpha=50, l1_ratio=0.5, total=   0.0s\n",
      "[CV] alpha=50, l1_ratio=0.5 ..........................................\n",
      "[CV] ........................... alpha=50, l1_ratio=0.5, total=   0.0s\n",
      "[CV] alpha=50, l1_ratio=0.5 ..........................................\n",
      "[CV] ........................... alpha=50, l1_ratio=0.5, total=   0.0s\n",
      "[CV] alpha=50, l1_ratio=0.5 ..........................................\n",
      "[CV] ........................... alpha=50, l1_ratio=0.5, total=   0.0s\n",
      "[CV] alpha=50, l1_ratio=0.5 ..........................................\n",
      "[CV] ........................... alpha=50, l1_ratio=0.5, total=   0.0s\n",
      "[CV] alpha=50, l1_ratio=0.5 ..........................................\n",
      "[CV] ........................... alpha=50, l1_ratio=0.5, total=   0.0s\n",
      "[CV] alpha=50, l1_ratio=0.7 ..........................................\n",
      "[CV] ........................... alpha=50, l1_ratio=0.7, total=   0.0s\n",
      "[CV] alpha=50, l1_ratio=0.7 ..........................................\n",
      "[CV] ........................... alpha=50, l1_ratio=0.7, total=   0.0s\n",
      "[CV] alpha=50, l1_ratio=0.7 ..........................................\n",
      "[CV] ........................... alpha=50, l1_ratio=0.7, total=   0.0s\n",
      "[CV] alpha=50, l1_ratio=0.7 ..........................................\n",
      "[CV] ........................... alpha=50, l1_ratio=0.7, total=   0.0s\n",
      "[CV] alpha=50, l1_ratio=0.7 ..........................................\n",
      "[CV] ........................... alpha=50, l1_ratio=0.7, total=   0.0s\n",
      "[CV] alpha=50, l1_ratio=0.7 ..........................................\n",
      "[CV] ........................... alpha=50, l1_ratio=0.7, total=   0.0s\n",
      "[CV] alpha=50, l1_ratio=0.7 ..........................................\n",
      "[CV] ........................... alpha=50, l1_ratio=0.7, total=   0.0s\n",
      "[CV] alpha=50, l1_ratio=0.7 ..........................................\n",
      "[CV] ........................... alpha=50, l1_ratio=0.7, total=   0.0s\n",
      "[CV] alpha=50, l1_ratio=0.7 ..........................................\n",
      "[CV] ........................... alpha=50, l1_ratio=0.7, total=   0.0s\n",
      "[CV] alpha=50, l1_ratio=0.7 ..........................................\n",
      "[CV] ........................... alpha=50, l1_ratio=0.7, total=   0.0s\n",
      "[CV] alpha=50, l1_ratio=0.9 ..........................................\n",
      "[CV] ........................... alpha=50, l1_ratio=0.9, total=   0.0s\n",
      "[CV] alpha=50, l1_ratio=0.9 ..........................................\n",
      "[CV] ........................... alpha=50, l1_ratio=0.9, total=   0.0s\n",
      "[CV] alpha=50, l1_ratio=0.9 ..........................................\n",
      "[CV] ........................... alpha=50, l1_ratio=0.9, total=   0.0s\n",
      "[CV] alpha=50, l1_ratio=0.9 ..........................................\n",
      "[CV] ........................... alpha=50, l1_ratio=0.9, total=   0.0s\n",
      "[CV] alpha=50, l1_ratio=0.9 ..........................................\n",
      "[CV] ........................... alpha=50, l1_ratio=0.9, total=   0.0s\n",
      "[CV] alpha=50, l1_ratio=0.9 ..........................................\n",
      "[CV] ........................... alpha=50, l1_ratio=0.9, total=   0.0s\n",
      "[CV] alpha=50, l1_ratio=0.9 ..........................................\n",
      "[CV] ........................... alpha=50, l1_ratio=0.9, total=   0.0s\n",
      "[CV] alpha=50, l1_ratio=0.9 ..........................................\n",
      "[CV] ........................... alpha=50, l1_ratio=0.9, total=   0.0s\n",
      "[CV] alpha=50, l1_ratio=0.9 ..........................................\n"
     ]
    },
    {
     "name": "stdout",
     "output_type": "stream",
     "text": [
      "[CV] ........................... alpha=50, l1_ratio=0.9, total=   0.0s\n",
      "[CV] alpha=50, l1_ratio=0.9 ..........................................\n",
      "[CV] ........................... alpha=50, l1_ratio=0.9, total=   0.0s\n",
      "[CV] alpha=50, l1_ratio=1 ............................................\n",
      "[CV] ............................. alpha=50, l1_ratio=1, total=   0.0s\n",
      "[CV] alpha=50, l1_ratio=1 ............................................\n",
      "[CV] ............................. alpha=50, l1_ratio=1, total=   0.0s\n",
      "[CV] alpha=50, l1_ratio=1 ............................................\n",
      "[CV] ............................. alpha=50, l1_ratio=1, total=   0.0s\n",
      "[CV] alpha=50, l1_ratio=1 ............................................\n",
      "[CV] ............................. alpha=50, l1_ratio=1, total=   0.0s\n",
      "[CV] alpha=50, l1_ratio=1 ............................................\n",
      "[CV] ............................. alpha=50, l1_ratio=1, total=   0.0s\n",
      "[CV] alpha=50, l1_ratio=1 ............................................\n",
      "[CV] ............................. alpha=50, l1_ratio=1, total=   0.0s\n",
      "[CV] alpha=50, l1_ratio=1 ............................................\n",
      "[CV] ............................. alpha=50, l1_ratio=1, total=   0.0s\n",
      "[CV] alpha=50, l1_ratio=1 ............................................\n",
      "[CV] ............................. alpha=50, l1_ratio=1, total=   0.0s\n",
      "[CV] alpha=50, l1_ratio=1 ............................................\n",
      "[CV] ............................. alpha=50, l1_ratio=1, total=   0.0s\n",
      "[CV] alpha=50, l1_ratio=1 ............................................\n",
      "[CV] ............................. alpha=50, l1_ratio=1, total=   0.0s\n",
      "[CV] alpha=100, l1_ratio=0.1 .........................................\n",
      "[CV] .......................... alpha=100, l1_ratio=0.1, total=   0.0s\n",
      "[CV] alpha=100, l1_ratio=0.1 .........................................\n",
      "[CV] .......................... alpha=100, l1_ratio=0.1, total=   0.0s\n",
      "[CV] alpha=100, l1_ratio=0.1 .........................................\n",
      "[CV] .......................... alpha=100, l1_ratio=0.1, total=   0.0s\n",
      "[CV] alpha=100, l1_ratio=0.1 .........................................\n",
      "[CV] .......................... alpha=100, l1_ratio=0.1, total=   0.0s\n",
      "[CV] alpha=100, l1_ratio=0.1 .........................................\n",
      "[CV] .......................... alpha=100, l1_ratio=0.1, total=   0.0s\n",
      "[CV] alpha=100, l1_ratio=0.1 .........................................\n",
      "[CV] .......................... alpha=100, l1_ratio=0.1, total=   0.0s\n",
      "[CV] alpha=100, l1_ratio=0.1 .........................................\n",
      "[CV] .......................... alpha=100, l1_ratio=0.1, total=   0.0s\n",
      "[CV] alpha=100, l1_ratio=0.1 .........................................\n",
      "[CV] .......................... alpha=100, l1_ratio=0.1, total=   0.0s\n",
      "[CV] alpha=100, l1_ratio=0.1 .........................................\n",
      "[CV] .......................... alpha=100, l1_ratio=0.1, total=   0.0s\n",
      "[CV] alpha=100, l1_ratio=0.1 .........................................\n",
      "[CV] .......................... alpha=100, l1_ratio=0.1, total=   0.0s\n",
      "[CV] alpha=100, l1_ratio=0.5 .........................................\n",
      "[CV] .......................... alpha=100, l1_ratio=0.5, total=   0.0s\n",
      "[CV] alpha=100, l1_ratio=0.5 .........................................\n",
      "[CV] .......................... alpha=100, l1_ratio=0.5, total=   0.0s\n",
      "[CV] alpha=100, l1_ratio=0.5 .........................................\n",
      "[CV] .......................... alpha=100, l1_ratio=0.5, total=   0.0s\n",
      "[CV] alpha=100, l1_ratio=0.5 .........................................\n",
      "[CV] .......................... alpha=100, l1_ratio=0.5, total=   0.0s\n",
      "[CV] alpha=100, l1_ratio=0.5 .........................................\n",
      "[CV] .......................... alpha=100, l1_ratio=0.5, total=   0.0s\n",
      "[CV] alpha=100, l1_ratio=0.5 .........................................\n",
      "[CV] .......................... alpha=100, l1_ratio=0.5, total=   0.0s\n",
      "[CV] alpha=100, l1_ratio=0.5 .........................................\n",
      "[CV] .......................... alpha=100, l1_ratio=0.5, total=   0.0s\n",
      "[CV] alpha=100, l1_ratio=0.5 .........................................\n",
      "[CV] .......................... alpha=100, l1_ratio=0.5, total=   0.0s\n",
      "[CV] alpha=100, l1_ratio=0.5 .........................................\n",
      "[CV] .......................... alpha=100, l1_ratio=0.5, total=   0.0s\n",
      "[CV] alpha=100, l1_ratio=0.5 .........................................\n",
      "[CV] .......................... alpha=100, l1_ratio=0.5, total=   0.0s\n",
      "[CV] alpha=100, l1_ratio=0.7 .........................................\n",
      "[CV] .......................... alpha=100, l1_ratio=0.7, total=   0.0s\n",
      "[CV] alpha=100, l1_ratio=0.7 .........................................\n",
      "[CV] .......................... alpha=100, l1_ratio=0.7, total=   0.0s\n",
      "[CV] alpha=100, l1_ratio=0.7 .........................................\n",
      "[CV] .......................... alpha=100, l1_ratio=0.7, total=   0.0s\n",
      "[CV] alpha=100, l1_ratio=0.7 .........................................\n",
      "[CV] .......................... alpha=100, l1_ratio=0.7, total=   0.0s\n",
      "[CV] alpha=100, l1_ratio=0.7 .........................................\n",
      "[CV] .......................... alpha=100, l1_ratio=0.7, total=   0.0s\n",
      "[CV] alpha=100, l1_ratio=0.7 .........................................\n",
      "[CV] .......................... alpha=100, l1_ratio=0.7, total=   0.0s\n",
      "[CV] alpha=100, l1_ratio=0.7 .........................................\n",
      "[CV] .......................... alpha=100, l1_ratio=0.7, total=   0.0s\n",
      "[CV] alpha=100, l1_ratio=0.7 .........................................\n",
      "[CV] .......................... alpha=100, l1_ratio=0.7, total=   0.0s\n",
      "[CV] alpha=100, l1_ratio=0.7 .........................................\n",
      "[CV] .......................... alpha=100, l1_ratio=0.7, total=   0.0s\n",
      "[CV] alpha=100, l1_ratio=0.7 .........................................\n",
      "[CV] .......................... alpha=100, l1_ratio=0.7, total=   0.0s\n",
      "[CV] alpha=100, l1_ratio=0.9 .........................................\n",
      "[CV] .......................... alpha=100, l1_ratio=0.9, total=   0.0s\n",
      "[CV] alpha=100, l1_ratio=0.9 .........................................\n",
      "[CV] .......................... alpha=100, l1_ratio=0.9, total=   0.0s\n",
      "[CV] alpha=100, l1_ratio=0.9 .........................................\n",
      "[CV] .......................... alpha=100, l1_ratio=0.9, total=   0.0s\n",
      "[CV] alpha=100, l1_ratio=0.9 .........................................\n",
      "[CV] .......................... alpha=100, l1_ratio=0.9, total=   0.0s\n",
      "[CV] alpha=100, l1_ratio=0.9 .........................................\n",
      "[CV] .......................... alpha=100, l1_ratio=0.9, total=   0.0s\n",
      "[CV] alpha=100, l1_ratio=0.9 .........................................\n",
      "[CV] .......................... alpha=100, l1_ratio=0.9, total=   0.0s\n",
      "[CV] alpha=100, l1_ratio=0.9 .........................................\n",
      "[CV] .......................... alpha=100, l1_ratio=0.9, total=   0.0s\n",
      "[CV] alpha=100, l1_ratio=0.9 .........................................\n",
      "[CV] .......................... alpha=100, l1_ratio=0.9, total=   0.0s\n",
      "[CV] alpha=100, l1_ratio=0.9 .........................................\n",
      "[CV] .......................... alpha=100, l1_ratio=0.9, total=   0.0s\n",
      "[CV] alpha=100, l1_ratio=0.9 .........................................\n",
      "[CV] .......................... alpha=100, l1_ratio=0.9, total=   0.0s\n",
      "[CV] alpha=100, l1_ratio=1 ...........................................\n",
      "[CV] ............................ alpha=100, l1_ratio=1, total=   0.0s\n",
      "[CV] alpha=100, l1_ratio=1 ...........................................\n",
      "[CV] ............................ alpha=100, l1_ratio=1, total=   0.0s\n",
      "[CV] alpha=100, l1_ratio=1 ...........................................\n",
      "[CV] ............................ alpha=100, l1_ratio=1, total=   0.0s\n",
      "[CV] alpha=100, l1_ratio=1 ...........................................\n",
      "[CV] ............................ alpha=100, l1_ratio=1, total=   0.0s\n",
      "[CV] alpha=100, l1_ratio=1 ...........................................\n",
      "[CV] ............................ alpha=100, l1_ratio=1, total=   0.0s\n",
      "[CV] alpha=100, l1_ratio=1 ...........................................\n",
      "[CV] ............................ alpha=100, l1_ratio=1, total=   0.0s\n",
      "[CV] alpha=100, l1_ratio=1 ...........................................\n",
      "[CV] ............................ alpha=100, l1_ratio=1, total=   0.0s\n",
      "[CV] alpha=100, l1_ratio=1 ...........................................\n",
      "[CV] ............................ alpha=100, l1_ratio=1, total=   0.0s\n",
      "[CV] alpha=100, l1_ratio=1 ...........................................\n",
      "[CV] ............................ alpha=100, l1_ratio=1, total=   0.0s\n",
      "[CV] alpha=100, l1_ratio=1 ...........................................\n",
      "[CV] ............................ alpha=100, l1_ratio=1, total=   0.0s\n"
     ]
    },
    {
     "name": "stderr",
     "output_type": "stream",
     "text": [
      "[Parallel(n_jobs=1)]: Done 250 out of 250 | elapsed:    3.4s finished\n"
     ]
    },
    {
     "data": {
      "text/plain": [
       "GridSearchCV(cv=10, estimator=ElasticNet(),\n",
       "             param_grid={'alpha': [0.1, 1, 10, 50, 100],\n",
       "                         'l1_ratio': [0.1, 0.5, 0.7, 0.9, 1]},\n",
       "             scoring='neg_mean_squared_error', verbose=2)"
      ]
     },
     "execution_count": 59,
     "metadata": {},
     "output_type": "execute_result"
    }
   ],
   "source": [
    "grid_model.fit(X_train,y_train)"
   ]
  },
  {
   "cell_type": "code",
   "execution_count": 60,
   "id": "damaged-coffee",
   "metadata": {},
   "outputs": [
    {
     "data": {
      "text/plain": [
       "{'alpha': 0.1, 'l1_ratio': 0.1}"
      ]
     },
     "execution_count": 60,
     "metadata": {},
     "output_type": "execute_result"
    }
   ],
   "source": [
    "grid_model.best_params_"
   ]
  },
  {
   "cell_type": "code",
   "execution_count": 61,
   "id": "final-marketing",
   "metadata": {},
   "outputs": [
    {
     "data": {
      "text/plain": [
       "ElasticNet(alpha=0.1, l1_ratio=0.1)"
      ]
     },
     "execution_count": 61,
     "metadata": {},
     "output_type": "execute_result"
    }
   ],
   "source": [
    "grid_model.best_estimator_"
   ]
  },
  {
   "cell_type": "code",
   "execution_count": 62,
   "id": "valuable-nothing",
   "metadata": {},
   "outputs": [],
   "source": [
    "y_pred = grid_model.predict(X_test)"
   ]
  },
  {
   "cell_type": "code",
   "execution_count": 63,
   "id": "corporate-brush",
   "metadata": {},
   "outputs": [
    {
     "data": {
      "text/plain": [
       "0.015131194707162041"
      ]
     },
     "execution_count": 63,
     "metadata": {},
     "output_type": "execute_result"
    }
   ],
   "source": [
    "mean_squared_error(y_test,y_pred)"
   ]
  },
  {
   "cell_type": "code",
   "execution_count": 64,
   "id": "pressing-variable",
   "metadata": {},
   "outputs": [
    {
     "data": {
      "text/plain": [
       "0.12300892125029811"
      ]
     },
     "execution_count": 64,
     "metadata": {},
     "output_type": "execute_result"
    }
   ],
   "source": [
    "RMSE = np.sqrt(mean_squared_error(y_test,y_pred))\n",
    "RMSE"
   ]
  },
  {
   "cell_type": "code",
   "execution_count": 65,
   "id": "posted-distinction",
   "metadata": {},
   "outputs": [],
   "source": [
    "test_prob = y_test - y_pred"
   ]
  },
  {
   "cell_type": "code",
   "execution_count": 66,
   "id": "alternative-learning",
   "metadata": {},
   "outputs": [
    {
     "data": {
      "text/plain": [
       "<matplotlib.lines.Line2D at 0x273cc170308>"
      ]
     },
     "execution_count": 66,
     "metadata": {},
     "output_type": "execute_result"
    },
    {
     "data": {
      "image/png": "[encoded data removed]",
      "text/plain": [
       "<Figure size 432x288 with 1 Axes>"
      ]
     },
     "metadata": {
      "needs_background": "light"
     },
     "output_type": "display_data"
    }
   ],
   "source": [
    "sns.scatterplot(x=y_test,y=test_prob)\n",
    "plt.axhline(y=0,color='magenta',linestyle='--')"
   ]
  },
  {
   "cell_type": "code",
   "execution_count": 67,
   "id": "selective-hawaii",
   "metadata": {},
   "outputs": [
    {
     "data": {
      "image/png": "[encoded data removed]",
      "text/plain": [
       "<Figure size 1000x1200 with 1 Axes>"
      ]
     },
     "metadata": {
      "needs_background": "light"
     },
     "output_type": "display_data"
    }
   ],
   "source": [
    "fig,ax = plt.subplots(figsize=(10,12),dpi=100)\n",
    "\n",
    "_=sp.stats.probplot(test_prob,plot=ax)"
   ]
  },
  {
   "cell_type": "code",
   "execution_count": 68,
   "id": "inclusive-restoration",
   "metadata": {},
   "outputs": [],
   "source": [
    "def MAPE(y_test,y_pred):\n",
    "    mape = np.mean(np.abs((y_test - y_pred)/y_test))*100\n",
    "    return mape"
   ]
  },
  {
   "cell_type": "code",
   "execution_count": 69,
   "id": "fifty-jacket",
   "metadata": {},
   "outputs": [],
   "source": [
    "LR_MAPEgrid= MAPE(y_test,y_pred)"
   ]
  },
  {
   "cell_type": "code",
   "execution_count": 70,
   "id": "mobile-sector",
   "metadata": {},
   "outputs": [
    {
     "name": "stdout",
     "output_type": "stream",
     "text": [
      "MAPE:  0.7057076826881096\n"
     ]
    }
   ],
   "source": [
    "print(\"MAPE: \",LR_MAPEgrid)"
   ]
  },
  {
   "cell_type": "code",
   "execution_count": 71,
   "id": "acting-recycling",
   "metadata": {},
   "outputs": [
    {
     "data": {
      "text/plain": [
       "91.0"
      ]
     },
     "execution_count": 71,
     "metadata": {},
     "output_type": "execute_result"
    }
   ],
   "source": [
    "accuracy4= round(r2_score(y_test, y_pred), 2)\n",
    "accuracy4= accuracy4 * 100\n",
    "accuracy4"
   ]
  },
  {
   "cell_type": "markdown",
   "id": "spanish-standard",
   "metadata": {},
   "source": [
    "# Ridge model"
   ]
  },
  {
   "cell_type": "code",
   "execution_count": 72,
   "id": "minimal-vulnerability",
   "metadata": {},
   "outputs": [],
   "source": [
    "#Create  and y \n",
    "X = df.drop('saleprice',axis=1)\n",
    "y = df['saleprice']\n",
    "\n",
    "from sklearn.model_selection import train_test_split\n",
    "X_train,X_test, y_train, y_test = train_test_split(X,y, test_size = 0.3)\n",
    "\n",
    "from sklearn.preprocessing import StandardScaler\n",
    "scaler = StandardScaler()\n",
    "scaler.fit(X_train)\n",
    "X_train = scaler.transform(X_train)\n",
    "X_test = scaler.transform(X_test)"
   ]
  },
  {
   "cell_type": "code",
   "execution_count": 73,
   "id": "related-mailing",
   "metadata": {},
   "outputs": [],
   "source": [
    "ridge_model = Ridge(alpha=10)"
   ]
  },
  {
   "cell_type": "code",
   "execution_count": 74,
   "id": "framed-taste",
   "metadata": {},
   "outputs": [
    {
     "data": {
      "text/plain": [
       "Ridge(alpha=10)"
      ]
     },
     "execution_count": 74,
     "metadata": {},
     "output_type": "execute_result"
    }
   ],
   "source": [
    "ridge_model.fit(X_train,y_train)"
   ]
  },
  {
   "cell_type": "code",
   "execution_count": 75,
   "id": "expected-intervention",
   "metadata": {},
   "outputs": [],
   "source": [
    "pred_test_ridge = ridge_model.predict(X_test)"
   ]
  },
  {
   "cell_type": "code",
   "execution_count": 76,
   "id": "intermediate-craft",
   "metadata": {},
   "outputs": [
    {
     "data": {
      "text/plain": [
       "array([12.28032305, 12.21209612, 11.8169125 , 12.74529642, 12.2486942 ,\n",
       "       12.1185486 , 11.8198527 , 11.80551543, 12.77373065, 11.66545535,\n",
       "       11.38818276, 11.87191883, 12.01778585, 12.04856259, 12.04086585,\n",
       "       11.757755  , 12.41480552, 11.65287276, 11.9734333 , 12.00260672,\n",
       "       12.01426194, 11.15102709, 11.53816212, 11.69703476, 11.87183857,\n",
       "       12.61356406, 11.2147188 , 11.95990981, 12.42635219, 12.10711487,\n",
       "       12.18467692, 12.62854762, 13.01531225, 12.20502288, 12.15987435,\n",
       "       11.95018643, 12.35594277, 12.38944303, 12.15621839, 11.88449235,\n",
       "       13.12919447, 11.67525466, 12.05307021, 11.87179565, 11.97634759,\n",
       "       11.80756618, 11.91491932, 11.66166948, 11.70419214, 11.56596158,\n",
       "       11.38860141, 11.54251258, 11.98966128, 12.70885744, 12.88490698,\n",
       "       11.7617055 , 11.68466687, 12.05232639, 12.0187622 , 11.95361857,\n",
       "       11.54705484, 11.74873464, 11.69932893, 11.92047681, 11.25540288,\n",
       "       12.09543479, 12.31677772, 12.23617937, 12.28998738, 12.38916064,\n",
       "       12.15647966, 12.29993849, 12.00313772, 11.7817448 , 11.86271112,\n",
       "       11.01769686, 11.64910673, 12.05309811, 12.86728053, 11.8165404 ,\n",
       "       11.69407202, 12.02206853, 11.81397005, 11.64395469, 12.46834695,\n",
       "       12.35982544, 11.88503826, 11.82626022, 12.1169256 , 12.1645813 ,\n",
       "       12.29154722, 11.78763312, 13.26842878, 12.46745726, 11.73477305,\n",
       "       11.76268496, 12.08762378, 11.84132154, 11.61786021, 12.91311678,\n",
       "       12.21652074, 11.73066175, 11.6125356 , 11.99427262, 11.88037826,\n",
       "       11.87461659, 11.71681299, 11.52712948, 12.35287882, 11.85626872,\n",
       "       11.6564387 , 12.19536318, 11.8381677 , 12.95296111, 12.36982678,\n",
       "       11.69514842, 11.70280164, 11.76043345, 12.31689749, 11.94547845,\n",
       "       11.76993017, 11.09816371, 11.6711555 , 11.2158734 , 11.7624998 ,\n",
       "       11.52584211, 12.09718028, 11.83492783, 12.50245194, 12.22946513,\n",
       "       11.97917789, 12.06985289, 11.88955972, 11.70332234, 11.79040582,\n",
       "       11.78177163, 12.27122134, 11.84202712, 12.03655825, 11.7863445 ,\n",
       "       11.49445424, 11.70195465, 11.94648974, 12.15234456, 13.00381442,\n",
       "       12.27669863, 12.10205138, 12.67497961, 11.92166587, 12.13861068,\n",
       "       12.49471181, 12.22063894, 11.82641252, 11.83498973, 11.75966162,\n",
       "       10.97025774, 11.88653683, 11.4705296 , 11.96076789, 12.34810966,\n",
       "       12.65213309, 11.86279533, 12.19071089, 11.92709791, 12.03522402,\n",
       "       11.48707717, 12.19933328, 11.70151636, 12.71309965, 12.54291703,\n",
       "       12.27217534, 11.71410347, 11.78902055, 12.24664015, 11.60007395,\n",
       "       12.24001139, 11.79139254, 12.13014445, 12.30852229, 11.81431435,\n",
       "       11.41570837, 12.10638862, 11.60135147, 11.99023998, 12.31127121,\n",
       "       12.29113538, 11.6832639 , 12.05176721, 11.96440457, 11.65933935,\n",
       "       12.39888054, 11.5147161 , 12.27307274, 11.94659304, 12.12924208,\n",
       "       11.84114289, 11.50200078, 12.19495074, 12.06773518, 12.00297167,\n",
       "       11.0881848 , 11.71701359, 11.76582644, 12.16515679, 12.79442412,\n",
       "       12.40886376, 11.82491442, 12.10683826, 12.15695188, 12.48589555,\n",
       "       11.73192803, 12.24357944, 12.53862136, 11.86550406, 12.2298949 ,\n",
       "       11.97854611, 12.14900375, 12.17576714, 12.62459967, 11.85674747,\n",
       "       12.00248378, 12.4952341 , 12.43330759, 11.56407725, 12.12140365,\n",
       "       12.24907065, 11.86062429, 11.98510994, 12.20792141, 12.3828317 ,\n",
       "       12.69277057, 11.79650745, 12.05707085, 11.67867544, 12.18478116,\n",
       "       11.92086533, 12.23482458, 12.06754095, 11.9778518 , 12.02258284,\n",
       "       11.70202401, 11.83310419, 12.14414717, 11.87375321, 12.07912861,\n",
       "       11.81277593, 11.5961056 , 11.91667135, 11.73667521, 12.64342363,\n",
       "       12.11921843, 12.2664262 , 11.96802264, 11.98467117, 12.45048528,\n",
       "       11.98940096, 11.37852808, 11.82379972, 11.46297742, 11.88110133,\n",
       "       11.78815713, 11.28296301, 11.82884607, 11.66694743, 11.88122464,\n",
       "       12.69454072, 12.75963133, 11.80845145, 12.51727273, 11.74084664,\n",
       "       12.05457963, 11.10521976, 11.86235699, 11.85876114, 11.77072111,\n",
       "       11.99306732, 12.04388637, 12.25130193, 11.51390854, 11.81241327,\n",
       "       11.90720117, 11.54310885, 13.16861849, 12.01091109, 12.29536945,\n",
       "       12.19897743, 12.23832256, 12.2292667 , 12.86845704, 11.7780982 ,\n",
       "       11.54129081, 11.91652036, 11.9450207 , 12.10895815, 12.1496056 ,\n",
       "       12.2191179 , 11.68978644, 11.99820508, 11.4187421 , 12.22580361,\n",
       "       12.01777603, 11.79401619, 11.9791794 , 12.54531119, 12.25377744,\n",
       "       11.80605668, 12.30428735, 11.95912121, 12.14023381, 12.00880904,\n",
       "       12.17939965, 13.12215349, 12.19689385, 11.41927939, 12.00975565,\n",
       "       12.3442975 , 12.54188846, 10.92902134, 11.98882772, 12.42903716,\n",
       "       11.82477301, 11.84693211, 11.89860296, 12.46673302, 11.92607061,\n",
       "       11.67422802, 12.26306981, 12.17362843, 12.18016392, 12.37273049,\n",
       "       11.72298399, 11.73237174, 12.33981516, 11.70368005, 12.36789535,\n",
       "       12.01405323, 12.52133344, 11.57626387, 12.44822228, 11.75711992,\n",
       "       11.63795483, 11.43183275, 11.61425612, 12.86266908, 11.73020087,\n",
       "       13.14594947, 12.16640572, 12.09161294, 12.43332903, 11.59690879,\n",
       "       11.63414719, 11.91425605, 12.28302045, 12.19683383, 11.92836684,\n",
       "       12.19373007, 11.12806617, 12.43703558, 12.37651829, 11.94578575,\n",
       "       12.08817254, 12.1976532 , 11.68449935, 12.49512191, 11.85883613,\n",
       "       12.08446317, 11.82480761, 12.38788787, 12.38296457, 12.54844219,\n",
       "       11.99811325, 11.74460286, 12.2827667 , 12.18929672, 11.91679832,\n",
       "       12.7948976 , 11.99517495, 11.6444577 , 11.67075702, 11.75187011,\n",
       "       11.53289884, 12.21064353, 11.51510342, 12.0460246 , 12.50026108,\n",
       "       12.3267039 , 11.79462263, 12.78979409, 12.18929363, 12.53970938,\n",
       "       12.09819873, 11.54125574, 12.71141228, 12.20663372, 11.64829021,\n",
       "       12.52810731, 11.8408361 , 11.87042295, 11.74257973, 11.74423007,\n",
       "       12.1207923 , 12.85832071, 11.22054534, 12.38191341, 11.88460324,\n",
       "       11.84144748, 11.86100736, 11.72918372, 11.71872286, 11.91154957,\n",
       "       11.78154575, 11.80133894, 11.67226889, 12.027779  , 12.32467287,\n",
       "       11.39082406, 12.1260241 , 11.43876025, 12.71988652, 12.08759089,\n",
       "       11.77822232, 12.76124387, 11.76436585, 11.78692943, 11.38527475,\n",
       "       11.72332563, 13.08518549, 11.43863292, 11.56210716, 12.28157584,\n",
       "       12.09204356, 11.32004267, 11.64404037, 11.96368407, 11.56026586,\n",
       "       11.78703159, 11.53200045, 11.85460682, 12.62177696, 11.44417289,\n",
       "       11.78379143, 11.72452703, 11.81895592, 12.10713722, 11.88507181,\n",
       "       11.98085427, 12.3348198 , 12.11419254, 12.14494982, 11.65055145,\n",
       "       12.33819551, 12.44513233, 11.71316243, 12.07256083, 11.86361202,\n",
       "       11.39948003, 11.61320976, 11.81168036, 12.15079963, 12.03839548,\n",
       "       11.67820671, 11.97226115, 12.1163024 , 12.46212552, 11.93434696,\n",
       "       12.17350409, 11.75897963, 11.73496244, 11.9273704 , 12.15427791,\n",
       "       11.74924294, 12.18483277, 10.86777552, 12.52759675, 12.37442494,\n",
       "       12.03619247, 12.06116444, 12.4024391 , 11.64671597, 11.42684117,\n",
       "       12.31657351, 11.09816115, 11.93044966, 11.86093311, 11.44405853,\n",
       "       12.41444842, 12.18947879, 10.89988178, 12.08199299, 12.24280121,\n",
       "       11.83297212, 12.08886454, 12.07492875, 11.7323233 , 12.09645641,\n",
       "       12.1793284 , 11.19183883, 11.54044356, 11.37950805, 12.66188741,\n",
       "       11.81937927, 11.61392183, 12.13554229, 12.18030494, 12.4295816 ,\n",
       "       11.57128832, 11.92350402, 11.38636304, 12.23796134, 12.55036923,\n",
       "       12.39510373, 12.06081423, 12.11185196, 12.3712041 , 11.66775143,\n",
       "       11.56219001, 11.99236222, 12.59956217, 12.61384057, 11.50679217,\n",
       "       11.75697485, 12.00555508, 11.94311512, 12.29669268, 11.75248067,\n",
       "       11.61162027, 11.66201162, 11.91899138, 11.64048537, 11.41023934,\n",
       "       11.5177647 , 10.88717165, 12.61999767, 12.22844188, 11.72303842,\n",
       "       12.02619006, 12.09226335, 11.79620507, 11.78894384, 12.23376678,\n",
       "       12.09647505, 11.9192986 , 11.64840812, 11.49806905, 12.19160395,\n",
       "       12.51697856, 11.97015733, 12.02447444, 11.73639796, 11.67060657,\n",
       "       11.42201959, 12.33836938, 11.81847838, 12.92175621, 12.33712948,\n",
       "       12.19698753, 12.24655245, 11.72431839, 12.3104977 , 11.97609009,\n",
       "       12.05620854, 12.80462526, 12.30655052, 13.07331517, 12.00888212,\n",
       "       11.80833172, 11.70765385, 11.51568097, 11.54851864, 11.94295295,\n",
       "       11.69795493, 11.51864546, 12.24436148, 12.93454059, 12.34317642,\n",
       "       11.98866729, 12.16756916, 12.65139307, 12.13722847, 11.41131275,\n",
       "       11.79430558, 12.03834951, 11.49332333, 11.4011173 , 13.01992166,\n",
       "       12.05242954, 12.12781639, 11.71175477, 11.97382871, 11.98275954,\n",
       "       12.11549798, 11.53904171, 11.20602468, 11.6335819 , 11.84789429,\n",
       "       12.06305788, 11.64942151, 11.72057553, 11.95502072, 12.19564142,\n",
       "       11.37606009, 11.87285253, 11.77610582, 11.68133741, 12.0665583 ,\n",
       "       12.2382938 , 13.04464799, 11.70733189, 12.331805  , 11.89215382,\n",
       "       11.73042632, 12.15052656, 12.01150508, 12.11426988, 12.56023908,\n",
       "       12.19171053, 13.02176491, 12.05940309, 11.75375151, 12.48970192,\n",
       "       11.75469397, 11.7483023 , 12.10247799, 12.36790611, 12.3398129 ,\n",
       "       11.96173901, 12.1454788 , 12.57309214, 13.04231151, 12.17756557,\n",
       "       12.53891031, 12.04023564, 11.90634745, 12.16469564, 12.98719152,\n",
       "       12.56723425, 11.39402185, 11.97230621, 10.85824007, 12.86350771,\n",
       "       12.1884311 , 12.27671093, 11.77136363, 11.42747235, 11.67558238,\n",
       "       12.60302459, 11.8765151 , 11.85994488, 12.75497218, 11.59795669,\n",
       "       12.15138137, 12.03266436, 12.23965553, 12.8071624 , 11.50162808,\n",
       "       12.01911147, 12.40775533, 12.34189638, 11.28795444, 12.27043615,\n",
       "       11.81169029, 11.90678557, 11.81719153, 12.69505623, 12.28010785,\n",
       "       11.94669565, 12.30350913, 11.76793191, 12.59195225, 11.91017094,\n",
       "       11.59403287, 11.26576786, 11.94679826, 11.67969342, 12.43995176,\n",
       "       11.95735906, 12.13686249, 11.75573037, 11.89002693, 11.05588625,\n",
       "       12.00964434, 12.16411012, 11.74613139, 12.7193488 , 11.59996517,\n",
       "       11.39435621, 12.08935094, 12.45439323, 11.27881698, 12.15001259,\n",
       "       12.45084474, 12.17622309, 11.53041206, 11.5617926 , 12.38455515,\n",
       "       11.31915197, 12.52208547, 11.96462661, 11.73959533, 11.8428067 ,\n",
       "       12.1418967 , 12.68611362, 12.11673194, 11.79197382, 12.74271578,\n",
       "       11.75980944, 12.4733738 , 12.45528263, 11.95451811, 12.55725952,\n",
       "       12.08542853, 11.61706711, 12.46945305, 11.76345944, 11.87310411,\n",
       "       11.85978763, 12.57548533, 12.07509028, 11.63950584, 12.45263247,\n",
       "       12.12548373, 12.53182703, 11.64370816, 12.03573738, 11.39395637,\n",
       "       13.37017746, 11.26349831, 12.41069358, 11.81016615, 12.29159292,\n",
       "       12.66783954, 11.5215764 , 11.40861678, 11.85919354, 12.15244302,\n",
       "       11.96512591, 12.05738959, 11.70788407, 11.97352688, 11.91716057,\n",
       "       12.39901651, 11.99149997, 11.92084017, 11.70203013, 11.41441973,\n",
       "       11.61910368, 11.74260677, 11.77805768, 13.01436245, 12.43654634,\n",
       "       11.71967514, 12.47562354, 12.39524344, 12.22235573, 12.57189527,\n",
       "       12.2848171 , 12.21671967, 12.21575985, 11.55832785, 11.90696581,\n",
       "       12.046733  , 11.58917117, 11.72449386, 11.60483307, 11.89077314,\n",
       "       12.14039354, 12.17036591, 12.09264491, 11.78498509, 12.31872364,\n",
       "       11.84739892, 12.90090362, 11.87523328, 12.3182361 , 12.30455439,\n",
       "       12.20917145, 11.77900565, 11.60988646, 12.13912749, 12.59522226,\n",
       "       11.98428526, 12.21692932, 12.24485236, 12.43319227, 11.47043201,\n",
       "       12.27296103, 12.103232  , 11.91981969, 12.49023662, 11.84619594,\n",
       "       12.47528113, 11.70380282, 12.32203715, 12.36072084, 12.27415237,\n",
       "       12.47103712, 12.21094764, 11.86243449, 11.8095542 , 11.62504228,\n",
       "       12.80792068, 12.42113443, 11.9824723 , 11.74739739, 11.66263224,\n",
       "       11.91391741, 11.78175894, 11.85201376, 10.98479475, 11.74614896,\n",
       "       12.16193689, 11.66826941, 11.85752344, 11.78817405, 12.29071321,\n",
       "       11.82572319, 12.1720782 , 11.90566126, 11.66411595, 11.71036847,\n",
       "       12.06691847, 11.87398304, 12.0760621 , 11.78744172, 12.22171786,\n",
       "       11.88575983, 12.14308856, 11.75827494, 12.17359564, 11.74644715,\n",
       "       12.2449333 , 11.83673549, 12.17619183, 12.06990243, 11.67589887,\n",
       "       11.80889545, 11.72332042, 12.14891544, 12.01551961, 11.70395107,\n",
       "       11.79984577, 12.01530724, 11.53592962, 12.05269992, 12.43479803,\n",
       "       11.8785349 , 12.14950754, 12.9104306 , 12.26862752, 11.30819918,\n",
       "       12.01127859, 11.48778524, 12.53414298, 11.80523784, 12.18142444,\n",
       "       11.65536748, 12.05547425, 12.20780729, 11.82627299, 12.07203074,\n",
       "       12.81730393, 11.87829964, 13.1706627 , 12.02709059, 12.03505779,\n",
       "       11.77587177, 11.85078934, 11.35422478, 11.82756047, 12.01280651,\n",
       "       11.79515931, 11.65005071, 12.1086441 , 11.62617664])"
      ]
     },
     "execution_count": 76,
     "metadata": {},
     "output_type": "execute_result"
    }
   ],
   "source": [
    "pred_test_ridge"
   ]
  },
  {
   "cell_type": "code",
   "execution_count": 77,
   "id": "about-sustainability",
   "metadata": {},
   "outputs": [],
   "source": [
    "MAE_ridge = mean_absolute_error(y_test,pred_test_ridge)\n",
    "MSE_ridge = mean_squared_error(y_test,pred_test_ridge)\n",
    "RMSE_ridge = np.sqrt(MSE_ridge)"
   ]
  },
  {
   "cell_type": "code",
   "execution_count": 78,
   "id": "formal-cathedral",
   "metadata": {},
   "outputs": [
    {
     "data": {
      "text/plain": [
       "0.08129374760770562"
      ]
     },
     "execution_count": 78,
     "metadata": {},
     "output_type": "execute_result"
    }
   ],
   "source": [
    "MAE_ridge"
   ]
  },
  {
   "cell_type": "code",
   "execution_count": 79,
   "id": "needed-cooper",
   "metadata": {},
   "outputs": [
    {
     "data": {
      "text/plain": [
       "0.013943459886958137"
      ]
     },
     "execution_count": 79,
     "metadata": {},
     "output_type": "execute_result"
    }
   ],
   "source": [
    "MSE_ridge"
   ]
  },
  {
   "cell_type": "code",
   "execution_count": 80,
   "id": "attached-board",
   "metadata": {},
   "outputs": [
    {
     "data": {
      "text/plain": [
       "0.11808242835815216"
      ]
     },
     "execution_count": 80,
     "metadata": {},
     "output_type": "execute_result"
    }
   ],
   "source": [
    "RMSE_ridge"
   ]
  },
  {
   "cell_type": "code",
   "execution_count": 81,
   "id": "adjusted-arena",
   "metadata": {},
   "outputs": [],
   "source": [
    "def MAPE(y_test,pred_test_ridge):\n",
    "    mape = np.mean(np.abs((y_test - pred_test_ridge)/y_test))*100\n",
    "    return mape"
   ]
  },
  {
   "cell_type": "code",
   "execution_count": 82,
   "id": "proper-villa",
   "metadata": {},
   "outputs": [],
   "source": [
    "LR_MAPEridge= MAPE(y_test,pred_test_ridge)"
   ]
  },
  {
   "cell_type": "code",
   "execution_count": 83,
   "id": "hybrid-hunger",
   "metadata": {},
   "outputs": [
    {
     "name": "stdout",
     "output_type": "stream",
     "text": [
      "MAPE:  0.6825102730173717\n"
     ]
    }
   ],
   "source": [
    "print(\"MAPE: \",LR_MAPEridge)"
   ]
  },
  {
   "cell_type": "code",
   "execution_count": 84,
   "id": "colonial-tract",
   "metadata": {},
   "outputs": [],
   "source": [
    "test_pred=y_test-pred_test_ridge"
   ]
  },
  {
   "cell_type": "code",
   "execution_count": 85,
   "id": "institutional-beads",
   "metadata": {},
   "outputs": [
    {
     "data": {
      "text/plain": [
       "<matplotlib.lines.Line2D at 0x273cc4ac3c8>"
      ]
     },
     "execution_count": 85,
     "metadata": {},
     "output_type": "execute_result"
    },
    {
     "data": {
      "image/png": "[encoded data removed]",
      "text/plain": [
       "<Figure size 432x288 with 1 Axes>"
      ]
     },
     "metadata": {
      "needs_background": "light"
     },
     "output_type": "display_data"
    }
   ],
   "source": [
    "sns.scatterplot(x=y_test,y=test_pred)\n",
    "plt.axhline(y=0,color='magenta',linestyle='--')"
   ]
  },
  {
   "cell_type": "code",
   "execution_count": 86,
   "id": "characteristic-address",
   "metadata": {},
   "outputs": [
    {
     "data": {
      "image/png": "[encoded data removed]",
      "text/plain": [
       "<Figure size 1000x1200 with 1 Axes>"
      ]
     },
     "metadata": {
      "needs_background": "light"
     },
     "output_type": "display_data"
    }
   ],
   "source": [
    "fig,ax = plt.subplots(figsize=(10,12),dpi=100)\n",
    "\n",
    "_=sp.stats.probplot(test_pred,plot=ax)"
   ]
  },
  {
   "cell_type": "code",
   "execution_count": 87,
   "id": "forced-convenience",
   "metadata": {},
   "outputs": [
    {
     "data": {
      "text/plain": [
       "92.0"
      ]
     },
     "execution_count": 87,
     "metadata": {},
     "output_type": "execute_result"
    }
   ],
   "source": [
    "accuracy5= round(r2_score(y_test, pred_test_ridge), 2)\n",
    "accuracy5= accuracy5 * 100\n",
    "accuracy5"
   ]
  },
  {
   "cell_type": "markdown",
   "id": "complimentary-virgin",
   "metadata": {},
   "source": [
    "# elastic model"
   ]
  },
  {
   "cell_type": "code",
   "execution_count": 88,
   "id": "copyrighted-james",
   "metadata": {},
   "outputs": [],
   "source": [
    "#Create  and y \n",
    "X = df.drop('saleprice',axis=1)\n",
    "y = df['saleprice']\n",
    "\n",
    "from sklearn.model_selection import train_test_split\n",
    "X_train,X_test, y_train, y_test = train_test_split(X,y, test_size = 0.3)\n",
    "\n",
    "from sklearn.preprocessing import StandardScaler\n",
    "scaler = StandardScaler()\n",
    "scaler.fit(X_train)\n",
    "X_train = scaler.transform(X_train)\n",
    "X_test = scaler.transform(X_test)"
   ]
  },
  {
   "cell_type": "code",
   "execution_count": 89,
   "id": "indirect-bonus",
   "metadata": {},
   "outputs": [],
   "source": [
    "elastic_model = ElasticNet()"
   ]
  },
  {
   "cell_type": "code",
   "execution_count": 90,
   "id": "veterinary-jonathan",
   "metadata": {},
   "outputs": [
    {
     "data": {
      "text/plain": [
       "ElasticNet()"
      ]
     },
     "execution_count": 90,
     "metadata": {},
     "output_type": "execute_result"
    }
   ],
   "source": [
    "elastic_model.fit(X_train,y_train)"
   ]
  },
  {
   "cell_type": "code",
   "execution_count": 91,
   "id": "optimum-reggae",
   "metadata": {},
   "outputs": [],
   "source": [
    "pred_test_elastic = elastic_model.predict(X_test)"
   ]
  },
  {
   "cell_type": "code",
   "execution_count": 92,
   "id": "raised-christianity",
   "metadata": {},
   "outputs": [
    {
     "data": {
      "text/plain": [
       "array([12.02211374, 12.02211374, 12.02211374, 12.02211374, 12.02211374,\n",
       "       12.02211374, 12.02211374, 12.02211374, 12.02211374, 12.02211374,\n",
       "       12.02211374, 12.02211374, 12.02211374, 12.02211374, 12.02211374,\n",
       "       12.02211374, 12.02211374, 12.02211374, 12.02211374, 12.02211374,\n",
       "       12.02211374, 12.02211374, 12.02211374, 12.02211374, 12.02211374,\n",
       "       12.02211374, 12.02211374, 12.02211374, 12.02211374, 12.02211374,\n",
       "       12.02211374, 12.02211374, 12.02211374, 12.02211374, 12.02211374,\n",
       "       12.02211374, 12.02211374, 12.02211374, 12.02211374, 12.02211374,\n",
       "       12.02211374, 12.02211374, 12.02211374, 12.02211374, 12.02211374,\n",
       "       12.02211374, 12.02211374, 12.02211374, 12.02211374, 12.02211374,\n",
       "       12.02211374, 12.02211374, 12.02211374, 12.02211374, 12.02211374,\n",
       "       12.02211374, 12.02211374, 12.02211374, 12.02211374, 12.02211374,\n",
       "       12.02211374, 12.02211374, 12.02211374, 12.02211374, 12.02211374,\n",
       "       12.02211374, 12.02211374, 12.02211374, 12.02211374, 12.02211374,\n",
       "       12.02211374, 12.02211374, 12.02211374, 12.02211374, 12.02211374,\n",
       "       12.02211374, 12.02211374, 12.02211374, 12.02211374, 12.02211374,\n",
       "       12.02211374, 12.02211374, 12.02211374, 12.02211374, 12.02211374,\n",
       "       12.02211374, 12.02211374, 12.02211374, 12.02211374, 12.02211374,\n",
       "       12.02211374, 12.02211374, 12.02211374, 12.02211374, 12.02211374,\n",
       "       12.02211374, 12.02211374, 12.02211374, 12.02211374, 12.02211374,\n",
       "       12.02211374, 12.02211374, 12.02211374, 12.02211374, 12.02211374,\n",
       "       12.02211374, 12.02211374, 12.02211374, 12.02211374, 12.02211374,\n",
       "       12.02211374, 12.02211374, 12.02211374, 12.02211374, 12.02211374,\n",
       "       12.02211374, 12.02211374, 12.02211374, 12.02211374, 12.02211374,\n",
       "       12.02211374, 12.02211374, 12.02211374, 12.02211374, 12.02211374,\n",
       "       12.02211374, 12.02211374, 12.02211374, 12.02211374, 12.02211374,\n",
       "       12.02211374, 12.02211374, 12.02211374, 12.02211374, 12.02211374,\n",
       "       12.02211374, 12.02211374, 12.02211374, 12.02211374, 12.02211374,\n",
       "       12.02211374, 12.02211374, 12.02211374, 12.02211374, 12.02211374,\n",
       "       12.02211374, 12.02211374, 12.02211374, 12.02211374, 12.02211374,\n",
       "       12.02211374, 12.02211374, 12.02211374, 12.02211374, 12.02211374,\n",
       "       12.02211374, 12.02211374, 12.02211374, 12.02211374, 12.02211374,\n",
       "       12.02211374, 12.02211374, 12.02211374, 12.02211374, 12.02211374,\n",
       "       12.02211374, 12.02211374, 12.02211374, 12.02211374, 12.02211374,\n",
       "       12.02211374, 12.02211374, 12.02211374, 12.02211374, 12.02211374,\n",
       "       12.02211374, 12.02211374, 12.02211374, 12.02211374, 12.02211374,\n",
       "       12.02211374, 12.02211374, 12.02211374, 12.02211374, 12.02211374,\n",
       "       12.02211374, 12.02211374, 12.02211374, 12.02211374, 12.02211374,\n",
       "       12.02211374, 12.02211374, 12.02211374, 12.02211374, 12.02211374,\n",
       "       12.02211374, 12.02211374, 12.02211374, 12.02211374, 12.02211374,\n",
       "       12.02211374, 12.02211374, 12.02211374, 12.02211374, 12.02211374,\n",
       "       12.02211374, 12.02211374, 12.02211374, 12.02211374, 12.02211374,\n",
       "       12.02211374, 12.02211374, 12.02211374, 12.02211374, 12.02211374,\n",
       "       12.02211374, 12.02211374, 12.02211374, 12.02211374, 12.02211374,\n",
       "       12.02211374, 12.02211374, 12.02211374, 12.02211374, 12.02211374,\n",
       "       12.02211374, 12.02211374, 12.02211374, 12.02211374, 12.02211374,\n",
       "       12.02211374, 12.02211374, 12.02211374, 12.02211374, 12.02211374,\n",
       "       12.02211374, 12.02211374, 12.02211374, 12.02211374, 12.02211374,\n",
       "       12.02211374, 12.02211374, 12.02211374, 12.02211374, 12.02211374,\n",
       "       12.02211374, 12.02211374, 12.02211374, 12.02211374, 12.02211374,\n",
       "       12.02211374, 12.02211374, 12.02211374, 12.02211374, 12.02211374,\n",
       "       12.02211374, 12.02211374, 12.02211374, 12.02211374, 12.02211374,\n",
       "       12.02211374, 12.02211374, 12.02211374, 12.02211374, 12.02211374,\n",
       "       12.02211374, 12.02211374, 12.02211374, 12.02211374, 12.02211374,\n",
       "       12.02211374, 12.02211374, 12.02211374, 12.02211374, 12.02211374,\n",
       "       12.02211374, 12.02211374, 12.02211374, 12.02211374, 12.02211374,\n",
       "       12.02211374, 12.02211374, 12.02211374, 12.02211374, 12.02211374,\n",
       "       12.02211374, 12.02211374, 12.02211374, 12.02211374, 12.02211374,\n",
       "       12.02211374, 12.02211374, 12.02211374, 12.02211374, 12.02211374,\n",
       "       12.02211374, 12.02211374, 12.02211374, 12.02211374, 12.02211374,\n",
       "       12.02211374, 12.02211374, 12.02211374, 12.02211374, 12.02211374,\n",
       "       12.02211374, 12.02211374, 12.02211374, 12.02211374, 12.02211374,\n",
       "       12.02211374, 12.02211374, 12.02211374, 12.02211374, 12.02211374,\n",
       "       12.02211374, 12.02211374, 12.02211374, 12.02211374, 12.02211374,\n",
       "       12.02211374, 12.02211374, 12.02211374, 12.02211374, 12.02211374,\n",
       "       12.02211374, 12.02211374, 12.02211374, 12.02211374, 12.02211374,\n",
       "       12.02211374, 12.02211374, 12.02211374, 12.02211374, 12.02211374,\n",
       "       12.02211374, 12.02211374, 12.02211374, 12.02211374, 12.02211374,\n",
       "       12.02211374, 12.02211374, 12.02211374, 12.02211374, 12.02211374,\n",
       "       12.02211374, 12.02211374, 12.02211374, 12.02211374, 12.02211374,\n",
       "       12.02211374, 12.02211374, 12.02211374, 12.02211374, 12.02211374,\n",
       "       12.02211374, 12.02211374, 12.02211374, 12.02211374, 12.02211374,\n",
       "       12.02211374, 12.02211374, 12.02211374, 12.02211374, 12.02211374,\n",
       "       12.02211374, 12.02211374, 12.02211374, 12.02211374, 12.02211374,\n",
       "       12.02211374, 12.02211374, 12.02211374, 12.02211374, 12.02211374,\n",
       "       12.02211374, 12.02211374, 12.02211374, 12.02211374, 12.02211374,\n",
       "       12.02211374, 12.02211374, 12.02211374, 12.02211374, 12.02211374,\n",
       "       12.02211374, 12.02211374, 12.02211374, 12.02211374, 12.02211374,\n",
       "       12.02211374, 12.02211374, 12.02211374, 12.02211374, 12.02211374,\n",
       "       12.02211374, 12.02211374, 12.02211374, 12.02211374, 12.02211374,\n",
       "       12.02211374, 12.02211374, 12.02211374, 12.02211374, 12.02211374,\n",
       "       12.02211374, 12.02211374, 12.02211374, 12.02211374, 12.02211374,\n",
       "       12.02211374, 12.02211374, 12.02211374, 12.02211374, 12.02211374,\n",
       "       12.02211374, 12.02211374, 12.02211374, 12.02211374, 12.02211374,\n",
       "       12.02211374, 12.02211374, 12.02211374, 12.02211374, 12.02211374,\n",
       "       12.02211374, 12.02211374, 12.02211374, 12.02211374, 12.02211374,\n",
       "       12.02211374, 12.02211374, 12.02211374, 12.02211374, 12.02211374,\n",
       "       12.02211374, 12.02211374, 12.02211374, 12.02211374, 12.02211374,\n",
       "       12.02211374, 12.02211374, 12.02211374, 12.02211374, 12.02211374,\n",
       "       12.02211374, 12.02211374, 12.02211374, 12.02211374, 12.02211374,\n",
       "       12.02211374, 12.02211374, 12.02211374, 12.02211374, 12.02211374,\n",
       "       12.02211374, 12.02211374, 12.02211374, 12.02211374, 12.02211374,\n",
       "       12.02211374, 12.02211374, 12.02211374, 12.02211374, 12.02211374,\n",
       "       12.02211374, 12.02211374, 12.02211374, 12.02211374, 12.02211374,\n",
       "       12.02211374, 12.02211374, 12.02211374, 12.02211374, 12.02211374,\n",
       "       12.02211374, 12.02211374, 12.02211374, 12.02211374, 12.02211374,\n",
       "       12.02211374, 12.02211374, 12.02211374, 12.02211374, 12.02211374,\n",
       "       12.02211374, 12.02211374, 12.02211374, 12.02211374, 12.02211374,\n",
       "       12.02211374, 12.02211374, 12.02211374, 12.02211374, 12.02211374,\n",
       "       12.02211374, 12.02211374, 12.02211374, 12.02211374, 12.02211374,\n",
       "       12.02211374, 12.02211374, 12.02211374, 12.02211374, 12.02211374,\n",
       "       12.02211374, 12.02211374, 12.02211374, 12.02211374, 12.02211374,\n",
       "       12.02211374, 12.02211374, 12.02211374, 12.02211374, 12.02211374,\n",
       "       12.02211374, 12.02211374, 12.02211374, 12.02211374, 12.02211374,\n",
       "       12.02211374, 12.02211374, 12.02211374, 12.02211374, 12.02211374,\n",
       "       12.02211374, 12.02211374, 12.02211374, 12.02211374, 12.02211374,\n",
       "       12.02211374, 12.02211374, 12.02211374, 12.02211374, 12.02211374,\n",
       "       12.02211374, 12.02211374, 12.02211374, 12.02211374, 12.02211374,\n",
       "       12.02211374, 12.02211374, 12.02211374, 12.02211374, 12.02211374,\n",
       "       12.02211374, 12.02211374, 12.02211374, 12.02211374, 12.02211374,\n",
       "       12.02211374, 12.02211374, 12.02211374, 12.02211374, 12.02211374,\n",
       "       12.02211374, 12.02211374, 12.02211374, 12.02211374, 12.02211374,\n",
       "       12.02211374, 12.02211374, 12.02211374, 12.02211374, 12.02211374,\n",
       "       12.02211374, 12.02211374, 12.02211374, 12.02211374, 12.02211374,\n",
       "       12.02211374, 12.02211374, 12.02211374, 12.02211374, 12.02211374,\n",
       "       12.02211374, 12.02211374, 12.02211374, 12.02211374, 12.02211374,\n",
       "       12.02211374, 12.02211374, 12.02211374, 12.02211374, 12.02211374,\n",
       "       12.02211374, 12.02211374, 12.02211374, 12.02211374, 12.02211374,\n",
       "       12.02211374, 12.02211374, 12.02211374, 12.02211374, 12.02211374,\n",
       "       12.02211374, 12.02211374, 12.02211374, 12.02211374, 12.02211374,\n",
       "       12.02211374, 12.02211374, 12.02211374, 12.02211374, 12.02211374,\n",
       "       12.02211374, 12.02211374, 12.02211374, 12.02211374, 12.02211374,\n",
       "       12.02211374, 12.02211374, 12.02211374, 12.02211374, 12.02211374,\n",
       "       12.02211374, 12.02211374, 12.02211374, 12.02211374, 12.02211374,\n",
       "       12.02211374, 12.02211374, 12.02211374, 12.02211374, 12.02211374,\n",
       "       12.02211374, 12.02211374, 12.02211374, 12.02211374, 12.02211374,\n",
       "       12.02211374, 12.02211374, 12.02211374, 12.02211374, 12.02211374,\n",
       "       12.02211374, 12.02211374, 12.02211374, 12.02211374, 12.02211374,\n",
       "       12.02211374, 12.02211374, 12.02211374, 12.02211374, 12.02211374,\n",
       "       12.02211374, 12.02211374, 12.02211374, 12.02211374, 12.02211374,\n",
       "       12.02211374, 12.02211374, 12.02211374, 12.02211374, 12.02211374,\n",
       "       12.02211374, 12.02211374, 12.02211374, 12.02211374, 12.02211374,\n",
       "       12.02211374, 12.02211374, 12.02211374, 12.02211374, 12.02211374,\n",
       "       12.02211374, 12.02211374, 12.02211374, 12.02211374, 12.02211374,\n",
       "       12.02211374, 12.02211374, 12.02211374, 12.02211374, 12.02211374,\n",
       "       12.02211374, 12.02211374, 12.02211374, 12.02211374, 12.02211374,\n",
       "       12.02211374, 12.02211374, 12.02211374, 12.02211374, 12.02211374,\n",
       "       12.02211374, 12.02211374, 12.02211374, 12.02211374, 12.02211374,\n",
       "       12.02211374, 12.02211374, 12.02211374, 12.02211374, 12.02211374,\n",
       "       12.02211374, 12.02211374, 12.02211374, 12.02211374, 12.02211374,\n",
       "       12.02211374, 12.02211374, 12.02211374, 12.02211374, 12.02211374,\n",
       "       12.02211374, 12.02211374, 12.02211374, 12.02211374, 12.02211374,\n",
       "       12.02211374, 12.02211374, 12.02211374, 12.02211374, 12.02211374,\n",
       "       12.02211374, 12.02211374, 12.02211374, 12.02211374, 12.02211374,\n",
       "       12.02211374, 12.02211374, 12.02211374, 12.02211374, 12.02211374,\n",
       "       12.02211374, 12.02211374, 12.02211374, 12.02211374, 12.02211374,\n",
       "       12.02211374, 12.02211374, 12.02211374, 12.02211374, 12.02211374,\n",
       "       12.02211374, 12.02211374, 12.02211374, 12.02211374, 12.02211374,\n",
       "       12.02211374, 12.02211374, 12.02211374, 12.02211374, 12.02211374,\n",
       "       12.02211374, 12.02211374, 12.02211374, 12.02211374, 12.02211374,\n",
       "       12.02211374, 12.02211374, 12.02211374, 12.02211374, 12.02211374,\n",
       "       12.02211374, 12.02211374, 12.02211374, 12.02211374, 12.02211374,\n",
       "       12.02211374, 12.02211374, 12.02211374, 12.02211374, 12.02211374,\n",
       "       12.02211374, 12.02211374, 12.02211374, 12.02211374, 12.02211374,\n",
       "       12.02211374, 12.02211374, 12.02211374, 12.02211374, 12.02211374,\n",
       "       12.02211374, 12.02211374, 12.02211374, 12.02211374, 12.02211374,\n",
       "       12.02211374, 12.02211374, 12.02211374, 12.02211374, 12.02211374,\n",
       "       12.02211374, 12.02211374, 12.02211374, 12.02211374, 12.02211374,\n",
       "       12.02211374, 12.02211374, 12.02211374, 12.02211374, 12.02211374,\n",
       "       12.02211374, 12.02211374, 12.02211374, 12.02211374, 12.02211374,\n",
       "       12.02211374, 12.02211374, 12.02211374, 12.02211374, 12.02211374,\n",
       "       12.02211374, 12.02211374, 12.02211374, 12.02211374, 12.02211374,\n",
       "       12.02211374, 12.02211374, 12.02211374, 12.02211374, 12.02211374,\n",
       "       12.02211374, 12.02211374, 12.02211374, 12.02211374, 12.02211374,\n",
       "       12.02211374, 12.02211374, 12.02211374, 12.02211374, 12.02211374,\n",
       "       12.02211374, 12.02211374, 12.02211374, 12.02211374, 12.02211374,\n",
       "       12.02211374, 12.02211374, 12.02211374, 12.02211374, 12.02211374,\n",
       "       12.02211374, 12.02211374, 12.02211374, 12.02211374, 12.02211374,\n",
       "       12.02211374, 12.02211374, 12.02211374, 12.02211374, 12.02211374,\n",
       "       12.02211374, 12.02211374, 12.02211374, 12.02211374, 12.02211374,\n",
       "       12.02211374, 12.02211374, 12.02211374, 12.02211374, 12.02211374,\n",
       "       12.02211374, 12.02211374, 12.02211374, 12.02211374, 12.02211374,\n",
       "       12.02211374, 12.02211374, 12.02211374, 12.02211374, 12.02211374,\n",
       "       12.02211374, 12.02211374, 12.02211374, 12.02211374, 12.02211374,\n",
       "       12.02211374, 12.02211374, 12.02211374, 12.02211374])"
      ]
     },
     "execution_count": 92,
     "metadata": {},
     "output_type": "execute_result"
    }
   ],
   "source": [
    "pred_test_elastic"
   ]
  },
  {
   "cell_type": "code",
   "execution_count": 93,
   "id": "legendary-boulder",
   "metadata": {},
   "outputs": [],
   "source": [
    "MAE_elastic = mean_absolute_error(y_test,pred_test_elastic)\n",
    "MSE_elastic = mean_squared_error(y_test,pred_test_elastic)\n",
    "RMSE_elastic = np.sqrt(MSE_ridge)"
   ]
  },
  {
   "cell_type": "code",
   "execution_count": 94,
   "id": "accessible-reception",
   "metadata": {},
   "outputs": [
    {
     "data": {
      "text/plain": [
       "0.32613970575528467"
      ]
     },
     "execution_count": 94,
     "metadata": {},
     "output_type": "execute_result"
    }
   ],
   "source": [
    "MAE_elastic"
   ]
  },
  {
   "cell_type": "code",
   "execution_count": 95,
   "id": "federal-implement",
   "metadata": {},
   "outputs": [
    {
     "data": {
      "text/plain": [
       "0.17612696680201265"
      ]
     },
     "execution_count": 95,
     "metadata": {},
     "output_type": "execute_result"
    }
   ],
   "source": [
    "MSE_elastic"
   ]
  },
  {
   "cell_type": "code",
   "execution_count": 96,
   "id": "senior-branch",
   "metadata": {},
   "outputs": [
    {
     "data": {
      "text/plain": [
       "0.11808242835815216"
      ]
     },
     "execution_count": 96,
     "metadata": {},
     "output_type": "execute_result"
    }
   ],
   "source": [
    "RMSE_elastic"
   ]
  },
  {
   "cell_type": "code",
   "execution_count": 97,
   "id": "corresponding-quantity",
   "metadata": {},
   "outputs": [],
   "source": [
    "def MAPE(y_test,pred_test_elastic):\n",
    "    mape = np.mean(np.abs((y_test - pred_test_elastic)/y_test))*100\n",
    "    return mape"
   ]
  },
  {
   "cell_type": "code",
   "execution_count": 98,
   "id": "atmospheric-motel",
   "metadata": {},
   "outputs": [],
   "source": [
    "LR_MAPEelastic= MAPE(y_test,pred_test_elastic)"
   ]
  },
  {
   "cell_type": "code",
   "execution_count": 99,
   "id": "permanent-possibility",
   "metadata": {},
   "outputs": [
    {
     "name": "stdout",
     "output_type": "stream",
     "text": [
      "MAPE:  2.7172074245042377\n"
     ]
    }
   ],
   "source": [
    "print(\"MAPE: \",LR_MAPEelastic)"
   ]
  },
  {
   "cell_type": "code",
   "execution_count": 100,
   "id": "otherwise-right",
   "metadata": {},
   "outputs": [
    {
     "data": {
      "text/plain": [
       "<matplotlib.lines.Line2D at 0x273cc7ac4c8>"
      ]
     },
     "execution_count": 100,
     "metadata": {},
     "output_type": "execute_result"
    },
    {
     "data": {
      "image/png": "[encoded data removed]",
      "text/plain": [
       "<Figure size 432x288 with 1 Axes>"
      ]
     },
     "metadata": {
      "needs_background": "light"
     },
     "output_type": "display_data"
    }
   ],
   "source": [
    "sns.scatterplot(x=y_test,y=pred_test_elastic)\n",
    "plt.axhline(y=0,color='magenta',linestyle='--')"
   ]
  },
  {
   "cell_type": "code",
   "execution_count": 101,
   "id": "political-twelve",
   "metadata": {
    "scrolled": true
   },
   "outputs": [
    {
     "data": {
      "image/png": "[encoded data removed]",
      "text/plain": [
       "<Figure size 1000x1200 with 1 Axes>"
      ]
     },
     "metadata": {
      "needs_background": "light"
     },
     "output_type": "display_data"
    }
   ],
   "source": [
    "fig,ax = plt.subplots(figsize=(10,12),dpi=100)\n",
    "\n",
    "_=sp.stats.probplot(pred_test_elastic,plot=ax)"
   ]
  },
  {
   "cell_type": "code",
   "execution_count": 102,
   "id": "faced-philosophy",
   "metadata": {},
   "outputs": [
    {
     "data": {
      "text/plain": [
       "-0.0"
      ]
     },
     "execution_count": 102,
     "metadata": {},
     "output_type": "execute_result"
    }
   ],
   "source": [
    "accuracy6= round(r2_score(y_test, pred_test_elastic), 2)\n",
    "accuracy6= accuracy6 * 100\n",
    "accuracy6"
   ]
  },
  {
   "cell_type": "markdown",
   "id": "opening-grave",
   "metadata": {},
   "source": [
    "# ridge cv"
   ]
  },
  {
   "cell_type": "code",
   "execution_count": 103,
   "id": "medium-design",
   "metadata": {},
   "outputs": [],
   "source": [
    "#Create  and y \n",
    "X = df.drop('saleprice',axis=1)\n",
    "y = df['saleprice']\n",
    "\n",
    "from sklearn.model_selection import train_test_split\n",
    "X_train,X_test, y_train, y_test = train_test_split(X,y, test_size = 0.3)\n",
    "\n",
    "from sklearn.preprocessing import StandardScaler\n",
    "scaler = StandardScaler()\n",
    "scaler.fit(X_train)\n",
    "X_train = scaler.transform(X_train)\n",
    "X_test = scaler.transform(X_test)"
   ]
  },
  {
   "cell_type": "code",
   "execution_count": 104,
   "id": "infrared-immunology",
   "metadata": {},
   "outputs": [],
   "source": [
    "ridgecv_model = RidgeCV()"
   ]
  },
  {
   "cell_type": "code",
   "execution_count": 105,
   "id": "interstate-horizontal",
   "metadata": {},
   "outputs": [
    {
     "data": {
      "text/plain": [
       "RidgeCV(alphas=array([ 0.1,  1. , 10. ]))"
      ]
     },
     "execution_count": 105,
     "metadata": {},
     "output_type": "execute_result"
    }
   ],
   "source": [
    "ridgecv_model.fit(X_train,y_train)"
   ]
  },
  {
   "cell_type": "code",
   "execution_count": 106,
   "id": "checked-bennett",
   "metadata": {},
   "outputs": [],
   "source": [
    "pred_test_ridgecv = ridgecv_model.predict(X_test)"
   ]
  },
  {
   "cell_type": "code",
   "execution_count": 107,
   "id": "split-columbia",
   "metadata": {},
   "outputs": [
    {
     "data": {
      "text/plain": [
       "array([12.56003455, 12.14453464, 13.00955195, 11.71029618, 12.1456205 ,\n",
       "       11.71730951, 11.98748892, 11.90477838, 11.71617721, 11.90686168,\n",
       "       12.62411699, 12.03758337, 12.06527753, 11.93468707, 12.31057633,\n",
       "       12.74069019, 11.87629146, 12.05219267, 12.50034301, 12.16176517,\n",
       "       11.60628435, 12.40835938, 12.26548251, 12.71949858, 11.97846714,\n",
       "       12.27776006, 11.72219111, 11.49823948, 11.89898095, 11.49859656,\n",
       "       12.61470469, 12.15717895, 11.56960066, 11.34287126, 11.82988346,\n",
       "       13.06814194, 12.17134497, 12.47177942, 11.29342903, 11.8477346 ,\n",
       "       11.66203644, 11.90831221, 12.19203594, 12.1915015 , 11.86523183,\n",
       "       12.06743872, 11.91477519, 11.820659  , 12.06736757, 12.88475915,\n",
       "       11.86071677, 12.01459753, 12.17174009, 12.01169364, 12.49460615,\n",
       "       11.98476053, 11.53228049, 12.51550717, 11.85747001, 11.50736778,\n",
       "       11.83166396, 12.31147421, 12.13478842, 12.09091101, 12.16495659,\n",
       "       12.27731232, 12.2396153 , 11.85836518, 12.25506634, 11.82517592,\n",
       "       11.75326188, 12.22825372, 11.64582497, 12.57580305, 12.7488427 ,\n",
       "       11.78648139, 11.96776465, 11.84404737, 11.90615788, 12.19960313,\n",
       "       11.62870845, 12.01154534, 12.45144079, 12.80576788, 12.41383479,\n",
       "       12.77911477, 12.57514746, 12.03569601, 12.53225931, 12.71487503,\n",
       "       12.09626252, 12.68733738, 11.5110266 , 12.86694194, 12.56661815,\n",
       "       11.72818831, 11.93931827, 11.88362614, 11.70412553, 13.06486251,\n",
       "       11.15021001, 11.80452901, 12.31884799, 12.25108256, 12.54481912,\n",
       "       13.01464998, 12.22198486, 12.01474115, 12.70795833, 12.74342874,\n",
       "       12.68708885, 12.47766301, 12.64824123, 12.14779054, 11.64294254,\n",
       "       11.83484586, 12.07787883, 12.11951897, 11.70580983, 12.70027284,\n",
       "       12.25854867, 12.2577242 , 11.7811984 , 12.42918713, 12.02299718,\n",
       "       11.9574995 , 12.18864903, 11.74258175, 11.94799184, 12.01379924,\n",
       "       11.84396125, 11.85142024, 11.87105457, 12.2650698 , 13.06586691,\n",
       "       12.43471082, 12.19619931, 11.92387015, 12.07982176, 11.93552725,\n",
       "       12.11121311, 12.14406043, 12.06686895, 11.97335777, 12.07895402,\n",
       "       12.49750501, 12.1784578 , 11.17973132, 11.78036786, 11.49506665,\n",
       "       11.34387603, 11.65918545, 11.26705011, 12.34198927, 12.61153038,\n",
       "       11.84198141, 12.48979553, 11.95818958, 10.91057274, 12.35468047,\n",
       "       12.0438558 , 12.66994278, 12.09998267, 11.52813346, 12.33836878,\n",
       "       11.8655948 , 11.63549899, 12.14208173, 11.53243431, 11.5709285 ,\n",
       "       12.15494853, 11.61218491, 11.82353554, 11.56855352, 12.85950957,\n",
       "       12.39654173, 12.06920524, 11.86285652, 11.16569248, 12.19561372,\n",
       "       11.61244549, 12.46626948, 11.79289467, 11.78349351, 12.32115497,\n",
       "       11.31164394, 11.79307057, 11.78646174, 11.8052778 , 11.77032981,\n",
       "       12.24520045, 12.15304131, 12.34395379, 12.53025876, 11.47436631,\n",
       "       11.80491918, 11.06325117, 11.93741283, 11.79775177, 13.10593064,\n",
       "       12.0925231 , 12.3515411 , 12.77777414, 12.25680474, 12.24805118,\n",
       "       12.22708092, 12.0429091 , 12.21743573, 12.38977881, 12.06276545,\n",
       "       12.11624452, 12.17774753, 12.43905378, 11.63951371, 12.65364916,\n",
       "       11.70758321, 12.13058059, 11.9660389 , 12.79448667, 11.91863099,\n",
       "       11.64107937, 11.61928897, 11.84182617, 11.97266249, 11.67876826,\n",
       "       11.64047957, 12.12168593, 11.54452572, 12.20713828, 11.90421177,\n",
       "       11.88317006, 11.85950273, 12.38532762, 11.88272845, 11.99565705,\n",
       "       11.64584124, 11.96354364, 12.14085189, 11.62048001, 11.80157128,\n",
       "       11.66715424, 11.80666712, 12.48541345, 11.90693143, 12.0105428 ,\n",
       "       12.3818659 , 11.75741616, 11.85906105, 12.41382899, 11.70341656,\n",
       "       11.70958776, 12.11340322, 11.62928447, 11.95122982, 12.08370591,\n",
       "       10.99831396, 11.55388577, 11.95607096, 12.33772324, 11.65087632,\n",
       "       12.09319887, 12.71480591, 12.05341524, 11.71573889, 12.19878189,\n",
       "       11.53553298, 11.90759177, 12.12573416, 12.73445561, 12.54338237,\n",
       "       12.06961243, 13.09926811, 11.87467921, 12.00882146, 11.57689551,\n",
       "       12.76588374, 11.72413289, 11.78351032, 11.33831095, 12.36731623,\n",
       "       11.62073793, 11.91367437, 11.69939743, 11.52913115, 11.86494242,\n",
       "       12.26533334, 12.83528271, 11.42841577, 11.90164933, 11.78813463,\n",
       "       11.72149088, 12.11057936, 11.74469034, 11.84679546, 11.5084254 ,\n",
       "       11.96958014, 12.13228376, 11.53722702, 11.75524758, 11.80671761,\n",
       "       11.98915104, 12.19128417, 12.36538749, 12.2601166 , 12.25629275,\n",
       "       12.76744179, 12.08718578, 12.56622658, 11.89356636, 12.19345156,\n",
       "       11.50979393, 11.97934844, 12.17964536, 11.56672113, 12.20822494,\n",
       "       11.72739894, 12.23766511, 12.07246928, 12.44384326, 11.52659269,\n",
       "       12.75768195, 11.78543032, 13.14490366, 12.00185213, 11.99122941,\n",
       "       12.66675205, 12.27787483, 11.7747714 , 11.94021721, 11.85020624,\n",
       "       11.76281459, 11.53281889, 11.58724893, 12.19716455, 11.83731491,\n",
       "       11.85365714, 11.79303588, 12.40222097, 12.12089795, 12.06112314,\n",
       "       11.97369321, 12.0363862 , 12.35171877, 11.39257872, 11.92146787,\n",
       "       12.0567945 , 11.57771194, 11.16594041, 11.67995696, 11.58150862,\n",
       "       12.80031146, 12.93352895, 12.07029531, 11.72398832, 12.50113565,\n",
       "       11.85546013, 11.16938744, 12.39675005, 11.84197201, 11.90192959,\n",
       "       11.73881925, 12.11090228, 12.14407059, 12.27874154, 12.0920205 ,\n",
       "       11.10864308, 12.47709639, 12.05489193, 11.66462008, 11.77637323,\n",
       "       11.96983596, 12.34690569, 11.39267316, 12.36517778, 12.12247521,\n",
       "       11.63070175, 10.87396509, 11.67564463, 12.07442487, 11.87916228,\n",
       "       11.853632  , 11.69486402, 11.75174829, 12.27590526, 11.94547014,\n",
       "       12.37798133, 12.61774361, 12.3485439 , 12.09345757, 11.52411472,\n",
       "       11.98934741, 12.06133579, 11.6960268 , 12.14721333, 11.68533834,\n",
       "       12.47005417, 11.63009541, 11.52486705, 12.06763493, 12.51296864,\n",
       "       11.76981415, 11.90759218, 11.76753604, 11.89469429, 11.63490679,\n",
       "       12.26965581, 13.00644047, 12.32364013, 12.19643559, 11.97317026,\n",
       "       11.95771403, 11.36905617, 12.00056902, 11.6824995 , 11.75739194,\n",
       "       12.31260403, 11.8410315 , 12.30483519, 11.8418542 , 11.79203431,\n",
       "       11.77471984, 11.78446159, 12.05722774, 12.6547915 , 11.7685989 ,\n",
       "       12.36433069, 12.68657499, 12.42908723, 11.80815456, 12.28637986,\n",
       "       11.96797331, 12.5530518 , 11.91217261, 12.33728004, 11.22804339,\n",
       "       12.42334318, 12.76535489, 11.7233881 , 12.19393045, 11.90147121,\n",
       "       11.72386288, 12.45125279, 12.58641732, 11.58590301, 11.93733472,\n",
       "       11.72539209, 12.97861812, 12.23771299, 11.76005339, 12.61293368,\n",
       "       11.3827733 , 11.78055721, 12.14675111, 11.86049449, 12.29665024,\n",
       "       11.72640351, 11.77689962, 12.31984154, 11.91926689, 12.11545045,\n",
       "       11.63403822, 12.45460128, 12.65020902, 11.81756154, 11.05527065,\n",
       "       12.37458163, 12.47976657, 11.31697294, 12.12007661, 12.25749737,\n",
       "       11.62848645, 12.2601605 , 11.87595103, 11.66189553, 11.48945992,\n",
       "       10.97418183, 11.80777092, 12.00045054, 11.59644548, 11.96249251,\n",
       "       12.36000804, 12.12386557, 12.38799427, 12.08208886, 11.36998733,\n",
       "       12.16568992, 11.87259212, 11.95606993, 12.68812299, 11.06193221,\n",
       "       11.55471781, 11.58621054, 12.06304256, 12.15093592, 11.0477843 ,\n",
       "       11.87732207, 11.44441916, 12.1596801 , 10.61358812, 11.65147065,\n",
       "       12.36609008, 11.95481773, 11.84271394, 12.24861361, 12.17702901,\n",
       "       12.26525182, 11.77398482, 11.70236947, 12.04687136, 11.57420434,\n",
       "       11.68107331, 11.98605596, 11.88632147, 11.76986094, 11.91384614,\n",
       "       11.37832468, 11.61257326, 12.28802615, 12.25292162, 12.71650172,\n",
       "       12.93401945, 11.45514229, 11.01714772, 11.63565631, 12.81009061,\n",
       "       12.16857134, 12.19858124, 13.16892054, 11.41115661, 11.76142049,\n",
       "       12.05526942, 11.72480577, 11.95535314, 12.31699217, 12.04690922,\n",
       "       12.42448304, 12.95449822, 12.16996308, 12.12699471, 12.00057013,\n",
       "       11.30525695, 12.85597355, 12.12296668, 11.81526331, 12.42539637,\n",
       "       12.24643179, 12.19654196, 12.25985131, 11.99999148, 12.19181958,\n",
       "       11.816516  , 12.17658703, 11.46759919, 11.91390213, 12.85165183,\n",
       "       12.19407624, 11.81141239, 11.87319833, 11.874972  , 11.72448545,\n",
       "       11.80293211, 12.2008021 , 11.3605965 , 11.97911065, 11.86146769,\n",
       "       11.88243173, 12.02536774, 12.01291635, 11.65678895, 12.03805312,\n",
       "       11.91852985, 12.49717896, 12.03802755, 11.83486893, 12.69384746,\n",
       "       11.74791197, 12.56397419, 12.39822195, 11.90498569, 12.35210306,\n",
       "       11.45822902, 12.2048145 , 11.36905718, 11.92340957, 12.37974577,\n",
       "       12.05563821, 11.76877302, 11.68769342, 11.72098169, 12.85248131,\n",
       "       11.99089901, 12.19225638, 12.24944944, 11.67529782, 11.46449202,\n",
       "       11.83854816, 11.79174191, 10.97181593, 11.63455555, 12.5897594 ,\n",
       "       11.83730656, 12.22492309, 12.13545152, 11.38972196, 11.5966225 ,\n",
       "       11.59789657, 11.74300292, 11.78494488, 11.64075605, 12.54170997,\n",
       "       11.71812588, 12.27609589, 12.01799378, 12.8004984 , 11.84913638,\n",
       "       12.43221643, 12.41599671, 11.65323487, 11.90352374, 12.44483307,\n",
       "       12.02625326, 11.63759386, 12.54363621, 11.92512257, 12.12784128,\n",
       "       11.82503017, 11.78729269, 11.90074433, 12.0718089 , 12.12833573,\n",
       "       11.98704335, 12.85935914, 11.93032526, 11.87164675, 11.74794922,\n",
       "       11.86100722, 11.66005547, 11.78962129, 11.55632031, 11.99349511,\n",
       "       12.15939233, 11.81642478, 12.21093834, 11.66694394, 11.70913408,\n",
       "       10.84260462, 11.74420197, 11.98546179, 12.35874664, 11.65435168,\n",
       "       11.83748369, 11.88761395, 11.8118248 , 12.10481833, 11.93881891,\n",
       "       12.34625226, 11.89647816, 12.13594585, 11.76143327, 12.22799923,\n",
       "       12.37815526, 12.7019715 , 12.17910037, 11.61548407, 11.7392761 ,\n",
       "       11.93277196, 12.59968358, 12.30294895, 12.38052365, 11.76015067,\n",
       "       12.06141525, 11.55619074, 11.68536445, 11.44266074, 11.88984975,\n",
       "       12.55297959, 11.77789777, 11.72106957, 12.02262674, 12.1699534 ,\n",
       "       11.57348696, 12.37298977, 12.75633573, 12.11310653, 12.40546685,\n",
       "       12.06636017, 12.26127126, 11.71966356, 12.70887596, 12.05471077,\n",
       "       11.71545148, 12.32586601, 12.00808444, 11.51157489, 12.06955873,\n",
       "       11.750753  , 11.76043699, 11.81235389, 12.19807186, 12.31831534,\n",
       "       11.6335836 , 12.46074669, 12.16282602, 11.86023455, 11.31070175,\n",
       "       11.68442101, 12.24282056, 12.02068179, 12.76080802, 11.91470671,\n",
       "       11.88946193, 12.11283832, 12.03980946, 12.02389555, 11.94427093,\n",
       "       11.24392952, 12.63136379, 11.76376736, 11.97996339, 11.98008449,\n",
       "       12.31691311, 11.60586161, 12.45737747, 11.90223193, 11.90012468,\n",
       "       12.06076957, 12.00514387, 12.80729115, 12.69403751, 12.35370426,\n",
       "       12.09578453, 11.83001832, 12.22084032, 11.76439077, 11.88901833,\n",
       "       11.67819578, 12.46326383, 11.62459145, 11.56254878, 11.83640143,\n",
       "       11.62001956, 12.03135856, 11.78324406, 11.55103026, 11.72760886,\n",
       "       11.73848712, 12.30170354, 12.2521154 , 11.71801969, 12.11544726,\n",
       "       12.18582929, 11.63254355, 12.87313971, 12.7389205 , 12.1902841 ,\n",
       "       11.90052274, 11.39344186, 10.87749227, 11.47379246, 12.06323543,\n",
       "       12.15562862, 12.48365261, 11.61192654, 11.79113089, 11.98482529,\n",
       "       11.86118342, 11.86314504, 11.86600232, 12.18068595, 12.16220616,\n",
       "       11.809683  , 11.94339091, 12.17573127, 13.0213592 , 12.50834739,\n",
       "       12.29066829, 11.72998228, 11.82850487, 11.88657363, 12.09579898,\n",
       "       12.42921131, 11.8531277 , 11.76208177, 11.87133563, 12.00175562,\n",
       "       12.1649199 , 12.79115371, 12.4149953 , 11.58766328, 11.97313254,\n",
       "       12.01213806, 11.75349521, 11.91962451, 12.22508272, 12.00113467,\n",
       "       12.02922812, 12.17675048, 12.11977509, 12.26475334, 11.67052874,\n",
       "       11.89512355, 11.80272292, 11.92416687, 12.17663629, 12.32247688,\n",
       "       11.91879528, 11.85456176, 12.00733609, 12.44797223, 12.1593902 ,\n",
       "       12.06862847, 11.57348382, 12.03203987, 12.87329231, 11.72565234,\n",
       "       12.22336384, 12.26306986, 11.86726364, 11.73496558, 12.41030032,\n",
       "       12.27170394, 11.40868644, 12.43183131, 11.9438607 , 11.48941646,\n",
       "       11.39998489, 13.02571428, 12.31845445, 11.51489021, 11.76348321,\n",
       "       12.8411624 , 11.90497528, 11.77212129, 11.83025868, 13.13476573,\n",
       "       11.72336169, 12.05715448, 11.5957386 , 11.83409298, 11.48812253,\n",
       "       12.08066083, 12.45345342, 11.20266475, 12.11347317, 11.7554295 ,\n",
       "       11.73746787, 12.05230988, 11.78144314, 12.34454382, 12.30806438,\n",
       "       12.04213041, 12.69917588, 12.43425879, 12.0662425 , 12.05225325,\n",
       "       12.47557652, 12.01807141, 12.70772771, 12.51294622, 11.8336876 ,\n",
       "       11.55510818, 11.7085074 , 11.92499721, 12.51819059, 11.70345989,\n",
       "       12.50155832, 12.05522027, 12.21621777, 12.49757833, 11.57943199,\n",
       "       12.7167021 , 12.58342655, 11.71044766, 12.17675173])"
      ]
     },
     "execution_count": 107,
     "metadata": {},
     "output_type": "execute_result"
    }
   ],
   "source": [
    "pred_test_ridgecv"
   ]
  },
  {
   "cell_type": "code",
   "execution_count": 108,
   "id": "closing-logan",
   "metadata": {},
   "outputs": [],
   "source": [
    "MAE_ridgecv = mean_absolute_error(y_test,pred_test_ridgecv)\n",
    "MSE_ridgecv = mean_squared_error(y_test,pred_test_ridgecv)\n",
    "RMSE_ridgecv = np.sqrt(MSE_ridge)"
   ]
  },
  {
   "cell_type": "code",
   "execution_count": 109,
   "id": "qualified-count",
   "metadata": {},
   "outputs": [
    {
     "data": {
      "text/plain": [
       "0.08076591346233242"
      ]
     },
     "execution_count": 109,
     "metadata": {},
     "output_type": "execute_result"
    }
   ],
   "source": [
    "MAE_ridgecv"
   ]
  },
  {
   "cell_type": "code",
   "execution_count": 110,
   "id": "ambient-vinyl",
   "metadata": {},
   "outputs": [
    {
     "data": {
      "text/plain": [
       "0.012996501389683054"
      ]
     },
     "execution_count": 110,
     "metadata": {},
     "output_type": "execute_result"
    }
   ],
   "source": [
    "MSE_ridgecv "
   ]
  },
  {
   "cell_type": "code",
   "execution_count": 111,
   "id": "egyptian-factor",
   "metadata": {},
   "outputs": [
    {
     "data": {
      "text/plain": [
       "0.11808242835815216"
      ]
     },
     "execution_count": 111,
     "metadata": {},
     "output_type": "execute_result"
    }
   ],
   "source": [
    "RMSE_ridgecv "
   ]
  },
  {
   "cell_type": "code",
   "execution_count": 112,
   "id": "moderate-validity",
   "metadata": {},
   "outputs": [],
   "source": [
    "def MAPE(y_test,pred_test_ridgecv):\n",
    "    mape = np.mean(np.abs((y_test - pred_test_elastic)/y_test))*100\n",
    "    return mape"
   ]
  },
  {
   "cell_type": "code",
   "execution_count": 113,
   "id": "seventh-authority",
   "metadata": {},
   "outputs": [],
   "source": [
    "LR_MAPEridgecv= MAPE(y_test,pred_test_ridgecv)"
   ]
  },
  {
   "cell_type": "code",
   "execution_count": 114,
   "id": "satisfactory-research",
   "metadata": {},
   "outputs": [
    {
     "name": "stdout",
     "output_type": "stream",
     "text": [
      "MAPE:  2.6315873790874886\n"
     ]
    }
   ],
   "source": [
    "print(\"MAPE: \",LR_MAPEridgecv)"
   ]
  },
  {
   "cell_type": "code",
   "execution_count": 115,
   "id": "sitting-excellence",
   "metadata": {},
   "outputs": [],
   "source": [
    "test_pred=y_test-pred_test_ridgecv"
   ]
  },
  {
   "cell_type": "code",
   "execution_count": 116,
   "id": "acute-petroleum",
   "metadata": {},
   "outputs": [
    {
     "data": {
      "text/plain": [
       "<matplotlib.lines.Line2D at 0x273cc898508>"
      ]
     },
     "execution_count": 116,
     "metadata": {},
     "output_type": "execute_result"
    },
    {
     "data": {
      "image/png": "[encoded data removed]",
      "text/plain": [
       "<Figure size 432x288 with 1 Axes>"
      ]
     },
     "metadata": {
      "needs_background": "light"
     },
     "output_type": "display_data"
    }
   ],
   "source": [
    "sns.scatterplot(x=y_test,y=test_pred)\n",
    "plt.axhline(y=0,color='magenta',linestyle='--')"
   ]
  },
  {
   "cell_type": "code",
   "execution_count": 117,
   "id": "historical-moral",
   "metadata": {},
   "outputs": [
    {
     "data": {
      "image/png": "[encoded data removed]",
      "text/plain": [
       "<Figure size 1000x1200 with 1 Axes>"
      ]
     },
     "metadata": {
      "needs_background": "light"
     },
     "output_type": "display_data"
    }
   ],
   "source": [
    "fig,ax = plt.subplots(figsize=(10,12),dpi=100)\n",
    "\n",
    "_=sp.stats.probplot(test_pred,plot=ax)"
   ]
  },
  {
   "cell_type": "code",
   "execution_count": 118,
   "id": "divine-bobby",
   "metadata": {},
   "outputs": [
    {
     "data": {
      "text/plain": [
       "92.0"
      ]
     },
     "execution_count": 118,
     "metadata": {},
     "output_type": "execute_result"
    }
   ],
   "source": [
    "accuracy7= round(r2_score(y_test, pred_test_ridgecv), 2)\n",
    "accuracy7= accuracy7 * 100\n",
    "accuracy7"
   ]
  },
  {
   "cell_type": "code",
   "execution_count": 119,
   "id": "stone-lottery",
   "metadata": {},
   "outputs": [
    {
     "name": "stdout",
     "output_type": "stream",
     "text": [
      "lasso:  2.5912655430698592 accuracy:  -0.0\n"
     ]
    }
   ],
   "source": [
    "print(\"lasso: \",LR_MAPElasso, \"accuracy: \",accuracy1)"
   ]
  },
  {
   "cell_type": "code",
   "execution_count": 120,
   "id": "sophisticated-manufacturer",
   "metadata": {},
   "outputs": [
    {
     "name": "stdout",
     "output_type": "stream",
     "text": [
      "lasso cv: \t 0.6318260623063565 accuracy:  93.0\n"
     ]
    }
   ],
   "source": [
    "print(\"lasso cv: \\t\",LR_MAPElassocv, \"accuracy: \",accuracy2)"
   ]
  },
  {
   "cell_type": "code",
   "execution_count": 121,
   "id": "nearby-villa",
   "metadata": {},
   "outputs": [
    {
     "name": "stdout",
     "output_type": "stream",
     "text": [
      "Linear regression\t 118122382698.38686 accuracy:  -1.909109121509044e+25\n"
     ]
    }
   ],
   "source": [
    "print(\"Linear regression\\t\",LR_MAPE, \"accuracy: \",accuracy3)\n"
   ]
  },
  {
   "cell_type": "code",
   "execution_count": 122,
   "id": "wrong-elite",
   "metadata": {},
   "outputs": [
    {
     "name": "stdout",
     "output_type": "stream",
     "text": [
      "Gridcv with elastic :\t 0.7057076826881096 accuracy:  91.0\n"
     ]
    }
   ],
   "source": [
    "print(\"Gridcv with elastic :\\t\",LR_MAPEgrid, \"accuracy: \",accuracy4)\n"
   ]
  },
  {
   "cell_type": "code",
   "execution_count": 123,
   "id": "passive-encounter",
   "metadata": {},
   "outputs": [
    {
     "name": "stdout",
     "output_type": "stream",
     "text": [
      "ridge :\t 0.6825102730173717 accuracy:  92.0\n"
     ]
    }
   ],
   "source": [
    "print(\"ridge :\\t\",LR_MAPEridge, \"accuracy: \",accuracy5)\n"
   ]
  },
  {
   "cell_type": "code",
   "execution_count": 124,
   "id": "typical-rover",
   "metadata": {},
   "outputs": [
    {
     "name": "stdout",
     "output_type": "stream",
     "text": [
      "elastic :\t 2.7172074245042377 accuracy:  -0.0\n"
     ]
    }
   ],
   "source": [
    "print(\"elastic :\\t\",LR_MAPEelastic, \"accuracy: \",accuracy6)\n"
   ]
  },
  {
   "cell_type": "code",
   "execution_count": 125,
   "id": "appropriate-destiny",
   "metadata": {},
   "outputs": [
    {
     "name": "stdout",
     "output_type": "stream",
     "text": [
      "ridge cv: \t 2.6315873790874886 accuracy:  92.0\n"
     ]
    }
   ],
   "source": [
    "print(\"ridge cv: \\t\",LR_MAPEridgecv, \"accuracy: \",accuracy7)"
   ]
  }
 ],
 "metadata": {
  "kernelspec": {
   "display_name": "Python 3",
   "language": "python",
   "name": "python3"
  },
  "language_info": {
   "codemirror_mode": {
    "name": "ipython",
    "version": 3
   },
   "file_extension": ".py",
   "mimetype": "text/x-python",
   "name": "python",
   "nbconvert_exporter": "python",
   "pygments_lexer": "ipython3",
   "version": "3.7.10"
  }
 },
 "nbformat": 4,
 "nbformat_minor": 5
}
