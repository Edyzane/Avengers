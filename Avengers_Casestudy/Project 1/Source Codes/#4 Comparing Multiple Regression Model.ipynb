{
 "cells": [
  {
   "cell_type": "markdown",
   "metadata": {},
   "source": [
    "# testing different models for accuracy"
   ]
  },
  {
   "cell_type": "code",
   "execution_count": 1,
   "metadata": {},
   "outputs": [],
   "source": [
    "#importing libraries\n",
    "from sklearn.datasets import load_boston\n",
    "import pandas as pd\n",
    "import numpy as np\n",
    "import matplotlib\n",
    "import matplotlib.pyplot as plt\n",
    "import seaborn as sns\n",
    "\n",
    "%matplotlib inline\n",
    "from sklearn.model_selection import train_test_split\n",
    "from sklearn.linear_model import LinearRegression\n",
    "from sklearn.feature_selection import RFE\n",
    "from sklearn.linear_model import RidgeCV, LassoCV, Ridge, Lasso\n",
    "from sklearn.metrics import mean_squared_error, mean_absolute_error,r2_score\n",
    "import scipy as sp\n",
    "from joblib import dump\n",
    "from sklearn.linear_model import ElasticNet\n",
    "from sklearn.model_selection import GridSearchCV\n",
    "from sklearn.preprocessing import StandardScaler\n",
    "from sklearn.metrics import r2_score"
   ]
  },
  {
   "cell_type": "code",
   "execution_count": 2,
   "metadata": {},
   "outputs": [],
   "source": [
    "df = pd.read_csv(\"cs1_part3_res.csv\")"
   ]
  },
  {
   "cell_type": "code",
   "execution_count": 3,
   "metadata": {
    "scrolled": true
   },
   "outputs": [
    {
     "name": "stdout",
     "output_type": "stream",
     "text": [
      "<class 'pandas.core.frame.DataFrame'>\n",
      "RangeIndex: 2913 entries, 0 to 2912\n",
      "Columns: 229 entries, ms_subclass to sale_condition_Partial\n",
      "dtypes: float64(38), int64(191)\n",
      "memory usage: 5.1 MB\n"
     ]
    }
   ],
   "source": [
    "df.info()"
   ]
  },
  {
   "cell_type": "markdown",
   "metadata": {},
   "source": [
    "# lasso"
   ]
  },
  {
   "cell_type": "code",
   "execution_count": 4,
   "metadata": {},
   "outputs": [],
   "source": [
    "#Create  and y \n",
    "X = df.drop('saleprice',axis=1)\n",
    "y = df['saleprice']\n",
    "\n",
    "from sklearn.model_selection import train_test_split\n",
    "X_train,X_test, y_train, y_test = train_test_split(X,y, test_size = 0.2)"
   ]
  },
  {
   "cell_type": "code",
   "execution_count": 5,
   "metadata": {},
   "outputs": [],
   "source": [
    "from sklearn.preprocessing import StandardScaler\n",
    "scaler = StandardScaler()\n",
    "scaler.fit(X_train)\n",
    "X_train = scaler.transform(X_train)\n",
    "X_test = scaler.transform(X_test)"
   ]
  },
  {
   "cell_type": "code",
   "execution_count": 6,
   "metadata": {},
   "outputs": [],
   "source": [
    "lasso_model = Lasso()"
   ]
  },
  {
   "cell_type": "code",
   "execution_count": 7,
   "metadata": {},
   "outputs": [
    {
     "data": {
      "text/plain": [
       "Lasso()"
      ]
     },
     "execution_count": 7,
     "metadata": {},
     "output_type": "execute_result"
    }
   ],
   "source": [
    "lasso_model.fit(X_train,y_train)"
   ]
  },
  {
   "cell_type": "code",
   "execution_count": 8,
   "metadata": {},
   "outputs": [],
   "source": [
    "pred_test_lasso = lasso_model.predict(X_test)"
   ]
  },
  {
   "cell_type": "code",
   "execution_count": 9,
   "metadata": {},
   "outputs": [
    {
     "data": {
      "text/plain": [
       "array([12.02626625, 12.02626625, 12.02626625, 12.02626625, 12.02626625,\n",
       "       12.02626625, 12.02626625, 12.02626625, 12.02626625, 12.02626625,\n",
       "       12.02626625, 12.02626625, 12.02626625, 12.02626625, 12.02626625,\n",
       "       12.02626625, 12.02626625, 12.02626625, 12.02626625, 12.02626625,\n",
       "       12.02626625, 12.02626625, 12.02626625, 12.02626625, 12.02626625,\n",
       "       12.02626625, 12.02626625, 12.02626625, 12.02626625, 12.02626625,\n",
       "       12.02626625, 12.02626625, 12.02626625, 12.02626625, 12.02626625,\n",
       "       12.02626625, 12.02626625, 12.02626625, 12.02626625, 12.02626625,\n",
       "       12.02626625, 12.02626625, 12.02626625, 12.02626625, 12.02626625,\n",
       "       12.02626625, 12.02626625, 12.02626625, 12.02626625, 12.02626625,\n",
       "       12.02626625, 12.02626625, 12.02626625, 12.02626625, 12.02626625,\n",
       "       12.02626625, 12.02626625, 12.02626625, 12.02626625, 12.02626625,\n",
       "       12.02626625, 12.02626625, 12.02626625, 12.02626625, 12.02626625,\n",
       "       12.02626625, 12.02626625, 12.02626625, 12.02626625, 12.02626625,\n",
       "       12.02626625, 12.02626625, 12.02626625, 12.02626625, 12.02626625,\n",
       "       12.02626625, 12.02626625, 12.02626625, 12.02626625, 12.02626625,\n",
       "       12.02626625, 12.02626625, 12.02626625, 12.02626625, 12.02626625,\n",
       "       12.02626625, 12.02626625, 12.02626625, 12.02626625, 12.02626625,\n",
       "       12.02626625, 12.02626625, 12.02626625, 12.02626625, 12.02626625,\n",
       "       12.02626625, 12.02626625, 12.02626625, 12.02626625, 12.02626625,\n",
       "       12.02626625, 12.02626625, 12.02626625, 12.02626625, 12.02626625,\n",
       "       12.02626625, 12.02626625, 12.02626625, 12.02626625, 12.02626625,\n",
       "       12.02626625, 12.02626625, 12.02626625, 12.02626625, 12.02626625,\n",
       "       12.02626625, 12.02626625, 12.02626625, 12.02626625, 12.02626625,\n",
       "       12.02626625, 12.02626625, 12.02626625, 12.02626625, 12.02626625,\n",
       "       12.02626625, 12.02626625, 12.02626625, 12.02626625, 12.02626625,\n",
       "       12.02626625, 12.02626625, 12.02626625, 12.02626625, 12.02626625,\n",
       "       12.02626625, 12.02626625, 12.02626625, 12.02626625, 12.02626625,\n",
       "       12.02626625, 12.02626625, 12.02626625, 12.02626625, 12.02626625,\n",
       "       12.02626625, 12.02626625, 12.02626625, 12.02626625, 12.02626625,\n",
       "       12.02626625, 12.02626625, 12.02626625, 12.02626625, 12.02626625,\n",
       "       12.02626625, 12.02626625, 12.02626625, 12.02626625, 12.02626625,\n",
       "       12.02626625, 12.02626625, 12.02626625, 12.02626625, 12.02626625,\n",
       "       12.02626625, 12.02626625, 12.02626625, 12.02626625, 12.02626625,\n",
       "       12.02626625, 12.02626625, 12.02626625, 12.02626625, 12.02626625,\n",
       "       12.02626625, 12.02626625, 12.02626625, 12.02626625, 12.02626625,\n",
       "       12.02626625, 12.02626625, 12.02626625, 12.02626625, 12.02626625,\n",
       "       12.02626625, 12.02626625, 12.02626625, 12.02626625, 12.02626625,\n",
       "       12.02626625, 12.02626625, 12.02626625, 12.02626625, 12.02626625,\n",
       "       12.02626625, 12.02626625, 12.02626625, 12.02626625, 12.02626625,\n",
       "       12.02626625, 12.02626625, 12.02626625, 12.02626625, 12.02626625,\n",
       "       12.02626625, 12.02626625, 12.02626625, 12.02626625, 12.02626625,\n",
       "       12.02626625, 12.02626625, 12.02626625, 12.02626625, 12.02626625,\n",
       "       12.02626625, 12.02626625, 12.02626625, 12.02626625, 12.02626625,\n",
       "       12.02626625, 12.02626625, 12.02626625, 12.02626625, 12.02626625,\n",
       "       12.02626625, 12.02626625, 12.02626625, 12.02626625, 12.02626625,\n",
       "       12.02626625, 12.02626625, 12.02626625, 12.02626625, 12.02626625,\n",
       "       12.02626625, 12.02626625, 12.02626625, 12.02626625, 12.02626625,\n",
       "       12.02626625, 12.02626625, 12.02626625, 12.02626625, 12.02626625,\n",
       "       12.02626625, 12.02626625, 12.02626625, 12.02626625, 12.02626625,\n",
       "       12.02626625, 12.02626625, 12.02626625, 12.02626625, 12.02626625,\n",
       "       12.02626625, 12.02626625, 12.02626625, 12.02626625, 12.02626625,\n",
       "       12.02626625, 12.02626625, 12.02626625, 12.02626625, 12.02626625,\n",
       "       12.02626625, 12.02626625, 12.02626625, 12.02626625, 12.02626625,\n",
       "       12.02626625, 12.02626625, 12.02626625, 12.02626625, 12.02626625,\n",
       "       12.02626625, 12.02626625, 12.02626625, 12.02626625, 12.02626625,\n",
       "       12.02626625, 12.02626625, 12.02626625, 12.02626625, 12.02626625,\n",
       "       12.02626625, 12.02626625, 12.02626625, 12.02626625, 12.02626625,\n",
       "       12.02626625, 12.02626625, 12.02626625, 12.02626625, 12.02626625,\n",
       "       12.02626625, 12.02626625, 12.02626625, 12.02626625, 12.02626625,\n",
       "       12.02626625, 12.02626625, 12.02626625, 12.02626625, 12.02626625,\n",
       "       12.02626625, 12.02626625, 12.02626625, 12.02626625, 12.02626625,\n",
       "       12.02626625, 12.02626625, 12.02626625, 12.02626625, 12.02626625,\n",
       "       12.02626625, 12.02626625, 12.02626625, 12.02626625, 12.02626625,\n",
       "       12.02626625, 12.02626625, 12.02626625, 12.02626625, 12.02626625,\n",
       "       12.02626625, 12.02626625, 12.02626625, 12.02626625, 12.02626625,\n",
       "       12.02626625, 12.02626625, 12.02626625, 12.02626625, 12.02626625,\n",
       "       12.02626625, 12.02626625, 12.02626625, 12.02626625, 12.02626625,\n",
       "       12.02626625, 12.02626625, 12.02626625, 12.02626625, 12.02626625,\n",
       "       12.02626625, 12.02626625, 12.02626625, 12.02626625, 12.02626625,\n",
       "       12.02626625, 12.02626625, 12.02626625, 12.02626625, 12.02626625,\n",
       "       12.02626625, 12.02626625, 12.02626625, 12.02626625, 12.02626625,\n",
       "       12.02626625, 12.02626625, 12.02626625, 12.02626625, 12.02626625,\n",
       "       12.02626625, 12.02626625, 12.02626625, 12.02626625, 12.02626625,\n",
       "       12.02626625, 12.02626625, 12.02626625, 12.02626625, 12.02626625,\n",
       "       12.02626625, 12.02626625, 12.02626625, 12.02626625, 12.02626625,\n",
       "       12.02626625, 12.02626625, 12.02626625, 12.02626625, 12.02626625,\n",
       "       12.02626625, 12.02626625, 12.02626625, 12.02626625, 12.02626625,\n",
       "       12.02626625, 12.02626625, 12.02626625, 12.02626625, 12.02626625,\n",
       "       12.02626625, 12.02626625, 12.02626625, 12.02626625, 12.02626625,\n",
       "       12.02626625, 12.02626625, 12.02626625, 12.02626625, 12.02626625,\n",
       "       12.02626625, 12.02626625, 12.02626625, 12.02626625, 12.02626625,\n",
       "       12.02626625, 12.02626625, 12.02626625, 12.02626625, 12.02626625,\n",
       "       12.02626625, 12.02626625, 12.02626625, 12.02626625, 12.02626625,\n",
       "       12.02626625, 12.02626625, 12.02626625, 12.02626625, 12.02626625,\n",
       "       12.02626625, 12.02626625, 12.02626625, 12.02626625, 12.02626625,\n",
       "       12.02626625, 12.02626625, 12.02626625, 12.02626625, 12.02626625,\n",
       "       12.02626625, 12.02626625, 12.02626625, 12.02626625, 12.02626625,\n",
       "       12.02626625, 12.02626625, 12.02626625, 12.02626625, 12.02626625,\n",
       "       12.02626625, 12.02626625, 12.02626625, 12.02626625, 12.02626625,\n",
       "       12.02626625, 12.02626625, 12.02626625, 12.02626625, 12.02626625,\n",
       "       12.02626625, 12.02626625, 12.02626625, 12.02626625, 12.02626625,\n",
       "       12.02626625, 12.02626625, 12.02626625, 12.02626625, 12.02626625,\n",
       "       12.02626625, 12.02626625, 12.02626625, 12.02626625, 12.02626625,\n",
       "       12.02626625, 12.02626625, 12.02626625, 12.02626625, 12.02626625,\n",
       "       12.02626625, 12.02626625, 12.02626625, 12.02626625, 12.02626625,\n",
       "       12.02626625, 12.02626625, 12.02626625, 12.02626625, 12.02626625,\n",
       "       12.02626625, 12.02626625, 12.02626625, 12.02626625, 12.02626625,\n",
       "       12.02626625, 12.02626625, 12.02626625, 12.02626625, 12.02626625,\n",
       "       12.02626625, 12.02626625, 12.02626625, 12.02626625, 12.02626625,\n",
       "       12.02626625, 12.02626625, 12.02626625, 12.02626625, 12.02626625,\n",
       "       12.02626625, 12.02626625, 12.02626625, 12.02626625, 12.02626625,\n",
       "       12.02626625, 12.02626625, 12.02626625, 12.02626625, 12.02626625,\n",
       "       12.02626625, 12.02626625, 12.02626625, 12.02626625, 12.02626625,\n",
       "       12.02626625, 12.02626625, 12.02626625, 12.02626625, 12.02626625,\n",
       "       12.02626625, 12.02626625, 12.02626625, 12.02626625, 12.02626625,\n",
       "       12.02626625, 12.02626625, 12.02626625, 12.02626625, 12.02626625,\n",
       "       12.02626625, 12.02626625, 12.02626625, 12.02626625, 12.02626625,\n",
       "       12.02626625, 12.02626625, 12.02626625, 12.02626625, 12.02626625,\n",
       "       12.02626625, 12.02626625, 12.02626625, 12.02626625, 12.02626625,\n",
       "       12.02626625, 12.02626625, 12.02626625, 12.02626625, 12.02626625,\n",
       "       12.02626625, 12.02626625, 12.02626625, 12.02626625, 12.02626625,\n",
       "       12.02626625, 12.02626625, 12.02626625, 12.02626625, 12.02626625,\n",
       "       12.02626625, 12.02626625, 12.02626625, 12.02626625, 12.02626625,\n",
       "       12.02626625, 12.02626625, 12.02626625, 12.02626625, 12.02626625,\n",
       "       12.02626625, 12.02626625, 12.02626625, 12.02626625, 12.02626625,\n",
       "       12.02626625, 12.02626625, 12.02626625])"
      ]
     },
     "execution_count": 9,
     "metadata": {},
     "output_type": "execute_result"
    }
   ],
   "source": [
    "pred_test_lasso"
   ]
  },
  {
   "cell_type": "code",
   "execution_count": 10,
   "metadata": {},
   "outputs": [],
   "source": [
    "MAE_Lasso = mean_absolute_error(y_test,pred_test_lasso)\n",
    "MSE_Lasso = mean_squared_error(y_test,pred_test_lasso)\n",
    "RMSE_Lasso = np.sqrt(MSE_Lasso)"
   ]
  },
  {
   "cell_type": "code",
   "execution_count": 11,
   "metadata": {},
   "outputs": [
    {
     "data": {
      "text/plain": [
       "0.3162979454294107"
      ]
     },
     "execution_count": 11,
     "metadata": {},
     "output_type": "execute_result"
    }
   ],
   "source": [
    "MAE_Lasso"
   ]
  },
  {
   "cell_type": "code",
   "execution_count": 12,
   "metadata": {},
   "outputs": [
    {
     "data": {
      "text/plain": [
       "0.16470874058050147"
      ]
     },
     "execution_count": 12,
     "metadata": {},
     "output_type": "execute_result"
    }
   ],
   "source": [
    "MSE_Lasso"
   ]
  },
  {
   "cell_type": "code",
   "execution_count": 13,
   "metadata": {},
   "outputs": [
    {
     "data": {
      "text/plain": [
       "0.4058432463162366"
      ]
     },
     "execution_count": 13,
     "metadata": {},
     "output_type": "execute_result"
    }
   ],
   "source": [
    "RMSE_Lasso"
   ]
  },
  {
   "cell_type": "code",
   "execution_count": 14,
   "metadata": {},
   "outputs": [],
   "source": [
    "def MAPE(y_test,pred_test_lasso):\n",
    "    mape = np.mean(np.abs((y_test - pred_test_lasso)/y_test))*100\n",
    "    return mape"
   ]
  },
  {
   "cell_type": "code",
   "execution_count": 15,
   "metadata": {},
   "outputs": [],
   "source": [
    "LR_MAPElasso= MAPE(y_test,pred_test_lasso)"
   ]
  },
  {
   "cell_type": "code",
   "execution_count": 16,
   "metadata": {},
   "outputs": [
    {
     "name": "stdout",
     "output_type": "stream",
     "text": [
      "lassocv MAPE:  2.644988975775431\n"
     ]
    }
   ],
   "source": [
    "print(\"lassocv MAPE: \",LR_MAPElasso)"
   ]
  },
  {
   "cell_type": "code",
   "execution_count": 17,
   "metadata": {},
   "outputs": [
    {
     "data": {
      "text/plain": [
       "-1.0"
      ]
     },
     "execution_count": 17,
     "metadata": {},
     "output_type": "execute_result"
    }
   ],
   "source": [
    "accuracy1= round(r2_score(y_test, pred_test_lasso), 2)\n",
    "accuracy1= accuracy1 * 100\n",
    "accuracy1"
   ]
  },
  {
   "cell_type": "markdown",
   "metadata": {},
   "source": [
    "# lasso cv"
   ]
  },
  {
   "cell_type": "code",
   "execution_count": 18,
   "metadata": {},
   "outputs": [],
   "source": [
    "#Create  and y \n",
    "X = df.drop('saleprice',axis=1)\n",
    "y = df['saleprice']\n",
    "\n",
    "from sklearn.model_selection import train_test_split\n",
    "X_train,X_test, y_train, y_test = train_test_split(X,y, test_size = 0.2)"
   ]
  },
  {
   "cell_type": "code",
   "execution_count": 19,
   "metadata": {},
   "outputs": [],
   "source": [
    "from sklearn.preprocessing import StandardScaler\n",
    "scaler = StandardScaler()\n",
    "scaler.fit(X_train)\n",
    "X_train = scaler.transform(X_train)\n",
    "X_test = scaler.transform(X_test)"
   ]
  },
  {
   "cell_type": "code",
   "execution_count": 20,
   "metadata": {},
   "outputs": [],
   "source": [
    "lasso_model = LassoCV()"
   ]
  },
  {
   "cell_type": "code",
   "execution_count": 21,
   "metadata": {},
   "outputs": [
    {
     "data": {
      "text/plain": [
       "LassoCV()"
      ]
     },
     "execution_count": 21,
     "metadata": {},
     "output_type": "execute_result"
    }
   ],
   "source": [
    "lasso_model.fit(X_train,y_train)"
   ]
  },
  {
   "cell_type": "code",
   "execution_count": 22,
   "metadata": {},
   "outputs": [],
   "source": [
    "pred_test_lasso = lasso_model.predict(X_test)"
   ]
  },
  {
   "cell_type": "code",
   "execution_count": 23,
   "metadata": {},
   "outputs": [
    {
     "data": {
      "text/plain": [
       "array([12.43756407, 12.00382666, 12.57593385, 11.69364772, 12.15445921,\n",
       "       12.00575682, 11.65642372, 12.26934075, 12.00283799, 11.44749811,\n",
       "       11.42524491, 11.59789482, 11.77070495, 11.93852837, 11.96670934,\n",
       "       11.22374523, 11.29014248, 12.1092276 , 11.79572251, 12.16137819,\n",
       "       11.25410985, 12.42437895, 12.12044388, 11.52167978, 11.6026842 ,\n",
       "       11.75546727, 11.92791007, 12.34633587, 12.22611646, 12.18418464,\n",
       "       11.78883306, 11.86320868, 12.69987711, 12.64990387, 11.27257632,\n",
       "       12.05186896, 11.43418674, 11.72856218, 11.87144459, 11.45980792,\n",
       "       12.14435614, 12.72319103, 11.77805402, 12.36069025, 12.01598966,\n",
       "       11.63708379, 10.97085701, 11.16776793, 11.79115182, 12.73202008,\n",
       "       11.95699271, 12.08043511, 12.15655872, 12.12487187, 11.4665605 ,\n",
       "       12.31448163, 12.45370558, 11.7897481 , 12.13422821, 12.04192818,\n",
       "       11.70424136, 11.85914235, 12.10676117, 12.64267555, 12.03237135,\n",
       "       12.02551612, 11.58324871, 12.4983173 , 11.51306757, 11.72361518,\n",
       "       11.84920288, 12.287621  , 11.7369081 , 11.98687914, 11.89452414,\n",
       "       12.14901665, 12.57370559, 11.91344778, 12.27146855, 11.24621837,\n",
       "       12.10679691, 12.1981539 , 12.32279239, 11.91516278, 11.7109122 ,\n",
       "       12.97141328, 11.89870483, 12.47105622, 11.20660121, 11.37610473,\n",
       "       12.52879324, 11.75176864, 12.59628352, 11.70037837, 11.94884126,\n",
       "       11.79141115, 11.5331    , 11.56117006, 12.01131859, 12.39485124,\n",
       "       12.11300659, 12.65895301, 12.37576858, 11.79053113, 12.04628023,\n",
       "       11.71254603, 12.2357451 , 13.01473865, 11.86346545, 12.12878115,\n",
       "       11.70731322, 12.24714931, 11.15676822, 11.92462989, 11.93198366,\n",
       "       11.24643249, 11.49208921, 11.95988487, 12.15106697, 11.7948256 ,\n",
       "       11.87007545, 12.0586875 , 13.100986  , 11.89018688, 12.10086781,\n",
       "       12.00416156, 12.26338249, 12.48631591, 11.82472494, 11.67807913,\n",
       "       12.17288974, 11.9691552 , 11.69512919, 12.46788733, 11.56004839,\n",
       "       12.06334878, 12.40685343, 11.32446834, 12.25091399, 11.94298435,\n",
       "       11.39484169, 11.94131095, 11.61613973, 12.5913108 , 11.74451071,\n",
       "       12.16421185, 11.969884  , 11.74299535, 11.88953553, 12.06720981,\n",
       "       11.74705899, 11.69980436, 12.09078294, 11.96210872, 12.59048153,\n",
       "       11.93227327, 12.79046817, 13.07911264, 12.17503755, 12.46644446,\n",
       "       12.5526592 , 12.61983754, 11.89514859, 12.36290952, 12.12185458,\n",
       "       12.29349509, 12.37133573, 11.8369715 , 11.46006452, 12.13815805,\n",
       "       12.2633017 , 11.23990207, 11.97510693, 12.00836119, 11.45164978,\n",
       "       11.65153228, 11.87769551, 11.71488218, 12.51992469, 11.6709178 ,\n",
       "       12.57814626, 12.28176437, 11.70315129, 12.33817383, 11.8021211 ,\n",
       "       12.53814286, 12.39974535, 12.04760561, 12.60805508, 11.42600169,\n",
       "       11.7939055 , 11.05375603, 12.6057603 , 12.68394149, 12.35314589,\n",
       "       11.78559068, 11.67374791, 11.67212289, 12.31940419, 11.93621997,\n",
       "       11.67369498, 11.81707526, 12.66267698, 11.42667092, 11.91553007,\n",
       "       12.23792964, 12.2870749 , 11.96716092, 12.32768157, 11.86206655,\n",
       "       12.07964619, 11.84947053, 11.57677272, 12.45136057, 11.9007038 ,\n",
       "       11.46698055, 12.06112441, 11.95140006, 11.6265516 , 12.28600139,\n",
       "       12.19837479, 12.51747241, 11.94708858, 11.9056585 , 11.74697327,\n",
       "       12.24373183, 12.19259083, 11.81374561, 11.78594972, 12.54206894,\n",
       "       12.10736905, 11.90666531, 12.01788896, 11.98901852, 12.06769372,\n",
       "       11.73862553, 11.86024619, 11.64508252, 12.20164989, 11.8466602 ,\n",
       "       11.62887593, 11.98160891, 12.05662087, 11.52980277, 11.80147307,\n",
       "       11.8748254 , 11.9500039 , 11.73372632, 11.86163811, 12.26858783,\n",
       "       12.0344353 , 11.78463637, 12.11761002, 12.3085624 , 12.50638491,\n",
       "       11.98482027, 12.28886707, 11.99621474, 12.98126483, 11.92588152,\n",
       "       11.66596655, 12.12584787, 11.72091046, 12.31963929, 11.68105576,\n",
       "       12.09977271, 11.80832113, 11.54756994, 11.67050856, 11.69277985,\n",
       "       12.40953309, 12.24692575, 11.8525674 , 11.83807644, 12.16594231,\n",
       "       12.2079175 , 11.92861945, 12.51244734, 12.32296385, 11.77870815,\n",
       "       12.02764071, 11.23991187, 11.8797924 , 11.66216897, 12.94343367,\n",
       "       12.19155398, 11.51052478, 11.75012818, 11.90108984, 12.34366382,\n",
       "       12.19744219, 11.93817297, 12.12214085, 11.69731363, 12.31357831,\n",
       "       11.62573385, 12.31384228, 12.66779507, 12.51917759, 11.72584352,\n",
       "       12.476389  , 12.14167787, 11.72077016, 11.67990602, 12.07964669,\n",
       "       12.20116082, 12.27300526, 11.69294553, 11.45735793, 12.69489142,\n",
       "       12.3135362 , 12.03521802, 12.24943229, 12.40268398, 11.70632036,\n",
       "       11.83831951, 11.41628723, 12.70328717, 11.95121309, 12.10613122,\n",
       "       12.13815398, 11.84269168, 11.41789297, 11.90592709, 11.98194741,\n",
       "       11.77400753, 11.95404535, 12.3006624 , 12.18560997, 11.52928295,\n",
       "       12.15957906, 12.63366596, 11.93058086, 11.03518402, 12.21385517,\n",
       "       11.43117053, 12.25522834, 11.80631991, 12.21453497, 12.01987964,\n",
       "       12.16481649, 11.48587836, 12.15290704, 12.70935327, 11.73697649,\n",
       "       12.59957762, 11.90981625, 11.5869255 , 11.62178647, 12.71173665,\n",
       "       11.74341595, 12.00740494, 12.171477  , 11.87140738, 11.88998315,\n",
       "       11.897901  , 11.6068308 , 12.52476669, 11.69607605, 11.857897  ,\n",
       "       11.63411206, 11.85370695, 11.7734625 , 11.70716601, 12.20233307,\n",
       "       12.28034193, 11.90730186, 12.01881093, 12.31283231, 12.36861482,\n",
       "       12.19494422, 12.58725614, 11.73370911, 11.92043065, 11.69987293,\n",
       "       12.28103104, 11.97032365, 11.60465496, 11.78257733, 12.3266018 ,\n",
       "       12.01498886, 13.15163407, 11.9438715 , 11.41861467, 12.14104704,\n",
       "       11.85271175, 12.01153618, 11.70474427, 11.84134053, 12.03005206,\n",
       "       11.66304936, 11.81479385, 11.68030526, 11.88300253, 12.2238715 ,\n",
       "       11.78352237, 12.59827665, 12.12202091, 11.6149529 , 12.89653677,\n",
       "       11.72220661, 11.92082073, 12.36252703, 12.21588068, 11.7084682 ,\n",
       "       12.31959948, 12.38185831, 12.1941012 , 12.46023957, 11.91717951,\n",
       "       11.76034685, 11.77380986, 12.14629824, 12.61372912, 11.95399079,\n",
       "       12.19273355, 11.98868829, 12.61480035, 12.9883195 , 11.83325263,\n",
       "       11.52235307, 12.13280153, 11.53347021, 12.84591267, 11.65023184,\n",
       "       11.89897463, 11.86650332, 11.88451824, 12.02918624, 11.93259792,\n",
       "       12.09612454, 11.68391451, 11.61243298, 11.90720601, 11.95704781,\n",
       "       12.47111992, 12.30464638, 12.47555483, 11.54585781, 11.69147215,\n",
       "       11.71289617, 12.15630836, 11.83118577, 12.54990695, 11.95821007,\n",
       "       11.930034  , 12.52265742, 12.29419778, 12.0135836 , 11.77193881,\n",
       "       11.63953635, 12.60083258, 11.86366941, 11.6851551 , 11.88154917,\n",
       "       11.71236159, 12.58205039, 11.89724714, 12.20683936, 12.19032981,\n",
       "       12.1891554 , 11.98453514, 11.63674704, 12.0461762 , 12.64665413,\n",
       "       11.94678803, 12.24226198, 12.27905676, 11.56531364, 11.75058216,\n",
       "       11.85819013, 12.2025346 , 11.49837391, 11.8520313 , 11.73300287,\n",
       "       11.85551811, 11.82058634, 12.07056772, 11.87542456, 12.85318367,\n",
       "       11.67462397, 12.57499818, 12.21319843, 13.08478473, 11.43271409,\n",
       "       11.90724196, 11.57503387, 11.21005994, 11.49945164, 12.70515285,\n",
       "       12.05691194, 12.02242204, 12.52564187, 11.72657419, 12.32620255,\n",
       "       12.22100668, 12.12665165, 11.48054246, 12.94631347, 11.88922454,\n",
       "       11.7010488 , 11.9243578 , 12.15972968, 12.24916842, 11.85391125,\n",
       "       11.65208828, 11.80799371, 11.76397202, 12.28308118, 12.37327069,\n",
       "       11.74561081, 12.27332902, 12.07699607, 11.45870846, 11.8814121 ,\n",
       "       12.75410741, 11.9122324 , 11.74227028, 11.312432  , 11.12245173,\n",
       "       12.14677279, 11.80902404, 12.33784236, 12.40022071, 12.51595225,\n",
       "       12.26419479, 12.37667874, 12.47019032, 12.44925091, 11.70813085,\n",
       "       11.08659188, 12.07949826, 11.71266708, 13.32609821, 12.01913499,\n",
       "       12.35001988, 12.66631509, 12.29003665, 11.71990711, 12.19034205,\n",
       "       12.21082161, 12.64271062, 11.93778273, 11.70251819, 12.5073219 ,\n",
       "       12.3377314 , 12.45364058, 12.72658717, 11.97028096, 11.94416269,\n",
       "       11.79792607, 12.50092663, 11.91036438, 11.94832503, 12.38874241,\n",
       "       12.07588627, 11.73153798, 12.09663625, 11.78346389, 11.87444336,\n",
       "       11.32995524, 12.15283984, 11.90531718, 12.0548213 , 11.82567484,\n",
       "       12.51349305, 11.83442955, 11.84083692, 12.30178187, 12.52813534,\n",
       "       11.54657656, 12.19397322, 12.71487402, 11.62632273, 12.24221105,\n",
       "       11.82693717, 11.60805394, 11.65379531, 12.35719073, 12.41150635,\n",
       "       12.31734129, 12.37935879, 12.16032367])"
      ]
     },
     "execution_count": 23,
     "metadata": {},
     "output_type": "execute_result"
    }
   ],
   "source": [
    "pred_test_lasso"
   ]
  },
  {
   "cell_type": "code",
   "execution_count": 24,
   "metadata": {},
   "outputs": [],
   "source": [
    "MAE_Lasso = mean_absolute_error(y_test,pred_test_lasso)\n",
    "MSE_Lasso = mean_squared_error(y_test,pred_test_lasso)\n",
    "RMSE_Lasso = np.sqrt(MSE_Lasso)"
   ]
  },
  {
   "cell_type": "code",
   "execution_count": 25,
   "metadata": {},
   "outputs": [
    {
     "data": {
      "text/plain": [
       "0.0781086312847074"
      ]
     },
     "execution_count": 25,
     "metadata": {},
     "output_type": "execute_result"
    }
   ],
   "source": [
    "MAE_Lasso"
   ]
  },
  {
   "cell_type": "code",
   "execution_count": 26,
   "metadata": {},
   "outputs": [
    {
     "data": {
      "text/plain": [
       "0.011706586855578512"
      ]
     },
     "execution_count": 26,
     "metadata": {},
     "output_type": "execute_result"
    }
   ],
   "source": [
    "MSE_Lasso"
   ]
  },
  {
   "cell_type": "code",
   "execution_count": 27,
   "metadata": {},
   "outputs": [
    {
     "data": {
      "text/plain": [
       "0.10819698173044622"
      ]
     },
     "execution_count": 27,
     "metadata": {},
     "output_type": "execute_result"
    }
   ],
   "source": [
    "RMSE_Lasso"
   ]
  },
  {
   "cell_type": "code",
   "execution_count": 28,
   "metadata": {},
   "outputs": [],
   "source": [
    "def MAPE(y_test,pred_test_lasso):\n",
    "    mape = np.mean(np.abs((y_test - pred_test_lasso)/y_test))*100\n",
    "    return mape"
   ]
  },
  {
   "cell_type": "code",
   "execution_count": 29,
   "metadata": {},
   "outputs": [],
   "source": [
    "LR_MAPElassocv= MAPE(y_test,pred_test_lasso)"
   ]
  },
  {
   "cell_type": "code",
   "execution_count": 30,
   "metadata": {},
   "outputs": [
    {
     "name": "stdout",
     "output_type": "stream",
     "text": [
      "lassocv MAPE:  0.6559918525235781\n"
     ]
    }
   ],
   "source": [
    "print(\"lassocv MAPE: \",LR_MAPElassocv)"
   ]
  },
  {
   "cell_type": "code",
   "execution_count": 31,
   "metadata": {},
   "outputs": [
    {
     "name": "stdout",
     "output_type": "stream",
     "text": [
      "Best alpha using built-in LassoCV: 0.002171\n",
      "Best score using built-in LassoCV: -2461388.826797\n"
     ]
    }
   ],
   "source": [
    "print(\"Best alpha using built-in LassoCV: %f\" % lasso_model.alpha_)\n",
    "print(\"Best score using built-in LassoCV: %f\" %lasso_model.score(X,y))\n",
    "coef = pd.Series(lasso_model.coef_, index = X.columns)"
   ]
  },
  {
   "cell_type": "code",
   "execution_count": 32,
   "metadata": {},
   "outputs": [],
   "source": [
    "test_pred=y_test-pred_test_lasso"
   ]
  },
  {
   "cell_type": "code",
   "execution_count": 33,
   "metadata": {},
   "outputs": [
    {
     "data": {
      "text/plain": [
       "<matplotlib.lines.Line2D at 0x24788ad8880>"
      ]
     },
     "execution_count": 33,
     "metadata": {},
     "output_type": "execute_result"
    },
    {
     "data": {
      "image/png": "[encoded data removed]",
      "text/plain": [
       "<Figure size 432x288 with 1 Axes>"
      ]
     },
     "metadata": {
      "needs_background": "light"
     },
     "output_type": "display_data"
    }
   ],
   "source": [
    "sns.scatterplot(x=y_test,y=test_pred)\n",
    "plt.axhline(y=0,color='magenta',linestyle='--')"
   ]
  },
  {
   "cell_type": "code",
   "execution_count": 34,
   "metadata": {},
   "outputs": [
    {
     "data": {
      "image/png": "[encoded data removed]",
      "text/plain": [
       "<Figure size 1000x1200 with 1 Axes>"
      ]
     },
     "metadata": {
      "needs_background": "light"
     },
     "output_type": "display_data"
    }
   ],
   "source": [
    "fig,ax = plt.subplots(figsize=(10,12),dpi=100)\n",
    "\n",
    "_=sp.stats.probplot(test_pred,plot=ax)"
   ]
  },
  {
   "cell_type": "code",
   "execution_count": 35,
   "metadata": {},
   "outputs": [
    {
     "data": {
      "text/plain": [
       "0.9001159005478638"
      ]
     },
     "execution_count": 35,
     "metadata": {},
     "output_type": "execute_result"
    }
   ],
   "source": [
    "100*RMSE_Lasso/df['saleprice'].mean()"
   ]
  },
  {
   "cell_type": "code",
   "execution_count": 36,
   "metadata": {},
   "outputs": [
    {
     "data": {
      "text/plain": [
       "93.0"
      ]
     },
     "execution_count": 36,
     "metadata": {},
     "output_type": "execute_result"
    }
   ],
   "source": [
    "accuracy2= round(r2_score(y_test, pred_test_lasso), 2)\n",
    "accuracy2= accuracy2 * 100\n",
    "accuracy2"
   ]
  },
  {
   "cell_type": "markdown",
   "metadata": {},
   "source": [
    "# linear regression"
   ]
  },
  {
   "cell_type": "code",
   "execution_count": 37,
   "metadata": {},
   "outputs": [],
   "source": [
    "#Create  and y \n",
    "X = df.drop('saleprice',axis=1)\n",
    "y = df['saleprice']\n",
    "\n",
    "from sklearn.model_selection import train_test_split\n",
    "X_train,X_test, y_train, y_test = train_test_split(X,y, test_size = 0.2)"
   ]
  },
  {
   "cell_type": "code",
   "execution_count": 38,
   "metadata": {},
   "outputs": [],
   "source": [
    "from sklearn.preprocessing import StandardScaler\n",
    "scaler = StandardScaler()\n",
    "scaler.fit(X_train)\n",
    "X_train = scaler.transform(X_train)\n",
    "X_test = scaler.transform(X_test)"
   ]
  },
  {
   "cell_type": "code",
   "execution_count": 39,
   "metadata": {},
   "outputs": [],
   "source": [
    "linear_model = LinearRegression()"
   ]
  },
  {
   "cell_type": "code",
   "execution_count": 40,
   "metadata": {},
   "outputs": [
    {
     "data": {
      "text/plain": [
       "LinearRegression()"
      ]
     },
     "execution_count": 40,
     "metadata": {},
     "output_type": "execute_result"
    }
   ],
   "source": [
    "linear_model.fit(X_train,y_train)"
   ]
  },
  {
   "cell_type": "code",
   "execution_count": 41,
   "metadata": {},
   "outputs": [],
   "source": [
    "pred_linear_model = linear_model.predict(X_test)"
   ]
  },
  {
   "cell_type": "code",
   "execution_count": 42,
   "metadata": {},
   "outputs": [
    {
     "data": {
      "text/plain": [
       "array([ 1.20610862e+01,  1.15803094e+01,  1.07495176e+01,  1.17165214e+01,\n",
       "        1.26159484e+01,  1.18255562e+01,  1.18689838e+01,  1.20637677e+01,\n",
       "        1.18734963e+01,  1.14045359e+01,  1.18187916e+01,  1.20090609e+01,\n",
       "        1.20460994e+01,  1.24639474e+01,  1.20483692e+01,  1.11086158e+01,\n",
       "        1.18527196e+01,  1.22809336e+01,  1.18706436e+01,  1.23389467e+01,\n",
       "        1.18148284e+01,  1.19760292e+01,  1.21230525e+01,  1.20046961e+01,\n",
       "        1.18931245e+01,  1.28868807e+01,  1.15319792e+01,  1.15103912e+01,\n",
       "        1.20071086e+01,  1.27273250e+01,  1.20911121e+01,  1.18670268e+01,\n",
       "        1.19520404e+01,  1.27256451e+01,  1.28652918e+01,  1.16317270e+01,\n",
       "        1.20649515e+01,  1.20993191e+01,  1.18372570e+01,  1.24840705e+01,\n",
       "        1.23982974e+01,  1.20431867e+01,  1.21745594e+01,  1.18888100e+01,\n",
       "        1.20065343e+01,  1.16667305e+01,  1.19525452e+01,  1.22740762e+01,\n",
       "        1.16245879e+01,  1.23605287e+01,  1.18372796e+01,  1.23121736e+01,\n",
       "        1.18523736e+01,  1.26641412e+01,  1.29062464e+01,  1.14823766e+01,\n",
       "        1.17105573e+01,  1.21526807e+01,  1.17937418e+01,  1.18627050e+01,\n",
       "        1.20823798e+01,  1.27047461e+01,  1.21009634e+01,  1.22954145e+01,\n",
       "        1.20276988e+01,  1.18016684e+01,  1.16316133e+01,  1.21494075e+01,\n",
       "        1.12916952e+01,  1.19593685e+01,  1.16455118e+01,  1.18185556e+01,\n",
       "        1.13995510e+01,  1.17720530e+01,  1.20337937e+01,  1.18861484e+01,\n",
       "        1.25828430e+01,  1.19769003e+01,  1.30673234e+01,  1.19846351e+01,\n",
       "        1.15525280e+01,  1.21061965e+01,  1.20752258e+01,  1.15927036e+01,\n",
       "        1.17594839e+01,  1.16037457e+01,  1.20629900e+01,  1.17540820e+01,\n",
       "       -2.29714803e+09,  1.22062332e+01,  1.21617153e+01,  1.13146265e+01,\n",
       "        1.19157080e+01,  1.17932570e+01,  1.19198206e+01,  1.21374595e+01,\n",
       "        1.17238690e+01,  1.17454894e+01,  1.20179527e+01,  1.22785299e+01,\n",
       "        1.17699862e+01,  1.19717648e+01,  1.18794305e+01,  1.19478111e+01,\n",
       "        1.13251278e+01,  1.13744234e+01,  1.24741244e+01,  1.19521475e+01,\n",
       "        1.17578118e+01,  1.20400221e+01,  1.18112016e+01,  1.16774762e+01,\n",
       "        1.19491062e+01,  1.21656339e+01,  1.16665037e+01,  1.12379911e+01,\n",
       "        1.20909860e+01,  1.17228957e+01,  1.16240968e+01,  1.17573895e+01,\n",
       "        1.20590788e+01,  1.19243796e+01,  1.21348457e+01,  1.20526121e+01,\n",
       "        1.16219628e+01,  1.31469686e+01,  1.30335841e+01,  1.29714823e+01,\n",
       "        1.22247803e+01,  1.21601375e+01,  1.21465695e+01,  1.21450241e+01,\n",
       "        1.19545944e+01,  1.22645958e+01,  1.22855149e+01,  1.27105022e+01,\n",
       "        1.22912468e+01,  1.23514547e+01,  1.20989068e+01,  1.15690691e+01,\n",
       "        1.12706689e+01,  1.17821174e+01,  1.18768067e+01,  1.25527544e+01,\n",
       "        1.16121495e+01,  1.16620878e+01,  1.23909166e+01,  1.15604537e+01,\n",
       "        1.21660116e+01,  1.19623769e+01,  1.11474941e+01,  1.17706814e+01,\n",
       "        1.18211164e+01,  1.20355063e+01,  1.18333376e+01,  1.22606040e+01,\n",
       "        1.26976466e+01,  1.18867555e+01,  1.25217833e+01,  1.20996134e+01,\n",
       "        1.16305052e+01,  1.16516082e+01,  1.23380612e+01,  1.29021702e+01,\n",
       "        1.15978009e+01,  1.18834498e+01,  1.16143011e+01,  1.24494556e+01,\n",
       "        1.24735968e+01,  1.21811740e+01,  1.20333875e+01,  1.19497355e+01,\n",
       "        1.20337992e+01,  1.17194039e+01,  1.09987284e+01,  1.23885143e+01,\n",
       "        1.16861643e+01,  1.21498616e+01,  1.28090485e+01,  1.17954032e+01,\n",
       "        1.20897101e+01,  1.21874909e+01,  1.16735909e+01,  1.20314543e+01,\n",
       "        1.18746827e+01,  1.26884689e+01,  1.22266244e+01,  1.24155542e+01,\n",
       "        1.24453413e+01,  1.18991168e+01,  1.20497639e+01,  1.23202125e+01,\n",
       "        1.24298353e+01,  1.19149196e+01,  1.20788469e+01,  1.18976042e+01,\n",
       "        1.25789262e+01,  1.21540506e+01,  1.17580173e+01,  1.20981743e+01,\n",
       "        1.20793326e+01,  1.20770247e+01,  1.17444005e+01,  1.17957159e+01,\n",
       "        1.21456535e+01,  1.22715747e+01,  1.19673104e+01,  1.26284187e+01,\n",
       "        1.26181152e+01,  1.21990011e+01,  1.22148678e+01,  1.22432098e+01,\n",
       "        1.27903916e+01,  1.16464679e+01,  1.17206009e+01,  1.20608102e+01,\n",
       "        1.23143840e+01,  1.14427345e+01,  1.22439969e+01,  1.20838850e+01,\n",
       "        1.25996818e+01,  1.18615339e+01,  1.13948276e+01,  1.26938958e+01,\n",
       "        1.22509382e+01,  1.17840280e+01,  1.19739406e+01,  1.19513173e+01,\n",
       "        1.22203038e+01,  1.16298530e+01,  1.23637750e+01,  1.14337176e+01,\n",
       "        1.22753421e+01,  1.16826070e+01,  1.17988038e+01,  1.23184526e+01,\n",
       "        1.18640587e+01,  1.14376370e+01,  1.23065045e+01,  1.22506173e+01,\n",
       "        1.18834679e+01,  1.25518829e+01,  1.16931662e+01,  1.22542954e+01,\n",
       "        1.10266440e+01,  1.15844009e+01,  1.20498250e+01,  1.27172859e+01,\n",
       "        1.17555435e+01,  1.24920500e+01,  1.19543235e+01,  1.18340647e+01,\n",
       "        1.22205017e+01,  1.18262127e+01,  1.17990372e+01,  1.24524908e+01,\n",
       "        1.22211634e+01,  1.17900551e+01,  1.12482627e+01,  1.21124895e+01,\n",
       "        1.22712419e+01,  1.12270194e+01,  1.15948964e+01,  1.15490553e+01,\n",
       "        1.22693536e+01,  1.23314707e+01,  1.28554721e+01,  1.17002513e+01,\n",
       "        1.21634672e+01,  1.23310550e+01,  1.16550511e+01,  1.22150122e+01,\n",
       "        1.16171931e+01,  1.16754834e+01,  1.20622922e+01,  1.16910120e+01,\n",
       "        1.15332021e+01,  1.17552419e+01,  1.16946390e+01,  1.12825351e+01,\n",
       "        1.14804356e+01,  1.16977836e+01,  1.16388037e+01,  1.21165207e+01,\n",
       "        1.26178199e+01,  1.22500103e+01,  1.21890962e+01,  1.16370883e+01,\n",
       "        1.19738160e+01,  1.22191308e+01,  1.19011084e+01,  1.18718223e+01,\n",
       "        1.21275694e+01,  1.18292868e+01,  1.23914397e+01,  1.14998450e+01,\n",
       "        1.18156580e+01,  1.10839137e+01,  1.15223795e+01,  1.20682554e+01,\n",
       "        1.17178804e+01,  1.19122509e+01,  1.21488795e+01,  1.25328744e+01,\n",
       "        1.15465434e+01,  1.22651303e+01,  1.21899414e+01,  1.19766200e+01,\n",
       "        1.17501919e+01,  1.21526249e+01,  1.24680281e+01,  1.23420562e+01,\n",
       "        1.22360981e+01,  1.27709157e+01,  1.16085056e+01,  1.26179544e+01,\n",
       "        1.16936613e+01,  1.27894332e+01,  3.66013945e+09,  1.17038838e+01,\n",
       "        1.22699220e+01,  1.22558824e+01,  1.18215920e+01,  1.25402236e+01,\n",
       "        1.25171852e+01,  1.20008811e+01,  1.17621330e+01,  1.12157474e+01,\n",
       "        1.22237628e+01,  1.19381430e+01,  1.19926592e+01,  1.22759655e+01,\n",
       "        1.23860377e+01,  1.17170786e+01,  1.18600935e+01,  1.21957530e+01,\n",
       "        1.18491591e+01,  1.18090744e+01,  1.20656765e+01,  1.18461077e+01,\n",
       "        1.18215405e+01,  1.25730236e+01,  1.29561548e+01,  1.24410033e+01,\n",
       "        1.20917786e+01,  1.23775529e+01,  1.14356644e+01,  1.22000554e+01,\n",
       "        1.16454997e+01,  1.18421173e+01,  1.18480320e+01,  1.16187286e+01,\n",
       "        1.20907135e+01,  1.19913626e+01,  1.19968879e+01,  1.21530290e+01,\n",
       "       -4.14605075e+10,  1.16187452e+01,  1.18176370e+01,  1.18812790e+01,\n",
       "        1.21181548e+01,  1.26859822e+01,  1.19607974e+01,  1.19897993e+01,\n",
       "        1.24737480e+01,  1.17396814e+01,  1.27272120e+01,  1.23328918e+01,\n",
       "        1.15709062e+01,  1.21445422e+01,  1.20191442e+01,  1.17150959e+01,\n",
       "        1.20611029e+01,  1.29350489e+01,  1.15513914e+01,  1.22179465e+01,\n",
       "        1.19027433e+01,  1.17077646e+01,  1.24083870e+01,  1.20776713e+01,\n",
       "        1.20454729e+01,  1.20826826e+01,  1.18024374e+01,  1.17281053e+01,\n",
       "        1.18663156e+01,  1.18916504e+01,  1.16317564e+01,  1.14247720e+01,\n",
       "        1.15721602e+01,  1.20824716e+01,  1.17405117e+01,  1.14929335e+01,\n",
       "        1.20304158e+01,  1.17736402e+01,  1.13151869e+01,  1.17866721e+01,\n",
       "        1.18084650e+01,  1.18587115e+01,  1.23136242e+01,  1.19447954e+01,\n",
       "        1.19323311e+01,  1.18388796e+01,  1.21612799e+01,  1.21701362e+01,\n",
       "        1.23640526e+01,  1.24366281e+01,  1.13893879e+01,  1.16685704e+01,\n",
       "        1.22920401e+01,  1.18542879e+01,  1.25185170e+01,  1.19318199e+01,\n",
       "        1.19036579e+01,  1.26309311e+01,  1.26782417e+01,  1.27508963e+01,\n",
       "        1.23709850e+01,  1.18426466e+01,  1.16312816e+01,  1.14771460e+01,\n",
       "        1.27474549e+01,  1.16193309e+01,  1.08689920e+01,  1.25561665e+01,\n",
       "        1.18197610e+01,  1.19277909e+01,  1.18114928e+01,  1.20238904e+01,\n",
       "        1.18757742e+01,  1.18309844e+01,  1.23447549e+01,  1.22567425e+01,\n",
       "        1.14042746e+01,  1.19065263e+01,  1.13500192e+01,  1.24117383e+01,\n",
       "        1.17809370e+01,  1.21000046e+01,  1.14493025e+01,  1.14433757e+01,\n",
       "        1.24940921e+01,  1.16264471e+01,  1.19938601e+01,  1.24335718e+01,\n",
       "        1.19760634e+01,  1.16623890e+01,  1.17385289e+01,  1.21194551e+01,\n",
       "        1.92371980e+10,  1.28042851e+01,  1.17221029e+01,  1.22673478e+01,\n",
       "        1.20987523e+01,  1.23684720e+01,  6.70355536e+09,  1.10304766e+01,\n",
       "        1.21897662e+01,  1.17240911e+01,  1.18958569e+01,  1.26612966e+01,\n",
       "        1.19547884e+01,  1.10175853e+01,  1.21957896e+01,  1.21324476e+01,\n",
       "        1.24759134e+01,  1.22763250e+01,  1.20254591e+01,  1.26431372e+01,\n",
       "        1.21598224e+01,  1.26821857e+01,  1.19152440e+01,  1.16497371e+01,\n",
       "        1.24017971e+01,  1.18611357e+01,  1.21306664e+01,  1.12857203e+01,\n",
       "        1.23020665e+01,  1.24503763e+01,  1.18580909e+01,  1.19731348e+01,\n",
       "        1.28209128e+01,  1.24659416e+01,  1.16580864e+01,  1.18691876e+01,\n",
       "        1.22882974e+01,  1.26514697e+01,  1.19425924e+01,  1.21868594e+01,\n",
       "        1.24186003e+01,  1.14936435e+01,  1.18902467e+01,  1.21208022e+01,\n",
       "        1.17596033e+01,  1.28063919e+01,  1.18330151e+01,  1.13061321e+01,\n",
       "        1.18226883e+01,  1.17696742e+01,  1.22160617e+01,  1.17043274e+01,\n",
       "        1.18479278e+01,  1.19966199e+01,  1.24398324e+01,  1.13989904e+01,\n",
       "        1.19819378e+01,  1.18667705e+01,  1.17638806e+01,  1.24607363e+01,\n",
       "        1.17663505e+01,  1.24707039e+01,  1.20140688e+01,  1.18432512e+01,\n",
       "        1.26010971e+01,  1.24735830e+01,  1.16589417e+01,  1.16107546e+01,\n",
       "        1.14154660e+01,  1.17843046e+01,  1.23073471e+01,  1.22402408e+01,\n",
       "        1.20610101e+01,  1.19083521e+01,  1.17835472e+01,  1.17815299e+01,\n",
       "        1.23063821e+01,  1.27074955e+01,  1.23031190e+01,  1.15392357e+01,\n",
       "        1.17676957e+01,  1.18287971e+01,  1.20032342e+01,  1.26326087e+01,\n",
       "        1.15798075e+01,  1.20565613e+01,  1.24614846e+01,  1.22918890e+01,\n",
       "        1.19053404e+01,  1.23055220e+01,  1.21929941e+01,  1.26499062e+01,\n",
       "        1.22345421e+01,  1.21412371e+01,  1.17259569e+01,  1.15471276e+01,\n",
       "        1.18548813e+01,  1.14778248e+01,  1.18073608e+01,  1.31342740e+01,\n",
       "        1.23543365e+01,  1.17789200e+01,  1.15072104e+01,  1.16335169e+01,\n",
       "        1.25276167e+01,  1.21747358e+01,  1.27280583e+01,  1.17112687e+01,\n",
       "        1.22868888e+01,  1.23097243e+01,  1.17012160e+01,  1.17350018e+01,\n",
       "        1.17990128e+01,  1.20123519e+01,  1.22322910e+01,  1.19542813e+01,\n",
       "        1.17643540e+01,  1.13044269e+01,  1.18056407e+01,  1.18652351e+01,\n",
       "        1.20082870e+01,  1.20275904e+01,  1.23249514e+01,  1.19097045e+01,\n",
       "        1.21633949e+01,  1.20935094e+01,  1.21156447e+01,  1.15882174e+01,\n",
       "        1.17120865e+01,  1.18281434e+01,  1.15124662e+01,  1.17032158e+01,\n",
       "        1.29984548e+01,  1.16322482e+01,  1.16984499e+01])"
      ]
     },
     "execution_count": 42,
     "metadata": {},
     "output_type": "execute_result"
    }
   ],
   "source": [
    "pred_linear_model"
   ]
  },
  {
   "cell_type": "code",
   "execution_count": 43,
   "metadata": {},
   "outputs": [],
   "source": [
    "MAE_Lr = mean_absolute_error(y_test,pred_linear_model)\n",
    "MSE_Lr = mean_squared_error(y_test,pred_linear_model)\n",
    "RMSE_Lr = np.sqrt(MSE_Lr)"
   ]
  },
  {
   "cell_type": "code",
   "execution_count": 44,
   "metadata": {},
   "outputs": [
    {
     "data": {
      "text/plain": [
       "125829414.11197937"
      ]
     },
     "execution_count": 44,
     "metadata": {},
     "output_type": "execute_result"
    }
   ],
   "source": [
    "MAE_Lr"
   ]
  },
  {
   "cell_type": "code",
   "execution_count": 45,
   "metadata": {},
   "outputs": [
    {
     "data": {
      "text/plain": [
       "3.6923750184361103e+18"
      ]
     },
     "execution_count": 45,
     "metadata": {},
     "output_type": "execute_result"
    }
   ],
   "source": [
    "MSE_Lr"
   ]
  },
  {
   "cell_type": "code",
   "execution_count": 46,
   "metadata": {},
   "outputs": [
    {
     "data": {
      "text/plain": [
       "1921555364.3952365"
      ]
     },
     "execution_count": 46,
     "metadata": {},
     "output_type": "execute_result"
    }
   ],
   "source": [
    "RMSE_Lr"
   ]
  },
  {
   "cell_type": "code",
   "execution_count": 47,
   "metadata": {},
   "outputs": [],
   "source": [
    "def MAPE(y_test,pred_linear_model):\n",
    "    mape = np.mean(np.abs((y_test - pred_linear_model)/y_test))*100\n",
    "    return mape"
   ]
  },
  {
   "cell_type": "code",
   "execution_count": 48,
   "metadata": {},
   "outputs": [],
   "source": [
    "LR_MAPE= MAPE(y_test,pred_linear_model)"
   ]
  },
  {
   "cell_type": "code",
   "execution_count": 49,
   "metadata": {},
   "outputs": [
    {
     "name": "stdout",
     "output_type": "stream",
     "text": [
      "MAPE:  1036780378.2862743\n"
     ]
    }
   ],
   "source": [
    "print(\"MAPE: \",LR_MAPE)"
   ]
  },
  {
   "cell_type": "code",
   "execution_count": 50,
   "metadata": {},
   "outputs": [
    {
     "name": "stdout",
     "output_type": "stream",
     "text": [
      "Best score using built-in LassoCV: -509173166031236501602304.000000\n"
     ]
    }
   ],
   "source": [
    "#print(\"Best alpha using built-in LassoCV: %f\" % linear_model.alpha_)\n",
    "print(\"Best score using built-in LassoCV: %f\" %linear_model.score(X,y))\n",
    "coef = pd.Series(linear_model.coef_, index = X.columns)"
   ]
  },
  {
   "cell_type": "code",
   "execution_count": 51,
   "metadata": {},
   "outputs": [],
   "source": [
    "test_pred=y_test-pred_linear_model"
   ]
  },
  {
   "cell_type": "code",
   "execution_count": 52,
   "metadata": {},
   "outputs": [
    {
     "data": {
      "text/plain": [
       "<matplotlib.lines.Line2D at 0x247898aed00>"
      ]
     },
     "execution_count": 52,
     "metadata": {},
     "output_type": "execute_result"
    },
    {
     "data": {
      "image/png": "[encoded data removed]",
      "text/plain": [
       "<Figure size 432x288 with 1 Axes>"
      ]
     },
     "metadata": {
      "needs_background": "light"
     },
     "output_type": "display_data"
    }
   ],
   "source": [
    "sns.scatterplot(x=y_test,y=test_pred)\n",
    "plt.axhline(y=0,color='magenta',linestyle='--')"
   ]
  },
  {
   "cell_type": "code",
   "execution_count": 53,
   "metadata": {},
   "outputs": [
    {
     "data": {
      "image/png": "[encoded data removed]",
      "text/plain": [
       "<Figure size 1000x1200 with 1 Axes>"
      ]
     },
     "metadata": {
      "needs_background": "light"
     },
     "output_type": "display_data"
    }
   ],
   "source": [
    "fig,ax = plt.subplots(figsize=(10,12),dpi=100)\n",
    "\n",
    "_=sp.stats.probplot(test_pred,plot=ax)"
   ]
  },
  {
   "cell_type": "code",
   "execution_count": 54,
   "metadata": {},
   "outputs": [
    {
     "data": {
      "text/plain": [
       "-2.2991411294225558e+21"
      ]
     },
     "execution_count": 54,
     "metadata": {},
     "output_type": "execute_result"
    }
   ],
   "source": [
    "accuracy3= round(r2_score(y_test, pred_linear_model), 2)\n",
    "accuracy3= accuracy3 * 100\n",
    "accuracy3"
   ]
  },
  {
   "cell_type": "markdown",
   "metadata": {},
   "source": [
    "# Grid search with elastic cv"
   ]
  },
  {
   "cell_type": "code",
   "execution_count": 55,
   "metadata": {},
   "outputs": [],
   "source": [
    "#Create  and y \n",
    "X = df.drop('saleprice',axis=1)\n",
    "y = df['saleprice']\n",
    "\n",
    "from sklearn.model_selection import train_test_split\n",
    "X_train,X_test, y_train, y_test = train_test_split(X,y, test_size = 0.3)\n",
    "\n",
    "from sklearn.preprocessing import StandardScaler\n",
    "scaler = StandardScaler()\n",
    "scaler.fit(X_train)\n",
    "X_train = scaler.transform(X_train)\n",
    "X_test = scaler.transform(X_test)"
   ]
  },
  {
   "cell_type": "code",
   "execution_count": 56,
   "metadata": {},
   "outputs": [],
   "source": [
    "#base_elastic_model = ElasticNet(max_iter=250000)\n",
    "base_elastic_model = ElasticNet()"
   ]
  },
  {
   "cell_type": "code",
   "execution_count": 57,
   "metadata": {},
   "outputs": [],
   "source": [
    "param_grid = {'alpha':[0.1,1,10,50,100],'l1_ratio':[0.1,0.5,0.7,0.9,1]}"
   ]
  },
  {
   "cell_type": "code",
   "execution_count": 58,
   "metadata": {},
   "outputs": [],
   "source": [
    "#grid_model = GridSearchCV(estimator=base_elastic_model,param_grid=param_grid,scoring='neg_mean_squared_error',cv=10,verbose=2)\n",
    "grid_model = GridSearchCV(estimator=base_elastic_model,param_grid=param_grid,scoring='neg_mean_squared_error',cv=10,verbose=2)"
   ]
  },
  {
   "cell_type": "code",
   "execution_count": 59,
   "metadata": {},
   "outputs": [
    {
     "name": "stdout",
     "output_type": "stream",
     "text": [
      "Fitting 10 folds for each of 25 candidates, totalling 250 fits\n",
      "[CV] alpha=0.1, l1_ratio=0.1 .........................................\n",
      "[CV] .......................... alpha=0.1, l1_ratio=0.1, total=   0.1s\n",
      "[CV] alpha=0.1, l1_ratio=0.1 .........................................\n",
      "[CV] .......................... alpha=0.1, l1_ratio=0.1, total=   0.1s\n",
      "[CV] alpha=0.1, l1_ratio=0.1 .........................................\n",
      "[CV] .......................... alpha=0.1, l1_ratio=0.1, total=   0.0s\n",
      "[CV] alpha=0.1, l1_ratio=0.1 .........................................\n",
      "[CV] .......................... alpha=0.1, l1_ratio=0.1, total=   0.0s"
     ]
    },
    {
     "name": "stderr",
     "output_type": "stream",
     "text": [
      "[Parallel(n_jobs=1)]: Using backend SequentialBackend with 1 concurrent workers.\n",
      "[Parallel(n_jobs=1)]: Done   1 out of   1 | elapsed:    0.0s remaining:    0.0s\n"
     ]
    },
    {
     "name": "stdout",
     "output_type": "stream",
     "text": [
      "\n",
      "[CV] alpha=0.1, l1_ratio=0.1 .........................................\n",
      "[CV] .......................... alpha=0.1, l1_ratio=0.1, total=   0.0s\n",
      "[CV] alpha=0.1, l1_ratio=0.1 .........................................\n",
      "[CV] .......................... alpha=0.1, l1_ratio=0.1, total=   0.0s\n",
      "[CV] alpha=0.1, l1_ratio=0.1 .........................................\n",
      "[CV] .......................... alpha=0.1, l1_ratio=0.1, total=   0.1s\n",
      "[CV] alpha=0.1, l1_ratio=0.1 .........................................\n",
      "[CV] .......................... alpha=0.1, l1_ratio=0.1, total=   0.1s\n",
      "[CV] alpha=0.1, l1_ratio=0.1 .........................................\n",
      "[CV] .......................... alpha=0.1, l1_ratio=0.1, total=   0.1s\n",
      "[CV] alpha=0.1, l1_ratio=0.1 .........................................\n",
      "[CV] .......................... alpha=0.1, l1_ratio=0.1, total=   0.0s\n",
      "[CV] alpha=0.1, l1_ratio=0.5 .........................................\n",
      "[CV] .......................... alpha=0.1, l1_ratio=0.5, total=   0.0s\n",
      "[CV] alpha=0.1, l1_ratio=0.5 .........................................\n",
      "[CV] .......................... alpha=0.1, l1_ratio=0.5, total=   0.0s\n",
      "[CV] alpha=0.1, l1_ratio=0.5 .........................................\n",
      "[CV] .......................... alpha=0.1, l1_ratio=0.5, total=   0.0s\n",
      "[CV] alpha=0.1, l1_ratio=0.5 .........................................\n",
      "[CV] .......................... alpha=0.1, l1_ratio=0.5, total=   0.1s\n",
      "[CV] alpha=0.1, l1_ratio=0.5 .........................................\n",
      "[CV] .......................... alpha=0.1, l1_ratio=0.5, total=   0.1s\n",
      "[CV] alpha=0.1, l1_ratio=0.5 .........................................\n",
      "[CV] .......................... alpha=0.1, l1_ratio=0.5, total=   0.0s\n",
      "[CV] alpha=0.1, l1_ratio=0.5 .........................................\n",
      "[CV] .......................... alpha=0.1, l1_ratio=0.5, total=   0.0s\n",
      "[CV] alpha=0.1, l1_ratio=0.5 .........................................\n",
      "[CV] .......................... alpha=0.1, l1_ratio=0.5, total=   0.0s\n",
      "[CV] alpha=0.1, l1_ratio=0.5 .........................................\n",
      "[CV] .......................... alpha=0.1, l1_ratio=0.5, total=   0.0s\n",
      "[CV] alpha=0.1, l1_ratio=0.5 .........................................\n",
      "[CV] .......................... alpha=0.1, l1_ratio=0.5, total=   0.0s\n",
      "[CV] alpha=0.1, l1_ratio=0.7 .........................................\n",
      "[CV] .......................... alpha=0.1, l1_ratio=0.7, total=   0.1s\n",
      "[CV] alpha=0.1, l1_ratio=0.7 .........................................\n",
      "[CV] .......................... alpha=0.1, l1_ratio=0.7, total=   0.0s\n",
      "[CV] alpha=0.1, l1_ratio=0.7 .........................................\n",
      "[CV] .......................... alpha=0.1, l1_ratio=0.7, total=   0.0s\n",
      "[CV] alpha=0.1, l1_ratio=0.7 .........................................\n",
      "[CV] .......................... alpha=0.1, l1_ratio=0.7, total=   0.0s\n",
      "[CV] alpha=0.1, l1_ratio=0.7 .........................................\n",
      "[CV] .......................... alpha=0.1, l1_ratio=0.7, total=   0.0s\n",
      "[CV] alpha=0.1, l1_ratio=0.7 .........................................\n",
      "[CV] .......................... alpha=0.1, l1_ratio=0.7, total=   0.0s\n",
      "[CV] alpha=0.1, l1_ratio=0.7 .........................................\n",
      "[CV] .......................... alpha=0.1, l1_ratio=0.7, total=   0.1s\n",
      "[CV] alpha=0.1, l1_ratio=0.7 .........................................\n",
      "[CV] .......................... alpha=0.1, l1_ratio=0.7, total=   0.0s\n",
      "[CV] alpha=0.1, l1_ratio=0.7 .........................................\n",
      "[CV] .......................... alpha=0.1, l1_ratio=0.7, total=   0.1s\n",
      "[CV] alpha=0.1, l1_ratio=0.7 .........................................\n",
      "[CV] .......................... alpha=0.1, l1_ratio=0.7, total=   0.0s\n",
      "[CV] alpha=0.1, l1_ratio=0.9 .........................................\n",
      "[CV] .......................... alpha=0.1, l1_ratio=0.9, total=   0.0s\n",
      "[CV] alpha=0.1, l1_ratio=0.9 .........................................\n",
      "[CV] .......................... alpha=0.1, l1_ratio=0.9, total=   0.0s\n",
      "[CV] alpha=0.1, l1_ratio=0.9 .........................................\n",
      "[CV] .......................... alpha=0.1, l1_ratio=0.9, total=   0.0s\n",
      "[CV] alpha=0.1, l1_ratio=0.9 .........................................\n",
      "[CV] .......................... alpha=0.1, l1_ratio=0.9, total=   0.0s\n",
      "[CV] alpha=0.1, l1_ratio=0.9 .........................................\n",
      "[CV] .......................... alpha=0.1, l1_ratio=0.9, total=   0.0s\n",
      "[CV] alpha=0.1, l1_ratio=0.9 .........................................\n",
      "[CV] .......................... alpha=0.1, l1_ratio=0.9, total=   0.0s\n",
      "[CV] alpha=0.1, l1_ratio=0.9 .........................................\n",
      "[CV] .......................... alpha=0.1, l1_ratio=0.9, total=   0.0s\n",
      "[CV] alpha=0.1, l1_ratio=0.9 .........................................\n",
      "[CV] .......................... alpha=0.1, l1_ratio=0.9, total=   0.1s\n",
      "[CV] alpha=0.1, l1_ratio=0.9 .........................................\n",
      "[CV] .......................... alpha=0.1, l1_ratio=0.9, total=   0.0s\n",
      "[CV] alpha=0.1, l1_ratio=0.9 .........................................\n",
      "[CV] .......................... alpha=0.1, l1_ratio=0.9, total=   0.0s\n",
      "[CV] alpha=0.1, l1_ratio=1 ...........................................\n",
      "[CV] ............................ alpha=0.1, l1_ratio=1, total=   0.0s\n",
      "[CV] alpha=0.1, l1_ratio=1 ...........................................\n",
      "[CV] ............................ alpha=0.1, l1_ratio=1, total=   0.0s\n",
      "[CV] alpha=0.1, l1_ratio=1 ...........................................\n",
      "[CV] ............................ alpha=0.1, l1_ratio=1, total=   0.0s\n",
      "[CV] alpha=0.1, l1_ratio=1 ...........................................\n",
      "[CV] ............................ alpha=0.1, l1_ratio=1, total=   0.0s\n",
      "[CV] alpha=0.1, l1_ratio=1 ...........................................\n",
      "[CV] ............................ alpha=0.1, l1_ratio=1, total=   0.0s\n",
      "[CV] alpha=0.1, l1_ratio=1 ...........................................\n",
      "[CV] ............................ alpha=0.1, l1_ratio=1, total=   0.0s\n",
      "[CV] alpha=0.1, l1_ratio=1 ...........................................\n",
      "[CV] ............................ alpha=0.1, l1_ratio=1, total=   0.0s\n",
      "[CV] alpha=0.1, l1_ratio=1 ...........................................\n",
      "[CV] ............................ alpha=0.1, l1_ratio=1, total=   0.0s\n",
      "[CV] alpha=0.1, l1_ratio=1 ...........................................\n",
      "[CV] ............................ alpha=0.1, l1_ratio=1, total=   0.0s\n",
      "[CV] alpha=0.1, l1_ratio=1 ...........................................\n",
      "[CV] ............................ alpha=0.1, l1_ratio=1, total=   0.0s\n",
      "[CV] alpha=1, l1_ratio=0.1 ...........................................\n",
      "[CV] ............................ alpha=1, l1_ratio=0.1, total=   0.0s\n",
      "[CV] alpha=1, l1_ratio=0.1 ...........................................\n",
      "[CV] ............................ alpha=1, l1_ratio=0.1, total=   0.1s\n",
      "[CV] alpha=1, l1_ratio=0.1 ...........................................\n",
      "[CV] ............................ alpha=1, l1_ratio=0.1, total=   0.0s\n",
      "[CV] alpha=1, l1_ratio=0.1 ...........................................\n",
      "[CV] ............................ alpha=1, l1_ratio=0.1, total=   0.0s\n",
      "[CV] alpha=1, l1_ratio=0.1 ...........................................\n",
      "[CV] ............................ alpha=1, l1_ratio=0.1, total=   0.0s\n",
      "[CV] alpha=1, l1_ratio=0.1 ...........................................\n",
      "[CV] ............................ alpha=1, l1_ratio=0.1, total=   0.0s\n",
      "[CV] alpha=1, l1_ratio=0.1 ...........................................\n",
      "[CV] ............................ alpha=1, l1_ratio=0.1, total=   0.0s\n",
      "[CV] alpha=1, l1_ratio=0.1 ...........................................\n",
      "[CV] ............................ alpha=1, l1_ratio=0.1, total=   0.0s\n",
      "[CV] alpha=1, l1_ratio=0.1 ...........................................\n",
      "[CV] ............................ alpha=1, l1_ratio=0.1, total=   0.0s\n",
      "[CV] alpha=1, l1_ratio=0.1 ...........................................\n",
      "[CV] ............................ alpha=1, l1_ratio=0.1, total=   0.0s\n",
      "[CV] alpha=1, l1_ratio=0.5 ...........................................\n",
      "[CV] ............................ alpha=1, l1_ratio=0.5, total=   0.0s\n",
      "[CV] alpha=1, l1_ratio=0.5 ...........................................\n",
      "[CV] ............................ alpha=1, l1_ratio=0.5, total=   0.0s\n",
      "[CV] alpha=1, l1_ratio=0.5 ...........................................\n",
      "[CV] ............................ alpha=1, l1_ratio=0.5, total=   0.0s\n",
      "[CV] alpha=1, l1_ratio=0.5 ...........................................\n",
      "[CV] ............................ alpha=1, l1_ratio=0.5, total=   0.0s\n",
      "[CV] alpha=1, l1_ratio=0.5 ...........................................\n",
      "[CV] ............................ alpha=1, l1_ratio=0.5, total=   0.0s\n",
      "[CV] alpha=1, l1_ratio=0.5 ...........................................\n"
     ]
    },
    {
     "name": "stdout",
     "output_type": "stream",
     "text": [
      "[CV] ............................ alpha=1, l1_ratio=0.5, total=   0.0s\n",
      "[CV] alpha=1, l1_ratio=0.5 ...........................................\n",
      "[CV] ............................ alpha=1, l1_ratio=0.5, total=   0.0s\n",
      "[CV] alpha=1, l1_ratio=0.5 ...........................................\n",
      "[CV] ............................ alpha=1, l1_ratio=0.5, total=   0.0s\n",
      "[CV] alpha=1, l1_ratio=0.5 ...........................................\n",
      "[CV] ............................ alpha=1, l1_ratio=0.5, total=   0.0s\n",
      "[CV] alpha=1, l1_ratio=0.5 ...........................................\n",
      "[CV] ............................ alpha=1, l1_ratio=0.5, total=   0.0s\n",
      "[CV] alpha=1, l1_ratio=0.7 ...........................................\n",
      "[CV] ............................ alpha=1, l1_ratio=0.7, total=   0.0s\n",
      "[CV] alpha=1, l1_ratio=0.7 ...........................................\n",
      "[CV] ............................ alpha=1, l1_ratio=0.7, total=   0.0s\n",
      "[CV] alpha=1, l1_ratio=0.7 ...........................................\n",
      "[CV] ............................ alpha=1, l1_ratio=0.7, total=   0.0s\n",
      "[CV] alpha=1, l1_ratio=0.7 ...........................................\n",
      "[CV] ............................ alpha=1, l1_ratio=0.7, total=   0.0s\n",
      "[CV] alpha=1, l1_ratio=0.7 ...........................................\n",
      "[CV] ............................ alpha=1, l1_ratio=0.7, total=   0.0s\n",
      "[CV] alpha=1, l1_ratio=0.7 ...........................................\n",
      "[CV] ............................ alpha=1, l1_ratio=0.7, total=   0.0s\n",
      "[CV] alpha=1, l1_ratio=0.7 ...........................................\n",
      "[CV] ............................ alpha=1, l1_ratio=0.7, total=   0.0s\n",
      "[CV] alpha=1, l1_ratio=0.7 ...........................................\n",
      "[CV] ............................ alpha=1, l1_ratio=0.7, total=   0.0s\n",
      "[CV] alpha=1, l1_ratio=0.7 ...........................................\n",
      "[CV] ............................ alpha=1, l1_ratio=0.7, total=   0.0s\n",
      "[CV] alpha=1, l1_ratio=0.7 ...........................................\n",
      "[CV] ............................ alpha=1, l1_ratio=0.7, total=   0.0s\n",
      "[CV] alpha=1, l1_ratio=0.9 ...........................................\n",
      "[CV] ............................ alpha=1, l1_ratio=0.9, total=   0.0s\n",
      "[CV] alpha=1, l1_ratio=0.9 ...........................................\n",
      "[CV] ............................ alpha=1, l1_ratio=0.9, total=   0.0s\n",
      "[CV] alpha=1, l1_ratio=0.9 ...........................................\n",
      "[CV] ............................ alpha=1, l1_ratio=0.9, total=   0.0s\n",
      "[CV] alpha=1, l1_ratio=0.9 ...........................................\n",
      "[CV] ............................ alpha=1, l1_ratio=0.9, total=   0.0s\n",
      "[CV] alpha=1, l1_ratio=0.9 ...........................................\n",
      "[CV] ............................ alpha=1, l1_ratio=0.9, total=   0.0s\n",
      "[CV] alpha=1, l1_ratio=0.9 ...........................................\n",
      "[CV] ............................ alpha=1, l1_ratio=0.9, total=   0.0s\n",
      "[CV] alpha=1, l1_ratio=0.9 ...........................................\n",
      "[CV] ............................ alpha=1, l1_ratio=0.9, total=   0.0s\n",
      "[CV] alpha=1, l1_ratio=0.9 ...........................................\n",
      "[CV] ............................ alpha=1, l1_ratio=0.9, total=   0.0s\n",
      "[CV] alpha=1, l1_ratio=0.9 ...........................................\n",
      "[CV] ............................ alpha=1, l1_ratio=0.9, total=   0.0s\n",
      "[CV] alpha=1, l1_ratio=0.9 ...........................................\n",
      "[CV] ............................ alpha=1, l1_ratio=0.9, total=   0.0s\n",
      "[CV] alpha=1, l1_ratio=1 .............................................\n",
      "[CV] .............................. alpha=1, l1_ratio=1, total=   0.0s\n",
      "[CV] alpha=1, l1_ratio=1 .............................................\n",
      "[CV] .............................. alpha=1, l1_ratio=1, total=   0.0s\n",
      "[CV] alpha=1, l1_ratio=1 .............................................\n",
      "[CV] .............................. alpha=1, l1_ratio=1, total=   0.0s\n",
      "[CV] alpha=1, l1_ratio=1 .............................................\n",
      "[CV] .............................. alpha=1, l1_ratio=1, total=   0.0s\n",
      "[CV] alpha=1, l1_ratio=1 .............................................\n",
      "[CV] .............................. alpha=1, l1_ratio=1, total=   0.0s\n",
      "[CV] alpha=1, l1_ratio=1 .............................................\n",
      "[CV] .............................. alpha=1, l1_ratio=1, total=   0.0s\n",
      "[CV] alpha=1, l1_ratio=1 .............................................\n",
      "[CV] .............................. alpha=1, l1_ratio=1, total=   0.0s\n",
      "[CV] alpha=1, l1_ratio=1 .............................................\n",
      "[CV] .............................. alpha=1, l1_ratio=1, total=   0.0s\n",
      "[CV] alpha=1, l1_ratio=1 .............................................\n",
      "[CV] .............................. alpha=1, l1_ratio=1, total=   0.0s\n",
      "[CV] alpha=1, l1_ratio=1 .............................................\n",
      "[CV] .............................. alpha=1, l1_ratio=1, total=   0.0s\n",
      "[CV] alpha=10, l1_ratio=0.1 ..........................................\n",
      "[CV] ........................... alpha=10, l1_ratio=0.1, total=   0.0s\n",
      "[CV] alpha=10, l1_ratio=0.1 ..........................................\n",
      "[CV] ........................... alpha=10, l1_ratio=0.1, total=   0.0s\n",
      "[CV] alpha=10, l1_ratio=0.1 ..........................................\n",
      "[CV] ........................... alpha=10, l1_ratio=0.1, total=   0.0s\n",
      "[CV] alpha=10, l1_ratio=0.1 ..........................................\n",
      "[CV] ........................... alpha=10, l1_ratio=0.1, total=   0.0s\n",
      "[CV] alpha=10, l1_ratio=0.1 ..........................................\n",
      "[CV] ........................... alpha=10, l1_ratio=0.1, total=   0.0s\n",
      "[CV] alpha=10, l1_ratio=0.1 ..........................................\n",
      "[CV] ........................... alpha=10, l1_ratio=0.1, total=   0.0s\n",
      "[CV] alpha=10, l1_ratio=0.1 ..........................................\n",
      "[CV] ........................... alpha=10, l1_ratio=0.1, total=   0.0s\n",
      "[CV] alpha=10, l1_ratio=0.1 ..........................................\n",
      "[CV] ........................... alpha=10, l1_ratio=0.1, total=   0.0s\n",
      "[CV] alpha=10, l1_ratio=0.1 ..........................................\n",
      "[CV] ........................... alpha=10, l1_ratio=0.1, total=   0.0s\n",
      "[CV] alpha=10, l1_ratio=0.1 ..........................................\n",
      "[CV] ........................... alpha=10, l1_ratio=0.1, total=   0.0s\n",
      "[CV] alpha=10, l1_ratio=0.5 ..........................................\n",
      "[CV] ........................... alpha=10, l1_ratio=0.5, total=   0.1s\n",
      "[CV] alpha=10, l1_ratio=0.5 ..........................................\n",
      "[CV] ........................... alpha=10, l1_ratio=0.5, total=   0.0s\n",
      "[CV] alpha=10, l1_ratio=0.5 ..........................................\n",
      "[CV] ........................... alpha=10, l1_ratio=0.5, total=   0.0s\n",
      "[CV] alpha=10, l1_ratio=0.5 ..........................................\n",
      "[CV] ........................... alpha=10, l1_ratio=0.5, total=   0.0s\n",
      "[CV] alpha=10, l1_ratio=0.5 ..........................................\n",
      "[CV] ........................... alpha=10, l1_ratio=0.5, total=   0.0s\n",
      "[CV] alpha=10, l1_ratio=0.5 ..........................................\n",
      "[CV] ........................... alpha=10, l1_ratio=0.5, total=   0.0s\n",
      "[CV] alpha=10, l1_ratio=0.5 ..........................................\n",
      "[CV] ........................... alpha=10, l1_ratio=0.5, total=   0.0s\n",
      "[CV] alpha=10, l1_ratio=0.5 ..........................................\n",
      "[CV] ........................... alpha=10, l1_ratio=0.5, total=   0.0s\n",
      "[CV] alpha=10, l1_ratio=0.5 ..........................................\n",
      "[CV] ........................... alpha=10, l1_ratio=0.5, total=   0.0s\n",
      "[CV] alpha=10, l1_ratio=0.5 ..........................................\n",
      "[CV] ........................... alpha=10, l1_ratio=0.5, total=   0.0s\n",
      "[CV] alpha=10, l1_ratio=0.7 ..........................................\n",
      "[CV] ........................... alpha=10, l1_ratio=0.7, total=   0.0s\n",
      "[CV] alpha=10, l1_ratio=0.7 ..........................................\n",
      "[CV] ........................... alpha=10, l1_ratio=0.7, total=   0.0s\n",
      "[CV] alpha=10, l1_ratio=0.7 ..........................................\n",
      "[CV] ........................... alpha=10, l1_ratio=0.7, total=   0.0s\n",
      "[CV] alpha=10, l1_ratio=0.7 ..........................................\n",
      "[CV] ........................... alpha=10, l1_ratio=0.7, total=   0.0s\n",
      "[CV] alpha=10, l1_ratio=0.7 ..........................................\n",
      "[CV] ........................... alpha=10, l1_ratio=0.7, total=   0.0s\n",
      "[CV] alpha=10, l1_ratio=0.7 ..........................................\n",
      "[CV] ........................... alpha=10, l1_ratio=0.7, total=   0.0s\n",
      "[CV] alpha=10, l1_ratio=0.7 ..........................................\n",
      "[CV] ........................... alpha=10, l1_ratio=0.7, total=   0.0s\n",
      "[CV] alpha=10, l1_ratio=0.7 ..........................................\n",
      "[CV] ........................... alpha=10, l1_ratio=0.7, total=   0.0s\n",
      "[CV] alpha=10, l1_ratio=0.7 ..........................................\n"
     ]
    },
    {
     "name": "stdout",
     "output_type": "stream",
     "text": [
      "[CV] ........................... alpha=10, l1_ratio=0.7, total=   0.0s\n",
      "[CV] alpha=10, l1_ratio=0.7 ..........................................\n",
      "[CV] ........................... alpha=10, l1_ratio=0.7, total=   0.0s\n",
      "[CV] alpha=10, l1_ratio=0.9 ..........................................\n",
      "[CV] ........................... alpha=10, l1_ratio=0.9, total=   0.0s\n",
      "[CV] alpha=10, l1_ratio=0.9 ..........................................\n",
      "[CV] ........................... alpha=10, l1_ratio=0.9, total=   0.0s\n",
      "[CV] alpha=10, l1_ratio=0.9 ..........................................\n",
      "[CV] ........................... alpha=10, l1_ratio=0.9, total=   0.0s\n",
      "[CV] alpha=10, l1_ratio=0.9 ..........................................\n",
      "[CV] ........................... alpha=10, l1_ratio=0.9, total=   0.0s\n",
      "[CV] alpha=10, l1_ratio=0.9 ..........................................\n",
      "[CV] ........................... alpha=10, l1_ratio=0.9, total=   0.0s\n",
      "[CV] alpha=10, l1_ratio=0.9 ..........................................\n",
      "[CV] ........................... alpha=10, l1_ratio=0.9, total=   0.0s\n",
      "[CV] alpha=10, l1_ratio=0.9 ..........................................\n",
      "[CV] ........................... alpha=10, l1_ratio=0.9, total=   0.0s\n",
      "[CV] alpha=10, l1_ratio=0.9 ..........................................\n",
      "[CV] ........................... alpha=10, l1_ratio=0.9, total=   0.0s\n",
      "[CV] alpha=10, l1_ratio=0.9 ..........................................\n",
      "[CV] ........................... alpha=10, l1_ratio=0.9, total=   0.0s\n",
      "[CV] alpha=10, l1_ratio=0.9 ..........................................\n",
      "[CV] ........................... alpha=10, l1_ratio=0.9, total=   0.0s\n",
      "[CV] alpha=10, l1_ratio=1 ............................................\n",
      "[CV] ............................. alpha=10, l1_ratio=1, total=   0.0s\n",
      "[CV] alpha=10, l1_ratio=1 ............................................\n",
      "[CV] ............................. alpha=10, l1_ratio=1, total=   0.0s\n",
      "[CV] alpha=10, l1_ratio=1 ............................................\n",
      "[CV] ............................. alpha=10, l1_ratio=1, total=   0.0s\n",
      "[CV] alpha=10, l1_ratio=1 ............................................\n",
      "[CV] ............................. alpha=10, l1_ratio=1, total=   0.0s\n",
      "[CV] alpha=10, l1_ratio=1 ............................................\n",
      "[CV] ............................. alpha=10, l1_ratio=1, total=   0.0s\n",
      "[CV] alpha=10, l1_ratio=1 ............................................\n",
      "[CV] ............................. alpha=10, l1_ratio=1, total=   0.0s\n",
      "[CV] alpha=10, l1_ratio=1 ............................................\n",
      "[CV] ............................. alpha=10, l1_ratio=1, total=   0.0s\n",
      "[CV] alpha=10, l1_ratio=1 ............................................\n",
      "[CV] ............................. alpha=10, l1_ratio=1, total=   0.0s\n",
      "[CV] alpha=10, l1_ratio=1 ............................................\n",
      "[CV] ............................. alpha=10, l1_ratio=1, total=   0.0s\n",
      "[CV] alpha=10, l1_ratio=1 ............................................\n",
      "[CV] ............................. alpha=10, l1_ratio=1, total=   0.0s\n",
      "[CV] alpha=50, l1_ratio=0.1 ..........................................\n",
      "[CV] ........................... alpha=50, l1_ratio=0.1, total=   0.0s\n",
      "[CV] alpha=50, l1_ratio=0.1 ..........................................\n",
      "[CV] ........................... alpha=50, l1_ratio=0.1, total=   0.0s\n",
      "[CV] alpha=50, l1_ratio=0.1 ..........................................\n",
      "[CV] ........................... alpha=50, l1_ratio=0.1, total=   0.0s\n",
      "[CV] alpha=50, l1_ratio=0.1 ..........................................\n",
      "[CV] ........................... alpha=50, l1_ratio=0.1, total=   0.0s\n",
      "[CV] alpha=50, l1_ratio=0.1 ..........................................\n",
      "[CV] ........................... alpha=50, l1_ratio=0.1, total=   0.0s\n",
      "[CV] alpha=50, l1_ratio=0.1 ..........................................\n",
      "[CV] ........................... alpha=50, l1_ratio=0.1, total=   0.0s\n",
      "[CV] alpha=50, l1_ratio=0.1 ..........................................\n",
      "[CV] ........................... alpha=50, l1_ratio=0.1, total=   0.0s\n",
      "[CV] alpha=50, l1_ratio=0.1 ..........................................\n",
      "[CV] ........................... alpha=50, l1_ratio=0.1, total=   0.0s\n",
      "[CV] alpha=50, l1_ratio=0.1 ..........................................\n",
      "[CV] ........................... alpha=50, l1_ratio=0.1, total=   0.1s\n",
      "[CV] alpha=50, l1_ratio=0.1 ..........................................\n",
      "[CV] ........................... alpha=50, l1_ratio=0.1, total=   0.0s\n",
      "[CV] alpha=50, l1_ratio=0.5 ..........................................\n",
      "[CV] ........................... alpha=50, l1_ratio=0.5, total=   0.0s\n",
      "[CV] alpha=50, l1_ratio=0.5 ..........................................\n",
      "[CV] ........................... alpha=50, l1_ratio=0.5, total=   0.0s\n",
      "[CV] alpha=50, l1_ratio=0.5 ..........................................\n",
      "[CV] ........................... alpha=50, l1_ratio=0.5, total=   0.0s\n",
      "[CV] alpha=50, l1_ratio=0.5 ..........................................\n",
      "[CV] ........................... alpha=50, l1_ratio=0.5, total=   0.0s\n",
      "[CV] alpha=50, l1_ratio=0.5 ..........................................\n",
      "[CV] ........................... alpha=50, l1_ratio=0.5, total=   0.0s\n",
      "[CV] alpha=50, l1_ratio=0.5 ..........................................\n",
      "[CV] ........................... alpha=50, l1_ratio=0.5, total=   0.0s\n",
      "[CV] alpha=50, l1_ratio=0.5 ..........................................\n",
      "[CV] ........................... alpha=50, l1_ratio=0.5, total=   0.0s\n",
      "[CV] alpha=50, l1_ratio=0.5 ..........................................\n",
      "[CV] ........................... alpha=50, l1_ratio=0.5, total=   0.0s\n",
      "[CV] alpha=50, l1_ratio=0.5 ..........................................\n",
      "[CV] ........................... alpha=50, l1_ratio=0.5, total=   0.0s\n",
      "[CV] alpha=50, l1_ratio=0.5 ..........................................\n",
      "[CV] ........................... alpha=50, l1_ratio=0.5, total=   0.0s\n",
      "[CV] alpha=50, l1_ratio=0.7 ..........................................\n",
      "[CV] ........................... alpha=50, l1_ratio=0.7, total=   0.0s\n",
      "[CV] alpha=50, l1_ratio=0.7 ..........................................\n",
      "[CV] ........................... alpha=50, l1_ratio=0.7, total=   0.0s\n",
      "[CV] alpha=50, l1_ratio=0.7 ..........................................\n",
      "[CV] ........................... alpha=50, l1_ratio=0.7, total=   0.0s\n",
      "[CV] alpha=50, l1_ratio=0.7 ..........................................\n",
      "[CV] ........................... alpha=50, l1_ratio=0.7, total=   0.0s\n",
      "[CV] alpha=50, l1_ratio=0.7 ..........................................\n",
      "[CV] ........................... alpha=50, l1_ratio=0.7, total=   0.0s\n",
      "[CV] alpha=50, l1_ratio=0.7 ..........................................\n",
      "[CV] ........................... alpha=50, l1_ratio=0.7, total=   0.0s\n",
      "[CV] alpha=50, l1_ratio=0.7 ..........................................\n",
      "[CV] ........................... alpha=50, l1_ratio=0.7, total=   0.0s\n",
      "[CV] alpha=50, l1_ratio=0.7 ..........................................\n",
      "[CV] ........................... alpha=50, l1_ratio=0.7, total=   0.0s\n",
      "[CV] alpha=50, l1_ratio=0.7 ..........................................\n",
      "[CV] ........................... alpha=50, l1_ratio=0.7, total=   0.0s\n",
      "[CV] alpha=50, l1_ratio=0.7 ..........................................\n",
      "[CV] ........................... alpha=50, l1_ratio=0.7, total=   0.0s\n",
      "[CV] alpha=50, l1_ratio=0.9 ..........................................\n",
      "[CV] ........................... alpha=50, l1_ratio=0.9, total=   0.0s\n",
      "[CV] alpha=50, l1_ratio=0.9 ..........................................\n",
      "[CV] ........................... alpha=50, l1_ratio=0.9, total=   0.0s\n",
      "[CV] alpha=50, l1_ratio=0.9 ..........................................\n",
      "[CV] ........................... alpha=50, l1_ratio=0.9, total=   0.0s\n",
      "[CV] alpha=50, l1_ratio=0.9 ..........................................\n",
      "[CV] ........................... alpha=50, l1_ratio=0.9, total=   0.0s\n",
      "[CV] alpha=50, l1_ratio=0.9 ..........................................\n",
      "[CV] ........................... alpha=50, l1_ratio=0.9, total=   0.0s\n",
      "[CV] alpha=50, l1_ratio=0.9 ..........................................\n",
      "[CV] ........................... alpha=50, l1_ratio=0.9, total=   0.0s\n",
      "[CV] alpha=50, l1_ratio=0.9 ..........................................\n"
     ]
    },
    {
     "name": "stdout",
     "output_type": "stream",
     "text": [
      "[CV] ........................... alpha=50, l1_ratio=0.9, total=   0.0s\n",
      "[CV] alpha=50, l1_ratio=0.9 ..........................................\n",
      "[CV] ........................... alpha=50, l1_ratio=0.9, total=   0.1s\n",
      "[CV] alpha=50, l1_ratio=0.9 ..........................................\n",
      "[CV] ........................... alpha=50, l1_ratio=0.9, total=   0.0s\n",
      "[CV] alpha=50, l1_ratio=0.9 ..........................................\n",
      "[CV] ........................... alpha=50, l1_ratio=0.9, total=   0.0s\n",
      "[CV] alpha=50, l1_ratio=1 ............................................\n",
      "[CV] ............................. alpha=50, l1_ratio=1, total=   0.0s\n",
      "[CV] alpha=50, l1_ratio=1 ............................................\n",
      "[CV] ............................. alpha=50, l1_ratio=1, total=   0.1s\n",
      "[CV] alpha=50, l1_ratio=1 ............................................\n",
      "[CV] ............................. alpha=50, l1_ratio=1, total=   0.0s\n",
      "[CV] alpha=50, l1_ratio=1 ............................................\n",
      "[CV] ............................. alpha=50, l1_ratio=1, total=   0.0s\n",
      "[CV] alpha=50, l1_ratio=1 ............................................\n",
      "[CV] ............................. alpha=50, l1_ratio=1, total=   0.0s\n",
      "[CV] alpha=50, l1_ratio=1 ............................................\n",
      "[CV] ............................. alpha=50, l1_ratio=1, total=   0.0s\n",
      "[CV] alpha=50, l1_ratio=1 ............................................\n",
      "[CV] ............................. alpha=50, l1_ratio=1, total=   0.0s\n",
      "[CV] alpha=50, l1_ratio=1 ............................................\n",
      "[CV] ............................. alpha=50, l1_ratio=1, total=   0.0s\n",
      "[CV] alpha=50, l1_ratio=1 ............................................\n",
      "[CV] ............................. alpha=50, l1_ratio=1, total=   0.0s\n",
      "[CV] alpha=50, l1_ratio=1 ............................................\n",
      "[CV] ............................. alpha=50, l1_ratio=1, total=   0.0s\n",
      "[CV] alpha=100, l1_ratio=0.1 .........................................\n",
      "[CV] .......................... alpha=100, l1_ratio=0.1, total=   0.0s\n",
      "[CV] alpha=100, l1_ratio=0.1 .........................................\n",
      "[CV] .......................... alpha=100, l1_ratio=0.1, total=   0.0s\n",
      "[CV] alpha=100, l1_ratio=0.1 .........................................\n",
      "[CV] .......................... alpha=100, l1_ratio=0.1, total=   0.0s\n",
      "[CV] alpha=100, l1_ratio=0.1 .........................................\n",
      "[CV] .......................... alpha=100, l1_ratio=0.1, total=   0.0s\n",
      "[CV] alpha=100, l1_ratio=0.1 .........................................\n",
      "[CV] .......................... alpha=100, l1_ratio=0.1, total=   0.0s\n",
      "[CV] alpha=100, l1_ratio=0.1 .........................................\n",
      "[CV] .......................... alpha=100, l1_ratio=0.1, total=   0.0s\n",
      "[CV] alpha=100, l1_ratio=0.1 .........................................\n",
      "[CV] .......................... alpha=100, l1_ratio=0.1, total=   0.0s\n",
      "[CV] alpha=100, l1_ratio=0.1 .........................................\n",
      "[CV] .......................... alpha=100, l1_ratio=0.1, total=   0.0s\n",
      "[CV] alpha=100, l1_ratio=0.1 .........................................\n",
      "[CV] .......................... alpha=100, l1_ratio=0.1, total=   0.0s\n",
      "[CV] alpha=100, l1_ratio=0.1 .........................................\n",
      "[CV] .......................... alpha=100, l1_ratio=0.1, total=   0.0s\n",
      "[CV] alpha=100, l1_ratio=0.5 .........................................\n",
      "[CV] .......................... alpha=100, l1_ratio=0.5, total=   0.0s\n",
      "[CV] alpha=100, l1_ratio=0.5 .........................................\n",
      "[CV] .......................... alpha=100, l1_ratio=0.5, total=   0.0s\n",
      "[CV] alpha=100, l1_ratio=0.5 .........................................\n",
      "[CV] .......................... alpha=100, l1_ratio=0.5, total=   0.0s\n",
      "[CV] alpha=100, l1_ratio=0.5 .........................................\n",
      "[CV] .......................... alpha=100, l1_ratio=0.5, total=   0.0s\n",
      "[CV] alpha=100, l1_ratio=0.5 .........................................\n",
      "[CV] .......................... alpha=100, l1_ratio=0.5, total=   0.0s\n",
      "[CV] alpha=100, l1_ratio=0.5 .........................................\n",
      "[CV] .......................... alpha=100, l1_ratio=0.5, total=   0.0s\n",
      "[CV] alpha=100, l1_ratio=0.5 .........................................\n",
      "[CV] .......................... alpha=100, l1_ratio=0.5, total=   0.0s\n",
      "[CV] alpha=100, l1_ratio=0.5 .........................................\n",
      "[CV] .......................... alpha=100, l1_ratio=0.5, total=   0.0s\n",
      "[CV] alpha=100, l1_ratio=0.5 .........................................\n",
      "[CV] .......................... alpha=100, l1_ratio=0.5, total=   0.0s\n",
      "[CV] alpha=100, l1_ratio=0.5 .........................................\n",
      "[CV] .......................... alpha=100, l1_ratio=0.5, total=   0.0s\n",
      "[CV] alpha=100, l1_ratio=0.7 .........................................\n",
      "[CV] .......................... alpha=100, l1_ratio=0.7, total=   0.0s\n",
      "[CV] alpha=100, l1_ratio=0.7 .........................................\n",
      "[CV] .......................... alpha=100, l1_ratio=0.7, total=   0.0s\n",
      "[CV] alpha=100, l1_ratio=0.7 .........................................\n",
      "[CV] .......................... alpha=100, l1_ratio=0.7, total=   0.0s\n",
      "[CV] alpha=100, l1_ratio=0.7 .........................................\n",
      "[CV] .......................... alpha=100, l1_ratio=0.7, total=   0.0s\n",
      "[CV] alpha=100, l1_ratio=0.7 .........................................\n",
      "[CV] .......................... alpha=100, l1_ratio=0.7, total=   0.0s\n",
      "[CV] alpha=100, l1_ratio=0.7 .........................................\n",
      "[CV] .......................... alpha=100, l1_ratio=0.7, total=   0.0s\n",
      "[CV] alpha=100, l1_ratio=0.7 .........................................\n",
      "[CV] .......................... alpha=100, l1_ratio=0.7, total=   0.0s\n",
      "[CV] alpha=100, l1_ratio=0.7 .........................................\n",
      "[CV] .......................... alpha=100, l1_ratio=0.7, total=   0.0s\n",
      "[CV] alpha=100, l1_ratio=0.7 .........................................\n",
      "[CV] .......................... alpha=100, l1_ratio=0.7, total=   0.0s\n",
      "[CV] alpha=100, l1_ratio=0.7 .........................................\n",
      "[CV] .......................... alpha=100, l1_ratio=0.7, total=   0.0s\n",
      "[CV] alpha=100, l1_ratio=0.9 .........................................\n",
      "[CV] .......................... alpha=100, l1_ratio=0.9, total=   0.0s\n",
      "[CV] alpha=100, l1_ratio=0.9 .........................................\n",
      "[CV] .......................... alpha=100, l1_ratio=0.9, total=   0.0s\n",
      "[CV] alpha=100, l1_ratio=0.9 .........................................\n",
      "[CV] .......................... alpha=100, l1_ratio=0.9, total=   0.0s\n",
      "[CV] alpha=100, l1_ratio=0.9 .........................................\n",
      "[CV] .......................... alpha=100, l1_ratio=0.9, total=   0.0s\n",
      "[CV] alpha=100, l1_ratio=0.9 .........................................\n",
      "[CV] .......................... alpha=100, l1_ratio=0.9, total=   0.0s\n",
      "[CV] alpha=100, l1_ratio=0.9 .........................................\n",
      "[CV] .......................... alpha=100, l1_ratio=0.9, total=   0.0s\n",
      "[CV] alpha=100, l1_ratio=0.9 .........................................\n",
      "[CV] .......................... alpha=100, l1_ratio=0.9, total=   0.0s\n",
      "[CV] alpha=100, l1_ratio=0.9 .........................................\n",
      "[CV] .......................... alpha=100, l1_ratio=0.9, total=   0.0s\n",
      "[CV] alpha=100, l1_ratio=0.9 .........................................\n",
      "[CV] .......................... alpha=100, l1_ratio=0.9, total=   0.0s\n",
      "[CV] alpha=100, l1_ratio=0.9 .........................................\n",
      "[CV] .......................... alpha=100, l1_ratio=0.9, total=   0.0s\n",
      "[CV] alpha=100, l1_ratio=1 ...........................................\n",
      "[CV] ............................ alpha=100, l1_ratio=1, total=   0.0s\n",
      "[CV] alpha=100, l1_ratio=1 ...........................................\n",
      "[CV] ............................ alpha=100, l1_ratio=1, total=   0.0s\n",
      "[CV] alpha=100, l1_ratio=1 ...........................................\n",
      "[CV] ............................ alpha=100, l1_ratio=1, total=   0.0s\n",
      "[CV] alpha=100, l1_ratio=1 ...........................................\n",
      "[CV] ............................ alpha=100, l1_ratio=1, total=   0.0s\n",
      "[CV] alpha=100, l1_ratio=1 ...........................................\n",
      "[CV] ............................ alpha=100, l1_ratio=1, total=   0.0s\n",
      "[CV] alpha=100, l1_ratio=1 ...........................................\n",
      "[CV] ............................ alpha=100, l1_ratio=1, total=   0.0s\n",
      "[CV] alpha=100, l1_ratio=1 ...........................................\n"
     ]
    },
    {
     "name": "stdout",
     "output_type": "stream",
     "text": [
      "[CV] ............................ alpha=100, l1_ratio=1, total=   0.0s\n",
      "[CV] alpha=100, l1_ratio=1 ...........................................\n",
      "[CV] ............................ alpha=100, l1_ratio=1, total=   0.0s\n",
      "[CV] alpha=100, l1_ratio=1 ...........................................\n",
      "[CV] ............................ alpha=100, l1_ratio=1, total=   0.0s\n",
      "[CV] alpha=100, l1_ratio=1 ...........................................\n",
      "[CV] ............................ alpha=100, l1_ratio=1, total=   0.0s\n"
     ]
    },
    {
     "name": "stderr",
     "output_type": "stream",
     "text": [
      "[Parallel(n_jobs=1)]: Done 250 out of 250 | elapsed:    8.2s finished\n"
     ]
    },
    {
     "data": {
      "text/plain": [
       "GridSearchCV(cv=10, estimator=ElasticNet(),\n",
       "             param_grid={'alpha': [0.1, 1, 10, 50, 100],\n",
       "                         'l1_ratio': [0.1, 0.5, 0.7, 0.9, 1]},\n",
       "             scoring='neg_mean_squared_error', verbose=2)"
      ]
     },
     "execution_count": 59,
     "metadata": {},
     "output_type": "execute_result"
    }
   ],
   "source": [
    "grid_model.fit(X_train,y_train)"
   ]
  },
  {
   "cell_type": "code",
   "execution_count": 60,
   "metadata": {},
   "outputs": [
    {
     "data": {
      "text/plain": [
       "{'alpha': 0.1, 'l1_ratio': 0.1}"
      ]
     },
     "execution_count": 60,
     "metadata": {},
     "output_type": "execute_result"
    }
   ],
   "source": [
    "grid_model.best_params_"
   ]
  },
  {
   "cell_type": "code",
   "execution_count": 61,
   "metadata": {},
   "outputs": [
    {
     "data": {
      "text/plain": [
       "ElasticNet(alpha=0.1, l1_ratio=0.1)"
      ]
     },
     "execution_count": 61,
     "metadata": {},
     "output_type": "execute_result"
    }
   ],
   "source": [
    "grid_model.best_estimator_"
   ]
  },
  {
   "cell_type": "code",
   "execution_count": 62,
   "metadata": {},
   "outputs": [],
   "source": [
    "y_pred = grid_model.predict(X_test)"
   ]
  },
  {
   "cell_type": "code",
   "execution_count": 63,
   "metadata": {},
   "outputs": [
    {
     "data": {
      "text/plain": [
       "0.011960979403844907"
      ]
     },
     "execution_count": 63,
     "metadata": {},
     "output_type": "execute_result"
    }
   ],
   "source": [
    "mean_squared_error(y_test,y_pred)"
   ]
  },
  {
   "cell_type": "code",
   "execution_count": 64,
   "metadata": {},
   "outputs": [
    {
     "data": {
      "text/plain": [
       "0.10936626264001575"
      ]
     },
     "execution_count": 64,
     "metadata": {},
     "output_type": "execute_result"
    }
   ],
   "source": [
    "RMSE = np.sqrt(mean_squared_error(y_test,y_pred))\n",
    "RMSE"
   ]
  },
  {
   "cell_type": "code",
   "execution_count": 65,
   "metadata": {},
   "outputs": [],
   "source": [
    "test_prob = y_test - y_pred"
   ]
  },
  {
   "cell_type": "code",
   "execution_count": 66,
   "metadata": {},
   "outputs": [
    {
     "data": {
      "text/plain": [
       "<matplotlib.lines.Line2D at 0x24789506700>"
      ]
     },
     "execution_count": 66,
     "metadata": {},
     "output_type": "execute_result"
    },
    {
     "data": {
      "image/png": "[encoded data removed]",
      "text/plain": [
       "<Figure size 432x288 with 1 Axes>"
      ]
     },
     "metadata": {
      "needs_background": "light"
     },
     "output_type": "display_data"
    }
   ],
   "source": [
    "sns.scatterplot(x=y_test,y=test_prob)\n",
    "plt.axhline(y=0,color='magenta',linestyle='--')"
   ]
  },
  {
   "cell_type": "code",
   "execution_count": 67,
   "metadata": {},
   "outputs": [
    {
     "data": {
      "image/png": "[encoded data removed]",
      "text/plain": [
       "<Figure size 1000x1200 with 1 Axes>"
      ]
     },
     "metadata": {
      "needs_background": "light"
     },
     "output_type": "display_data"
    }
   ],
   "source": [
    "fig,ax = plt.subplots(figsize=(10,12),dpi=100)\n",
    "\n",
    "_=sp.stats.probplot(test_prob,plot=ax)"
   ]
  },
  {
   "cell_type": "code",
   "execution_count": 68,
   "metadata": {},
   "outputs": [],
   "source": [
    "def MAPE(y_test,y_pred):\n",
    "    mape = np.mean(np.abs((y_test - y_pred)/y_test))*100\n",
    "    return mape"
   ]
  },
  {
   "cell_type": "code",
   "execution_count": 69,
   "metadata": {},
   "outputs": [],
   "source": [
    "LR_MAPEgrid= MAPE(y_test,y_pred)"
   ]
  },
  {
   "cell_type": "code",
   "execution_count": 70,
   "metadata": {},
   "outputs": [
    {
     "name": "stdout",
     "output_type": "stream",
     "text": [
      "MAPE:  0.6712208538019672\n"
     ]
    }
   ],
   "source": [
    "print(\"MAPE: \",LR_MAPEgrid)"
   ]
  },
  {
   "cell_type": "code",
   "execution_count": 71,
   "metadata": {},
   "outputs": [
    {
     "data": {
      "text/plain": [
       "92.0"
      ]
     },
     "execution_count": 71,
     "metadata": {},
     "output_type": "execute_result"
    }
   ],
   "source": [
    "accuracy4= round(r2_score(y_test, y_pred), 2)\n",
    "accuracy4= accuracy4 * 100\n",
    "accuracy4"
   ]
  },
  {
   "cell_type": "markdown",
   "metadata": {},
   "source": [
    "# Ridge model"
   ]
  },
  {
   "cell_type": "code",
   "execution_count": 72,
   "metadata": {},
   "outputs": [],
   "source": [
    "#Create  and y \n",
    "X = df.drop('saleprice',axis=1)\n",
    "y = df['saleprice']\n",
    "\n",
    "from sklearn.model_selection import train_test_split\n",
    "X_train,X_test, y_train, y_test = train_test_split(X,y, test_size = 0.3)\n",
    "\n",
    "from sklearn.preprocessing import StandardScaler\n",
    "scaler = StandardScaler()\n",
    "scaler.fit(X_train)\n",
    "X_train = scaler.transform(X_train)\n",
    "X_test = scaler.transform(X_test)"
   ]
  },
  {
   "cell_type": "code",
   "execution_count": 73,
   "metadata": {},
   "outputs": [],
   "source": [
    "ridge_model = Ridge(alpha=10)"
   ]
  },
  {
   "cell_type": "code",
   "execution_count": 74,
   "metadata": {},
   "outputs": [
    {
     "data": {
      "text/plain": [
       "Ridge(alpha=10)"
      ]
     },
     "execution_count": 74,
     "metadata": {},
     "output_type": "execute_result"
    }
   ],
   "source": [
    "ridge_model.fit(X_train,y_train)"
   ]
  },
  {
   "cell_type": "code",
   "execution_count": 75,
   "metadata": {},
   "outputs": [],
   "source": [
    "pred_test_ridge = ridge_model.predict(X_test)"
   ]
  },
  {
   "cell_type": "code",
   "execution_count": 76,
   "metadata": {},
   "outputs": [
    {
     "data": {
      "text/plain": [
       "array([12.1604867 , 11.7616209 , 12.23461555, 11.57075426, 11.83873449,\n",
       "       11.67921654, 12.62630553, 12.08181875, 12.61384153, 12.4780085 ,\n",
       "       11.26176333, 11.38480061, 12.73033991, 11.59089243, 11.40413281,\n",
       "       12.29583172, 12.02527213, 11.41691313, 11.63162074, 12.26449864,\n",
       "       12.61553607, 12.23266576, 12.11904848, 11.68127396, 10.82600297,\n",
       "       12.41181093, 12.46371111, 11.90758166, 12.78878167, 12.40279789,\n",
       "       12.45741259, 11.97654408, 12.39252529, 12.63083646, 12.04020196,\n",
       "       11.93088753, 11.92159744, 11.85311138, 12.25381595, 11.71782512,\n",
       "       11.70756841, 11.75108006, 11.80198704, 12.14751066, 11.85996839,\n",
       "       12.29683254, 12.21173497, 12.17205307, 12.03958856, 12.69358762,\n",
       "       12.06712331, 12.13706992, 12.28079885, 11.63691024, 12.66059063,\n",
       "       12.61024762, 11.88100835, 11.83047531, 11.6676893 , 11.9009177 ,\n",
       "       12.59992631, 11.53324634, 12.61356198, 12.1658153 , 11.66168756,\n",
       "       11.8321812 , 11.75765799, 11.87262009, 11.9912063 , 12.14643401,\n",
       "       11.90907703, 12.24130897, 11.92824579, 11.78142734, 11.83993652,\n",
       "       12.61058301, 11.66900625, 12.33480024, 11.45656677, 11.44556446,\n",
       "       12.01021656, 12.04987134, 11.70628857, 11.75794304, 12.20376806,\n",
       "       13.1853892 , 11.49521414, 11.96385542, 12.20061903, 11.59908001,\n",
       "       11.66553274, 11.60302602, 12.14605719, 12.23382027, 12.00657261,\n",
       "       12.00998496, 11.68004563, 12.57814705, 11.66781312, 12.05821287,\n",
       "       11.94775468, 11.60389143, 11.70563112, 12.0182659 , 12.05171931,\n",
       "       11.95629054, 11.31700931, 12.42915486, 12.19524927, 11.8563631 ,\n",
       "       12.46373355, 12.07068335, 11.95992153, 12.07945191, 12.84372844,\n",
       "       12.06090389, 12.1924758 , 11.8746409 , 12.27057582, 11.93342738,\n",
       "       12.1593838 , 12.22963605, 11.9084016 , 11.48427646, 12.80803803,\n",
       "       11.92577401, 11.48234458, 12.68175596, 12.55147597, 11.53809683,\n",
       "       11.93555855, 11.63360757, 12.31707362, 12.02273185, 12.02703972,\n",
       "       11.92800901, 11.38860488, 12.04039502, 11.50971553, 11.69642531,\n",
       "       12.03069185, 12.17205542, 11.83444981, 11.28891311, 11.83953576,\n",
       "       11.84963713, 12.32710602, 11.18638765, 12.36954156, 11.61659281,\n",
       "       13.12110695, 12.60979402, 11.84003461, 12.36290602, 12.4084195 ,\n",
       "       12.14387279, 11.76101815, 11.59374663, 11.91296084, 12.51414542,\n",
       "       12.00212531, 12.67170961, 12.06455914, 12.02014912, 11.65735231,\n",
       "       11.69165987, 11.87910046, 12.16902651, 11.86836697, 12.93087174,\n",
       "       12.51506662, 12.14604078, 11.69357962, 12.35977512, 13.22400316,\n",
       "       11.6933935 , 11.93440765, 12.79727877, 12.15610848, 11.64614517,\n",
       "       11.71828069, 10.97369827, 12.05863137, 11.21472191, 12.22743609,\n",
       "       11.78165957, 12.44844767, 11.63911137, 11.6664635 , 11.82405825,\n",
       "       11.72294654, 11.9534825 , 12.41795804, 12.01167245, 12.4304103 ,\n",
       "       12.07458344, 12.24405259, 12.40809114, 11.47986663, 12.13466867,\n",
       "       11.94269071, 11.88991314, 12.27832115, 12.11625069, 12.43456129,\n",
       "       12.18775923, 11.81463972, 12.3473719 , 11.86782349, 11.71571583,\n",
       "       12.00431116, 11.70495855, 11.69798295, 12.335377  , 11.89686996,\n",
       "       11.73970349, 12.05803553, 12.7096087 , 12.70619066, 11.7651945 ,\n",
       "       12.71965602, 12.30089925, 11.49988825, 11.96310044, 12.15702608,\n",
       "       11.42835682, 11.87056674, 11.76813932, 12.34380188, 11.50081955,\n",
       "       12.86423573, 12.76017737, 12.12042845, 11.38220976, 12.11111761,\n",
       "       11.90640828, 12.18190453, 11.64776444, 11.97976873, 12.41722074,\n",
       "       12.15069678, 11.77768208, 11.80780305, 11.85459412, 12.02897768,\n",
       "       12.16099665, 11.90506176, 12.22211784, 12.6586451 , 11.65771106,\n",
       "       11.86685213, 11.94611337, 11.96104431, 12.7557414 , 12.54150773,\n",
       "       12.50682944, 11.54488617, 11.65768828, 12.42313179, 11.46569875,\n",
       "       10.95117812, 11.58244562, 12.10428198, 12.48823823, 13.10683241,\n",
       "       12.53424863, 11.98095488, 12.20141434, 11.61219849, 11.83903076,\n",
       "       12.15166969, 12.48959791, 12.49039029, 12.17089026, 12.35705022,\n",
       "       11.45785374, 11.86256288, 12.22859875, 11.66097435, 11.55345942,\n",
       "       11.92461158, 12.30626986, 11.72533988, 12.05297898, 11.8819983 ,\n",
       "       12.24445498, 12.14548229, 12.11631007, 12.0939341 , 11.83776621,\n",
       "       12.20843992, 12.15864786, 12.52292912, 11.38396617, 11.69901393,\n",
       "       11.80972328, 12.48457388, 11.61587575, 12.37013678, 12.0843521 ,\n",
       "       12.27535644, 12.06502705, 11.43275206, 12.24678604, 11.88443383,\n",
       "       11.69421592, 12.10594855, 12.30082499, 11.99817441, 12.08865238,\n",
       "       11.63634477, 12.49248562, 12.59543295, 11.70860486, 12.11416824,\n",
       "       12.31880779, 11.83727251, 12.48029746, 12.68598424, 11.52534301,\n",
       "       11.57481698, 11.62206513, 12.3978069 , 12.17344193, 12.30902136,\n",
       "       12.56705035, 12.14204276, 12.24648306, 11.64940324, 12.20181528,\n",
       "       11.77348542, 11.76088584, 12.20893455, 12.38728804, 11.97686671,\n",
       "       12.20642608, 11.87850036, 12.13988526, 11.77240703, 11.74822236,\n",
       "       11.50430704, 11.73008535, 11.83707749, 12.23236098, 12.11731106,\n",
       "       12.04263226, 11.96741455, 12.07628766, 12.0467831 , 12.38504158,\n",
       "       11.47982054, 11.72826348, 12.01679441, 11.28974412, 11.90421433,\n",
       "       11.70021315, 12.31514545, 11.84429724, 12.14874637, 11.86010065,\n",
       "       11.69233246, 11.4857093 , 12.33390419, 12.69724388, 11.66990707,\n",
       "       11.64400404, 12.26161732, 12.06979028, 11.85007892, 11.750237  ,\n",
       "       11.55382722, 11.54529702, 12.06529965, 12.49736028, 11.7009131 ,\n",
       "       11.68896403, 11.60549483, 12.93985678, 12.32071233, 11.84550397,\n",
       "       11.25695256, 11.85214245, 12.44235992, 12.18070293, 11.64790792,\n",
       "       12.06933591, 11.85566942, 12.20457589, 11.16641294, 12.28698432,\n",
       "       12.71399035, 11.41531028, 12.2876072 , 11.30875959, 11.91242211,\n",
       "       12.07074996, 12.83846624, 11.77787534, 12.71439588, 11.90324092,\n",
       "       11.8615978 , 12.93592949, 12.01016813, 12.25795432, 12.20989627,\n",
       "       12.3075227 , 11.84394886, 11.64865807, 11.95416685, 12.09360637,\n",
       "       12.09374643, 11.60500434, 11.90799083, 12.02349032, 11.86007759,\n",
       "       11.89103672, 11.51653058, 12.63616817, 11.73253223, 11.77500569,\n",
       "       11.81502296, 11.76798945, 11.74959438, 11.96457232, 11.54572053,\n",
       "       12.04557662, 11.67353346, 11.34927978, 12.04964749, 11.77559112,\n",
       "       12.2180049 , 11.92314288, 12.11885678, 11.76108582, 12.72970766,\n",
       "       12.32555946, 12.50776961, 11.84955431, 11.80977764, 11.69596214,\n",
       "       12.09342816, 11.6687968 , 13.10831312, 11.49346214, 11.42452672,\n",
       "       11.58473287, 12.00362905, 12.70459387, 11.65071591, 11.92110027,\n",
       "       11.7587603 , 11.90892675, 11.67101495, 12.25784678, 12.07193422,\n",
       "       11.72547213, 11.6859194 , 12.61257285, 11.75314703, 12.24760487,\n",
       "       12.40187754, 12.6402432 , 12.33427741, 11.51174113, 11.95711042,\n",
       "       11.56218339, 11.88461029, 11.62228748, 11.57678559, 11.83337745,\n",
       "       11.81633855, 11.82970824, 11.85432197, 12.66943614, 12.01425957,\n",
       "       12.2003653 , 12.14435982, 12.28127487, 11.86970848, 12.04201802,\n",
       "       12.31461284, 11.65352802, 11.97942996, 11.80400446, 11.84892752,\n",
       "       11.99019696, 12.07879088, 12.59975477, 11.53791121, 11.91859404,\n",
       "       11.9646621 , 11.93622079, 11.83192876, 12.04912239, 11.77620323,\n",
       "       12.26858606, 12.46523172, 12.14477803, 12.17022923, 11.59386516,\n",
       "       12.35866575, 11.85237783, 12.43262876, 11.76272093, 12.80070376,\n",
       "       11.60689194, 12.16174824, 12.74466881, 11.7074931 , 12.12152164,\n",
       "       12.15906155, 11.96368712, 12.24712407, 11.6151104 , 12.43823579,\n",
       "       12.15207843, 11.66812431, 12.07016723, 11.61505489, 12.95122281,\n",
       "       11.87500984, 11.75655752, 11.84696687, 12.54800726, 11.85830336,\n",
       "       11.3275958 , 12.15896578, 11.97183044, 12.27660639, 12.49483641,\n",
       "       12.08945301, 12.13651083, 11.72773406, 12.63304937, 12.28090214,\n",
       "       11.98002375, 11.6602312 , 11.00728703, 12.56658835, 11.78940247,\n",
       "       11.64871932, 11.6414251 , 11.75481096, 12.49961942, 12.58821779,\n",
       "       12.10406831, 11.72801394, 12.06574763, 11.632718  , 12.32502944,\n",
       "       11.5946785 , 12.8033482 , 11.45201162, 12.25290219, 11.763253  ,\n",
       "       11.39097136, 11.3097196 , 11.79416964, 11.61655264, 12.23720647,\n",
       "       12.16790666, 12.02385879, 11.97888948, 11.88458587, 11.74005122,\n",
       "       12.0585919 , 12.30964106, 12.45157817, 12.74374805, 12.53822438,\n",
       "       11.97459736, 11.71894296, 12.12605543, 11.1793492 , 11.9885171 ,\n",
       "       11.82676925, 11.83305023, 11.76222851, 12.2976314 , 11.884443  ,\n",
       "       11.94359647, 12.08734123, 11.85445688, 11.89513091, 11.99278846,\n",
       "       11.65845327, 11.57037083, 12.15217401, 12.12660184, 11.82780376,\n",
       "       12.1077709 , 12.52982822, 12.16395406, 11.94632216, 11.74477498,\n",
       "       11.69869599, 12.59815108, 12.16279019, 11.25146127, 11.25267042,\n",
       "       12.22661085, 12.4116974 , 12.03374504, 12.24871309, 11.8456566 ,\n",
       "       11.25042475, 11.7537032 , 12.62573147, 12.79813306, 12.70861283,\n",
       "       11.821583  , 11.71137617, 12.23416635, 11.95000296, 11.55560225,\n",
       "       12.07342224, 12.03702028, 13.08106987, 12.23854219, 11.72521161,\n",
       "       11.9837415 , 11.90274938, 12.76609993, 11.84098334, 12.69713427,\n",
       "       11.83461317, 11.81818269, 11.95541383, 11.84876323, 11.83761408,\n",
       "       12.1816769 , 11.88143768, 12.46085091, 12.73256049, 12.54138813,\n",
       "       11.61637541, 11.09752137, 12.49314149, 11.72905023, 11.60700702,\n",
       "       11.46333281, 11.91582471, 11.49933435, 12.5767025 , 11.78764795,\n",
       "       11.79713061, 11.77801922, 11.46397923, 12.14381812, 11.77241206,\n",
       "       11.91264743, 11.29413479, 12.25495399, 12.19871754, 11.59273484,\n",
       "       12.56859043, 12.01146423, 11.84736233, 11.58465407, 11.37812398,\n",
       "       12.17941018, 12.39426983, 12.59544261, 12.08177982, 11.4621187 ,\n",
       "       11.62665466, 11.83888834, 12.72291936, 11.93561063, 12.04653007,\n",
       "       12.12801849, 11.64205809, 11.93003104, 11.92225352, 12.04129306,\n",
       "       11.92235736, 12.67528722, 11.79033138, 11.80106509, 12.88974493,\n",
       "       11.19367804, 11.9682469 , 12.27661079, 11.67555523, 12.03954485,\n",
       "       11.54001952, 12.06939519, 12.1670105 , 12.63428743, 11.25795796,\n",
       "       12.35070504, 12.55418319, 12.11181328, 11.8759856 , 12.30424978,\n",
       "       11.5431175 , 12.36949556, 13.00869499, 11.88000286, 12.16449687,\n",
       "       11.88960742, 12.55883816, 11.88475081, 12.00812366, 11.3517184 ,\n",
       "       11.88819336, 11.51367478, 11.70515727, 11.68462808, 12.30400413,\n",
       "       12.21485551, 12.43518251, 11.79470483, 12.08564167, 11.80927656,\n",
       "       12.26763536, 12.08829324, 12.25643601, 11.65529607, 12.23553105,\n",
       "       12.18365842, 12.47863134, 11.90072727, 12.56281408, 13.01015645,\n",
       "       11.5850069 , 11.65486474, 11.65230334, 11.82287833, 11.82440079,\n",
       "       11.80456557, 12.31648527, 11.44584375, 12.02375453, 11.95689179,\n",
       "       11.41893195, 11.87214049, 11.79993548, 12.24159568, 11.61346304,\n",
       "       12.17083505, 11.50306996, 12.45888549, 12.18934332, 11.70468317,\n",
       "       11.72069104, 11.98848823, 12.6081931 , 11.76244535, 12.19929814,\n",
       "       11.76663207, 11.6797879 , 12.32100021, 12.11046304, 12.8828802 ,\n",
       "       11.92318355, 12.35493893, 12.03923467, 11.64328744, 12.33808149,\n",
       "       12.38640859, 12.12820394, 12.85992357, 11.55674333, 12.87948054,\n",
       "       12.16053757, 11.75535588, 11.74882876, 12.2596452 , 11.69813095,\n",
       "       12.29088087, 11.78451441, 11.69559217, 11.83181996, 11.63550342,\n",
       "       13.02080428, 12.39690118, 12.64087944, 11.82733462, 12.22640641,\n",
       "       12.20485702, 12.08685147, 12.24293964, 11.14376455, 11.46150109,\n",
       "       11.60701558, 12.07991764, 11.52456922, 11.74847152, 11.91646858,\n",
       "       11.76153129, 11.50256568, 11.39945132, 11.91184346, 11.3931373 ,\n",
       "       11.73036674, 12.19347498, 11.95175469, 12.38633279, 12.49462947,\n",
       "       11.6695356 , 11.3645412 , 12.25114376, 11.73205215, 12.28230228,\n",
       "       11.6904736 , 12.51898134, 11.87431159, 12.37470592, 12.28011257,\n",
       "       12.71637711, 12.40071218, 12.26511558, 12.20770206, 11.27595881,\n",
       "       12.91463751, 12.1527777 , 12.50967517, 12.25578909, 12.60961586,\n",
       "       12.922795  , 11.64263268, 12.32371462, 11.85347107, 11.84928699,\n",
       "       11.73145624, 12.09482646, 11.82912734, 12.36070126, 11.77199563,\n",
       "       12.35663927, 11.78861869, 11.65918826, 12.45074751, 11.82593646,\n",
       "       12.14395206, 12.49152331, 12.65824475, 11.72374836, 12.38093934,\n",
       "       11.84617439, 11.567225  , 12.09287673, 11.78214445, 12.23591643,\n",
       "       11.93006864, 12.17661292, 11.83047627, 12.63393303, 12.43471189,\n",
       "       12.47182558, 12.64603081, 11.63084073, 12.15531283, 11.68628258,\n",
       "       11.63707716, 12.16491889, 11.5051639 , 12.08350397, 11.65738377,\n",
       "       12.63227111, 11.96095908, 11.8776194 , 11.79190698, 11.53643614,\n",
       "       12.41070097, 12.1664448 , 12.45218515, 12.15060226, 12.61528613,\n",
       "       12.0321125 , 11.76143159, 11.9131732 , 12.33555684])"
      ]
     },
     "execution_count": 76,
     "metadata": {},
     "output_type": "execute_result"
    }
   ],
   "source": [
    "pred_test_ridge"
   ]
  },
  {
   "cell_type": "code",
   "execution_count": 77,
   "metadata": {},
   "outputs": [],
   "source": [
    "MAE_ridge = mean_absolute_error(y_test,pred_test_ridge)\n",
    "MSE_ridge = mean_squared_error(y_test,pred_test_ridge)\n",
    "RMSE_ridge = np.sqrt(MSE_ridge)"
   ]
  },
  {
   "cell_type": "code",
   "execution_count": 78,
   "metadata": {},
   "outputs": [
    {
     "data": {
      "text/plain": [
       "0.07984504261033595"
      ]
     },
     "execution_count": 78,
     "metadata": {},
     "output_type": "execute_result"
    }
   ],
   "source": [
    "MAE_ridge"
   ]
  },
  {
   "cell_type": "code",
   "execution_count": 79,
   "metadata": {},
   "outputs": [
    {
     "data": {
      "text/plain": [
       "0.013143063671958196"
      ]
     },
     "execution_count": 79,
     "metadata": {},
     "output_type": "execute_result"
    }
   ],
   "source": [
    "MSE_ridge"
   ]
  },
  {
   "cell_type": "code",
   "execution_count": 80,
   "metadata": {},
   "outputs": [
    {
     "data": {
      "text/plain": [
       "0.11464320159502785"
      ]
     },
     "execution_count": 80,
     "metadata": {},
     "output_type": "execute_result"
    }
   ],
   "source": [
    "RMSE_ridge"
   ]
  },
  {
   "cell_type": "code",
   "execution_count": 81,
   "metadata": {},
   "outputs": [],
   "source": [
    "def MAPE(y_test,pred_test_ridge):\n",
    "    mape = np.mean(np.abs((y_test - pred_test_ridge)/y_test))*100\n",
    "    return mape"
   ]
  },
  {
   "cell_type": "code",
   "execution_count": 82,
   "metadata": {},
   "outputs": [],
   "source": [
    "LR_MAPEridge= MAPE(y_test,pred_test_ridge)"
   ]
  },
  {
   "cell_type": "code",
   "execution_count": 83,
   "metadata": {},
   "outputs": [
    {
     "name": "stdout",
     "output_type": "stream",
     "text": [
      "MAPE:  0.6680567802220602\n"
     ]
    }
   ],
   "source": [
    "print(\"MAPE: \",LR_MAPEridge)"
   ]
  },
  {
   "cell_type": "code",
   "execution_count": 124,
   "metadata": {},
   "outputs": [],
   "source": [
    "test_pred=y_test-pred_test_ridge"
   ]
  },
  {
   "cell_type": "code",
   "execution_count": 127,
   "metadata": {},
   "outputs": [
    {
     "data": {
      "text/plain": [
       "<matplotlib.lines.Line2D at 0x24789d157c0>"
      ]
     },
     "execution_count": 127,
     "metadata": {},
     "output_type": "execute_result"
    },
    {
     "data": {
      "image/png": "[encoded data removed]",
      "text/plain": [
       "<Figure size 432x288 with 1 Axes>"
      ]
     },
     "metadata": {
      "needs_background": "light"
     },
     "output_type": "display_data"
    }
   ],
   "source": [
    "sns.scatterplot(x=y_test,y=test_pred)\n",
    "plt.axhline(y=0,color='magenta',linestyle='--')"
   ]
  },
  {
   "cell_type": "code",
   "execution_count": 128,
   "metadata": {},
   "outputs": [
    {
     "data": {
      "image/png": "[encoded data removed]",
      "text/plain": [
       "<Figure size 1000x1200 with 1 Axes>"
      ]
     },
     "metadata": {
      "needs_background": "light"
     },
     "output_type": "display_data"
    }
   ],
   "source": [
    "fig,ax = plt.subplots(figsize=(10,12),dpi=100)\n",
    "\n",
    "_=sp.stats.probplot(test_pred,plot=ax)"
   ]
  },
  {
   "cell_type": "code",
   "execution_count": 131,
   "metadata": {},
   "outputs": [
    {
     "data": {
      "text/plain": [
       "-94.0"
      ]
     },
     "execution_count": 131,
     "metadata": {},
     "output_type": "execute_result"
    }
   ],
   "source": [
    "accuracy5= round(r2_score(y_test, pred_test_ridge), 2)\n",
    "accuracy5= accuracy5 * 100\n",
    "accuracy5"
   ]
  },
  {
   "cell_type": "markdown",
   "metadata": {},
   "source": [
    "# elastic model"
   ]
  },
  {
   "cell_type": "code",
   "execution_count": 87,
   "metadata": {},
   "outputs": [],
   "source": [
    "#Create  and y \n",
    "X = df.drop('saleprice',axis=1)\n",
    "y = df['saleprice']\n",
    "\n",
    "from sklearn.model_selection import train_test_split\n",
    "X_train,X_test, y_train, y_test = train_test_split(X,y, test_size = 0.3)\n",
    "\n",
    "from sklearn.preprocessing import StandardScaler\n",
    "scaler = StandardScaler()\n",
    "scaler.fit(X_train)\n",
    "X_train = scaler.transform(X_train)\n",
    "X_test = scaler.transform(X_test)"
   ]
  },
  {
   "cell_type": "code",
   "execution_count": 88,
   "metadata": {},
   "outputs": [],
   "source": [
    "elastic_model = ElasticNet()"
   ]
  },
  {
   "cell_type": "code",
   "execution_count": 89,
   "metadata": {},
   "outputs": [
    {
     "data": {
      "text/plain": [
       "ElasticNet()"
      ]
     },
     "execution_count": 89,
     "metadata": {},
     "output_type": "execute_result"
    }
   ],
   "source": [
    "elastic_model.fit(X_train,y_train)"
   ]
  },
  {
   "cell_type": "code",
   "execution_count": 90,
   "metadata": {},
   "outputs": [],
   "source": [
    "pred_test_elastic = elastic_model.predict(X_test)"
   ]
  },
  {
   "cell_type": "code",
   "execution_count": 91,
   "metadata": {},
   "outputs": [
    {
     "data": {
      "text/plain": [
       "array([12.02209928, 12.02209928, 12.02209928, 12.02209928, 12.02209928,\n",
       "       12.02209928, 12.02209928, 12.02209928, 12.02209928, 12.02209928,\n",
       "       12.02209928, 12.02209928, 12.02209928, 12.02209928, 12.02209928,\n",
       "       12.02209928, 12.02209928, 12.02209928, 12.02209928, 12.02209928,\n",
       "       12.02209928, 12.02209928, 12.02209928, 12.02209928, 12.02209928,\n",
       "       12.02209928, 12.02209928, 12.02209928, 12.02209928, 12.02209928,\n",
       "       12.02209928, 12.02209928, 12.02209928, 12.02209928, 12.02209928,\n",
       "       12.02209928, 12.02209928, 12.02209928, 12.02209928, 12.02209928,\n",
       "       12.02209928, 12.02209928, 12.02209928, 12.02209928, 12.02209928,\n",
       "       12.02209928, 12.02209928, 12.02209928, 12.02209928, 12.02209928,\n",
       "       12.02209928, 12.02209928, 12.02209928, 12.02209928, 12.02209928,\n",
       "       12.02209928, 12.02209928, 12.02209928, 12.02209928, 12.02209928,\n",
       "       12.02209928, 12.02209928, 12.02209928, 12.02209928, 12.02209928,\n",
       "       12.02209928, 12.02209928, 12.02209928, 12.02209928, 12.02209928,\n",
       "       12.02209928, 12.02209928, 12.02209928, 12.02209928, 12.02209928,\n",
       "       12.02209928, 12.02209928, 12.02209928, 12.02209928, 12.02209928,\n",
       "       12.02209928, 12.02209928, 12.02209928, 12.02209928, 12.02209928,\n",
       "       12.02209928, 12.02209928, 12.02209928, 12.02209928, 12.02209928,\n",
       "       12.02209928, 12.02209928, 12.02209928, 12.02209928, 12.02209928,\n",
       "       12.02209928, 12.02209928, 12.02209928, 12.02209928, 12.02209928,\n",
       "       12.02209928, 12.02209928, 12.02209928, 12.02209928, 12.02209928,\n",
       "       12.02209928, 12.02209928, 12.02209928, 12.02209928, 12.02209928,\n",
       "       12.02209928, 12.02209928, 12.02209928, 12.02209928, 12.02209928,\n",
       "       12.02209928, 12.02209928, 12.02209928, 12.02209928, 12.02209928,\n",
       "       12.02209928, 12.02209928, 12.02209928, 12.02209928, 12.02209928,\n",
       "       12.02209928, 12.02209928, 12.02209928, 12.02209928, 12.02209928,\n",
       "       12.02209928, 12.02209928, 12.02209928, 12.02209928, 12.02209928,\n",
       "       12.02209928, 12.02209928, 12.02209928, 12.02209928, 12.02209928,\n",
       "       12.02209928, 12.02209928, 12.02209928, 12.02209928, 12.02209928,\n",
       "       12.02209928, 12.02209928, 12.02209928, 12.02209928, 12.02209928,\n",
       "       12.02209928, 12.02209928, 12.02209928, 12.02209928, 12.02209928,\n",
       "       12.02209928, 12.02209928, 12.02209928, 12.02209928, 12.02209928,\n",
       "       12.02209928, 12.02209928, 12.02209928, 12.02209928, 12.02209928,\n",
       "       12.02209928, 12.02209928, 12.02209928, 12.02209928, 12.02209928,\n",
       "       12.02209928, 12.02209928, 12.02209928, 12.02209928, 12.02209928,\n",
       "       12.02209928, 12.02209928, 12.02209928, 12.02209928, 12.02209928,\n",
       "       12.02209928, 12.02209928, 12.02209928, 12.02209928, 12.02209928,\n",
       "       12.02209928, 12.02209928, 12.02209928, 12.02209928, 12.02209928,\n",
       "       12.02209928, 12.02209928, 12.02209928, 12.02209928, 12.02209928,\n",
       "       12.02209928, 12.02209928, 12.02209928, 12.02209928, 12.02209928,\n",
       "       12.02209928, 12.02209928, 12.02209928, 12.02209928, 12.02209928,\n",
       "       12.02209928, 12.02209928, 12.02209928, 12.02209928, 12.02209928,\n",
       "       12.02209928, 12.02209928, 12.02209928, 12.02209928, 12.02209928,\n",
       "       12.02209928, 12.02209928, 12.02209928, 12.02209928, 12.02209928,\n",
       "       12.02209928, 12.02209928, 12.02209928, 12.02209928, 12.02209928,\n",
       "       12.02209928, 12.02209928, 12.02209928, 12.02209928, 12.02209928,\n",
       "       12.02209928, 12.02209928, 12.02209928, 12.02209928, 12.02209928,\n",
       "       12.02209928, 12.02209928, 12.02209928, 12.02209928, 12.02209928,\n",
       "       12.02209928, 12.02209928, 12.02209928, 12.02209928, 12.02209928,\n",
       "       12.02209928, 12.02209928, 12.02209928, 12.02209928, 12.02209928,\n",
       "       12.02209928, 12.02209928, 12.02209928, 12.02209928, 12.02209928,\n",
       "       12.02209928, 12.02209928, 12.02209928, 12.02209928, 12.02209928,\n",
       "       12.02209928, 12.02209928, 12.02209928, 12.02209928, 12.02209928,\n",
       "       12.02209928, 12.02209928, 12.02209928, 12.02209928, 12.02209928,\n",
       "       12.02209928, 12.02209928, 12.02209928, 12.02209928, 12.02209928,\n",
       "       12.02209928, 12.02209928, 12.02209928, 12.02209928, 12.02209928,\n",
       "       12.02209928, 12.02209928, 12.02209928, 12.02209928, 12.02209928,\n",
       "       12.02209928, 12.02209928, 12.02209928, 12.02209928, 12.02209928,\n",
       "       12.02209928, 12.02209928, 12.02209928, 12.02209928, 12.02209928,\n",
       "       12.02209928, 12.02209928, 12.02209928, 12.02209928, 12.02209928,\n",
       "       12.02209928, 12.02209928, 12.02209928, 12.02209928, 12.02209928,\n",
       "       12.02209928, 12.02209928, 12.02209928, 12.02209928, 12.02209928,\n",
       "       12.02209928, 12.02209928, 12.02209928, 12.02209928, 12.02209928,\n",
       "       12.02209928, 12.02209928, 12.02209928, 12.02209928, 12.02209928,\n",
       "       12.02209928, 12.02209928, 12.02209928, 12.02209928, 12.02209928,\n",
       "       12.02209928, 12.02209928, 12.02209928, 12.02209928, 12.02209928,\n",
       "       12.02209928, 12.02209928, 12.02209928, 12.02209928, 12.02209928,\n",
       "       12.02209928, 12.02209928, 12.02209928, 12.02209928, 12.02209928,\n",
       "       12.02209928, 12.02209928, 12.02209928, 12.02209928, 12.02209928,\n",
       "       12.02209928, 12.02209928, 12.02209928, 12.02209928, 12.02209928,\n",
       "       12.02209928, 12.02209928, 12.02209928, 12.02209928, 12.02209928,\n",
       "       12.02209928, 12.02209928, 12.02209928, 12.02209928, 12.02209928,\n",
       "       12.02209928, 12.02209928, 12.02209928, 12.02209928, 12.02209928,\n",
       "       12.02209928, 12.02209928, 12.02209928, 12.02209928, 12.02209928,\n",
       "       12.02209928, 12.02209928, 12.02209928, 12.02209928, 12.02209928,\n",
       "       12.02209928, 12.02209928, 12.02209928, 12.02209928, 12.02209928,\n",
       "       12.02209928, 12.02209928, 12.02209928, 12.02209928, 12.02209928,\n",
       "       12.02209928, 12.02209928, 12.02209928, 12.02209928, 12.02209928,\n",
       "       12.02209928, 12.02209928, 12.02209928, 12.02209928, 12.02209928,\n",
       "       12.02209928, 12.02209928, 12.02209928, 12.02209928, 12.02209928,\n",
       "       12.02209928, 12.02209928, 12.02209928, 12.02209928, 12.02209928,\n",
       "       12.02209928, 12.02209928, 12.02209928, 12.02209928, 12.02209928,\n",
       "       12.02209928, 12.02209928, 12.02209928, 12.02209928, 12.02209928,\n",
       "       12.02209928, 12.02209928, 12.02209928, 12.02209928, 12.02209928,\n",
       "       12.02209928, 12.02209928, 12.02209928, 12.02209928, 12.02209928,\n",
       "       12.02209928, 12.02209928, 12.02209928, 12.02209928, 12.02209928,\n",
       "       12.02209928, 12.02209928, 12.02209928, 12.02209928, 12.02209928,\n",
       "       12.02209928, 12.02209928, 12.02209928, 12.02209928, 12.02209928,\n",
       "       12.02209928, 12.02209928, 12.02209928, 12.02209928, 12.02209928,\n",
       "       12.02209928, 12.02209928, 12.02209928, 12.02209928, 12.02209928,\n",
       "       12.02209928, 12.02209928, 12.02209928, 12.02209928, 12.02209928,\n",
       "       12.02209928, 12.02209928, 12.02209928, 12.02209928, 12.02209928,\n",
       "       12.02209928, 12.02209928, 12.02209928, 12.02209928, 12.02209928,\n",
       "       12.02209928, 12.02209928, 12.02209928, 12.02209928, 12.02209928,\n",
       "       12.02209928, 12.02209928, 12.02209928, 12.02209928, 12.02209928,\n",
       "       12.02209928, 12.02209928, 12.02209928, 12.02209928, 12.02209928,\n",
       "       12.02209928, 12.02209928, 12.02209928, 12.02209928, 12.02209928,\n",
       "       12.02209928, 12.02209928, 12.02209928, 12.02209928, 12.02209928,\n",
       "       12.02209928, 12.02209928, 12.02209928, 12.02209928, 12.02209928,\n",
       "       12.02209928, 12.02209928, 12.02209928, 12.02209928, 12.02209928,\n",
       "       12.02209928, 12.02209928, 12.02209928, 12.02209928, 12.02209928,\n",
       "       12.02209928, 12.02209928, 12.02209928, 12.02209928, 12.02209928,\n",
       "       12.02209928, 12.02209928, 12.02209928, 12.02209928, 12.02209928,\n",
       "       12.02209928, 12.02209928, 12.02209928, 12.02209928, 12.02209928,\n",
       "       12.02209928, 12.02209928, 12.02209928, 12.02209928, 12.02209928,\n",
       "       12.02209928, 12.02209928, 12.02209928, 12.02209928, 12.02209928,\n",
       "       12.02209928, 12.02209928, 12.02209928, 12.02209928, 12.02209928,\n",
       "       12.02209928, 12.02209928, 12.02209928, 12.02209928, 12.02209928,\n",
       "       12.02209928, 12.02209928, 12.02209928, 12.02209928, 12.02209928,\n",
       "       12.02209928, 12.02209928, 12.02209928, 12.02209928, 12.02209928,\n",
       "       12.02209928, 12.02209928, 12.02209928, 12.02209928, 12.02209928,\n",
       "       12.02209928, 12.02209928, 12.02209928, 12.02209928, 12.02209928,\n",
       "       12.02209928, 12.02209928, 12.02209928, 12.02209928, 12.02209928,\n",
       "       12.02209928, 12.02209928, 12.02209928, 12.02209928, 12.02209928,\n",
       "       12.02209928, 12.02209928, 12.02209928, 12.02209928, 12.02209928,\n",
       "       12.02209928, 12.02209928, 12.02209928, 12.02209928, 12.02209928,\n",
       "       12.02209928, 12.02209928, 12.02209928, 12.02209928, 12.02209928,\n",
       "       12.02209928, 12.02209928, 12.02209928, 12.02209928, 12.02209928,\n",
       "       12.02209928, 12.02209928, 12.02209928, 12.02209928, 12.02209928,\n",
       "       12.02209928, 12.02209928, 12.02209928, 12.02209928, 12.02209928,\n",
       "       12.02209928, 12.02209928, 12.02209928, 12.02209928, 12.02209928,\n",
       "       12.02209928, 12.02209928, 12.02209928, 12.02209928, 12.02209928,\n",
       "       12.02209928, 12.02209928, 12.02209928, 12.02209928, 12.02209928,\n",
       "       12.02209928, 12.02209928, 12.02209928, 12.02209928, 12.02209928,\n",
       "       12.02209928, 12.02209928, 12.02209928, 12.02209928, 12.02209928,\n",
       "       12.02209928, 12.02209928, 12.02209928, 12.02209928, 12.02209928,\n",
       "       12.02209928, 12.02209928, 12.02209928, 12.02209928, 12.02209928,\n",
       "       12.02209928, 12.02209928, 12.02209928, 12.02209928, 12.02209928,\n",
       "       12.02209928, 12.02209928, 12.02209928, 12.02209928, 12.02209928,\n",
       "       12.02209928, 12.02209928, 12.02209928, 12.02209928, 12.02209928,\n",
       "       12.02209928, 12.02209928, 12.02209928, 12.02209928, 12.02209928,\n",
       "       12.02209928, 12.02209928, 12.02209928, 12.02209928, 12.02209928,\n",
       "       12.02209928, 12.02209928, 12.02209928, 12.02209928, 12.02209928,\n",
       "       12.02209928, 12.02209928, 12.02209928, 12.02209928, 12.02209928,\n",
       "       12.02209928, 12.02209928, 12.02209928, 12.02209928, 12.02209928,\n",
       "       12.02209928, 12.02209928, 12.02209928, 12.02209928, 12.02209928,\n",
       "       12.02209928, 12.02209928, 12.02209928, 12.02209928, 12.02209928,\n",
       "       12.02209928, 12.02209928, 12.02209928, 12.02209928, 12.02209928,\n",
       "       12.02209928, 12.02209928, 12.02209928, 12.02209928, 12.02209928,\n",
       "       12.02209928, 12.02209928, 12.02209928, 12.02209928, 12.02209928,\n",
       "       12.02209928, 12.02209928, 12.02209928, 12.02209928, 12.02209928,\n",
       "       12.02209928, 12.02209928, 12.02209928, 12.02209928, 12.02209928,\n",
       "       12.02209928, 12.02209928, 12.02209928, 12.02209928, 12.02209928,\n",
       "       12.02209928, 12.02209928, 12.02209928, 12.02209928, 12.02209928,\n",
       "       12.02209928, 12.02209928, 12.02209928, 12.02209928, 12.02209928,\n",
       "       12.02209928, 12.02209928, 12.02209928, 12.02209928, 12.02209928,\n",
       "       12.02209928, 12.02209928, 12.02209928, 12.02209928, 12.02209928,\n",
       "       12.02209928, 12.02209928, 12.02209928, 12.02209928, 12.02209928,\n",
       "       12.02209928, 12.02209928, 12.02209928, 12.02209928, 12.02209928,\n",
       "       12.02209928, 12.02209928, 12.02209928, 12.02209928, 12.02209928,\n",
       "       12.02209928, 12.02209928, 12.02209928, 12.02209928, 12.02209928,\n",
       "       12.02209928, 12.02209928, 12.02209928, 12.02209928, 12.02209928,\n",
       "       12.02209928, 12.02209928, 12.02209928, 12.02209928, 12.02209928,\n",
       "       12.02209928, 12.02209928, 12.02209928, 12.02209928, 12.02209928,\n",
       "       12.02209928, 12.02209928, 12.02209928, 12.02209928, 12.02209928,\n",
       "       12.02209928, 12.02209928, 12.02209928, 12.02209928, 12.02209928,\n",
       "       12.02209928, 12.02209928, 12.02209928, 12.02209928, 12.02209928,\n",
       "       12.02209928, 12.02209928, 12.02209928, 12.02209928, 12.02209928,\n",
       "       12.02209928, 12.02209928, 12.02209928, 12.02209928, 12.02209928,\n",
       "       12.02209928, 12.02209928, 12.02209928, 12.02209928, 12.02209928,\n",
       "       12.02209928, 12.02209928, 12.02209928, 12.02209928, 12.02209928,\n",
       "       12.02209928, 12.02209928, 12.02209928, 12.02209928, 12.02209928,\n",
       "       12.02209928, 12.02209928, 12.02209928, 12.02209928, 12.02209928,\n",
       "       12.02209928, 12.02209928, 12.02209928, 12.02209928, 12.02209928,\n",
       "       12.02209928, 12.02209928, 12.02209928, 12.02209928, 12.02209928,\n",
       "       12.02209928, 12.02209928, 12.02209928, 12.02209928, 12.02209928,\n",
       "       12.02209928, 12.02209928, 12.02209928, 12.02209928, 12.02209928,\n",
       "       12.02209928, 12.02209928, 12.02209928, 12.02209928, 12.02209928,\n",
       "       12.02209928, 12.02209928, 12.02209928, 12.02209928, 12.02209928,\n",
       "       12.02209928, 12.02209928, 12.02209928, 12.02209928, 12.02209928,\n",
       "       12.02209928, 12.02209928, 12.02209928, 12.02209928, 12.02209928,\n",
       "       12.02209928, 12.02209928, 12.02209928, 12.02209928, 12.02209928,\n",
       "       12.02209928, 12.02209928, 12.02209928, 12.02209928, 12.02209928,\n",
       "       12.02209928, 12.02209928, 12.02209928, 12.02209928, 12.02209928,\n",
       "       12.02209928, 12.02209928, 12.02209928, 12.02209928])"
      ]
     },
     "execution_count": 91,
     "metadata": {},
     "output_type": "execute_result"
    }
   ],
   "source": [
    "pred_test_elastic"
   ]
  },
  {
   "cell_type": "code",
   "execution_count": 92,
   "metadata": {},
   "outputs": [],
   "source": [
    "MAE_elastic = mean_absolute_error(y_test,pred_test_elastic)\n",
    "MSE_elastic = mean_squared_error(y_test,pred_test_elastic)\n",
    "RMSE_elastic = np.sqrt(MSE_ridge)"
   ]
  },
  {
   "cell_type": "code",
   "execution_count": 93,
   "metadata": {},
   "outputs": [
    {
     "data": {
      "text/plain": [
       "0.30226368508685725"
      ]
     },
     "execution_count": 93,
     "metadata": {},
     "output_type": "execute_result"
    }
   ],
   "source": [
    "MAE_elastic"
   ]
  },
  {
   "cell_type": "code",
   "execution_count": 94,
   "metadata": {},
   "outputs": [
    {
     "data": {
      "text/plain": [
       "0.15219416287369159"
      ]
     },
     "execution_count": 94,
     "metadata": {},
     "output_type": "execute_result"
    }
   ],
   "source": [
    "MSE_elastic"
   ]
  },
  {
   "cell_type": "code",
   "execution_count": 95,
   "metadata": {},
   "outputs": [
    {
     "data": {
      "text/plain": [
       "0.11464320159502785"
      ]
     },
     "execution_count": 95,
     "metadata": {},
     "output_type": "execute_result"
    }
   ],
   "source": [
    "RMSE_elastic"
   ]
  },
  {
   "cell_type": "code",
   "execution_count": 96,
   "metadata": {},
   "outputs": [],
   "source": [
    "def MAPE(y_test,pred_test_elastic):\n",
    "    mape = np.mean(np.abs((y_test - pred_test_elastic)/y_test))*100\n",
    "    return mape"
   ]
  },
  {
   "cell_type": "code",
   "execution_count": 97,
   "metadata": {},
   "outputs": [],
   "source": [
    "LR_MAPEelastic= MAPE(y_test,pred_test_elastic)"
   ]
  },
  {
   "cell_type": "code",
   "execution_count": 98,
   "metadata": {},
   "outputs": [
    {
     "name": "stdout",
     "output_type": "stream",
     "text": [
      "MAPE:  2.5148886276035514\n"
     ]
    }
   ],
   "source": [
    "print(\"MAPE: \",LR_MAPEelastic)"
   ]
  },
  {
   "cell_type": "code",
   "execution_count": 99,
   "metadata": {},
   "outputs": [
    {
     "data": {
      "text/plain": [
       "<matplotlib.lines.Line2D at 0x24789afaeb0>"
      ]
     },
     "execution_count": 99,
     "metadata": {},
     "output_type": "execute_result"
    },
    {
     "data": {
      "image/png": "[encoded data removed]",
      "text/plain": [
       "<Figure size 432x288 with 1 Axes>"
      ]
     },
     "metadata": {
      "needs_background": "light"
     },
     "output_type": "display_data"
    }
   ],
   "source": [
    "sns.scatterplot(x=y_test,y=pred_test_elastic)\n",
    "plt.axhline(y=0,color='magenta',linestyle='--')"
   ]
  },
  {
   "cell_type": "code",
   "execution_count": 100,
   "metadata": {
    "scrolled": true
   },
   "outputs": [
    {
     "data": {
      "image/png": "[encoded data removed]",
      "text/plain": [
       "<Figure size 1000x1200 with 1 Axes>"
      ]
     },
     "metadata": {
      "needs_background": "light"
     },
     "output_type": "display_data"
    }
   ],
   "source": [
    "fig,ax = plt.subplots(figsize=(10,12),dpi=100)\n",
    "\n",
    "_=sp.stats.probplot(pred_test_elastic,plot=ax)"
   ]
  },
  {
   "cell_type": "code",
   "execution_count": 101,
   "metadata": {},
   "outputs": [
    {
     "data": {
      "text/plain": [
       "-0.0"
      ]
     },
     "execution_count": 101,
     "metadata": {},
     "output_type": "execute_result"
    }
   ],
   "source": [
    "accuracy6= round(r2_score(y_test, pred_test_elastic), 2)\n",
    "accuracy6= accuracy6 * 100\n",
    "accuracy6"
   ]
  },
  {
   "cell_type": "markdown",
   "metadata": {},
   "source": [
    "# ridge cv"
   ]
  },
  {
   "cell_type": "code",
   "execution_count": 102,
   "metadata": {},
   "outputs": [],
   "source": [
    "#Create  and y \n",
    "X = df.drop('saleprice',axis=1)\n",
    "y = df['saleprice']\n",
    "\n",
    "from sklearn.model_selection import train_test_split\n",
    "X_train,X_test, y_train, y_test = train_test_split(X,y, test_size = 0.3)\n",
    "\n",
    "from sklearn.preprocessing import StandardScaler\n",
    "scaler = StandardScaler()\n",
    "scaler.fit(X_train)\n",
    "X_train = scaler.transform(X_train)\n",
    "X_test = scaler.transform(X_test)"
   ]
  },
  {
   "cell_type": "code",
   "execution_count": 103,
   "metadata": {},
   "outputs": [],
   "source": [
    "ridgecv_model = RidgeCV()"
   ]
  },
  {
   "cell_type": "code",
   "execution_count": 104,
   "metadata": {},
   "outputs": [
    {
     "data": {
      "text/plain": [
       "RidgeCV(alphas=array([ 0.1,  1. , 10. ]))"
      ]
     },
     "execution_count": 104,
     "metadata": {},
     "output_type": "execute_result"
    }
   ],
   "source": [
    "ridgecv_model.fit(X_train,y_train)"
   ]
  },
  {
   "cell_type": "code",
   "execution_count": 105,
   "metadata": {},
   "outputs": [],
   "source": [
    "pred_test_ridgecv = ridgecv_model.predict(X_test)"
   ]
  },
  {
   "cell_type": "code",
   "execution_count": 106,
   "metadata": {},
   "outputs": [
    {
     "data": {
      "text/plain": [
       "array([12.04293657, 12.47158867, 12.04211672, 12.22668538, 11.89803504,\n",
       "       11.46198932, 12.03538912, 11.81339866, 12.465064  , 11.25208302,\n",
       "       11.83031721, 11.28466642, 11.67041259, 12.51382328, 11.85470917,\n",
       "       12.2970524 , 11.66390922, 11.53509782, 12.07107032, 11.87313712,\n",
       "       12.68840236, 12.32299721, 12.38554919, 11.80250061, 12.30511777,\n",
       "       12.33980619, 11.6386765 , 11.76839197, 12.80427405, 11.71558632,\n",
       "       12.1704038 , 12.30026647, 11.77533787, 11.74718866, 12.27889172,\n",
       "       11.71761578, 12.34230845, 12.15039405, 11.30280996, 11.67446377,\n",
       "       12.56876022, 12.51320366, 11.89346835, 11.90087458, 12.17316788,\n",
       "       11.64536491, 11.92232198, 11.34876836, 12.42456769, 11.93109618,\n",
       "       12.52086078, 11.82320163, 12.68074782, 11.92955769, 11.97071078,\n",
       "       12.43661594, 11.88815861, 11.72510146, 11.68228699, 12.51629604,\n",
       "       11.83317143, 12.20766152, 12.11288076, 12.21434346, 12.0523773 ,\n",
       "       12.14129009, 12.14164016, 11.72692171, 12.54341313, 12.49437923,\n",
       "       11.94959509, 11.54664793, 11.58769635, 11.77617724, 12.67556992,\n",
       "       11.78749204, 12.03705752, 12.16963939, 12.26213376, 12.58554258,\n",
       "       12.06722985, 12.35684208, 11.70756468, 12.34720184, 11.37889415,\n",
       "       12.21187949, 12.0817075 , 12.28052392, 11.66365198, 12.01655693,\n",
       "       11.720915  , 12.26391002, 11.75708395, 12.01132711, 12.27535507,\n",
       "       12.19390353, 11.96342553, 12.07608944, 11.68693246, 11.89849853,\n",
       "       12.03079903, 12.27686127, 11.848074  , 11.74787994, 11.84845267,\n",
       "       12.307819  , 11.90380255, 11.7675794 , 11.61121062, 12.65622578,\n",
       "       12.1327975 , 11.79386463, 12.44014745, 12.09206316, 11.4833674 ,\n",
       "       12.49283678, 11.84759449, 11.45764388, 11.88930601, 11.73337068,\n",
       "       12.80580081, 12.04657179, 11.99557647, 12.47247959, 11.9205231 ,\n",
       "       11.74679885, 11.15036293, 11.80529827, 12.35257177, 11.24343145,\n",
       "       13.21179475, 11.84453577, 11.86156617, 11.95665157, 12.55226252,\n",
       "       12.28101106, 12.4894922 , 12.47400906, 12.12604466, 12.0532398 ,\n",
       "       12.76296182, 12.7580138 , 11.92851269, 11.94588848, 11.93265217,\n",
       "       12.01061955, 12.32232519, 11.4899928 , 12.00940589, 11.52134677,\n",
       "       11.89003692, 11.7352936 , 12.20589204, 11.92099371, 12.68721923,\n",
       "       12.0616208 , 12.41182866, 12.55597691, 11.87386962, 12.54517531,\n",
       "       12.62243796, 11.98422774, 12.86780575, 11.77493637, 12.19052963,\n",
       "       12.44607056, 12.3835412 , 12.64390923, 12.03044935, 12.43142646,\n",
       "       11.75447515, 12.99425932, 12.58767893, 12.28028622, 11.97535693,\n",
       "       11.75207777, 11.67380978, 12.16638586, 13.20027126, 12.28163853,\n",
       "       11.79272668, 12.40486221, 12.45900356, 11.93863137, 11.91025739,\n",
       "       11.43476619, 12.01309964, 12.06722631, 12.00394153, 11.8259432 ,\n",
       "       11.63478228, 12.37638902, 11.6846002 , 12.29264406, 11.80410058,\n",
       "       11.70503329, 12.0689024 , 11.90106539, 12.38128839, 11.39283877,\n",
       "       12.04925816, 12.67177558, 12.06081535, 11.53956885, 11.13937399,\n",
       "       12.59290984, 12.14331331, 12.6931674 , 11.89247145, 12.49151557,\n",
       "       11.54031914, 13.12890185, 12.12483399, 12.18500655, 11.5809012 ,\n",
       "       12.17534989, 12.87017545, 11.65658481, 11.89405755, 11.84111209,\n",
       "       12.38398096, 11.76566147, 12.43056426, 12.16691557, 12.50890367,\n",
       "       12.04889667, 12.65666174, 12.57411091, 11.90215143, 11.98050259,\n",
       "       11.87821462, 11.80244229, 11.7455227 , 11.74442057, 12.3098029 ,\n",
       "       11.45961401, 11.82603459, 11.94669188, 12.14190979, 11.8230417 ,\n",
       "       12.70823717, 11.86589027, 11.94848467, 11.7960942 , 12.273732  ,\n",
       "       11.57120806, 11.76699065, 11.67935326, 12.53887596, 11.13718801,\n",
       "       12.1729962 , 11.55649485, 11.71243248, 12.54156606, 12.16125411,\n",
       "       12.00524714, 11.2901845 , 12.1075951 , 12.30705139, 11.68882178,\n",
       "       12.08358678, 11.86015366, 12.23097451, 10.56289735, 11.39826591,\n",
       "       12.65755975, 13.14029378, 11.89833893, 11.89701265, 11.68384047,\n",
       "       11.79314057, 11.58858806, 12.65142012, 12.17223026, 12.55376653,\n",
       "       12.11578773, 11.58401416, 11.89240822, 11.77664513, 12.35398713,\n",
       "       12.84603236, 11.94733788, 12.31229096, 12.03865373, 11.88120381,\n",
       "       11.77401463, 11.98803252, 11.51231656, 12.4807512 , 12.01582576,\n",
       "       12.13974566, 11.98229641, 11.49420629, 12.12619951, 11.96173569,\n",
       "       11.85185422, 12.12001286, 11.7624529 , 13.11754346, 12.02937219,\n",
       "       12.35179464, 11.57867481, 11.95563355, 11.84858546, 11.63336   ,\n",
       "       11.70450438, 12.29187136, 12.37093051, 12.62330336, 12.45560821,\n",
       "       11.41421187, 11.70880439, 11.62490398, 12.19723001, 11.33798148,\n",
       "       12.55319416, 11.96081736, 11.77561186, 11.76097568, 12.91280556,\n",
       "       11.66084305, 12.09711517, 11.73507627, 11.87783362, 12.10265918,\n",
       "       11.77496742, 11.90247659, 11.77139371, 11.63212348, 11.57783405,\n",
       "       11.53123061, 11.72280754, 12.39030176, 11.29354281, 11.61818403,\n",
       "       12.45465327, 11.32055527, 11.47041803, 11.95798178, 12.41647549,\n",
       "       12.45485582, 11.57692445, 11.86415866, 11.83760123, 12.16679617,\n",
       "       12.15543084, 12.45975523, 12.92433493, 11.89785992, 11.66770281,\n",
       "       12.39506632, 11.70199535, 13.09643062, 11.82590436, 12.31782525,\n",
       "       11.77763267, 12.44830562, 12.28497783, 12.77279515, 12.08921501,\n",
       "       11.63807331, 12.08743346, 12.1880057 , 12.16640936, 11.79390188,\n",
       "       11.4997038 , 12.10185231, 11.95359308, 12.37451578, 11.90555909,\n",
       "       13.01842293, 11.72873103, 12.09179995, 11.8249785 , 11.62227025,\n",
       "       11.82006251, 12.41944118, 12.09261045, 12.24937638, 12.82304595,\n",
       "       12.64087528, 12.17789714, 12.3617274 , 11.94543687, 11.73818421,\n",
       "       12.16739978, 12.14222149, 12.37098826, 12.28508985, 12.10655742,\n",
       "       12.49303221, 12.28931957, 11.37108606, 11.94761507, 12.5064996 ,\n",
       "       13.07478238, 11.5646502 , 11.79955039, 12.67618013, 12.12098675,\n",
       "       11.92220799, 12.11831123, 11.96351563, 12.2990802 , 12.59796619,\n",
       "       11.629231  , 11.6163122 , 11.65428074, 12.62038578, 11.77895371,\n",
       "       12.72525564, 12.03753617, 11.61338005, 12.15304836, 12.30249113,\n",
       "       11.72657046, 11.60302043, 11.71840175, 11.9275996 , 11.44557864,\n",
       "       12.09562602, 11.80175975, 12.84109345, 11.69511682, 12.08366971,\n",
       "       12.13873723, 12.54638032, 11.29669575, 11.81849693, 11.84390996,\n",
       "       12.51259019, 12.6132846 , 11.55018498, 12.219229  , 11.74092111,\n",
       "       11.88141749, 12.15488333, 11.71328721, 11.96874016, 12.43079183,\n",
       "       11.92396771, 12.1904426 , 12.40836907, 11.37362873, 11.6973628 ,\n",
       "       12.05198545, 12.32430382, 12.16245333, 11.89350383, 12.10932086,\n",
       "       12.14179228, 12.58811795, 12.23252621, 12.26329941, 12.69847396,\n",
       "       11.1805105 , 12.22723604, 12.36150333, 11.6116139 , 12.13710267,\n",
       "       12.77609766, 12.08230915, 12.0645585 , 11.55259386, 11.59987363,\n",
       "       12.14642676, 12.01417016, 12.28310069, 12.23641127, 11.67938124,\n",
       "       11.39727264, 12.05691815, 12.42310686, 12.63742557, 11.91548714,\n",
       "       11.99560443, 12.52379937, 12.08326451, 11.78105012, 11.75236336,\n",
       "       12.27660318, 12.01983914, 11.9416142 , 11.84810561, 11.76823017,\n",
       "       12.20420703, 12.3337374 , 11.98565431, 12.62506984, 12.01889757,\n",
       "       11.84321629, 12.61986592, 11.70327363, 11.98369634, 11.82095733,\n",
       "       11.65318832, 12.03405992, 12.86679096, 12.14736896, 12.11034626,\n",
       "       12.07527581, 12.45045421, 12.06284698, 12.46077575, 12.00562272,\n",
       "       12.17502705, 12.04200557, 11.79307729, 11.76876425, 12.15577475,\n",
       "       11.77420906, 11.77002424, 12.19590996, 12.09920438, 12.0443654 ,\n",
       "       11.55345361, 11.99241635, 12.66383788, 12.20679021, 12.26655104,\n",
       "       11.84204825, 12.26522461, 12.16158987, 12.05163565, 11.71060086,\n",
       "       12.2884828 , 11.80062507, 12.21413686, 11.53502259, 11.75588755,\n",
       "       12.17744838, 11.32818869, 12.57533117, 12.07266754, 12.64153588,\n",
       "       11.90055626, 11.83218286, 11.86328471, 11.4331834 , 12.17793315,\n",
       "       11.57881235, 11.96860228, 12.06450085, 12.33101731, 11.62176245,\n",
       "       11.65473867, 12.07327245, 12.14376314, 11.72349331, 11.77027715,\n",
       "       12.06160244, 12.44298538, 11.89132236, 11.58409363, 11.83991726,\n",
       "       12.35071358, 11.7166496 , 12.11471035, 12.44033726, 11.52602117,\n",
       "       12.07621794, 12.03265366, 12.02065314, 12.6611707 , 11.95759312,\n",
       "       11.60634499, 12.38025916, 12.47320647, 12.09767263, 12.56246848,\n",
       "       11.52451534, 12.06974309, 12.26498061, 11.66730976, 11.42618586,\n",
       "       11.69155449, 11.49768996, 11.58267435, 12.32549177, 11.33952907,\n",
       "       12.21732902, 11.80691558, 11.80536004, 11.72951887, 12.22053343,\n",
       "       11.85600067, 11.17253991, 12.0137793 , 12.05375642, 12.18176975,\n",
       "       11.84467005, 12.05619232, 11.61042362, 11.83035555, 11.91302274,\n",
       "       11.69648133, 11.83404234, 11.08034722, 11.68853826, 12.01188144,\n",
       "       12.46571767, 11.16591166, 13.16011425, 11.9159092 , 11.39384572,\n",
       "       12.40808768, 12.19703234, 11.72818041, 12.25770757, 12.30647312,\n",
       "       12.16583274, 12.26851993, 11.93767988, 12.7088492 , 11.82305692,\n",
       "       11.92472944, 11.84674438, 11.70984818, 12.25029678, 11.90400586,\n",
       "       12.43239909, 11.48235892, 11.64221067, 12.56791091, 12.25857252,\n",
       "       11.88592469, 11.55627548, 12.0035244 , 12.67628614, 12.53698967,\n",
       "       12.09214828, 11.6157573 , 12.4629656 , 11.84521158, 11.80488332,\n",
       "       12.05320816, 12.10811504, 12.27955036, 11.34405175, 12.44878473,\n",
       "       12.20382102, 11.54470625, 12.10184532, 11.79499692, 12.03012222,\n",
       "       11.99259086, 12.63598018, 12.30179598, 13.19999394, 11.58270442,\n",
       "       11.85121273, 12.29338492, 12.31072609, 11.70776884, 12.02976153,\n",
       "       11.85862736, 12.21235514, 11.5543368 , 11.86736986, 12.40701827,\n",
       "       12.18884829, 12.17395578, 11.85435638, 12.39570083, 11.98341081,\n",
       "       12.0562301 , 12.25317101, 12.24307438, 12.90946454, 12.34346579,\n",
       "       12.12733353, 11.54830461, 12.69937223, 11.83523913, 11.91988298,\n",
       "       11.64437725, 12.0678074 , 11.42371475, 13.07582656, 11.37861596,\n",
       "       11.7600201 , 12.16812088, 11.8303855 , 11.32243857, 11.81407987,\n",
       "       11.72242267, 11.98922138, 11.7185906 , 11.53152794, 12.54932676,\n",
       "       12.68606315, 12.79990372, 11.77272614, 11.92241401, 11.70625503,\n",
       "       12.13887147, 11.70199918, 11.85649734, 11.83326418, 12.33081251,\n",
       "       11.74155745, 11.73777683, 11.48083117, 11.91869645, 11.82269954,\n",
       "       11.70185522, 11.87207689, 11.92343855, 12.31448323, 12.35704313,\n",
       "       11.61958916, 12.37375555, 12.52427539, 12.21066256, 11.64282161,\n",
       "       11.60513983, 11.79666989, 11.54695661, 11.85302432, 11.56708317,\n",
       "       11.94848578, 12.16414691, 11.85422027, 11.81170781, 11.57862691,\n",
       "       12.00601303, 12.00699566, 11.70055527, 12.82724192, 11.70390847,\n",
       "       11.91364705, 12.65314789, 11.86679779, 12.30973747, 11.92193354,\n",
       "       12.1608174 , 11.56047092, 12.7824875 , 12.13951204, 11.94217881,\n",
       "       11.80384062, 12.30400441, 12.31229362, 11.9574176 , 11.61127282,\n",
       "       12.4375494 , 11.47660824, 12.22711118, 11.88125416, 11.86222234,\n",
       "       12.61831642, 12.955861  , 11.68386598, 12.3914164 , 11.64395499,\n",
       "       11.66471255, 11.78658908, 11.81384281, 11.58378559, 12.14269734,\n",
       "       11.87667938, 12.17449031, 11.5086842 , 11.64593015, 11.74636808,\n",
       "       12.05450959, 12.49604178, 11.45621403, 11.49118295, 12.14044309,\n",
       "       11.96071878, 11.42199022, 11.7018001 , 12.52547775, 12.04524425,\n",
       "       12.18332493, 11.80243827, 11.9044717 , 12.64072715, 11.90328113,\n",
       "       11.96658262, 11.58194811, 12.2442629 , 11.81669118, 11.56860213,\n",
       "       11.7668688 , 11.75829709, 12.15960589, 11.67837023, 12.03196579,\n",
       "       11.98508794, 11.49382739, 12.4964065 , 12.65250929, 11.01593952,\n",
       "       12.16295587, 12.25201592, 12.59782346, 11.83263278, 12.38299793,\n",
       "       12.18018027, 11.7094695 , 12.24765435, 11.92939013, 11.95476385,\n",
       "       12.37225163, 12.26952041, 11.6555735 , 11.64366075, 12.09730499,\n",
       "       11.62542896, 13.07903905, 11.71586445, 11.02035007, 12.22233887,\n",
       "       11.99176588, 11.65424453, 12.9262752 , 11.98932482, 12.53650793,\n",
       "       12.16141539, 12.33359858, 11.92244091, 12.33725966, 12.15293644,\n",
       "       12.03195825, 12.29893511, 11.61085649, 11.93143856, 11.92078716,\n",
       "       11.47110112, 12.3620021 , 12.92757772, 12.26703874, 11.85200829,\n",
       "       11.71455872, 12.10198177, 12.1140771 , 12.75854762, 11.72421932,\n",
       "       12.35760299, 11.99685363, 12.03956119, 11.62475038, 11.83840419,\n",
       "       11.73757992, 11.70912719, 11.94518949, 12.71650585, 11.64613881,\n",
       "       12.47217925, 11.8302783 , 11.99094711, 12.02341974, 12.15339555,\n",
       "       11.9064728 , 11.12898755, 11.42487028, 11.85895809, 11.88916323,\n",
       "       12.44986465, 12.2300188 , 12.7705563 , 11.62779857, 12.07388975,\n",
       "       12.66917639, 11.60974037, 12.18067332, 11.75999877, 12.16918196,\n",
       "       11.37781597, 11.82375165, 11.82894468, 11.53511799])"
      ]
     },
     "execution_count": 106,
     "metadata": {},
     "output_type": "execute_result"
    }
   ],
   "source": [
    "pred_test_ridgecv"
   ]
  },
  {
   "cell_type": "code",
   "execution_count": 107,
   "metadata": {},
   "outputs": [],
   "source": [
    "MAE_ridgecv = mean_absolute_error(y_test,pred_test_ridgecv)\n",
    "MSE_ridgecv = mean_squared_error(y_test,pred_test_ridgecv)\n",
    "RMSE_ridgecv = np.sqrt(MSE_ridge)"
   ]
  },
  {
   "cell_type": "code",
   "execution_count": 108,
   "metadata": {},
   "outputs": [
    {
     "data": {
      "text/plain": [
       "0.0777301588063357"
      ]
     },
     "execution_count": 108,
     "metadata": {},
     "output_type": "execute_result"
    }
   ],
   "source": [
    "MAE_ridgecv"
   ]
  },
  {
   "cell_type": "code",
   "execution_count": 109,
   "metadata": {},
   "outputs": [
    {
     "data": {
      "text/plain": [
       "0.011817268880913298"
      ]
     },
     "execution_count": 109,
     "metadata": {},
     "output_type": "execute_result"
    }
   ],
   "source": [
    "MSE_ridgecv "
   ]
  },
  {
   "cell_type": "code",
   "execution_count": 110,
   "metadata": {},
   "outputs": [
    {
     "data": {
      "text/plain": [
       "0.11464320159502785"
      ]
     },
     "execution_count": 110,
     "metadata": {},
     "output_type": "execute_result"
    }
   ],
   "source": [
    "RMSE_ridgecv "
   ]
  },
  {
   "cell_type": "code",
   "execution_count": 111,
   "metadata": {},
   "outputs": [],
   "source": [
    "def MAPE(y_test,pred_test_ridgecv):\n",
    "    mape = np.mean(np.abs((y_test - pred_test_elastic)/y_test))*100\n",
    "    return mape"
   ]
  },
  {
   "cell_type": "code",
   "execution_count": 112,
   "metadata": {},
   "outputs": [],
   "source": [
    "LR_MAPEridgecv= MAPE(y_test,pred_test_ridgecv)"
   ]
  },
  {
   "cell_type": "code",
   "execution_count": 113,
   "metadata": {},
   "outputs": [
    {
     "name": "stdout",
     "output_type": "stream",
     "text": [
      "MAPE:  2.58593982185818\n"
     ]
    }
   ],
   "source": [
    "print(\"MAPE: \",LR_MAPEridgecv)"
   ]
  },
  {
   "cell_type": "code",
   "execution_count": 132,
   "metadata": {},
   "outputs": [],
   "source": [
    "test_pred=y_test-pred_test_ridgecv"
   ]
  },
  {
   "cell_type": "code",
   "execution_count": 133,
   "metadata": {},
   "outputs": [
    {
     "data": {
      "text/plain": [
       "<matplotlib.lines.Line2D at 0x24789dc9be0>"
      ]
     },
     "execution_count": 133,
     "metadata": {},
     "output_type": "execute_result"
    },
    {
     "data": {
      "image/png": "[encoded data removed]",
      "text/plain": [
       "<Figure size 432x288 with 1 Axes>"
      ]
     },
     "metadata": {
      "needs_background": "light"
     },
     "output_type": "display_data"
    }
   ],
   "source": [
    "sns.scatterplot(x=y_test,y=test_pred)\n",
    "plt.axhline(y=0,color='magenta',linestyle='--')"
   ]
  },
  {
   "cell_type": "code",
   "execution_count": 134,
   "metadata": {},
   "outputs": [
    {
     "data": {
      "image/png": "[encoded data removed]",
      "text/plain": [
       "<Figure size 1000x1200 with 1 Axes>"
      ]
     },
     "metadata": {
      "needs_background": "light"
     },
     "output_type": "display_data"
    }
   ],
   "source": [
    "fig,ax = plt.subplots(figsize=(10,12),dpi=100)\n",
    "\n",
    "_=sp.stats.probplot(test_pred,plot=ax)"
   ]
  },
  {
   "cell_type": "code",
   "execution_count": 135,
   "metadata": {},
   "outputs": [
    {
     "data": {
      "text/plain": [
       "92.0"
      ]
     },
     "execution_count": 135,
     "metadata": {},
     "output_type": "execute_result"
    }
   ],
   "source": [
    "accuracy7= round(r2_score(y_test, pred_test_ridgecv), 2)\n",
    "accuracy7= accuracy7 * 100\n",
    "accuracy7"
   ]
  },
  {
   "cell_type": "code",
   "execution_count": 117,
   "metadata": {},
   "outputs": [
    {
     "name": "stdout",
     "output_type": "stream",
     "text": [
      "lasso:  2.644988975775431 accuracy:  -1.0\n"
     ]
    }
   ],
   "source": [
    "print(\"lasso: \",LR_MAPElasso, \"accuracy: \",accuracy1)"
   ]
  },
  {
   "cell_type": "code",
   "execution_count": 118,
   "metadata": {},
   "outputs": [
    {
     "name": "stdout",
     "output_type": "stream",
     "text": [
      "lasso cv: \t 0.6559918525235781 accuracy:  93.0\n"
     ]
    }
   ],
   "source": [
    "print(\"lasso cv: \\t\",LR_MAPElassocv, \"accuracy: \",accuracy2)"
   ]
  },
  {
   "cell_type": "code",
   "execution_count": 119,
   "metadata": {},
   "outputs": [
    {
     "name": "stdout",
     "output_type": "stream",
     "text": [
      "Linear regression\t 1036780378.2862743 accuracy:  -2.2991411294225558e+21\n"
     ]
    }
   ],
   "source": [
    "print(\"Linear regression\\t\",LR_MAPE, \"accuracy: \",accuracy3)\n"
   ]
  },
  {
   "cell_type": "code",
   "execution_count": 120,
   "metadata": {},
   "outputs": [
    {
     "name": "stdout",
     "output_type": "stream",
     "text": [
      "Gridcv with elastic :\t 0.6712208538019672 accuracy:  92.0\n"
     ]
    }
   ],
   "source": [
    "print(\"Gridcv with elastic :\\t\",LR_MAPEgrid, \"accuracy: \",accuracy4)\n"
   ]
  },
  {
   "cell_type": "code",
   "execution_count": 121,
   "metadata": {},
   "outputs": [
    {
     "name": "stdout",
     "output_type": "stream",
     "text": [
      "ridge :\t 0.6680567802220602 accuracy:  92.0\n"
     ]
    }
   ],
   "source": [
    "print(\"ridge :\\t\",LR_MAPEridge, \"accuracy: \",accuracy5)\n"
   ]
  },
  {
   "cell_type": "code",
   "execution_count": 122,
   "metadata": {},
   "outputs": [
    {
     "name": "stdout",
     "output_type": "stream",
     "text": [
      "elastic :\t 2.5148886276035514 accuracy:  -0.0\n"
     ]
    }
   ],
   "source": [
    "print(\"elastic :\\t\",LR_MAPEelastic, \"accuracy: \",accuracy6)\n"
   ]
  },
  {
   "cell_type": "code",
   "execution_count": 123,
   "metadata": {},
   "outputs": [
    {
     "name": "stdout",
     "output_type": "stream",
     "text": [
      "ridge cv: \t 2.58593982185818 accuracy:  92.0\n"
     ]
    }
   ],
   "source": [
    "print(\"ridge cv: \\t\",LR_MAPEridgecv, \"accuracy: \",accuracy7)"
   ]
  }
 ],
 "metadata": {
  "kernelspec": {
   "display_name": "Python 3",
   "language": "python",
   "name": "python3"
  },
  "language_info": {
   "codemirror_mode": {
    "name": "ipython",
    "version": 3
   },
   "file_extension": ".py",
   "mimetype": "text/x-python",
   "name": "python",
   "nbconvert_exporter": "python",
   "pygments_lexer": "ipython3",
   "version": "3.8.5"
  }
 },
 "nbformat": 4,
 "nbformat_minor": 5
}
