{
 "cells": [
  {
   "cell_type": "code",
   "execution_count": 107,
   "id": "mechanical-voltage",
   "metadata": {},
   "outputs": [],
   "source": [
    "import numpy as np\n",
    "import pandas as pd\n",
    "import matplotlib.pyplot as plt\n",
    "import seaborn as sns\n",
    "import scipy as sp"
   ]
  },
  {
   "cell_type": "code",
   "execution_count": 108,
   "id": "excited-helen",
   "metadata": {},
   "outputs": [],
   "source": [
    "df = pd.read_csv('Ames Housing Data Encoding Edited.csv')"
   ]
  },
  {
   "cell_type": "code",
   "execution_count": 109,
   "id": "julian-specialist",
   "metadata": {},
   "outputs": [],
   "source": [
    "df = df[['SalePrice','Year Built', 'Year Remod/Add', 'Mas Vnr Area', 'Total Bsmt SF','1st Flr SF', 'Gr Liv Area', 'Garage Area']]"
   ]
  },
  {
   "cell_type": "code",
   "execution_count": 110,
   "id": "hourly-clearance",
   "metadata": {},
   "outputs": [],
   "source": [
    "X = df.drop('SalePrice',axis=1)\n",
    "y = df['SalePrice']"
   ]
  },
  {
   "cell_type": "code",
   "execution_count": 111,
   "id": "prepared-verse",
   "metadata": {},
   "outputs": [],
   "source": [
    "# TRAIN TEST SPLIT\n",
    "\n",
    "from sklearn.model_selection import train_test_split\n",
    "X_train, X_test, y_train, y_test = train_test_split(X, y, test_size=0.3, random_state=101)\n",
    "\n",
    "# SCALE DATA\n",
    "\n",
    "from sklearn.preprocessing import StandardScaler\n",
    "scaler = StandardScaler()\n",
    "scaler.fit(X_train)\n",
    "X_train = scaler.transform(X_train)\n",
    "X_test = scaler.transform(X_test)"
   ]
  },
  {
   "cell_type": "code",
   "execution_count": 112,
   "id": "interesting-thomson",
   "metadata": {},
   "outputs": [],
   "source": [
    "from sklearn.linear_model import LassoCV"
   ]
  },
  {
   "cell_type": "code",
   "execution_count": 113,
   "id": "outdoor-queensland",
   "metadata": {},
   "outputs": [],
   "source": [
    "model = LassoCV()"
   ]
  },
  {
   "cell_type": "code",
   "execution_count": 114,
   "id": "funky-falls",
   "metadata": {},
   "outputs": [
    {
     "data": {
      "text/plain": [
       "LassoCV()"
      ]
     },
     "execution_count": 114,
     "metadata": {},
     "output_type": "execute_result"
    }
   ],
   "source": [
    "model.fit(X_train, y_train)"
   ]
  },
  {
   "cell_type": "code",
   "execution_count": 115,
   "id": "meaningful-colombia",
   "metadata": {},
   "outputs": [
    {
     "data": {
      "text/plain": [
       "0.0001128778288282451"
      ]
     },
     "execution_count": 115,
     "metadata": {},
     "output_type": "execute_result"
    }
   ],
   "source": [
    "model.alpha_"
   ]
  },
  {
   "cell_type": "code",
   "execution_count": 116,
   "id": "shaped-reach",
   "metadata": {},
   "outputs": [],
   "source": [
    "y_pred = model.predict(X_test)"
   ]
  },
  {
   "cell_type": "code",
   "execution_count": 117,
   "id": "focal-liver",
   "metadata": {},
   "outputs": [
    {
     "data": {
      "text/plain": [
       "array([5.14816771, 5.18437962, 5.07434585, 5.30330789, 5.3564137 ,\n",
       "       5.11753676, 5.74740455, 5.08616341, 5.1401709 , 5.33179354,\n",
       "       5.04103097, 5.26256323, 5.1450787 , 5.41749958, 5.64763418,\n",
       "       5.12754471, 5.39349155, 5.34923116, 5.10758886, 5.59051821,\n",
       "       5.15662679, 5.1313651 , 5.30115159, 5.33318222, 5.09856591,\n",
       "       5.26506094, 5.09746808, 5.13169204, 5.17581578, 5.09776483,\n",
       "       5.14410111, 5.31708903, 5.23036471, 5.29281482, 5.3083349 ,\n",
       "       4.96214603, 5.19482911, 5.06139055, 5.2549336 , 5.12556416,\n",
       "       5.22787892, 5.32133209, 5.07327426, 5.05340445, 5.43643816,\n",
       "       5.10805839, 5.27783117, 5.5094822 , 5.18440602, 5.2042498 ,\n",
       "       5.19438002, 5.39613536, 5.26458979, 5.30828225, 4.86580304,\n",
       "       5.12731136, 5.09155071, 5.03252624, 5.27971081, 5.32355395,\n",
       "       5.34553779, 5.30536222, 5.07107085, 5.36994342, 5.18914052,\n",
       "       5.29460894, 5.05582829, 5.0022787 , 5.23241607, 4.90554858,\n",
       "       5.29205832, 5.04134997, 5.5137923 , 5.26836033, 5.41571551,\n",
       "       5.15362413, 5.49496167, 5.50421639, 5.15144772, 5.17602455,\n",
       "       5.42292317, 5.18198696, 5.08105341, 5.51242284, 5.5093974 ,\n",
       "       5.17602455, 5.06166969, 5.05751643, 5.06992341, 5.4174302 ,\n",
       "       5.05001255, 5.20333241, 5.25495288, 5.09869116, 5.09393818,\n",
       "       5.39902963, 5.1080174 , 5.08505284, 5.27944959, 5.45162193,\n",
       "       5.14377339, 5.37727367, 5.42530863, 5.40814855, 5.51542554,\n",
       "       5.14380495, 5.30188808, 5.23410629, 5.30374618, 5.32374347,\n",
       "       5.25904144, 5.30951749, 5.44629088, 5.17732929, 5.35166185,\n",
       "       5.06192976, 5.06792468, 5.30450724, 5.04771785, 5.28649123,\n",
       "       5.32431008, 5.30992642, 5.12262025, 5.0796956 , 5.13537668,\n",
       "       5.27904624, 5.38408283, 5.01059504, 4.97295547, 5.32454523,\n",
       "       5.25974445, 5.4929918 , 5.15125206, 5.32657789, 5.221985  ,\n",
       "       5.12895721, 5.17551393, 5.44049761, 5.19445526, 5.04598352,\n",
       "       5.22804151, 4.98526925, 5.26770362, 5.35231088, 5.20317746,\n",
       "       5.11315654, 5.28359363, 5.42994617, 5.12423142, 4.90020786,\n",
       "       5.29389628, 5.03330936, 5.23088877, 5.35026963, 5.46731438,\n",
       "       5.30385049, 5.05508069, 5.10137379, 5.08367325, 5.07203425,\n",
       "       5.20418149, 5.11947596, 5.10744618, 5.13794014, 5.31291642,\n",
       "       5.04649869, 5.10421957, 5.17447364, 5.39722776, 5.20665643,\n",
       "       5.50145085, 5.08647126, 5.02508817, 5.07754214, 5.38525395,\n",
       "       5.10562409, 5.31799297, 4.93598868, 5.38275883, 5.35111163,\n",
       "       5.24668506, 5.17940459, 5.09632195, 5.21561438, 5.54526939,\n",
       "       5.15009587, 5.08367237, 5.25203407, 5.43037851, 5.11628494,\n",
       "       5.17216774, 5.44607444, 5.27036665, 5.23016996, 5.11872243,\n",
       "       4.94314534, 5.48139459, 5.43620126, 5.26547812, 5.08489881,\n",
       "       5.03663093, 5.57515834, 5.18025285, 5.10506027, 5.27875683,\n",
       "       5.16876265, 5.04876055, 5.31978223, 5.06890847, 5.29686963,\n",
       "       5.61677225, 5.33020421, 5.53611854, 5.41193092, 5.27480419,\n",
       "       5.07395595, 5.10834273, 5.10357414, 5.06914349, 4.86651066,\n",
       "       5.10879868, 5.452355  , 5.11292868, 5.09700785, 5.2328079 ,\n",
       "       5.04153861, 5.04107093, 5.2733593 , 5.12504011, 5.5397843 ,\n",
       "       5.1109396 , 5.35396805, 5.20353347, 4.98985679, 5.12596774,\n",
       "       5.22566424, 5.2338419 , 4.9434869 , 5.13877061, 5.07102677,\n",
       "       5.32900998, 5.21717613, 5.40165579, 5.28110227, 5.2764713 ,\n",
       "       5.2549336 , 4.86306491, 5.55712023, 5.22868554, 5.34259632,\n",
       "       5.35482365, 5.38715276, 5.11307932, 5.341057  , 5.56884464,\n",
       "       5.26663547, 5.32243177, 5.37237641, 5.17771851, 5.15524974,\n",
       "       5.36329906, 5.03871178, 5.29709664, 5.01198818, 5.34274629,\n",
       "       5.25618564, 5.34769005, 5.44098083, 5.32445067, 5.14452663,\n",
       "       5.50207773, 5.17878053, 5.27824058, 5.17017235, 5.2493167 ,\n",
       "       5.29362993, 5.10632315, 5.29445237, 5.32857122, 5.53434042,\n",
       "       5.49291758, 5.0915936 , 5.01970396, 5.26493678, 5.15555702,\n",
       "       5.41542822, 5.06425123, 5.31893679, 5.03626321, 5.27824058,\n",
       "       5.36248188, 5.49715929, 5.47690902, 5.13160571, 5.4504312 ,\n",
       "       5.22006263, 5.14875106, 5.33049979, 5.29401581, 5.05248212,\n",
       "       5.05487324, 5.28012431, 5.12331967, 4.9002782 , 5.28721134,\n",
       "       5.34294735, 5.10020836, 5.10692744, 5.3810812 , 5.6763193 ,\n",
       "       5.44371577, 5.53574967, 5.21675836, 5.33813558, 5.43831905,\n",
       "       5.14422   , 5.23686052, 5.1843846 , 5.27994013, 5.33029389,\n",
       "       5.06179985, 5.48198274, 5.12923391, 5.15240922, 5.04689866,\n",
       "       5.31338279, 5.23885612, 5.34158497, 5.21614088, 5.12566892,\n",
       "       5.13616763, 5.13701399, 5.19369317, 5.23485006, 5.51180995,\n",
       "       5.17925564, 5.61109581, 5.38222282, 5.21003418, 5.14315814,\n",
       "       5.27821527, 5.37778929, 5.08727463, 5.29301252, 5.2910984 ,\n",
       "       5.39950283, 5.05100342, 5.33882438, 5.42505875, 5.33001709,\n",
       "       5.01294073, 5.27743624, 5.1457882 , 5.08272228, 5.44585297,\n",
       "       5.44921107, 5.18417209, 5.12018148, 5.4290344 , 5.18009912,\n",
       "       5.50150776, 5.18748554, 5.04163478, 5.15573185, 5.29336092,\n",
       "       5.22845114, 5.35603607, 5.09955064, 5.18916667, 5.57186815,\n",
       "       5.37725885, 5.34546949, 5.01677055, 5.12770656, 5.14168751,\n",
       "       5.12901417, 5.27459033, 5.12975301, 4.96775946, 4.93848335,\n",
       "       5.140267  , 5.08599323, 5.132899  , 5.09016228, 5.39484909,\n",
       "       5.30971825, 5.34795755, 5.10149278, 5.30263538, 5.04376135,\n",
       "       5.08122404, 5.01641534, 5.43787204, 5.19388978, 5.30014714,\n",
       "       5.01197128, 5.01070019, 5.25632784, 5.35744384, 5.11768293,\n",
       "       5.25957876, 5.23963482, 5.22807138, 5.14929203, 5.47847914,\n",
       "       5.14150211, 5.10022565, 5.24929891, 5.13110487, 5.19113302,\n",
       "       5.61483825, 5.13641982, 5.16081174, 5.16874349, 5.37586564,\n",
       "       5.61732658, 5.28061428, 5.05008123, 4.91440698, 5.29053973,\n",
       "       5.02772628, 5.16025276, 5.23280717, 5.19241913, 5.32798014,\n",
       "       5.05326075, 5.09220265, 5.40539736, 5.25520572, 5.0102389 ,\n",
       "       5.28386663, 5.04172024, 5.19831115, 5.35645866, 5.42120366,\n",
       "       5.21378416, 5.13194721, 5.48049112, 5.13893236, 5.49753711,\n",
       "       5.19492539, 5.23940217, 5.35628223, 4.98594019, 4.9599809 ,\n",
       "       5.15988236, 5.2879857 , 5.18230657, 5.13416506, 5.60245247,\n",
       "       5.19204485, 5.25461607, 5.27212074, 5.36587465, 5.37725885,\n",
       "       5.06356454, 5.03785695, 5.06905381, 4.93379387, 5.21845036,\n",
       "       5.21668808, 5.12050047, 5.23812356, 5.31193068, 5.24556135,\n",
       "       5.36009569, 5.10482781, 5.49304279, 5.35583084, 5.20360473,\n",
       "       5.24892745, 5.08079435, 4.97198926, 5.31863004, 5.15218552,\n",
       "       5.3187904 , 5.25109882, 5.08230421, 5.44453246, 5.2773711 ,\n",
       "       5.16370026, 5.27936513, 5.08565937, 5.44714894, 5.15040031,\n",
       "       5.31417282, 5.27046687, 5.07947032, 5.01377931, 5.20803561,\n",
       "       5.105292  , 5.19956552, 5.12199658, 5.15759076, 5.01619522,\n",
       "       5.15274832, 5.09823942, 5.42185627, 5.28110227, 5.14930488,\n",
       "       5.21274801, 5.23375439, 5.21805709, 5.4222101 , 5.27544732,\n",
       "       5.51333772, 5.09529267, 5.05245874, 5.11634962, 5.25831992,\n",
       "       5.17119704, 4.99149688, 5.07727749, 5.19754361, 5.09465244,\n",
       "       5.25785682, 5.12540589, 5.05236073, 5.42593454, 5.10618971,\n",
       "       5.23307005, 5.1031526 , 5.2338684 , 4.99673402, 5.28826205,\n",
       "       4.95460879, 5.28450216, 5.44097067, 4.91196677, 5.04521974,\n",
       "       5.43426691, 5.05853835, 5.13537456, 5.38761229, 5.14920392,\n",
       "       5.332932  , 5.38200025, 5.21279143, 5.17864368, 5.18016918,\n",
       "       5.00994686, 5.06727802, 5.06074484, 5.16518945, 5.1047043 ,\n",
       "       5.33425827, 5.18611302, 5.42584446, 5.28837964, 5.33479368,\n",
       "       5.20570184, 5.25081243, 5.17745122, 5.19395523, 5.12631251,\n",
       "       5.16773794, 5.32390132, 5.1406068 , 5.3209855 , 5.08569145,\n",
       "       5.14408378, 5.04377375, 5.40337023, 5.17314098, 5.20332815,\n",
       "       5.21553028, 5.39293706, 5.34419598, 4.95923628, 5.22731373,\n",
       "       5.45388595, 5.26208351, 5.14565783, 5.18683355, 5.56407859,\n",
       "       5.12269975, 5.04774657, 5.16165629, 5.03772485, 5.11686613,\n",
       "       5.04472968, 5.12190318, 5.0813307 , 5.44883098, 5.47544629,\n",
       "       5.26986336, 5.50991939, 4.87246008, 5.35019453, 5.25550689,\n",
       "       5.36769759, 5.0651449 , 5.10761462, 5.24972029, 5.4159697 ,\n",
       "       5.07758188, 4.9586193 , 5.25293409, 5.13135714, 5.30407074,\n",
       "       5.05788404, 5.0721183 , 5.43849662, 5.1309843 , 5.14524848,\n",
       "       5.52292538, 5.34094254, 5.13533955, 5.20620263, 5.23136611,\n",
       "       5.25480267, 5.24413375, 5.20516462, 5.19827111, 5.38280608,\n",
       "       5.31793116, 5.18597793, 5.24486369, 5.25721046, 5.27717028,\n",
       "       5.26113152, 5.16527734, 5.35462973, 5.11858896, 5.34980194,\n",
       "       5.15780181, 5.06553597, 5.29418512, 4.95598117, 5.1605145 ,\n",
       "       5.37992706, 4.93799877, 5.21379625, 5.29547512, 5.30745456,\n",
       "       5.17894089, 5.12433827, 5.08356688, 4.99454018, 5.09844957,\n",
       "       5.11543556, 4.97993153, 5.24432577, 5.40216107, 5.2336406 ,\n",
       "       5.43618161, 5.34184395, 5.31260075, 5.14532867, 5.26451735,\n",
       "       5.25838559, 5.09700325, 5.28732904, 5.05636795, 5.4344142 ,\n",
       "       5.21634783, 5.50091391, 5.26799798, 5.30751029, 5.30604399,\n",
       "       5.18392099, 5.27412423, 5.34445142, 4.96835068, 5.58689262,\n",
       "       5.01881207, 5.1069315 , 5.07127345, 5.33533546, 5.08126568,\n",
       "       5.18225643, 5.04495382, 5.08325935, 5.27744649, 5.30386204,\n",
       "       5.15439619, 5.38982818, 5.12459368, 5.11100055, 5.5232133 ,\n",
       "       5.06118075, 4.92877647, 5.31765339, 5.15166349, 5.16040411,\n",
       "       5.12804086, 5.29312421, 5.31122154, 5.50128153, 5.30373625,\n",
       "       5.29743462, 5.37233347, 5.53377092, 5.50013089, 4.94728133,\n",
       "       5.33305495, 5.24145281, 5.46881286, 4.99801523, 5.04816901,\n",
       "       4.95314974, 5.22979586, 5.12325158, 5.0808737 , 5.52143509,\n",
       "       5.12202045, 5.01588762, 5.20422461, 5.52603375, 5.40213358,\n",
       "       5.08445935, 5.1967815 , 5.02142447, 5.16425987, 5.05052352,\n",
       "       5.31395417, 5.31324273, 4.89040559, 5.257011  , 5.46327851,\n",
       "       5.58074813, 5.41717812, 5.32862591, 5.03943903, 5.45412442,\n",
       "       4.94360921, 5.39930984, 5.15288948, 5.24056257, 4.93703156,\n",
       "       5.42566553, 5.50190908, 5.19379115, 5.19492539, 5.30238598,\n",
       "       5.4622149 , 5.03870015, 5.3834068 , 5.17774533, 5.25880692,\n",
       "       5.31650947, 5.07273833, 5.23203373, 5.1967815 , 4.96604935,\n",
       "       5.08297179, 5.19787287, 5.43576302, 5.28450763, 5.32795828,\n",
       "       5.09155651, 5.28277691, 5.17421694, 5.39053959, 5.15060925,\n",
       "       5.23894009, 4.99181074, 5.15465299, 5.43499188, 4.95231749,\n",
       "       5.16109605, 5.08059945, 5.23122822, 5.36064489, 5.21374114,\n",
       "       5.04865542, 5.17629345, 5.33287566, 5.04395096, 5.5246824 ,\n",
       "       5.09256815, 5.05055553, 5.37310667, 5.22211341, 5.11806589,\n",
       "       5.0988703 , 5.20771502, 5.11716692, 5.10388304, 4.96166501,\n",
       "       4.99436105, 5.51350468, 5.214205  , 5.13130912, 5.08292214,\n",
       "       5.47628943, 5.29691468, 5.1280958 , 4.89719192, 5.13835327,\n",
       "       5.12920352, 5.06577303, 5.30472655, 5.14301856, 5.19908693,\n",
       "       5.27761724, 4.95242501, 5.03252744, 5.37166998, 5.13338199,\n",
       "       5.12316154, 5.20807091, 5.1559434 , 5.28573561, 5.34195925,\n",
       "       5.11032349, 5.07443104, 5.12896806, 5.25776045, 5.11011298,\n",
       "       4.97609265, 5.25548096, 4.90015208, 5.04774657, 5.27144794,\n",
       "       5.21305439, 5.07532083, 5.03306097, 5.00682479, 5.14463212,\n",
       "       5.16173381, 5.18650389, 5.43594658, 5.19003801, 5.04878115,\n",
       "       5.30115159, 5.25348098, 5.05813788, 5.0532267 , 5.24758807,\n",
       "       5.37654465, 5.20241915, 5.04014064, 5.18843915, 5.08935408,\n",
       "       5.30925829, 5.01197619, 5.04917132, 5.26649335, 5.06634394,\n",
       "       5.09540148, 4.93426992, 5.14288106, 5.46804741, 5.28271268,\n",
       "       5.25175049, 5.12634776, 5.19690442, 5.30794855, 5.32374275,\n",
       "       5.21833316, 5.01069067, 5.35595793])"
      ]
     },
     "execution_count": 117,
     "metadata": {},
     "output_type": "execute_result"
    }
   ],
   "source": [
    "y_pred"
   ]
  },
  {
   "cell_type": "code",
   "execution_count": 118,
   "id": "brutal-california",
   "metadata": {},
   "outputs": [
    {
     "data": {
      "text/plain": [
       "221     5.212188\n",
       "403     5.139564\n",
       "1279    5.107210\n",
       "487     5.394452\n",
       "928     5.303196\n",
       "          ...   \n",
       "1779    5.319938\n",
       "1046    5.281033\n",
       "706     5.311754\n",
       "1297    5.079181\n",
       "265     5.328380\n",
       "Name: SalePrice, Length: 853, dtype: float64"
      ]
     },
     "execution_count": 118,
     "metadata": {},
     "output_type": "execute_result"
    }
   ],
   "source": [
    "y_test"
   ]
  },
  {
   "cell_type": "code",
   "execution_count": 119,
   "id": "robust-rhythm",
   "metadata": {},
   "outputs": [
    {
     "data": {
      "text/plain": [
       "0.8284544362666244"
      ]
     },
     "execution_count": 119,
     "metadata": {},
     "output_type": "execute_result"
    }
   ],
   "source": [
    "# 1. R-squared\n",
    "from sklearn.metrics import r2_score\n",
    "r2_score(y_test,y_pred)"
   ]
  },
  {
   "cell_type": "code",
   "execution_count": 120,
   "id": "considerable-radius",
   "metadata": {},
   "outputs": [],
   "source": [
    "# 2. RMSE\n",
    "from sklearn.metrics import mean_absolute_error, mean_squared_error\n",
    "MAE = mean_absolute_error(y_test,y_pred)\n",
    "MSE = mean_squared_error(y_test,y_pred)\n",
    "RMSE = np.sqrt(MSE)"
   ]
  },
  {
   "cell_type": "code",
   "execution_count": 121,
   "id": "passive-individual",
   "metadata": {},
   "outputs": [
    {
     "data": {
      "text/plain": [
       "0.07002066117336408"
      ]
     },
     "execution_count": 121,
     "metadata": {},
     "output_type": "execute_result"
    }
   ],
   "source": [
    "RMSE"
   ]
  },
  {
   "cell_type": "code",
   "execution_count": 122,
   "id": "major-arlington",
   "metadata": {},
   "outputs": [
    {
     "data": {
      "text/plain": [
       "1.3420424792208603"
      ]
     },
     "execution_count": 122,
     "metadata": {},
     "output_type": "execute_result"
    }
   ],
   "source": [
    "100*RMSE/df['SalePrice'].mean()"
   ]
  },
  {
   "cell_type": "code",
   "execution_count": 123,
   "id": "involved-vatican",
   "metadata": {},
   "outputs": [],
   "source": [
    "# 3. Residual plot\n",
    "test_pred = y_test - y_pred"
   ]
  },
  {
   "cell_type": "code",
   "execution_count": 124,
   "id": "essential-operator",
   "metadata": {},
   "outputs": [
    {
     "data": {
      "text/plain": [
       "<matplotlib.lines.Line2D at 0x692e9c8>"
      ]
     },
     "execution_count": 124,
     "metadata": {},
     "output_type": "execute_result"
    },
    {
     "data": {
      "image/png": "[encoded data removed]",
      "text/plain": [
       "<Figure size 432x288 with 1 Axes>"
      ]
     },
     "metadata": {
      "needs_background": "light"
     },
     "output_type": "display_data"
    }
   ],
   "source": [
    "sns.scatterplot(x=y,y=test_pred)\n",
    "plt.axhline(y=0,color='magenta',linestyle='--')"
   ]
  },
  {
   "cell_type": "markdown",
   "id": "continued-dialogue",
   "metadata": {},
   "source": [
    "**Predicting new model**"
   ]
  },
  {
   "cell_type": "code",
   "execution_count": 125,
   "id": "american-father",
   "metadata": {},
   "outputs": [],
   "source": [
    "from joblib import dump, load"
   ]
  },
  {
   "cell_type": "code",
   "execution_count": 126,
   "id": "spread-african",
   "metadata": {},
   "outputs": [],
   "source": [
    "saleprice_model = load(\"Ames_Housing_model.h5\")"
   ]
  },
  {
   "cell_type": "code",
   "execution_count": 127,
   "id": "conventional-terminology",
   "metadata": {},
   "outputs": [],
   "source": [
    "saleprice_scaler = load(\"Ames_Housing_scaler.pkl\")"
   ]
  },
  {
   "cell_type": "code",
   "execution_count": 128,
   "id": "emotional-technique",
   "metadata": {},
   "outputs": [
    {
     "data": {
      "text/html": [
       "<div>\n",
       "<style scoped>\n",
       "    .dataframe tbody tr th:only-of-type {\n",
       "        vertical-align: middle;\n",
       "    }\n",
       "\n",
       "    .dataframe tbody tr th {\n",
       "        vertical-align: top;\n",
       "    }\n",
       "\n",
       "    .dataframe thead th {\n",
       "        text-align: right;\n",
       "    }\n",
       "</style>\n",
       "<table border=\"1\" class=\"dataframe\">\n",
       "  <thead>\n",
       "    <tr style=\"text-align: right;\">\n",
       "      <th></th>\n",
       "      <th>SalePrice</th>\n",
       "      <th>Year Built</th>\n",
       "      <th>Year Remod/Add</th>\n",
       "      <th>Mas Vnr Area</th>\n",
       "      <th>Total Bsmt SF</th>\n",
       "      <th>1st Flr SF</th>\n",
       "      <th>Gr Liv Area</th>\n",
       "      <th>Garage Area</th>\n",
       "    </tr>\n",
       "  </thead>\n",
       "  <tbody>\n",
       "    <tr>\n",
       "      <th>0</th>\n",
       "      <td>5.332438</td>\n",
       "      <td>1960</td>\n",
       "      <td>1960</td>\n",
       "      <td>112.0</td>\n",
       "      <td>1080.0</td>\n",
       "      <td>1656</td>\n",
       "      <td>1656</td>\n",
       "      <td>528.0</td>\n",
       "    </tr>\n",
       "    <tr>\n",
       "      <th>1</th>\n",
       "      <td>5.021189</td>\n",
       "      <td>1961</td>\n",
       "      <td>1961</td>\n",
       "      <td>0.0</td>\n",
       "      <td>882.0</td>\n",
       "      <td>896</td>\n",
       "      <td>896</td>\n",
       "      <td>730.0</td>\n",
       "    </tr>\n",
       "  </tbody>\n",
       "</table>\n",
       "</div>"
      ],
      "text/plain": [
       "   SalePrice  Year Built  Year Remod/Add  Mas Vnr Area  Total Bsmt SF  \\\n",
       "0   5.332438        1960            1960         112.0         1080.0   \n",
       "1   5.021189        1961            1961           0.0          882.0   \n",
       "\n",
       "   1st Flr SF  Gr Liv Area  Garage Area  \n",
       "0        1656         1656        528.0  \n",
       "1         896          896        730.0  "
      ]
     },
     "execution_count": 128,
     "metadata": {},
     "output_type": "execute_result"
    }
   ],
   "source": [
    "df.head(2)"
   ]
  },
  {
   "cell_type": "code",
   "execution_count": 129,
   "id": "internal-sixth",
   "metadata": {},
   "outputs": [],
   "source": [
    "saleprice_example = {'Year Built':1960,\n",
    "                 'Year Remod/Add':1960,\n",
    "                 'Mas Vnr Area':112.0,\n",
    "                 'Total Bsmt SF':1080.0,\n",
    "                 '1st Flr SF':1656,\n",
    "                 'Gr Liv Area':1656,\n",
    "                 'Garage Area':528.0}"
   ]
  },
  {
   "cell_type": "code",
   "execution_count": 130,
   "id": "northern-position",
   "metadata": {},
   "outputs": [
    {
     "data": {
      "text/plain": [
       "dict_keys(['Year Built', 'Year Remod/Add', 'Mas Vnr Area', 'Total Bsmt SF', '1st Flr SF', 'Gr Liv Area', 'Garage Area'])"
      ]
     },
     "execution_count": 130,
     "metadata": {},
     "output_type": "execute_result"
    }
   ],
   "source": [
    "saleprice_example.keys()"
   ]
  },
  {
   "cell_type": "markdown",
   "id": "specialized-medicine",
   "metadata": {},
   "source": [
    "**Sale Price API**"
   ]
  },
  {
   "cell_type": "code",
   "execution_count": 131,
   "id": "existing-tract",
   "metadata": {},
   "outputs": [],
   "source": [
    "def return_prediction(model,scaler,sample_json):\n",
    "    \n",
    "    yr_blt = sample_json['Year Built']\n",
    "    yr_remodadd = sample_json['Year Remod/Add']\n",
    "    ms_vnr_area = sample_json['Mas Vnr Area']\n",
    "    tot_bsmt_sf = sample_json['Total Bsmt SF']\n",
    "    first_flr_sf = sample_json['1st Flr SF']\n",
    "    gr_liv_area = sample_json['Gr Liv Area']\n",
    "    grg_area = sample_json['Garage Area']\n",
    "    \n",
    "    sale_price = [[yr_blt,yr_remodadd,ms_vnr_area,tot_bsmt_sf, first_flr_sf,gr_liv_area,grg_area]]\n",
    "    \n",
    "    sale_price = scaler.transform(sale_price)\n",
    "    \n",
    "    prediction = model.predict(sale_price)**10\n",
    "    \n",
    "    return prediction[0]"
   ]
  },
  {
   "cell_type": "code",
   "execution_count": 132,
   "id": "electrical-dating",
   "metadata": {},
   "outputs": [
    {
     "data": {
      "text/plain": [
       "14695902.532981478"
      ]
     },
     "execution_count": 132,
     "metadata": {},
     "output_type": "execute_result"
    }
   ],
   "source": [
    "return_prediction(saleprice_model,saleprice_scaler,saleprice_example)"
   ]
  },
  {
   "cell_type": "markdown",
   "id": "pregnant-vinyl",
   "metadata": {},
   "source": [
    "**Evaluating API Predicted value with Actual value**"
   ]
  },
  {
   "cell_type": "code",
   "execution_count": 133,
   "id": "naughty-programmer",
   "metadata": {},
   "outputs": [
    {
     "data": {
      "text/plain": [
       "14480902.532981478"
      ]
     },
     "execution_count": 133,
     "metadata": {},
     "output_type": "execute_result"
    }
   ],
   "source": [
    "# Predicted - Actual\n",
    "(return_prediction(saleprice_model,saleprice_scaler,saleprice_example))-215000"
   ]
  },
  {
   "cell_type": "code",
   "execution_count": 134,
   "id": "rising-sheffield",
   "metadata": {},
   "outputs": [
    {
     "data": {
      "text/plain": [
       "0.004902892991155056"
      ]
     },
     "execution_count": 134,
     "metadata": {},
     "output_type": "execute_result"
    }
   ],
   "source": [
    "MSE"
   ]
  },
  {
   "cell_type": "code",
   "execution_count": null,
   "id": "incredible-power",
   "metadata": {},
   "outputs": [],
   "source": [
    "app = Flask(__name__)\n",
    "@app.route('/')\n",
    "def index():\n",
    "    results = return_prediction(model=saleprice_model,scaler=saleprice_scaler,sample_json=saleprice_example)\n",
    "    return f'<h1>{results}</h1>'\n",
    "\n",
    "# REMEMBER TO LOAD THE MODEL AND THE SCALER!  \n",
    "saleprice_model = load(\"Ames_Housing_model.h5\")\n",
    "saleprice_scaler = load(\"Ames_Housing_scaler.pkl\")\n",
    "\n",
    "saleprice_example = {'Year Built':1961,\n",
    "                 'Year Remod/Add':1961,\n",
    "                 'Mas Vnr Area':0.0,\n",
    "                 'Total Bsmt SF':882.0,\n",
    "                 '1st Flr SF':896,\n",
    "                 'Gr Liv Area':896,\n",
    "                 'Garage Area':730.0}\n",
    "\n",
    "@app.route('/prediction', methods=['POST'])\n",
    "def predict_saleprice():\n",
    "    content = request.json\n",
    "    \n",
    "    results = return_prediction(model=saleprice_model,scaler=saleprice_scaler,sample_json=saleprice_example)\n",
    "    \n",
    "    return jsonify(results)\n",
    "\n",
    "if __name__ == '__main__':\n",
    "    app.run()"
   ]
  },
  {
   "cell_type": "markdown",
   "id": "magnetic-annotation",
   "metadata": {},
   "source": [
    "**My Flask App**"
   ]
  },
  {
   "cell_type": "code",
   "execution_count": null,
   "id": "latin-portsmouth",
   "metadata": {},
   "outputs": [],
   "source": [
    "from flask import Flask, jsonify\n",
    "import numpy as np  \n",
    "from joblib import dump, load"
   ]
  },
  {
   "cell_type": "code",
   "execution_count": null,
   "id": "secret-tokyo",
   "metadata": {},
   "outputs": [],
   "source": [
    "app = Flask(__name__)\n",
    "@app.route('/')\n",
    "def index():\n",
    "    return '<h1>Ames Housing Sale Price</h1>'\n",
    "\n",
    "if __name__ == '__main__':\n",
    "    app.run()"
   ]
  },
  {
   "cell_type": "markdown",
   "id": "aging-crossing",
   "metadata": {},
   "source": [
    "**Final App**"
   ]
  },
  {
   "cell_type": "code",
   "execution_count": null,
   "id": "charged-scholarship",
   "metadata": {},
   "outputs": [],
   "source": [
    "from flask import Flask, render_template,  redirect, url_for, session\n",
    "from flask_wtf import FlaskForm\n",
    "from wtforms import TextField,SubmitField\n",
    "from wtforms.validators import NumberRange\n",
    "from joblib import dump, load\n",
    "\n",
    "\n",
    "import numpy as np "
   ]
  },
  {
   "cell_type": "code",
   "execution_count": null,
   "id": "directed-acoustic",
   "metadata": {},
   "outputs": [],
   "source": [
    "def return_prediction(model,scaler,sample_json):\n",
    "    \n",
    "    yr_blt = sample_json['Year Built']\n",
    "    yr_remodadd = sample_json['Year Remod/Add']\n",
    "    ms_vnr_area = sample_json['Mas Vnr Area']\n",
    "    tot_bsmt_sf = sample_json['Total Bsmt SF']\n",
    "    first_flr_sf = sample_json['1st Flr SF']\n",
    "    gr_liv_area = sample_json['Gr Liv Area']\n",
    "    grg_area = sample_json['Garage Area']\n",
    "    \n",
    "    sale_price = [[yr_blt,yr_remodadd,ms_vnr_area,tot_bsmt_sf, first_flr_sf,gr_liv_area,grg_area]]\n",
    "    \n",
    "    sale_price = scaler.transform(sale_price)\n",
    "    \n",
    "    prediction = model.predict(sale_price)**10\n",
    "    \n",
    "    return prediction[0]\n",
    "\n",
    "app = Flask(__name__)\n",
    "# Configure a secret SECRET_KEY\n",
    "# We will later learn much better ways to do this!!\n",
    "app.config['SECRET_KEY'] = 'mysecretkey'\n",
    "\n",
    "\n",
    "# REMEMBER TO LOAD THE MODEL AND THE SCALER!\n",
    "saleprice_model = load(\"Ames_Housing_model.h5\")\n",
    "saleprice_scaler = load(\"Ames_Housing_scaler.pkl\")\n",
    "\n",
    "class SalePriceForm(FlaskForm):\n",
    "    yr_blt = sample_json['Year Built']\n",
    "    yr_remodadd = sample_json['Year Remod/Add']\n",
    "    ms_vnr_area = sample_json['Mas Vnr Area']\n",
    "    tot_bsmt_sf = sample_json['Total Bsmt SF']\n",
    "    first_flr_sf = sample_json['1st Flr SF']\n",
    "    gr_liv_area = sample_json['Gr Liv Area']\n",
    "    grg_area = sample_json['Garage Area']\n",
    "    \n",
    "    submit = SubmitField('Analyze')\n",
    "    \n",
    "@app.route('/', methods=['GET', 'POST'])\n",
    "def index():\n",
    "\n",
    "    # Create instance of the form.\n",
    "    form = SalePriceForm()\n",
    "    \n",
    "    if form.validate_on_submit():\n",
    "        session['yr_blt'] = form.yr_blt.data\n",
    "        session['yr_remodadd'] = form.yr_remodadd.data\n",
    "        session['ms_vnr_area'] = form.ms_vnr_area.data\n",
    "        session['tot_bsmt_sf'] = form.tot_bsmt_sf.data\n",
    "        session['first_flr_sf'] = form.first_flr_sf.data\n",
    "        session['gr_liv_area'] = form.ms_vnr_area.data\n",
    "        session['grg_area'] = form.grg_area.data\n",
    "        \n",
    "        return redirect(url_for(\"prediction\"))\n",
    "    \n",
    "    return render_template('home.html', form=form)\n",
    "\n",
    "@app.route('/prediction')\n",
    "def prediction():\n",
    "\n",
    "    content = {}\n",
    "    \n",
    "    content['Year Built'] = float(session['yr_bltn'])\n",
    "    content['Year Remod/Add'] = float(session['yr_remodadd'])\n",
    "    content['Mas Vnr Area'] = float(session['ms_vnr_area'])\n",
    "    content['Total Bsmt SF'] = float(session['tot_bsmt_sf'])\n",
    "    content['1st Flr SF'] = float(session['first_flr_s'])\n",
    "    content['Gr Liv Area'] = float(session['gr_liv_area'])\n",
    "    content['Garage Area'] = float(session['grg_area'])\n",
    "    \n",
    "    results = return_prediction(model=saleprice_model,scaler=saleprice_scaler,sample_json=saleprice_example)\n",
    "    \n",
    "    return render_template('prediction.html',results=results)\n",
    "\n",
    "if __name__ == '__main__':\n",
    "    app.run(debug=True)"
   ]
  },
  {
   "cell_type": "code",
   "execution_count": null,
   "id": "qualified-membrane",
   "metadata": {},
   "outputs": [],
   "source": []
  },
  {
   "cell_type": "code",
   "execution_count": null,
   "id": "perceived-skating",
   "metadata": {},
   "outputs": [],
   "source": []
  }
 ],
 "metadata": {
  "kernelspec": {
   "display_name": "Python 3",
   "language": "python",
   "name": "python3"
  },
  "language_info": {
   "codemirror_mode": {
    "name": "ipython",
    "version": 3
   },
   "file_extension": ".py",
   "mimetype": "text/x-python",
   "name": "python",
   "nbconvert_exporter": "python",
   "pygments_lexer": "ipython3",
   "version": "3.7.10"
  }
 },
 "nbformat": 4,
 "nbformat_minor": 5
}
