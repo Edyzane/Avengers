{
 "cells": [
  {
   "cell_type": "code",
   "execution_count": 2,
   "id": "joint-instrument",
   "metadata": {},
   "outputs": [],
   "source": [
    "import numpy as np\n",
    "import pandas as pd\n",
    "import matplotlib.pyplot as plt\n",
    "import seaborn as sns\n",
    "import scipy as sp"
   ]
  },
  {
   "cell_type": "code",
   "execution_count": 3,
   "id": "immune-balloon",
   "metadata": {},
   "outputs": [],
   "source": [
    "df = pd.read_csv('Ames Housing Data Encoding.csv')"
   ]
  },
  {
   "cell_type": "code",
   "execution_count": 4,
   "id": "proper-tyler",
   "metadata": {},
   "outputs": [
    {
     "data": {
      "text/html": [
       "<div>\n",
       "<style scoped>\n",
       "    .dataframe tbody tr th:only-of-type {\n",
       "        vertical-align: middle;\n",
       "    }\n",
       "\n",
       "    .dataframe tbody tr th {\n",
       "        vertical-align: top;\n",
       "    }\n",
       "\n",
       "    .dataframe thead th {\n",
       "        text-align: right;\n",
       "    }\n",
       "</style>\n",
       "<table border=\"1\" class=\"dataframe\">\n",
       "  <thead>\n",
       "    <tr style=\"text-align: right;\">\n",
       "      <th></th>\n",
       "      <th>Overall Qual</th>\n",
       "      <th>Year Built</th>\n",
       "      <th>Year Remod/Add</th>\n",
       "      <th>Mas Vnr Area</th>\n",
       "      <th>Exter Qual</th>\n",
       "      <th>Bsmt Qual</th>\n",
       "      <th>BsmtFin Type 1</th>\n",
       "      <th>Total Bsmt SF</th>\n",
       "      <th>Heating QC</th>\n",
       "      <th>1st Flr SF</th>\n",
       "      <th>...</th>\n",
       "      <th>Sale Type_ConLw</th>\n",
       "      <th>Sale Type_New</th>\n",
       "      <th>Sale Type_Oth</th>\n",
       "      <th>Sale Type_VWD</th>\n",
       "      <th>Sale Type_WD</th>\n",
       "      <th>Sale Condition_AdjLand</th>\n",
       "      <th>Sale Condition_Alloca</th>\n",
       "      <th>Sale Condition_Family</th>\n",
       "      <th>Sale Condition_Normal</th>\n",
       "      <th>Sale Condition_Partial</th>\n",
       "    </tr>\n",
       "  </thead>\n",
       "  <tbody>\n",
       "    <tr>\n",
       "      <th>0</th>\n",
       "      <td>6</td>\n",
       "      <td>1960</td>\n",
       "      <td>1960</td>\n",
       "      <td>112.0</td>\n",
       "      <td>2</td>\n",
       "      <td>3</td>\n",
       "      <td>4</td>\n",
       "      <td>1080.0</td>\n",
       "      <td>1</td>\n",
       "      <td>1656</td>\n",
       "      <td>...</td>\n",
       "      <td>0</td>\n",
       "      <td>0</td>\n",
       "      <td>0</td>\n",
       "      <td>0</td>\n",
       "      <td>1</td>\n",
       "      <td>0</td>\n",
       "      <td>0</td>\n",
       "      <td>0</td>\n",
       "      <td>1</td>\n",
       "      <td>0</td>\n",
       "    </tr>\n",
       "    <tr>\n",
       "      <th>1</th>\n",
       "      <td>5</td>\n",
       "      <td>1961</td>\n",
       "      <td>1961</td>\n",
       "      <td>0.0</td>\n",
       "      <td>2</td>\n",
       "      <td>3</td>\n",
       "      <td>3</td>\n",
       "      <td>882.0</td>\n",
       "      <td>2</td>\n",
       "      <td>896</td>\n",
       "      <td>...</td>\n",
       "      <td>0</td>\n",
       "      <td>0</td>\n",
       "      <td>0</td>\n",
       "      <td>0</td>\n",
       "      <td>1</td>\n",
       "      <td>0</td>\n",
       "      <td>0</td>\n",
       "      <td>0</td>\n",
       "      <td>1</td>\n",
       "      <td>0</td>\n",
       "    </tr>\n",
       "    <tr>\n",
       "      <th>2</th>\n",
       "      <td>6</td>\n",
       "      <td>1958</td>\n",
       "      <td>1958</td>\n",
       "      <td>108.0</td>\n",
       "      <td>2</td>\n",
       "      <td>3</td>\n",
       "      <td>5</td>\n",
       "      <td>1329.0</td>\n",
       "      <td>2</td>\n",
       "      <td>1329</td>\n",
       "      <td>...</td>\n",
       "      <td>0</td>\n",
       "      <td>0</td>\n",
       "      <td>0</td>\n",
       "      <td>0</td>\n",
       "      <td>1</td>\n",
       "      <td>0</td>\n",
       "      <td>0</td>\n",
       "      <td>0</td>\n",
       "      <td>1</td>\n",
       "      <td>0</td>\n",
       "    </tr>\n",
       "    <tr>\n",
       "      <th>3</th>\n",
       "      <td>7</td>\n",
       "      <td>1968</td>\n",
       "      <td>1968</td>\n",
       "      <td>0.0</td>\n",
       "      <td>3</td>\n",
       "      <td>3</td>\n",
       "      <td>5</td>\n",
       "      <td>2110.0</td>\n",
       "      <td>4</td>\n",
       "      <td>2110</td>\n",
       "      <td>...</td>\n",
       "      <td>0</td>\n",
       "      <td>0</td>\n",
       "      <td>0</td>\n",
       "      <td>0</td>\n",
       "      <td>1</td>\n",
       "      <td>0</td>\n",
       "      <td>0</td>\n",
       "      <td>0</td>\n",
       "      <td>1</td>\n",
       "      <td>0</td>\n",
       "    </tr>\n",
       "    <tr>\n",
       "      <th>4</th>\n",
       "      <td>5</td>\n",
       "      <td>1997</td>\n",
       "      <td>1998</td>\n",
       "      <td>0.0</td>\n",
       "      <td>2</td>\n",
       "      <td>4</td>\n",
       "      <td>6</td>\n",
       "      <td>928.0</td>\n",
       "      <td>3</td>\n",
       "      <td>928</td>\n",
       "      <td>...</td>\n",
       "      <td>0</td>\n",
       "      <td>0</td>\n",
       "      <td>0</td>\n",
       "      <td>0</td>\n",
       "      <td>1</td>\n",
       "      <td>0</td>\n",
       "      <td>0</td>\n",
       "      <td>0</td>\n",
       "      <td>1</td>\n",
       "      <td>0</td>\n",
       "    </tr>\n",
       "    <tr>\n",
       "      <th>5</th>\n",
       "      <td>6</td>\n",
       "      <td>1998</td>\n",
       "      <td>1998</td>\n",
       "      <td>20.0</td>\n",
       "      <td>2</td>\n",
       "      <td>3</td>\n",
       "      <td>6</td>\n",
       "      <td>926.0</td>\n",
       "      <td>4</td>\n",
       "      <td>926</td>\n",
       "      <td>...</td>\n",
       "      <td>0</td>\n",
       "      <td>0</td>\n",
       "      <td>0</td>\n",
       "      <td>0</td>\n",
       "      <td>1</td>\n",
       "      <td>0</td>\n",
       "      <td>0</td>\n",
       "      <td>0</td>\n",
       "      <td>1</td>\n",
       "      <td>0</td>\n",
       "    </tr>\n",
       "    <tr>\n",
       "      <th>6</th>\n",
       "      <td>8</td>\n",
       "      <td>2001</td>\n",
       "      <td>2001</td>\n",
       "      <td>0.0</td>\n",
       "      <td>3</td>\n",
       "      <td>4</td>\n",
       "      <td>6</td>\n",
       "      <td>1338.0</td>\n",
       "      <td>4</td>\n",
       "      <td>1338</td>\n",
       "      <td>...</td>\n",
       "      <td>0</td>\n",
       "      <td>0</td>\n",
       "      <td>0</td>\n",
       "      <td>0</td>\n",
       "      <td>1</td>\n",
       "      <td>0</td>\n",
       "      <td>0</td>\n",
       "      <td>0</td>\n",
       "      <td>1</td>\n",
       "      <td>0</td>\n",
       "    </tr>\n",
       "    <tr>\n",
       "      <th>7</th>\n",
       "      <td>8</td>\n",
       "      <td>1992</td>\n",
       "      <td>1992</td>\n",
       "      <td>0.0</td>\n",
       "      <td>3</td>\n",
       "      <td>4</td>\n",
       "      <td>5</td>\n",
       "      <td>1280.0</td>\n",
       "      <td>4</td>\n",
       "      <td>1280</td>\n",
       "      <td>...</td>\n",
       "      <td>0</td>\n",
       "      <td>0</td>\n",
       "      <td>0</td>\n",
       "      <td>0</td>\n",
       "      <td>1</td>\n",
       "      <td>0</td>\n",
       "      <td>0</td>\n",
       "      <td>0</td>\n",
       "      <td>1</td>\n",
       "      <td>0</td>\n",
       "    </tr>\n",
       "    <tr>\n",
       "      <th>8</th>\n",
       "      <td>8</td>\n",
       "      <td>1995</td>\n",
       "      <td>1996</td>\n",
       "      <td>0.0</td>\n",
       "      <td>3</td>\n",
       "      <td>4</td>\n",
       "      <td>6</td>\n",
       "      <td>1595.0</td>\n",
       "      <td>4</td>\n",
       "      <td>1616</td>\n",
       "      <td>...</td>\n",
       "      <td>0</td>\n",
       "      <td>0</td>\n",
       "      <td>0</td>\n",
       "      <td>0</td>\n",
       "      <td>1</td>\n",
       "      <td>0</td>\n",
       "      <td>0</td>\n",
       "      <td>0</td>\n",
       "      <td>1</td>\n",
       "      <td>0</td>\n",
       "    </tr>\n",
       "    <tr>\n",
       "      <th>9</th>\n",
       "      <td>7</td>\n",
       "      <td>1999</td>\n",
       "      <td>1999</td>\n",
       "      <td>0.0</td>\n",
       "      <td>2</td>\n",
       "      <td>3</td>\n",
       "      <td>1</td>\n",
       "      <td>994.0</td>\n",
       "      <td>3</td>\n",
       "      <td>1028</td>\n",
       "      <td>...</td>\n",
       "      <td>0</td>\n",
       "      <td>0</td>\n",
       "      <td>0</td>\n",
       "      <td>0</td>\n",
       "      <td>1</td>\n",
       "      <td>0</td>\n",
       "      <td>0</td>\n",
       "      <td>0</td>\n",
       "      <td>1</td>\n",
       "      <td>0</td>\n",
       "    </tr>\n",
       "  </tbody>\n",
       "</table>\n",
       "<p>10 rows × 176 columns</p>\n",
       "</div>"
      ],
      "text/plain": [
       "   Overall Qual  Year Built  Year Remod/Add  Mas Vnr Area  Exter Qual  \\\n",
       "0             6        1960            1960         112.0           2   \n",
       "1             5        1961            1961           0.0           2   \n",
       "2             6        1958            1958         108.0           2   \n",
       "3             7        1968            1968           0.0           3   \n",
       "4             5        1997            1998           0.0           2   \n",
       "5             6        1998            1998          20.0           2   \n",
       "6             8        2001            2001           0.0           3   \n",
       "7             8        1992            1992           0.0           3   \n",
       "8             8        1995            1996           0.0           3   \n",
       "9             7        1999            1999           0.0           2   \n",
       "\n",
       "   Bsmt Qual  BsmtFin Type 1  Total Bsmt SF  Heating QC  1st Flr SF  ...  \\\n",
       "0          3               4         1080.0           1        1656  ...   \n",
       "1          3               3          882.0           2         896  ...   \n",
       "2          3               5         1329.0           2        1329  ...   \n",
       "3          3               5         2110.0           4        2110  ...   \n",
       "4          4               6          928.0           3         928  ...   \n",
       "5          3               6          926.0           4         926  ...   \n",
       "6          4               6         1338.0           4        1338  ...   \n",
       "7          4               5         1280.0           4        1280  ...   \n",
       "8          4               6         1595.0           4        1616  ...   \n",
       "9          3               1          994.0           3        1028  ...   \n",
       "\n",
       "   Sale Type_ConLw  Sale Type_New  Sale Type_Oth  Sale Type_VWD  \\\n",
       "0                0              0              0              0   \n",
       "1                0              0              0              0   \n",
       "2                0              0              0              0   \n",
       "3                0              0              0              0   \n",
       "4                0              0              0              0   \n",
       "5                0              0              0              0   \n",
       "6                0              0              0              0   \n",
       "7                0              0              0              0   \n",
       "8                0              0              0              0   \n",
       "9                0              0              0              0   \n",
       "\n",
       "   Sale Type_WD   Sale Condition_AdjLand  Sale Condition_Alloca  \\\n",
       "0              1                       0                      0   \n",
       "1              1                       0                      0   \n",
       "2              1                       0                      0   \n",
       "3              1                       0                      0   \n",
       "4              1                       0                      0   \n",
       "5              1                       0                      0   \n",
       "6              1                       0                      0   \n",
       "7              1                       0                      0   \n",
       "8              1                       0                      0   \n",
       "9              1                       0                      0   \n",
       "\n",
       "   Sale Condition_Family  Sale Condition_Normal  Sale Condition_Partial  \n",
       "0                      0                      1                       0  \n",
       "1                      0                      1                       0  \n",
       "2                      0                      1                       0  \n",
       "3                      0                      1                       0  \n",
       "4                      0                      1                       0  \n",
       "5                      0                      1                       0  \n",
       "6                      0                      1                       0  \n",
       "7                      0                      1                       0  \n",
       "8                      0                      1                       0  \n",
       "9                      0                      1                       0  \n",
       "\n",
       "[10 rows x 176 columns]"
      ]
     },
     "execution_count": 4,
     "metadata": {},
     "output_type": "execute_result"
    }
   ],
   "source": [
    "df.head(10)"
   ]
  },
  {
   "cell_type": "code",
   "execution_count": 5,
   "id": "sound-attitude",
   "metadata": {},
   "outputs": [],
   "source": [
    "X = df.drop('SalePrice',axis=1)\n",
    "y = df['SalePrice']\n",
    "\n",
    "# TRAIN TEST SPLIT\n",
    "\n",
    "from sklearn.model_selection import train_test_split\n",
    "X_train, X_test, y_train, y_test = train_test_split(X, y, test_size=0.3, random_state=101)\n",
    "\n",
    "# SCALE DATA\n",
    "\n",
    "from sklearn.preprocessing import StandardScaler\n",
    "scaler = StandardScaler()\n",
    "scaler.fit(X_train)\n",
    "X_train = scaler.transform(X_train)\n",
    "X_test = scaler.transform(X_test)"
   ]
  },
  {
   "cell_type": "markdown",
   "id": "legendary-trace",
   "metadata": {},
   "source": [
    "**Ridge**"
   ]
  },
  {
   "cell_type": "code",
   "execution_count": 6,
   "id": "widespread-pressing",
   "metadata": {},
   "outputs": [],
   "source": [
    "from sklearn.linear_model import RidgeCV"
   ]
  },
  {
   "cell_type": "code",
   "execution_count": 7,
   "id": "strategic-baker",
   "metadata": {},
   "outputs": [],
   "source": [
    "ridge_cv_model = RidgeCV(alphas=(0.1,1.0,10.0),scoring='neg_mean_absolute_error')"
   ]
  },
  {
   "cell_type": "code",
   "execution_count": 8,
   "id": "guided-prize",
   "metadata": {},
   "outputs": [],
   "source": [
    "from sklearn.metrics import SCORERS"
   ]
  },
  {
   "cell_type": "code",
   "execution_count": 9,
   "id": "social-palestinian",
   "metadata": {},
   "outputs": [
    {
     "data": {
      "text/plain": [
       "RidgeCV(alphas=array([ 0.1,  1. , 10. ]), scoring='neg_mean_absolute_error')"
      ]
     },
     "execution_count": 9,
     "metadata": {},
     "output_type": "execute_result"
    }
   ],
   "source": [
    "ridge_cv_model.fit(X_train,y_train)"
   ]
  },
  {
   "cell_type": "code",
   "execution_count": 10,
   "id": "meaning-hybrid",
   "metadata": {},
   "outputs": [
    {
     "data": {
      "text/plain": [
       "10.0"
      ]
     },
     "execution_count": 10,
     "metadata": {},
     "output_type": "execute_result"
    }
   ],
   "source": [
    "ridge_cv_model.alpha_"
   ]
  },
  {
   "cell_type": "code",
   "execution_count": 11,
   "id": "threaded-migration",
   "metadata": {},
   "outputs": [],
   "source": [
    "y_pred = ridge_cv_model.predict(X_test)"
   ]
  },
  {
   "cell_type": "code",
   "execution_count": 12,
   "id": "agreed-serbia",
   "metadata": {},
   "outputs": [],
   "source": [
    "from sklearn.metrics import mean_absolute_error, mean_squared_error"
   ]
  },
  {
   "cell_type": "code",
   "execution_count": 13,
   "id": "filled-buffer",
   "metadata": {},
   "outputs": [
    {
     "data": {
      "text/plain": [
       "534804616.646542"
      ]
     },
     "execution_count": 13,
     "metadata": {},
     "output_type": "execute_result"
    }
   ],
   "source": [
    "mean_squared_error(y_test,y_pred)"
   ]
  },
  {
   "cell_type": "code",
   "execution_count": 14,
   "id": "alike-isaac",
   "metadata": {},
   "outputs": [],
   "source": [
    "MAE = mean_absolute_error(y_test,y_pred)\n",
    "MSE = mean_squared_error(y_test,y_pred)\n",
    "RMSE = np.sqrt(MSE)"
   ]
  },
  {
   "cell_type": "code",
   "execution_count": 15,
   "id": "flush-chain",
   "metadata": {},
   "outputs": [
    {
     "data": {
      "text/plain": [
       "23125.843047260827"
      ]
     },
     "execution_count": 15,
     "metadata": {},
     "output_type": "execute_result"
    }
   ],
   "source": [
    "RMSE"
   ]
  },
  {
   "cell_type": "code",
   "execution_count": 16,
   "id": "dated-action",
   "metadata": {},
   "outputs": [
    {
     "data": {
      "text/plain": [
       "13.044318598746903"
      ]
     },
     "execution_count": 16,
     "metadata": {},
     "output_type": "execute_result"
    }
   ],
   "source": [
    "100*RMSE/df['SalePrice'].mean()"
   ]
  },
  {
   "cell_type": "code",
   "execution_count": 17,
   "id": "increasing-advice",
   "metadata": {},
   "outputs": [
    {
     "data": {
      "text/plain": [
       "<seaborn.axisgrid.FacetGrid at 0xbb59148>"
      ]
     },
     "execution_count": 17,
     "metadata": {},
     "output_type": "execute_result"
    },
    {
     "data": {
      "image/png": "[encoded data removed]",
      "text/plain": [
       "<Figure size 360x360 with 1 Axes>"
      ]
     },
     "metadata": {
      "needs_background": "light"
     },
     "output_type": "display_data"
    }
   ],
   "source": [
    "sns.displot(y_pred,bins=15,kde=True)"
   ]
  },
  {
   "cell_type": "code",
   "execution_count": 18,
   "id": "female-bishop",
   "metadata": {},
   "outputs": [
    {
     "data": {
      "text/plain": [
       "<matplotlib.lines.Line2D at 0xbffde48>"
      ]
     },
     "execution_count": 18,
     "metadata": {},
     "output_type": "execute_result"
    },
    {
     "data": {
      "image/png": "[encoded data removed]",
      "text/plain": [
       "<Figure size 432x288 with 1 Axes>"
      ]
     },
     "metadata": {
      "needs_background": "light"
     },
     "output_type": "display_data"
    }
   ],
   "source": [
    "sns.scatterplot(x=y_test,y=y_pred)\n",
    "plt.axhline(y=0,color='magenta',linestyle='--')"
   ]
  },
  {
   "cell_type": "code",
   "execution_count": 19,
   "id": "bibliographic-finger",
   "metadata": {},
   "outputs": [
    {
     "data": {
      "image/png": "[encoded data removed]",
      "text/plain": [
       "<Figure size 1000x1200 with 1 Axes>"
      ]
     },
     "metadata": {
      "needs_background": "light"
     },
     "output_type": "display_data"
    }
   ],
   "source": [
    "fig,ax = plt.subplots(figsize=(10,12),dpi=100)\n",
    "\n",
    "_=sp.stats.probplot(y_pred,plot=ax)"
   ]
  },
  {
   "cell_type": "markdown",
   "id": "amended-supervisor",
   "metadata": {},
   "source": [
    "**Lasso**"
   ]
  },
  {
   "cell_type": "code",
   "execution_count": 20,
   "id": "medium-disposal",
   "metadata": {},
   "outputs": [],
   "source": [
    "from sklearn.linear_model import LassoCV"
   ]
  },
  {
   "cell_type": "code",
   "execution_count": 21,
   "id": "focal-handle",
   "metadata": {},
   "outputs": [],
   "source": [
    "lasso_cv_model = LassoCV(eps=0.1,n_alphas=100,cv=10)"
   ]
  },
  {
   "cell_type": "code",
   "execution_count": 22,
   "id": "exempt-spread",
   "metadata": {},
   "outputs": [
    {
     "data": {
      "text/plain": [
       "LassoCV(cv=10, eps=0.1)"
      ]
     },
     "execution_count": 22,
     "metadata": {},
     "output_type": "execute_result"
    }
   ],
   "source": [
    "lasso_cv_model.fit(X_train,y_train)"
   ]
  },
  {
   "cell_type": "code",
   "execution_count": 23,
   "id": "monthly-medium",
   "metadata": {},
   "outputs": [
    {
     "data": {
      "text/plain": [
       "5804.554389233217"
      ]
     },
     "execution_count": 23,
     "metadata": {},
     "output_type": "execute_result"
    }
   ],
   "source": [
    "lasso_cv_model.alpha_"
   ]
  },
  {
   "cell_type": "code",
   "execution_count": 24,
   "id": "honest-receiver",
   "metadata": {},
   "outputs": [],
   "source": [
    "test_predictions = lasso_cv_model.predict(X_test)"
   ]
  },
  {
   "cell_type": "code",
   "execution_count": 25,
   "id": "silver-telescope",
   "metadata": {},
   "outputs": [],
   "source": [
    "MAE = mean_absolute_error(y_test,test_predictions)\n",
    "MSE = mean_squared_error(y_test,test_predictions)\n",
    "RMSE = np.sqrt(MSE)"
   ]
  },
  {
   "cell_type": "code",
   "execution_count": 26,
   "id": "rising-decline",
   "metadata": {},
   "outputs": [
    {
     "data": {
      "text/plain": [
       "26789.409639685564"
      ]
     },
     "execution_count": 26,
     "metadata": {},
     "output_type": "execute_result"
    }
   ],
   "source": [
    "RMSE"
   ]
  },
  {
   "cell_type": "code",
   "execution_count": 27,
   "id": "fundamental-antigua",
   "metadata": {},
   "outputs": [
    {
     "data": {
      "text/plain": [
       "15.110782932248215"
      ]
     },
     "execution_count": 27,
     "metadata": {},
     "output_type": "execute_result"
    }
   ],
   "source": [
    "100*RMSE/df['SalePrice'].mean()"
   ]
  },
  {
   "cell_type": "markdown",
   "id": "available-filename",
   "metadata": {},
   "source": [
    "**Elastic Net**"
   ]
  },
  {
   "cell_type": "code",
   "execution_count": 28,
   "id": "devoted-armor",
   "metadata": {},
   "outputs": [],
   "source": [
    "from sklearn.linear_model import ElasticNetCV"
   ]
  },
  {
   "cell_type": "code",
   "execution_count": 29,
   "id": "moving-alaska",
   "metadata": {},
   "outputs": [],
   "source": [
    "elastic_model = ElasticNetCV(l1_ratio=[.1, .5, .7, .9, .95, .99, 1],tol=0.01)"
   ]
  },
  {
   "cell_type": "code",
   "execution_count": 30,
   "id": "continued-toddler",
   "metadata": {},
   "outputs": [
    {
     "data": {
      "text/plain": [
       "ElasticNetCV(l1_ratio=[0.1, 0.5, 0.7, 0.9, 0.95, 0.99, 1], tol=0.01)"
      ]
     },
     "execution_count": 30,
     "metadata": {},
     "output_type": "execute_result"
    }
   ],
   "source": [
    "elastic_model.fit(X_train,y_train)"
   ]
  },
  {
   "cell_type": "code",
   "execution_count": 31,
   "id": "understood-authority",
   "metadata": {},
   "outputs": [
    {
     "data": {
      "text/plain": [
       "1.0"
      ]
     },
     "execution_count": 31,
     "metadata": {},
     "output_type": "execute_result"
    }
   ],
   "source": [
    "elastic_model.l1_ratio_"
   ]
  },
  {
   "cell_type": "code",
   "execution_count": 32,
   "id": "dress-parks",
   "metadata": {},
   "outputs": [],
   "source": [
    "test_predictions = elastic_model.predict(X_test)"
   ]
  },
  {
   "cell_type": "code",
   "execution_count": 33,
   "id": "waiting-recipe",
   "metadata": {},
   "outputs": [],
   "source": [
    "MAE = mean_absolute_error(y_test,test_predictions)\n",
    "MSE = mean_squared_error(y_test,test_predictions)\n",
    "RMSE = np.sqrt(MSE)"
   ]
  },
  {
   "cell_type": "code",
   "execution_count": 34,
   "id": "pleasant-convenience",
   "metadata": {},
   "outputs": [
    {
     "data": {
      "text/plain": [
       "22644.794635283422"
      ]
     },
     "execution_count": 34,
     "metadata": {},
     "output_type": "execute_result"
    }
   ],
   "source": [
    "RMSE"
   ]
  },
  {
   "cell_type": "code",
   "execution_count": 35,
   "id": "positive-choir",
   "metadata": {},
   "outputs": [
    {
     "data": {
      "text/plain": [
       "12.772979355700462"
      ]
     },
     "execution_count": 35,
     "metadata": {},
     "output_type": "execute_result"
    }
   ],
   "source": [
    "100*RMSE/df['SalePrice'].mean()"
   ]
  },
  {
   "cell_type": "code",
   "execution_count": 36,
   "id": "stylish-enhancement",
   "metadata": {},
   "outputs": [
    {
     "data": {
      "text/plain": [
       "<seaborn.axisgrid.FacetGrid at 0xc0eb448>"
      ]
     },
     "execution_count": 36,
     "metadata": {},
     "output_type": "execute_result"
    },
    {
     "data": {
      "image/png": "[encoded data removed]",
      "text/plain": [
       "<Figure size 360x360 with 1 Axes>"
      ]
     },
     "metadata": {
      "needs_background": "light"
     },
     "output_type": "display_data"
    }
   ],
   "source": [
    "sns.displot(y_pred,bins=15,kde=True)"
   ]
  },
  {
   "cell_type": "code",
   "execution_count": 37,
   "id": "regional-holiday",
   "metadata": {},
   "outputs": [
    {
     "data": {
      "text/plain": [
       "<matplotlib.lines.Line2D at 0x6e3f0c8>"
      ]
     },
     "execution_count": 37,
     "metadata": {},
     "output_type": "execute_result"
    },
    {
     "data": {
      "image/png": "[encoded data removed]",
      "text/plain": [
       "<Figure size 432x288 with 1 Axes>"
      ]
     },
     "metadata": {
      "needs_background": "light"
     },
     "output_type": "display_data"
    }
   ],
   "source": [
    "sns.scatterplot(x=y_test,y=y_pred)\n",
    "plt.axhline(y=0,color='green',linestyle='-')"
   ]
  },
  {
   "cell_type": "code",
   "execution_count": 38,
   "id": "wanted-earth",
   "metadata": {},
   "outputs": [
    {
     "data": {
      "image/png": "[encoded data removed]",
      "text/plain": [
       "<Figure size 1000x1200 with 1 Axes>"
      ]
     },
     "metadata": {
      "needs_background": "light"
     },
     "output_type": "display_data"
    }
   ],
   "source": [
    "fig,ax = plt.subplots(figsize=(10,12),dpi=100)\n",
    "\n",
    "_=sp.stats.probplot(y_pred,plot=ax)"
   ]
  },
  {
   "cell_type": "code",
   "execution_count": 39,
   "id": "satisfactory-entrepreneur",
   "metadata": {},
   "outputs": [],
   "source": [
    "from sklearn.linear_model import ElasticNetCV"
   ]
  },
  {
   "cell_type": "code",
   "execution_count": 40,
   "id": "conservative-jewel",
   "metadata": {},
   "outputs": [],
   "source": [
    "elastic_model = ElasticNetCV(l1_ratio=[.1, .5, .7, .9, .95, .99, 1],tol=0.01)"
   ]
  },
  {
   "cell_type": "code",
   "execution_count": 41,
   "id": "prepared-airplane",
   "metadata": {},
   "outputs": [
    {
     "data": {
      "text/plain": [
       "ElasticNetCV(l1_ratio=[0.1, 0.5, 0.7, 0.9, 0.95, 0.99, 1], tol=0.01)"
      ]
     },
     "execution_count": 41,
     "metadata": {},
     "output_type": "execute_result"
    }
   ],
   "source": [
    "elastic_model.fit(X_train,y_train)"
   ]
  },
  {
   "cell_type": "code",
   "execution_count": 42,
   "id": "intense-savings",
   "metadata": {},
   "outputs": [
    {
     "data": {
      "text/plain": [
       "1.0"
      ]
     },
     "execution_count": 42,
     "metadata": {},
     "output_type": "execute_result"
    }
   ],
   "source": [
    "elastic_model.l1_ratio_"
   ]
  },
  {
   "cell_type": "code",
   "execution_count": 43,
   "id": "common-reality",
   "metadata": {},
   "outputs": [],
   "source": [
    "test_predictions = elastic_model.predict(X_test)"
   ]
  },
  {
   "cell_type": "code",
   "execution_count": 44,
   "id": "southwest-lounge",
   "metadata": {},
   "outputs": [],
   "source": [
    "MAE = mean_absolute_error(y_test,test_predictions)\n",
    "MSE = mean_squared_error(y_test,test_predictions)\n",
    "RMSE = np.sqrt(MSE)"
   ]
  },
  {
   "cell_type": "code",
   "execution_count": 45,
   "id": "personalized-memphis",
   "metadata": {},
   "outputs": [
    {
     "data": {
      "text/plain": [
       "16212.853319271835"
      ]
     },
     "execution_count": 45,
     "metadata": {},
     "output_type": "execute_result"
    }
   ],
   "source": [
    "MAE"
   ]
  },
  {
   "cell_type": "code",
   "execution_count": 46,
   "id": "silver-harvest",
   "metadata": {},
   "outputs": [
    {
     "data": {
      "text/plain": [
       "22644.794635283422"
      ]
     },
     "execution_count": 46,
     "metadata": {},
     "output_type": "execute_result"
    }
   ],
   "source": [
    "RMSE"
   ]
  },
  {
   "cell_type": "code",
   "execution_count": 47,
   "id": "impossible-upset",
   "metadata": {},
   "outputs": [
    {
     "data": {
      "text/plain": [
       "12.772979355700462"
      ]
     },
     "execution_count": 47,
     "metadata": {},
     "output_type": "execute_result"
    }
   ],
   "source": [
    "100*RMSE/df['SalePrice'].mean()"
   ]
  },
  {
   "cell_type": "code",
   "execution_count": 48,
   "id": "single-grave",
   "metadata": {},
   "outputs": [
    {
     "data": {
      "text/plain": [
       "array([ 1.13598848e+04,  3.65640880e+03,  3.85647193e+03,  4.29698976e+03,\n",
       "        3.72012677e+03,  3.08464682e+03,  6.70508866e+03,  6.10400245e+03,\n",
       "        1.22326617e+03,  3.46389270e+03,  2.20759141e+04, -8.51408296e+02,\n",
       "        5.24102473e+03, -1.60487743e+03,  3.97870083e+03, -0.00000000e+00,\n",
       "       -3.19877938e+02,  1.55973080e+03,  2.15663451e+03,  5.30648799e+03,\n",
       "       -0.00000000e+00, -3.41410187e+02,  1.30873001e+02,  1.34811598e+03,\n",
       "       -5.40752820e+00, -2.31903878e+02,  2.95650733e+03,  1.21565685e+03,\n",
       "       -1.37141612e+02,  0.00000000e+00, -7.24543122e+02,  1.67858691e+03,\n",
       "       -3.36542672e+02,  3.16292994e+02,  2.86169345e+01,  4.11660167e+02,\n",
       "        9.50546364e+02,  5.40616691e+02,  9.70825670e+02, -5.73436040e+02,\n",
       "        3.41427516e+03, -5.07697371e+01, -1.06039687e+03,  2.87104048e+02,\n",
       "        3.57033397e+03, -0.00000000e+00,  0.00000000e+00, -0.00000000e+00,\n",
       "        0.00000000e+00, -0.00000000e+00,  7.32090503e+02, -8.18188694e+02,\n",
       "        3.58569798e+03,  7.19189775e+03, -1.58149685e+03, -0.00000000e+00,\n",
       "        6.86598691e+02, -1.30977188e+03,  3.03653284e+03,  3.86405732e+03,\n",
       "        0.00000000e+00,  6.58502058e+02,  0.00000000e+00,  2.78205980e+03,\n",
       "        7.22629605e+02,  1.23816000e+03, -0.00000000e+00,  9.15209527e+02,\n",
       "       -0.00000000e+00, -3.17183605e+02, -2.21225126e+02,  0.00000000e+00,\n",
       "        1.81795290e+03,  1.66602211e+03, -2.36455426e+02,  0.00000000e+00,\n",
       "        0.00000000e+00, -7.52003569e+02, -3.63530620e+03, -5.29209670e+03,\n",
       "       -6.21086668e+03, -0.00000000e+00,  1.58006780e+02, -1.39430065e+03,\n",
       "       -0.00000000e+00,  0.00000000e+00,  2.43614268e+02, -0.00000000e+00,\n",
       "       -0.00000000e+00,  1.11639154e+02,  1.09719239e+03, -1.17687204e+03,\n",
       "       -0.00000000e+00,  0.00000000e+00,  0.00000000e+00,  0.00000000e+00,\n",
       "        2.91805972e+02,  0.00000000e+00,  1.69403252e+03,  0.00000000e+00,\n",
       "       -0.00000000e+00,  2.05096572e+03, -0.00000000e+00,  0.00000000e+00,\n",
       "       -7.80862808e+02, -2.48163807e+02,  3.18543227e+02, -0.00000000e+00,\n",
       "       -0.00000000e+00,  0.00000000e+00, -0.00000000e+00, -1.04182063e+03,\n",
       "        3.38312630e+02,  1.66205893e+02,  0.00000000e+00, -0.00000000e+00,\n",
       "        2.30499992e+02,  1.85964561e+03, -1.99860635e+02,  5.39048790e+02,\n",
       "        0.00000000e+00,  0.00000000e+00, -5.26814359e+02, -2.25311848e+02,\n",
       "       -7.03197392e+02,  0.00000000e+00,  1.68869576e+02, -4.47610213e+02,\n",
       "       -2.05903691e+02, -1.26125287e+03,  1.65160447e+03,  4.67298248e+02,\n",
       "        0.00000000e+00,  0.00000000e+00,  2.65875928e+03, -0.00000000e+00,\n",
       "       -3.06969947e+02,  0.00000000e+00, -3.63721689e+02, -0.00000000e+00,\n",
       "       -9.66085275e+02,  3.52947166e+02, -1.02073109e+02,  0.00000000e+00,\n",
       "       -0.00000000e+00, -0.00000000e+00, -8.13779547e+02,  7.24486049e+02,\n",
       "        0.00000000e+00, -0.00000000e+00, -1.04495816e+02, -1.35068945e+03,\n",
       "        3.45629604e+03, -0.00000000e+00, -1.01604290e+02,  1.15488173e+03,\n",
       "       -2.04069593e+02,  0.00000000e+00,  2.30861569e+03, -1.22098956e+02,\n",
       "       -0.00000000e+00,  0.00000000e+00,  1.29377978e+03,  1.32695397e+02,\n",
       "        1.07039774e+02,  0.00000000e+00,  4.93961229e+03,  6.57593045e+02,\n",
       "        0.00000000e+00,  0.00000000e+00,  4.78510345e+02,  1.22241503e+03,\n",
       "       -0.00000000e+00,  2.91469887e+03,  1.06454136e+03])"
      ]
     },
     "execution_count": 48,
     "metadata": {},
     "output_type": "execute_result"
    }
   ],
   "source": [
    "elastic_model.coef_"
   ]
  },
  {
   "cell_type": "code",
   "execution_count": 49,
   "id": "funky-street",
   "metadata": {},
   "outputs": [
    {
     "ename": "SyntaxError",
     "evalue": "invalid syntax (<ipython-input-49-d05aadeb92a0>, line 2)",
     "output_type": "error",
     "traceback": [
      "\u001b[1;36m  File \u001b[1;32m\"<ipython-input-49-d05aadeb92a0>\"\u001b[1;36m, line \u001b[1;32m2\u001b[0m\n\u001b[1;33m    print(arr[0]+','arr[1]+','arr[3])\u001b[0m\n\u001b[1;37m                      ^\u001b[0m\n\u001b[1;31mSyntaxError\u001b[0m\u001b[1;31m:\u001b[0m invalid syntax\n"
     ]
    }
   ],
   "source": [
    "arr = X.columns.Values\n",
    "print(arr[0]+','arr[1]+','arr[3])"
   ]
  }
 ],
 "metadata": {
  "kernelspec": {
   "display_name": "Python 3",
   "language": "python",
   "name": "python3"
  },
  "language_info": {
   "codemirror_mode": {
    "name": "ipython",
    "version": 3
   },
   "file_extension": ".py",
   "mimetype": "text/x-python",
   "name": "python",
   "nbconvert_exporter": "python",
   "pygments_lexer": "ipython3",
   "version": "3.7.10"
  }
 },
 "nbformat": 4,
 "nbformat_minor": 5
}
