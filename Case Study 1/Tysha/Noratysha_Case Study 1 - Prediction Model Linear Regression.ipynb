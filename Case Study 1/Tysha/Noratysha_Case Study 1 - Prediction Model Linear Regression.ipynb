{
 "cells": [
  {
   "cell_type": "code",
   "execution_count": 41,
   "id": "universal-bleeding",
   "metadata": {},
   "outputs": [],
   "source": [
    "import numpy as np\n",
    "import pandas as pd\n",
    "import matplotlib.pyplot as plt\n",
    "import seaborn as sns"
   ]
  },
  {
   "cell_type": "code",
   "execution_count": 42,
   "id": "measured-surgery",
   "metadata": {},
   "outputs": [],
   "source": [
    "df = pd.read_csv('Ames Housing Data Encoding.csv')"
   ]
  },
  {
   "cell_type": "code",
   "execution_count": 43,
   "id": "broad-prophet",
   "metadata": {},
   "outputs": [
    {
     "data": {
      "text/html": [
       "<div>\n",
       "<style scoped>\n",
       "    .dataframe tbody tr th:only-of-type {\n",
       "        vertical-align: middle;\n",
       "    }\n",
       "\n",
       "    .dataframe tbody tr th {\n",
       "        vertical-align: top;\n",
       "    }\n",
       "\n",
       "    .dataframe thead th {\n",
       "        text-align: right;\n",
       "    }\n",
       "</style>\n",
       "<table border=\"1\" class=\"dataframe\">\n",
       "  <thead>\n",
       "    <tr style=\"text-align: right;\">\n",
       "      <th></th>\n",
       "      <th>Overall Qual</th>\n",
       "      <th>Year Built</th>\n",
       "      <th>Year Remod/Add</th>\n",
       "      <th>Mas Vnr Area</th>\n",
       "      <th>Exter Qual</th>\n",
       "      <th>Bsmt Qual</th>\n",
       "      <th>BsmtFin Type 1</th>\n",
       "      <th>Total Bsmt SF</th>\n",
       "      <th>Heating QC</th>\n",
       "      <th>1st Flr SF</th>\n",
       "      <th>...</th>\n",
       "      <th>Sale Type_ConLw</th>\n",
       "      <th>Sale Type_New</th>\n",
       "      <th>Sale Type_Oth</th>\n",
       "      <th>Sale Type_VWD</th>\n",
       "      <th>Sale Type_WD</th>\n",
       "      <th>Sale Condition_AdjLand</th>\n",
       "      <th>Sale Condition_Alloca</th>\n",
       "      <th>Sale Condition_Family</th>\n",
       "      <th>Sale Condition_Normal</th>\n",
       "      <th>Sale Condition_Partial</th>\n",
       "    </tr>\n",
       "  </thead>\n",
       "  <tbody>\n",
       "    <tr>\n",
       "      <th>0</th>\n",
       "      <td>6</td>\n",
       "      <td>1960</td>\n",
       "      <td>1960</td>\n",
       "      <td>112.0</td>\n",
       "      <td>2</td>\n",
       "      <td>3</td>\n",
       "      <td>4</td>\n",
       "      <td>1080.0</td>\n",
       "      <td>1</td>\n",
       "      <td>1656</td>\n",
       "      <td>...</td>\n",
       "      <td>0</td>\n",
       "      <td>0</td>\n",
       "      <td>0</td>\n",
       "      <td>0</td>\n",
       "      <td>1</td>\n",
       "      <td>0</td>\n",
       "      <td>0</td>\n",
       "      <td>0</td>\n",
       "      <td>1</td>\n",
       "      <td>0</td>\n",
       "    </tr>\n",
       "    <tr>\n",
       "      <th>1</th>\n",
       "      <td>5</td>\n",
       "      <td>1961</td>\n",
       "      <td>1961</td>\n",
       "      <td>0.0</td>\n",
       "      <td>2</td>\n",
       "      <td>3</td>\n",
       "      <td>3</td>\n",
       "      <td>882.0</td>\n",
       "      <td>2</td>\n",
       "      <td>896</td>\n",
       "      <td>...</td>\n",
       "      <td>0</td>\n",
       "      <td>0</td>\n",
       "      <td>0</td>\n",
       "      <td>0</td>\n",
       "      <td>1</td>\n",
       "      <td>0</td>\n",
       "      <td>0</td>\n",
       "      <td>0</td>\n",
       "      <td>1</td>\n",
       "      <td>0</td>\n",
       "    </tr>\n",
       "    <tr>\n",
       "      <th>2</th>\n",
       "      <td>6</td>\n",
       "      <td>1958</td>\n",
       "      <td>1958</td>\n",
       "      <td>108.0</td>\n",
       "      <td>2</td>\n",
       "      <td>3</td>\n",
       "      <td>5</td>\n",
       "      <td>1329.0</td>\n",
       "      <td>2</td>\n",
       "      <td>1329</td>\n",
       "      <td>...</td>\n",
       "      <td>0</td>\n",
       "      <td>0</td>\n",
       "      <td>0</td>\n",
       "      <td>0</td>\n",
       "      <td>1</td>\n",
       "      <td>0</td>\n",
       "      <td>0</td>\n",
       "      <td>0</td>\n",
       "      <td>1</td>\n",
       "      <td>0</td>\n",
       "    </tr>\n",
       "    <tr>\n",
       "      <th>3</th>\n",
       "      <td>7</td>\n",
       "      <td>1968</td>\n",
       "      <td>1968</td>\n",
       "      <td>0.0</td>\n",
       "      <td>3</td>\n",
       "      <td>3</td>\n",
       "      <td>5</td>\n",
       "      <td>2110.0</td>\n",
       "      <td>4</td>\n",
       "      <td>2110</td>\n",
       "      <td>...</td>\n",
       "      <td>0</td>\n",
       "      <td>0</td>\n",
       "      <td>0</td>\n",
       "      <td>0</td>\n",
       "      <td>1</td>\n",
       "      <td>0</td>\n",
       "      <td>0</td>\n",
       "      <td>0</td>\n",
       "      <td>1</td>\n",
       "      <td>0</td>\n",
       "    </tr>\n",
       "    <tr>\n",
       "      <th>4</th>\n",
       "      <td>5</td>\n",
       "      <td>1997</td>\n",
       "      <td>1998</td>\n",
       "      <td>0.0</td>\n",
       "      <td>2</td>\n",
       "      <td>4</td>\n",
       "      <td>6</td>\n",
       "      <td>928.0</td>\n",
       "      <td>3</td>\n",
       "      <td>928</td>\n",
       "      <td>...</td>\n",
       "      <td>0</td>\n",
       "      <td>0</td>\n",
       "      <td>0</td>\n",
       "      <td>0</td>\n",
       "      <td>1</td>\n",
       "      <td>0</td>\n",
       "      <td>0</td>\n",
       "      <td>0</td>\n",
       "      <td>1</td>\n",
       "      <td>0</td>\n",
       "    </tr>\n",
       "    <tr>\n",
       "      <th>5</th>\n",
       "      <td>6</td>\n",
       "      <td>1998</td>\n",
       "      <td>1998</td>\n",
       "      <td>20.0</td>\n",
       "      <td>2</td>\n",
       "      <td>3</td>\n",
       "      <td>6</td>\n",
       "      <td>926.0</td>\n",
       "      <td>4</td>\n",
       "      <td>926</td>\n",
       "      <td>...</td>\n",
       "      <td>0</td>\n",
       "      <td>0</td>\n",
       "      <td>0</td>\n",
       "      <td>0</td>\n",
       "      <td>1</td>\n",
       "      <td>0</td>\n",
       "      <td>0</td>\n",
       "      <td>0</td>\n",
       "      <td>1</td>\n",
       "      <td>0</td>\n",
       "    </tr>\n",
       "    <tr>\n",
       "      <th>6</th>\n",
       "      <td>8</td>\n",
       "      <td>2001</td>\n",
       "      <td>2001</td>\n",
       "      <td>0.0</td>\n",
       "      <td>3</td>\n",
       "      <td>4</td>\n",
       "      <td>6</td>\n",
       "      <td>1338.0</td>\n",
       "      <td>4</td>\n",
       "      <td>1338</td>\n",
       "      <td>...</td>\n",
       "      <td>0</td>\n",
       "      <td>0</td>\n",
       "      <td>0</td>\n",
       "      <td>0</td>\n",
       "      <td>1</td>\n",
       "      <td>0</td>\n",
       "      <td>0</td>\n",
       "      <td>0</td>\n",
       "      <td>1</td>\n",
       "      <td>0</td>\n",
       "    </tr>\n",
       "    <tr>\n",
       "      <th>7</th>\n",
       "      <td>8</td>\n",
       "      <td>1992</td>\n",
       "      <td>1992</td>\n",
       "      <td>0.0</td>\n",
       "      <td>3</td>\n",
       "      <td>4</td>\n",
       "      <td>5</td>\n",
       "      <td>1280.0</td>\n",
       "      <td>4</td>\n",
       "      <td>1280</td>\n",
       "      <td>...</td>\n",
       "      <td>0</td>\n",
       "      <td>0</td>\n",
       "      <td>0</td>\n",
       "      <td>0</td>\n",
       "      <td>1</td>\n",
       "      <td>0</td>\n",
       "      <td>0</td>\n",
       "      <td>0</td>\n",
       "      <td>1</td>\n",
       "      <td>0</td>\n",
       "    </tr>\n",
       "    <tr>\n",
       "      <th>8</th>\n",
       "      <td>8</td>\n",
       "      <td>1995</td>\n",
       "      <td>1996</td>\n",
       "      <td>0.0</td>\n",
       "      <td>3</td>\n",
       "      <td>4</td>\n",
       "      <td>6</td>\n",
       "      <td>1595.0</td>\n",
       "      <td>4</td>\n",
       "      <td>1616</td>\n",
       "      <td>...</td>\n",
       "      <td>0</td>\n",
       "      <td>0</td>\n",
       "      <td>0</td>\n",
       "      <td>0</td>\n",
       "      <td>1</td>\n",
       "      <td>0</td>\n",
       "      <td>0</td>\n",
       "      <td>0</td>\n",
       "      <td>1</td>\n",
       "      <td>0</td>\n",
       "    </tr>\n",
       "    <tr>\n",
       "      <th>9</th>\n",
       "      <td>7</td>\n",
       "      <td>1999</td>\n",
       "      <td>1999</td>\n",
       "      <td>0.0</td>\n",
       "      <td>2</td>\n",
       "      <td>3</td>\n",
       "      <td>1</td>\n",
       "      <td>994.0</td>\n",
       "      <td>3</td>\n",
       "      <td>1028</td>\n",
       "      <td>...</td>\n",
       "      <td>0</td>\n",
       "      <td>0</td>\n",
       "      <td>0</td>\n",
       "      <td>0</td>\n",
       "      <td>1</td>\n",
       "      <td>0</td>\n",
       "      <td>0</td>\n",
       "      <td>0</td>\n",
       "      <td>1</td>\n",
       "      <td>0</td>\n",
       "    </tr>\n",
       "  </tbody>\n",
       "</table>\n",
       "<p>10 rows × 176 columns</p>\n",
       "</div>"
      ],
      "text/plain": [
       "   Overall Qual  Year Built  Year Remod/Add  Mas Vnr Area  Exter Qual  \\\n",
       "0             6        1960            1960         112.0           2   \n",
       "1             5        1961            1961           0.0           2   \n",
       "2             6        1958            1958         108.0           2   \n",
       "3             7        1968            1968           0.0           3   \n",
       "4             5        1997            1998           0.0           2   \n",
       "5             6        1998            1998          20.0           2   \n",
       "6             8        2001            2001           0.0           3   \n",
       "7             8        1992            1992           0.0           3   \n",
       "8             8        1995            1996           0.0           3   \n",
       "9             7        1999            1999           0.0           2   \n",
       "\n",
       "   Bsmt Qual  BsmtFin Type 1  Total Bsmt SF  Heating QC  1st Flr SF  ...  \\\n",
       "0          3               4         1080.0           1        1656  ...   \n",
       "1          3               3          882.0           2         896  ...   \n",
       "2          3               5         1329.0           2        1329  ...   \n",
       "3          3               5         2110.0           4        2110  ...   \n",
       "4          4               6          928.0           3         928  ...   \n",
       "5          3               6          926.0           4         926  ...   \n",
       "6          4               6         1338.0           4        1338  ...   \n",
       "7          4               5         1280.0           4        1280  ...   \n",
       "8          4               6         1595.0           4        1616  ...   \n",
       "9          3               1          994.0           3        1028  ...   \n",
       "\n",
       "   Sale Type_ConLw  Sale Type_New  Sale Type_Oth  Sale Type_VWD  \\\n",
       "0                0              0              0              0   \n",
       "1                0              0              0              0   \n",
       "2                0              0              0              0   \n",
       "3                0              0              0              0   \n",
       "4                0              0              0              0   \n",
       "5                0              0              0              0   \n",
       "6                0              0              0              0   \n",
       "7                0              0              0              0   \n",
       "8                0              0              0              0   \n",
       "9                0              0              0              0   \n",
       "\n",
       "   Sale Type_WD   Sale Condition_AdjLand  Sale Condition_Alloca  \\\n",
       "0              1                       0                      0   \n",
       "1              1                       0                      0   \n",
       "2              1                       0                      0   \n",
       "3              1                       0                      0   \n",
       "4              1                       0                      0   \n",
       "5              1                       0                      0   \n",
       "6              1                       0                      0   \n",
       "7              1                       0                      0   \n",
       "8              1                       0                      0   \n",
       "9              1                       0                      0   \n",
       "\n",
       "   Sale Condition_Family  Sale Condition_Normal  Sale Condition_Partial  \n",
       "0                      0                      1                       0  \n",
       "1                      0                      1                       0  \n",
       "2                      0                      1                       0  \n",
       "3                      0                      1                       0  \n",
       "4                      0                      1                       0  \n",
       "5                      0                      1                       0  \n",
       "6                      0                      1                       0  \n",
       "7                      0                      1                       0  \n",
       "8                      0                      1                       0  \n",
       "9                      0                      1                       0  \n",
       "\n",
       "[10 rows x 176 columns]"
      ]
     },
     "execution_count": 43,
     "metadata": {},
     "output_type": "execute_result"
    }
   ],
   "source": [
    "df.head(10)"
   ]
  },
  {
   "cell_type": "code",
   "execution_count": 44,
   "id": "adjusted-retention",
   "metadata": {},
   "outputs": [
    {
     "name": "stdout",
     "output_type": "stream",
     "text": [
      "<class 'pandas.core.frame.DataFrame'>\n",
      "RangeIndex: 2851 entries, 0 to 2850\n",
      "Columns: 176 entries, Overall Qual to Sale Condition_Partial\n",
      "dtypes: float64(5), int64(171)\n",
      "memory usage: 3.8 MB\n"
     ]
    }
   ],
   "source": [
    "df.info()"
   ]
  },
  {
   "cell_type": "markdown",
   "id": "british-black",
   "metadata": {},
   "source": [
    "**Train | Test Split**"
   ]
  },
  {
   "cell_type": "code",
   "execution_count": 45,
   "id": "disabled-moral",
   "metadata": {},
   "outputs": [],
   "source": [
    "X = df.drop('SalePrice',axis=1)\n",
    "y = df['SalePrice']"
   ]
  },
  {
   "cell_type": "code",
   "execution_count": 46,
   "id": "random-candle",
   "metadata": {},
   "outputs": [],
   "source": [
    "from sklearn.model_selection import train_test_split"
   ]
  },
  {
   "cell_type": "code",
   "execution_count": 47,
   "id": "wired-makeup",
   "metadata": {},
   "outputs": [],
   "source": [
    "X_train, X_test, y_train, y_test = train_test_split(X, y, test_size=0.3, random_state=101)"
   ]
  },
  {
   "cell_type": "code",
   "execution_count": 48,
   "id": "vocal-isolation",
   "metadata": {},
   "outputs": [
    {
     "data": {
      "text/html": [
       "<div>\n",
       "<style scoped>\n",
       "    .dataframe tbody tr th:only-of-type {\n",
       "        vertical-align: middle;\n",
       "    }\n",
       "\n",
       "    .dataframe tbody tr th {\n",
       "        vertical-align: top;\n",
       "    }\n",
       "\n",
       "    .dataframe thead th {\n",
       "        text-align: right;\n",
       "    }\n",
       "</style>\n",
       "<table border=\"1\" class=\"dataframe\">\n",
       "  <thead>\n",
       "    <tr style=\"text-align: right;\">\n",
       "      <th></th>\n",
       "      <th>Overall Qual</th>\n",
       "      <th>Year Built</th>\n",
       "      <th>Year Remod/Add</th>\n",
       "      <th>Mas Vnr Area</th>\n",
       "      <th>Exter Qual</th>\n",
       "      <th>Bsmt Qual</th>\n",
       "      <th>BsmtFin Type 1</th>\n",
       "      <th>Total Bsmt SF</th>\n",
       "      <th>Heating QC</th>\n",
       "      <th>1st Flr SF</th>\n",
       "      <th>...</th>\n",
       "      <th>Sale Type_ConLw</th>\n",
       "      <th>Sale Type_New</th>\n",
       "      <th>Sale Type_Oth</th>\n",
       "      <th>Sale Type_VWD</th>\n",
       "      <th>Sale Type_WD</th>\n",
       "      <th>Sale Condition_AdjLand</th>\n",
       "      <th>Sale Condition_Alloca</th>\n",
       "      <th>Sale Condition_Family</th>\n",
       "      <th>Sale Condition_Normal</th>\n",
       "      <th>Sale Condition_Partial</th>\n",
       "    </tr>\n",
       "  </thead>\n",
       "  <tbody>\n",
       "    <tr>\n",
       "      <th>1890</th>\n",
       "      <td>5</td>\n",
       "      <td>1935</td>\n",
       "      <td>2007</td>\n",
       "      <td>0.0</td>\n",
       "      <td>2</td>\n",
       "      <td>3</td>\n",
       "      <td>1</td>\n",
       "      <td>666.0</td>\n",
       "      <td>3</td>\n",
       "      <td>1308</td>\n",
       "      <td>...</td>\n",
       "      <td>0</td>\n",
       "      <td>0</td>\n",
       "      <td>0</td>\n",
       "      <td>0</td>\n",
       "      <td>1</td>\n",
       "      <td>0</td>\n",
       "      <td>0</td>\n",
       "      <td>1</td>\n",
       "      <td>0</td>\n",
       "      <td>0</td>\n",
       "    </tr>\n",
       "    <tr>\n",
       "      <th>1881</th>\n",
       "      <td>5</td>\n",
       "      <td>1955</td>\n",
       "      <td>1955</td>\n",
       "      <td>0.0</td>\n",
       "      <td>2</td>\n",
       "      <td>3</td>\n",
       "      <td>5</td>\n",
       "      <td>384.0</td>\n",
       "      <td>2</td>\n",
       "      <td>1360</td>\n",
       "      <td>...</td>\n",
       "      <td>0</td>\n",
       "      <td>0</td>\n",
       "      <td>0</td>\n",
       "      <td>0</td>\n",
       "      <td>1</td>\n",
       "      <td>0</td>\n",
       "      <td>0</td>\n",
       "      <td>0</td>\n",
       "      <td>1</td>\n",
       "      <td>0</td>\n",
       "    </tr>\n",
       "    <tr>\n",
       "      <th>1606</th>\n",
       "      <td>6</td>\n",
       "      <td>1978</td>\n",
       "      <td>1978</td>\n",
       "      <td>233.0</td>\n",
       "      <td>2</td>\n",
       "      <td>4</td>\n",
       "      <td>5</td>\n",
       "      <td>1032.0</td>\n",
       "      <td>2</td>\n",
       "      <td>1032</td>\n",
       "      <td>...</td>\n",
       "      <td>0</td>\n",
       "      <td>0</td>\n",
       "      <td>0</td>\n",
       "      <td>0</td>\n",
       "      <td>1</td>\n",
       "      <td>0</td>\n",
       "      <td>0</td>\n",
       "      <td>0</td>\n",
       "      <td>1</td>\n",
       "      <td>0</td>\n",
       "    </tr>\n",
       "    <tr>\n",
       "      <th>2120</th>\n",
       "      <td>6</td>\n",
       "      <td>1976</td>\n",
       "      <td>1976</td>\n",
       "      <td>174.0</td>\n",
       "      <td>2</td>\n",
       "      <td>3</td>\n",
       "      <td>4</td>\n",
       "      <td>1143.0</td>\n",
       "      <td>2</td>\n",
       "      <td>1113</td>\n",
       "      <td>...</td>\n",
       "      <td>0</td>\n",
       "      <td>0</td>\n",
       "      <td>0</td>\n",
       "      <td>0</td>\n",
       "      <td>1</td>\n",
       "      <td>0</td>\n",
       "      <td>0</td>\n",
       "      <td>0</td>\n",
       "      <td>1</td>\n",
       "      <td>0</td>\n",
       "    </tr>\n",
       "    <tr>\n",
       "      <th>1646</th>\n",
       "      <td>10</td>\n",
       "      <td>2005</td>\n",
       "      <td>2006</td>\n",
       "      <td>400.0</td>\n",
       "      <td>4</td>\n",
       "      <td>5</td>\n",
       "      <td>6</td>\n",
       "      <td>1994.0</td>\n",
       "      <td>4</td>\n",
       "      <td>2046</td>\n",
       "      <td>...</td>\n",
       "      <td>0</td>\n",
       "      <td>0</td>\n",
       "      <td>0</td>\n",
       "      <td>0</td>\n",
       "      <td>1</td>\n",
       "      <td>0</td>\n",
       "      <td>0</td>\n",
       "      <td>0</td>\n",
       "      <td>1</td>\n",
       "      <td>0</td>\n",
       "    </tr>\n",
       "    <tr>\n",
       "      <th>...</th>\n",
       "      <td>...</td>\n",
       "      <td>...</td>\n",
       "      <td>...</td>\n",
       "      <td>...</td>\n",
       "      <td>...</td>\n",
       "      <td>...</td>\n",
       "      <td>...</td>\n",
       "      <td>...</td>\n",
       "      <td>...</td>\n",
       "      <td>...</td>\n",
       "      <td>...</td>\n",
       "      <td>...</td>\n",
       "      <td>...</td>\n",
       "      <td>...</td>\n",
       "      <td>...</td>\n",
       "      <td>...</td>\n",
       "      <td>...</td>\n",
       "      <td>...</td>\n",
       "      <td>...</td>\n",
       "      <td>...</td>\n",
       "      <td>...</td>\n",
       "    </tr>\n",
       "    <tr>\n",
       "      <th>599</th>\n",
       "      <td>6</td>\n",
       "      <td>1953</td>\n",
       "      <td>1953</td>\n",
       "      <td>90.0</td>\n",
       "      <td>2</td>\n",
       "      <td>3</td>\n",
       "      <td>4</td>\n",
       "      <td>1505.0</td>\n",
       "      <td>4</td>\n",
       "      <td>1505</td>\n",
       "      <td>...</td>\n",
       "      <td>0</td>\n",
       "      <td>0</td>\n",
       "      <td>0</td>\n",
       "      <td>0</td>\n",
       "      <td>1</td>\n",
       "      <td>0</td>\n",
       "      <td>0</td>\n",
       "      <td>0</td>\n",
       "      <td>1</td>\n",
       "      <td>0</td>\n",
       "    </tr>\n",
       "    <tr>\n",
       "      <th>1599</th>\n",
       "      <td>6</td>\n",
       "      <td>1984</td>\n",
       "      <td>1984</td>\n",
       "      <td>0.0</td>\n",
       "      <td>2</td>\n",
       "      <td>4</td>\n",
       "      <td>6</td>\n",
       "      <td>1284.0</td>\n",
       "      <td>2</td>\n",
       "      <td>1284</td>\n",
       "      <td>...</td>\n",
       "      <td>0</td>\n",
       "      <td>0</td>\n",
       "      <td>0</td>\n",
       "      <td>0</td>\n",
       "      <td>0</td>\n",
       "      <td>0</td>\n",
       "      <td>0</td>\n",
       "      <td>0</td>\n",
       "      <td>0</td>\n",
       "      <td>0</td>\n",
       "    </tr>\n",
       "    <tr>\n",
       "      <th>1361</th>\n",
       "      <td>5</td>\n",
       "      <td>1941</td>\n",
       "      <td>1973</td>\n",
       "      <td>0.0</td>\n",
       "      <td>2</td>\n",
       "      <td>3</td>\n",
       "      <td>5</td>\n",
       "      <td>576.0</td>\n",
       "      <td>3</td>\n",
       "      <td>864</td>\n",
       "      <td>...</td>\n",
       "      <td>0</td>\n",
       "      <td>0</td>\n",
       "      <td>0</td>\n",
       "      <td>0</td>\n",
       "      <td>1</td>\n",
       "      <td>0</td>\n",
       "      <td>0</td>\n",
       "      <td>0</td>\n",
       "      <td>1</td>\n",
       "      <td>0</td>\n",
       "    </tr>\n",
       "    <tr>\n",
       "      <th>1547</th>\n",
       "      <td>6</td>\n",
       "      <td>1997</td>\n",
       "      <td>1997</td>\n",
       "      <td>197.0</td>\n",
       "      <td>2</td>\n",
       "      <td>5</td>\n",
       "      <td>6</td>\n",
       "      <td>1189.0</td>\n",
       "      <td>4</td>\n",
       "      <td>1189</td>\n",
       "      <td>...</td>\n",
       "      <td>0</td>\n",
       "      <td>0</td>\n",
       "      <td>0</td>\n",
       "      <td>0</td>\n",
       "      <td>1</td>\n",
       "      <td>0</td>\n",
       "      <td>0</td>\n",
       "      <td>0</td>\n",
       "      <td>1</td>\n",
       "      <td>0</td>\n",
       "    </tr>\n",
       "    <tr>\n",
       "      <th>863</th>\n",
       "      <td>4</td>\n",
       "      <td>1960</td>\n",
       "      <td>1971</td>\n",
       "      <td>0.0</td>\n",
       "      <td>2</td>\n",
       "      <td>3</td>\n",
       "      <td>6</td>\n",
       "      <td>1014.0</td>\n",
       "      <td>2</td>\n",
       "      <td>1149</td>\n",
       "      <td>...</td>\n",
       "      <td>0</td>\n",
       "      <td>0</td>\n",
       "      <td>0</td>\n",
       "      <td>0</td>\n",
       "      <td>1</td>\n",
       "      <td>0</td>\n",
       "      <td>0</td>\n",
       "      <td>0</td>\n",
       "      <td>1</td>\n",
       "      <td>0</td>\n",
       "    </tr>\n",
       "  </tbody>\n",
       "</table>\n",
       "<p>1995 rows × 175 columns</p>\n",
       "</div>"
      ],
      "text/plain": [
       "      Overall Qual  Year Built  Year Remod/Add  Mas Vnr Area  Exter Qual  \\\n",
       "1890             5        1935            2007           0.0           2   \n",
       "1881             5        1955            1955           0.0           2   \n",
       "1606             6        1978            1978         233.0           2   \n",
       "2120             6        1976            1976         174.0           2   \n",
       "1646            10        2005            2006         400.0           4   \n",
       "...            ...         ...             ...           ...         ...   \n",
       "599              6        1953            1953          90.0           2   \n",
       "1599             6        1984            1984           0.0           2   \n",
       "1361             5        1941            1973           0.0           2   \n",
       "1547             6        1997            1997         197.0           2   \n",
       "863              4        1960            1971           0.0           2   \n",
       "\n",
       "      Bsmt Qual  BsmtFin Type 1  Total Bsmt SF  Heating QC  1st Flr SF  ...  \\\n",
       "1890          3               1          666.0           3        1308  ...   \n",
       "1881          3               5          384.0           2        1360  ...   \n",
       "1606          4               5         1032.0           2        1032  ...   \n",
       "2120          3               4         1143.0           2        1113  ...   \n",
       "1646          5               6         1994.0           4        2046  ...   \n",
       "...         ...             ...            ...         ...         ...  ...   \n",
       "599           3               4         1505.0           4        1505  ...   \n",
       "1599          4               6         1284.0           2        1284  ...   \n",
       "1361          3               5          576.0           3         864  ...   \n",
       "1547          5               6         1189.0           4        1189  ...   \n",
       "863           3               6         1014.0           2        1149  ...   \n",
       "\n",
       "      Sale Type_ConLw  Sale Type_New  Sale Type_Oth  Sale Type_VWD  \\\n",
       "1890                0              0              0              0   \n",
       "1881                0              0              0              0   \n",
       "1606                0              0              0              0   \n",
       "2120                0              0              0              0   \n",
       "1646                0              0              0              0   \n",
       "...               ...            ...            ...            ...   \n",
       "599                 0              0              0              0   \n",
       "1599                0              0              0              0   \n",
       "1361                0              0              0              0   \n",
       "1547                0              0              0              0   \n",
       "863                 0              0              0              0   \n",
       "\n",
       "      Sale Type_WD   Sale Condition_AdjLand  Sale Condition_Alloca  \\\n",
       "1890              1                       0                      0   \n",
       "1881              1                       0                      0   \n",
       "1606              1                       0                      0   \n",
       "2120              1                       0                      0   \n",
       "1646              1                       0                      0   \n",
       "...             ...                     ...                    ...   \n",
       "599               1                       0                      0   \n",
       "1599              0                       0                      0   \n",
       "1361              1                       0                      0   \n",
       "1547              1                       0                      0   \n",
       "863               1                       0                      0   \n",
       "\n",
       "      Sale Condition_Family  Sale Condition_Normal  Sale Condition_Partial  \n",
       "1890                      1                      0                       0  \n",
       "1881                      0                      1                       0  \n",
       "1606                      0                      1                       0  \n",
       "2120                      0                      1                       0  \n",
       "1646                      0                      1                       0  \n",
       "...                     ...                    ...                     ...  \n",
       "599                       0                      1                       0  \n",
       "1599                      0                      0                       0  \n",
       "1361                      0                      1                       0  \n",
       "1547                      0                      1                       0  \n",
       "863                       0                      1                       0  \n",
       "\n",
       "[1995 rows x 175 columns]"
      ]
     },
     "execution_count": 48,
     "metadata": {},
     "output_type": "execute_result"
    }
   ],
   "source": [
    "X_train"
   ]
  },
  {
   "cell_type": "code",
   "execution_count": 49,
   "id": "packed-species",
   "metadata": {},
   "outputs": [
    {
     "data": {
      "text/plain": [
       "1890    301600\n",
       "1881    130000\n",
       "1606    148000\n",
       "2120    148000\n",
       "1646    450000\n",
       "         ...  \n",
       "599     149500\n",
       "1599    174000\n",
       "1361    152400\n",
       "1547    160500\n",
       "863     127000\n",
       "Name: SalePrice, Length: 1995, dtype: int64"
      ]
     },
     "execution_count": 49,
     "metadata": {},
     "output_type": "execute_result"
    }
   ],
   "source": [
    "y_train"
   ]
  },
  {
   "cell_type": "code",
   "execution_count": 50,
   "id": "negative-greece",
   "metadata": {},
   "outputs": [
    {
     "name": "stdout",
     "output_type": "stream",
     "text": [
      "<class 'pandas.core.frame.DataFrame'>\n",
      "Int64Index: 856 entries, 1207 to 2407\n",
      "Columns: 175 entries, Overall Qual to Sale Condition_Partial\n",
      "dtypes: float64(5), int64(170)\n",
      "memory usage: 1.1 MB\n"
     ]
    }
   ],
   "source": [
    "X_test.info()"
   ]
  },
  {
   "cell_type": "code",
   "execution_count": 51,
   "id": "indian-dispatch",
   "metadata": {},
   "outputs": [
    {
     "data": {
      "text/plain": [
       "1995"
      ]
     },
     "execution_count": 51,
     "metadata": {},
     "output_type": "execute_result"
    }
   ],
   "source": [
    "len(y_train)"
   ]
  },
  {
   "cell_type": "code",
   "execution_count": 52,
   "id": "broke-blackberry",
   "metadata": {},
   "outputs": [
    {
     "data": {
      "text/plain": [
       "856"
      ]
     },
     "execution_count": 52,
     "metadata": {},
     "output_type": "execute_result"
    }
   ],
   "source": [
    "len(y_test)"
   ]
  },
  {
   "cell_type": "markdown",
   "id": "living-anniversary",
   "metadata": {},
   "source": [
    "**Creating Model**"
   ]
  },
  {
   "cell_type": "code",
   "execution_count": 53,
   "id": "sophisticated-sponsorship",
   "metadata": {},
   "outputs": [],
   "source": [
    "from sklearn.linear_model import LinearRegression"
   ]
  },
  {
   "cell_type": "code",
   "execution_count": 54,
   "id": "perfect-choice",
   "metadata": {},
   "outputs": [],
   "source": [
    "model = LinearRegression()"
   ]
  },
  {
   "cell_type": "code",
   "execution_count": 55,
   "id": "sound-fourth",
   "metadata": {},
   "outputs": [
    {
     "data": {
      "text/plain": [
       "LinearRegression()"
      ]
     },
     "execution_count": 55,
     "metadata": {},
     "output_type": "execute_result"
    }
   ],
   "source": [
    "model.fit(X_train, y_train)"
   ]
  },
  {
   "cell_type": "code",
   "execution_count": 56,
   "id": "collective-skirt",
   "metadata": {},
   "outputs": [
    {
     "data": {
      "text/html": [
       "<div>\n",
       "<style scoped>\n",
       "    .dataframe tbody tr th:only-of-type {\n",
       "        vertical-align: middle;\n",
       "    }\n",
       "\n",
       "    .dataframe tbody tr th {\n",
       "        vertical-align: top;\n",
       "    }\n",
       "\n",
       "    .dataframe thead th {\n",
       "        text-align: right;\n",
       "    }\n",
       "</style>\n",
       "<table border=\"1\" class=\"dataframe\">\n",
       "  <thead>\n",
       "    <tr style=\"text-align: right;\">\n",
       "      <th></th>\n",
       "      <th>Overall Qual</th>\n",
       "      <th>Year Built</th>\n",
       "      <th>Year Remod/Add</th>\n",
       "      <th>Mas Vnr Area</th>\n",
       "      <th>Exter Qual</th>\n",
       "      <th>Bsmt Qual</th>\n",
       "      <th>BsmtFin Type 1</th>\n",
       "      <th>Total Bsmt SF</th>\n",
       "      <th>Heating QC</th>\n",
       "      <th>1st Flr SF</th>\n",
       "      <th>...</th>\n",
       "      <th>Sale Type_ConLw</th>\n",
       "      <th>Sale Type_New</th>\n",
       "      <th>Sale Type_Oth</th>\n",
       "      <th>Sale Type_VWD</th>\n",
       "      <th>Sale Type_WD</th>\n",
       "      <th>Sale Condition_AdjLand</th>\n",
       "      <th>Sale Condition_Alloca</th>\n",
       "      <th>Sale Condition_Family</th>\n",
       "      <th>Sale Condition_Normal</th>\n",
       "      <th>Sale Condition_Partial</th>\n",
       "    </tr>\n",
       "  </thead>\n",
       "  <tbody>\n",
       "    <tr>\n",
       "      <th>1207</th>\n",
       "      <td>5</td>\n",
       "      <td>1959</td>\n",
       "      <td>1998</td>\n",
       "      <td>0.0</td>\n",
       "      <td>2</td>\n",
       "      <td>3</td>\n",
       "      <td>5</td>\n",
       "      <td>1248.0</td>\n",
       "      <td>2</td>\n",
       "      <td>1440</td>\n",
       "      <td>...</td>\n",
       "      <td>0</td>\n",
       "      <td>0</td>\n",
       "      <td>0</td>\n",
       "      <td>0</td>\n",
       "      <td>1</td>\n",
       "      <td>0</td>\n",
       "      <td>0</td>\n",
       "      <td>0</td>\n",
       "      <td>1</td>\n",
       "      <td>0</td>\n",
       "    </tr>\n",
       "    <tr>\n",
       "      <th>2221</th>\n",
       "      <td>5</td>\n",
       "      <td>1976</td>\n",
       "      <td>1976</td>\n",
       "      <td>0.0</td>\n",
       "      <td>2</td>\n",
       "      <td>4</td>\n",
       "      <td>5</td>\n",
       "      <td>1142.0</td>\n",
       "      <td>2</td>\n",
       "      <td>1142</td>\n",
       "      <td>...</td>\n",
       "      <td>0</td>\n",
       "      <td>0</td>\n",
       "      <td>0</td>\n",
       "      <td>0</td>\n",
       "      <td>1</td>\n",
       "      <td>0</td>\n",
       "      <td>0</td>\n",
       "      <td>0</td>\n",
       "      <td>1</td>\n",
       "      <td>0</td>\n",
       "    </tr>\n",
       "    <tr>\n",
       "      <th>890</th>\n",
       "      <td>7</td>\n",
       "      <td>1928</td>\n",
       "      <td>1950</td>\n",
       "      <td>0.0</td>\n",
       "      <td>2</td>\n",
       "      <td>3</td>\n",
       "      <td>1</td>\n",
       "      <td>861.0</td>\n",
       "      <td>3</td>\n",
       "      <td>877</td>\n",
       "      <td>...</td>\n",
       "      <td>0</td>\n",
       "      <td>0</td>\n",
       "      <td>0</td>\n",
       "      <td>0</td>\n",
       "      <td>1</td>\n",
       "      <td>0</td>\n",
       "      <td>0</td>\n",
       "      <td>0</td>\n",
       "      <td>1</td>\n",
       "      <td>0</td>\n",
       "    </tr>\n",
       "    <tr>\n",
       "      <th>1102</th>\n",
       "      <td>7</td>\n",
       "      <td>2003</td>\n",
       "      <td>2004</td>\n",
       "      <td>95.0</td>\n",
       "      <td>3</td>\n",
       "      <td>4</td>\n",
       "      <td>1</td>\n",
       "      <td>835.0</td>\n",
       "      <td>4</td>\n",
       "      <td>835</td>\n",
       "      <td>...</td>\n",
       "      <td>0</td>\n",
       "      <td>0</td>\n",
       "      <td>0</td>\n",
       "      <td>0</td>\n",
       "      <td>1</td>\n",
       "      <td>0</td>\n",
       "      <td>0</td>\n",
       "      <td>0</td>\n",
       "      <td>1</td>\n",
       "      <td>0</td>\n",
       "    </tr>\n",
       "    <tr>\n",
       "      <th>2383</th>\n",
       "      <td>8</td>\n",
       "      <td>1994</td>\n",
       "      <td>1994</td>\n",
       "      <td>391.0</td>\n",
       "      <td>3</td>\n",
       "      <td>4</td>\n",
       "      <td>6</td>\n",
       "      <td>1165.0</td>\n",
       "      <td>4</td>\n",
       "      <td>1203</td>\n",
       "      <td>...</td>\n",
       "      <td>0</td>\n",
       "      <td>0</td>\n",
       "      <td>0</td>\n",
       "      <td>0</td>\n",
       "      <td>1</td>\n",
       "      <td>0</td>\n",
       "      <td>0</td>\n",
       "      <td>0</td>\n",
       "      <td>1</td>\n",
       "      <td>0</td>\n",
       "    </tr>\n",
       "    <tr>\n",
       "      <th>...</th>\n",
       "      <td>...</td>\n",
       "      <td>...</td>\n",
       "      <td>...</td>\n",
       "      <td>...</td>\n",
       "      <td>...</td>\n",
       "      <td>...</td>\n",
       "      <td>...</td>\n",
       "      <td>...</td>\n",
       "      <td>...</td>\n",
       "      <td>...</td>\n",
       "      <td>...</td>\n",
       "      <td>...</td>\n",
       "      <td>...</td>\n",
       "      <td>...</td>\n",
       "      <td>...</td>\n",
       "      <td>...</td>\n",
       "      <td>...</td>\n",
       "      <td>...</td>\n",
       "      <td>...</td>\n",
       "      <td>...</td>\n",
       "      <td>...</td>\n",
       "    </tr>\n",
       "    <tr>\n",
       "      <th>1281</th>\n",
       "      <td>5</td>\n",
       "      <td>1905</td>\n",
       "      <td>2005</td>\n",
       "      <td>0.0</td>\n",
       "      <td>3</td>\n",
       "      <td>2</td>\n",
       "      <td>1</td>\n",
       "      <td>572.0</td>\n",
       "      <td>4</td>\n",
       "      <td>884</td>\n",
       "      <td>...</td>\n",
       "      <td>0</td>\n",
       "      <td>0</td>\n",
       "      <td>0</td>\n",
       "      <td>0</td>\n",
       "      <td>1</td>\n",
       "      <td>0</td>\n",
       "      <td>0</td>\n",
       "      <td>0</td>\n",
       "      <td>1</td>\n",
       "      <td>0</td>\n",
       "    </tr>\n",
       "    <tr>\n",
       "      <th>1968</th>\n",
       "      <td>6</td>\n",
       "      <td>1920</td>\n",
       "      <td>1950</td>\n",
       "      <td>0.0</td>\n",
       "      <td>2</td>\n",
       "      <td>3</td>\n",
       "      <td>1</td>\n",
       "      <td>768.0</td>\n",
       "      <td>4</td>\n",
       "      <td>752</td>\n",
       "      <td>...</td>\n",
       "      <td>0</td>\n",
       "      <td>0</td>\n",
       "      <td>0</td>\n",
       "      <td>0</td>\n",
       "      <td>1</td>\n",
       "      <td>0</td>\n",
       "      <td>0</td>\n",
       "      <td>0</td>\n",
       "      <td>1</td>\n",
       "      <td>0</td>\n",
       "    </tr>\n",
       "    <tr>\n",
       "      <th>325</th>\n",
       "      <td>4</td>\n",
       "      <td>1972</td>\n",
       "      <td>1972</td>\n",
       "      <td>0.0</td>\n",
       "      <td>2</td>\n",
       "      <td>3</td>\n",
       "      <td>3</td>\n",
       "      <td>546.0</td>\n",
       "      <td>2</td>\n",
       "      <td>546</td>\n",
       "      <td>...</td>\n",
       "      <td>0</td>\n",
       "      <td>0</td>\n",
       "      <td>0</td>\n",
       "      <td>0</td>\n",
       "      <td>1</td>\n",
       "      <td>0</td>\n",
       "      <td>0</td>\n",
       "      <td>0</td>\n",
       "      <td>1</td>\n",
       "      <td>0</td>\n",
       "    </tr>\n",
       "    <tr>\n",
       "      <th>1256</th>\n",
       "      <td>6</td>\n",
       "      <td>1920</td>\n",
       "      <td>1950</td>\n",
       "      <td>0.0</td>\n",
       "      <td>3</td>\n",
       "      <td>4</td>\n",
       "      <td>2</td>\n",
       "      <td>1510.0</td>\n",
       "      <td>4</td>\n",
       "      <td>1584</td>\n",
       "      <td>...</td>\n",
       "      <td>0</td>\n",
       "      <td>0</td>\n",
       "      <td>0</td>\n",
       "      <td>0</td>\n",
       "      <td>1</td>\n",
       "      <td>0</td>\n",
       "      <td>0</td>\n",
       "      <td>0</td>\n",
       "      <td>1</td>\n",
       "      <td>0</td>\n",
       "    </tr>\n",
       "    <tr>\n",
       "      <th>2407</th>\n",
       "      <td>7</td>\n",
       "      <td>2005</td>\n",
       "      <td>2005</td>\n",
       "      <td>96.0</td>\n",
       "      <td>3</td>\n",
       "      <td>4</td>\n",
       "      <td>1</td>\n",
       "      <td>784.0</td>\n",
       "      <td>4</td>\n",
       "      <td>831</td>\n",
       "      <td>...</td>\n",
       "      <td>0</td>\n",
       "      <td>0</td>\n",
       "      <td>0</td>\n",
       "      <td>0</td>\n",
       "      <td>1</td>\n",
       "      <td>0</td>\n",
       "      <td>0</td>\n",
       "      <td>0</td>\n",
       "      <td>1</td>\n",
       "      <td>0</td>\n",
       "    </tr>\n",
       "  </tbody>\n",
       "</table>\n",
       "<p>856 rows × 175 columns</p>\n",
       "</div>"
      ],
      "text/plain": [
       "      Overall Qual  Year Built  Year Remod/Add  Mas Vnr Area  Exter Qual  \\\n",
       "1207             5        1959            1998           0.0           2   \n",
       "2221             5        1976            1976           0.0           2   \n",
       "890              7        1928            1950           0.0           2   \n",
       "1102             7        2003            2004          95.0           3   \n",
       "2383             8        1994            1994         391.0           3   \n",
       "...            ...         ...             ...           ...         ...   \n",
       "1281             5        1905            2005           0.0           3   \n",
       "1968             6        1920            1950           0.0           2   \n",
       "325              4        1972            1972           0.0           2   \n",
       "1256             6        1920            1950           0.0           3   \n",
       "2407             7        2005            2005          96.0           3   \n",
       "\n",
       "      Bsmt Qual  BsmtFin Type 1  Total Bsmt SF  Heating QC  1st Flr SF  ...  \\\n",
       "1207          3               5         1248.0           2        1440  ...   \n",
       "2221          4               5         1142.0           2        1142  ...   \n",
       "890           3               1          861.0           3         877  ...   \n",
       "1102          4               1          835.0           4         835  ...   \n",
       "2383          4               6         1165.0           4        1203  ...   \n",
       "...         ...             ...            ...         ...         ...  ...   \n",
       "1281          2               1          572.0           4         884  ...   \n",
       "1968          3               1          768.0           4         752  ...   \n",
       "325           3               3          546.0           2         546  ...   \n",
       "1256          4               2         1510.0           4        1584  ...   \n",
       "2407          4               1          784.0           4         831  ...   \n",
       "\n",
       "      Sale Type_ConLw  Sale Type_New  Sale Type_Oth  Sale Type_VWD  \\\n",
       "1207                0              0              0              0   \n",
       "2221                0              0              0              0   \n",
       "890                 0              0              0              0   \n",
       "1102                0              0              0              0   \n",
       "2383                0              0              0              0   \n",
       "...               ...            ...            ...            ...   \n",
       "1281                0              0              0              0   \n",
       "1968                0              0              0              0   \n",
       "325                 0              0              0              0   \n",
       "1256                0              0              0              0   \n",
       "2407                0              0              0              0   \n",
       "\n",
       "      Sale Type_WD   Sale Condition_AdjLand  Sale Condition_Alloca  \\\n",
       "1207              1                       0                      0   \n",
       "2221              1                       0                      0   \n",
       "890               1                       0                      0   \n",
       "1102              1                       0                      0   \n",
       "2383              1                       0                      0   \n",
       "...             ...                     ...                    ...   \n",
       "1281              1                       0                      0   \n",
       "1968              1                       0                      0   \n",
       "325               1                       0                      0   \n",
       "1256              1                       0                      0   \n",
       "2407              1                       0                      0   \n",
       "\n",
       "      Sale Condition_Family  Sale Condition_Normal  Sale Condition_Partial  \n",
       "1207                      0                      1                       0  \n",
       "2221                      0                      1                       0  \n",
       "890                       0                      1                       0  \n",
       "1102                      0                      1                       0  \n",
       "2383                      0                      1                       0  \n",
       "...                     ...                    ...                     ...  \n",
       "1281                      0                      1                       0  \n",
       "1968                      0                      1                       0  \n",
       "325                       0                      1                       0  \n",
       "1256                      0                      1                       0  \n",
       "2407                      0                      1                       0  \n",
       "\n",
       "[856 rows x 175 columns]"
      ]
     },
     "execution_count": 56,
     "metadata": {},
     "output_type": "execute_result"
    }
   ],
   "source": [
    "X_test"
   ]
  },
  {
   "cell_type": "code",
   "execution_count": 57,
   "id": "dominant-lesson",
   "metadata": {},
   "outputs": [
    {
     "data": {
      "text/plain": [
       "1207    185000\n",
       "2221    134000\n",
       "890     145000\n",
       "1102    192500\n",
       "2383    290000\n",
       "         ...  \n",
       "1281    129400\n",
       "1968    165000\n",
       "325      85500\n",
       "1256    256000\n",
       "2407    184900\n",
       "Name: SalePrice, Length: 856, dtype: int64"
      ]
     },
     "execution_count": 57,
     "metadata": {},
     "output_type": "execute_result"
    }
   ],
   "source": [
    "y_test"
   ]
  },
  {
   "cell_type": "code",
   "execution_count": 58,
   "id": "combined-status",
   "metadata": {},
   "outputs": [],
   "source": [
    "test_predictions = model.predict(X_test)"
   ]
  },
  {
   "cell_type": "code",
   "execution_count": 19,
   "id": "fatal-virginia",
   "metadata": {},
   "outputs": [
    {
     "data": {
      "text/plain": [
       "array([165757.13362712, 143428.39650149, 134573.70631077, 176794.39651195,\n",
       "       319126.92447094, 290407.17894468, 203539.94039909, 189298.14305433,\n",
       "       136224.10943412, 124805.20598365, 334090.55188002, 102790.35488361,\n",
       "       131916.46361082, 130975.64669327, 134310.90093747, 250874.72372594,\n",
       "       235636.6681716 , 185901.89657957, 101251.21335426, 155207.23083271,\n",
       "       325696.74906188,  84115.52851401, 225381.7665346 , 167687.37748632,\n",
       "       191773.71406967,  91833.78245375, 339359.29572109, 178775.26006925,\n",
       "       111009.21738396, 268784.72634224, 127980.88124293, 169116.42350395,\n",
       "       236989.07340206, 291559.04619615,  58246.19337853, 336263.25813403,\n",
       "       138364.44270418, 158579.14819665, 195469.47398461, 245068.1859219 ,\n",
       "        98550.74791   , 257808.76015108, 242574.59243988, 161146.5265175 ,\n",
       "       273196.01053653, 131646.38400296, 140270.57268729, 194624.36638404,\n",
       "        77998.08450372,  79940.33193279, 120508.50356935, 152672.25067759,\n",
       "       182865.07384311, 249424.63786474, 156509.41168147, 423594.73330957,\n",
       "       296220.97788787, 131472.23656868,  46581.58551739,  86183.44987429,\n",
       "       122414.93748139, 121367.21162588, 273689.78222751, 119911.09146675,\n",
       "       250193.09578485, 104154.60012405, 300765.76320703, 214788.8295937 ,\n",
       "       109168.36522796, 118010.53436004, 235116.95592883, 150560.763994  ,\n",
       "       248985.14728342, 219700.40475435, 268334.03198798, 169359.64778593,\n",
       "       119915.75236279, 197066.43583248, 163741.70657646, 117998.88662922,\n",
       "       222937.64414851, 193530.82136468, 279968.49528719, 121784.33249518,\n",
       "       192812.59441422,  86703.81488253, 114126.23514854, 247564.03449895,\n",
       "       195588.61663104, 311782.01644331, 271487.52207781, 223974.72671811,\n",
       "       151069.8054901 , 150542.15454025, 184139.41187263, 136080.32973729,\n",
       "       107254.46176015, 239171.8247732 , 169674.84885062, 167701.6034059 ,\n",
       "       250227.87757737, 192019.83167308, 152606.70883566, 179811.80938766,\n",
       "       150829.42885666, 149800.59045426, 272993.13038762, 158414.53938629,\n",
       "        97891.68674195,  45834.52832316, 127428.18504873, 201276.82177035,\n",
       "       142788.82276004, 300536.00935426, 158907.02209613, 270654.7687337 ,\n",
       "       134536.30206341, 251994.36196038, 209572.11456034, 145286.36762945,\n",
       "       343095.12345216, 225604.40061709,  70267.84631139, 162297.22901784,\n",
       "       180991.69797421, 372846.50987479, 190084.32168436, 302959.91893568,\n",
       "       219447.43896207, 140310.32083216, 113795.41528955, 114109.08412149,\n",
       "       134660.27786725, 143125.36683435, 110031.01989287, 265192.81764724,\n",
       "       332944.0489873 ,  44205.02700674, 114976.83802029, 172939.55526497,\n",
       "       141808.43313583, 283899.49035696, 118464.23233314, 189653.50463348,\n",
       "       135829.39406398, 153160.76783834, 148985.48042631, 167925.86191365,\n",
       "       118047.65588185, 221224.83853961, 215502.85744535, 144727.51097439,\n",
       "       136242.87216779, 136446.50148869, 264669.94210568, 203346.92566938,\n",
       "       165839.47597671, 126199.64730625, 232969.88056962, 188482.16766985,\n",
       "       104035.0899447 , 136909.93389311, 299896.15614701, 300232.97543288,\n",
       "        90432.24364961, 120558.621929  , 136780.96359956, 132286.91227923,\n",
       "       139742.61705666, 378061.2704525 ,  78215.62136581, 112191.10920178,\n",
       "       143828.38985532, 152591.36324796, 231575.45171826, 172043.81789391,\n",
       "       176843.86049986, 200605.95174107, 133876.80459249, 145782.16422134,\n",
       "       186824.12413968,  99266.81584361, 140345.37206455, 313821.03340299,\n",
       "       196299.35546691, 177212.25608245, 191336.15751605, 134841.971571  ,\n",
       "       163567.11218877, 261515.57131765, 193043.12590166, 221109.53208604,\n",
       "        99191.7140875 ,  99056.59329961, 140248.66923683, 118146.68121814,\n",
       "       335581.14352459, 139184.46726142, 201828.60565425, 167293.23803789,\n",
       "       168636.02360798, 162373.71636696, 166084.04847102, 221033.0488402 ,\n",
       "       161972.93785946, 201921.69186062, 133528.87659338, 132359.79588428,\n",
       "       240963.52707439, 140207.04709359, 129119.21414068, 304849.17491112,\n",
       "       133319.80104275, 194681.18519554, 139367.81018754, 247281.63905997,\n",
       "       179140.91267111, 150180.58742881, 193094.3867036 , 139221.32302226,\n",
       "       197804.5168926 , 149950.52678642, 141854.41064297,  70197.65714291,\n",
       "       173904.71795334, 162788.00610311, 122223.49328332, 240560.57587341,\n",
       "       197121.46561165,  89377.0232707 , 186737.62654804, 232884.54372559,\n",
       "       202410.45584176, 350054.25162372, 145938.74724475,  93326.31253893,\n",
       "       300447.98554429, 130346.34050188, 161546.27775148, 197538.99396598,\n",
       "       151408.73926406, 111953.63892306, 195615.74325298, 259366.45693724,\n",
       "       244821.10492658,  95948.33868001, 104504.62349436, 320092.6967847 ,\n",
       "        93442.57381628, 184421.50370398, 156020.43197348, 157272.95734056,\n",
       "       249041.41905349, 193616.10059431, 163649.01078823,  65719.16971276,\n",
       "        52678.7207335 , 407519.75324036, 153250.3819123 , 126268.47892389,\n",
       "       307208.74773014, 206081.77620365, 188035.47234024, 114044.04606735,\n",
       "       103024.74137549, 103689.79416218, 304140.15977246, 188278.90086589,\n",
       "       145619.27849487, 137184.22155529, 181651.04582487, 278787.3780715 ,\n",
       "       184618.06860709, 205474.30541237, 202564.80279543, 115246.37571609,\n",
       "       167351.5549196 , 116458.92861597, 158517.08887218, 190057.64506259,\n",
       "       238637.21611409, 166120.01940545, 206073.95026208, 145805.4709768 ,\n",
       "       169024.02954158, 343230.18120045, 209965.92262913, 361448.12070749,\n",
       "       124813.91259735, 164813.25367853, 137207.99280532, 217311.41448014,\n",
       "       113894.27423446, 155379.91844275, 205813.50624812, 149800.59045426,\n",
       "       159685.9773388 , 244782.26609135, 323887.28593235, 156609.41168946,\n",
       "       224711.42474354, 184593.76603264, 172688.87461275, 177754.7790405 ,\n",
       "       135220.48654723, 144783.71935862, 138682.04261784, 140589.24063141,\n",
       "       308549.05581271, 185071.90584018, 227755.23799761, 134436.48351992,\n",
       "       120159.07099989, 131852.3560289 , 121074.96145103, 109325.57312323,\n",
       "       229386.64555887, 155655.62906779, 223915.09945853, 130524.88680668,\n",
       "       180660.92606051, 167685.30967374, 140371.81240562, 180530.45506717,\n",
       "       230847.55252125, 233720.70305828, 328194.56761374, 125498.58682835,\n",
       "       148587.70883098, 207375.88599416, 132801.3428657 ,  81771.78393741,\n",
       "       274758.66180428, 329757.38417752, 212901.80816136, 107669.64909039,\n",
       "       175031.50975406, 134470.97634542, 145631.81698461, 175026.75575928,\n",
       "       276914.75897267, 149213.0880416 , 191703.27528435, 339318.70593789,\n",
       "       139781.88659969,  92384.51508488, 170342.96717199, 180358.48711725,\n",
       "       312066.77841615,  85437.27762148, 160872.80895862, 233695.70282776,\n",
       "       244792.85323041, 374056.41544957, 212483.28280678, 180621.34169571,\n",
       "       205473.30696226, 334671.89236792, 322272.09369199, 173051.03429802,\n",
       "       187997.30543611, 141410.82788031, 247772.23284908, 230760.71300762,\n",
       "        92896.0849579 ,  77462.73045978, 128566.7447361 , 198894.69339775,\n",
       "       112663.89981997, 151588.3820286 , 177758.16553311, 151912.86651586,\n",
       "       123869.09674611, 142610.27279305,  90886.93964885, 320763.27705849,\n",
       "       176097.67421158, 107134.58826413, 165135.4874989 , 254209.42869396,\n",
       "       340775.36026961, 201119.01723475, 153477.08576542, 210197.04324679,\n",
       "       252521.09484724, 334708.05973489, 202484.82333245, 146840.01836588,\n",
       "       185211.18445469, 167027.01779791, 240391.71151045,  80104.94141902,\n",
       "       139507.1977338 , 213182.91737228, 130393.72486807, 127360.09080055,\n",
       "        80941.76965109, 100830.88628909, 102788.32313181, 111618.25622775,\n",
       "       121954.76405232, 162126.39966059, 175828.65117359, 181358.64281031,\n",
       "       202925.05041325,  96864.84134417, 111635.1811293 , 157730.14942509,\n",
       "       161749.14613787, 132629.99077415, 105523.23106483, 181385.23493652,\n",
       "       165074.91972392, 142642.19273079, 266220.94304662, 168001.44791918,\n",
       "       259466.22837244, 204029.76179501, 341321.61756866, 137017.72785958,\n",
       "       200334.12031344, 123173.56747576, 217579.13014563, 263874.11135988,\n",
       "       104774.49416339, 234634.51898131, 148635.40740201, 153419.5006011 ,\n",
       "       292774.57319171, 176279.12118206, 326826.89494938, 152710.12188722,\n",
       "       230866.55780393, 203710.11817367, 210684.03775734, 475432.02347896,\n",
       "       147682.6826866 , 106432.55504461, 175533.42800286, 150400.79175765,\n",
       "        88536.25747227,  95304.89047225, 151587.57797629, 247446.37091324,\n",
       "       161510.68130558, 228515.37854979, 197357.10776713,  89437.90476522,\n",
       "       145109.62994327, 146237.1915013 , 188716.23399698, 207285.91586298,\n",
       "       121001.09321479, 265204.70459659, 305510.55321837,  66169.37446178,\n",
       "       354311.3059347 ,  89202.85740507, 138969.75393119,  79606.50084691,\n",
       "       145801.74916516, 183188.54042394, 159378.39421772, 138560.00038731,\n",
       "       219635.54915669, 144882.03198405, 119001.464074  , 117953.18563948,\n",
       "       173813.48751678, 120552.19723489, 196381.35180974, 172161.28089496,\n",
       "       142971.7896865 , 306864.43882509, 239323.01089103, 229217.49493684,\n",
       "       165491.43816239, 151461.4259469 , 147740.09794452, 296277.75484138,\n",
       "       251776.70903857, 252937.25912561, 194307.53987597, 159297.58345086,\n",
       "       164225.43595694, 197851.47639924, 177345.23147705, 132242.95509354,\n",
       "       112016.8432085 , 362036.79506919, 165107.7260227 , 200431.70047749,\n",
       "       223928.03660303, 128794.11777336,  75294.12012098, 189364.82884925,\n",
       "         5021.46236484, 192024.66866127, 253826.4791701 , 110651.15922625,\n",
       "       300754.39998694, 111311.16985423, 206775.74181229, 199466.1803971 ,\n",
       "       120169.45005119,  95510.50755342, 204630.20318749, 189140.03554399,\n",
       "       141706.81176604, 185903.12783603, 214512.14640212, 151121.07735245,\n",
       "       275381.1720802 , 168063.52218554, 114092.35391836, 143962.2839225 ,\n",
       "       212509.98790663, 181642.23761759, 124922.0282626 , 226803.65090116,\n",
       "       177523.16940397, 199072.29098751, 135038.36660684, 143670.92925945,\n",
       "       231683.70156721, 207056.90515717, 157538.82683833, 121199.40155958,\n",
       "       285919.21787553, 199274.52707755, 129012.63333145, 185825.55257082,\n",
       "        97290.56531107, 129663.19075469, 110937.25170267, 207973.07284103,\n",
       "       133061.23607307, 228093.70424278, 175978.64262   , 235621.56534649,\n",
       "       171690.00487722, 131664.62461671,  85827.27828974, 137162.81308148,\n",
       "       177251.60631056, 110178.00903819, 128215.94191255, 237090.8053525 ,\n",
       "        94269.34889395, 179264.3597375 , 160003.60274321,  72106.7156548 ,\n",
       "       154643.21295799, 171819.73329253,  75458.57497986, 133160.4382331 ,\n",
       "       374126.58169584, 159865.26966488, 142780.72119735, 139456.72088436,\n",
       "       108742.58766939, 171172.52882548, 305269.31934637, 104997.7315356 ,\n",
       "       320414.64292858, 186850.28179716, 167901.92109708, 238350.55654324,\n",
       "       140716.33661863, 130997.98761193,  96050.4246806 , 185971.39235768,\n",
       "       134281.33567156, 106237.21516448,  89464.33702902, 257884.9674836 ,\n",
       "       109864.34807399, 105738.88335893, 112259.58474575, 110870.42449004,\n",
       "       194868.61380952, 108966.9726509 , 359975.95695187, 141884.72107967,\n",
       "       111886.14775381,  86191.58408646, 295153.64092299, 116256.89364793,\n",
       "        78040.28517941, 301196.76538879, 155490.07043644, 314333.48102625,\n",
       "       123665.19175502, 258709.3418197 , 221101.10538067, 318730.28109883,\n",
       "       154618.46070317, 114935.56435493, 336125.03709402, 328208.25988106,\n",
       "       101480.92713253, 238318.07737342, 300574.19999906, 118016.61765472,\n",
       "       138682.63707104, 166124.00592516, 204549.89811868, 111457.02840005,\n",
       "       159845.97220637, 172149.65896866, 131925.25371776, 221649.30017212,\n",
       "       132089.53622068, 149567.3913961 , 262181.93846442, 117417.07032488,\n",
       "       212385.07619601, 346342.59114027, 232301.27830928, 304882.26597257,\n",
       "       141054.25044213,  68466.84787201, 286960.70392937, 225327.71763021,\n",
       "       179811.80938766, 114610.74324546, 176312.55698628, 250567.71800894,\n",
       "       172428.97778912, 253475.15512587, 124432.05344783, 166480.10459315,\n",
       "       216928.4386233 , 110943.68978461, 223587.48543632, 145251.69548087,\n",
       "       137950.92594143, 137558.18317623, 255042.30025643, 117407.34745105,\n",
       "        97254.12556362, 154779.61696759, 173052.31823027, 305093.75863668,\n",
       "       341401.81375299, 149729.78690006, 165138.32895383, 213846.48502232,\n",
       "        96968.42295094, 187048.14702753, 214819.34411426, 325989.68903252,\n",
       "       182306.08878948,  76626.26405032, 128688.84740776, 229316.66427883,\n",
       "       161497.08246593, 259479.9278367 , 110808.78439817, 249290.93651239,\n",
       "       190019.31300771, 197636.91811899, 119107.53169586, 121164.42659276,\n",
       "       193576.5226366 , 126206.07630462, 292424.98486424, 296848.1334405 ,\n",
       "        97812.09053757, 101633.02158859, 145007.95491027, 106439.63528616,\n",
       "       148665.0703377 , 161628.29181982, 122438.26978766,  45135.48022105,\n",
       "       100980.02944333, 141188.23095141, 151245.09874362, 205514.96616636,\n",
       "       283433.25369301, 206549.05991435, 204663.19619627, 151033.35508604,\n",
       "        85827.05790199, 155470.13253274, 133120.52316605, 142666.0000699 ,\n",
       "       234779.43260676, 178193.46615242,  98703.93247467, 285600.20455053,\n",
       "       105842.94712017, 102998.80510677, 112921.95160598, 206097.72137615,\n",
       "       130889.42875305,  49128.10602536, 273531.12597039, 313687.5755818 ,\n",
       "        63744.69560928, 318658.8451191 , 129344.25898142, 188196.41355692,\n",
       "       211927.20975355, 385413.74586745, 140355.81541749,  87032.17006627,\n",
       "       210933.67786021, 183352.114495  , 187450.35689065, 117078.64838036,\n",
       "       116667.83041821, 120624.01302537, 184431.67378013,  75045.64233935,\n",
       "       131111.44797086, 180952.83322775, 216128.7104019 , 191167.37614064,\n",
       "       113709.63349515, 164883.29785602, 202425.64806142, 247222.51243113,\n",
       "        87144.35595131, 191910.96859669, 112949.23212458, 134693.26794608,\n",
       "       126195.52492101,  81717.30846663, 196957.3348419 , 306134.82137897,\n",
       "       190829.93628797, 189038.41252899, 299188.06449756, 248852.76191692,\n",
       "       191810.81323761, 173212.96891063, 289559.28236529, 109820.20018053,\n",
       "       253730.7746786 , 119381.82308567, 160867.38650893, 171026.48146568,\n",
       "       164454.21069013, 239146.33889085,  71238.46420562, 243585.92700951,\n",
       "       189253.11300942, 268487.7825653 ,  96741.18190808, 198373.14846739,\n",
       "       218150.17826971, 234785.51196151, 112332.12249386, 155336.6617317 ,\n",
       "        23792.45025277, 223904.96220397,  96324.88755784, 165333.11351126,\n",
       "       192720.1904198 , 283646.47535511, 189902.02448049, 202270.32930171,\n",
       "       180114.66288086, 173927.18508544, 130514.88315764, 286879.63243537,\n",
       "       132256.30041308, 152440.83237078, 210942.52245493, 168059.66288679,\n",
       "        84118.26808048, 205562.35543017, 226558.97909177,  94152.33576928,\n",
       "       116427.78288213, 190484.32681469, 146769.08446133, 345545.96220009,\n",
       "       179189.21988421, 146081.98425763, 154406.27877891, 170706.55755714,\n",
       "       154065.85941889, 138403.67045134, 185832.50845299, 118911.07833591,\n",
       "       192702.59863177, 207669.68091794, 181727.27083436, 132085.89044512,\n",
       "       159604.4982901 ,  75904.44542426, 127967.74840748, 329200.26499876,\n",
       "       216329.30624098, 121865.86671521, 196267.63368985, 152571.23835058,\n",
       "       188009.52025106, 279359.5977199 ,  93119.36669076, 187454.87599721,\n",
       "       113091.73422875, 117048.37150216, 176780.94501839, 133264.10017907,\n",
       "       143296.8089245 , 114133.42872791, 205721.06164633, 165667.72568898,\n",
       "       212805.9824464 , 337112.91343319, 137953.2915755 , 102940.64734059,\n",
       "       134910.23884954, 147492.6807039 , 252084.82821603, 168328.53130304,\n",
       "       120050.89132446, 100235.22754646, 183900.02476603, 235223.1432624 ,\n",
       "       152538.57045064, 250713.64292608, 411646.71667   , 135179.43434932,\n",
       "       110035.53663971, 181562.76062603, 202386.81909965, 118197.65187162,\n",
       "       184792.16369858, 123983.00225012, 317479.19020358, 263158.38044033,\n",
       "       307165.74822088, 165944.08971774, 126014.36470329, 386817.48763623,\n",
       "       211352.73074978, 139484.88439647, 197269.97170515, 151264.08392002,\n",
       "       254353.45094989, 206287.952679  , -17486.8211299 , 121426.60945789,\n",
       "       235434.83706007, 294330.20676927, 133575.42045852, 134547.06199227,\n",
       "       130213.05169198,  85449.26412884, 241744.89493892, 177109.30755928])"
      ]
     },
     "execution_count": 19,
     "metadata": {},
     "output_type": "execute_result"
    }
   ],
   "source": [
    "test_predictions"
   ]
  },
  {
   "cell_type": "code",
   "execution_count": 20,
   "id": "assigned-polyester",
   "metadata": {},
   "outputs": [],
   "source": [
    "from sklearn.metrics import mean_absolute_error, mean_squared_error"
   ]
  },
  {
   "cell_type": "code",
   "execution_count": 21,
   "id": "french-print",
   "metadata": {},
   "outputs": [],
   "source": [
    "MAE = mean_absolute_error(y_test,test_predictions)\n",
    "MSE = mean_squared_error(y_test,test_predictions)\n",
    "RMSE = np.sqrt(MSE)"
   ]
  },
  {
   "cell_type": "code",
   "execution_count": 22,
   "id": "fewer-newman",
   "metadata": {},
   "outputs": [
    {
     "data": {
      "text/plain": [
       "16750.40755562364"
      ]
     },
     "execution_count": 22,
     "metadata": {},
     "output_type": "execute_result"
    }
   ],
   "source": [
    "MAE"
   ]
  },
  {
   "cell_type": "code",
   "execution_count": 23,
   "id": "historical-silver",
   "metadata": {},
   "outputs": [
    {
     "data": {
      "text/plain": [
       "552059614.3579257"
      ]
     },
     "execution_count": 23,
     "metadata": {},
     "output_type": "execute_result"
    }
   ],
   "source": [
    "MSE"
   ]
  },
  {
   "cell_type": "code",
   "execution_count": 24,
   "id": "civil-newsletter",
   "metadata": {},
   "outputs": [
    {
     "data": {
      "text/plain": [
       "23495.948892477732"
      ]
     },
     "execution_count": 24,
     "metadata": {},
     "output_type": "execute_result"
    }
   ],
   "source": [
    "RMSE"
   ]
  },
  {
   "cell_type": "code",
   "execution_count": 25,
   "id": "decimal-booking",
   "metadata": {},
   "outputs": [
    {
     "data": {
      "text/plain": [
       "13.253079790734652"
      ]
     },
     "execution_count": 25,
     "metadata": {},
     "output_type": "execute_result"
    }
   ],
   "source": [
    "100*RMSE/df['SalePrice'].mean()"
   ]
  },
  {
   "cell_type": "markdown",
   "id": "expressed-conflict",
   "metadata": {},
   "source": [
    "**14% of error**"
   ]
  },
  {
   "cell_type": "code",
   "execution_count": 26,
   "id": "frank-sector",
   "metadata": {},
   "outputs": [],
   "source": [
    "residual_test = y_test - test_predictions"
   ]
  },
  {
   "cell_type": "code",
   "execution_count": 27,
   "id": "growing-steel",
   "metadata": {},
   "outputs": [
    {
     "data": {
      "text/plain": [
       "1207    19242.866373\n",
       "2221    -9428.396501\n",
       "890     10426.293689\n",
       "1102    15705.603488\n",
       "2383   -29126.924471\n",
       "            ...     \n",
       "1281    -5147.061992\n",
       "1968    34786.948308\n",
       "325        50.735871\n",
       "1256    14255.105061\n",
       "2407     7790.692441\n",
       "Name: SalePrice, Length: 856, dtype: float64"
      ]
     },
     "execution_count": 27,
     "metadata": {},
     "output_type": "execute_result"
    }
   ],
   "source": [
    "residual_test"
   ]
  },
  {
   "cell_type": "code",
   "execution_count": 28,
   "id": "dynamic-surgery",
   "metadata": {},
   "outputs": [
    {
     "data": {
      "text/plain": [
       "<matplotlib.lines.Line2D at 0xb5bf808>"
      ]
     },
     "execution_count": 28,
     "metadata": {},
     "output_type": "execute_result"
    },
    {
     "data": {
      "image/png": "[encoded data removed]",
      "text/plain": [
       "<Figure size 864x576 with 1 Axes>"
      ]
     },
     "metadata": {
      "needs_background": "light"
     },
     "output_type": "display_data"
    }
   ],
   "source": [
    "fig = plt.figure(figsize=(12,8))\n",
    "sns.scatterplot(data=X_test,x=y_test,y=residual_test)\n",
    "plt.axhline(y=0, color='r',linestyle='--')"
   ]
  },
  {
   "cell_type": "code",
   "execution_count": 29,
   "id": "variable-affiliate",
   "metadata": {},
   "outputs": [
    {
     "data": {
      "text/plain": [
       "<seaborn.axisgrid.FacetGrid at 0xb616d08>"
      ]
     },
     "execution_count": 29,
     "metadata": {},
     "output_type": "execute_result"
    },
    {
     "data": {
      "image/png": "[encoded data removed]",
      "text/plain": [
       "<Figure size 360x360 with 1 Axes>"
      ]
     },
     "metadata": {
      "needs_background": "light"
     },
     "output_type": "display_data"
    }
   ],
   "source": [
    "sns.displot(data=X_test,x=y_test,bins=20,kde=True)"
   ]
  },
  {
   "cell_type": "code",
   "execution_count": 30,
   "id": "hourly-level",
   "metadata": {},
   "outputs": [],
   "source": [
    "import scipy as sp"
   ]
  },
  {
   "cell_type": "code",
   "execution_count": 31,
   "id": "irish-guard",
   "metadata": {},
   "outputs": [
    {
     "data": {
      "image/png": "[encoded data removed]",
      "text/plain": [
       "<Figure size 600x800 with 1 Axes>"
      ]
     },
     "metadata": {
      "needs_background": "light"
     },
     "output_type": "display_data"
    }
   ],
   "source": [
    "fig, ax = plt.subplots(figsize=(6,8),dpi=100)\n",
    "_=sp.stats.probplot(residual_test,plot=ax)"
   ]
  },
  {
   "cell_type": "code",
   "execution_count": 32,
   "id": "molecular-hanging",
   "metadata": {},
   "outputs": [
    {
     "data": {
      "text/plain": [
       "<AxesSubplot:xlabel='SalePrice', ylabel='Density'>"
      ]
     },
     "execution_count": 32,
     "metadata": {},
     "output_type": "execute_result"
    },
    {
     "data": {
      "image/png": "[encoded data removed]",
      "text/plain": [
       "<Figure size 432x288 with 1 Axes>"
      ]
     },
     "metadata": {
      "needs_background": "light"
     },
     "output_type": "display_data"
    }
   ],
   "source": [
    "sns.kdeplot(residual_test)"
   ]
  },
  {
   "cell_type": "markdown",
   "id": "plastic-workstation",
   "metadata": {},
   "source": [
    "**Retraining Full Data**"
   ]
  },
  {
   "cell_type": "code",
   "execution_count": 59,
   "id": "discrete-hunter",
   "metadata": {},
   "outputs": [],
   "source": [
    "final_model = LinearRegression()"
   ]
  },
  {
   "cell_type": "code",
   "execution_count": 60,
   "id": "threatened-security",
   "metadata": {},
   "outputs": [
    {
     "data": {
      "text/plain": [
       "LinearRegression()"
      ]
     },
     "execution_count": 60,
     "metadata": {},
     "output_type": "execute_result"
    }
   ],
   "source": [
    "final_model.fit(X,y)"
   ]
  },
  {
   "cell_type": "code",
   "execution_count": 61,
   "id": "automatic-diagnosis",
   "metadata": {},
   "outputs": [],
   "source": [
    "y_hat = final_model.predict(X)"
   ]
  },
  {
   "cell_type": "code",
   "execution_count": 62,
   "id": "widespread-liability",
   "metadata": {},
   "outputs": [
    {
     "data": {
      "text/plain": [
       "array([213715.13071876, 109549.41835864, 159586.60632598, ...,\n",
       "       128911.51086628, 173650.69115345, 209365.61253402])"
      ]
     },
     "execution_count": 62,
     "metadata": {},
     "output_type": "execute_result"
    }
   ],
   "source": [
    "y_hat"
   ]
  },
  {
   "cell_type": "code",
   "execution_count": 63,
   "id": "fifth-double",
   "metadata": {},
   "outputs": [],
   "source": [
    "residuals = y_hat - y"
   ]
  },
  {
   "cell_type": "code",
   "execution_count": 64,
   "id": "tracked-border",
   "metadata": {},
   "outputs": [
    {
     "data": {
      "text/plain": [
       "<matplotlib.lines.Line2D at 0xbb59588>"
      ]
     },
     "execution_count": 64,
     "metadata": {},
     "output_type": "execute_result"
    },
    {
     "data": {
      "image/png": "[encoded data removed]",
      "text/plain": [
       "<Figure size 432x288 with 1 Axes>"
      ]
     },
     "metadata": {
      "needs_background": "light"
     },
     "output_type": "display_data"
    }
   ],
   "source": [
    "sns.scatterplot(x=y,y=residuals)\n",
    "plt.axhline(y=0,color='r',linestyle='--')"
   ]
  },
  {
   "cell_type": "code",
   "execution_count": 65,
   "id": "available-mills",
   "metadata": {},
   "outputs": [
    {
     "data": {
      "text/plain": [
       "<AxesSubplot:ylabel='SalePrice'>"
      ]
     },
     "execution_count": 65,
     "metadata": {},
     "output_type": "execute_result"
    },
    {
     "data": {
      "image/png": "[encoded data removed]",
      "text/plain": [
       "<Figure size 864x576 with 1 Axes>"
      ]
     },
     "metadata": {
      "needs_background": "light"
     },
     "output_type": "display_data"
    }
   ],
   "source": [
    "fig = plt.figure(figsize=(12,8))\n",
    "sns.scatterplot(x=range(len(y_hat)),y=y_hat,color='magenta')\n",
    "sns.scatterplot(x=range(len(y)),y=y,color='blue')"
   ]
  },
  {
   "cell_type": "code",
   "execution_count": 39,
   "id": "sharp-adrian",
   "metadata": {},
   "outputs": [
    {
     "data": {
      "text/plain": [
       "array([ 8.30936300e+03,  1.87891048e+02,  1.64722618e+02,  2.77774950e+01,\n",
       "        6.45042419e+03,  4.22032849e+03,  3.25286439e+03,  1.34133180e+01,\n",
       "        1.64176848e+03,  9.86085032e+00,  5.42824050e+01, -3.36908988e+03,\n",
       "        7.90408437e+03, -1.56792040e+03,  7.24953564e+03, -5.21183309e+02,\n",
       "       -6.81517590e+01,  2.17248181e+03,  4.56683292e+03,  2.58446381e+01,\n",
       "        1.32015185e+04,  2.19804838e+04,  1.55318205e+04,  1.39144123e+04,\n",
       "        9.26733840e+03, -8.73464973e+03,  1.36509917e+04,  9.85443043e+03,\n",
       "        4.82285094e+02, -3.29492086e+04, -1.34200333e+04,  5.94534629e+03,\n",
       "       -2.73887808e+03,  4.30540883e+03,  8.75135700e+01,  6.57470588e+03,\n",
       "        1.88378337e+04,  5.63874096e+03,  6.63607547e+03, -6.75646724e+03,\n",
       "        1.73537086e+04, -3.50185844e+03, -7.91045759e+03,  8.53062660e+03,\n",
       "        1.19067108e+05,  1.19806274e+03,  2.97827330e+03, -1.19256113e+02,\n",
       "       -1.94286462e+03, -5.05725347e+03,  2.08825143e+04, -9.55370882e+03,\n",
       "        1.94742560e+04,  2.72540024e+04, -3.96813702e+03, -3.55736734e+03,\n",
       "        1.20220058e+03, -8.79738518e+03,  5.63322052e+03,  3.00203372e+04,\n",
       "        5.86175759e+02,  1.06143440e+04,  1.77535544e+03,  1.08276575e+04,\n",
       "        1.58464356e+04,  1.23305425e+04, -1.99143982e+03,  1.00992967e+04,\n",
       "        2.12837632e+02,  1.30161723e+03,  7.82678400e+02,  7.79482015e+03,\n",
       "        6.53830298e+04,  3.80882395e+04, -1.62128044e+04,  1.51597378e+04,\n",
       "        1.89550066e+04, -7.48828577e+03, -2.16274043e+04, -3.36784013e+04,\n",
       "       -2.65676792e+04,  4.32958271e+03,  4.42391708e+03, -3.31020499e+04,\n",
       "       -3.00036369e+03,  1.70160788e+03,  8.31613490e+03,  2.88019424e+03,\n",
       "        3.34476373e+03, -5.80498898e+02,  7.16563013e+03, -2.31371876e+04,\n",
       "        5.14370189e+03,  4.61578836e+04,  2.54257045e+03, -1.15583679e+03,\n",
       "        1.51535959e+03, -1.60005152e+03,  2.26709929e+04, -2.14901387e+04,\n",
       "        1.24758949e+04,  9.42572913e+03, -3.80642495e+04, -1.09789517e+04,\n",
       "       -1.14645347e+04, -3.22147974e+04, -2.36950594e+03, -7.72072335e+03,\n",
       "       -1.47010158e+04, -5.01237292e+02, -1.30864448e+04, -1.01725729e+04,\n",
       "       -3.78899657e+03,  2.89736007e+04, -4.53937640e+03, -2.53244994e+03,\n",
       "        3.86353786e+04,  2.13117080e+04,  8.59659556e+03,  1.69771288e+04,\n",
       "        6.63022034e+03,  1.44642046e+04,  5.93207981e+03, -1.80511109e+03,\n",
       "        6.41018195e+02,  1.40459470e+04,  9.74819441e+03,  3.50775848e+03,\n",
       "        3.85628396e+03, -5.92859690e+04,  9.86802539e+03,  9.39970694e+03,\n",
       "        2.70567918e+03,  1.88651633e+03,  2.33939553e+04, -8.00345866e+02,\n",
       "       -5.31202101e+03, -2.49449503e+04, -2.73313189e+04, -2.70805629e+04,\n",
       "       -7.36260559e+04, -5.23385350e+03, -3.41952514e+03,  2.97429039e+03,\n",
       "       -5.18207139e+03,  1.72068727e+02,  2.15110767e+03,  2.26756489e+04,\n",
       "        1.72922292e+04,  1.31461265e+04,  5.67341647e+03, -3.38777612e+04,\n",
       "        2.95814308e+04,  1.01929272e+04,  4.60612393e+03,  1.29890977e+04,\n",
       "        1.36382474e+04,  1.10836687e+04,  2.40765403e+04, -9.18773323e+02,\n",
       "       -2.86478639e+03,  1.07162976e+04,  3.56901578e+04,  1.02802007e+04,\n",
       "        7.25033675e+03,  1.12699688e+04,  2.33814985e+04,  1.37655411e+04,\n",
       "        8.10372807e+02,  5.80724799e+03,  1.82508797e+04,  1.63083227e+04,\n",
       "        1.95040744e+03,  8.23665288e+03,  2.63822540e+03])"
      ]
     },
     "execution_count": 39,
     "metadata": {},
     "output_type": "execute_result"
    }
   ],
   "source": [
    "final_model.coef_"
   ]
  },
  {
   "cell_type": "code",
   "execution_count": 40,
   "id": "forty-example",
   "metadata": {},
   "outputs": [
    {
     "data": {
      "text/plain": [
       "<AxesSubplot:xlabel='SalePrice', ylabel='Density'>"
      ]
     },
     "execution_count": 40,
     "metadata": {},
     "output_type": "execute_result"
    },
    {
     "data": {
      "image/png": "[encoded data removed]",
      "text/plain": [
       "<Figure size 432x288 with 1 Axes>"
      ]
     },
     "metadata": {
      "needs_background": "light"
     },
     "output_type": "display_data"
    }
   ],
   "source": [
    "sns.kdeplot(residuals)"
   ]
  },
  {
   "cell_type": "code",
   "execution_count": null,
   "id": "satellite-africa",
   "metadata": {},
   "outputs": [],
   "source": []
  },
  {
   "cell_type": "code",
   "execution_count": null,
   "id": "fallen-absence",
   "metadata": {},
   "outputs": [],
   "source": []
  }
 ],
 "metadata": {
  "kernelspec": {
   "display_name": "Python 3",
   "language": "python",
   "name": "python3"
  },
  "language_info": {
   "codemirror_mode": {
    "name": "ipython",
    "version": 3
   },
   "file_extension": ".py",
   "mimetype": "text/x-python",
   "name": "python",
   "nbconvert_exporter": "python",
   "pygments_lexer": "ipython3",
   "version": "3.7.10"
  }
 },
 "nbformat": 4,
 "nbformat_minor": 5
}
