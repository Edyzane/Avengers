{
 "cells": [
  {
   "cell_type": "code",
   "execution_count": 1,
   "id": "serious-carrier",
   "metadata": {},
   "outputs": [],
   "source": [
    "import numpy as np\n",
    "import pandas as pd\n",
    "import matplotlib.pyplot as plt\n",
    "import seaborn as sns"
   ]
  },
  {
   "cell_type": "code",
   "execution_count": 2,
   "id": "cosmetic-exploration",
   "metadata": {},
   "outputs": [],
   "source": [
    "df = pd.read_csv('Ames Housing Data Encoding Edited.csv')"
   ]
  },
  {
   "cell_type": "code",
   "execution_count": 3,
   "id": "experimental-porcelain",
   "metadata": {},
   "outputs": [
    {
     "data": {
      "text/html": [
       "<div>\n",
       "<style scoped>\n",
       "    .dataframe tbody tr th:only-of-type {\n",
       "        vertical-align: middle;\n",
       "    }\n",
       "\n",
       "    .dataframe tbody tr th {\n",
       "        vertical-align: top;\n",
       "    }\n",
       "\n",
       "    .dataframe thead th {\n",
       "        text-align: right;\n",
       "    }\n",
       "</style>\n",
       "<table border=\"1\" class=\"dataframe\">\n",
       "  <thead>\n",
       "    <tr style=\"text-align: right;\">\n",
       "      <th></th>\n",
       "      <th>Overall Qual</th>\n",
       "      <th>Year Built</th>\n",
       "      <th>Year Remod/Add</th>\n",
       "      <th>Mas Vnr Area</th>\n",
       "      <th>Exter Qual</th>\n",
       "      <th>Bsmt Qual</th>\n",
       "      <th>BsmtFin Type 1</th>\n",
       "      <th>Total Bsmt SF</th>\n",
       "      <th>Heating QC</th>\n",
       "      <th>1st Flr SF</th>\n",
       "      <th>...</th>\n",
       "      <th>Sale Type_ConLw</th>\n",
       "      <th>Sale Type_New</th>\n",
       "      <th>Sale Type_Oth</th>\n",
       "      <th>Sale Type_VWD</th>\n",
       "      <th>Sale Type_WD</th>\n",
       "      <th>Sale Condition_AdjLand</th>\n",
       "      <th>Sale Condition_Alloca</th>\n",
       "      <th>Sale Condition_Family</th>\n",
       "      <th>Sale Condition_Normal</th>\n",
       "      <th>Sale Condition_Partial</th>\n",
       "    </tr>\n",
       "  </thead>\n",
       "  <tbody>\n",
       "    <tr>\n",
       "      <th>0</th>\n",
       "      <td>6</td>\n",
       "      <td>1960</td>\n",
       "      <td>1960</td>\n",
       "      <td>112.0</td>\n",
       "      <td>2</td>\n",
       "      <td>3</td>\n",
       "      <td>4</td>\n",
       "      <td>1080.0</td>\n",
       "      <td>1</td>\n",
       "      <td>1656</td>\n",
       "      <td>...</td>\n",
       "      <td>0</td>\n",
       "      <td>0</td>\n",
       "      <td>0</td>\n",
       "      <td>0</td>\n",
       "      <td>1</td>\n",
       "      <td>0</td>\n",
       "      <td>0</td>\n",
       "      <td>0</td>\n",
       "      <td>1</td>\n",
       "      <td>0</td>\n",
       "    </tr>\n",
       "    <tr>\n",
       "      <th>1</th>\n",
       "      <td>5</td>\n",
       "      <td>1961</td>\n",
       "      <td>1961</td>\n",
       "      <td>0.0</td>\n",
       "      <td>2</td>\n",
       "      <td>3</td>\n",
       "      <td>3</td>\n",
       "      <td>882.0</td>\n",
       "      <td>2</td>\n",
       "      <td>896</td>\n",
       "      <td>...</td>\n",
       "      <td>0</td>\n",
       "      <td>0</td>\n",
       "      <td>0</td>\n",
       "      <td>0</td>\n",
       "      <td>1</td>\n",
       "      <td>0</td>\n",
       "      <td>0</td>\n",
       "      <td>0</td>\n",
       "      <td>1</td>\n",
       "      <td>0</td>\n",
       "    </tr>\n",
       "    <tr>\n",
       "      <th>2</th>\n",
       "      <td>6</td>\n",
       "      <td>1958</td>\n",
       "      <td>1958</td>\n",
       "      <td>108.0</td>\n",
       "      <td>2</td>\n",
       "      <td>3</td>\n",
       "      <td>5</td>\n",
       "      <td>1329.0</td>\n",
       "      <td>2</td>\n",
       "      <td>1329</td>\n",
       "      <td>...</td>\n",
       "      <td>0</td>\n",
       "      <td>0</td>\n",
       "      <td>0</td>\n",
       "      <td>0</td>\n",
       "      <td>1</td>\n",
       "      <td>0</td>\n",
       "      <td>0</td>\n",
       "      <td>0</td>\n",
       "      <td>1</td>\n",
       "      <td>0</td>\n",
       "    </tr>\n",
       "    <tr>\n",
       "      <th>3</th>\n",
       "      <td>7</td>\n",
       "      <td>1968</td>\n",
       "      <td>1968</td>\n",
       "      <td>0.0</td>\n",
       "      <td>3</td>\n",
       "      <td>3</td>\n",
       "      <td>5</td>\n",
       "      <td>2110.0</td>\n",
       "      <td>4</td>\n",
       "      <td>2110</td>\n",
       "      <td>...</td>\n",
       "      <td>0</td>\n",
       "      <td>0</td>\n",
       "      <td>0</td>\n",
       "      <td>0</td>\n",
       "      <td>1</td>\n",
       "      <td>0</td>\n",
       "      <td>0</td>\n",
       "      <td>0</td>\n",
       "      <td>1</td>\n",
       "      <td>0</td>\n",
       "    </tr>\n",
       "    <tr>\n",
       "      <th>4</th>\n",
       "      <td>5</td>\n",
       "      <td>1997</td>\n",
       "      <td>1998</td>\n",
       "      <td>0.0</td>\n",
       "      <td>2</td>\n",
       "      <td>4</td>\n",
       "      <td>6</td>\n",
       "      <td>928.0</td>\n",
       "      <td>3</td>\n",
       "      <td>928</td>\n",
       "      <td>...</td>\n",
       "      <td>0</td>\n",
       "      <td>0</td>\n",
       "      <td>0</td>\n",
       "      <td>0</td>\n",
       "      <td>1</td>\n",
       "      <td>0</td>\n",
       "      <td>0</td>\n",
       "      <td>0</td>\n",
       "      <td>1</td>\n",
       "      <td>0</td>\n",
       "    </tr>\n",
       "    <tr>\n",
       "      <th>5</th>\n",
       "      <td>6</td>\n",
       "      <td>1998</td>\n",
       "      <td>1998</td>\n",
       "      <td>20.0</td>\n",
       "      <td>2</td>\n",
       "      <td>3</td>\n",
       "      <td>6</td>\n",
       "      <td>926.0</td>\n",
       "      <td>4</td>\n",
       "      <td>926</td>\n",
       "      <td>...</td>\n",
       "      <td>0</td>\n",
       "      <td>0</td>\n",
       "      <td>0</td>\n",
       "      <td>0</td>\n",
       "      <td>1</td>\n",
       "      <td>0</td>\n",
       "      <td>0</td>\n",
       "      <td>0</td>\n",
       "      <td>1</td>\n",
       "      <td>0</td>\n",
       "    </tr>\n",
       "    <tr>\n",
       "      <th>6</th>\n",
       "      <td>8</td>\n",
       "      <td>2001</td>\n",
       "      <td>2001</td>\n",
       "      <td>0.0</td>\n",
       "      <td>3</td>\n",
       "      <td>4</td>\n",
       "      <td>6</td>\n",
       "      <td>1338.0</td>\n",
       "      <td>4</td>\n",
       "      <td>1338</td>\n",
       "      <td>...</td>\n",
       "      <td>0</td>\n",
       "      <td>0</td>\n",
       "      <td>0</td>\n",
       "      <td>0</td>\n",
       "      <td>1</td>\n",
       "      <td>0</td>\n",
       "      <td>0</td>\n",
       "      <td>0</td>\n",
       "      <td>1</td>\n",
       "      <td>0</td>\n",
       "    </tr>\n",
       "    <tr>\n",
       "      <th>7</th>\n",
       "      <td>8</td>\n",
       "      <td>1992</td>\n",
       "      <td>1992</td>\n",
       "      <td>0.0</td>\n",
       "      <td>3</td>\n",
       "      <td>4</td>\n",
       "      <td>5</td>\n",
       "      <td>1280.0</td>\n",
       "      <td>4</td>\n",
       "      <td>1280</td>\n",
       "      <td>...</td>\n",
       "      <td>0</td>\n",
       "      <td>0</td>\n",
       "      <td>0</td>\n",
       "      <td>0</td>\n",
       "      <td>1</td>\n",
       "      <td>0</td>\n",
       "      <td>0</td>\n",
       "      <td>0</td>\n",
       "      <td>1</td>\n",
       "      <td>0</td>\n",
       "    </tr>\n",
       "    <tr>\n",
       "      <th>8</th>\n",
       "      <td>8</td>\n",
       "      <td>1995</td>\n",
       "      <td>1996</td>\n",
       "      <td>0.0</td>\n",
       "      <td>3</td>\n",
       "      <td>4</td>\n",
       "      <td>6</td>\n",
       "      <td>1595.0</td>\n",
       "      <td>4</td>\n",
       "      <td>1616</td>\n",
       "      <td>...</td>\n",
       "      <td>0</td>\n",
       "      <td>0</td>\n",
       "      <td>0</td>\n",
       "      <td>0</td>\n",
       "      <td>1</td>\n",
       "      <td>0</td>\n",
       "      <td>0</td>\n",
       "      <td>0</td>\n",
       "      <td>1</td>\n",
       "      <td>0</td>\n",
       "    </tr>\n",
       "    <tr>\n",
       "      <th>9</th>\n",
       "      <td>7</td>\n",
       "      <td>1999</td>\n",
       "      <td>1999</td>\n",
       "      <td>0.0</td>\n",
       "      <td>2</td>\n",
       "      <td>3</td>\n",
       "      <td>1</td>\n",
       "      <td>994.0</td>\n",
       "      <td>3</td>\n",
       "      <td>1028</td>\n",
       "      <td>...</td>\n",
       "      <td>0</td>\n",
       "      <td>0</td>\n",
       "      <td>0</td>\n",
       "      <td>0</td>\n",
       "      <td>1</td>\n",
       "      <td>0</td>\n",
       "      <td>0</td>\n",
       "      <td>0</td>\n",
       "      <td>1</td>\n",
       "      <td>0</td>\n",
       "    </tr>\n",
       "  </tbody>\n",
       "</table>\n",
       "<p>10 rows × 176 columns</p>\n",
       "</div>"
      ],
      "text/plain": [
       "   Overall Qual  Year Built  Year Remod/Add  Mas Vnr Area  Exter Qual  \\\n",
       "0             6        1960            1960         112.0           2   \n",
       "1             5        1961            1961           0.0           2   \n",
       "2             6        1958            1958         108.0           2   \n",
       "3             7        1968            1968           0.0           3   \n",
       "4             5        1997            1998           0.0           2   \n",
       "5             6        1998            1998          20.0           2   \n",
       "6             8        2001            2001           0.0           3   \n",
       "7             8        1992            1992           0.0           3   \n",
       "8             8        1995            1996           0.0           3   \n",
       "9             7        1999            1999           0.0           2   \n",
       "\n",
       "   Bsmt Qual  BsmtFin Type 1  Total Bsmt SF  Heating QC  1st Flr SF  ...  \\\n",
       "0          3               4         1080.0           1        1656  ...   \n",
       "1          3               3          882.0           2         896  ...   \n",
       "2          3               5         1329.0           2        1329  ...   \n",
       "3          3               5         2110.0           4        2110  ...   \n",
       "4          4               6          928.0           3         928  ...   \n",
       "5          3               6          926.0           4         926  ...   \n",
       "6          4               6         1338.0           4        1338  ...   \n",
       "7          4               5         1280.0           4        1280  ...   \n",
       "8          4               6         1595.0           4        1616  ...   \n",
       "9          3               1          994.0           3        1028  ...   \n",
       "\n",
       "   Sale Type_ConLw  Sale Type_New  Sale Type_Oth  Sale Type_VWD  \\\n",
       "0                0              0              0              0   \n",
       "1                0              0              0              0   \n",
       "2                0              0              0              0   \n",
       "3                0              0              0              0   \n",
       "4                0              0              0              0   \n",
       "5                0              0              0              0   \n",
       "6                0              0              0              0   \n",
       "7                0              0              0              0   \n",
       "8                0              0              0              0   \n",
       "9                0              0              0              0   \n",
       "\n",
       "   Sale Type_WD   Sale Condition_AdjLand  Sale Condition_Alloca  \\\n",
       "0              1                       0                      0   \n",
       "1              1                       0                      0   \n",
       "2              1                       0                      0   \n",
       "3              1                       0                      0   \n",
       "4              1                       0                      0   \n",
       "5              1                       0                      0   \n",
       "6              1                       0                      0   \n",
       "7              1                       0                      0   \n",
       "8              1                       0                      0   \n",
       "9              1                       0                      0   \n",
       "\n",
       "   Sale Condition_Family  Sale Condition_Normal  Sale Condition_Partial  \n",
       "0                      0                      1                       0  \n",
       "1                      0                      1                       0  \n",
       "2                      0                      1                       0  \n",
       "3                      0                      1                       0  \n",
       "4                      0                      1                       0  \n",
       "5                      0                      1                       0  \n",
       "6                      0                      1                       0  \n",
       "7                      0                      1                       0  \n",
       "8                      0                      1                       0  \n",
       "9                      0                      1                       0  \n",
       "\n",
       "[10 rows x 176 columns]"
      ]
     },
     "execution_count": 3,
     "metadata": {},
     "output_type": "execute_result"
    }
   ],
   "source": [
    "df.head(10)"
   ]
  },
  {
   "cell_type": "code",
   "execution_count": 4,
   "id": "blank-allah",
   "metadata": {},
   "outputs": [
    {
     "name": "stdout",
     "output_type": "stream",
     "text": [
      "<class 'pandas.core.frame.DataFrame'>\n",
      "RangeIndex: 2843 entries, 0 to 2842\n",
      "Columns: 176 entries, Overall Qual to Sale Condition_Partial\n",
      "dtypes: float64(6), int64(170)\n",
      "memory usage: 3.8 MB\n"
     ]
    }
   ],
   "source": [
    "df.info()"
   ]
  },
  {
   "cell_type": "markdown",
   "id": "intimate-craft",
   "metadata": {},
   "source": [
    "**Train | Test Split**"
   ]
  },
  {
   "cell_type": "code",
   "execution_count": 5,
   "id": "utility-sculpture",
   "metadata": {},
   "outputs": [],
   "source": [
    "X = df.drop('SalePrice',axis=1)\n",
    "y = df['SalePrice']"
   ]
  },
  {
   "cell_type": "code",
   "execution_count": 6,
   "id": "described-services",
   "metadata": {},
   "outputs": [],
   "source": [
    "from sklearn.model_selection import train_test_split"
   ]
  },
  {
   "cell_type": "code",
   "execution_count": 7,
   "id": "cubic-mixture",
   "metadata": {},
   "outputs": [],
   "source": [
    "X_train, X_test, y_train, y_test = train_test_split(X, y, test_size=0.3, random_state=101)"
   ]
  },
  {
   "cell_type": "code",
   "execution_count": 8,
   "id": "continent-cambodia",
   "metadata": {},
   "outputs": [
    {
     "data": {
      "text/html": [
       "<div>\n",
       "<style scoped>\n",
       "    .dataframe tbody tr th:only-of-type {\n",
       "        vertical-align: middle;\n",
       "    }\n",
       "\n",
       "    .dataframe tbody tr th {\n",
       "        vertical-align: top;\n",
       "    }\n",
       "\n",
       "    .dataframe thead th {\n",
       "        text-align: right;\n",
       "    }\n",
       "</style>\n",
       "<table border=\"1\" class=\"dataframe\">\n",
       "  <thead>\n",
       "    <tr style=\"text-align: right;\">\n",
       "      <th></th>\n",
       "      <th>Overall Qual</th>\n",
       "      <th>Year Built</th>\n",
       "      <th>Year Remod/Add</th>\n",
       "      <th>Mas Vnr Area</th>\n",
       "      <th>Exter Qual</th>\n",
       "      <th>Bsmt Qual</th>\n",
       "      <th>BsmtFin Type 1</th>\n",
       "      <th>Total Bsmt SF</th>\n",
       "      <th>Heating QC</th>\n",
       "      <th>1st Flr SF</th>\n",
       "      <th>...</th>\n",
       "      <th>Sale Type_ConLw</th>\n",
       "      <th>Sale Type_New</th>\n",
       "      <th>Sale Type_Oth</th>\n",
       "      <th>Sale Type_VWD</th>\n",
       "      <th>Sale Type_WD</th>\n",
       "      <th>Sale Condition_AdjLand</th>\n",
       "      <th>Sale Condition_Alloca</th>\n",
       "      <th>Sale Condition_Family</th>\n",
       "      <th>Sale Condition_Normal</th>\n",
       "      <th>Sale Condition_Partial</th>\n",
       "    </tr>\n",
       "  </thead>\n",
       "  <tbody>\n",
       "    <tr>\n",
       "      <th>1160</th>\n",
       "      <td>5</td>\n",
       "      <td>1965</td>\n",
       "      <td>1965</td>\n",
       "      <td>108.0</td>\n",
       "      <td>2</td>\n",
       "      <td>3</td>\n",
       "      <td>2</td>\n",
       "      <td>1728.0</td>\n",
       "      <td>2</td>\n",
       "      <td>1728</td>\n",
       "      <td>...</td>\n",
       "      <td>0</td>\n",
       "      <td>0</td>\n",
       "      <td>0</td>\n",
       "      <td>0</td>\n",
       "      <td>1</td>\n",
       "      <td>0</td>\n",
       "      <td>0</td>\n",
       "      <td>0</td>\n",
       "      <td>1</td>\n",
       "      <td>0</td>\n",
       "    </tr>\n",
       "    <tr>\n",
       "      <th>1280</th>\n",
       "      <td>8</td>\n",
       "      <td>1872</td>\n",
       "      <td>1987</td>\n",
       "      <td>0.0</td>\n",
       "      <td>2</td>\n",
       "      <td>3</td>\n",
       "      <td>2</td>\n",
       "      <td>684.0</td>\n",
       "      <td>1</td>\n",
       "      <td>938</td>\n",
       "      <td>...</td>\n",
       "      <td>0</td>\n",
       "      <td>0</td>\n",
       "      <td>0</td>\n",
       "      <td>0</td>\n",
       "      <td>1</td>\n",
       "      <td>0</td>\n",
       "      <td>0</td>\n",
       "      <td>0</td>\n",
       "      <td>1</td>\n",
       "      <td>0</td>\n",
       "    </tr>\n",
       "    <tr>\n",
       "      <th>2114</th>\n",
       "      <td>6</td>\n",
       "      <td>1976</td>\n",
       "      <td>1976</td>\n",
       "      <td>174.0</td>\n",
       "      <td>2</td>\n",
       "      <td>3</td>\n",
       "      <td>4</td>\n",
       "      <td>1143.0</td>\n",
       "      <td>2</td>\n",
       "      <td>1113</td>\n",
       "      <td>...</td>\n",
       "      <td>0</td>\n",
       "      <td>0</td>\n",
       "      <td>0</td>\n",
       "      <td>0</td>\n",
       "      <td>1</td>\n",
       "      <td>0</td>\n",
       "      <td>0</td>\n",
       "      <td>0</td>\n",
       "      <td>1</td>\n",
       "      <td>0</td>\n",
       "    </tr>\n",
       "    <tr>\n",
       "      <th>759</th>\n",
       "      <td>3</td>\n",
       "      <td>1955</td>\n",
       "      <td>1955</td>\n",
       "      <td>0.0</td>\n",
       "      <td>2</td>\n",
       "      <td>0</td>\n",
       "      <td>0</td>\n",
       "      <td>0.0</td>\n",
       "      <td>4</td>\n",
       "      <td>1733</td>\n",
       "      <td>...</td>\n",
       "      <td>0</td>\n",
       "      <td>0</td>\n",
       "      <td>0</td>\n",
       "      <td>0</td>\n",
       "      <td>1</td>\n",
       "      <td>0</td>\n",
       "      <td>0</td>\n",
       "      <td>0</td>\n",
       "      <td>1</td>\n",
       "      <td>0</td>\n",
       "    </tr>\n",
       "    <tr>\n",
       "      <th>660</th>\n",
       "      <td>5</td>\n",
       "      <td>1958</td>\n",
       "      <td>1958</td>\n",
       "      <td>0.0</td>\n",
       "      <td>2</td>\n",
       "      <td>3</td>\n",
       "      <td>1</td>\n",
       "      <td>1041.0</td>\n",
       "      <td>3</td>\n",
       "      <td>1041</td>\n",
       "      <td>...</td>\n",
       "      <td>0</td>\n",
       "      <td>0</td>\n",
       "      <td>0</td>\n",
       "      <td>0</td>\n",
       "      <td>1</td>\n",
       "      <td>0</td>\n",
       "      <td>0</td>\n",
       "      <td>0</td>\n",
       "      <td>1</td>\n",
       "      <td>0</td>\n",
       "    </tr>\n",
       "    <tr>\n",
       "      <th>...</th>\n",
       "      <td>...</td>\n",
       "      <td>...</td>\n",
       "      <td>...</td>\n",
       "      <td>...</td>\n",
       "      <td>...</td>\n",
       "      <td>...</td>\n",
       "      <td>...</td>\n",
       "      <td>...</td>\n",
       "      <td>...</td>\n",
       "      <td>...</td>\n",
       "      <td>...</td>\n",
       "      <td>...</td>\n",
       "      <td>...</td>\n",
       "      <td>...</td>\n",
       "      <td>...</td>\n",
       "      <td>...</td>\n",
       "      <td>...</td>\n",
       "      <td>...</td>\n",
       "      <td>...</td>\n",
       "      <td>...</td>\n",
       "      <td>...</td>\n",
       "    </tr>\n",
       "    <tr>\n",
       "      <th>599</th>\n",
       "      <td>6</td>\n",
       "      <td>1967</td>\n",
       "      <td>1967</td>\n",
       "      <td>0.0</td>\n",
       "      <td>3</td>\n",
       "      <td>3</td>\n",
       "      <td>3</td>\n",
       "      <td>1680.0</td>\n",
       "      <td>2</td>\n",
       "      <td>1691</td>\n",
       "      <td>...</td>\n",
       "      <td>0</td>\n",
       "      <td>0</td>\n",
       "      <td>0</td>\n",
       "      <td>0</td>\n",
       "      <td>1</td>\n",
       "      <td>0</td>\n",
       "      <td>0</td>\n",
       "      <td>0</td>\n",
       "      <td>1</td>\n",
       "      <td>0</td>\n",
       "    </tr>\n",
       "    <tr>\n",
       "      <th>1599</th>\n",
       "      <td>6</td>\n",
       "      <td>1978</td>\n",
       "      <td>1978</td>\n",
       "      <td>233.0</td>\n",
       "      <td>2</td>\n",
       "      <td>4</td>\n",
       "      <td>5</td>\n",
       "      <td>1032.0</td>\n",
       "      <td>2</td>\n",
       "      <td>1032</td>\n",
       "      <td>...</td>\n",
       "      <td>0</td>\n",
       "      <td>0</td>\n",
       "      <td>0</td>\n",
       "      <td>0</td>\n",
       "      <td>1</td>\n",
       "      <td>0</td>\n",
       "      <td>0</td>\n",
       "      <td>0</td>\n",
       "      <td>1</td>\n",
       "      <td>0</td>\n",
       "    </tr>\n",
       "    <tr>\n",
       "      <th>1361</th>\n",
       "      <td>7</td>\n",
       "      <td>1954</td>\n",
       "      <td>2005</td>\n",
       "      <td>0.0</td>\n",
       "      <td>2</td>\n",
       "      <td>4</td>\n",
       "      <td>2</td>\n",
       "      <td>1385.0</td>\n",
       "      <td>4</td>\n",
       "      <td>1363</td>\n",
       "      <td>...</td>\n",
       "      <td>0</td>\n",
       "      <td>0</td>\n",
       "      <td>0</td>\n",
       "      <td>0</td>\n",
       "      <td>1</td>\n",
       "      <td>0</td>\n",
       "      <td>0</td>\n",
       "      <td>0</td>\n",
       "      <td>1</td>\n",
       "      <td>0</td>\n",
       "    </tr>\n",
       "    <tr>\n",
       "      <th>1547</th>\n",
       "      <td>5</td>\n",
       "      <td>1968</td>\n",
       "      <td>1968</td>\n",
       "      <td>0.0</td>\n",
       "      <td>2</td>\n",
       "      <td>3</td>\n",
       "      <td>5</td>\n",
       "      <td>1113.0</td>\n",
       "      <td>4</td>\n",
       "      <td>1160</td>\n",
       "      <td>...</td>\n",
       "      <td>0</td>\n",
       "      <td>0</td>\n",
       "      <td>0</td>\n",
       "      <td>0</td>\n",
       "      <td>1</td>\n",
       "      <td>0</td>\n",
       "      <td>0</td>\n",
       "      <td>0</td>\n",
       "      <td>1</td>\n",
       "      <td>0</td>\n",
       "    </tr>\n",
       "    <tr>\n",
       "      <th>863</th>\n",
       "      <td>4</td>\n",
       "      <td>1959</td>\n",
       "      <td>1959</td>\n",
       "      <td>0.0</td>\n",
       "      <td>2</td>\n",
       "      <td>3</td>\n",
       "      <td>2</td>\n",
       "      <td>876.0</td>\n",
       "      <td>2</td>\n",
       "      <td>876</td>\n",
       "      <td>...</td>\n",
       "      <td>0</td>\n",
       "      <td>0</td>\n",
       "      <td>0</td>\n",
       "      <td>0</td>\n",
       "      <td>1</td>\n",
       "      <td>0</td>\n",
       "      <td>0</td>\n",
       "      <td>0</td>\n",
       "      <td>1</td>\n",
       "      <td>0</td>\n",
       "    </tr>\n",
       "  </tbody>\n",
       "</table>\n",
       "<p>1990 rows × 175 columns</p>\n",
       "</div>"
      ],
      "text/plain": [
       "      Overall Qual  Year Built  Year Remod/Add  Mas Vnr Area  Exter Qual  \\\n",
       "1160             5        1965            1965         108.0           2   \n",
       "1280             8        1872            1987           0.0           2   \n",
       "2114             6        1976            1976         174.0           2   \n",
       "759              3        1955            1955           0.0           2   \n",
       "660              5        1958            1958           0.0           2   \n",
       "...            ...         ...             ...           ...         ...   \n",
       "599              6        1967            1967           0.0           3   \n",
       "1599             6        1978            1978         233.0           2   \n",
       "1361             7        1954            2005           0.0           2   \n",
       "1547             5        1968            1968           0.0           2   \n",
       "863              4        1959            1959           0.0           2   \n",
       "\n",
       "      Bsmt Qual  BsmtFin Type 1  Total Bsmt SF  Heating QC  1st Flr SF  ...  \\\n",
       "1160          3               2         1728.0           2        1728  ...   \n",
       "1280          3               2          684.0           1         938  ...   \n",
       "2114          3               4         1143.0           2        1113  ...   \n",
       "759           0               0            0.0           4        1733  ...   \n",
       "660           3               1         1041.0           3        1041  ...   \n",
       "...         ...             ...            ...         ...         ...  ...   \n",
       "599           3               3         1680.0           2        1691  ...   \n",
       "1599          4               5         1032.0           2        1032  ...   \n",
       "1361          4               2         1385.0           4        1363  ...   \n",
       "1547          3               5         1113.0           4        1160  ...   \n",
       "863           3               2          876.0           2         876  ...   \n",
       "\n",
       "      Sale Type_ConLw  Sale Type_New  Sale Type_Oth  Sale Type_VWD  \\\n",
       "1160                0              0              0              0   \n",
       "1280                0              0              0              0   \n",
       "2114                0              0              0              0   \n",
       "759                 0              0              0              0   \n",
       "660                 0              0              0              0   \n",
       "...               ...            ...            ...            ...   \n",
       "599                 0              0              0              0   \n",
       "1599                0              0              0              0   \n",
       "1361                0              0              0              0   \n",
       "1547                0              0              0              0   \n",
       "863                 0              0              0              0   \n",
       "\n",
       "      Sale Type_WD   Sale Condition_AdjLand  Sale Condition_Alloca  \\\n",
       "1160              1                       0                      0   \n",
       "1280              1                       0                      0   \n",
       "2114              1                       0                      0   \n",
       "759               1                       0                      0   \n",
       "660               1                       0                      0   \n",
       "...             ...                     ...                    ...   \n",
       "599               1                       0                      0   \n",
       "1599              1                       0                      0   \n",
       "1361              1                       0                      0   \n",
       "1547              1                       0                      0   \n",
       "863               1                       0                      0   \n",
       "\n",
       "      Sale Condition_Family  Sale Condition_Normal  Sale Condition_Partial  \n",
       "1160                      0                      1                       0  \n",
       "1280                      0                      1                       0  \n",
       "2114                      0                      1                       0  \n",
       "759                       0                      1                       0  \n",
       "660                       0                      1                       0  \n",
       "...                     ...                    ...                     ...  \n",
       "599                       0                      1                       0  \n",
       "1599                      0                      1                       0  \n",
       "1361                      0                      1                       0  \n",
       "1547                      0                      1                       0  \n",
       "863                       0                      1                       0  \n",
       "\n",
       "[1990 rows x 175 columns]"
      ]
     },
     "execution_count": 8,
     "metadata": {},
     "output_type": "execute_result"
    }
   ],
   "source": [
    "X_train"
   ]
  },
  {
   "cell_type": "code",
   "execution_count": 9,
   "id": "threatened-integrity",
   "metadata": {},
   "outputs": [
    {
     "data": {
      "text/plain": [
       "1160    5.154120\n",
       "1280    5.086360\n",
       "2114    5.170262\n",
       "759     5.144885\n",
       "660     5.107210\n",
       "          ...   \n",
       "599     5.243038\n",
       "1599    5.170262\n",
       "1361    5.382917\n",
       "1547    5.183270\n",
       "863     4.929419\n",
       "Name: SalePrice, Length: 1990, dtype: float64"
      ]
     },
     "execution_count": 9,
     "metadata": {},
     "output_type": "execute_result"
    }
   ],
   "source": [
    "y_train"
   ]
  },
  {
   "cell_type": "code",
   "execution_count": 10,
   "id": "explicit-democrat",
   "metadata": {},
   "outputs": [
    {
     "name": "stdout",
     "output_type": "stream",
     "text": [
      "<class 'pandas.core.frame.DataFrame'>\n",
      "Int64Index: 853 entries, 221 to 265\n",
      "Columns: 175 entries, Overall Qual to Sale Condition_Partial\n",
      "dtypes: float64(5), int64(170)\n",
      "memory usage: 1.1 MB\n"
     ]
    }
   ],
   "source": [
    "X_test.info()"
   ]
  },
  {
   "cell_type": "code",
   "execution_count": 11,
   "id": "compound-membrane",
   "metadata": {},
   "outputs": [
    {
     "data": {
      "text/plain": [
       "1990"
      ]
     },
     "execution_count": 11,
     "metadata": {},
     "output_type": "execute_result"
    }
   ],
   "source": [
    "len(y_train)"
   ]
  },
  {
   "cell_type": "code",
   "execution_count": 12,
   "id": "spread-greensboro",
   "metadata": {},
   "outputs": [
    {
     "data": {
      "text/plain": [
       "853"
      ]
     },
     "execution_count": 12,
     "metadata": {},
     "output_type": "execute_result"
    }
   ],
   "source": [
    "len(y_test)"
   ]
  },
  {
   "cell_type": "markdown",
   "id": "military-gilbert",
   "metadata": {},
   "source": [
    "**Creating Model**"
   ]
  },
  {
   "cell_type": "code",
   "execution_count": 13,
   "id": "revolutionary-travel",
   "metadata": {},
   "outputs": [],
   "source": [
    "from sklearn.linear_model import LinearRegression"
   ]
  },
  {
   "cell_type": "code",
   "execution_count": 14,
   "id": "electric-consistency",
   "metadata": {},
   "outputs": [],
   "source": [
    "model = LinearRegression()"
   ]
  },
  {
   "cell_type": "code",
   "execution_count": 15,
   "id": "confident-savage",
   "metadata": {},
   "outputs": [
    {
     "data": {
      "text/plain": [
       "LinearRegression()"
      ]
     },
     "execution_count": 15,
     "metadata": {},
     "output_type": "execute_result"
    }
   ],
   "source": [
    "model.fit(X_train, y_train)"
   ]
  },
  {
   "cell_type": "code",
   "execution_count": 16,
   "id": "infinite-newcastle",
   "metadata": {},
   "outputs": [
    {
     "data": {
      "text/html": [
       "<div>\n",
       "<style scoped>\n",
       "    .dataframe tbody tr th:only-of-type {\n",
       "        vertical-align: middle;\n",
       "    }\n",
       "\n",
       "    .dataframe tbody tr th {\n",
       "        vertical-align: top;\n",
       "    }\n",
       "\n",
       "    .dataframe thead th {\n",
       "        text-align: right;\n",
       "    }\n",
       "</style>\n",
       "<table border=\"1\" class=\"dataframe\">\n",
       "  <thead>\n",
       "    <tr style=\"text-align: right;\">\n",
       "      <th></th>\n",
       "      <th>Overall Qual</th>\n",
       "      <th>Year Built</th>\n",
       "      <th>Year Remod/Add</th>\n",
       "      <th>Mas Vnr Area</th>\n",
       "      <th>Exter Qual</th>\n",
       "      <th>Bsmt Qual</th>\n",
       "      <th>BsmtFin Type 1</th>\n",
       "      <th>Total Bsmt SF</th>\n",
       "      <th>Heating QC</th>\n",
       "      <th>1st Flr SF</th>\n",
       "      <th>...</th>\n",
       "      <th>Sale Type_ConLw</th>\n",
       "      <th>Sale Type_New</th>\n",
       "      <th>Sale Type_Oth</th>\n",
       "      <th>Sale Type_VWD</th>\n",
       "      <th>Sale Type_WD</th>\n",
       "      <th>Sale Condition_AdjLand</th>\n",
       "      <th>Sale Condition_Alloca</th>\n",
       "      <th>Sale Condition_Family</th>\n",
       "      <th>Sale Condition_Normal</th>\n",
       "      <th>Sale Condition_Partial</th>\n",
       "    </tr>\n",
       "  </thead>\n",
       "  <tbody>\n",
       "    <tr>\n",
       "      <th>221</th>\n",
       "      <td>5</td>\n",
       "      <td>1968</td>\n",
       "      <td>1968</td>\n",
       "      <td>0.0</td>\n",
       "      <td>2</td>\n",
       "      <td>3</td>\n",
       "      <td>3</td>\n",
       "      <td>720.0</td>\n",
       "      <td>4</td>\n",
       "      <td>720</td>\n",
       "      <td>...</td>\n",
       "      <td>0</td>\n",
       "      <td>0</td>\n",
       "      <td>0</td>\n",
       "      <td>0</td>\n",
       "      <td>1</td>\n",
       "      <td>0</td>\n",
       "      <td>0</td>\n",
       "      <td>0</td>\n",
       "      <td>1</td>\n",
       "      <td>0</td>\n",
       "    </tr>\n",
       "    <tr>\n",
       "      <th>403</th>\n",
       "      <td>6</td>\n",
       "      <td>1977</td>\n",
       "      <td>1977</td>\n",
       "      <td>0.0</td>\n",
       "      <td>2</td>\n",
       "      <td>4</td>\n",
       "      <td>5</td>\n",
       "      <td>855.0</td>\n",
       "      <td>2</td>\n",
       "      <td>855</td>\n",
       "      <td>...</td>\n",
       "      <td>0</td>\n",
       "      <td>0</td>\n",
       "      <td>0</td>\n",
       "      <td>0</td>\n",
       "      <td>1</td>\n",
       "      <td>0</td>\n",
       "      <td>0</td>\n",
       "      <td>0</td>\n",
       "      <td>1</td>\n",
       "      <td>0</td>\n",
       "    </tr>\n",
       "    <tr>\n",
       "      <th>1279</th>\n",
       "      <td>6</td>\n",
       "      <td>1914</td>\n",
       "      <td>2001</td>\n",
       "      <td>0.0</td>\n",
       "      <td>2</td>\n",
       "      <td>3</td>\n",
       "      <td>1</td>\n",
       "      <td>742.0</td>\n",
       "      <td>4</td>\n",
       "      <td>742</td>\n",
       "      <td>...</td>\n",
       "      <td>0</td>\n",
       "      <td>0</td>\n",
       "      <td>0</td>\n",
       "      <td>0</td>\n",
       "      <td>1</td>\n",
       "      <td>0</td>\n",
       "      <td>0</td>\n",
       "      <td>0</td>\n",
       "      <td>1</td>\n",
       "      <td>0</td>\n",
       "    </tr>\n",
       "    <tr>\n",
       "      <th>487</th>\n",
       "      <td>7</td>\n",
       "      <td>1994</td>\n",
       "      <td>1994</td>\n",
       "      <td>0.0</td>\n",
       "      <td>3</td>\n",
       "      <td>4</td>\n",
       "      <td>6</td>\n",
       "      <td>973.0</td>\n",
       "      <td>4</td>\n",
       "      <td>979</td>\n",
       "      <td>...</td>\n",
       "      <td>0</td>\n",
       "      <td>0</td>\n",
       "      <td>0</td>\n",
       "      <td>0</td>\n",
       "      <td>1</td>\n",
       "      <td>0</td>\n",
       "      <td>0</td>\n",
       "      <td>0</td>\n",
       "      <td>1</td>\n",
       "      <td>0</td>\n",
       "    </tr>\n",
       "    <tr>\n",
       "      <th>928</th>\n",
       "      <td>8</td>\n",
       "      <td>2007</td>\n",
       "      <td>2007</td>\n",
       "      <td>0.0</td>\n",
       "      <td>3</td>\n",
       "      <td>4</td>\n",
       "      <td>6</td>\n",
       "      <td>1466.0</td>\n",
       "      <td>4</td>\n",
       "      <td>1466</td>\n",
       "      <td>...</td>\n",
       "      <td>0</td>\n",
       "      <td>0</td>\n",
       "      <td>0</td>\n",
       "      <td>0</td>\n",
       "      <td>1</td>\n",
       "      <td>0</td>\n",
       "      <td>0</td>\n",
       "      <td>0</td>\n",
       "      <td>1</td>\n",
       "      <td>0</td>\n",
       "    </tr>\n",
       "    <tr>\n",
       "      <th>...</th>\n",
       "      <td>...</td>\n",
       "      <td>...</td>\n",
       "      <td>...</td>\n",
       "      <td>...</td>\n",
       "      <td>...</td>\n",
       "      <td>...</td>\n",
       "      <td>...</td>\n",
       "      <td>...</td>\n",
       "      <td>...</td>\n",
       "      <td>...</td>\n",
       "      <td>...</td>\n",
       "      <td>...</td>\n",
       "      <td>...</td>\n",
       "      <td>...</td>\n",
       "      <td>...</td>\n",
       "      <td>...</td>\n",
       "      <td>...</td>\n",
       "      <td>...</td>\n",
       "      <td>...</td>\n",
       "      <td>...</td>\n",
       "      <td>...</td>\n",
       "    </tr>\n",
       "    <tr>\n",
       "      <th>1779</th>\n",
       "      <td>7</td>\n",
       "      <td>2006</td>\n",
       "      <td>2007</td>\n",
       "      <td>0.0</td>\n",
       "      <td>3</td>\n",
       "      <td>5</td>\n",
       "      <td>1</td>\n",
       "      <td>1352.0</td>\n",
       "      <td>4</td>\n",
       "      <td>1352</td>\n",
       "      <td>...</td>\n",
       "      <td>0</td>\n",
       "      <td>1</td>\n",
       "      <td>0</td>\n",
       "      <td>0</td>\n",
       "      <td>0</td>\n",
       "      <td>0</td>\n",
       "      <td>0</td>\n",
       "      <td>0</td>\n",
       "      <td>0</td>\n",
       "      <td>1</td>\n",
       "    </tr>\n",
       "    <tr>\n",
       "      <th>1046</th>\n",
       "      <td>7</td>\n",
       "      <td>2005</td>\n",
       "      <td>2006</td>\n",
       "      <td>14.0</td>\n",
       "      <td>3</td>\n",
       "      <td>4</td>\n",
       "      <td>6</td>\n",
       "      <td>1346.0</td>\n",
       "      <td>4</td>\n",
       "      <td>1504</td>\n",
       "      <td>...</td>\n",
       "      <td>0</td>\n",
       "      <td>0</td>\n",
       "      <td>0</td>\n",
       "      <td>0</td>\n",
       "      <td>1</td>\n",
       "      <td>0</td>\n",
       "      <td>0</td>\n",
       "      <td>0</td>\n",
       "      <td>1</td>\n",
       "      <td>0</td>\n",
       "    </tr>\n",
       "    <tr>\n",
       "      <th>706</th>\n",
       "      <td>7</td>\n",
       "      <td>1925</td>\n",
       "      <td>2007</td>\n",
       "      <td>0.0</td>\n",
       "      <td>3</td>\n",
       "      <td>3</td>\n",
       "      <td>1</td>\n",
       "      <td>952.0</td>\n",
       "      <td>3</td>\n",
       "      <td>952</td>\n",
       "      <td>...</td>\n",
       "      <td>0</td>\n",
       "      <td>0</td>\n",
       "      <td>0</td>\n",
       "      <td>0</td>\n",
       "      <td>1</td>\n",
       "      <td>0</td>\n",
       "      <td>0</td>\n",
       "      <td>0</td>\n",
       "      <td>1</td>\n",
       "      <td>0</td>\n",
       "    </tr>\n",
       "    <tr>\n",
       "      <th>1297</th>\n",
       "      <td>6</td>\n",
       "      <td>1929</td>\n",
       "      <td>1950</td>\n",
       "      <td>0.0</td>\n",
       "      <td>2</td>\n",
       "      <td>3</td>\n",
       "      <td>1</td>\n",
       "      <td>862.0</td>\n",
       "      <td>2</td>\n",
       "      <td>950</td>\n",
       "      <td>...</td>\n",
       "      <td>0</td>\n",
       "      <td>0</td>\n",
       "      <td>0</td>\n",
       "      <td>0</td>\n",
       "      <td>1</td>\n",
       "      <td>0</td>\n",
       "      <td>0</td>\n",
       "      <td>0</td>\n",
       "      <td>1</td>\n",
       "      <td>0</td>\n",
       "    </tr>\n",
       "    <tr>\n",
       "      <th>265</th>\n",
       "      <td>7</td>\n",
       "      <td>2004</td>\n",
       "      <td>2005</td>\n",
       "      <td>109.0</td>\n",
       "      <td>3</td>\n",
       "      <td>4</td>\n",
       "      <td>6</td>\n",
       "      <td>1473.0</td>\n",
       "      <td>4</td>\n",
       "      <td>1484</td>\n",
       "      <td>...</td>\n",
       "      <td>0</td>\n",
       "      <td>0</td>\n",
       "      <td>0</td>\n",
       "      <td>0</td>\n",
       "      <td>1</td>\n",
       "      <td>0</td>\n",
       "      <td>0</td>\n",
       "      <td>0</td>\n",
       "      <td>1</td>\n",
       "      <td>0</td>\n",
       "    </tr>\n",
       "  </tbody>\n",
       "</table>\n",
       "<p>853 rows × 175 columns</p>\n",
       "</div>"
      ],
      "text/plain": [
       "      Overall Qual  Year Built  Year Remod/Add  Mas Vnr Area  Exter Qual  \\\n",
       "221              5        1968            1968           0.0           2   \n",
       "403              6        1977            1977           0.0           2   \n",
       "1279             6        1914            2001           0.0           2   \n",
       "487              7        1994            1994           0.0           3   \n",
       "928              8        2007            2007           0.0           3   \n",
       "...            ...         ...             ...           ...         ...   \n",
       "1779             7        2006            2007           0.0           3   \n",
       "1046             7        2005            2006          14.0           3   \n",
       "706              7        1925            2007           0.0           3   \n",
       "1297             6        1929            1950           0.0           2   \n",
       "265              7        2004            2005         109.0           3   \n",
       "\n",
       "      Bsmt Qual  BsmtFin Type 1  Total Bsmt SF  Heating QC  1st Flr SF  ...  \\\n",
       "221           3               3          720.0           4         720  ...   \n",
       "403           4               5          855.0           2         855  ...   \n",
       "1279          3               1          742.0           4         742  ...   \n",
       "487           4               6          973.0           4         979  ...   \n",
       "928           4               6         1466.0           4        1466  ...   \n",
       "...         ...             ...            ...         ...         ...  ...   \n",
       "1779          5               1         1352.0           4        1352  ...   \n",
       "1046          4               6         1346.0           4        1504  ...   \n",
       "706           3               1          952.0           3         952  ...   \n",
       "1297          3               1          862.0           2         950  ...   \n",
       "265           4               6         1473.0           4        1484  ...   \n",
       "\n",
       "      Sale Type_ConLw  Sale Type_New  Sale Type_Oth  Sale Type_VWD  \\\n",
       "221                 0              0              0              0   \n",
       "403                 0              0              0              0   \n",
       "1279                0              0              0              0   \n",
       "487                 0              0              0              0   \n",
       "928                 0              0              0              0   \n",
       "...               ...            ...            ...            ...   \n",
       "1779                0              1              0              0   \n",
       "1046                0              0              0              0   \n",
       "706                 0              0              0              0   \n",
       "1297                0              0              0              0   \n",
       "265                 0              0              0              0   \n",
       "\n",
       "      Sale Type_WD   Sale Condition_AdjLand  Sale Condition_Alloca  \\\n",
       "221               1                       0                      0   \n",
       "403               1                       0                      0   \n",
       "1279              1                       0                      0   \n",
       "487               1                       0                      0   \n",
       "928               1                       0                      0   \n",
       "...             ...                     ...                    ...   \n",
       "1779              0                       0                      0   \n",
       "1046              1                       0                      0   \n",
       "706               1                       0                      0   \n",
       "1297              1                       0                      0   \n",
       "265               1                       0                      0   \n",
       "\n",
       "      Sale Condition_Family  Sale Condition_Normal  Sale Condition_Partial  \n",
       "221                       0                      1                       0  \n",
       "403                       0                      1                       0  \n",
       "1279                      0                      1                       0  \n",
       "487                       0                      1                       0  \n",
       "928                       0                      1                       0  \n",
       "...                     ...                    ...                     ...  \n",
       "1779                      0                      0                       1  \n",
       "1046                      0                      1                       0  \n",
       "706                       0                      1                       0  \n",
       "1297                      0                      1                       0  \n",
       "265                       0                      1                       0  \n",
       "\n",
       "[853 rows x 175 columns]"
      ]
     },
     "execution_count": 16,
     "metadata": {},
     "output_type": "execute_result"
    }
   ],
   "source": [
    "X_test"
   ]
  },
  {
   "cell_type": "code",
   "execution_count": 17,
   "id": "minute-palmer",
   "metadata": {},
   "outputs": [
    {
     "data": {
      "text/plain": [
       "221     5.212188\n",
       "403     5.139564\n",
       "1279    5.107210\n",
       "487     5.394452\n",
       "928     5.303196\n",
       "          ...   \n",
       "1779    5.319938\n",
       "1046    5.281033\n",
       "706     5.311754\n",
       "1297    5.079181\n",
       "265     5.328380\n",
       "Name: SalePrice, Length: 853, dtype: float64"
      ]
     },
     "execution_count": 17,
     "metadata": {},
     "output_type": "execute_result"
    }
   ],
   "source": [
    "y_test"
   ]
  },
  {
   "cell_type": "code",
   "execution_count": 18,
   "id": "recovered-today",
   "metadata": {},
   "outputs": [],
   "source": [
    "test_predictions = model.predict(X_test)"
   ]
  },
  {
   "cell_type": "code",
   "execution_count": 19,
   "id": "awful-event",
   "metadata": {},
   "outputs": [
    {
     "data": {
      "text/plain": [
       "array([5.19419717, 5.16116631, 5.09929229, 5.34373388, 5.38431604,\n",
       "       5.11223606, 5.75146847, 5.10610566, 5.13934943, 5.35771257,\n",
       "       5.13532075, 5.27142818, 5.17031023, 5.39579061, 5.63761598,\n",
       "       5.15725893, 5.41676464, 5.36265839, 5.05586008, 5.61480017,\n",
       "       5.11221479, 5.12614321, 5.14713484, 5.39187789, 5.09747887,\n",
       "       5.25522654, 5.06801935, 5.13295608, 5.14368999, 5.11743973,\n",
       "       5.05005443, 5.32880897, 5.15626189, 5.26015032, 5.30053709,\n",
       "       4.93892199, 5.07600129, 4.98452109, 5.2820855 , 5.13406231,\n",
       "       5.13132312, 5.31877834, 5.04989414, 4.93975667, 5.41749652,\n",
       "       5.14865149, 5.30324834, 5.53647819, 5.09165588, 5.16226165,\n",
       "       5.18223864, 5.39486887, 5.40063353, 5.35032166, 4.86853529,\n",
       "       5.20410854, 5.05616274, 5.04009891, 5.25371812, 5.21175036,\n",
       "       5.30538278, 5.33409193, 5.06595476, 5.33774908, 5.23057101,\n",
       "       5.1693558 , 5.07250627, 4.98691296, 5.21052816, 4.96877646,\n",
       "       5.29175167, 5.02934764, 5.50105675, 5.28098412, 5.42061863,\n",
       "       5.19093748, 5.47611609, 5.6128088 , 5.16426204, 5.15218863,\n",
       "       5.57405365, 5.11873072, 5.11624122, 5.52535533, 5.53790232,\n",
       "       5.15218863, 5.0538173 , 5.10360949, 5.10242948, 5.63585085,\n",
       "       5.02451308, 5.20272766, 5.23124038, 5.11788029, 5.18781922,\n",
       "       5.35985223, 5.08818683, 5.07358192, 5.25701464, 5.48378761,\n",
       "       5.19443208, 5.33735863, 5.45961818, 5.45508169, 5.51954684,\n",
       "       5.13539975, 5.30394814, 5.22588495, 5.23700588, 5.33853581,\n",
       "       5.24355546, 5.30815802, 5.54187421, 5.187474  , 5.33144648,\n",
       "       4.95118317, 5.07683462, 5.34964248, 5.06138156, 5.25505286,\n",
       "       5.35197885, 5.29307088, 5.20419986, 5.02553543, 5.25071321,\n",
       "       5.28067367, 5.37224771, 4.98437048, 5.01992872, 5.20375427,\n",
       "       5.22037877, 5.32833258, 5.1855354 , 5.26696276, 5.24908261,\n",
       "       5.15585713, 5.13751118, 5.42061059, 5.176617  , 5.07869132,\n",
       "       5.24816668, 4.97150287, 5.33517661, 5.40497083, 5.04925592,\n",
       "       5.16226474, 5.29657174, 5.47338518, 5.12721386, 4.72996558,\n",
       "       5.24817784, 5.02146663, 5.26910637, 5.20420937, 5.44821875,\n",
       "       5.16328238, 5.00535412, 5.08037531, 5.0972175 , 5.07358784,\n",
       "       5.16970785, 5.11105776, 5.11928532, 5.11977045, 5.32381284,\n",
       "       4.96387563, 5.11814204, 5.03315845, 5.46088616, 5.22310515,\n",
       "       5.52227271, 5.07524482, 5.22419443, 4.92866042, 5.31697356,\n",
       "       5.1213455 , 5.28528208, 4.96790643, 5.3010471 , 5.39088474,\n",
       "       5.16298085, 5.21880652, 5.10193776, 5.12864818, 5.62162806,\n",
       "       5.1571497 , 5.13116442, 5.28163546, 5.39310384, 4.99330544,\n",
       "       5.20039176, 5.48414752, 5.27403687, 5.20316861, 5.23617872,\n",
       "       4.8377654 , 5.54638333, 5.41284738, 5.26361589, 5.10557716,\n",
       "       5.08594757, 5.54085248, 5.17232657, 5.06416599, 5.23078645,\n",
       "       5.16544967, 5.11746483, 5.30013822, 5.09014694, 5.3041717 ,\n",
       "       5.58779019, 5.39063331, 5.52128396, 5.40858358, 5.34339517,\n",
       "       5.05189038, 5.20324234, 5.10973024, 4.96870517, 4.82542488,\n",
       "       5.0625559 , 5.507725  , 5.12612986, 5.10131639, 5.13212398,\n",
       "       5.05935786, 5.02038022, 5.28490426, 5.13675752, 5.53479869,\n",
       "       5.03725295, 5.34339137, 5.19868673, 4.91172611, 5.17691758,\n",
       "       5.24332264, 5.25671744, 5.03881565, 5.13128093, 5.12776458,\n",
       "       5.2127058 , 5.27868055, 5.42217971, 5.27867634, 5.28512687,\n",
       "       5.31106354, 4.76304269, 5.53977609, 5.23134458, 5.25909467,\n",
       "       5.36462494, 5.36601052, 5.12478734, 5.33963281, 5.41378144,\n",
       "       5.30431651, 5.34998882, 5.32891929, 5.28554038, 5.2170369 ,\n",
       "       5.32687603, 5.03508991, 5.29735443, 5.04650662, 5.3688655 ,\n",
       "       5.23172165, 5.33396898, 5.41390797, 5.34551459, 5.12933083,\n",
       "       5.5190358 , 5.14913723, 5.25600729, 5.14615683, 5.22957504,\n",
       "       5.28369938, 5.10334024, 5.20032086, 5.31069546, 5.50104795,\n",
       "       5.46348466, 5.08244836, 5.04047912, 5.2334975 , 5.15482259,\n",
       "       5.42740169, 5.13543595, 5.30581696, 5.02793944, 5.27247976,\n",
       "       5.35063899, 5.44144457, 5.50404921, 5.07935266, 5.49101019,\n",
       "       5.27799465, 5.11167115, 5.32243923, 5.29313896, 5.1341832 ,\n",
       "       5.05375603, 5.28367391, 5.09439561, 4.94437222, 5.32867133,\n",
       "       5.40205743, 5.17635899, 5.13577954, 5.4027377 , 5.69385273,\n",
       "       5.29753358, 5.60652835, 5.23690467, 5.34783144, 5.4583828 ,\n",
       "       5.17055754, 5.32639182, 5.20445672, 5.28360306, 5.26852824,\n",
       "       5.03547015, 5.41468886, 5.0631615 , 5.17281716, 5.02460623,\n",
       "       5.50273148, 5.21906609, 5.26503936, 5.15553973, 5.12961696,\n",
       "       5.18382062, 5.21213139, 5.26471438, 5.24235881, 5.55979179,\n",
       "       5.14869841, 5.68431094, 5.41852087, 5.19609072, 5.15619483,\n",
       "       5.25189009, 5.32198085, 5.11177852, 5.3468967 , 5.24173074,\n",
       "       5.42992507, 5.13139859, 5.35417497, 5.35311334, 5.28619423,\n",
       "       4.98770598, 5.29317535, 5.07414735, 5.0338474 , 5.41196401,\n",
       "       5.46804249, 5.15039951, 5.10174675, 5.40686425, 5.1516099 ,\n",
       "       5.50420908, 5.19650472, 5.14781793, 5.18587377, 5.28488326,\n",
       "       5.2666878 , 5.32477892, 5.11874375, 5.19266297, 5.57786416,\n",
       "       5.44217799, 5.19808722, 5.04976955, 5.19150288, 5.16029283,\n",
       "       5.15661661, 5.23848386, 5.16078762, 5.10075415, 4.94252626,\n",
       "       5.11679012, 5.00224479, 5.18179935, 5.10219075, 5.4799974 ,\n",
       "       5.31311344, 5.30229615, 5.0925601 , 5.37798179, 4.94945499,\n",
       "       5.07330575, 5.0418014 , 5.46485046, 5.13173424, 5.23873237,\n",
       "       5.00729081, 5.02988518, 5.38549933, 5.38607053, 5.09260353,\n",
       "       5.21507888, 5.1051357 , 5.26248002, 5.07207149, 5.51382545,\n",
       "       5.0842437 , 5.18940085, 5.24186713, 5.17083188, 5.16722342,\n",
       "       5.60063736, 5.11042079, 5.08453191, 5.16301794, 5.34973309,\n",
       "       5.69212027, 5.20867277, 5.00489355, 4.83649961, 5.26378911,\n",
       "       5.07393461, 5.16629688, 5.27471406, 5.10033525, 5.32587612,\n",
       "       5.03395574, 5.25883929, 5.37744506, 5.17890245, 4.95217369,\n",
       "       5.2501214 , 5.09939584, 5.23389943, 5.33615311, 5.43905426,\n",
       "       5.24893308, 5.12508405, 5.53645772, 5.12257649, 5.51596492,\n",
       "       5.08762783, 5.19365041, 5.37461799, 5.02466893, 4.94768767,\n",
       "       5.05647147, 5.33643655, 5.21950236, 5.09172835, 5.60692117,\n",
       "       5.15802845, 5.33011829, 5.27035734, 5.30401392, 5.43252144,\n",
       "       5.07278465, 5.16156705, 5.09311351, 4.95307606, 5.2833264 ,\n",
       "       5.19924232, 5.11264756, 5.17364185, 5.28454661, 5.24099752,\n",
       "       5.37775054, 5.16693709, 5.56847746, 5.2840375 , 5.15854566,\n",
       "       5.18798938, 4.86950768, 4.91281071, 5.31554217, 5.03801423,\n",
       "       5.32337892, 5.18587621, 5.056829  , 5.47176207, 5.27339451,\n",
       "       5.17903098, 5.28933434, 5.09533031, 5.49534671, 5.09879916,\n",
       "       5.26140187, 5.31256672, 5.02669259, 5.07652672, 5.20213305,\n",
       "       5.08894204, 5.25900633, 5.10431906, 5.07297114, 5.03206483,\n",
       "       5.16547642, 5.08233459, 5.40419668, 5.27867634, 5.11100524,\n",
       "       5.21826247, 5.19521382, 5.23704901, 5.41572464, 5.32226111,\n",
       "       5.48890016, 5.11683982, 5.06755386, 5.20407241, 5.25770335,\n",
       "       5.18492361, 5.04901934, 5.05613168, 5.20026095, 5.07461708,\n",
       "       5.25436472, 5.06392076, 5.00589568, 5.42080586, 5.10280756,\n",
       "       5.25411888, 5.16940342, 5.19207925, 5.03734242, 5.28225601,\n",
       "       4.99784489, 5.274039  , 5.46864336, 4.96272104, 5.05245884,\n",
       "       5.46483082, 5.10558191, 5.1397191 , 5.45741325, 5.15012601,\n",
       "       5.32435019, 5.41067986, 5.23919979, 5.18934626, 5.09194214,\n",
       "       4.94715502, 5.11045074, 4.91355331, 5.14361452, 5.09828267,\n",
       "       5.32957113, 5.12994422, 5.4294763 , 5.29332552, 5.38607937,\n",
       "       5.22784774, 5.22230218, 5.20061452, 5.14187674, 5.08717466,\n",
       "       5.17618598, 5.35407224, 5.15628696, 5.32169077, 5.03285807,\n",
       "       5.1377532 , 5.07240898, 5.39382496, 5.41024226, 5.16920513,\n",
       "       5.22648686, 5.44305731, 5.26074119, 5.00535084, 5.29089756,\n",
       "       5.47093665, 5.24132853, 5.21867083, 5.15367639, 5.61716417,\n",
       "       5.16900545, 4.96195867, 5.15050487, 5.01611589, 5.09873422,\n",
       "       5.07178232, 5.13471901, 5.05192988, 5.53173894, 5.51866398,\n",
       "       5.30397536, 5.52518125, 4.82675577, 5.37197217, 5.20016878,\n",
       "       5.42564165, 5.08528071, 5.09451122, 5.2830303 , 5.52066669,\n",
       "       5.0420123 , 4.93177692, 5.19046355, 5.13047899, 5.35555739,\n",
       "       5.10379611, 5.15301395, 5.41104206, 5.15785989, 5.15311067,\n",
       "       5.5576466 , 5.21753522, 5.12857146, 5.23309102, 5.25373914,\n",
       "       5.31850654, 5.22181947, 5.28525369, 5.16412882, 5.36984413,\n",
       "       5.38430748, 5.17366343, 5.33610397, 5.291414  , 5.2074463 ,\n",
       "       5.3023221 , 5.15406251, 5.33581849, 5.10356708, 5.3291548 ,\n",
       "       5.07251332, 5.1183442 , 5.24425631, 4.99149964, 5.18151127,\n",
       "       5.42193547, 4.95658683, 5.2807042 , 5.29948092, 5.27020957,\n",
       "       5.21234628, 5.13261934, 5.12449276, 5.02496368, 5.04836067,\n",
       "       5.15352101, 5.06242432, 5.24910979, 5.456254  , 5.29039077,\n",
       "       5.43433296, 5.34028144, 5.31759307, 5.21688505, 5.23057068,\n",
       "       5.26518343, 5.15249327, 5.30523593, 5.09913959, 5.46369796,\n",
       "       5.20134478, 5.48215195, 5.22419236, 5.30682843, 5.30855232,\n",
       "       5.14590644, 5.25888135, 5.3251358 , 4.97733462, 5.57100732,\n",
       "       4.9171787 , 5.1411329 , 5.10763041, 5.39365988, 5.12718979,\n",
       "       5.27550452, 5.06518612, 5.09412013, 5.19131758, 5.28692955,\n",
       "       5.17728163, 5.39984024, 5.14310853, 5.12943039, 5.53658319,\n",
       "       5.08870453, 4.93747757, 5.30195662, 5.19816703, 5.06082438,\n",
       "       5.18562328, 5.24964671, 5.40396074, 5.50911307, 5.26310279,\n",
       "       5.27958611, 5.30294575, 5.58542409, 5.42644604, 4.98816036,\n",
       "       5.30535001, 5.26651085, 5.44328075, 4.95647922, 5.05850215,\n",
       "       4.92909258, 5.24263658, 5.10046548, 5.08998874, 5.49869925,\n",
       "       5.14129358, 5.04758748, 5.22435559, 5.543886  , 5.37443538,\n",
       "       5.19701407, 5.2775912 , 5.06418676, 5.09672745, 5.04809427,\n",
       "       5.40297474, 5.30582992, 4.79866284, 5.26829644, 5.50399245,\n",
       "       5.53625695, 5.46000021, 5.31904275, 5.16455499, 5.4529267 ,\n",
       "       5.03088857, 5.45696157, 5.04250046, 5.22529192, 4.96040587,\n",
       "       5.40450382, 5.48333124, 5.19257267, 5.11735594, 5.36142174,\n",
       "       5.44140445, 5.02183071, 5.44452596, 5.20324587, 5.26331544,\n",
       "       5.2335525 , 5.10517425, 5.24844949, 5.26448701, 5.04540052,\n",
       "       5.12038152, 5.23715055, 5.43270873, 5.27891917, 5.30591131,\n",
       "       5.11493463, 5.26904817, 5.15976463, 5.3692468 , 5.19360457,\n",
       "       5.25141671, 4.98020001, 5.15951797, 5.44041766, 4.99842672,\n",
       "       5.14935088, 5.07366354, 5.23553745, 5.36944655, 5.17200051,\n",
       "       5.11709585, 5.21192546, 5.30068094, 5.06377819, 5.47978925,\n",
       "       5.0192762 , 5.0001283 , 5.44465466, 5.25902123, 4.96583111,\n",
       "       5.08413521, 5.2278385 , 5.12917598, 5.28030489, 4.94991413,\n",
       "       4.9963585 , 5.55241943, 5.36921426, 5.10691277, 5.09182525,\n",
       "       5.5345155 , 5.32284601, 5.0639765 , 4.93814947, 5.10138526,\n",
       "       5.15455252, 5.02931651, 5.29993288, 5.12717978, 5.18105134,\n",
       "       5.33660541, 4.82584778, 5.04089566, 5.32191924, 5.17571474,\n",
       "       5.12560063, 5.18880867, 5.13086004, 5.25379236, 5.34268741,\n",
       "       5.15182218, 5.07695909, 5.1416198 , 5.26791347, 5.24042856,\n",
       "       5.03306479, 5.24487014, 4.89770248, 4.97999746, 5.37679996,\n",
       "       5.27091021, 5.10626478, 5.10037079, 5.05046663, 5.1198476 ,\n",
       "       5.18697283, 5.17893116, 5.27967782, 5.14656887, 5.04774206,\n",
       "       5.14713484, 5.30638459, 5.07351306, 5.01388873, 5.28686508,\n",
       "       5.43845449, 5.17182675, 5.02760705, 5.18744146, 5.06676567,\n",
       "       5.278691  , 4.99883037, 5.08568384, 5.21695989, 4.96010664,\n",
       "       5.07217799, 4.97107796, 5.08058198, 5.4760805 , 5.28683997,\n",
       "       5.47160596, 5.09165084, 5.27697755, 5.29783441, 5.29714992,\n",
       "       5.2692878 , 5.05636854, 5.3291618 ])"
      ]
     },
     "execution_count": 19,
     "metadata": {},
     "output_type": "execute_result"
    }
   ],
   "source": [
    "test_predictions"
   ]
  },
  {
   "cell_type": "code",
   "execution_count": 20,
   "id": "polar-quebec",
   "metadata": {},
   "outputs": [],
   "source": [
    "from sklearn.metrics import mean_absolute_error, mean_squared_error"
   ]
  },
  {
   "cell_type": "code",
   "execution_count": 21,
   "id": "pursuant-plant",
   "metadata": {},
   "outputs": [],
   "source": [
    "MAE = mean_absolute_error(y_test,test_predictions)\n",
    "MSE = mean_squared_error(y_test,test_predictions)\n",
    "RMSE = np.sqrt(MSE)"
   ]
  },
  {
   "cell_type": "code",
   "execution_count": 22,
   "id": "mental-feeding",
   "metadata": {},
   "outputs": [
    {
     "data": {
      "text/plain": [
       "0.03598978380989298"
      ]
     },
     "execution_count": 22,
     "metadata": {},
     "output_type": "execute_result"
    }
   ],
   "source": [
    "MAE"
   ]
  },
  {
   "cell_type": "code",
   "execution_count": 23,
   "id": "known-alexander",
   "metadata": {},
   "outputs": [
    {
     "data": {
      "text/plain": [
       "0.0027113483961713953"
      ]
     },
     "execution_count": 23,
     "metadata": {},
     "output_type": "execute_result"
    }
   ],
   "source": [
    "MSE"
   ]
  },
  {
   "cell_type": "code",
   "execution_count": 24,
   "id": "parallel-medline",
   "metadata": {},
   "outputs": [
    {
     "data": {
      "text/plain": [
       "0.0520706097157638"
      ]
     },
     "execution_count": 24,
     "metadata": {},
     "output_type": "execute_result"
    }
   ],
   "source": [
    "RMSE"
   ]
  },
  {
   "cell_type": "code",
   "execution_count": 25,
   "id": "metric-sodium",
   "metadata": {},
   "outputs": [
    {
     "data": {
      "text/plain": [
       "0.9980050029014613"
      ]
     },
     "execution_count": 25,
     "metadata": {},
     "output_type": "execute_result"
    }
   ],
   "source": [
    "100*RMSE/df['SalePrice'].mean()"
   ]
  },
  {
   "cell_type": "markdown",
   "id": "fitted-elements",
   "metadata": {},
   "source": [
    "**0.99% of error**"
   ]
  },
  {
   "cell_type": "code",
   "execution_count": 26,
   "id": "sporting-presentation",
   "metadata": {},
   "outputs": [],
   "source": [
    "residual_test = y_test - test_predictions"
   ]
  },
  {
   "cell_type": "code",
   "execution_count": 27,
   "id": "still-luxury",
   "metadata": {},
   "outputs": [
    {
     "data": {
      "text/plain": [
       "221     0.017990\n",
       "403    -0.021602\n",
       "1279    0.007918\n",
       "487     0.050718\n",
       "928    -0.081120\n",
       "          ...   \n",
       "1779    0.022104\n",
       "1046   -0.016117\n",
       "706     0.042466\n",
       "1297    0.022813\n",
       "265    -0.000782\n",
       "Name: SalePrice, Length: 853, dtype: float64"
      ]
     },
     "execution_count": 27,
     "metadata": {},
     "output_type": "execute_result"
    }
   ],
   "source": [
    "residual_test"
   ]
  },
  {
   "cell_type": "code",
   "execution_count": 28,
   "id": "fitted-courage",
   "metadata": {},
   "outputs": [
    {
     "data": {
      "text/plain": [
       "<matplotlib.lines.Line2D at 0xb562888>"
      ]
     },
     "execution_count": 28,
     "metadata": {},
     "output_type": "execute_result"
    },
    {
     "data": {
      "image/png": "[encoded data removed]",
      "text/plain": [
       "<Figure size 864x576 with 1 Axes>"
      ]
     },
     "metadata": {
      "needs_background": "light"
     },
     "output_type": "display_data"
    }
   ],
   "source": [
    "fig = plt.figure(figsize=(12,8))\n",
    "sns.scatterplot(data=X_test,x=y_test,y=residual_test)\n",
    "plt.axhline(y=0, color='r',linestyle='--')"
   ]
  },
  {
   "cell_type": "code",
   "execution_count": 29,
   "id": "dependent-limitation",
   "metadata": {},
   "outputs": [
    {
     "data": {
      "text/plain": [
       "<seaborn.axisgrid.FacetGrid at 0xb5fc4c8>"
      ]
     },
     "execution_count": 29,
     "metadata": {},
     "output_type": "execute_result"
    },
    {
     "data": {
      "image/png": "[encoded data removed]",
      "text/plain": [
       "<Figure size 360x360 with 1 Axes>"
      ]
     },
     "metadata": {
      "needs_background": "light"
     },
     "output_type": "display_data"
    }
   ],
   "source": [
    "sns.displot(data=X_test,x=y_test,bins=20,kde=True)"
   ]
  },
  {
   "cell_type": "code",
   "execution_count": 30,
   "id": "blond-bikini",
   "metadata": {},
   "outputs": [],
   "source": [
    "import scipy as sp"
   ]
  },
  {
   "cell_type": "code",
   "execution_count": 31,
   "id": "advised-underground",
   "metadata": {},
   "outputs": [
    {
     "data": {
      "image/png": "[encoded data removed]",
      "text/plain": [
       "<Figure size 600x800 with 1 Axes>"
      ]
     },
     "metadata": {
      "needs_background": "light"
     },
     "output_type": "display_data"
    }
   ],
   "source": [
    "fig, ax = plt.subplots(figsize=(6,8),dpi=100)\n",
    "_=sp.stats.probplot(residual_test,plot=ax)"
   ]
  },
  {
   "cell_type": "code",
   "execution_count": 32,
   "id": "desperate-thumbnail",
   "metadata": {},
   "outputs": [
    {
     "data": {
      "text/plain": [
       "<AxesSubplot:xlabel='SalePrice', ylabel='Density'>"
      ]
     },
     "execution_count": 32,
     "metadata": {},
     "output_type": "execute_result"
    },
    {
     "data": {
      "image/png": "[encoded data removed]",
      "text/plain": [
       "<Figure size 432x288 with 1 Axes>"
      ]
     },
     "metadata": {
      "needs_background": "light"
     },
     "output_type": "display_data"
    }
   ],
   "source": [
    "sns.kdeplot(residual_test)"
   ]
  },
  {
   "cell_type": "markdown",
   "id": "british-wednesday",
   "metadata": {},
   "source": [
    "**Retraining Full Data**"
   ]
  },
  {
   "cell_type": "code",
   "execution_count": 33,
   "id": "sought-burning",
   "metadata": {},
   "outputs": [],
   "source": [
    "final_model = LinearRegression()"
   ]
  },
  {
   "cell_type": "code",
   "execution_count": 34,
   "id": "circular-communist",
   "metadata": {},
   "outputs": [
    {
     "data": {
      "text/plain": [
       "LinearRegression()"
      ]
     },
     "execution_count": 34,
     "metadata": {},
     "output_type": "execute_result"
    }
   ],
   "source": [
    "final_model.fit(X,y)"
   ]
  },
  {
   "cell_type": "code",
   "execution_count": 35,
   "id": "religious-contrary",
   "metadata": {},
   "outputs": [],
   "source": [
    "y_hat = final_model.predict(X)"
   ]
  },
  {
   "cell_type": "code",
   "execution_count": 36,
   "id": "quarterly-irrigation",
   "metadata": {},
   "outputs": [
    {
     "data": {
      "text/plain": [
       "array([5.28776769, 5.0566296 , 5.18585071, ..., 5.1094533 , 5.22375061,\n",
       "       5.33947339])"
      ]
     },
     "execution_count": 36,
     "metadata": {},
     "output_type": "execute_result"
    }
   ],
   "source": [
    "y_hat"
   ]
  },
  {
   "cell_type": "code",
   "execution_count": 37,
   "id": "extensive-kenya",
   "metadata": {},
   "outputs": [],
   "source": [
    "residuals = y_hat - y"
   ]
  },
  {
   "cell_type": "code",
   "execution_count": 38,
   "id": "shared-taylor",
   "metadata": {},
   "outputs": [
    {
     "data": {
      "text/plain": [
       "<matplotlib.lines.Line2D at 0xb7c3648>"
      ]
     },
     "execution_count": 38,
     "metadata": {},
     "output_type": "execute_result"
    },
    {
     "data": {
      "image/png": "[encoded data removed]",
      "text/plain": [
       "<Figure size 432x288 with 1 Axes>"
      ]
     },
     "metadata": {
      "needs_background": "light"
     },
     "output_type": "display_data"
    }
   ],
   "source": [
    "sns.scatterplot(x=y,y=residuals)\n",
    "plt.axhline(y=0,color='r',linestyle='--')"
   ]
  },
  {
   "cell_type": "code",
   "execution_count": 39,
   "id": "cooperative-daniel",
   "metadata": {},
   "outputs": [
    {
     "data": {
      "text/plain": [
       "array([ 2.21031228e-02,  4.21477705e-04,  6.69233307e-04,  1.14151952e-05,\n",
       "        3.68032427e-03,  8.44416626e-03,  6.97518269e-03,  3.39822015e-05,\n",
       "        8.12552853e-03,  2.25655023e-05,  1.14600817e-04, -2.18024818e-04,\n",
       "        1.29152421e-02, -1.32850141e-03,  1.64357710e-02, -3.58900986e-04,\n",
       "       -6.58085806e-05,  2.12221303e-03,  8.43093357e-03,  4.86889722e-05,\n",
       "        6.55333345e-02,  3.61162160e-02,  5.97156297e-02,  6.73631856e-02,\n",
       "        4.73908715e-02,  3.05479355e-03,  1.57727915e-02,  2.81106079e-02,\n",
       "        4.45697334e-03, -3.02605047e-02, -7.40283018e-02,  8.24260096e-03,\n",
       "       -8.79856838e-03,  3.89117622e-03, -1.62712489e-03,  1.25065384e-02,\n",
       "        1.36039967e-03,  2.74742037e-02,  3.84473176e-02,  2.69686355e-03,\n",
       "        6.70966525e-02, -3.47780787e-03,  3.67248416e-03,  4.84684967e-02,\n",
       "        2.51169425e-01,  1.70515532e-02, -7.90811682e-03, -5.15121592e-02,\n",
       "        1.22229591e-02,  1.06784231e-02,  3.70156517e-02,  3.26683366e-03,\n",
       "        2.42291490e-02,  3.65303922e-02,  4.28661021e-03,  9.84336122e-03,\n",
       "        1.55184627e-02, -3.32464831e-03,  2.30054040e-02,  4.24898075e-02,\n",
       "        1.72979337e-02,  3.66756041e-02,  8.98142461e-03,  2.99273654e-02,\n",
       "        4.54636868e-02,  3.17903546e-02,  6.37229638e-03,  2.43476156e-02,\n",
       "        1.11719382e-02,  1.74417600e-02, -5.41003985e-03,  1.81186086e-02,\n",
       "        5.15734601e-02,  1.58714660e-02, -1.85899382e-02,  2.46917382e-02,\n",
       "        1.08521088e-02, -1.04439258e-02, -4.25130369e-02, -4.94060665e-02,\n",
       "       -3.14825068e-02, -9.27836848e-04, -2.71089010e-03, -6.87680141e-02,\n",
       "        5.35977702e-03,  9.88419582e-04,  1.66476721e-02,  6.30464786e-03,\n",
       "        3.09360558e-04, -3.16156119e-03,  2.72614148e-03, -7.00319550e-02,\n",
       "        1.09723017e-02,  8.90190106e-02, -5.63902568e-03,  3.41081488e-02,\n",
       "        4.56739790e-03,  1.24526666e-02,  2.43189992e-02, -5.70627945e-02,\n",
       "        4.20553537e-02,  4.35490748e-02, -1.59073562e-01,  9.30423673e-03,\n",
       "        2.49293151e-03, -5.41863641e-03,  2.21916267e-02,  8.91203323e-03,\n",
       "       -2.01358307e-03,  1.53539728e-02,  1.94178769e-03, -9.61946333e-04,\n",
       "        1.05594956e-02,  6.58082021e-02, -2.43772464e-02,  3.20789824e-04,\n",
       "        1.41940302e-01,  2.40629118e-02,  1.80046561e-02,  2.31874770e-02,\n",
       "        6.42254611e-03,  2.55541741e-02,  1.16550831e-02, -1.17055461e-02,\n",
       "       -1.31700970e-03,  2.02647645e-02,  2.36116605e-02,  8.75266888e-03,\n",
       "        8.34291616e-03, -2.22998217e-01,  1.22318009e-02,  1.57417529e-02,\n",
       "        1.34297578e-02,  1.18805937e-02,  2.84761324e-02,  6.19368522e-03,\n",
       "       -6.86066133e-03,  4.14730607e-02,  5.66562048e-02,  2.13216656e-03,\n",
       "       -3.51591154e-02,  6.95300686e-02, -1.19481601e-02, -1.87848962e-02,\n",
       "       -2.35061252e-02,  7.07102165e-03, -5.67900418e-02,  5.99056569e-02,\n",
       "        4.50886699e-02,  2.59215927e-02, -1.73858985e-01, -1.25723162e-01,\n",
       "        7.26798906e-02,  1.04310656e-02, -1.39806649e-02,  6.48432187e-03,\n",
       "       -1.17061694e-02,  3.96831875e-03,  1.38142625e-03,  1.35603923e-02,\n",
       "        1.53676429e-02,  1.98253654e-02,  6.14716185e-02,  1.24718846e-02,\n",
       "       -5.20053907e-03,  6.00656388e-03,  4.40274530e-02,  2.40654847e-02,\n",
       "        2.14425550e-03,  1.53183811e-02,  6.51739792e-02,  4.72522532e-02,\n",
       "        8.25548378e-03,  2.91607434e-02,  1.61593371e-02])"
      ]
     },
     "execution_count": 39,
     "metadata": {},
     "output_type": "execute_result"
    }
   ],
   "source": [
    "final_model.coef_"
   ]
  },
  {
   "cell_type": "code",
   "execution_count": 40,
   "id": "amber-elimination",
   "metadata": {},
   "outputs": [
    {
     "data": {
      "text/plain": [
       "<AxesSubplot:xlabel='SalePrice', ylabel='Density'>"
      ]
     },
     "execution_count": 40,
     "metadata": {},
     "output_type": "execute_result"
    },
    {
     "data": {
      "image/png": "[encoded data removed]",
      "text/plain": [
       "<Figure size 432x288 with 1 Axes>"
      ]
     },
     "metadata": {
      "needs_background": "light"
     },
     "output_type": "display_data"
    }
   ],
   "source": [
    "sns.kdeplot(residuals)"
   ]
  }
 ],
 "metadata": {
  "kernelspec": {
   "display_name": "Python 3",
   "language": "python",
   "name": "python3"
  },
  "language_info": {
   "codemirror_mode": {
    "name": "ipython",
    "version": 3
   },
   "file_extension": ".py",
   "mimetype": "text/x-python",
   "name": "python",
   "nbconvert_exporter": "python",
   "pygments_lexer": "ipython3",
   "version": "3.7.10"
  }
 },
 "nbformat": 4,
 "nbformat_minor": 5
}
