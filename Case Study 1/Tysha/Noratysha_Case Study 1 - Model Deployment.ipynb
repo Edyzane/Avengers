{
 "cells": [
  {
   "cell_type": "code",
   "execution_count": 1,
   "id": "opponent-wonder",
   "metadata": {},
   "outputs": [],
   "source": [
    "import numpy as np\n",
    "import pandas as pd\n",
    "import matplotlib.pyplot as plt\n",
    "import seaborn as sns\n",
    "import scipy as sp"
   ]
  },
  {
   "cell_type": "code",
   "execution_count": 2,
   "id": "waiting-affiliation",
   "metadata": {},
   "outputs": [],
   "source": [
    "df = pd.read_csv('Ames Housing Data Encoding.csv')"
   ]
  },
  {
   "cell_type": "code",
   "execution_count": 3,
   "id": "static-signal",
   "metadata": {},
   "outputs": [],
   "source": [
    "df = df[['SalePrice','Year Built', 'Year Remod/Add', 'Mas Vnr Area', 'Total Bsmt SF','1st Flr SF', 'Gr Liv Area', 'Garage Area']]"
   ]
  },
  {
   "cell_type": "code",
   "execution_count": 4,
   "id": "molecular-spine",
   "metadata": {},
   "outputs": [],
   "source": [
    "X = df.drop('SalePrice',axis=1)\n",
    "y = df['SalePrice']"
   ]
  },
  {
   "cell_type": "code",
   "execution_count": 5,
   "id": "natural-traffic",
   "metadata": {},
   "outputs": [
    {
     "data": {
      "text/html": [
       "<div>\n",
       "<style scoped>\n",
       "    .dataframe tbody tr th:only-of-type {\n",
       "        vertical-align: middle;\n",
       "    }\n",
       "\n",
       "    .dataframe tbody tr th {\n",
       "        vertical-align: top;\n",
       "    }\n",
       "\n",
       "    .dataframe thead th {\n",
       "        text-align: right;\n",
       "    }\n",
       "</style>\n",
       "<table border=\"1\" class=\"dataframe\">\n",
       "  <thead>\n",
       "    <tr style=\"text-align: right;\">\n",
       "      <th></th>\n",
       "      <th>Year Built</th>\n",
       "      <th>Year Remod/Add</th>\n",
       "      <th>Mas Vnr Area</th>\n",
       "      <th>Total Bsmt SF</th>\n",
       "      <th>1st Flr SF</th>\n",
       "      <th>Gr Liv Area</th>\n",
       "      <th>Garage Area</th>\n",
       "    </tr>\n",
       "  </thead>\n",
       "  <tbody>\n",
       "    <tr>\n",
       "      <th>0</th>\n",
       "      <td>1960</td>\n",
       "      <td>1960</td>\n",
       "      <td>112.0</td>\n",
       "      <td>1080.0</td>\n",
       "      <td>1656</td>\n",
       "      <td>1656</td>\n",
       "      <td>528.0</td>\n",
       "    </tr>\n",
       "    <tr>\n",
       "      <th>1</th>\n",
       "      <td>1961</td>\n",
       "      <td>1961</td>\n",
       "      <td>0.0</td>\n",
       "      <td>882.0</td>\n",
       "      <td>896</td>\n",
       "      <td>896</td>\n",
       "      <td>730.0</td>\n",
       "    </tr>\n",
       "    <tr>\n",
       "      <th>2</th>\n",
       "      <td>1958</td>\n",
       "      <td>1958</td>\n",
       "      <td>108.0</td>\n",
       "      <td>1329.0</td>\n",
       "      <td>1329</td>\n",
       "      <td>1329</td>\n",
       "      <td>312.0</td>\n",
       "    </tr>\n",
       "    <tr>\n",
       "      <th>3</th>\n",
       "      <td>1968</td>\n",
       "      <td>1968</td>\n",
       "      <td>0.0</td>\n",
       "      <td>2110.0</td>\n",
       "      <td>2110</td>\n",
       "      <td>2110</td>\n",
       "      <td>522.0</td>\n",
       "    </tr>\n",
       "    <tr>\n",
       "      <th>4</th>\n",
       "      <td>1997</td>\n",
       "      <td>1998</td>\n",
       "      <td>0.0</td>\n",
       "      <td>928.0</td>\n",
       "      <td>928</td>\n",
       "      <td>1629</td>\n",
       "      <td>482.0</td>\n",
       "    </tr>\n",
       "    <tr>\n",
       "      <th>...</th>\n",
       "      <td>...</td>\n",
       "      <td>...</td>\n",
       "      <td>...</td>\n",
       "      <td>...</td>\n",
       "      <td>...</td>\n",
       "      <td>...</td>\n",
       "      <td>...</td>\n",
       "    </tr>\n",
       "    <tr>\n",
       "      <th>2846</th>\n",
       "      <td>1984</td>\n",
       "      <td>1984</td>\n",
       "      <td>0.0</td>\n",
       "      <td>1003.0</td>\n",
       "      <td>1003</td>\n",
       "      <td>1003</td>\n",
       "      <td>588.0</td>\n",
       "    </tr>\n",
       "    <tr>\n",
       "      <th>2847</th>\n",
       "      <td>1983</td>\n",
       "      <td>1983</td>\n",
       "      <td>0.0</td>\n",
       "      <td>864.0</td>\n",
       "      <td>902</td>\n",
       "      <td>902</td>\n",
       "      <td>484.0</td>\n",
       "    </tr>\n",
       "    <tr>\n",
       "      <th>2848</th>\n",
       "      <td>1992</td>\n",
       "      <td>1992</td>\n",
       "      <td>0.0</td>\n",
       "      <td>912.0</td>\n",
       "      <td>970</td>\n",
       "      <td>970</td>\n",
       "      <td>0.0</td>\n",
       "    </tr>\n",
       "    <tr>\n",
       "      <th>2849</th>\n",
       "      <td>1974</td>\n",
       "      <td>1975</td>\n",
       "      <td>0.0</td>\n",
       "      <td>1389.0</td>\n",
       "      <td>1389</td>\n",
       "      <td>1389</td>\n",
       "      <td>418.0</td>\n",
       "    </tr>\n",
       "    <tr>\n",
       "      <th>2850</th>\n",
       "      <td>1993</td>\n",
       "      <td>1994</td>\n",
       "      <td>94.0</td>\n",
       "      <td>996.0</td>\n",
       "      <td>996</td>\n",
       "      <td>2000</td>\n",
       "      <td>650.0</td>\n",
       "    </tr>\n",
       "  </tbody>\n",
       "</table>\n",
       "<p>2851 rows × 7 columns</p>\n",
       "</div>"
      ],
      "text/plain": [
       "      Year Built  Year Remod/Add  Mas Vnr Area  Total Bsmt SF  1st Flr SF  \\\n",
       "0           1960            1960         112.0         1080.0        1656   \n",
       "1           1961            1961           0.0          882.0         896   \n",
       "2           1958            1958         108.0         1329.0        1329   \n",
       "3           1968            1968           0.0         2110.0        2110   \n",
       "4           1997            1998           0.0          928.0         928   \n",
       "...          ...             ...           ...            ...         ...   \n",
       "2846        1984            1984           0.0         1003.0        1003   \n",
       "2847        1983            1983           0.0          864.0         902   \n",
       "2848        1992            1992           0.0          912.0         970   \n",
       "2849        1974            1975           0.0         1389.0        1389   \n",
       "2850        1993            1994          94.0          996.0         996   \n",
       "\n",
       "      Gr Liv Area  Garage Area  \n",
       "0            1656        528.0  \n",
       "1             896        730.0  \n",
       "2            1329        312.0  \n",
       "3            2110        522.0  \n",
       "4            1629        482.0  \n",
       "...           ...          ...  \n",
       "2846         1003        588.0  \n",
       "2847          902        484.0  \n",
       "2848          970          0.0  \n",
       "2849         1389        418.0  \n",
       "2850         2000        650.0  \n",
       "\n",
       "[2851 rows x 7 columns]"
      ]
     },
     "execution_count": 5,
     "metadata": {},
     "output_type": "execute_result"
    }
   ],
   "source": [
    "X"
   ]
  },
  {
   "cell_type": "code",
   "execution_count": 27,
   "id": "devoted-instrumentation",
   "metadata": {},
   "outputs": [],
   "source": [
    "# TRAIN TEST SPLIT\n",
    "\n",
    "from sklearn.model_selection import train_test_split\n",
    "X_train, X_test, y_train, y_test = train_test_split(X, y, test_size=0.3, random_state=101)\n",
    "\n",
    "# SCALE DATA\n",
    "\n",
    "from sklearn.preprocessing import StandardScaler\n",
    "scaler = StandardScaler()\n",
    "scaler.fit(X_train)\n",
    "X_train = scaler.transform(X_train)\n",
    "X_test = scaler.transform(X_test)"
   ]
  },
  {
   "cell_type": "code",
   "execution_count": 28,
   "id": "superior-butter",
   "metadata": {},
   "outputs": [],
   "source": [
    "from sklearn.linear_model import LassoCV"
   ]
  },
  {
   "cell_type": "code",
   "execution_count": 29,
   "id": "intermediate-square",
   "metadata": {},
   "outputs": [],
   "source": [
    "model = LassoCV()"
   ]
  },
  {
   "cell_type": "code",
   "execution_count": 30,
   "id": "dedicated-attention",
   "metadata": {},
   "outputs": [
    {
     "data": {
      "text/plain": [
       "LassoCV()"
      ]
     },
     "execution_count": 30,
     "metadata": {},
     "output_type": "execute_result"
    }
   ],
   "source": [
    "model.fit(X_train, y_train)"
   ]
  },
  {
   "cell_type": "code",
   "execution_count": 31,
   "id": "arbitrary-wedding",
   "metadata": {},
   "outputs": [
    {
     "data": {
      "text/plain": [
       "49.74160633124341"
      ]
     },
     "execution_count": 31,
     "metadata": {},
     "output_type": "execute_result"
    }
   ],
   "source": [
    "model.alpha_"
   ]
  },
  {
   "cell_type": "code",
   "execution_count": 32,
   "id": "structural-combination",
   "metadata": {},
   "outputs": [],
   "source": [
    "y_pred = model.predict(X_test)"
   ]
  },
  {
   "cell_type": "code",
   "execution_count": 47,
   "id": "certain-evans",
   "metadata": {},
   "outputs": [
    {
     "data": {
      "text/plain": [
       "array([184914.74230959, 158015.71513546, 109639.560176  , 204352.34523564,\n",
       "       294836.16260241, 283071.63384276, 202932.33520897, 220691.42589468,\n",
       "       148973.10641789, 119490.18367013, 312469.14818499, 118729.22814596,\n",
       "       160414.16243164,  91037.08154932, 155614.55731298, 266257.35545248,\n",
       "       208472.53095301, 198874.95998064,  87962.3151829 , 158817.07134092,\n",
       "       306989.12648137, 122279.65673188, 268328.03816474, 179244.71778545,\n",
       "       208297.73049195, 100350.44082915, 290021.79947833, 194653.0056612 ,\n",
       "       106506.12231253, 257436.69601959, 104735.4823708 , 138678.81235926,\n",
       "       260425.92318128, 308150.38665327,  68582.97179081, 191079.01702247,\n",
       "       182548.83936427, 176197.50224057, 188386.06101559, 235076.01981011,\n",
       "       149251.10299985, 271337.97299136, 218972.27388459, 186656.88629877,\n",
       "       265744.4804059 , 101220.14922448, 220494.92786497, 182095.99783288,\n",
       "        54759.33287178, 106626.12853853, 122964.11209159, 207869.10797093,\n",
       "       196486.38579794, 215099.70742062, 144200.59145355, 364432.77039576,\n",
       "       271279.34702347, 145322.09350436,  46319.688367  , 102407.38221864,\n",
       "       100191.96604519, 132926.87392405, 269947.6634841 , 123504.44169559,\n",
       "       261832.84538337,  81738.40733668, 263168.21227662, 190319.80346781,\n",
       "       126094.63394615, 129384.26464122, 239370.11633984, 131385.75302112,\n",
       "       160272.49346825, 219250.22982757, 230964.44103921, 188455.70714876,\n",
       "        97899.78520572, 183796.08749038, 171144.86015604, 123717.11825308,\n",
       "       243989.20792564, 197015.57684404, 275672.00345726, 130110.76106878,\n",
       "       194819.80628162,  87307.5005267 , 139847.17824789, 228990.26562799,\n",
       "       212418.15271184, 302220.91762817, 225610.4987421 , 227304.53522257,\n",
       "       159889.63154784, 126205.7764686 , 160506.34164139, 145024.80377292,\n",
       "        68178.44321348, 174191.90235775, 124289.67813928, 122697.42600549,\n",
       "       256251.02736754, 209865.82395935, 180066.80933783, 166733.82593041,\n",
       "       168582.67728433, 163793.46112502, 252800.49259301, 132278.02484427,\n",
       "       101191.45313386,  50710.13098503, 124472.86259522, 250528.40657754,\n",
       "       147666.85264077, 326675.3910268 , 182201.78215117, 278761.38167633,\n",
       "       130462.52764427, 263136.3927719 , 215751.89499612, 133227.52468877,\n",
       "       275716.95836783, 188511.73274603, 108487.25051217, 223831.7380332 ,\n",
       "       196725.13164797, 348781.1400203 , 202343.49388839, 283751.95986735,\n",
       "       248254.63073085, 156603.6442339 , 126748.28206516, 113024.72050413,\n",
       "       136251.46208281, 156205.6922924 ,  91649.01346184, 222485.99633798,\n",
       "       288516.88184247,  36954.78614343, 107785.79427141, 202822.0652991 ,\n",
       "       167144.44415456, 250971.15264456, 150684.25454336, 266575.85171099,\n",
       "       143877.27770563, 119693.67323184, 131519.66375764, 174099.08607813,\n",
       "       111002.99663064, 208802.81638338, 199694.61190422, 164623.45579315,\n",
       "       134322.62798373, 163809.37968207, 224703.65918031, 226711.69501317,\n",
       "       140349.40321672, 140947.12593917, 263550.99474215, 198967.64302646,\n",
       "       116974.9332737 , 141840.40791526, 274487.3822415 , 301727.7724535 ,\n",
       "        80938.26450905, 133790.39695035,  95633.53311509, 127412.67184682,\n",
       "       138153.84523428, 369169.09018075, 119056.20168031,  95413.24452686,\n",
       "       104327.16485538, 147615.87282484, 204164.44374754, 190267.8928208 ,\n",
       "       160288.50138988, 203092.79536137, 134340.30684022, 137032.79041408,\n",
       "       232124.77732099, 100251.81659689, 148392.49513738, 293448.13065252,\n",
       "       179309.23308968, 167054.28779562, 204189.35929876, 167637.5886287 ,\n",
       "       181101.19832435, 247153.65828795, 180448.9911928 , 208851.66866412,\n",
       "        76692.25080857,  90742.73060198, 137774.85024952,  91538.81171532,\n",
       "       290705.64256708, 133254.1931935 , 210644.97172671, 190270.64149425,\n",
       "       187928.9473501 , 176482.20928484, 190976.31340887, 239172.70124307,\n",
       "       141770.41504076, 225276.49552499, 129160.52852952, 144087.89624278,\n",
       "       259770.03009853, 134515.27753582, 127663.29343144, 277332.19778327,\n",
       "       147013.01928751, 184626.9798541 , 138537.70524456, 240286.10353381,\n",
       "       199964.73202088, 153053.89570599, 185225.01586585, 124824.34153711,\n",
       "       206624.28267272, 168344.49797444, 157152.97622392,  60212.83884574,\n",
       "       175474.72092507, 145280.11254281, 122645.13697977, 263199.03707161,\n",
       "       216750.74317123, 109516.85565414, 207293.03068195, 262574.72380024,\n",
       "       216175.5759946 , 308088.56208537, 138868.65201167,  75212.63620298,\n",
       "       326056.62890999, 131707.31980981, 155309.20911133, 197349.3144716 ,\n",
       "       186656.88629877,  91631.41530616, 182647.97301036, 284140.12418122,\n",
       "       236934.35962252,  58060.10898633, 138883.27818891, 287342.94790387,\n",
       "       100135.36212002, 196801.68908188, 155838.00245751, 160545.76749016,\n",
       "       239380.95163334, 141521.97629515, 186114.02857754,  68123.87273286,\n",
       "        34009.10325702, 384919.06238194, 168730.09998886, 125653.15648954,\n",
       "       289000.29484397, 196782.28648816, 196447.40149752, 123393.78375417,\n",
       "        97218.94397892, 117039.92871236, 316282.91741442, 213231.59901157,\n",
       "       144961.52460983, 133066.54988409, 208171.75806656, 242163.86581941,\n",
       "       224492.39377549, 227446.94439638, 203022.28347513,  94955.68821861,\n",
       "       180819.50498682, 109064.48136405, 147282.26993489, 160865.14206965,\n",
       "       219600.02338043, 179755.77527014, 220362.1566802 , 156827.01248017,\n",
       "       172351.26301612, 256501.01043751, 218512.6457159 , 326013.53431572,\n",
       "        92193.37627265, 116785.54840958, 165302.61265171, 234036.80714595,\n",
       "       104536.25742456, 141094.94184815, 226748.80689957, 163793.46112502,\n",
       "       153766.68889165, 219011.52339431, 309819.477369  , 184305.91643015,\n",
       "       215842.32235947, 181229.70200454, 160663.67578126, 213128.35849432,\n",
       "       124738.36021001, 162480.95734169, 158638.69167492, 135518.38604675,\n",
       "       201843.36998122, 202700.79456567, 177391.3170505 , 128353.25451919,\n",
       "       108393.92465834, 130656.38604887,  86890.1644552 , 119612.3565261 ,\n",
       "       208493.42610861, 192632.46838497, 206383.54412674, 139402.49132703,\n",
       "       176579.40817575, 182660.5022754 , 109946.19826938, 160669.92314455,\n",
       "       238182.73313149, 229307.6743739 , 285568.10413753, 129100.33279727,\n",
       "       145703.52827373, 187093.2029305 , 129659.44214054,  50870.25216232,\n",
       "       241594.19127039, 289829.48338081, 228185.08965368, 110705.18340115,\n",
       "       206072.73984579, 125153.94200677, 136792.75609886, 208887.10768255,\n",
       "       216432.93762868, 162542.29278614, 201511.01270423, 318948.1950397 ,\n",
       "       170314.40407594,  79493.23909554, 146636.45178826, 159423.78588984,\n",
       "       267493.61938648,  83773.65322792, 169738.42580236, 219406.41787937,\n",
       "       220333.39030978, 357821.93674687, 225378.25035109, 198855.84896675,\n",
       "       206485.46788218, 317749.75266152, 282236.18821388, 179630.40360001,\n",
       "       199935.72429802, 133662.86490612, 262626.84252131, 230178.29463724,\n",
       "       103226.49045992,  69674.01347066, 111229.59448738, 200310.43362468,\n",
       "       144385.22316539, 156396.97682331, 202477.61921324, 146100.60308519,\n",
       "       207908.1251789 , 138054.23514963, 105028.43452269, 304413.32371074,\n",
       "       169708.92917526, 131131.07910582, 172683.36090598, 263566.98940374,\n",
       "       323136.77859083, 183468.98220455, 157790.00718001, 201278.39497656,\n",
       "       273956.56149183, 326141.57906391, 220154.94980551, 158930.31698823,\n",
       "       232463.45400777, 162306.44461897, 210267.81454367, 105137.11315527,\n",
       "       153925.77994408, 208598.74230979, 135565.84348044, 122506.34139528,\n",
       "        60255.13149994,  54675.51818706, 116163.20929393,  96376.74282699,\n",
       "       156785.17377599, 189600.09065903, 161948.60690823, 207359.98942004,\n",
       "       218917.92736664, 123871.00577771, 154083.58431938, 168556.30762746,\n",
       "       160624.39039843, 163043.45678067, 101243.90762   , 186959.35311403,\n",
       "       159206.33884056, 134777.32305498, 263948.82568054, 162114.05007728,\n",
       "       230860.31250509, 195158.11658846, 290644.77990389, 187747.33765206,\n",
       "       177143.41162129, 152896.31361594, 214204.0340875 , 254936.54782363,\n",
       "       112534.84521668, 219015.72809979, 150331.38442141, 148302.65359302,\n",
       "       265339.309553  , 197377.14268968, 280229.25859743, 169112.66458753,\n",
       "       253022.35512897, 164108.05744854, 219828.93916851, 365780.94777883,\n",
       "       209196.86489596, 105687.55744115, 178329.68240773, 158009.09215082,\n",
       "        96747.13816883, 100202.71646596, 151916.6054633 , 239065.77293934,\n",
       "       160248.0243292 , 215307.28936748, 203533.27858499,  85973.51561134,\n",
       "       142245.59345562, 156869.25320996, 178511.26655754, 218294.10775855,\n",
       "       101560.20971715, 261540.87750287, 299207.90992778, 112671.81241622,\n",
       "       300258.13946379,  85033.05735748, 141004.73254052,  58985.12654538,\n",
       "       163329.0112896 , 193371.94208292, 143482.91868094, 124492.6617506 ,\n",
       "       247977.49097418, 131243.91687875, 134180.73986473, 105923.87617643,\n",
       "       171527.67463965, 121567.46304572, 199068.1338548 , 201353.44923591,\n",
       "       159213.05292508, 303950.98613955, 219202.32370281, 234777.31113278,\n",
       "       201840.51591833, 133025.17225233, 157941.60330538, 253219.22099947,\n",
       "       240076.84789458, 245585.73264549, 211329.65394866, 159299.58677791,\n",
       "       142637.07850567, 227536.3227561 , 190904.0671467 , 179975.80398603,\n",
       "       121940.22990695, 302452.22543477, 211381.45833931, 214450.33756271,\n",
       "       207851.1475915 , 113777.22616588,  69118.9568529 , 204842.47135196,\n",
       "        42239.93381464, 201966.78553201, 272929.49670538, 101551.20007246,\n",
       "       273944.35982459, 116167.8226585 , 198954.00539277, 202760.11455216,\n",
       "       118076.23980491,  93075.49558745, 241652.13907358, 160076.07878633,\n",
       "       106865.59793826, 200572.33666429, 206478.1705516 , 166068.68849663,\n",
       "       245133.31115763, 166341.31499169,  76032.25679175, 145970.11189367,\n",
       "       218917.92736664, 183867.4839581 , 132702.37081564, 194729.57310808,\n",
       "       147639.80569605, 194235.16276961, 169739.946577  , 141885.3140524 ,\n",
       "       234038.27202684, 225960.42296336, 197442.47514243, 162650.43040148,\n",
       "       318115.06568328, 203144.29380022, 102382.47346909, 177573.38366016,\n",
       "       100858.5959482 , 129985.84957061,  83113.15178598, 228014.00826701,\n",
       "       120607.17780069, 217874.39745904, 184962.29453109, 222063.63938735,\n",
       "       193415.57647322, 134824.59336177, 115710.92761213, 106315.9175876 ,\n",
       "       208425.66689428,  82386.71313551, 124618.24510763, 244437.02103704,\n",
       "        99757.70194814, 198328.49356056, 187708.5385528 ,  89064.15730037,\n",
       "       114920.23442293, 139012.37956302,  69118.9568529 , 121927.7612183 ,\n",
       "       355294.07332784, 159423.78588984, 159599.12717818, 170079.60423102,\n",
       "       100482.71463095, 169715.19345885, 277122.56708789, 117771.10457002,\n",
       "       276717.2362527 , 186077.7570979 , 156383.4178326 , 204633.35651975,\n",
       "       202398.88708069, 116686.51754512,  57417.15918084, 180029.24227044,\n",
       "       143125.8584592 , 117131.47640485,  90222.81551537, 256685.97406138,\n",
       "        81366.49591853, 114076.96770969,  88116.51413393,  64013.6305949 ,\n",
       "       183273.52722926, 123735.26274823, 320546.5888258 , 134387.0220874 ,\n",
       "        99834.01291074, 104163.37583709, 299229.88716447, 117024.63161977,\n",
       "        92152.02899699, 292826.53860963, 124869.5427937 , 267551.17913125,\n",
       "       118509.30212944, 291364.6219188 , 214474.99152713, 274951.2164462 ,\n",
       "       153001.43300613, 109342.34224623, 327144.43592978, 276739.22501131,\n",
       "       146803.51248254, 217549.99622784, 259731.70105551, 108698.21691384,\n",
       "       131904.64281706, 139858.14479755, 154730.52293537, 117596.48903661,\n",
       "       166430.98177137, 195805.37956034, 137376.47559452, 237432.71899829,\n",
       "       129326.27098323, 121945.6872704 , 236024.91728712,  72109.49148906,\n",
       "       224368.01778213, 305489.00591346, 230164.61428706, 278331.6677529 ,\n",
       "       151363.36069407, 114267.22345089, 257145.46026998, 221041.16546708,\n",
       "       166733.82593041,  84221.41404646, 200756.26183652, 216571.57276162,\n",
       "       181166.14444097, 239390.78946814, 117740.90000545, 160988.05721014,\n",
       "       209371.16081223, 134753.64072725, 230896.39595665, 152923.45491627,\n",
       "       122667.71287874, 152786.36024634, 236484.77101458, 111388.71248314,\n",
       "        69429.26649737, 102683.59162144, 190913.69008218, 248504.14663644,\n",
       "       331851.04147977, 229046.69087971, 160878.98465635, 214218.24220956,\n",
       "       100977.02339193, 240880.3346537 , 154600.2970112 , 248243.10809507,\n",
       "       188291.94846025,  60488.01225677, 114668.49943836, 234095.63437344,\n",
       "       184219.74471391, 265898.21568491, 106889.56930112, 229924.25771512,\n",
       "       175592.48379017, 216395.91761389, 117310.83964674, 135642.95103976,\n",
       "       199881.0389381 , 111275.35523277, 269894.03795199, 269257.44210041,\n",
       "        62862.7554412 , 111357.10584013, 123950.50810211, 102035.58937094,\n",
       "       159733.49436038, 196388.6470695 , 115476.45119512,  80221.21870338,\n",
       "       179697.73637245, 180707.08288137, 155140.91631723, 150421.02526235,\n",
       "       279689.25961723, 235621.98949602, 190647.87617246, 153731.4995291 ,\n",
       "        72596.12959787, 206380.80991638, 125446.09133808, 167241.98566369,\n",
       "       221277.22862417, 169226.58973117,  92677.47830527, 264188.36874819,\n",
       "       107877.73375428, 145939.54895714, 105720.31873659, 204494.18373426,\n",
       "       196995.73089044,  65634.15386835, 283693.8732861 , 289913.63136768,\n",
       "        60342.86186432, 299550.867923  , 126217.37163142, 213099.83191828,\n",
       "       256180.69587662, 313226.38323867, 135746.71153273,  65277.81404865,\n",
       "       242066.57050391, 185360.47433078, 189468.99381764, 106729.56247092,\n",
       "        97431.60473239, 147458.09317196, 184362.99538081,  48037.19258209,\n",
       "       133972.22248666, 162342.34348796, 208393.35643021, 201433.50044515,\n",
       "       109368.51587816, 162563.94036014, 189539.43961389, 207510.35002697,\n",
       "        77194.73422414, 160076.07878633,  97211.93632939, 150767.35737735,\n",
       "       114280.1118138 ,  91393.72846697, 196107.87013031, 303433.0431907 ,\n",
       "       198954.00539277, 196877.17190982, 275121.87742708, 260050.3048468 ,\n",
       "       185899.32575807, 166166.15590756, 264726.00721169, 133966.12040997,\n",
       "       256348.2669878 , 155013.63050783, 194621.38271636, 180434.27577158,\n",
       "       179147.72400736, 233358.87805728,  60342.86186432, 266390.09039918,\n",
       "       183379.30473147, 258797.44517454,  83896.9077064 , 215980.39996658,\n",
       "       210972.15531785, 231377.24710594, 105232.54003071, 195203.14629193,\n",
       "        35942.17121228, 214660.50707556,  70013.07072181, 154469.57490101,\n",
       "       201894.16781784, 292930.27189092, 201525.53808253, 222346.54513789,\n",
       "       143013.10639785, 185195.15913635, 100096.3598267 , 164860.12808773,\n",
       "       134866.01231586, 143104.62450549, 211078.22039674, 170713.96364362,\n",
       "        97922.79551953, 218131.13813899, 243113.5889962 , 114117.81517662,\n",
       "       100267.09333775, 195635.17978606, 166936.62558198, 314987.01560918,\n",
       "       132884.99998733, 135131.96256621, 149677.16006515, 210197.26713922,\n",
       "       101390.51794283, 134901.49483897, 176041.87730364, 106367.5314498 ,\n",
       "       192577.54003126, 171421.1636462 , 182286.94741034, 141126.18797197,\n",
       "       124021.35009319,  69637.5203242 , 129211.41425946, 289735.39368434,\n",
       "       177037.60268683, 145817.05983929, 205069.35036623, 204355.78309139,\n",
       "       213418.49572648, 261356.8227052 , 111861.81883762, 176041.62291979,\n",
       "       131295.90482482, 118469.29525323, 251015.27418316, 144206.36710389,\n",
       "       168455.89971909, 104287.76777056, 204604.79603813, 160318.05191388,\n",
       "       250796.49731315, 336699.84444324, 121283.98002477, 100293.24981106,\n",
       "       150231.99300782, 182022.82530595, 229970.46758158, 167248.64586362,\n",
       "       123226.37417684,  87223.75609613, 170909.73575668, 213373.36900837,\n",
       "       159709.8791915 , 227870.1718399 , 391089.42933693, 155859.96922088,\n",
       "       106476.64853836, 169757.37841995, 182616.61992827,  97869.98611528,\n",
       "       179161.40669548, 144173.18297754, 314045.38908889, 306378.49742577,\n",
       "       289386.08962214, 146636.71838752, 107077.83578497, 330054.75004108,\n",
       "       192460.84290174, 153458.69004031, 217880.61604318, 163920.8626524 ,\n",
       "       248403.14861876, 182408.27400766,  29486.36892639, 108306.0026976 ,\n",
       "       236582.08221381, 298523.4374211 , 138592.88484234, 111681.47139349,\n",
       "       115287.05033488, 108465.20340012, 233015.56760537, 197527.53080155])"
      ]
     },
     "execution_count": 47,
     "metadata": {},
     "output_type": "execute_result"
    }
   ],
   "source": [
    "y_pred"
   ]
  },
  {
   "cell_type": "code",
   "execution_count": 33,
   "id": "psychological-august",
   "metadata": {},
   "outputs": [],
   "source": [
    "from sklearn.metrics import mean_absolute_error, mean_squared_error"
   ]
  },
  {
   "cell_type": "code",
   "execution_count": 34,
   "id": "united-elizabeth",
   "metadata": {},
   "outputs": [
    {
     "data": {
      "text/plain": [
       "972462548.1303244"
      ]
     },
     "execution_count": 34,
     "metadata": {},
     "output_type": "execute_result"
    }
   ],
   "source": [
    "mean_squared_error(y_test,y_pred)"
   ]
  },
  {
   "cell_type": "code",
   "execution_count": 35,
   "id": "satisfactory-pharmacology",
   "metadata": {},
   "outputs": [],
   "source": [
    "MAE = mean_absolute_error(y_test,y_pred)\n",
    "MSE = mean_squared_error(y_test,y_pred)\n",
    "RMSE = np.sqrt(MSE)"
   ]
  },
  {
   "cell_type": "code",
   "execution_count": 36,
   "id": "pretty-lecture",
   "metadata": {},
   "outputs": [
    {
     "data": {
      "text/plain": [
       "17.589774267044206"
      ]
     },
     "execution_count": 36,
     "metadata": {},
     "output_type": "execute_result"
    }
   ],
   "source": [
    "100*RMSE/df['SalePrice'].mean()"
   ]
  },
  {
   "cell_type": "code",
   "execution_count": 37,
   "id": "responsible-horizon",
   "metadata": {},
   "outputs": [],
   "source": [
    "test_pred = y_test - y_pred"
   ]
  },
  {
   "cell_type": "code",
   "execution_count": 38,
   "id": "distinguished-opposition",
   "metadata": {},
   "outputs": [
    {
     "data": {
      "text/plain": [
       "<seaborn.axisgrid.FacetGrid at 0xa980f08>"
      ]
     },
     "execution_count": 38,
     "metadata": {},
     "output_type": "execute_result"
    },
    {
     "data": {
      "image/png": "[encoded data removed]",
      "text/plain": [
       "<Figure size 360x360 with 1 Axes>"
      ]
     },
     "metadata": {
      "needs_background": "light"
     },
     "output_type": "display_data"
    }
   ],
   "source": [
    "sns.displot(y_pred,bins=15,kde=True)"
   ]
  },
  {
   "cell_type": "code",
   "execution_count": 39,
   "id": "proved-longitude",
   "metadata": {},
   "outputs": [
    {
     "data": {
      "text/plain": [
       "<matplotlib.lines.Line2D at 0xb272cc8>"
      ]
     },
     "execution_count": 39,
     "metadata": {},
     "output_type": "execute_result"
    },
    {
     "data": {
      "image/png": "[encoded data removed]",
      "text/plain": [
       "<Figure size 432x288 with 1 Axes>"
      ]
     },
     "metadata": {
      "needs_background": "light"
     },
     "output_type": "display_data"
    }
   ],
   "source": [
    "sns.scatterplot(x=y,y=test_pred)\n",
    "plt.axhline(y=0,color='magenta',linestyle='--')"
   ]
  },
  {
   "cell_type": "code",
   "execution_count": 40,
   "id": "sweet-tuition",
   "metadata": {},
   "outputs": [
    {
     "data": {
      "image/png": "[encoded data removed]",
      "text/plain": [
       "<Figure size 500x600 with 1 Axes>"
      ]
     },
     "metadata": {
      "needs_background": "light"
     },
     "output_type": "display_data"
    }
   ],
   "source": [
    "fig,ax = plt.subplots(figsize=(5,6),dpi=100)\n",
    "\n",
    "_=sp.stats.probplot(y_pred,plot=ax)"
   ]
  },
  {
   "cell_type": "code",
   "execution_count": 41,
   "id": "binding-broadway",
   "metadata": {},
   "outputs": [
    {
     "data": {
      "text/plain": [
       "array([13763.75240123, 12399.52159502,  6855.36873384, 16520.15679669,\n",
       "        2679.0437087 , 27400.37324442, 11670.55766998])"
      ]
     },
     "execution_count": 41,
     "metadata": {},
     "output_type": "execute_result"
    }
   ],
   "source": [
    "model.coef_"
   ]
  },
  {
   "cell_type": "markdown",
   "id": "coupled-pencil",
   "metadata": {},
   "source": [
    "**Save Model**"
   ]
  },
  {
   "cell_type": "code",
   "execution_count": 43,
   "id": "synthetic-uniform",
   "metadata": {},
   "outputs": [],
   "source": [
    "from joblib import dump, load"
   ]
  },
  {
   "cell_type": "code",
   "execution_count": 44,
   "id": "senior-inspiration",
   "metadata": {},
   "outputs": [
    {
     "data": {
      "text/plain": [
       "['Ames_Housing_scaler.pkl']"
      ]
     },
     "execution_count": 44,
     "metadata": {},
     "output_type": "execute_result"
    }
   ],
   "source": [
    "dump(scaler,\"Ames_Housing_scaler.pkl\")"
   ]
  },
  {
   "cell_type": "code",
   "execution_count": 46,
   "id": "burning-airplane",
   "metadata": {},
   "outputs": [
    {
     "data": {
      "text/plain": [
       "['Ames_Housing_model.h5']"
      ]
     },
     "execution_count": 46,
     "metadata": {},
     "output_type": "execute_result"
    }
   ],
   "source": [
    "dump(model,\"Ames_Housing_model.h5\")"
   ]
  },
  {
   "cell_type": "code",
   "execution_count": null,
   "id": "regional-charm",
   "metadata": {},
   "outputs": [],
   "source": []
  }
 ],
 "metadata": {
  "kernelspec": {
   "display_name": "Python 3",
   "language": "python",
   "name": "python3"
  },
  "language_info": {
   "codemirror_mode": {
    "name": "ipython",
    "version": 3
   },
   "file_extension": ".py",
   "mimetype": "text/x-python",
   "name": "python",
   "nbconvert_exporter": "python",
   "pygments_lexer": "ipython3",
   "version": "3.7.10"
  }
 },
 "nbformat": 4,
 "nbformat_minor": 5
}
