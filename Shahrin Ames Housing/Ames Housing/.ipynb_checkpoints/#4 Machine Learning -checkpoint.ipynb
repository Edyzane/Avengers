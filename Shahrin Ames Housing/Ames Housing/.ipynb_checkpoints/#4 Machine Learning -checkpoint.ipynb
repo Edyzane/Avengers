{
 "cells": [
  {
   "cell_type": "code",
   "execution_count": 1,
   "metadata": {},
   "outputs": [],
   "source": [
    "import pandas as pd\n",
    "import numpy as np\n",
    "import matplotlib.pyplot as plt\n",
    "import seaborn as sns"
   ]
  },
  {
   "cell_type": "code",
   "execution_count": 2,
   "metadata": {},
   "outputs": [],
   "source": [
    "df=pd.read_csv('Ames_Housing_Clean_Data(remove skew).csv')"
   ]
  },
  {
   "cell_type": "markdown",
   "metadata": {},
   "source": [
    "## Import Data"
   ]
  },
  {
   "cell_type": "code",
   "execution_count": 3,
   "metadata": {},
   "outputs": [
    {
     "data": {
      "text/html": [
       "<div>\n",
       "<style scoped>\n",
       "    .dataframe tbody tr th:only-of-type {\n",
       "        vertical-align: middle;\n",
       "    }\n",
       "\n",
       "    .dataframe tbody tr th {\n",
       "        vertical-align: top;\n",
       "    }\n",
       "\n",
       "    .dataframe thead th {\n",
       "        text-align: right;\n",
       "    }\n",
       "</style>\n",
       "<table border=\"1\" class=\"dataframe\">\n",
       "  <thead>\n",
       "    <tr style=\"text-align: right;\">\n",
       "      <th></th>\n",
       "      <th>Lot Frontage</th>\n",
       "      <th>Lot Area</th>\n",
       "      <th>Lot Shape</th>\n",
       "      <th>Land Slope</th>\n",
       "      <th>Overall Qual</th>\n",
       "      <th>Overall Cond</th>\n",
       "      <th>Year Built</th>\n",
       "      <th>Year Remod/Add</th>\n",
       "      <th>Mas Vnr Area</th>\n",
       "      <th>Exter Qual</th>\n",
       "      <th>...</th>\n",
       "      <th>SaleType_ConLw</th>\n",
       "      <th>SaleType_New</th>\n",
       "      <th>SaleType_Oth</th>\n",
       "      <th>SaleType_VWD</th>\n",
       "      <th>SaleType_WD</th>\n",
       "      <th>SaleCond_AdjLand</th>\n",
       "      <th>SaleCond_Alloca</th>\n",
       "      <th>SaleCond_Family</th>\n",
       "      <th>SaleCond_Normal</th>\n",
       "      <th>SaleCond_Partial</th>\n",
       "    </tr>\n",
       "  </thead>\n",
       "  <tbody>\n",
       "    <tr>\n",
       "      <th>0</th>\n",
       "      <td>141.0</td>\n",
       "      <td>31770</td>\n",
       "      <td>1</td>\n",
       "      <td>0</td>\n",
       "      <td>6</td>\n",
       "      <td>5</td>\n",
       "      <td>1960</td>\n",
       "      <td>1960</td>\n",
       "      <td>10.583005</td>\n",
       "      <td>2</td>\n",
       "      <td>...</td>\n",
       "      <td>0</td>\n",
       "      <td>0</td>\n",
       "      <td>0</td>\n",
       "      <td>0</td>\n",
       "      <td>1</td>\n",
       "      <td>0</td>\n",
       "      <td>0</td>\n",
       "      <td>0</td>\n",
       "      <td>1</td>\n",
       "      <td>0</td>\n",
       "    </tr>\n",
       "    <tr>\n",
       "      <th>1</th>\n",
       "      <td>80.0</td>\n",
       "      <td>11622</td>\n",
       "      <td>0</td>\n",
       "      <td>0</td>\n",
       "      <td>5</td>\n",
       "      <td>6</td>\n",
       "      <td>1961</td>\n",
       "      <td>1961</td>\n",
       "      <td>0.000000</td>\n",
       "      <td>2</td>\n",
       "      <td>...</td>\n",
       "      <td>0</td>\n",
       "      <td>0</td>\n",
       "      <td>0</td>\n",
       "      <td>0</td>\n",
       "      <td>1</td>\n",
       "      <td>0</td>\n",
       "      <td>0</td>\n",
       "      <td>0</td>\n",
       "      <td>1</td>\n",
       "      <td>0</td>\n",
       "    </tr>\n",
       "    <tr>\n",
       "      <th>2</th>\n",
       "      <td>81.0</td>\n",
       "      <td>14267</td>\n",
       "      <td>1</td>\n",
       "      <td>0</td>\n",
       "      <td>6</td>\n",
       "      <td>6</td>\n",
       "      <td>1958</td>\n",
       "      <td>1958</td>\n",
       "      <td>10.392305</td>\n",
       "      <td>2</td>\n",
       "      <td>...</td>\n",
       "      <td>0</td>\n",
       "      <td>0</td>\n",
       "      <td>0</td>\n",
       "      <td>0</td>\n",
       "      <td>1</td>\n",
       "      <td>0</td>\n",
       "      <td>0</td>\n",
       "      <td>0</td>\n",
       "      <td>1</td>\n",
       "      <td>0</td>\n",
       "    </tr>\n",
       "    <tr>\n",
       "      <th>3</th>\n",
       "      <td>93.0</td>\n",
       "      <td>11160</td>\n",
       "      <td>0</td>\n",
       "      <td>0</td>\n",
       "      <td>7</td>\n",
       "      <td>5</td>\n",
       "      <td>1968</td>\n",
       "      <td>1968</td>\n",
       "      <td>0.000000</td>\n",
       "      <td>1</td>\n",
       "      <td>...</td>\n",
       "      <td>0</td>\n",
       "      <td>0</td>\n",
       "      <td>0</td>\n",
       "      <td>0</td>\n",
       "      <td>1</td>\n",
       "      <td>0</td>\n",
       "      <td>0</td>\n",
       "      <td>0</td>\n",
       "      <td>1</td>\n",
       "      <td>0</td>\n",
       "    </tr>\n",
       "    <tr>\n",
       "      <th>4</th>\n",
       "      <td>74.0</td>\n",
       "      <td>13830</td>\n",
       "      <td>1</td>\n",
       "      <td>0</td>\n",
       "      <td>5</td>\n",
       "      <td>5</td>\n",
       "      <td>1997</td>\n",
       "      <td>1998</td>\n",
       "      <td>0.000000</td>\n",
       "      <td>2</td>\n",
       "      <td>...</td>\n",
       "      <td>0</td>\n",
       "      <td>0</td>\n",
       "      <td>0</td>\n",
       "      <td>0</td>\n",
       "      <td>1</td>\n",
       "      <td>0</td>\n",
       "      <td>0</td>\n",
       "      <td>0</td>\n",
       "      <td>1</td>\n",
       "      <td>0</td>\n",
       "    </tr>\n",
       "  </tbody>\n",
       "</table>\n",
       "<p>5 rows × 233 columns</p>\n",
       "</div>"
      ],
      "text/plain": [
       "   Lot Frontage  Lot Area  Lot Shape  Land Slope  Overall Qual  Overall Cond  \\\n",
       "0         141.0     31770          1           0             6             5   \n",
       "1          80.0     11622          0           0             5             6   \n",
       "2          81.0     14267          1           0             6             6   \n",
       "3          93.0     11160          0           0             7             5   \n",
       "4          74.0     13830          1           0             5             5   \n",
       "\n",
       "   Year Built  Year Remod/Add  Mas Vnr Area  Exter Qual  ...  SaleType_ConLw  \\\n",
       "0        1960            1960     10.583005           2  ...               0   \n",
       "1        1961            1961      0.000000           2  ...               0   \n",
       "2        1958            1958     10.392305           2  ...               0   \n",
       "3        1968            1968      0.000000           1  ...               0   \n",
       "4        1997            1998      0.000000           2  ...               0   \n",
       "\n",
       "   SaleType_New  SaleType_Oth  SaleType_VWD  SaleType_WD   SaleCond_AdjLand  \\\n",
       "0             0             0             0             1                 0   \n",
       "1             0             0             0             1                 0   \n",
       "2             0             0             0             1                 0   \n",
       "3             0             0             0             1                 0   \n",
       "4             0             0             0             1                 0   \n",
       "\n",
       "   SaleCond_Alloca  SaleCond_Family  SaleCond_Normal  SaleCond_Partial  \n",
       "0                0                0                1                 0  \n",
       "1                0                0                1                 0  \n",
       "2                0                0                1                 0  \n",
       "3                0                0                1                 0  \n",
       "4                0                0                1                 0  \n",
       "\n",
       "[5 rows x 233 columns]"
      ]
     },
     "execution_count": 3,
     "metadata": {},
     "output_type": "execute_result"
    }
   ],
   "source": [
    "df.head()"
   ]
  },
  {
   "cell_type": "code",
   "execution_count": 4,
   "metadata": {},
   "outputs": [
    {
     "data": {
      "text/plain": [
       "Exter Qual      -0.702112\n",
       "Kitchen Qual    -0.676457\n",
       "Bsmt Qual       -0.634937\n",
       "Garage Finish   -0.594782\n",
       "Fireplace Qu    -0.544727\n",
       "                   ...   \n",
       "Total Bsmt SF    0.637243\n",
       "Garage Cars      0.686680\n",
       "Gr Liv Area      0.705968\n",
       "Overall Qual     0.825046\n",
       "SalePrice        1.000000\n",
       "Name: SalePrice, Length: 233, dtype: float64"
      ]
     },
     "execution_count": 4,
     "metadata": {},
     "output_type": "execute_result"
    }
   ],
   "source": [
    "df.corr()['SalePrice'].sort_values()"
   ]
  },
  {
   "cell_type": "code",
   "execution_count": 5,
   "metadata": {},
   "outputs": [],
   "source": [
    "x=df.drop('SalePrice',axis=1)\n",
    "y=df['SalePrice']"
   ]
  },
  {
   "cell_type": "code",
   "execution_count": 6,
   "metadata": {},
   "outputs": [
    {
     "data": {
      "text/html": [
       "<div>\n",
       "<style scoped>\n",
       "    .dataframe tbody tr th:only-of-type {\n",
       "        vertical-align: middle;\n",
       "    }\n",
       "\n",
       "    .dataframe tbody tr th {\n",
       "        vertical-align: top;\n",
       "    }\n",
       "\n",
       "    .dataframe thead th {\n",
       "        text-align: right;\n",
       "    }\n",
       "</style>\n",
       "<table border=\"1\" class=\"dataframe\">\n",
       "  <thead>\n",
       "    <tr style=\"text-align: right;\">\n",
       "      <th></th>\n",
       "      <th>Lot Frontage</th>\n",
       "      <th>Lot Area</th>\n",
       "      <th>Lot Shape</th>\n",
       "      <th>Land Slope</th>\n",
       "      <th>Overall Qual</th>\n",
       "      <th>Overall Cond</th>\n",
       "      <th>Year Built</th>\n",
       "      <th>Year Remod/Add</th>\n",
       "      <th>Mas Vnr Area</th>\n",
       "      <th>Exter Qual</th>\n",
       "      <th>...</th>\n",
       "      <th>SaleType_ConLw</th>\n",
       "      <th>SaleType_New</th>\n",
       "      <th>SaleType_Oth</th>\n",
       "      <th>SaleType_VWD</th>\n",
       "      <th>SaleType_WD</th>\n",
       "      <th>SaleCond_AdjLand</th>\n",
       "      <th>SaleCond_Alloca</th>\n",
       "      <th>SaleCond_Family</th>\n",
       "      <th>SaleCond_Normal</th>\n",
       "      <th>SaleCond_Partial</th>\n",
       "    </tr>\n",
       "  </thead>\n",
       "  <tbody>\n",
       "    <tr>\n",
       "      <th>0</th>\n",
       "      <td>141.000000</td>\n",
       "      <td>31770</td>\n",
       "      <td>1</td>\n",
       "      <td>0</td>\n",
       "      <td>6</td>\n",
       "      <td>5</td>\n",
       "      <td>1960</td>\n",
       "      <td>1960</td>\n",
       "      <td>10.583005</td>\n",
       "      <td>2</td>\n",
       "      <td>...</td>\n",
       "      <td>0</td>\n",
       "      <td>0</td>\n",
       "      <td>0</td>\n",
       "      <td>0</td>\n",
       "      <td>1</td>\n",
       "      <td>0</td>\n",
       "      <td>0</td>\n",
       "      <td>0</td>\n",
       "      <td>1</td>\n",
       "      <td>0</td>\n",
       "    </tr>\n",
       "    <tr>\n",
       "      <th>1</th>\n",
       "      <td>80.000000</td>\n",
       "      <td>11622</td>\n",
       "      <td>0</td>\n",
       "      <td>0</td>\n",
       "      <td>5</td>\n",
       "      <td>6</td>\n",
       "      <td>1961</td>\n",
       "      <td>1961</td>\n",
       "      <td>0.000000</td>\n",
       "      <td>2</td>\n",
       "      <td>...</td>\n",
       "      <td>0</td>\n",
       "      <td>0</td>\n",
       "      <td>0</td>\n",
       "      <td>0</td>\n",
       "      <td>1</td>\n",
       "      <td>0</td>\n",
       "      <td>0</td>\n",
       "      <td>0</td>\n",
       "      <td>1</td>\n",
       "      <td>0</td>\n",
       "    </tr>\n",
       "    <tr>\n",
       "      <th>2</th>\n",
       "      <td>81.000000</td>\n",
       "      <td>14267</td>\n",
       "      <td>1</td>\n",
       "      <td>0</td>\n",
       "      <td>6</td>\n",
       "      <td>6</td>\n",
       "      <td>1958</td>\n",
       "      <td>1958</td>\n",
       "      <td>10.392305</td>\n",
       "      <td>2</td>\n",
       "      <td>...</td>\n",
       "      <td>0</td>\n",
       "      <td>0</td>\n",
       "      <td>0</td>\n",
       "      <td>0</td>\n",
       "      <td>1</td>\n",
       "      <td>0</td>\n",
       "      <td>0</td>\n",
       "      <td>0</td>\n",
       "      <td>1</td>\n",
       "      <td>0</td>\n",
       "    </tr>\n",
       "    <tr>\n",
       "      <th>3</th>\n",
       "      <td>93.000000</td>\n",
       "      <td>11160</td>\n",
       "      <td>0</td>\n",
       "      <td>0</td>\n",
       "      <td>7</td>\n",
       "      <td>5</td>\n",
       "      <td>1968</td>\n",
       "      <td>1968</td>\n",
       "      <td>0.000000</td>\n",
       "      <td>1</td>\n",
       "      <td>...</td>\n",
       "      <td>0</td>\n",
       "      <td>0</td>\n",
       "      <td>0</td>\n",
       "      <td>0</td>\n",
       "      <td>1</td>\n",
       "      <td>0</td>\n",
       "      <td>0</td>\n",
       "      <td>0</td>\n",
       "      <td>1</td>\n",
       "      <td>0</td>\n",
       "    </tr>\n",
       "    <tr>\n",
       "      <th>4</th>\n",
       "      <td>74.000000</td>\n",
       "      <td>13830</td>\n",
       "      <td>1</td>\n",
       "      <td>0</td>\n",
       "      <td>5</td>\n",
       "      <td>5</td>\n",
       "      <td>1997</td>\n",
       "      <td>1998</td>\n",
       "      <td>0.000000</td>\n",
       "      <td>2</td>\n",
       "      <td>...</td>\n",
       "      <td>0</td>\n",
       "      <td>0</td>\n",
       "      <td>0</td>\n",
       "      <td>0</td>\n",
       "      <td>1</td>\n",
       "      <td>0</td>\n",
       "      <td>0</td>\n",
       "      <td>0</td>\n",
       "      <td>1</td>\n",
       "      <td>0</td>\n",
       "    </tr>\n",
       "    <tr>\n",
       "      <th>...</th>\n",
       "      <td>...</td>\n",
       "      <td>...</td>\n",
       "      <td>...</td>\n",
       "      <td>...</td>\n",
       "      <td>...</td>\n",
       "      <td>...</td>\n",
       "      <td>...</td>\n",
       "      <td>...</td>\n",
       "      <td>...</td>\n",
       "      <td>...</td>\n",
       "      <td>...</td>\n",
       "      <td>...</td>\n",
       "      <td>...</td>\n",
       "      <td>...</td>\n",
       "      <td>...</td>\n",
       "      <td>...</td>\n",
       "      <td>...</td>\n",
       "      <td>...</td>\n",
       "      <td>...</td>\n",
       "      <td>...</td>\n",
       "      <td>...</td>\n",
       "    </tr>\n",
       "    <tr>\n",
       "      <th>2834</th>\n",
       "      <td>37.000000</td>\n",
       "      <td>7937</td>\n",
       "      <td>1</td>\n",
       "      <td>0</td>\n",
       "      <td>6</td>\n",
       "      <td>6</td>\n",
       "      <td>1984</td>\n",
       "      <td>1984</td>\n",
       "      <td>0.000000</td>\n",
       "      <td>2</td>\n",
       "      <td>...</td>\n",
       "      <td>0</td>\n",
       "      <td>0</td>\n",
       "      <td>0</td>\n",
       "      <td>0</td>\n",
       "      <td>1</td>\n",
       "      <td>0</td>\n",
       "      <td>0</td>\n",
       "      <td>0</td>\n",
       "      <td>1</td>\n",
       "      <td>0</td>\n",
       "    </tr>\n",
       "    <tr>\n",
       "      <th>2835</th>\n",
       "      <td>74.306818</td>\n",
       "      <td>8885</td>\n",
       "      <td>1</td>\n",
       "      <td>1</td>\n",
       "      <td>5</td>\n",
       "      <td>5</td>\n",
       "      <td>1983</td>\n",
       "      <td>1983</td>\n",
       "      <td>0.000000</td>\n",
       "      <td>2</td>\n",
       "      <td>...</td>\n",
       "      <td>0</td>\n",
       "      <td>0</td>\n",
       "      <td>0</td>\n",
       "      <td>0</td>\n",
       "      <td>1</td>\n",
       "      <td>0</td>\n",
       "      <td>0</td>\n",
       "      <td>0</td>\n",
       "      <td>1</td>\n",
       "      <td>0</td>\n",
       "    </tr>\n",
       "    <tr>\n",
       "      <th>2836</th>\n",
       "      <td>62.000000</td>\n",
       "      <td>10441</td>\n",
       "      <td>0</td>\n",
       "      <td>0</td>\n",
       "      <td>5</td>\n",
       "      <td>5</td>\n",
       "      <td>1992</td>\n",
       "      <td>1992</td>\n",
       "      <td>0.000000</td>\n",
       "      <td>2</td>\n",
       "      <td>...</td>\n",
       "      <td>0</td>\n",
       "      <td>0</td>\n",
       "      <td>0</td>\n",
       "      <td>0</td>\n",
       "      <td>1</td>\n",
       "      <td>0</td>\n",
       "      <td>0</td>\n",
       "      <td>0</td>\n",
       "      <td>1</td>\n",
       "      <td>0</td>\n",
       "    </tr>\n",
       "    <tr>\n",
       "      <th>2837</th>\n",
       "      <td>77.000000</td>\n",
       "      <td>10010</td>\n",
       "      <td>0</td>\n",
       "      <td>1</td>\n",
       "      <td>5</td>\n",
       "      <td>5</td>\n",
       "      <td>1974</td>\n",
       "      <td>1975</td>\n",
       "      <td>0.000000</td>\n",
       "      <td>2</td>\n",
       "      <td>...</td>\n",
       "      <td>0</td>\n",
       "      <td>0</td>\n",
       "      <td>0</td>\n",
       "      <td>0</td>\n",
       "      <td>1</td>\n",
       "      <td>0</td>\n",
       "      <td>0</td>\n",
       "      <td>0</td>\n",
       "      <td>1</td>\n",
       "      <td>0</td>\n",
       "    </tr>\n",
       "    <tr>\n",
       "      <th>2838</th>\n",
       "      <td>74.000000</td>\n",
       "      <td>9627</td>\n",
       "      <td>0</td>\n",
       "      <td>1</td>\n",
       "      <td>7</td>\n",
       "      <td>5</td>\n",
       "      <td>1993</td>\n",
       "      <td>1994</td>\n",
       "      <td>9.695360</td>\n",
       "      <td>2</td>\n",
       "      <td>...</td>\n",
       "      <td>0</td>\n",
       "      <td>0</td>\n",
       "      <td>0</td>\n",
       "      <td>0</td>\n",
       "      <td>1</td>\n",
       "      <td>0</td>\n",
       "      <td>0</td>\n",
       "      <td>0</td>\n",
       "      <td>1</td>\n",
       "      <td>0</td>\n",
       "    </tr>\n",
       "  </tbody>\n",
       "</table>\n",
       "<p>2839 rows × 232 columns</p>\n",
       "</div>"
      ],
      "text/plain": [
       "      Lot Frontage  Lot Area  Lot Shape  Land Slope  Overall Qual  \\\n",
       "0       141.000000     31770          1           0             6   \n",
       "1        80.000000     11622          0           0             5   \n",
       "2        81.000000     14267          1           0             6   \n",
       "3        93.000000     11160          0           0             7   \n",
       "4        74.000000     13830          1           0             5   \n",
       "...            ...       ...        ...         ...           ...   \n",
       "2834     37.000000      7937          1           0             6   \n",
       "2835     74.306818      8885          1           1             5   \n",
       "2836     62.000000     10441          0           0             5   \n",
       "2837     77.000000     10010          0           1             5   \n",
       "2838     74.000000      9627          0           1             7   \n",
       "\n",
       "      Overall Cond  Year Built  Year Remod/Add  Mas Vnr Area  Exter Qual  ...  \\\n",
       "0                5        1960            1960     10.583005           2  ...   \n",
       "1                6        1961            1961      0.000000           2  ...   \n",
       "2                6        1958            1958     10.392305           2  ...   \n",
       "3                5        1968            1968      0.000000           1  ...   \n",
       "4                5        1997            1998      0.000000           2  ...   \n",
       "...            ...         ...             ...           ...         ...  ...   \n",
       "2834             6        1984            1984      0.000000           2  ...   \n",
       "2835             5        1983            1983      0.000000           2  ...   \n",
       "2836             5        1992            1992      0.000000           2  ...   \n",
       "2837             5        1974            1975      0.000000           2  ...   \n",
       "2838             5        1993            1994      9.695360           2  ...   \n",
       "\n",
       "      SaleType_ConLw  SaleType_New  SaleType_Oth  SaleType_VWD  SaleType_WD   \\\n",
       "0                  0             0             0             0             1   \n",
       "1                  0             0             0             0             1   \n",
       "2                  0             0             0             0             1   \n",
       "3                  0             0             0             0             1   \n",
       "4                  0             0             0             0             1   \n",
       "...              ...           ...           ...           ...           ...   \n",
       "2834               0             0             0             0             1   \n",
       "2835               0             0             0             0             1   \n",
       "2836               0             0             0             0             1   \n",
       "2837               0             0             0             0             1   \n",
       "2838               0             0             0             0             1   \n",
       "\n",
       "      SaleCond_AdjLand  SaleCond_Alloca  SaleCond_Family  SaleCond_Normal  \\\n",
       "0                    0                0                0                1   \n",
       "1                    0                0                0                1   \n",
       "2                    0                0                0                1   \n",
       "3                    0                0                0                1   \n",
       "4                    0                0                0                1   \n",
       "...                ...              ...              ...              ...   \n",
       "2834                 0                0                0                1   \n",
       "2835                 0                0                0                1   \n",
       "2836                 0                0                0                1   \n",
       "2837                 0                0                0                1   \n",
       "2838                 0                0                0                1   \n",
       "\n",
       "      SaleCond_Partial  \n",
       "0                    0  \n",
       "1                    0  \n",
       "2                    0  \n",
       "3                    0  \n",
       "4                    0  \n",
       "...                ...  \n",
       "2834                 0  \n",
       "2835                 0  \n",
       "2836                 0  \n",
       "2837                 0  \n",
       "2838                 0  \n",
       "\n",
       "[2839 rows x 232 columns]"
      ]
     },
     "execution_count": 6,
     "metadata": {},
     "output_type": "execute_result"
    }
   ],
   "source": [
    "x"
   ]
  },
  {
   "cell_type": "code",
   "execution_count": 7,
   "metadata": {},
   "outputs": [
    {
     "data": {
      "text/plain": [
       "0       463.680925\n",
       "1       324.037035\n",
       "2       414.728827\n",
       "3       493.963561\n",
       "4       435.775171\n",
       "           ...    \n",
       "2834    377.491722\n",
       "2835    361.939221\n",
       "2836    363.318042\n",
       "2837    412.310563\n",
       "2838    433.589668\n",
       "Name: SalePrice, Length: 2839, dtype: float64"
      ]
     },
     "execution_count": 7,
     "metadata": {},
     "output_type": "execute_result"
    }
   ],
   "source": [
    "y"
   ]
  },
  {
   "cell_type": "markdown",
   "metadata": {},
   "source": [
    "## LINEAR REGRESSION"
   ]
  },
  {
   "cell_type": "markdown",
   "metadata": {},
   "source": [
    "**Train | Test Split**"
   ]
  },
  {
   "cell_type": "code",
   "execution_count": 8,
   "metadata": {},
   "outputs": [],
   "source": [
    "from sklearn.model_selection import train_test_split"
   ]
  },
  {
   "cell_type": "code",
   "execution_count": 9,
   "metadata": {},
   "outputs": [],
   "source": [
    "x_train,x_test,y_train,y_test=train_test_split(x,y,test_size=0.3,random_state=101)"
   ]
  },
  {
   "cell_type": "code",
   "execution_count": 10,
   "metadata": {},
   "outputs": [
    {
     "data": {
      "text/html": [
       "<div>\n",
       "<style scoped>\n",
       "    .dataframe tbody tr th:only-of-type {\n",
       "        vertical-align: middle;\n",
       "    }\n",
       "\n",
       "    .dataframe tbody tr th {\n",
       "        vertical-align: top;\n",
       "    }\n",
       "\n",
       "    .dataframe thead th {\n",
       "        text-align: right;\n",
       "    }\n",
       "</style>\n",
       "<table border=\"1\" class=\"dataframe\">\n",
       "  <thead>\n",
       "    <tr style=\"text-align: right;\">\n",
       "      <th></th>\n",
       "      <th>Lot Frontage</th>\n",
       "      <th>Lot Area</th>\n",
       "      <th>Lot Shape</th>\n",
       "      <th>Land Slope</th>\n",
       "      <th>Overall Qual</th>\n",
       "      <th>Overall Cond</th>\n",
       "      <th>Year Built</th>\n",
       "      <th>Year Remod/Add</th>\n",
       "      <th>Mas Vnr Area</th>\n",
       "      <th>Exter Qual</th>\n",
       "      <th>...</th>\n",
       "      <th>SaleType_ConLw</th>\n",
       "      <th>SaleType_New</th>\n",
       "      <th>SaleType_Oth</th>\n",
       "      <th>SaleType_VWD</th>\n",
       "      <th>SaleType_WD</th>\n",
       "      <th>SaleCond_AdjLand</th>\n",
       "      <th>SaleCond_Alloca</th>\n",
       "      <th>SaleCond_Family</th>\n",
       "      <th>SaleCond_Normal</th>\n",
       "      <th>SaleCond_Partial</th>\n",
       "    </tr>\n",
       "  </thead>\n",
       "  <tbody>\n",
       "    <tr>\n",
       "      <th>759</th>\n",
       "      <td>64.391813</td>\n",
       "      <td>17140</td>\n",
       "      <td>0</td>\n",
       "      <td>0</td>\n",
       "      <td>4</td>\n",
       "      <td>6</td>\n",
       "      <td>1956</td>\n",
       "      <td>1956</td>\n",
       "      <td>0.000000</td>\n",
       "      <td>2</td>\n",
       "      <td>...</td>\n",
       "      <td>0</td>\n",
       "      <td>0</td>\n",
       "      <td>0</td>\n",
       "      <td>0</td>\n",
       "      <td>1</td>\n",
       "      <td>0</td>\n",
       "      <td>0</td>\n",
       "      <td>0</td>\n",
       "      <td>1</td>\n",
       "      <td>0</td>\n",
       "    </tr>\n",
       "    <tr>\n",
       "      <th>660</th>\n",
       "      <td>70.000000</td>\n",
       "      <td>7560</td>\n",
       "      <td>0</td>\n",
       "      <td>0</td>\n",
       "      <td>5</td>\n",
       "      <td>6</td>\n",
       "      <td>1958</td>\n",
       "      <td>1965</td>\n",
       "      <td>0.000000</td>\n",
       "      <td>2</td>\n",
       "      <td>...</td>\n",
       "      <td>0</td>\n",
       "      <td>0</td>\n",
       "      <td>0</td>\n",
       "      <td>0</td>\n",
       "      <td>0</td>\n",
       "      <td>0</td>\n",
       "      <td>0</td>\n",
       "      <td>0</td>\n",
       "      <td>0</td>\n",
       "      <td>0</td>\n",
       "    </tr>\n",
       "    <tr>\n",
       "      <th>1896</th>\n",
       "      <td>60.000000</td>\n",
       "      <td>7200</td>\n",
       "      <td>0</td>\n",
       "      <td>0</td>\n",
       "      <td>5</td>\n",
       "      <td>3</td>\n",
       "      <td>1950</td>\n",
       "      <td>1950</td>\n",
       "      <td>0.000000</td>\n",
       "      <td>2</td>\n",
       "      <td>...</td>\n",
       "      <td>0</td>\n",
       "      <td>0</td>\n",
       "      <td>0</td>\n",
       "      <td>0</td>\n",
       "      <td>1</td>\n",
       "      <td>0</td>\n",
       "      <td>0</td>\n",
       "      <td>0</td>\n",
       "      <td>1</td>\n",
       "      <td>0</td>\n",
       "    </tr>\n",
       "    <tr>\n",
       "      <th>1943</th>\n",
       "      <td>98.000000</td>\n",
       "      <td>8731</td>\n",
       "      <td>1</td>\n",
       "      <td>0</td>\n",
       "      <td>5</td>\n",
       "      <td>5</td>\n",
       "      <td>1920</td>\n",
       "      <td>1950</td>\n",
       "      <td>0.000000</td>\n",
       "      <td>2</td>\n",
       "      <td>...</td>\n",
       "      <td>0</td>\n",
       "      <td>0</td>\n",
       "      <td>0</td>\n",
       "      <td>0</td>\n",
       "      <td>1</td>\n",
       "      <td>0</td>\n",
       "      <td>0</td>\n",
       "      <td>0</td>\n",
       "      <td>1</td>\n",
       "      <td>0</td>\n",
       "    </tr>\n",
       "    <tr>\n",
       "      <th>38</th>\n",
       "      <td>94.000000</td>\n",
       "      <td>12883</td>\n",
       "      <td>1</td>\n",
       "      <td>0</td>\n",
       "      <td>8</td>\n",
       "      <td>5</td>\n",
       "      <td>2009</td>\n",
       "      <td>2010</td>\n",
       "      <td>16.000000</td>\n",
       "      <td>1</td>\n",
       "      <td>...</td>\n",
       "      <td>0</td>\n",
       "      <td>1</td>\n",
       "      <td>0</td>\n",
       "      <td>0</td>\n",
       "      <td>0</td>\n",
       "      <td>0</td>\n",
       "      <td>0</td>\n",
       "      <td>0</td>\n",
       "      <td>0</td>\n",
       "      <td>1</td>\n",
       "    </tr>\n",
       "    <tr>\n",
       "      <th>...</th>\n",
       "      <td>...</td>\n",
       "      <td>...</td>\n",
       "      <td>...</td>\n",
       "      <td>...</td>\n",
       "      <td>...</td>\n",
       "      <td>...</td>\n",
       "      <td>...</td>\n",
       "      <td>...</td>\n",
       "      <td>...</td>\n",
       "      <td>...</td>\n",
       "      <td>...</td>\n",
       "      <td>...</td>\n",
       "      <td>...</td>\n",
       "      <td>...</td>\n",
       "      <td>...</td>\n",
       "      <td>...</td>\n",
       "      <td>...</td>\n",
       "      <td>...</td>\n",
       "      <td>...</td>\n",
       "      <td>...</td>\n",
       "      <td>...</td>\n",
       "    </tr>\n",
       "    <tr>\n",
       "      <th>599</th>\n",
       "      <td>80.000000</td>\n",
       "      <td>9600</td>\n",
       "      <td>0</td>\n",
       "      <td>0</td>\n",
       "      <td>6</td>\n",
       "      <td>8</td>\n",
       "      <td>1950</td>\n",
       "      <td>2005</td>\n",
       "      <td>0.000000</td>\n",
       "      <td>2</td>\n",
       "      <td>...</td>\n",
       "      <td>0</td>\n",
       "      <td>0</td>\n",
       "      <td>0</td>\n",
       "      <td>0</td>\n",
       "      <td>1</td>\n",
       "      <td>0</td>\n",
       "      <td>0</td>\n",
       "      <td>0</td>\n",
       "      <td>1</td>\n",
       "      <td>0</td>\n",
       "    </tr>\n",
       "    <tr>\n",
       "      <th>1599</th>\n",
       "      <td>81.535714</td>\n",
       "      <td>12046</td>\n",
       "      <td>1</td>\n",
       "      <td>0</td>\n",
       "      <td>6</td>\n",
       "      <td>6</td>\n",
       "      <td>1976</td>\n",
       "      <td>1976</td>\n",
       "      <td>17.262677</td>\n",
       "      <td>2</td>\n",
       "      <td>...</td>\n",
       "      <td>0</td>\n",
       "      <td>0</td>\n",
       "      <td>0</td>\n",
       "      <td>0</td>\n",
       "      <td>1</td>\n",
       "      <td>0</td>\n",
       "      <td>0</td>\n",
       "      <td>0</td>\n",
       "      <td>1</td>\n",
       "      <td>0</td>\n",
       "    </tr>\n",
       "    <tr>\n",
       "      <th>1361</th>\n",
       "      <td>85.176471</td>\n",
       "      <td>10532</td>\n",
       "      <td>0</td>\n",
       "      <td>0</td>\n",
       "      <td>5</td>\n",
       "      <td>3</td>\n",
       "      <td>1960</td>\n",
       "      <td>1960</td>\n",
       "      <td>16.583124</td>\n",
       "      <td>2</td>\n",
       "      <td>...</td>\n",
       "      <td>0</td>\n",
       "      <td>0</td>\n",
       "      <td>0</td>\n",
       "      <td>0</td>\n",
       "      <td>1</td>\n",
       "      <td>0</td>\n",
       "      <td>0</td>\n",
       "      <td>0</td>\n",
       "      <td>0</td>\n",
       "      <td>0</td>\n",
       "    </tr>\n",
       "    <tr>\n",
       "      <th>1547</th>\n",
       "      <td>25.606061</td>\n",
       "      <td>2665</td>\n",
       "      <td>0</td>\n",
       "      <td>0</td>\n",
       "      <td>5</td>\n",
       "      <td>6</td>\n",
       "      <td>1976</td>\n",
       "      <td>1976</td>\n",
       "      <td>0.000000</td>\n",
       "      <td>2</td>\n",
       "      <td>...</td>\n",
       "      <td>0</td>\n",
       "      <td>0</td>\n",
       "      <td>0</td>\n",
       "      <td>0</td>\n",
       "      <td>1</td>\n",
       "      <td>0</td>\n",
       "      <td>0</td>\n",
       "      <td>0</td>\n",
       "      <td>1</td>\n",
       "      <td>0</td>\n",
       "    </tr>\n",
       "    <tr>\n",
       "      <th>863</th>\n",
       "      <td>64.000000</td>\n",
       "      <td>7301</td>\n",
       "      <td>0</td>\n",
       "      <td>0</td>\n",
       "      <td>7</td>\n",
       "      <td>5</td>\n",
       "      <td>2003</td>\n",
       "      <td>2003</td>\n",
       "      <td>22.360680</td>\n",
       "      <td>1</td>\n",
       "      <td>...</td>\n",
       "      <td>0</td>\n",
       "      <td>0</td>\n",
       "      <td>0</td>\n",
       "      <td>0</td>\n",
       "      <td>0</td>\n",
       "      <td>0</td>\n",
       "      <td>0</td>\n",
       "      <td>0</td>\n",
       "      <td>1</td>\n",
       "      <td>0</td>\n",
       "    </tr>\n",
       "  </tbody>\n",
       "</table>\n",
       "<p>1987 rows × 232 columns</p>\n",
       "</div>"
      ],
      "text/plain": [
       "      Lot Frontage  Lot Area  Lot Shape  Land Slope  Overall Qual  \\\n",
       "759      64.391813     17140          0           0             4   \n",
       "660      70.000000      7560          0           0             5   \n",
       "1896     60.000000      7200          0           0             5   \n",
       "1943     98.000000      8731          1           0             5   \n",
       "38       94.000000     12883          1           0             8   \n",
       "...            ...       ...        ...         ...           ...   \n",
       "599      80.000000      9600          0           0             6   \n",
       "1599     81.535714     12046          1           0             6   \n",
       "1361     85.176471     10532          0           0             5   \n",
       "1547     25.606061      2665          0           0             5   \n",
       "863      64.000000      7301          0           0             7   \n",
       "\n",
       "      Overall Cond  Year Built  Year Remod/Add  Mas Vnr Area  Exter Qual  ...  \\\n",
       "759              6        1956            1956      0.000000           2  ...   \n",
       "660              6        1958            1965      0.000000           2  ...   \n",
       "1896             3        1950            1950      0.000000           2  ...   \n",
       "1943             5        1920            1950      0.000000           2  ...   \n",
       "38               5        2009            2010     16.000000           1  ...   \n",
       "...            ...         ...             ...           ...         ...  ...   \n",
       "599              8        1950            2005      0.000000           2  ...   \n",
       "1599             6        1976            1976     17.262677           2  ...   \n",
       "1361             3        1960            1960     16.583124           2  ...   \n",
       "1547             6        1976            1976      0.000000           2  ...   \n",
       "863              5        2003            2003     22.360680           1  ...   \n",
       "\n",
       "      SaleType_ConLw  SaleType_New  SaleType_Oth  SaleType_VWD  SaleType_WD   \\\n",
       "759                0             0             0             0             1   \n",
       "660                0             0             0             0             0   \n",
       "1896               0             0             0             0             1   \n",
       "1943               0             0             0             0             1   \n",
       "38                 0             1             0             0             0   \n",
       "...              ...           ...           ...           ...           ...   \n",
       "599                0             0             0             0             1   \n",
       "1599               0             0             0             0             1   \n",
       "1361               0             0             0             0             1   \n",
       "1547               0             0             0             0             1   \n",
       "863                0             0             0             0             0   \n",
       "\n",
       "      SaleCond_AdjLand  SaleCond_Alloca  SaleCond_Family  SaleCond_Normal  \\\n",
       "759                  0                0                0                1   \n",
       "660                  0                0                0                0   \n",
       "1896                 0                0                0                1   \n",
       "1943                 0                0                0                1   \n",
       "38                   0                0                0                0   \n",
       "...                ...              ...              ...              ...   \n",
       "599                  0                0                0                1   \n",
       "1599                 0                0                0                1   \n",
       "1361                 0                0                0                0   \n",
       "1547                 0                0                0                1   \n",
       "863                  0                0                0                1   \n",
       "\n",
       "      SaleCond_Partial  \n",
       "759                  0  \n",
       "660                  0  \n",
       "1896                 0  \n",
       "1943                 0  \n",
       "38                   1  \n",
       "...                ...  \n",
       "599                  0  \n",
       "1599                 0  \n",
       "1361                 0  \n",
       "1547                 0  \n",
       "863                  0  \n",
       "\n",
       "[1987 rows x 232 columns]"
      ]
     },
     "execution_count": 10,
     "metadata": {},
     "output_type": "execute_result"
    }
   ],
   "source": [
    "x_train"
   ]
  },
  {
   "cell_type": "code",
   "execution_count": 11,
   "metadata": {},
   "outputs": [
    {
     "data": {
      "text/plain": [
       "1987"
      ]
     },
     "execution_count": 11,
     "metadata": {},
     "output_type": "execute_result"
    }
   ],
   "source": [
    "len(x_train)"
   ]
  },
  {
   "cell_type": "code",
   "execution_count": 12,
   "metadata": {
    "scrolled": true
   },
   "outputs": [
    {
     "data": {
      "text/plain": [
       "852"
      ]
     },
     "execution_count": 12,
     "metadata": {},
     "output_type": "execute_result"
    }
   ],
   "source": [
    "len(x_test)"
   ]
  },
  {
   "cell_type": "markdown",
   "metadata": {},
   "source": [
    "**Create an Estimator**"
   ]
  },
  {
   "cell_type": "code",
   "execution_count": 13,
   "metadata": {},
   "outputs": [],
   "source": [
    "from sklearn.linear_model import LinearRegression"
   ]
  },
  {
   "cell_type": "code",
   "execution_count": 14,
   "metadata": {},
   "outputs": [],
   "source": [
    "model=LinearRegression()"
   ]
  },
  {
   "cell_type": "code",
   "execution_count": 15,
   "metadata": {},
   "outputs": [
    {
     "data": {
      "text/plain": [
       "LinearRegression()"
      ]
     },
     "execution_count": 15,
     "metadata": {},
     "output_type": "execute_result"
    }
   ],
   "source": [
    "model.fit(x_train,y_train)"
   ]
  },
  {
   "cell_type": "code",
   "execution_count": 16,
   "metadata": {},
   "outputs": [],
   "source": [
    "test_pred=model.predict(x_test)"
   ]
  },
  {
   "cell_type": "code",
   "execution_count": 17,
   "metadata": {},
   "outputs": [
    {
     "data": {
      "text/plain": [
       "1868    358.608422\n",
       "1794    440.454311\n",
       "1249    369.959457\n",
       "1827    342.928564\n",
       "120     370.809924\n",
       "           ...    \n",
       "1295    281.957444\n",
       "265     430.697109\n",
       "1158    489.897949\n",
       "994     484.767986\n",
       "1521    461.519230\n",
       "Name: SalePrice, Length: 852, dtype: float64"
      ]
     },
     "execution_count": 17,
     "metadata": {},
     "output_type": "execute_result"
    }
   ],
   "source": [
    "y_test"
   ]
  },
  {
   "cell_type": "code",
   "execution_count": 18,
   "metadata": {
    "scrolled": true
   },
   "outputs": [
    {
     "data": {
      "text/plain": [
       "array([365.98648185, 441.18437369, 347.85101475, 354.20956879,\n",
       "       384.39520903, 480.34368315, 441.97450888, 435.47609529,\n",
       "       405.44386765, 366.46915982, 322.85814925, 363.12979697,\n",
       "       301.58110062, 380.17853927, 383.39670641, 264.77301508,\n",
       "       356.30872176, 433.35136578, 533.82121341, 444.15001538,\n",
       "       332.63884338, 423.09085739, 298.55689169, 313.59086072,\n",
       "       502.48012758, 348.80651354, 360.55067631, 349.07563661,\n",
       "       442.91184644, 413.24083496, 481.53539201, 388.00276122,\n",
       "       477.08823714, 500.79008547, 378.07066864, 269.51723842,\n",
       "       451.15976092, 485.7281985 , 393.60192943, 338.57407668,\n",
       "       442.90305767, 614.68364036, 349.43469158, 326.86067656,\n",
       "       373.73444413, 568.26103943, 558.93957458, 381.50336972,\n",
       "       419.09228151, 404.51463714, 398.45727152, 561.65886945,\n",
       "       462.52949415, 349.23323527, 407.59753834, 483.54665542,\n",
       "       352.85196157, 576.44152172, 340.84422119, 485.59657508,\n",
       "       280.73554616, 442.90235326, 380.08574148, 469.68501072,\n",
       "       475.74581369, 387.40522707, 309.85640591, 362.95440314,\n",
       "       381.45923047, 479.28152311, 356.60086364, 393.61897227,\n",
       "       546.91602593, 383.04331395, 448.73632558, 524.10864696,\n",
       "       383.26287754, 476.59245023, 383.77646822, 472.08901097,\n",
       "       406.76625066, 539.70830123, 362.35500455, 382.58920361,\n",
       "       374.69779268, 292.70761867, 358.62431955, 584.05555342,\n",
       "       368.88267214, 345.18210541, 317.92599904, 405.78976602,\n",
       "       378.55081529, 437.9404265 , 426.47863782, 345.7367245 ,\n",
       "       288.60781324, 461.77143052, 535.1201184 , 346.52938391,\n",
       "       267.97239867, 373.57332593, 363.89766566, 477.9150001 ,\n",
       "       414.67158622, 447.74760566, 552.88003951, 322.89858222,\n",
       "       404.48451498, 445.16931278, 285.5216129 , 482.26141647,\n",
       "       445.61207634, 422.48003809, 456.32522304, 435.27410385,\n",
       "       415.33244682, 294.17567668, 354.35097802, 375.40536703,\n",
       "       488.08380721, 418.84463715, 350.77483846, 553.63704441,\n",
       "       310.24311006, 504.00861598, 508.19175024, 523.4985537 ,\n",
       "       517.26964865, 465.41247414, 368.58829839, 402.52349354,\n",
       "       377.58389111, 379.84586878, 393.49434344, 344.96369447,\n",
       "       430.02984197, 389.86492516, 460.65960758, 471.34095786,\n",
       "       471.61914591, 436.24577882, 525.66351646, 368.17822664,\n",
       "       446.21046365, 387.86231342, 531.92075307, 396.0825043 ,\n",
       "       481.8335128 , 604.25042419, 420.29480627, 526.10155197,\n",
       "       479.07014368, 369.6306171 , 484.62485754, 420.51681982,\n",
       "       393.9581627 , 382.01109821, 552.46624009, 288.73985317,\n",
       "       396.52882448, 402.5570816 , 415.51555037, 365.10511258,\n",
       "       411.15022937, 658.43425091, 363.71672793, 396.44818159,\n",
       "       578.60969683, 467.81307871, 474.97708414, 543.123101  ,\n",
       "       419.59234699, 316.9329297 , 573.96590166, 474.91549748,\n",
       "       474.99151319, 440.86583072, 416.84589791, 467.65725333,\n",
       "       423.2440583 , 423.15953458, 303.14116108, 466.78815558,\n",
       "       592.20877206, 423.3483221 , 550.21439725, 266.51424613,\n",
       "       380.33446868, 374.0863472 , 340.24659465, 306.51222741,\n",
       "       353.77404661, 431.70801589, 434.28570172, 350.95411751,\n",
       "       361.1329112 , 371.07403593, 415.92125027, 339.64437071,\n",
       "       387.24697923, 263.36696293, 336.15793473, 319.2017052 ,\n",
       "       597.13011266, 420.33229714, 297.05626658, 333.68352857,\n",
       "       354.40789539, 382.61705568, 507.00973497, 465.50241267,\n",
       "       522.86932353, 416.76478613, 330.70640317, 335.77789953,\n",
       "       407.82374007, 400.59051441, 325.16609962, 533.14803244,\n",
       "       421.77509991, 436.36230021, 424.17895245, 442.89711591,\n",
       "       463.49126013, 261.40102793, 372.59702672, 309.9525069 ,\n",
       "       479.44885404, 399.76573571, 525.20056495, 401.61119263,\n",
       "       418.25608966, 477.4246487 , 447.1693028 , 376.30386814,\n",
       "       596.17572775, 437.01827115, 524.54581092, 448.22930456,\n",
       "       363.82084553, 431.60381811, 536.2798589 , 351.29730082,\n",
       "       496.48210271, 404.44257651, 365.29922345, 469.49543834,\n",
       "       454.01240413, 431.54281238, 419.98613648, 483.0173686 ,\n",
       "       281.68139629, 344.28723328, 353.25729085, 561.79103513,\n",
       "       376.74091259, 449.0084044 , 384.06751824, 492.959931  ,\n",
       "       445.33925356, 335.80433648, 451.39459645, 408.06917175,\n",
       "       424.88475498, 443.16244265, 475.85800591, 431.33175073,\n",
       "       536.465993  , 380.52144085, 473.59521605, 417.48999187,\n",
       "       372.04547659, 383.63865875, 316.07706385, 359.97439639,\n",
       "       332.08721207, 489.30341287, 446.25023598, 589.09306906,\n",
       "       477.08879411, 453.69926105, 501.97860123, 354.9554098 ,\n",
       "       504.14482809, 304.02767563, 477.26914296, 435.0590089 ,\n",
       "       465.97789178, 451.18705848, 359.23804594, 290.0867433 ,\n",
       "       579.51410342, 392.77738126, 318.88027158, 360.2816107 ,\n",
       "       347.78233521, 533.53752479, 392.64042156, 332.79058325,\n",
       "       334.44842514, 400.26684154, 477.90370294, 448.05072133,\n",
       "       330.10690492, 287.65431428, 572.48432953, 473.25441121,\n",
       "       406.80527569, 344.6774702 , 415.63687839, 369.25621057,\n",
       "       385.81141134, 356.81556302, 288.38766536, 440.73462618,\n",
       "       526.93789741, 477.21337134, 387.61493185, 339.82567239,\n",
       "       368.59884507, 374.39445435, 406.63612448, 572.65309402,\n",
       "       384.64885512, 265.31252585, 340.74765175, 368.0302768 ,\n",
       "       613.72377257, 449.30073231, 412.10101887, 440.850638  ,\n",
       "       352.099556  , 403.24303284, 562.82028505, 531.162161  ,\n",
       "       428.10442624, 425.10136076, 367.18542296, 382.93108777,\n",
       "       379.27684842, 430.62529177, 376.88301584, 494.40440734,\n",
       "       374.57003422, 444.61838111, 449.67067493, 380.13830644,\n",
       "       477.33924869, 523.7768737 , 365.68520066, 397.5452265 ,\n",
       "       373.34919511, 332.4157013 , 447.54462672, 386.42647708,\n",
       "       430.4115605 , 418.52401663, 568.74712455, 371.15879516,\n",
       "       346.05367319, 385.75099853, 398.17115795, 374.93785004,\n",
       "       454.4596995 , 368.90085649, 381.91457672, 399.65546511,\n",
       "       322.72298345, 469.75570029, 413.4708949 , 350.10633519,\n",
       "       382.72085869, 351.03168088, 346.73975217, 419.41380832,\n",
       "       370.11824957, 368.47940439, 343.1656348 , 297.03281364,\n",
       "       393.88775494, 369.89084019, 494.16000741, 462.27948947,\n",
       "       632.2275152 , 328.23420634, 575.80968631, 451.00606806,\n",
       "       346.68578114, 429.15696694, 344.06367017, 437.29898137,\n",
       "       464.93535994, 447.39265835, 468.5377397 , 449.22837371,\n",
       "       419.10705132, 416.07637471, 531.69410285, 364.10332741,\n",
       "       329.62326531, 375.14219606, 398.82177113, 325.6569263 ,\n",
       "       362.67547328, 339.042418  , 361.43014486, 347.09480592,\n",
       "       433.70710252, 497.61615086, 429.13836391, 472.74464272,\n",
       "       420.66277017, 399.08859625, 389.00064437, 453.47481564,\n",
       "       315.81913003, 364.90091293, 436.2708406 , 408.25039729,\n",
       "       364.31187293, 465.74792143, 461.90807165, 414.55887495,\n",
       "       369.65387159, 497.23824092, 435.73644893, 367.0776059 ,\n",
       "       285.15503101, 317.14007916, 433.34621479, 376.59129162,\n",
       "       392.24358029, 566.03655591, 315.86639886, 357.19948759,\n",
       "       368.24278274, 453.44361955, 340.19108781, 393.54575445,\n",
       "       393.30662693, 405.20529837, 378.67022638, 417.59363097,\n",
       "       369.95086228, 518.01046899, 368.06639977, 519.80368873,\n",
       "       461.08744617, 347.60965101, 457.00624075, 379.21902571,\n",
       "       577.80769951, 458.79229851, 441.41151644, 376.47539645,\n",
       "       307.93531064, 508.31870905, 517.51599148, 435.38674081,\n",
       "       316.16513565, 421.9579644 , 614.17060987, 426.63115359,\n",
       "       322.09209247, 366.13825851, 339.84801306, 275.25963602,\n",
       "       340.25343073, 403.2624904 , 539.60064489, 292.27102183,\n",
       "       438.38662278, 541.39998469, 415.62514862, 342.74963594,\n",
       "       413.74945807, 325.1672224 , 438.33606191, 454.39444187,\n",
       "       423.54342042, 392.47383791, 353.03216236, 408.67575216,\n",
       "       394.25220748, 586.56030768, 427.68738198, 406.80034706,\n",
       "       274.80923997, 365.61367546, 387.70714185, 399.52448945,\n",
       "       518.11904147, 415.03658688, 470.79407229, 426.21101499,\n",
       "       439.28777008, 525.26030353, 388.16141813, 356.93662717,\n",
       "       503.62508078, 519.52249946, 560.48397089, 545.26968313,\n",
       "       374.03682673, 524.93561614, 357.9373913 , 367.81320923,\n",
       "       422.18073577, 348.53681228, 486.81951921, 389.66393205,\n",
       "       474.17202816, 330.88533493, 478.54039496, 288.18341968,\n",
       "       400.67003702, 369.03563814, 478.81708308, 346.91907264,\n",
       "       364.38876682, 399.26733859, 403.53070007, 387.6932445 ,\n",
       "       377.65805195, 308.69662771, 378.14509354, 694.25422955,\n",
       "       312.11641842, 451.56077849, 473.91299811, 354.90086514,\n",
       "       461.32179915, 361.68540319, 413.24571345, 405.28180554,\n",
       "       451.99831171, 404.8509249 , 420.01887797, 529.13462753,\n",
       "       366.88218643, 372.16470859, 428.57330515, 375.41830809,\n",
       "       336.19814046, 413.49646644, 334.4177589 , 450.6861771 ,\n",
       "       504.57025418, 366.82270881, 356.48567744, 530.96975053,\n",
       "       362.99956765, 537.63607282, 472.27562262, 430.43639963,\n",
       "       444.69336093, 376.84644489, 428.70015845, 372.13497436,\n",
       "       380.50673879, 376.18100247, 536.77930901, 349.1064756 ,\n",
       "       402.277693  , 482.87100394, 387.44625251, 352.22588903,\n",
       "       440.11259255, 519.7800338 , 494.27796881, 645.96961549,\n",
       "       337.44518408, 503.15370212, 463.7705725 , 322.05649565,\n",
       "       601.94815177, 438.34965239, 510.62992592, 246.39040062,\n",
       "       414.64300172, 536.41643622, 261.60595134, 525.06793598,\n",
       "       432.89111993, 383.75730574, 354.91804836, 486.53622173,\n",
       "       279.47171188, 364.06618582, 443.63239098, 593.90913749,\n",
       "       366.70127957, 372.49889083, 399.33281419, 395.34422101,\n",
       "       343.39988506, 561.51576315, 413.87578947, 510.63396822,\n",
       "       303.8264596 , 411.77987005, 578.66985299, 542.71320015,\n",
       "       429.68812664, 469.77846476, 352.85530981, 403.65427606,\n",
       "       476.58182538, 504.39519962, 463.56639613, 448.51793891,\n",
       "       364.84558301, 663.09397947, 459.08814836, 298.33959483,\n",
       "       410.48058994, 442.17409725, 450.29054945, 466.51620583,\n",
       "       469.18551571, 393.3460089 , 401.18307037, 482.83888961,\n",
       "       353.77076888, 372.44422242, 387.734983  , 314.12830955,\n",
       "       281.02393033, 410.68343758, 498.02834719, 325.20338796,\n",
       "       363.84805215, 362.44164799, 302.66772681, 332.75770163,\n",
       "       357.41101223, 356.72248292, 446.43041265, 444.62389906,\n",
       "       394.23432023, 374.91535028, 379.27721371, 466.25230235,\n",
       "       396.26329546, 437.20448799, 368.78838835, 384.20835685,\n",
       "       427.99113614, 259.68444803, 539.82260462, 351.26182109,\n",
       "       310.09707697, 383.15499807, 453.51390481, 519.53810235,\n",
       "       315.86655657, 548.87476867, 467.78351702, 366.68252017,\n",
       "       431.79725028, 620.02463026, 277.57538138, 469.70306771,\n",
       "       488.31432204, 513.44021138, 344.43350608, 478.68665642,\n",
       "       363.20585531, 382.49280727, 494.97462541, 373.44379799,\n",
       "       366.20744364, 408.29818107, 457.5731375 , 496.21383311,\n",
       "       330.60904786, 381.06838031, 445.67411685, 371.3530066 ,\n",
       "       515.36766955, 267.75690447, 334.6256557 , 502.78952   ,\n",
       "       566.05231939, 388.54349355, 419.04062268, 453.87397049,\n",
       "       397.84927264, 425.92058997, 335.39730689, 428.05278774,\n",
       "       509.03772155, 296.01600945, 329.33959564, 434.17328002,\n",
       "       387.48405014, 484.1540666 , 300.03881169, 574.96712237,\n",
       "       368.02012676, 376.33942768, 342.21014606, 398.40747983,\n",
       "       373.11217862, 507.75855304, 378.68648518, 426.27702853,\n",
       "       407.1097504 , 349.81846862, 382.22329909, 436.16066294,\n",
       "       374.38168003, 618.06279268, 567.99160136, 330.28637468,\n",
       "       455.89351641, 407.53935438, 496.67739073, 465.11841117,\n",
       "       490.1749695 , 552.03965722, 596.6303946 , 298.53538185,\n",
       "       383.04569621, 385.48257843, 306.90873092, 309.60622216,\n",
       "       361.30871114, 353.87865574, 478.32267916, 551.40971462,\n",
       "       358.39488706, 379.43921517, 456.10557364, 346.07672586,\n",
       "       395.3657299 , 335.05447398, 366.730839  , 389.60352879,\n",
       "       365.82857793, 296.33348992, 390.03866783, 391.39966277,\n",
       "       401.87271389, 441.15253708, 275.59517868, 456.6728664 ,\n",
       "       422.84705339, 494.07182225, 368.42952926, 499.1356335 ,\n",
       "       514.33384625, 577.7895089 , 474.90751295, 447.9592014 ,\n",
       "       405.26224343, 357.76460431, 438.79693638, 426.98901698,\n",
       "       502.66664731, 544.92963078, 373.0642238 , 365.55575253,\n",
       "       401.18770377, 400.32147368, 478.57840446, 491.89902793,\n",
       "       441.9411867 , 412.2422265 , 572.40969157, 342.69213163,\n",
       "       340.39551463, 421.48252537, 346.86435262, 477.17740165,\n",
       "       294.18629191, 539.64767713, 482.5791638 , 297.58653094,\n",
       "       450.45201912, 500.31888436, 358.99330168, 362.22783153,\n",
       "       300.70855705, 339.93546781, 342.46035178, 465.57966892,\n",
       "       529.16191866, 593.98145559, 399.50198186, 466.72673722,\n",
       "       382.60988466, 467.21399499, 395.63456384, 313.91258057,\n",
       "       444.89057837, 421.62752076, 441.55780791, 385.57154379,\n",
       "       405.73281093, 383.53502728, 351.84304881, 363.63791269,\n",
       "       310.25815496, 473.0863457 , 351.16564578, 409.7109376 ,\n",
       "       379.73034559, 525.36020717, 327.20720733, 527.53776693,\n",
       "       356.50858479, 367.14805216, 445.63154402, 487.97387094,\n",
       "       449.14761899, 508.08539508, 318.24751034, 327.91911016,\n",
       "       508.23670265, 417.39720757, 337.96844864, 504.69594279,\n",
       "       366.72878452, 535.28073954, 359.2385214 , 287.6448487 ,\n",
       "       406.34647146, 484.84935834, 327.23805703, 501.72399603,\n",
       "       333.04977506, 354.93128253, 320.30321153, 350.90296846,\n",
       "       339.01740997, 388.47062224, 427.46436016, 472.65449968,\n",
       "       344.4690996 , 411.5659706 , 373.7333563 , 395.66426386,\n",
       "       423.60987878, 400.80438336, 370.91724148, 309.68058048,\n",
       "       433.12250531, 488.70332219, 506.0918316 , 456.15738636])"
      ]
     },
     "execution_count": 18,
     "metadata": {},
     "output_type": "execute_result"
    }
   ],
   "source": [
    "test_pred"
   ]
  },
  {
   "cell_type": "markdown",
   "metadata": {},
   "source": [
    "**Test 1 - MAE, MSE, RMSE**"
   ]
  },
  {
   "cell_type": "code",
   "execution_count": 19,
   "metadata": {},
   "outputs": [],
   "source": [
    "from sklearn.metrics import mean_absolute_error,mean_squared_error"
   ]
  },
  {
   "cell_type": "code",
   "execution_count": 20,
   "metadata": {},
   "outputs": [
    {
     "data": {
      "text/plain": [
       "14.461407357428884"
      ]
     },
     "execution_count": 20,
     "metadata": {},
     "output_type": "execute_result"
    }
   ],
   "source": [
    "MAE=mean_absolute_error(y_test,test_pred)\n",
    "\n",
    "MAE"
   ]
  },
  {
   "cell_type": "code",
   "execution_count": 21,
   "metadata": {},
   "outputs": [
    {
     "data": {
      "text/plain": [
       "376.2741760777778"
      ]
     },
     "execution_count": 21,
     "metadata": {},
     "output_type": "execute_result"
    }
   ],
   "source": [
    "MSE = mean_squared_error(y_test,test_pred)\n",
    "\n",
    "MSE"
   ]
  },
  {
   "cell_type": "code",
   "execution_count": 22,
   "metadata": {},
   "outputs": [
    {
     "data": {
      "text/plain": [
       "19.39778791712544"
      ]
     },
     "execution_count": 22,
     "metadata": {},
     "output_type": "execute_result"
    }
   ],
   "source": [
    "RMSE= np.sqrt(MSE)\n",
    "\n",
    "RMSE"
   ]
  },
  {
   "cell_type": "code",
   "execution_count": 23,
   "metadata": {},
   "outputs": [
    {
     "data": {
      "text/plain": [
       "18.508441357913775"
      ]
     },
     "execution_count": 23,
     "metadata": {},
     "output_type": "execute_result"
    }
   ],
   "source": [
    "#predict on train set\n",
    "\n",
    "train_pred=model.predict(x_train)\n",
    "\n",
    "MSE = mean_squared_error(y_train,train_pred)\n",
    "RMSE= np.sqrt(MSE)\n",
    "\n",
    "RMSE"
   ]
  },
  {
   "cell_type": "markdown",
   "metadata": {},
   "source": [
    " If the RMSE for the test set is much higher than that of the training set, it is likely that you've badly over fit the data, i.e. you've created a model that tests well in sample, but has little predictive value when tested out of sample."
   ]
  },
  {
   "cell_type": "code",
   "execution_count": 24,
   "metadata": {
    "scrolled": true
   },
   "outputs": [
    {
     "data": {
      "text/plain": [
       "412.29959220652387"
      ]
     },
     "execution_count": 24,
     "metadata": {},
     "output_type": "execute_result"
    }
   ],
   "source": [
    "df['SalePrice'].mean()"
   ]
  },
  {
   "cell_type": "code",
   "execution_count": 25,
   "metadata": {
    "scrolled": true
   },
   "outputs": [
    {
     "data": {
      "text/plain": [
       "4.489075834118886"
      ]
     },
     "execution_count": 25,
     "metadata": {},
     "output_type": "execute_result"
    }
   ],
   "source": [
    "RMSE*100/df['SalePrice'].mean()"
   ]
  },
  {
   "cell_type": "markdown",
   "metadata": {},
   "source": [
    "4% percent of error percentage for predicting sales price"
   ]
  },
  {
   "cell_type": "markdown",
   "metadata": {},
   "source": [
    "**Test 2 - Residual Plot and Distribution Plot**"
   ]
  },
  {
   "cell_type": "code",
   "execution_count": 26,
   "metadata": {},
   "outputs": [],
   "source": [
    "test_res=y_test-test_pred"
   ]
  },
  {
   "cell_type": "code",
   "execution_count": 27,
   "metadata": {},
   "outputs": [
    {
     "data": {
      "image/png": "[encoded data removed]",
      "text/plain": [
       "<Figure size 432x288 with 1 Axes>"
      ]
     },
     "metadata": {
      "needs_background": "light"
     },
     "output_type": "display_data"
    }
   ],
   "source": [
    "sns.scatterplot(x=y_test,y=test_res)\n",
    "plt.axhline(y=0,color='red',linestyle='--');"
   ]
  },
  {
   "cell_type": "code",
   "execution_count": 28,
   "metadata": {},
   "outputs": [
    {
     "data": {
      "image/png": "[encoded data removed]",
      "text/plain": [
       "<Figure size 432x288 with 1 Axes>"
      ]
     },
     "metadata": {
      "needs_background": "light"
     },
     "output_type": "display_data"
    }
   ],
   "source": [
    "sns.kdeplot(test_res);"
   ]
  },
  {
   "cell_type": "code",
   "execution_count": 29,
   "metadata": {},
   "outputs": [
    {
     "data": {
      "image/png": "[encoded data removed]",
      "text/plain": [
       "<Figure size 360x360 with 1 Axes>"
      ]
     },
     "metadata": {
      "needs_background": "light"
     },
     "output_type": "display_data"
    }
   ],
   "source": [
    "sns.displot(test_res,bins=20,kde=True);"
   ]
  },
  {
   "cell_type": "markdown",
   "metadata": {},
   "source": [
    "**Test 3 - Probability Plot**"
   ]
  },
  {
   "cell_type": "code",
   "execution_count": 30,
   "metadata": {},
   "outputs": [],
   "source": [
    "import scipy as sp"
   ]
  },
  {
   "cell_type": "code",
   "execution_count": 31,
   "metadata": {},
   "outputs": [
    {
     "data": {
      "image/png": "[encoded data removed]",
      "text/plain": [
       "<Figure size 600x800 with 1 Axes>"
      ]
     },
     "metadata": {
      "needs_background": "light"
     },
     "output_type": "display_data"
    }
   ],
   "source": [
    "fig,ax=plt.subplots(figsize=(6,8),dpi=100)\n",
    "\n",
    "_=sp.stats.probplot(test_res,plot=ax)\n"
   ]
  },
  {
   "cell_type": "code",
   "execution_count": 32,
   "metadata": {
    "scrolled": true
   },
   "outputs": [
    {
     "data": {
      "text/plain": [
       "array([ 6.46685871e-02,  4.21699567e-04, -1.16346943e-01,  2.08689832e-01,\n",
       "        8.70766539e+00,  6.85578989e+00,  3.91696933e-01,  2.88826621e-02,\n",
       "        5.18668366e-01, -3.88426328e+00,  4.46223197e-01, -3.88925083e+00,\n",
       "       -6.05329078e-02, -3.55307271e+00,  1.47926890e-02,  1.33491281e-02,\n",
       "       -4.86358687e-03,  2.32782683e-02, -2.01192842e+00, -1.97750898e+00,\n",
       "        1.86033421e-02,  1.77957901e-02,  3.52800465e-03,  3.99271262e-02,\n",
       "        3.96244155e+00,  1.01310723e+00,  4.76176787e+00,  4.65442657e+00,\n",
       "       -2.58314184e+00, -3.89183706e+00, -5.50354198e+00, -1.23896705e-02,\n",
       "        2.40991399e+00, -4.75175922e-01, -3.80435504e-03, -8.80653557e-01,\n",
       "        6.41600977e+00,  5.36974063e-01, -5.32049997e+00,  3.10328047e+00,\n",
       "        1.22840234e-02,  1.07540351e-02,  2.31902946e-02,  1.39883352e-02,\n",
       "        3.46984837e-02, -9.18362744e-03,  3.43563958e-04, -2.22655973e-01,\n",
       "       -8.29497772e-01, -2.92926375e+00,  1.11719998e+01,  3.11740307e+00,\n",
       "        4.65710166e+00, -4.75813013e+00,  3.33809494e+00, -8.25548262e-01,\n",
       "       -1.76606072e+01, -6.71240536e+00, -1.21214338e+01, -2.18873739e+01,\n",
       "       -6.66548703e+01, -3.67209592e+01, -3.58880281e+01, -8.87857581e+00,\n",
       "       -2.12216601e+01, -6.00814878e+00, -1.59071333e+01, -7.18818526e+00,\n",
       "       -1.14287410e+01, -2.10438930e+01,  2.32394113e+01,  4.72312919e+00,\n",
       "       -4.71020759e+00, -1.24390323e+01,  4.17558648e-01, -3.73831813e+01,\n",
       "       -1.18481491e+01,  7.90269377e+00, -8.33259928e-01,  9.90844692e-01,\n",
       "        1.58684208e+01,  1.51393820e+01,  7.05345253e+00,  2.46071700e+00,\n",
       "       -8.26646848e+00,  1.71079178e+01, -1.02914978e+01, -6.75449335e+00,\n",
       "        1.41899939e+01,  9.67788471e+01,  2.97940686e-02,  8.75239299e-01,\n",
       "       -9.71992558e+00, -7.37629517e+00, -5.19517290e+00,  2.68893507e+00,\n",
       "       -1.33880947e+01,  1.38313555e+01,  1.70199761e+01, -4.07139395e+00,\n",
       "       -3.48792016e+00,  1.17397982e-01, -1.14927929e+01,  6.05268021e+00,\n",
       "        2.54772457e+01,  6.60427921e-01,  4.31459843e+00,  3.38920517e+00,\n",
       "        1.30048724e+01,  1.36462167e+01,  2.17633134e+01,  2.05004208e+00,\n",
       "        4.53844652e+00,  4.72055567e+00,  1.24316393e+00,  9.73133498e+00,\n",
       "        1.65344846e+01,  6.55307476e+01,  7.10542736e-15,  7.94792574e+00,\n",
       "        2.13854649e+01,  2.38677594e+01, -1.88227997e+00, -1.21214338e+01,\n",
       "       -3.94300769e+00,  3.18127294e+00,  3.95737575e+00,  5.37922284e+00,\n",
       "       -1.70354189e+01,  6.69483238e+00,  5.27068154e+00,  7.72428626e+00,\n",
       "        1.61131077e+01,  1.50033267e+01,  1.65751462e+01,  1.70220288e+01,\n",
       "        2.94642507e+01,  1.89566752e+00,  4.61092175e+01,  2.90308205e+01,\n",
       "        7.34952416e+00,  2.16720216e+00, -1.67650869e+01,  2.47195428e+01,\n",
       "       -5.47056824e+00, -1.67536925e+01,  2.11843559e+01, -1.21240327e+01,\n",
       "       -1.73839610e+01, -6.71299470e-01, -1.66729259e+01,  9.46142008e+00,\n",
       "        4.06635690e+00, -4.97379915e-14,  1.17408263e+01, -6.23600140e-01,\n",
       "        8.32060619e-01,  1.87260867e+00,  4.97933236e+00,  1.40967209e+01,\n",
       "       -5.93861714e+00,  1.35211678e+01,  3.62476444e+01,  3.56360060e+00,\n",
       "        5.01783668e+00, -8.02176626e-01,  2.13162821e-14,  5.83279748e-01,\n",
       "       -7.10082556e-01, -6.30949174e+00,  6.65056271e+00,  5.18336235e+00,\n",
       "        3.57737871e+00,  1.05122982e+01, -5.45459491e+01,  1.54075090e+01,\n",
       "        1.49017855e+01, -1.87639728e+00,  3.21381189e+00, -3.34616012e+00,\n",
       "        1.25666515e+01, -3.14219071e+00,  1.56880475e+00, -9.56375213e+00,\n",
       "        4.77016823e+00, -6.49926182e+00,  1.25666515e+01, -5.39330207e+00,\n",
       "        2.83715727e-01,  2.99290223e+00,  9.49927173e+00, -2.66900357e+00,\n",
       "       -2.32948687e+01,  1.34716983e+01, -4.07310391e+00, -1.31190567e+00,\n",
       "        1.66118494e+01,  1.27149977e+00,  2.60867044e+00,  3.24476544e+00,\n",
       "        1.37052384e+00, -8.20850967e-01, -2.09720879e+01, -1.33210912e+01,\n",
       "        8.30389858e+00,  6.49264041e+00, -8.98642649e-01, -2.72361757e+01,\n",
       "       -3.31756262e+01,  1.44479587e+01,  8.47234706e+00,  9.10838597e+00,\n",
       "        1.23627521e+01, -1.16816810e-01,  9.55999839e+00,  1.76553296e+01,\n",
       "        7.91026901e-01,  2.91141280e+00,  1.30727946e+01,  3.68017336e+01,\n",
       "        8.58832631e+00,  4.99279879e+00,  1.10927346e+01,  2.64884585e+01,\n",
       "        6.83489682e+00,  0.00000000e+00,  4.88588452e+00,  3.12320262e+01,\n",
       "        1.96833955e+01,  8.34284366e+00,  1.35566810e+01,  1.66617092e+00])"
      ]
     },
     "execution_count": 32,
     "metadata": {},
     "output_type": "execute_result"
    }
   ],
   "source": [
    "model.coef_"
   ]
  },
  {
   "cell_type": "code",
   "execution_count": 33,
   "metadata": {
    "scrolled": true
   },
   "outputs": [
    {
     "data": {
      "text/plain": [
       "232"
      ]
     },
     "execution_count": 33,
     "metadata": {},
     "output_type": "execute_result"
    }
   ],
   "source": [
    "len(model.coef_)"
   ]
  },
  {
   "cell_type": "markdown",
   "metadata": {},
   "source": [
    "# regulate with RidgeCV"
   ]
  },
  {
   "cell_type": "code",
   "execution_count": 34,
   "metadata": {},
   "outputs": [],
   "source": [
    "from sklearn.preprocessing import StandardScaler"
   ]
  },
  {
   "cell_type": "code",
   "execution_count": 35,
   "metadata": {},
   "outputs": [],
   "source": [
    "scaler=StandardScaler()"
   ]
  },
  {
   "cell_type": "code",
   "execution_count": 36,
   "metadata": {},
   "outputs": [
    {
     "data": {
      "text/html": [
       "<div>\n",
       "<style scoped>\n",
       "    .dataframe tbody tr th:only-of-type {\n",
       "        vertical-align: middle;\n",
       "    }\n",
       "\n",
       "    .dataframe tbody tr th {\n",
       "        vertical-align: top;\n",
       "    }\n",
       "\n",
       "    .dataframe thead th {\n",
       "        text-align: right;\n",
       "    }\n",
       "</style>\n",
       "<table border=\"1\" class=\"dataframe\">\n",
       "  <thead>\n",
       "    <tr style=\"text-align: right;\">\n",
       "      <th></th>\n",
       "      <th>Lot Frontage</th>\n",
       "      <th>Lot Area</th>\n",
       "      <th>Lot Shape</th>\n",
       "      <th>Land Slope</th>\n",
       "      <th>Overall Qual</th>\n",
       "      <th>Overall Cond</th>\n",
       "      <th>Year Built</th>\n",
       "      <th>Year Remod/Add</th>\n",
       "      <th>Mas Vnr Area</th>\n",
       "      <th>Exter Qual</th>\n",
       "      <th>...</th>\n",
       "      <th>SaleType_ConLw</th>\n",
       "      <th>SaleType_New</th>\n",
       "      <th>SaleType_Oth</th>\n",
       "      <th>SaleType_VWD</th>\n",
       "      <th>SaleType_WD</th>\n",
       "      <th>SaleCond_AdjLand</th>\n",
       "      <th>SaleCond_Alloca</th>\n",
       "      <th>SaleCond_Family</th>\n",
       "      <th>SaleCond_Normal</th>\n",
       "      <th>SaleCond_Partial</th>\n",
       "    </tr>\n",
       "  </thead>\n",
       "  <tbody>\n",
       "    <tr>\n",
       "      <th>759</th>\n",
       "      <td>64.391813</td>\n",
       "      <td>17140</td>\n",
       "      <td>0</td>\n",
       "      <td>0</td>\n",
       "      <td>4</td>\n",
       "      <td>6</td>\n",
       "      <td>1956</td>\n",
       "      <td>1956</td>\n",
       "      <td>0.000000</td>\n",
       "      <td>2</td>\n",
       "      <td>...</td>\n",
       "      <td>0</td>\n",
       "      <td>0</td>\n",
       "      <td>0</td>\n",
       "      <td>0</td>\n",
       "      <td>1</td>\n",
       "      <td>0</td>\n",
       "      <td>0</td>\n",
       "      <td>0</td>\n",
       "      <td>1</td>\n",
       "      <td>0</td>\n",
       "    </tr>\n",
       "    <tr>\n",
       "      <th>660</th>\n",
       "      <td>70.000000</td>\n",
       "      <td>7560</td>\n",
       "      <td>0</td>\n",
       "      <td>0</td>\n",
       "      <td>5</td>\n",
       "      <td>6</td>\n",
       "      <td>1958</td>\n",
       "      <td>1965</td>\n",
       "      <td>0.000000</td>\n",
       "      <td>2</td>\n",
       "      <td>...</td>\n",
       "      <td>0</td>\n",
       "      <td>0</td>\n",
       "      <td>0</td>\n",
       "      <td>0</td>\n",
       "      <td>0</td>\n",
       "      <td>0</td>\n",
       "      <td>0</td>\n",
       "      <td>0</td>\n",
       "      <td>0</td>\n",
       "      <td>0</td>\n",
       "    </tr>\n",
       "    <tr>\n",
       "      <th>1896</th>\n",
       "      <td>60.000000</td>\n",
       "      <td>7200</td>\n",
       "      <td>0</td>\n",
       "      <td>0</td>\n",
       "      <td>5</td>\n",
       "      <td>3</td>\n",
       "      <td>1950</td>\n",
       "      <td>1950</td>\n",
       "      <td>0.000000</td>\n",
       "      <td>2</td>\n",
       "      <td>...</td>\n",
       "      <td>0</td>\n",
       "      <td>0</td>\n",
       "      <td>0</td>\n",
       "      <td>0</td>\n",
       "      <td>1</td>\n",
       "      <td>0</td>\n",
       "      <td>0</td>\n",
       "      <td>0</td>\n",
       "      <td>1</td>\n",
       "      <td>0</td>\n",
       "    </tr>\n",
       "    <tr>\n",
       "      <th>1943</th>\n",
       "      <td>98.000000</td>\n",
       "      <td>8731</td>\n",
       "      <td>1</td>\n",
       "      <td>0</td>\n",
       "      <td>5</td>\n",
       "      <td>5</td>\n",
       "      <td>1920</td>\n",
       "      <td>1950</td>\n",
       "      <td>0.000000</td>\n",
       "      <td>2</td>\n",
       "      <td>...</td>\n",
       "      <td>0</td>\n",
       "      <td>0</td>\n",
       "      <td>0</td>\n",
       "      <td>0</td>\n",
       "      <td>1</td>\n",
       "      <td>0</td>\n",
       "      <td>0</td>\n",
       "      <td>0</td>\n",
       "      <td>1</td>\n",
       "      <td>0</td>\n",
       "    </tr>\n",
       "    <tr>\n",
       "      <th>38</th>\n",
       "      <td>94.000000</td>\n",
       "      <td>12883</td>\n",
       "      <td>1</td>\n",
       "      <td>0</td>\n",
       "      <td>8</td>\n",
       "      <td>5</td>\n",
       "      <td>2009</td>\n",
       "      <td>2010</td>\n",
       "      <td>16.000000</td>\n",
       "      <td>1</td>\n",
       "      <td>...</td>\n",
       "      <td>0</td>\n",
       "      <td>1</td>\n",
       "      <td>0</td>\n",
       "      <td>0</td>\n",
       "      <td>0</td>\n",
       "      <td>0</td>\n",
       "      <td>0</td>\n",
       "      <td>0</td>\n",
       "      <td>0</td>\n",
       "      <td>1</td>\n",
       "    </tr>\n",
       "    <tr>\n",
       "      <th>...</th>\n",
       "      <td>...</td>\n",
       "      <td>...</td>\n",
       "      <td>...</td>\n",
       "      <td>...</td>\n",
       "      <td>...</td>\n",
       "      <td>...</td>\n",
       "      <td>...</td>\n",
       "      <td>...</td>\n",
       "      <td>...</td>\n",
       "      <td>...</td>\n",
       "      <td>...</td>\n",
       "      <td>...</td>\n",
       "      <td>...</td>\n",
       "      <td>...</td>\n",
       "      <td>...</td>\n",
       "      <td>...</td>\n",
       "      <td>...</td>\n",
       "      <td>...</td>\n",
       "      <td>...</td>\n",
       "      <td>...</td>\n",
       "      <td>...</td>\n",
       "    </tr>\n",
       "    <tr>\n",
       "      <th>599</th>\n",
       "      <td>80.000000</td>\n",
       "      <td>9600</td>\n",
       "      <td>0</td>\n",
       "      <td>0</td>\n",
       "      <td>6</td>\n",
       "      <td>8</td>\n",
       "      <td>1950</td>\n",
       "      <td>2005</td>\n",
       "      <td>0.000000</td>\n",
       "      <td>2</td>\n",
       "      <td>...</td>\n",
       "      <td>0</td>\n",
       "      <td>0</td>\n",
       "      <td>0</td>\n",
       "      <td>0</td>\n",
       "      <td>1</td>\n",
       "      <td>0</td>\n",
       "      <td>0</td>\n",
       "      <td>0</td>\n",
       "      <td>1</td>\n",
       "      <td>0</td>\n",
       "    </tr>\n",
       "    <tr>\n",
       "      <th>1599</th>\n",
       "      <td>81.535714</td>\n",
       "      <td>12046</td>\n",
       "      <td>1</td>\n",
       "      <td>0</td>\n",
       "      <td>6</td>\n",
       "      <td>6</td>\n",
       "      <td>1976</td>\n",
       "      <td>1976</td>\n",
       "      <td>17.262677</td>\n",
       "      <td>2</td>\n",
       "      <td>...</td>\n",
       "      <td>0</td>\n",
       "      <td>0</td>\n",
       "      <td>0</td>\n",
       "      <td>0</td>\n",
       "      <td>1</td>\n",
       "      <td>0</td>\n",
       "      <td>0</td>\n",
       "      <td>0</td>\n",
       "      <td>1</td>\n",
       "      <td>0</td>\n",
       "    </tr>\n",
       "    <tr>\n",
       "      <th>1361</th>\n",
       "      <td>85.176471</td>\n",
       "      <td>10532</td>\n",
       "      <td>0</td>\n",
       "      <td>0</td>\n",
       "      <td>5</td>\n",
       "      <td>3</td>\n",
       "      <td>1960</td>\n",
       "      <td>1960</td>\n",
       "      <td>16.583124</td>\n",
       "      <td>2</td>\n",
       "      <td>...</td>\n",
       "      <td>0</td>\n",
       "      <td>0</td>\n",
       "      <td>0</td>\n",
       "      <td>0</td>\n",
       "      <td>1</td>\n",
       "      <td>0</td>\n",
       "      <td>0</td>\n",
       "      <td>0</td>\n",
       "      <td>0</td>\n",
       "      <td>0</td>\n",
       "    </tr>\n",
       "    <tr>\n",
       "      <th>1547</th>\n",
       "      <td>25.606061</td>\n",
       "      <td>2665</td>\n",
       "      <td>0</td>\n",
       "      <td>0</td>\n",
       "      <td>5</td>\n",
       "      <td>6</td>\n",
       "      <td>1976</td>\n",
       "      <td>1976</td>\n",
       "      <td>0.000000</td>\n",
       "      <td>2</td>\n",
       "      <td>...</td>\n",
       "      <td>0</td>\n",
       "      <td>0</td>\n",
       "      <td>0</td>\n",
       "      <td>0</td>\n",
       "      <td>1</td>\n",
       "      <td>0</td>\n",
       "      <td>0</td>\n",
       "      <td>0</td>\n",
       "      <td>1</td>\n",
       "      <td>0</td>\n",
       "    </tr>\n",
       "    <tr>\n",
       "      <th>863</th>\n",
       "      <td>64.000000</td>\n",
       "      <td>7301</td>\n",
       "      <td>0</td>\n",
       "      <td>0</td>\n",
       "      <td>7</td>\n",
       "      <td>5</td>\n",
       "      <td>2003</td>\n",
       "      <td>2003</td>\n",
       "      <td>22.360680</td>\n",
       "      <td>1</td>\n",
       "      <td>...</td>\n",
       "      <td>0</td>\n",
       "      <td>0</td>\n",
       "      <td>0</td>\n",
       "      <td>0</td>\n",
       "      <td>0</td>\n",
       "      <td>0</td>\n",
       "      <td>0</td>\n",
       "      <td>0</td>\n",
       "      <td>1</td>\n",
       "      <td>0</td>\n",
       "    </tr>\n",
       "  </tbody>\n",
       "</table>\n",
       "<p>1987 rows × 232 columns</p>\n",
       "</div>"
      ],
      "text/plain": [
       "      Lot Frontage  Lot Area  Lot Shape  Land Slope  Overall Qual  \\\n",
       "759      64.391813     17140          0           0             4   \n",
       "660      70.000000      7560          0           0             5   \n",
       "1896     60.000000      7200          0           0             5   \n",
       "1943     98.000000      8731          1           0             5   \n",
       "38       94.000000     12883          1           0             8   \n",
       "...            ...       ...        ...         ...           ...   \n",
       "599      80.000000      9600          0           0             6   \n",
       "1599     81.535714     12046          1           0             6   \n",
       "1361     85.176471     10532          0           0             5   \n",
       "1547     25.606061      2665          0           0             5   \n",
       "863      64.000000      7301          0           0             7   \n",
       "\n",
       "      Overall Cond  Year Built  Year Remod/Add  Mas Vnr Area  Exter Qual  ...  \\\n",
       "759              6        1956            1956      0.000000           2  ...   \n",
       "660              6        1958            1965      0.000000           2  ...   \n",
       "1896             3        1950            1950      0.000000           2  ...   \n",
       "1943             5        1920            1950      0.000000           2  ...   \n",
       "38               5        2009            2010     16.000000           1  ...   \n",
       "...            ...         ...             ...           ...         ...  ...   \n",
       "599              8        1950            2005      0.000000           2  ...   \n",
       "1599             6        1976            1976     17.262677           2  ...   \n",
       "1361             3        1960            1960     16.583124           2  ...   \n",
       "1547             6        1976            1976      0.000000           2  ...   \n",
       "863              5        2003            2003     22.360680           1  ...   \n",
       "\n",
       "      SaleType_ConLw  SaleType_New  SaleType_Oth  SaleType_VWD  SaleType_WD   \\\n",
       "759                0             0             0             0             1   \n",
       "660                0             0             0             0             0   \n",
       "1896               0             0             0             0             1   \n",
       "1943               0             0             0             0             1   \n",
       "38                 0             1             0             0             0   \n",
       "...              ...           ...           ...           ...           ...   \n",
       "599                0             0             0             0             1   \n",
       "1599               0             0             0             0             1   \n",
       "1361               0             0             0             0             1   \n",
       "1547               0             0             0             0             1   \n",
       "863                0             0             0             0             0   \n",
       "\n",
       "      SaleCond_AdjLand  SaleCond_Alloca  SaleCond_Family  SaleCond_Normal  \\\n",
       "759                  0                0                0                1   \n",
       "660                  0                0                0                0   \n",
       "1896                 0                0                0                1   \n",
       "1943                 0                0                0                1   \n",
       "38                   0                0                0                0   \n",
       "...                ...              ...              ...              ...   \n",
       "599                  0                0                0                1   \n",
       "1599                 0                0                0                1   \n",
       "1361                 0                0                0                0   \n",
       "1547                 0                0                0                1   \n",
       "863                  0                0                0                1   \n",
       "\n",
       "      SaleCond_Partial  \n",
       "759                  0  \n",
       "660                  0  \n",
       "1896                 0  \n",
       "1943                 0  \n",
       "38                   1  \n",
       "...                ...  \n",
       "599                  0  \n",
       "1599                 0  \n",
       "1361                 0  \n",
       "1547                 0  \n",
       "863                  0  \n",
       "\n",
       "[1987 rows x 232 columns]"
      ]
     },
     "execution_count": 36,
     "metadata": {},
     "output_type": "execute_result"
    }
   ],
   "source": [
    "x_train"
   ]
  },
  {
   "cell_type": "code",
   "execution_count": 37,
   "metadata": {},
   "outputs": [
    {
     "data": {
      "text/plain": [
       "StandardScaler()"
      ]
     },
     "execution_count": 37,
     "metadata": {},
     "output_type": "execute_result"
    }
   ],
   "source": [
    "scaler.fit(x_train)"
   ]
  },
  {
   "cell_type": "code",
   "execution_count": 38,
   "metadata": {},
   "outputs": [],
   "source": [
    "x_train=scaler.transform(x_train)"
   ]
  },
  {
   "cell_type": "code",
   "execution_count": 39,
   "metadata": {},
   "outputs": [],
   "source": [
    "x_test=scaler.transform(x_test)"
   ]
  },
  {
   "cell_type": "code",
   "execution_count": 40,
   "metadata": {},
   "outputs": [
    {
     "data": {
      "text/plain": [
       "array([[-0.21786688,  0.99760455, -0.69164036, ..., -0.13390417,\n",
       "         0.45998409, -0.28883249],\n",
       "       [ 0.04596809, -0.31594394, -0.69164036, ..., -0.13390417,\n",
       "        -2.17398822, -0.28883249],\n",
       "       [-0.424478  , -0.36530484, -0.69164036, ..., -0.13390417,\n",
       "         0.45998409, -0.28883249],\n",
       "       ...,\n",
       "       [ 0.75993921,  0.09155774, -0.69164036, ..., -0.13390417,\n",
       "        -2.17398822, -0.28883249],\n",
       "       [-2.04252743, -0.98711511, -0.69164036, ..., -0.13390417,\n",
       "         0.45998409, -0.28883249],\n",
       "       [-0.23629956, -0.35145637, -0.69164036, ..., -0.13390417,\n",
       "         0.45998409, -0.28883249]])"
      ]
     },
     "execution_count": 40,
     "metadata": {},
     "output_type": "execute_result"
    }
   ],
   "source": [
    "x_train"
   ]
  },
  {
   "cell_type": "code",
   "execution_count": 41,
   "metadata": {},
   "outputs": [],
   "source": [
    "from sklearn.linear_model import RidgeCV"
   ]
  },
  {
   "cell_type": "code",
   "execution_count": 42,
   "metadata": {},
   "outputs": [],
   "source": [
    "ridge_cv_model=RidgeCV(alphas=(0.1,1.0,10.0),scoring='neg_mean_absolute_error')"
   ]
  },
  {
   "cell_type": "code",
   "execution_count": 43,
   "metadata": {},
   "outputs": [
    {
     "data": {
      "text/plain": [
       "RidgeCV(alphas=array([ 0.1,  1. , 10. ]), scoring='neg_mean_absolute_error')"
      ]
     },
     "execution_count": 43,
     "metadata": {},
     "output_type": "execute_result"
    }
   ],
   "source": [
    "ridge_cv_model.fit(x_train,y_train)"
   ]
  },
  {
   "cell_type": "code",
   "execution_count": 44,
   "metadata": {},
   "outputs": [
    {
     "data": {
      "text/plain": [
       "10.0"
      ]
     },
     "execution_count": 44,
     "metadata": {},
     "output_type": "execute_result"
    }
   ],
   "source": [
    "ridge_cv_model.alpha_"
   ]
  },
  {
   "cell_type": "code",
   "execution_count": 45,
   "metadata": {},
   "outputs": [],
   "source": [
    "test_pred=ridge_cv_model.predict(x_test)"
   ]
  },
  {
   "cell_type": "code",
   "execution_count": 46,
   "metadata": {},
   "outputs": [
    {
     "data": {
      "text/plain": [
       "14.427293074894543"
      ]
     },
     "execution_count": 46,
     "metadata": {},
     "output_type": "execute_result"
    }
   ],
   "source": [
    "MAE=mean_absolute_error(y_test,test_pred)\n",
    "MAE"
   ]
  },
  {
   "cell_type": "code",
   "execution_count": 47,
   "metadata": {},
   "outputs": [
    {
     "data": {
      "text/plain": [
       "373.998281789092"
      ]
     },
     "execution_count": 47,
     "metadata": {},
     "output_type": "execute_result"
    }
   ],
   "source": [
    "MSE=mean_squared_error(y_test,test_pred)\n",
    "MSE"
   ]
  },
  {
   "cell_type": "code",
   "execution_count": 48,
   "metadata": {},
   "outputs": [
    {
     "data": {
      "text/plain": [
       "19.33903518247723"
      ]
     },
     "execution_count": 48,
     "metadata": {},
     "output_type": "execute_result"
    }
   ],
   "source": [
    "RMSE=np.sqrt(MSE)\n",
    "RMSE"
   ]
  },
  {
   "cell_type": "code",
   "execution_count": 49,
   "metadata": {},
   "outputs": [
    {
     "data": {
      "text/plain": [
       "13.480188302330532"
      ]
     },
     "execution_count": 49,
     "metadata": {},
     "output_type": "execute_result"
    }
   ],
   "source": [
    "# test on train set\n",
    "\n",
    "train_pred=ridge_cv_model.predict(x_train)\n",
    "MAE=mean_absolute_error(y_train,train_pred)\n",
    "MAE"
   ]
  },
  {
   "cell_type": "code",
   "execution_count": 50,
   "metadata": {
    "scrolled": true
   },
   "outputs": [
    {
     "data": {
      "text/plain": [
       "4.690529786599974"
      ]
     },
     "execution_count": 50,
     "metadata": {},
     "output_type": "execute_result"
    }
   ],
   "source": [
    "RMSE*100/df['SalePrice'].mean()"
   ]
  },
  {
   "cell_type": "markdown",
   "metadata": {},
   "source": [
    "5% percent of error percentage for predicting sales price"
   ]
  },
  {
   "cell_type": "markdown",
   "metadata": {},
   "source": [
    "**Test 2 - Residual Plot and Distribution Plot**"
   ]
  },
  {
   "cell_type": "code",
   "execution_count": 51,
   "metadata": {},
   "outputs": [],
   "source": [
    "test_res=y_test-test_pred"
   ]
  },
  {
   "cell_type": "code",
   "execution_count": 52,
   "metadata": {},
   "outputs": [
    {
     "data": {
      "image/png": "[encoded data removed]",
      "text/plain": [
       "<Figure size 432x288 with 1 Axes>"
      ]
     },
     "metadata": {
      "needs_background": "light"
     },
     "output_type": "display_data"
    }
   ],
   "source": [
    "sns.scatterplot(x=y_test,y=test_res)\n",
    "plt.axhline(y=0,color='red',linestyle='--');"
   ]
  },
  {
   "cell_type": "code",
   "execution_count": 53,
   "metadata": {},
   "outputs": [
    {
     "data": {
      "image/png": "[encoded data removed]",
      "text/plain": [
       "<Figure size 432x288 with 1 Axes>"
      ]
     },
     "metadata": {
      "needs_background": "light"
     },
     "output_type": "display_data"
    }
   ],
   "source": [
    "sns.kdeplot(test_res);"
   ]
  },
  {
   "cell_type": "code",
   "execution_count": 54,
   "metadata": {},
   "outputs": [
    {
     "data": {
      "image/png": "[encoded data removed]",
      "text/plain": [
       "<Figure size 360x360 with 1 Axes>"
      ]
     },
     "metadata": {
      "needs_background": "light"
     },
     "output_type": "display_data"
    }
   ],
   "source": [
    "sns.displot(test_res,bins=20,kde=True);"
   ]
  },
  {
   "cell_type": "markdown",
   "metadata": {},
   "source": [
    "**Test 3 - Probability Plot**"
   ]
  },
  {
   "cell_type": "code",
   "execution_count": 55,
   "metadata": {},
   "outputs": [],
   "source": [
    "import scipy as sp"
   ]
  },
  {
   "cell_type": "code",
   "execution_count": 56,
   "metadata": {},
   "outputs": [
    {
     "data": {
      "image/png": "[encoded data removed]",
      "text/plain": [
       "<Figure size 600x800 with 1 Axes>"
      ]
     },
     "metadata": {
      "needs_background": "light"
     },
     "output_type": "display_data"
    }
   ],
   "source": [
    "fig,ax=plt.subplots(figsize=(6,8),dpi=100)\n",
    "\n",
    "_=sp.stats.probplot(test_res,plot=ax)\n"
   ]
  },
  {
   "cell_type": "code",
   "execution_count": 57,
   "metadata": {
    "scrolled": true
   },
   "outputs": [
    {
     "data": {
      "text/plain": [
       "array([ 1.37983719e+00,  3.07900329e+00,  3.65273110e-03,  2.58967492e-02,\n",
       "        1.18960695e+01,  7.57566009e+00,  1.10446806e+01,  7.55686248e-01,\n",
       "        3.73940737e+00, -2.29808394e+00,  1.49604820e-01, -3.68789814e+00,\n",
       "       -9.37199459e-02, -3.73432274e+00,  7.39241303e+00,  2.54277753e+00,\n",
       "       -8.28290097e-01,  8.02982640e+00, -1.95082642e+00, -5.25320065e-01,\n",
       "        8.41373836e+00,  9.53905736e+00,  3.52900732e-01,  1.50595591e+01,\n",
       "        2.04205616e+00,  1.88845551e-01,  2.66729542e+00,  2.40874896e+00,\n",
       "       -2.06086450e+00, -9.05261843e-01, -3.57486345e+00,  2.09906132e-01,\n",
       "        1.58179335e+00, -9.25335742e-01, -1.77930046e+00, -7.79152646e-01,\n",
       "        4.76863817e+00,  3.36742283e+00, -3.19391621e+00,  1.79061979e+00,\n",
       "        1.51198703e+00,  7.46365936e-01,  1.49226812e+00,  3.29395703e-01,\n",
       "        1.90264189e+00, -2.60973515e-01,  1.89306237e-01, -6.23594034e-01,\n",
       "       -1.05735387e+00, -7.14374240e-01,  3.98862214e-01,  1.37655982e-01,\n",
       "        1.07179291e+00, -1.35742470e+00,  7.48586507e-01,  7.20673307e-03,\n",
       "       -2.66740996e+00, -6.61903818e-01, -2.21752103e+00, -4.19776693e+00,\n",
       "       -1.32876637e+00, -6.19085222e+00, -2.15235798e+00, -1.28374347e+00,\n",
       "       -7.28758270e-01,  1.49786079e+00, -8.21358161e-02,  5.89315409e-01,\n",
       "        7.27144393e-01, -2.81887342e+00,  1.66605986e+00,  1.05287762e+00,\n",
       "       -8.85717133e-01, -8.74985243e-01,  2.32557067e-01, -7.63720579e-01,\n",
       "       -3.74139165e-01,  1.58361995e+00, -8.10681799e-02,  3.09658154e-01,\n",
       "        9.41076682e-01,  1.52734139e+00,  1.39270866e+00,  2.29736125e-01,\n",
       "       -2.08628555e+00,  3.14360575e+00, -2.47127788e+00, -1.38560493e+00,\n",
       "        8.22643905e-01,  2.18415555e+00,  4.80558353e-02,  2.46271447e-02,\n",
       "       -1.17704777e+00, -1.25043563e+00, -1.63539063e+00,  3.30328133e-01,\n",
       "       -2.58129733e+00,  2.17776576e+00,  4.03229009e+00, -1.11687052e+00,\n",
       "       -3.82776703e-01,  1.19034291e-01, -2.06359807e+00,  1.65181343e+00,\n",
       "        3.13023747e+00,  2.61142025e-01,  3.92294261e-01,  6.84635760e-01,\n",
       "        4.30926772e+00,  9.73868739e-01,  2.19780027e+00,  1.44730245e-01,\n",
       "        5.20530924e-01,  2.20367593e-01,  4.41368748e-02,  5.95558672e-01,\n",
       "        1.41807436e+00,  1.44383812e+00,  0.00000000e+00,  9.20018501e-02,\n",
       "        4.39737958e-01,  5.13123555e-01, -2.88019977e-01, -2.21752103e+00,\n",
       "       -1.75051324e+00, -6.14193366e-01,  3.56264926e-01,  1.96356472e+00,\n",
       "       -9.92843766e-01,  3.62456886e-01,  1.57777240e+00,  8.62819957e-01,\n",
       "        2.26284973e+00,  2.93992762e+00,  7.57121640e-01,  3.61632496e+00,\n",
       "        1.25894795e+00, -2.02055539e-01,  8.91301145e-01,  5.09822719e-01,\n",
       "        1.66703756e-01, -1.62642582e-01, -6.76118415e-01,  9.92972364e-01,\n",
       "       -1.39973396e-01, -7.20900978e-01,  3.35945075e+00, -1.45991791e-01,\n",
       "       -2.12673056e+00, -4.46754207e-02, -3.54603993e-01,  3.17616999e+00,\n",
       "        1.17225594e+00,  0.00000000e+00,  1.53437263e+00,  3.91434421e-02,\n",
       "        4.47669774e-01,  3.33883083e-01,  1.65888613e-01,  1.13539538e+00,\n",
       "       -8.19860584e-01,  3.52850889e-01,  5.59616559e+00,  5.68506689e-01,\n",
       "        2.31248424e-01, -5.37991631e-01,  0.00000000e+00, -3.68172126e-01,\n",
       "       -1.01286162e-01, -1.02220152e+00,  2.21555492e+00,  1.12021286e+00,\n",
       "        2.59408632e-01,  3.42204698e+00, -1.30509252e+00,  5.77809046e+00,\n",
       "        3.14719443e+00, -5.85971899e-01,  1.43972188e+00, -8.18036428e-01,\n",
       "        2.14246567e+00, -9.96525180e-01,  6.33005807e-01, -1.42384336e+00,\n",
       "        5.09492061e-01, -1.13746593e+00,  2.14246567e+00, -9.90148989e-01,\n",
       "        4.23052618e-02, -2.25120793e-01,  4.91263229e-01, -4.48612259e-01,\n",
       "       -6.17235343e-01,  4.02296353e-01, -5.30602496e-01, -9.55639937e-02,\n",
       "        3.48142205e-01,  3.09476254e-01,  1.38816737e+00,  1.76990240e+00,\n",
       "        2.14248534e-01, -3.22861504e-02, -7.67432880e-01, -8.23775724e-01,\n",
       "        1.05404337e+00,  9.21582757e-01, -1.65175450e-01, -6.50926572e-01,\n",
       "       -1.15772103e+00,  3.51130979e+00,  2.78563818e+00,  6.08512833e-01,\n",
       "        2.36506135e+00, -3.09352524e-01,  2.95483653e+00,  2.98154428e+00,\n",
       "        1.11258442e-01,  8.98453837e-01,  8.70243909e-01,  1.78414332e+00,\n",
       "        7.22943311e-01,  2.80956751e-01,  5.15345375e-01,  6.02853850e+00,\n",
       "        3.41984164e-01,  0.00000000e+00,  1.45711670e+00,  1.91695527e+00,\n",
       "        1.81077857e+00,  1.06976620e+00,  5.13551860e+00,  1.25652064e+00])"
      ]
     },
     "execution_count": 57,
     "metadata": {},
     "output_type": "execute_result"
    }
   ],
   "source": [
    "ridge_cv_model.coef_"
   ]
  },
  {
   "cell_type": "code",
   "execution_count": 58,
   "metadata": {},
   "outputs": [
    {
     "data": {
      "text/plain": [
       "(1987, 232)"
      ]
     },
     "execution_count": 58,
     "metadata": {},
     "output_type": "execute_result"
    }
   ],
   "source": [
    "x_train.shape"
   ]
  },
  {
   "cell_type": "code",
   "execution_count": 59,
   "metadata": {},
   "outputs": [],
   "source": [
    "## alpha - learning rate\n",
    "\n",
    "## weighted - bias"
   ]
  },
  {
   "cell_type": "markdown",
   "metadata": {},
   "source": [
    "## POLYNOMIAL REGRESSION"
   ]
  },
  {
   "cell_type": "code",
   "execution_count": 60,
   "metadata": {},
   "outputs": [],
   "source": [
    "from sklearn.preprocessing import PolynomialFeatures"
   ]
  },
  {
   "cell_type": "code",
   "execution_count": 61,
   "metadata": {},
   "outputs": [],
   "source": [
    "polynomial_converter=PolynomialFeatures(degree=2,include_bias=False)"
   ]
  },
  {
   "cell_type": "code",
   "execution_count": 62,
   "metadata": {},
   "outputs": [],
   "source": [
    "poly_features=polynomial_converter.fit_transform(x)"
   ]
  },
  {
   "cell_type": "code",
   "execution_count": 63,
   "metadata": {},
   "outputs": [
    {
     "data": {
      "text/plain": [
       "(2839, 232)"
      ]
     },
     "execution_count": 63,
     "metadata": {},
     "output_type": "execute_result"
    }
   ],
   "source": [
    "x.shape"
   ]
  },
  {
   "cell_type": "code",
   "execution_count": 64,
   "metadata": {},
   "outputs": [
    {
     "data": {
      "text/plain": [
       "(2839, 27260)"
      ]
     },
     "execution_count": 64,
     "metadata": {},
     "output_type": "execute_result"
    }
   ],
   "source": [
    "poly_features.shape"
   ]
  },
  {
   "cell_type": "markdown",
   "metadata": {},
   "source": [
    "**Train|Test Split**"
   ]
  },
  {
   "cell_type": "code",
   "execution_count": 65,
   "metadata": {},
   "outputs": [],
   "source": [
    "from sklearn.model_selection import train_test_split"
   ]
  },
  {
   "cell_type": "code",
   "execution_count": 66,
   "metadata": {},
   "outputs": [],
   "source": [
    "x_train,x_test,y_train,y_test=train_test_split(poly_features,y,test_size=0.3,random_state=101)"
   ]
  },
  {
   "cell_type": "code",
   "execution_count": 67,
   "metadata": {},
   "outputs": [],
   "source": [
    "from sklearn.linear_model import LinearRegression"
   ]
  },
  {
   "cell_type": "code",
   "execution_count": 68,
   "metadata": {},
   "outputs": [],
   "source": [
    "model=LinearRegression(fit_intercept=True)"
   ]
  },
  {
   "cell_type": "code",
   "execution_count": 69,
   "metadata": {},
   "outputs": [
    {
     "data": {
      "text/plain": [
       "LinearRegression()"
      ]
     },
     "execution_count": 69,
     "metadata": {},
     "output_type": "execute_result"
    }
   ],
   "source": [
    "model.fit(x_train,y_train)"
   ]
  },
  {
   "cell_type": "code",
   "execution_count": 70,
   "metadata": {},
   "outputs": [],
   "source": [
    "from sklearn.metrics import mean_absolute_error,mean_squared_error"
   ]
  },
  {
   "cell_type": "code",
   "execution_count": 71,
   "metadata": {},
   "outputs": [],
   "source": [
    "test_pred=model.predict(x_test)"
   ]
  },
  {
   "cell_type": "code",
   "execution_count": 72,
   "metadata": {},
   "outputs": [
    {
     "data": {
      "text/plain": [
       "199.99690524384806"
      ]
     },
     "execution_count": 72,
     "metadata": {},
     "output_type": "execute_result"
    }
   ],
   "source": [
    "MAE=mean_absolute_error(y_test,test_pred)\n",
    "\n",
    "MAE"
   ]
  },
  {
   "cell_type": "code",
   "execution_count": 73,
   "metadata": {},
   "outputs": [
    {
     "data": {
      "text/plain": [
       "199713.59398130883"
      ]
     },
     "execution_count": 73,
     "metadata": {},
     "output_type": "execute_result"
    }
   ],
   "source": [
    "MSE = mean_squared_error(y_test,test_pred)\n",
    "\n",
    "MSE"
   ]
  },
  {
   "cell_type": "code",
   "execution_count": 74,
   "metadata": {},
   "outputs": [
    {
     "data": {
      "text/plain": [
       "446.8932691161379"
      ]
     },
     "execution_count": 74,
     "metadata": {},
     "output_type": "execute_result"
    }
   ],
   "source": [
    "RMSE=np.sqrt(MSE)\n",
    "\n",
    "RMSE"
   ]
  },
  {
   "cell_type": "code",
   "execution_count": 75,
   "metadata": {},
   "outputs": [
    {
     "data": {
      "text/plain": [
       "412.29959220652387"
      ]
     },
     "execution_count": 75,
     "metadata": {},
     "output_type": "execute_result"
    }
   ],
   "source": [
    "df['SalePrice'].mean()"
   ]
  },
  {
   "cell_type": "code",
   "execution_count": 76,
   "metadata": {},
   "outputs": [
    {
     "data": {
      "text/plain": [
       "608.9215302987992"
      ]
     },
     "execution_count": 76,
     "metadata": {},
     "output_type": "execute_result"
    }
   ],
   "source": [
    "1090274/179050*100"
   ]
  },
  {
   "cell_type": "markdown",
   "metadata": {},
   "source": [
    "**adjusting the parameters of model**"
   ]
  },
  {
   "cell_type": "markdown",
   "metadata": {},
   "source": [
    "train_rmse_errors = []\n",
    "test_rmse_errors = []\n",
    "\n",
    "for d in range(1,8):\n",
    "    print(d)\n",
    "    \n",
    "    # CREATE POLY DATA SET FOR DEGREE \"d\"\n",
    "    polynomial_converter = PolynomialFeatures(degree=d,include_bias=False)\n",
    "    poly_features = polynomial_converter.fit_transform(x)\n",
    "    \n",
    "    #SPLIT THIS NEW POLY DATA SET\n",
    "    x_train,x_test,y_train,y_test = train_test_split(poly_features, y, test_size=0.3, random_state=101)\n",
    "    \n",
    "    # TRAIN ON THIS NEW POLY SET\n",
    "    model = LinearRegression(fit_intercept=True)\n",
    "    model.fit(x_train,y_train)\n",
    "    \n",
    "    # PREDICT ON BOTH TRAIN AND TEST\n",
    "    train_pred = model.predict(x_train)\n",
    "    test_pred = model.predict(x_test)\n",
    "    \n",
    "    # CALCULATE ERRORS\n",
    "    \n",
    "    # ERRORS ON TRAIN SET\n",
    "    train_RMSE = np.sqrt(mean_squared_error(y_train,train_pred))\n",
    "    \n",
    "    # ERRORS ON TEST SET\n",
    "    test_RMSE = np.sqrt(mean_squared_error(y_test,test_pred))\n",
    "    \n",
    "    # APPEND ERRORS TO LISTS FOR PLOTTING LATER\n",
    "    \n",
    "    train_rmse_errors.append(train_RMSE)\n",
    "    test_rmse_errors.append(test_RMSE)\n",
    "    \n",
    "    \n",
    "    # CANT USE POLYNOMIAL FEATURES AS IT INCREASE THE NUMBER OF FEATURES....TO MANY FEATURES..MORE COMPLEX\n",
    "    "
   ]
  },
  {
   "cell_type": "markdown",
   "metadata": {},
   "source": [
    "plt.plot(range(1,8),train_rmse_errors[:3],marker='o',label='TRAIN')\n",
    "plt.plot(range(1,8),test_rmse_errors[:3],marker='+',label='TEST')\n",
    "\n",
    "plt.xlabel('Polynomial Complexity order')\n",
    "plt.ylabel('RMSE')\n",
    "plt.legend();"
   ]
  },
  {
   "cell_type": "markdown",
   "metadata": {},
   "source": [
    "**CANT USE POLYNOMIAL FEATURES AS IT INCREASE THE NUMBER OF FEATURES....TO MANY FEATURES..MORE COMPLEX**"
   ]
  },
  {
   "cell_type": "markdown",
   "metadata": {},
   "source": [
    "## REGULARIZATION - LASSO (L1)"
   ]
  },
  {
   "cell_type": "code",
   "execution_count": 77,
   "metadata": {},
   "outputs": [],
   "source": [
    "df=pd.read_csv('Ames_Housing_Clean_Data(remove skew).csv')\n",
    "\n",
    "x=df.drop('SalePrice',axis=1)\n",
    "y=df['SalePrice']\n",
    "\n",
    "from sklearn.model_selection import train_test_split\n",
    "\n",
    "x_train,x_test,y_train,y_test=train_test_split(x,y,test_size=0.3,random_state=101)"
   ]
  },
  {
   "cell_type": "code",
   "execution_count": 78,
   "metadata": {},
   "outputs": [],
   "source": [
    "from sklearn.preprocessing import StandardScaler"
   ]
  },
  {
   "cell_type": "code",
   "execution_count": 79,
   "metadata": {},
   "outputs": [],
   "source": [
    "scaler=StandardScaler()"
   ]
  },
  {
   "cell_type": "code",
   "execution_count": 80,
   "metadata": {},
   "outputs": [
    {
     "data": {
      "text/plain": [
       "StandardScaler()"
      ]
     },
     "execution_count": 80,
     "metadata": {},
     "output_type": "execute_result"
    }
   ],
   "source": [
    "scaler.fit(x_train)"
   ]
  },
  {
   "cell_type": "code",
   "execution_count": 81,
   "metadata": {},
   "outputs": [],
   "source": [
    "x_train=scaler.transform(x_train)"
   ]
  },
  {
   "cell_type": "code",
   "execution_count": 82,
   "metadata": {},
   "outputs": [],
   "source": [
    "x_test=scaler.transform(x_test)"
   ]
  },
  {
   "cell_type": "code",
   "execution_count": 83,
   "metadata": {},
   "outputs": [],
   "source": [
    "from sklearn.linear_model import LassoCV"
   ]
  },
  {
   "cell_type": "code",
   "execution_count": 84,
   "metadata": {},
   "outputs": [],
   "source": [
    "lasso_cv_model=LassoCV(eps=0.1,n_alphas=100,cv=5)"
   ]
  },
  {
   "cell_type": "code",
   "execution_count": 85,
   "metadata": {},
   "outputs": [
    {
     "data": {
      "text/plain": [
       "LassoCV(cv=5, eps=0.1)"
      ]
     },
     "execution_count": 85,
     "metadata": {},
     "output_type": "execute_result"
    }
   ],
   "source": [
    "lasso_cv_model.fit(x_train,y_train)"
   ]
  },
  {
   "cell_type": "code",
   "execution_count": 86,
   "metadata": {},
   "outputs": [
    {
     "data": {
      "text/plain": [
       "6.551952828884136"
      ]
     },
     "execution_count": 86,
     "metadata": {},
     "output_type": "execute_result"
    }
   ],
   "source": [
    "lasso_cv_model.alpha_"
   ]
  },
  {
   "cell_type": "code",
   "execution_count": 87,
   "metadata": {},
   "outputs": [],
   "source": [
    "test_pred=lasso_cv_model.predict(x_test)"
   ]
  },
  {
   "cell_type": "code",
   "execution_count": 88,
   "metadata": {},
   "outputs": [
    {
     "data": {
      "text/plain": [
       "19.73741427422528"
      ]
     },
     "execution_count": 88,
     "metadata": {},
     "output_type": "execute_result"
    }
   ],
   "source": [
    "MAE=mean_absolute_error(y_test,test_pred)\n",
    "\n",
    "MAE"
   ]
  },
  {
   "cell_type": "code",
   "execution_count": 89,
   "metadata": {},
   "outputs": [
    {
     "data": {
      "text/plain": [
       "700.1948456060451"
      ]
     },
     "execution_count": 89,
     "metadata": {},
     "output_type": "execute_result"
    }
   ],
   "source": [
    "MSE=mean_squared_error(y_test,test_pred)\n",
    "\n",
    "MSE"
   ]
  },
  {
   "cell_type": "code",
   "execution_count": 90,
   "metadata": {},
   "outputs": [
    {
     "data": {
      "text/plain": [
       "26.46119509028353"
      ]
     },
     "execution_count": 90,
     "metadata": {},
     "output_type": "execute_result"
    }
   ],
   "source": [
    "RMSE=np.sqrt(MSE)\n",
    "\n",
    "RMSE"
   ]
  },
  {
   "cell_type": "code",
   "execution_count": 91,
   "metadata": {},
   "outputs": [
    {
     "data": {
      "text/plain": [
       "20.608671536870798"
      ]
     },
     "execution_count": 91,
     "metadata": {},
     "output_type": "execute_result"
    }
   ],
   "source": [
    "## train performance\n",
    "\n",
    "train_predictions=lasso_cv_model.predict(x_train)\n",
    "MAE=mean_absolute_error(y_train,train_predictions)\n",
    "MAE"
   ]
  },
  {
   "cell_type": "code",
   "execution_count": 92,
   "metadata": {},
   "outputs": [
    {
     "data": {
      "text/plain": [
       "412.29959220652387"
      ]
     },
     "execution_count": 92,
     "metadata": {},
     "output_type": "execute_result"
    }
   ],
   "source": [
    "df['SalePrice'].mean()"
   ]
  },
  {
   "cell_type": "code",
   "execution_count": 93,
   "metadata": {
    "scrolled": true
   },
   "outputs": [
    {
     "data": {
      "text/plain": [
       "6.417953253038611"
      ]
     },
     "execution_count": 93,
     "metadata": {},
     "output_type": "execute_result"
    }
   ],
   "source": [
    "RMSE*100/df['SalePrice'].mean()"
   ]
  },
  {
   "cell_type": "markdown",
   "metadata": {},
   "source": [
    "6% percent of error percentage for predicting sales price"
   ]
  },
  {
   "cell_type": "markdown",
   "metadata": {},
   "source": [
    "**Test 2 - Residual Plot and Distribution Plot**"
   ]
  },
  {
   "cell_type": "code",
   "execution_count": 94,
   "metadata": {},
   "outputs": [],
   "source": [
    "test_res=y_test-test_pred"
   ]
  },
  {
   "cell_type": "code",
   "execution_count": 95,
   "metadata": {},
   "outputs": [
    {
     "data": {
      "image/png": "[encoded data removed]",
      "text/plain": [
       "<Figure size 432x288 with 1 Axes>"
      ]
     },
     "metadata": {
      "needs_background": "light"
     },
     "output_type": "display_data"
    }
   ],
   "source": [
    "sns.scatterplot(x=y_test,y=test_res)\n",
    "plt.axhline(y=0,color='red',linestyle='--');"
   ]
  },
  {
   "cell_type": "code",
   "execution_count": 96,
   "metadata": {},
   "outputs": [
    {
     "data": {
      "image/png": "[encoded data removed]",
      "text/plain": [
       "<Figure size 432x288 with 1 Axes>"
      ]
     },
     "metadata": {
      "needs_background": "light"
     },
     "output_type": "display_data"
    }
   ],
   "source": [
    "sns.kdeplot(test_res);"
   ]
  },
  {
   "cell_type": "code",
   "execution_count": 97,
   "metadata": {},
   "outputs": [
    {
     "data": {
      "image/png": "[encoded data removed]",
      "text/plain": [
       "<Figure size 360x360 with 1 Axes>"
      ]
     },
     "metadata": {
      "needs_background": "light"
     },
     "output_type": "display_data"
    }
   ],
   "source": [
    "sns.displot(test_res,bins=20,kde=True);"
   ]
  },
  {
   "cell_type": "markdown",
   "metadata": {},
   "source": [
    "**Test 3 - Probability Plot**"
   ]
  },
  {
   "cell_type": "code",
   "execution_count": 98,
   "metadata": {},
   "outputs": [],
   "source": [
    "import scipy as sp"
   ]
  },
  {
   "cell_type": "code",
   "execution_count": 99,
   "metadata": {},
   "outputs": [
    {
     "data": {
      "image/png": "[encoded data removed]",
      "text/plain": [
       "<Figure size 600x800 with 1 Axes>"
      ]
     },
     "metadata": {
      "needs_background": "light"
     },
     "output_type": "display_data"
    }
   ],
   "source": [
    "fig,ax=plt.subplots(figsize=(6,8),dpi=100)\n",
    "\n",
    "_=sp.stats.probplot(test_res,plot=ax)\n"
   ]
  },
  {
   "cell_type": "code",
   "execution_count": 100,
   "metadata": {
    "scrolled": false
   },
   "outputs": [
    {
     "data": {
      "text/plain": [
       "array([ 0.23215848,  0.24896379,  0.        ,  0.        , 22.46855574,\n",
       "        0.        ,  4.84688872,  1.92377251,  0.        , -3.78280772,\n",
       "       -0.        , -0.79350726, -0.        , -1.27773454,  6.36352391,\n",
       "        0.        , -0.        ,  7.03681124, -1.14930886, -0.        ,\n",
       "        2.07140179,  0.        , -0.        , 20.65795732,  0.        ,\n",
       "        0.        ,  0.        ,  0.        ,  0.        , -0.        ,\n",
       "       -5.55314059,  0.        ,  0.80967622, -2.03285457,  0.        ,\n",
       "       -2.0228118 ,  7.37106899,  0.31518033, -0.        , -0.        ,\n",
       "        0.        ,  0.        , -0.        ,  0.        ,  0.        ,\n",
       "       -0.        ,  0.        ,  0.        , -0.        , -0.        ,\n",
       "        0.        , -0.        , -0.        ,  0.        , -0.        ,\n",
       "       -0.        ,  0.        ,  0.        , -0.        , -0.        ,\n",
       "       -0.        , -0.        , -0.        , -0.        , -0.        ,\n",
       "        0.        , -0.        , -0.        ,  0.        , -1.43674154,\n",
       "        0.        ,  0.        , -0.        , -0.        , -0.        ,\n",
       "       -0.        , -0.        ,  0.        ,  0.        , -0.        ,\n",
       "       -0.        , -0.        , -0.        ,  0.        ,  0.        ,\n",
       "        0.        , -0.        ,  0.        , -0.        ,  0.        ,\n",
       "       -0.        , -0.        , -0.        , -0.        , -0.        ,\n",
       "       -0.        , -0.        ,  0.        ,  0.        , -0.        ,\n",
       "       -0.        , -0.        , -0.        ,  0.        ,  0.        ,\n",
       "        0.        ,  0.        , -0.        ,  0.        ,  0.        ,\n",
       "        0.        , -0.        , -0.        , -0.        , -0.        ,\n",
       "       -0.        ,  0.        ,  0.        ,  0.        , -0.        ,\n",
       "       -0.        ,  0.        , -0.        , -0.        , -0.        ,\n",
       "       -0.        , -0.        ,  0.        , -0.        , -0.        ,\n",
       "        0.        , -0.        ,  0.        , -0.        , -0.        ,\n",
       "        0.        , -0.        , -0.        ,  0.        ,  0.        ,\n",
       "       -0.        ,  0.        , -0.        ,  0.        , -0.        ,\n",
       "       -0.        ,  0.        , -0.        ,  0.        , -0.        ,\n",
       "        0.        , -0.        , -0.        ,  0.        , -0.        ,\n",
       "        0.        , -0.        , -0.        ,  0.        , -0.        ,\n",
       "        0.        ,  0.        ,  0.        , -0.        ,  0.        ,\n",
       "       -0.        ,  0.        , -0.        , -0.        , -0.        ,\n",
       "        0.        , -0.        , -0.        ,  0.        , -0.        ,\n",
       "       -0.        ,  0.        , -0.        ,  0.        , -0.        ,\n",
       "       -0.        , -0.        , -0.        , -0.        ,  0.        ,\n",
       "       -0.        , -0.        , -0.        , -0.        ,  0.        ,\n",
       "       -0.        , -0.        , -0.        , -0.        , -0.        ,\n",
       "       -0.        , -0.        ,  0.        , -0.        ,  0.        ,\n",
       "       -0.        , -0.        , -0.        , -0.        , -0.        ,\n",
       "       -0.        , -0.        , -0.        , -0.        ,  0.        ,\n",
       "        0.        , -0.        ,  0.        , -0.        , -0.        ,\n",
       "       -0.        , -0.        ,  0.        ,  0.        ,  0.        ,\n",
       "       -0.        , -0.        , -0.        ,  0.        , -0.        ,\n",
       "        0.        , -0.        , -0.        , -0.        , -0.        ,\n",
       "        0.        ,  0.        ])"
      ]
     },
     "execution_count": 100,
     "metadata": {},
     "output_type": "execute_result"
    }
   ],
   "source": [
    "lasso_cv_model.coef_"
   ]
  },
  {
   "cell_type": "code",
   "execution_count": 101,
   "metadata": {},
   "outputs": [],
   "source": [
    "lasso_coef=lasso_cv_model.coef_"
   ]
  },
  {
   "cell_type": "code",
   "execution_count": 102,
   "metadata": {
    "scrolled": true
   },
   "outputs": [
    {
     "data": {
      "text/plain": [
       "array([ 0.23215848,  0.24896379, 22.46855574,  4.84688872,  1.92377251,\n",
       "        6.36352391,  7.03681124,  2.07140179, 20.65795732,  0.80967622,\n",
       "        7.37106899,  0.31518033])"
      ]
     },
     "execution_count": 102,
     "metadata": {},
     "output_type": "execute_result"
    }
   ],
   "source": [
    "lasso_coef[lasso_coef>0]"
   ]
  },
  {
   "cell_type": "code",
   "execution_count": 103,
   "metadata": {},
   "outputs": [],
   "source": [
    "from sklearn.model_selection import train_test_split\n",
    "\n",
    "x_train,x_test,y_train,y_test=train_test_split(x,y,test_size=0.3,random_state=101)"
   ]
  },
  {
   "cell_type": "code",
   "execution_count": 104,
   "metadata": {},
   "outputs": [],
   "source": [
    "from sklearn.preprocessing import StandardScaler"
   ]
  },
  {
   "cell_type": "code",
   "execution_count": 105,
   "metadata": {},
   "outputs": [],
   "source": [
    "scaler=StandardScaler()"
   ]
  },
  {
   "cell_type": "code",
   "execution_count": 106,
   "metadata": {},
   "outputs": [
    {
     "data": {
      "text/plain": [
       "StandardScaler()"
      ]
     },
     "execution_count": 106,
     "metadata": {},
     "output_type": "execute_result"
    }
   ],
   "source": [
    "scaler.fit(x_train)"
   ]
  },
  {
   "cell_type": "code",
   "execution_count": 107,
   "metadata": {},
   "outputs": [],
   "source": [
    "x_train=scaler.transform(x_train)"
   ]
  },
  {
   "cell_type": "code",
   "execution_count": 108,
   "metadata": {},
   "outputs": [],
   "source": [
    "x_test=scaler.transform(x_test)"
   ]
  },
  {
   "cell_type": "code",
   "execution_count": 109,
   "metadata": {},
   "outputs": [],
   "source": [
    "from sklearn.linear_model import LassoCV"
   ]
  },
  {
   "cell_type": "code",
   "execution_count": 110,
   "metadata": {},
   "outputs": [],
   "source": [
    "final_lasso_cv_model=LassoCV(eps=0.1,n_alphas=100,cv=5)"
   ]
  },
  {
   "cell_type": "code",
   "execution_count": 111,
   "metadata": {},
   "outputs": [
    {
     "data": {
      "text/plain": [
       "LassoCV(cv=5, eps=0.1)"
      ]
     },
     "execution_count": 111,
     "metadata": {},
     "output_type": "execute_result"
    }
   ],
   "source": [
    "final_lasso_cv_model.fit(x_train,y_train)"
   ]
  },
  {
   "cell_type": "code",
   "execution_count": 112,
   "metadata": {},
   "outputs": [
    {
     "data": {
      "text/plain": [
       "6.551952828884136"
      ]
     },
     "execution_count": 112,
     "metadata": {},
     "output_type": "execute_result"
    }
   ],
   "source": [
    "final_lasso_cv_model.alpha_"
   ]
  },
  {
   "cell_type": "code",
   "execution_count": 113,
   "metadata": {},
   "outputs": [],
   "source": [
    "test_pred=lasso_cv_model.predict(x_test)"
   ]
  },
  {
   "cell_type": "code",
   "execution_count": 114,
   "metadata": {},
   "outputs": [
    {
     "data": {
      "text/plain": [
       "19.73741427422528"
      ]
     },
     "execution_count": 114,
     "metadata": {},
     "output_type": "execute_result"
    }
   ],
   "source": [
    "MAE=mean_absolute_error(y_test,test_pred)\n",
    "\n",
    "MAE"
   ]
  },
  {
   "cell_type": "code",
   "execution_count": 115,
   "metadata": {},
   "outputs": [
    {
     "data": {
      "text/plain": [
       "700.1948456060451"
      ]
     },
     "execution_count": 115,
     "metadata": {},
     "output_type": "execute_result"
    }
   ],
   "source": [
    "MSE=mean_squared_error(y_test,test_pred)\n",
    "\n",
    "MSE"
   ]
  },
  {
   "cell_type": "code",
   "execution_count": 116,
   "metadata": {},
   "outputs": [
    {
     "data": {
      "text/plain": [
       "26.46119509028353"
      ]
     },
     "execution_count": 116,
     "metadata": {},
     "output_type": "execute_result"
    }
   ],
   "source": [
    "RMSE=np.sqrt(MSE)\n",
    "\n",
    "RMSE"
   ]
  },
  {
   "cell_type": "code",
   "execution_count": 117,
   "metadata": {},
   "outputs": [
    {
     "data": {
      "text/plain": [
       "20.608671536870798"
      ]
     },
     "execution_count": 117,
     "metadata": {},
     "output_type": "execute_result"
    }
   ],
   "source": [
    "## train performance\n",
    "\n",
    "train_predictions=lasso_cv_model.predict(x_train)\n",
    "MAE=mean_absolute_error(y_train,train_predictions)\n",
    "MAE"
   ]
  },
  {
   "cell_type": "code",
   "execution_count": 118,
   "metadata": {},
   "outputs": [
    {
     "data": {
      "text/plain": [
       "412.29959220652387"
      ]
     },
     "execution_count": 118,
     "metadata": {},
     "output_type": "execute_result"
    }
   ],
   "source": [
    "df['SalePrice'].mean()"
   ]
  },
  {
   "cell_type": "code",
   "execution_count": 119,
   "metadata": {
    "scrolled": true
   },
   "outputs": [
    {
     "data": {
      "text/plain": [
       "6.417953253038611"
      ]
     },
     "execution_count": 119,
     "metadata": {},
     "output_type": "execute_result"
    }
   ],
   "source": [
    "RMSE*100/df['SalePrice'].mean()"
   ]
  },
  {
   "cell_type": "markdown",
   "metadata": {},
   "source": [
    "6% percent of error percentage for predicting sales price"
   ]
  },
  {
   "cell_type": "markdown",
   "metadata": {},
   "source": [
    "**Test 2 - Residual Plot and Distribution Plot**"
   ]
  },
  {
   "cell_type": "code",
   "execution_count": 120,
   "metadata": {},
   "outputs": [],
   "source": [
    "test_res=y_test-test_pred"
   ]
  },
  {
   "cell_type": "code",
   "execution_count": 121,
   "metadata": {},
   "outputs": [
    {
     "data": {
      "image/png": "[encoded data removed]",
      "text/plain": [
       "<Figure size 432x288 with 1 Axes>"
      ]
     },
     "metadata": {
      "needs_background": "light"
     },
     "output_type": "display_data"
    }
   ],
   "source": [
    "sns.scatterplot(x=y_test,y=test_res)\n",
    "plt.axhline(y=0,color='red',linestyle='--');"
   ]
  },
  {
   "cell_type": "code",
   "execution_count": 122,
   "metadata": {},
   "outputs": [
    {
     "data": {
      "image/png": "[encoded data removed]",
      "text/plain": [
       "<Figure size 432x288 with 1 Axes>"
      ]
     },
     "metadata": {
      "needs_background": "light"
     },
     "output_type": "display_data"
    }
   ],
   "source": [
    "sns.kdeplot(test_res);"
   ]
  },
  {
   "cell_type": "code",
   "execution_count": 123,
   "metadata": {},
   "outputs": [
    {
     "data": {
      "image/png": "[encoded data removed]",
      "text/plain": [
       "<Figure size 360x360 with 1 Axes>"
      ]
     },
     "metadata": {
      "needs_background": "light"
     },
     "output_type": "display_data"
    }
   ],
   "source": [
    "sns.displot(test_res,bins=20,kde=True);"
   ]
  },
  {
   "cell_type": "markdown",
   "metadata": {},
   "source": [
    "**Test 3 - Probability Plot**"
   ]
  },
  {
   "cell_type": "code",
   "execution_count": 124,
   "metadata": {},
   "outputs": [],
   "source": [
    "import scipy as sp"
   ]
  },
  {
   "cell_type": "code",
   "execution_count": 125,
   "metadata": {},
   "outputs": [
    {
     "data": {
      "image/png": "[encoded data removed]",
      "text/plain": [
       "<Figure size 600x800 with 1 Axes>"
      ]
     },
     "metadata": {
      "needs_background": "light"
     },
     "output_type": "display_data"
    }
   ],
   "source": [
    "fig,ax=plt.subplots(figsize=(6,8),dpi=100)\n",
    "\n",
    "_=sp.stats.probplot(test_res,plot=ax)\n"
   ]
  },
  {
   "cell_type": "markdown",
   "metadata": {},
   "source": [
    "## REGULARIZATION - RIDGE (L2)"
   ]
  },
  {
   "cell_type": "markdown",
   "metadata": {},
   "source": [
    "## REGULARIZATION - ELASTIC NET (L3)"
   ]
  },
  {
   "cell_type": "code",
   "execution_count": 126,
   "metadata": {},
   "outputs": [],
   "source": [
    "df=pd.read_csv('Ames_Housing_Clean_Data(remove skew).csv')\n",
    "\n",
    "x=df.drop('SalePrice',axis=1)\n",
    "y=df['SalePrice']\n",
    "\n",
    "from sklearn.model_selection import train_test_split\n",
    "\n",
    "x_train,x_test,y_train,y_test=train_test_split(x,y,test_size=0.3,random_state=101)"
   ]
  },
  {
   "cell_type": "code",
   "execution_count": 127,
   "metadata": {},
   "outputs": [],
   "source": [
    "from sklearn.preprocessing import StandardScaler"
   ]
  },
  {
   "cell_type": "code",
   "execution_count": 128,
   "metadata": {},
   "outputs": [],
   "source": [
    "scaler=StandardScaler()"
   ]
  },
  {
   "cell_type": "code",
   "execution_count": 129,
   "metadata": {},
   "outputs": [
    {
     "data": {
      "text/plain": [
       "StandardScaler()"
      ]
     },
     "execution_count": 129,
     "metadata": {},
     "output_type": "execute_result"
    }
   ],
   "source": [
    "scaler.fit(x_train)"
   ]
  },
  {
   "cell_type": "code",
   "execution_count": 130,
   "metadata": {},
   "outputs": [],
   "source": [
    "x_train=scaler.transform(x_train)"
   ]
  },
  {
   "cell_type": "code",
   "execution_count": 131,
   "metadata": {},
   "outputs": [],
   "source": [
    "x_test=scaler.transform(x_test)"
   ]
  },
  {
   "cell_type": "code",
   "execution_count": 132,
   "metadata": {},
   "outputs": [],
   "source": [
    "from sklearn.linear_model import ElasticNetCV"
   ]
  },
  {
   "cell_type": "code",
   "execution_count": 133,
   "metadata": {},
   "outputs": [],
   "source": [
    "elastic_model=ElasticNetCV(l1_ratio=[.1,.5,.7,.9,.95,.99,1],tol=0.01)"
   ]
  },
  {
   "cell_type": "code",
   "execution_count": 134,
   "metadata": {},
   "outputs": [
    {
     "data": {
      "text/plain": [
       "ElasticNetCV(l1_ratio=[0.1, 0.5, 0.7, 0.9, 0.95, 0.99, 1], tol=0.01)"
      ]
     },
     "execution_count": 134,
     "metadata": {},
     "output_type": "execute_result"
    }
   ],
   "source": [
    "elastic_model.fit(x_train,y_train)"
   ]
  },
  {
   "cell_type": "code",
   "execution_count": 135,
   "metadata": {},
   "outputs": [
    {
     "data": {
      "text/plain": [
       "1.0"
      ]
     },
     "execution_count": 135,
     "metadata": {},
     "output_type": "execute_result"
    }
   ],
   "source": [
    "elastic_model.l1_ratio_"
   ]
  },
  {
   "cell_type": "code",
   "execution_count": 136,
   "metadata": {},
   "outputs": [],
   "source": [
    "test_pred=elastic_model.predict(x_test)"
   ]
  },
  {
   "cell_type": "code",
   "execution_count": 137,
   "metadata": {},
   "outputs": [],
   "source": [
    "MAE=mean_absolute_error(y_test,test_pred)\n",
    "MSE=mean_squared_error(y_test,test_pred)\n",
    "RMSE=np.sqrt(MSE)"
   ]
  },
  {
   "cell_type": "code",
   "execution_count": 138,
   "metadata": {},
   "outputs": [
    {
     "data": {
      "text/plain": [
       "14.237210410524893"
      ]
     },
     "execution_count": 138,
     "metadata": {},
     "output_type": "execute_result"
    }
   ],
   "source": [
    "MAE"
   ]
  },
  {
   "cell_type": "code",
   "execution_count": 139,
   "metadata": {},
   "outputs": [
    {
     "data": {
      "text/plain": [
       "364.36228569814983"
      ]
     },
     "execution_count": 139,
     "metadata": {},
     "output_type": "execute_result"
    }
   ],
   "source": [
    "MSE"
   ]
  },
  {
   "cell_type": "code",
   "execution_count": 140,
   "metadata": {},
   "outputs": [
    {
     "data": {
      "text/plain": [
       "19.088276132174688"
      ]
     },
     "execution_count": 140,
     "metadata": {},
     "output_type": "execute_result"
    }
   ],
   "source": [
    "RMSE"
   ]
  },
  {
   "cell_type": "code",
   "execution_count": 141,
   "metadata": {
    "scrolled": true
   },
   "outputs": [
    {
     "data": {
      "text/plain": [
       "14.026034132698703"
      ]
     },
     "execution_count": 141,
     "metadata": {},
     "output_type": "execute_result"
    }
   ],
   "source": [
    "train_pred = elastic_model.predict(x_train)\n",
    "MAE=mean_absolute_error(y_train,train_pred)\n",
    "MAE"
   ]
  },
  {
   "cell_type": "code",
   "execution_count": 142,
   "metadata": {
    "scrolled": true
   },
   "outputs": [
    {
     "data": {
      "text/plain": [
       "412.29959220652387"
      ]
     },
     "execution_count": 142,
     "metadata": {},
     "output_type": "execute_result"
    }
   ],
   "source": [
    "df['SalePrice'].mean()"
   ]
  },
  {
   "cell_type": "code",
   "execution_count": 143,
   "metadata": {
    "scrolled": true
   },
   "outputs": [
    {
     "data": {
      "text/plain": [
       "4.629710165372473"
      ]
     },
     "execution_count": 143,
     "metadata": {},
     "output_type": "execute_result"
    }
   ],
   "source": [
    "RMSE*100/df['SalePrice'].mean()"
   ]
  },
  {
   "cell_type": "markdown",
   "metadata": {},
   "source": [
    "5% percent of error percentage for predicting sales price"
   ]
  },
  {
   "cell_type": "markdown",
   "metadata": {},
   "source": [
    "**Test 2 - Residual Plot and Distribution Plot**"
   ]
  },
  {
   "cell_type": "code",
   "execution_count": 144,
   "metadata": {},
   "outputs": [],
   "source": [
    "test_res=y_test-test_pred"
   ]
  },
  {
   "cell_type": "code",
   "execution_count": 145,
   "metadata": {},
   "outputs": [
    {
     "data": {
      "image/png": "[encoded data removed]",
      "text/plain": [
       "<Figure size 432x288 with 1 Axes>"
      ]
     },
     "metadata": {
      "needs_background": "light"
     },
     "output_type": "display_data"
    }
   ],
   "source": [
    "sns.scatterplot(x=y_test,y=test_res)\n",
    "plt.axhline(y=0,color='red',linestyle='--');"
   ]
  },
  {
   "cell_type": "code",
   "execution_count": 146,
   "metadata": {},
   "outputs": [
    {
     "data": {
      "image/png": "[encoded data removed]",
      "text/plain": [
       "<Figure size 432x288 with 1 Axes>"
      ]
     },
     "metadata": {
      "needs_background": "light"
     },
     "output_type": "display_data"
    }
   ],
   "source": [
    "sns.kdeplot(test_res);"
   ]
  },
  {
   "cell_type": "code",
   "execution_count": 147,
   "metadata": {},
   "outputs": [
    {
     "data": {
      "image/png": "[encoded data removed]",
      "text/plain": [
       "<Figure size 360x360 with 1 Axes>"
      ]
     },
     "metadata": {
      "needs_background": "light"
     },
     "output_type": "display_data"
    }
   ],
   "source": [
    "sns.displot(test_res,bins=20,kde=True);"
   ]
  },
  {
   "cell_type": "markdown",
   "metadata": {},
   "source": [
    "**Test 3 - Probability Plot**"
   ]
  },
  {
   "cell_type": "code",
   "execution_count": 148,
   "metadata": {},
   "outputs": [],
   "source": [
    "import scipy as sp"
   ]
  },
  {
   "cell_type": "code",
   "execution_count": 149,
   "metadata": {},
   "outputs": [
    {
     "data": {
      "image/png": "[encoded data removed]",
      "text/plain": [
       "<Figure size 600x800 with 1 Axes>"
      ]
     },
     "metadata": {
      "needs_background": "light"
     },
     "output_type": "display_data"
    }
   ],
   "source": [
    "fig,ax=plt.subplots(figsize=(6,8),dpi=100)\n",
    "\n",
    "_=sp.stats.probplot(test_res,plot=ax)\n"
   ]
  },
  {
   "cell_type": "code",
   "execution_count": 150,
   "metadata": {
    "scrolled": true
   },
   "outputs": [
    {
     "data": {
      "text/plain": [
       "array([ 1.01343320e+00,  2.79979335e+00,  0.00000000e+00,  1.10014655e-02,\n",
       "        1.34417603e+01,  7.51352378e+00,  1.09110016e+01,  9.98176299e-01,\n",
       "        1.74885879e+00, -2.94605040e+00, -0.00000000e+00, -3.14362710e+00,\n",
       "        0.00000000e+00, -3.72298315e+00,  8.06102538e+00,  1.68785204e+00,\n",
       "       -0.00000000e+00,  6.99319141e+00, -1.93880494e+00, -3.08302200e-01,\n",
       "        9.66743871e+00,  9.46115548e+00,  0.00000000e+00,  1.49211727e+01,\n",
       "        1.62411397e+00, -0.00000000e+00,  1.61647277e+00,  1.62946045e+00,\n",
       "       -1.47538155e+00, -1.40513742e+00, -3.69556707e+00,  0.00000000e+00,\n",
       "        1.61854560e+00, -1.20542148e+00, -1.58649206e-01, -5.00421012e-01,\n",
       "        5.47625422e+00,  1.65196394e+00,  0.00000000e+00,  0.00000000e+00,\n",
       "        1.26704043e+00,  6.34109378e-01,  8.47028502e-01,  1.24901324e-03,\n",
       "        1.44598393e+00, -0.00000000e+00,  0.00000000e+00, -2.93784851e-01,\n",
       "       -4.56654615e-01, -6.07924071e-01,  0.00000000e+00,  0.00000000e+00,\n",
       "        0.00000000e+00,  0.00000000e+00,  2.94906672e-01, -0.00000000e+00,\n",
       "       -4.37935314e-01, -0.00000000e+00, -2.68637854e+00, -1.55621418e+00,\n",
       "       -6.30886959e-01, -3.24802459e+00, -6.21682541e-01, -1.18286525e+00,\n",
       "       -1.36417269e-01,  3.65778452e-01, -0.00000000e+00,  0.00000000e+00,\n",
       "        0.00000000e+00, -2.86936818e+00,  1.19589127e+00,  6.93263047e-01,\n",
       "       -6.30999142e-01, -4.45916638e-01,  0.00000000e+00, -2.75408640e-01,\n",
       "       -9.19870585e-02,  1.49976987e+00,  0.00000000e+00, -0.00000000e+00,\n",
       "        4.60734120e-01,  6.88759404e-01,  1.40705211e+00,  4.05561585e-01,\n",
       "       -3.59412376e-01,  3.74822790e+00, -1.08977061e+00, -1.48363222e-01,\n",
       "        4.03241936e-01,  2.11759755e+00,  0.00000000e+00,  0.00000000e+00,\n",
       "       -9.74183665e-01, -2.35018381e-01, -0.00000000e+00,  6.53291311e-01,\n",
       "       -1.29403366e+00,  2.62315332e+00,  4.65160121e+00, -2.45737631e-01,\n",
       "       -0.00000000e+00,  5.77043655e-01, -8.40654157e-01,  2.82782900e+00,\n",
       "        3.11726199e+00,  7.06868258e-01,  4.93955770e-01, -0.00000000e+00,\n",
       "        3.06322972e+00,  3.40277762e-01,  1.43119451e+00, -0.00000000e+00,\n",
       "        0.00000000e+00,  0.00000000e+00, -1.95816810e-02, -0.00000000e+00,\n",
       "        2.07318031e-01,  8.69186635e-01,  0.00000000e+00, -8.03287166e-02,\n",
       "        0.00000000e+00,  4.32769394e-03, -0.00000000e+00, -2.39535443e-01,\n",
       "       -2.25712378e+00, -2.31228801e+00, -0.00000000e+00,  0.00000000e+00,\n",
       "       -6.51011078e-01,  0.00000000e+00,  0.00000000e+00, -3.27096816e-02,\n",
       "       -0.00000000e+00, -0.00000000e+00,  0.00000000e+00,  6.49143545e-01,\n",
       "        3.53596905e-01, -1.30508438e-01,  5.61414522e-01,  1.27313492e-01,\n",
       "        0.00000000e+00, -0.00000000e+00, -4.11184178e-01,  7.86390085e-01,\n",
       "       -0.00000000e+00, -2.97559265e-01,  1.98295110e+00, -0.00000000e+00,\n",
       "        0.00000000e+00, -8.68850182e-01, -3.72514855e-02,  5.56335481e-01,\n",
       "       -0.00000000e+00,  0.00000000e+00,  1.64166084e-02,  0.00000000e+00,\n",
       "       -0.00000000e+00, -0.00000000e+00,  0.00000000e+00,  0.00000000e+00,\n",
       "       -1.46807327e-01,  5.85354281e-02,  2.10639442e+00, -0.00000000e+00,\n",
       "        0.00000000e+00,  0.00000000e+00,  0.00000000e+00, -2.15394223e-01,\n",
       "        0.00000000e+00, -0.00000000e+00,  0.00000000e+00,  0.00000000e+00,\n",
       "       -0.00000000e+00, -0.00000000e+00, -1.52218833e+00,  3.06379215e-01,\n",
       "        5.32847370e-01, -3.00803215e-01,  7.84165111e-01, -3.18350369e-01,\n",
       "        2.88635722e+00, -5.84891584e-01,  0.00000000e+00, -7.48742987e-01,\n",
       "        2.90397858e-01, -3.96861639e-01,  2.36248830e-01, -3.02578354e-01,\n",
       "        0.00000000e+00, -0.00000000e+00,  4.77238752e-02, -9.50397996e-02,\n",
       "       -3.31020074e-01,  7.31435140e-02, -1.72350814e-01, -0.00000000e+00,\n",
       "        0.00000000e+00,  1.97534479e-02, -0.00000000e+00,  5.51770607e-01,\n",
       "        2.03799828e-01, -0.00000000e+00, -5.61017112e-01, -6.16898700e-01,\n",
       "        0.00000000e+00,  0.00000000e+00, -2.44350866e-01, -4.78988529e-01,\n",
       "       -1.50086589e+00,  2.12594799e+00, -0.00000000e+00, -4.05533776e-01,\n",
       "        5.63702645e-01, -7.55198614e-01,  0.00000000e+00,  1.89212329e-01,\n",
       "       -0.00000000e+00,  1.95061898e-01,  2.03798820e-01,  1.29413737e+00,\n",
       "        0.00000000e+00, -0.00000000e+00,  0.00000000e+00,  5.50869441e+00,\n",
       "        0.00000000e+00,  0.00000000e+00,  0.00000000e+00,  1.20606479e+00,\n",
       "        9.67870909e-01,  5.00372195e-01,  4.44543502e+00,  3.87125047e-01])"
      ]
     },
     "execution_count": 150,
     "metadata": {},
     "output_type": "execute_result"
    }
   ],
   "source": [
    "elastic_model.coef_"
   ]
  },
  {
   "cell_type": "markdown",
   "metadata": {},
   "source": [
    "## GRID SEARCH CV "
   ]
  },
  {
   "cell_type": "code",
   "execution_count": 151,
   "metadata": {},
   "outputs": [],
   "source": [
    "df=pd.read_csv('Ames_Housing_Clean_Data(remove skew).csv')\n",
    "\n",
    "x=df.drop('SalePrice',axis=1)\n",
    "y=df['SalePrice']\n",
    "\n",
    "from sklearn.model_selection import train_test_split\n",
    "\n",
    "x_train,x_test,y_train,y_test=train_test_split(x,y,test_size=0.3,random_state=101)"
   ]
  },
  {
   "cell_type": "code",
   "execution_count": 152,
   "metadata": {},
   "outputs": [],
   "source": [
    "from sklearn.preprocessing import StandardScaler"
   ]
  },
  {
   "cell_type": "code",
   "execution_count": 153,
   "metadata": {},
   "outputs": [],
   "source": [
    "scaler=StandardScaler()"
   ]
  },
  {
   "cell_type": "code",
   "execution_count": 154,
   "metadata": {},
   "outputs": [
    {
     "data": {
      "text/plain": [
       "StandardScaler()"
      ]
     },
     "execution_count": 154,
     "metadata": {},
     "output_type": "execute_result"
    }
   ],
   "source": [
    "scaler.fit(x_train)"
   ]
  },
  {
   "cell_type": "code",
   "execution_count": 155,
   "metadata": {},
   "outputs": [],
   "source": [
    "x_train=scaler.transform(x_train)"
   ]
  },
  {
   "cell_type": "code",
   "execution_count": 156,
   "metadata": {},
   "outputs": [],
   "source": [
    "x_test=scaler.transform(x_test)"
   ]
  },
  {
   "cell_type": "code",
   "execution_count": 157,
   "metadata": {},
   "outputs": [],
   "source": [
    "from sklearn.linear_model import ElasticNet"
   ]
  },
  {
   "cell_type": "code",
   "execution_count": 158,
   "metadata": {},
   "outputs": [],
   "source": [
    "base_elastic_model = ElasticNet()"
   ]
  },
  {
   "cell_type": "code",
   "execution_count": 159,
   "metadata": {},
   "outputs": [],
   "source": [
    "param_grid = {'alpha':[0.1,1,5,10,50,100],\n",
    "              'l1_ratio':[.1, .5, .7, .9, .95, .99, 1]}"
   ]
  },
  {
   "cell_type": "code",
   "execution_count": 160,
   "metadata": {},
   "outputs": [],
   "source": [
    "from sklearn.model_selection import GridSearchCV\n",
    "\n",
    "# import GridSearchCV"
   ]
  },
  {
   "cell_type": "code",
   "execution_count": 161,
   "metadata": {},
   "outputs": [],
   "source": [
    "# verbose number a personal preference\n",
    "\n",
    "grid_model = GridSearchCV(estimator=base_elastic_model,\n",
    "                          param_grid=param_grid,\n",
    "                          scoring='neg_mean_squared_error',\n",
    "                          cv=5,\n",
    "                          verbose=2)\n",
    "\n",
    "#cv value = maximum value can be same number of features"
   ]
  },
  {
   "cell_type": "code",
   "execution_count": 162,
   "metadata": {
    "scrolled": true
   },
   "outputs": [
    {
     "name": "stdout",
     "output_type": "stream",
     "text": [
      "Fitting 5 folds for each of 42 candidates, totalling 210 fits\n",
      "[CV] alpha=0.1, l1_ratio=0.1 .........................................\n",
      "[CV] .......................... alpha=0.1, l1_ratio=0.1, total=   0.1s\n",
      "[CV] alpha=0.1, l1_ratio=0.1 .........................................\n"
     ]
    },
    {
     "name": "stderr",
     "output_type": "stream",
     "text": [
      "[Parallel(n_jobs=1)]: Using backend SequentialBackend with 1 concurrent workers.\n",
      "[Parallel(n_jobs=1)]: Done   1 out of   1 | elapsed:    0.0s remaining:    0.0s\n"
     ]
    },
    {
     "name": "stdout",
     "output_type": "stream",
     "text": [
      "[CV] .......................... alpha=0.1, l1_ratio=0.1, total=   0.1s\n",
      "[CV] alpha=0.1, l1_ratio=0.1 .........................................\n",
      "[CV] .......................... alpha=0.1, l1_ratio=0.1, total=   0.1s\n",
      "[CV] alpha=0.1, l1_ratio=0.1 .........................................\n",
      "[CV] .......................... alpha=0.1, l1_ratio=0.1, total=   0.1s\n",
      "[CV] alpha=0.1, l1_ratio=0.1 .........................................\n",
      "[CV] .......................... alpha=0.1, l1_ratio=0.1, total=   0.1s\n",
      "[CV] alpha=0.1, l1_ratio=0.5 .........................................\n",
      "[CV] .......................... alpha=0.1, l1_ratio=0.5, total=   0.1s\n",
      "[CV] alpha=0.1, l1_ratio=0.5 .........................................\n",
      "[CV] .......................... alpha=0.1, l1_ratio=0.5, total=   0.1s\n",
      "[CV] alpha=0.1, l1_ratio=0.5 .........................................\n",
      "[CV] .......................... alpha=0.1, l1_ratio=0.5, total=   0.1s\n",
      "[CV] alpha=0.1, l1_ratio=0.5 .........................................\n",
      "[CV] .......................... alpha=0.1, l1_ratio=0.5, total=   0.1s\n",
      "[CV] alpha=0.1, l1_ratio=0.5 .........................................\n",
      "[CV] .......................... alpha=0.1, l1_ratio=0.5, total=   0.1s\n",
      "[CV] alpha=0.1, l1_ratio=0.7 .........................................\n",
      "[CV] .......................... alpha=0.1, l1_ratio=0.7, total=   0.1s\n",
      "[CV] alpha=0.1, l1_ratio=0.7 .........................................\n",
      "[CV] .......................... alpha=0.1, l1_ratio=0.7, total=   0.1s\n",
      "[CV] alpha=0.1, l1_ratio=0.7 .........................................\n",
      "[CV] .......................... alpha=0.1, l1_ratio=0.7, total=   0.1s\n",
      "[CV] alpha=0.1, l1_ratio=0.7 .........................................\n",
      "[CV] .......................... alpha=0.1, l1_ratio=0.7, total=   0.1s\n",
      "[CV] alpha=0.1, l1_ratio=0.7 .........................................\n",
      "[CV] .......................... alpha=0.1, l1_ratio=0.7, total=   0.1s\n",
      "[CV] alpha=0.1, l1_ratio=0.9 .........................................\n",
      "[CV] .......................... alpha=0.1, l1_ratio=0.9, total=   0.1s\n",
      "[CV] alpha=0.1, l1_ratio=0.9 .........................................\n",
      "[CV] .......................... alpha=0.1, l1_ratio=0.9, total=   0.2s\n",
      "[CV] alpha=0.1, l1_ratio=0.9 .........................................\n",
      "[CV] .......................... alpha=0.1, l1_ratio=0.9, total=   0.1s\n",
      "[CV] alpha=0.1, l1_ratio=0.9 .........................................\n",
      "[CV] .......................... alpha=0.1, l1_ratio=0.9, total=   0.1s\n",
      "[CV] alpha=0.1, l1_ratio=0.9 .........................................\n",
      "[CV] .......................... alpha=0.1, l1_ratio=0.9, total=   0.1s\n",
      "[CV] alpha=0.1, l1_ratio=0.95 ........................................\n",
      "[CV] ......................... alpha=0.1, l1_ratio=0.95, total=   0.3s\n",
      "[CV] alpha=0.1, l1_ratio=0.95 ........................................\n",
      "[CV] ......................... alpha=0.1, l1_ratio=0.95, total=   0.2s\n",
      "[CV] alpha=0.1, l1_ratio=0.95 ........................................\n",
      "[CV] ......................... alpha=0.1, l1_ratio=0.95, total=   0.3s\n",
      "[CV] alpha=0.1, l1_ratio=0.95 ........................................\n",
      "[CV] ......................... alpha=0.1, l1_ratio=0.95, total=   0.2s\n",
      "[CV] alpha=0.1, l1_ratio=0.95 ........................................\n",
      "[CV] ......................... alpha=0.1, l1_ratio=0.95, total=   0.2s\n",
      "[CV] alpha=0.1, l1_ratio=0.99 ........................................\n",
      "[CV] ......................... alpha=0.1, l1_ratio=0.99, total=   0.3s\n",
      "[CV] alpha=0.1, l1_ratio=0.99 ........................................\n",
      "[CV] ......................... alpha=0.1, l1_ratio=0.99, total=   0.2s\n",
      "[CV] alpha=0.1, l1_ratio=0.99 ........................................\n",
      "[CV] ......................... alpha=0.1, l1_ratio=0.99, total=   0.3s\n",
      "[CV] alpha=0.1, l1_ratio=0.99 ........................................\n",
      "[CV] ......................... alpha=0.1, l1_ratio=0.99, total=   0.2s\n",
      "[CV] alpha=0.1, l1_ratio=0.99 ........................................\n",
      "[CV] ......................... alpha=0.1, l1_ratio=0.99, total=   0.3s\n",
      "[CV] alpha=0.1, l1_ratio=1 ...........................................\n",
      "[CV] ............................ alpha=0.1, l1_ratio=1, total=   0.2s\n",
      "[CV] alpha=0.1, l1_ratio=1 ...........................................\n",
      "[CV] ............................ alpha=0.1, l1_ratio=1, total=   0.2s\n",
      "[CV] alpha=0.1, l1_ratio=1 ...........................................\n",
      "[CV] ............................ alpha=0.1, l1_ratio=1, total=   0.2s\n",
      "[CV] alpha=0.1, l1_ratio=1 ...........................................\n",
      "[CV] ............................ alpha=0.1, l1_ratio=1, total=   0.2s\n",
      "[CV] alpha=0.1, l1_ratio=1 ...........................................\n",
      "[CV] ............................ alpha=0.1, l1_ratio=1, total=   0.2s\n",
      "[CV] alpha=1, l1_ratio=0.1 ...........................................\n",
      "[CV] ............................ alpha=1, l1_ratio=0.1, total=   0.0s\n",
      "[CV] alpha=1, l1_ratio=0.1 ...........................................\n",
      "[CV] ............................ alpha=1, l1_ratio=0.1, total=   0.0s\n",
      "[CV] alpha=1, l1_ratio=0.1 ...........................................\n",
      "[CV] ............................ alpha=1, l1_ratio=0.1, total=   0.0s\n",
      "[CV] alpha=1, l1_ratio=0.1 ...........................................\n",
      "[CV] ............................ alpha=1, l1_ratio=0.1, total=   0.0s\n",
      "[CV] alpha=1, l1_ratio=0.1 ...........................................\n",
      "[CV] ............................ alpha=1, l1_ratio=0.1, total=   0.0s\n",
      "[CV] alpha=1, l1_ratio=0.5 ...........................................\n",
      "[CV] ............................ alpha=1, l1_ratio=0.5, total=   0.0s\n",
      "[CV] alpha=1, l1_ratio=0.5 ...........................................\n",
      "[CV] ............................ alpha=1, l1_ratio=0.5, total=   0.0s\n",
      "[CV] alpha=1, l1_ratio=0.5 ...........................................\n",
      "[CV] ............................ alpha=1, l1_ratio=0.5, total=   0.0s\n",
      "[CV] alpha=1, l1_ratio=0.5 ...........................................\n",
      "[CV] ............................ alpha=1, l1_ratio=0.5, total=   0.1s\n",
      "[CV] alpha=1, l1_ratio=0.5 ...........................................\n",
      "[CV] ............................ alpha=1, l1_ratio=0.5, total=   0.0s\n",
      "[CV] alpha=1, l1_ratio=0.7 ...........................................\n",
      "[CV] ............................ alpha=1, l1_ratio=0.7, total=   0.0s\n",
      "[CV] alpha=1, l1_ratio=0.7 ...........................................\n",
      "[CV] ............................ alpha=1, l1_ratio=0.7, total=   0.0s\n",
      "[CV] alpha=1, l1_ratio=0.7 ...........................................\n",
      "[CV] ............................ alpha=1, l1_ratio=0.7, total=   0.1s\n",
      "[CV] alpha=1, l1_ratio=0.7 ...........................................\n",
      "[CV] ............................ alpha=1, l1_ratio=0.7, total=   0.1s\n",
      "[CV] alpha=1, l1_ratio=0.7 ...........................................\n",
      "[CV] ............................ alpha=1, l1_ratio=0.7, total=   0.0s\n",
      "[CV] alpha=1, l1_ratio=0.9 ...........................................\n",
      "[CV] ............................ alpha=1, l1_ratio=0.9, total=   0.0s\n",
      "[CV] alpha=1, l1_ratio=0.9 ...........................................\n",
      "[CV] ............................ alpha=1, l1_ratio=0.9, total=   0.0s\n",
      "[CV] alpha=1, l1_ratio=0.9 ...........................................\n",
      "[CV] ............................ alpha=1, l1_ratio=0.9, total=   0.1s\n",
      "[CV] alpha=1, l1_ratio=0.9 ...........................................\n",
      "[CV] ............................ alpha=1, l1_ratio=0.9, total=   0.0s\n",
      "[CV] alpha=1, l1_ratio=0.9 ...........................................\n",
      "[CV] ............................ alpha=1, l1_ratio=0.9, total=   0.0s\n",
      "[CV] alpha=1, l1_ratio=0.95 ..........................................\n",
      "[CV] ........................... alpha=1, l1_ratio=0.95, total=   0.0s\n",
      "[CV] alpha=1, l1_ratio=0.95 ..........................................\n",
      "[CV] ........................... alpha=1, l1_ratio=0.95, total=   0.0s\n",
      "[CV] alpha=1, l1_ratio=0.95 ..........................................\n",
      "[CV] ........................... alpha=1, l1_ratio=0.95, total=   0.0s\n",
      "[CV] alpha=1, l1_ratio=0.95 ..........................................\n",
      "[CV] ........................... alpha=1, l1_ratio=0.95, total=   0.0s\n",
      "[CV] alpha=1, l1_ratio=0.95 ..........................................\n"
     ]
    },
    {
     "name": "stdout",
     "output_type": "stream",
     "text": [
      "[CV] ........................... alpha=1, l1_ratio=0.95, total=   0.0s\n",
      "[CV] alpha=1, l1_ratio=0.99 ..........................................\n",
      "[CV] ........................... alpha=1, l1_ratio=0.99, total=   0.1s\n",
      "[CV] alpha=1, l1_ratio=0.99 ..........................................\n",
      "[CV] ........................... alpha=1, l1_ratio=0.99, total=   0.1s\n",
      "[CV] alpha=1, l1_ratio=0.99 ..........................................\n",
      "[CV] ........................... alpha=1, l1_ratio=0.99, total=   0.0s\n",
      "[CV] alpha=1, l1_ratio=0.99 ..........................................\n",
      "[CV] ........................... alpha=1, l1_ratio=0.99, total=   0.1s\n",
      "[CV] alpha=1, l1_ratio=0.99 ..........................................\n",
      "[CV] ........................... alpha=1, l1_ratio=0.99, total=   0.0s\n",
      "[CV] alpha=1, l1_ratio=1 .............................................\n",
      "[CV] .............................. alpha=1, l1_ratio=1, total=   0.1s\n",
      "[CV] alpha=1, l1_ratio=1 .............................................\n",
      "[CV] .............................. alpha=1, l1_ratio=1, total=   0.0s\n",
      "[CV] alpha=1, l1_ratio=1 .............................................\n",
      "[CV] .............................. alpha=1, l1_ratio=1, total=   0.1s\n",
      "[CV] alpha=1, l1_ratio=1 .............................................\n",
      "[CV] .............................. alpha=1, l1_ratio=1, total=   0.0s\n",
      "[CV] alpha=1, l1_ratio=1 .............................................\n",
      "[CV] .............................. alpha=1, l1_ratio=1, total=   0.0s\n",
      "[CV] alpha=5, l1_ratio=0.1 ...........................................\n",
      "[CV] ............................ alpha=5, l1_ratio=0.1, total=   0.0s\n",
      "[CV] alpha=5, l1_ratio=0.1 ...........................................\n",
      "[CV] ............................ alpha=5, l1_ratio=0.1, total=   0.0s\n",
      "[CV] alpha=5, l1_ratio=0.1 ...........................................\n",
      "[CV] ............................ alpha=5, l1_ratio=0.1, total=   0.0s\n",
      "[CV] alpha=5, l1_ratio=0.1 ...........................................\n",
      "[CV] ............................ alpha=5, l1_ratio=0.1, total=   0.0s\n",
      "[CV] alpha=5, l1_ratio=0.1 ...........................................\n",
      "[CV] ............................ alpha=5, l1_ratio=0.1, total=   0.0s\n",
      "[CV] alpha=5, l1_ratio=0.5 ...........................................\n",
      "[CV] ............................ alpha=5, l1_ratio=0.5, total=   0.0s\n",
      "[CV] alpha=5, l1_ratio=0.5 ...........................................\n",
      "[CV] ............................ alpha=5, l1_ratio=0.5, total=   0.0s\n",
      "[CV] alpha=5, l1_ratio=0.5 ...........................................\n",
      "[CV] ............................ alpha=5, l1_ratio=0.5, total=   0.0s\n",
      "[CV] alpha=5, l1_ratio=0.5 ...........................................\n",
      "[CV] ............................ alpha=5, l1_ratio=0.5, total=   0.0s\n",
      "[CV] alpha=5, l1_ratio=0.5 ...........................................\n",
      "[CV] ............................ alpha=5, l1_ratio=0.5, total=   0.0s\n",
      "[CV] alpha=5, l1_ratio=0.7 ...........................................\n",
      "[CV] ............................ alpha=5, l1_ratio=0.7, total=   0.0s\n",
      "[CV] alpha=5, l1_ratio=0.7 ...........................................\n",
      "[CV] ............................ alpha=5, l1_ratio=0.7, total=   0.0s\n",
      "[CV] alpha=5, l1_ratio=0.7 ...........................................\n",
      "[CV] ............................ alpha=5, l1_ratio=0.7, total=   0.0s\n",
      "[CV] alpha=5, l1_ratio=0.7 ...........................................\n",
      "[CV] ............................ alpha=5, l1_ratio=0.7, total=   0.0s\n",
      "[CV] alpha=5, l1_ratio=0.7 ...........................................\n",
      "[CV] ............................ alpha=5, l1_ratio=0.7, total=   0.0s\n",
      "[CV] alpha=5, l1_ratio=0.9 ...........................................\n",
      "[CV] ............................ alpha=5, l1_ratio=0.9, total=   0.0s\n",
      "[CV] alpha=5, l1_ratio=0.9 ...........................................\n",
      "[CV] ............................ alpha=5, l1_ratio=0.9, total=   0.0s\n",
      "[CV] alpha=5, l1_ratio=0.9 ...........................................\n",
      "[CV] ............................ alpha=5, l1_ratio=0.9, total=   0.0s\n",
      "[CV] alpha=5, l1_ratio=0.9 ...........................................\n",
      "[CV] ............................ alpha=5, l1_ratio=0.9, total=   0.0s\n",
      "[CV] alpha=5, l1_ratio=0.9 ...........................................\n",
      "[CV] ............................ alpha=5, l1_ratio=0.9, total=   0.0s\n",
      "[CV] alpha=5, l1_ratio=0.95 ..........................................\n",
      "[CV] ........................... alpha=5, l1_ratio=0.95, total=   0.0s\n",
      "[CV] alpha=5, l1_ratio=0.95 ..........................................\n",
      "[CV] ........................... alpha=5, l1_ratio=0.95, total=   0.0s\n",
      "[CV] alpha=5, l1_ratio=0.95 ..........................................\n",
      "[CV] ........................... alpha=5, l1_ratio=0.95, total=   0.0s\n",
      "[CV] alpha=5, l1_ratio=0.95 ..........................................\n",
      "[CV] ........................... alpha=5, l1_ratio=0.95, total=   0.0s\n",
      "[CV] alpha=5, l1_ratio=0.95 ..........................................\n",
      "[CV] ........................... alpha=5, l1_ratio=0.95, total=   0.0s\n",
      "[CV] alpha=5, l1_ratio=0.99 ..........................................\n",
      "[CV] ........................... alpha=5, l1_ratio=0.99, total=   0.0s\n",
      "[CV] alpha=5, l1_ratio=0.99 ..........................................\n",
      "[CV] ........................... alpha=5, l1_ratio=0.99, total=   0.0s\n",
      "[CV] alpha=5, l1_ratio=0.99 ..........................................\n",
      "[CV] ........................... alpha=5, l1_ratio=0.99, total=   0.0s\n",
      "[CV] alpha=5, l1_ratio=0.99 ..........................................\n",
      "[CV] ........................... alpha=5, l1_ratio=0.99, total=   0.0s\n",
      "[CV] alpha=5, l1_ratio=0.99 ..........................................\n",
      "[CV] ........................... alpha=5, l1_ratio=0.99, total=   0.0s\n",
      "[CV] alpha=5, l1_ratio=1 .............................................\n",
      "[CV] .............................. alpha=5, l1_ratio=1, total=   0.0s\n",
      "[CV] alpha=5, l1_ratio=1 .............................................\n",
      "[CV] .............................. alpha=5, l1_ratio=1, total=   0.0s\n",
      "[CV] alpha=5, l1_ratio=1 .............................................\n",
      "[CV] .............................. alpha=5, l1_ratio=1, total=   0.0s\n",
      "[CV] alpha=5, l1_ratio=1 .............................................\n",
      "[CV] .............................. alpha=5, l1_ratio=1, total=   0.0s\n",
      "[CV] alpha=5, l1_ratio=1 .............................................\n",
      "[CV] .............................. alpha=5, l1_ratio=1, total=   0.0s\n",
      "[CV] alpha=10, l1_ratio=0.1 ..........................................\n",
      "[CV] ........................... alpha=10, l1_ratio=0.1, total=   0.0s\n",
      "[CV] alpha=10, l1_ratio=0.1 ..........................................\n",
      "[CV] ........................... alpha=10, l1_ratio=0.1, total=   0.0s\n",
      "[CV] alpha=10, l1_ratio=0.1 ..........................................\n",
      "[CV] ........................... alpha=10, l1_ratio=0.1, total=   0.0s\n",
      "[CV] alpha=10, l1_ratio=0.1 ..........................................\n",
      "[CV] ........................... alpha=10, l1_ratio=0.1, total=   0.0s\n",
      "[CV] alpha=10, l1_ratio=0.1 ..........................................\n",
      "[CV] ........................... alpha=10, l1_ratio=0.1, total=   0.0s\n",
      "[CV] alpha=10, l1_ratio=0.5 ..........................................\n",
      "[CV] ........................... alpha=10, l1_ratio=0.5, total=   0.0s\n",
      "[CV] alpha=10, l1_ratio=0.5 ..........................................\n",
      "[CV] ........................... alpha=10, l1_ratio=0.5, total=   0.0s\n",
      "[CV] alpha=10, l1_ratio=0.5 ..........................................\n",
      "[CV] ........................... alpha=10, l1_ratio=0.5, total=   0.0s\n",
      "[CV] alpha=10, l1_ratio=0.5 ..........................................\n",
      "[CV] ........................... alpha=10, l1_ratio=0.5, total=   0.0s\n",
      "[CV] alpha=10, l1_ratio=0.5 ..........................................\n",
      "[CV] ........................... alpha=10, l1_ratio=0.5, total=   0.0s\n",
      "[CV] alpha=10, l1_ratio=0.7 ..........................................\n",
      "[CV] ........................... alpha=10, l1_ratio=0.7, total=   0.0s\n",
      "[CV] alpha=10, l1_ratio=0.7 ..........................................\n",
      "[CV] ........................... alpha=10, l1_ratio=0.7, total=   0.0s\n",
      "[CV] alpha=10, l1_ratio=0.7 ..........................................\n"
     ]
    },
    {
     "name": "stdout",
     "output_type": "stream",
     "text": [
      "[CV] ........................... alpha=10, l1_ratio=0.7, total=   0.0s\n",
      "[CV] alpha=10, l1_ratio=0.7 ..........................................\n",
      "[CV] ........................... alpha=10, l1_ratio=0.7, total=   0.0s\n",
      "[CV] alpha=10, l1_ratio=0.7 ..........................................\n",
      "[CV] ........................... alpha=10, l1_ratio=0.7, total=   0.0s\n",
      "[CV] alpha=10, l1_ratio=0.9 ..........................................\n",
      "[CV] ........................... alpha=10, l1_ratio=0.9, total=   0.0s\n",
      "[CV] alpha=10, l1_ratio=0.9 ..........................................\n",
      "[CV] ........................... alpha=10, l1_ratio=0.9, total=   0.0s\n",
      "[CV] alpha=10, l1_ratio=0.9 ..........................................\n",
      "[CV] ........................... alpha=10, l1_ratio=0.9, total=   0.0s\n",
      "[CV] alpha=10, l1_ratio=0.9 ..........................................\n",
      "[CV] ........................... alpha=10, l1_ratio=0.9, total=   0.0s\n",
      "[CV] alpha=10, l1_ratio=0.9 ..........................................\n",
      "[CV] ........................... alpha=10, l1_ratio=0.9, total=   0.0s\n",
      "[CV] alpha=10, l1_ratio=0.95 .........................................\n",
      "[CV] .......................... alpha=10, l1_ratio=0.95, total=   0.0s\n",
      "[CV] alpha=10, l1_ratio=0.95 .........................................\n",
      "[CV] .......................... alpha=10, l1_ratio=0.95, total=   0.0s\n",
      "[CV] alpha=10, l1_ratio=0.95 .........................................\n",
      "[CV] .......................... alpha=10, l1_ratio=0.95, total=   0.0s\n",
      "[CV] alpha=10, l1_ratio=0.95 .........................................\n",
      "[CV] .......................... alpha=10, l1_ratio=0.95, total=   0.0s\n",
      "[CV] alpha=10, l1_ratio=0.95 .........................................\n",
      "[CV] .......................... alpha=10, l1_ratio=0.95, total=   0.0s\n",
      "[CV] alpha=10, l1_ratio=0.99 .........................................\n",
      "[CV] .......................... alpha=10, l1_ratio=0.99, total=   0.0s\n",
      "[CV] alpha=10, l1_ratio=0.99 .........................................\n",
      "[CV] .......................... alpha=10, l1_ratio=0.99, total=   0.0s\n",
      "[CV] alpha=10, l1_ratio=0.99 .........................................\n",
      "[CV] .......................... alpha=10, l1_ratio=0.99, total=   0.0s\n",
      "[CV] alpha=10, l1_ratio=0.99 .........................................\n",
      "[CV] .......................... alpha=10, l1_ratio=0.99, total=   0.0s\n",
      "[CV] alpha=10, l1_ratio=0.99 .........................................\n",
      "[CV] .......................... alpha=10, l1_ratio=0.99, total=   0.0s\n",
      "[CV] alpha=10, l1_ratio=1 ............................................\n",
      "[CV] ............................. alpha=10, l1_ratio=1, total=   0.0s\n",
      "[CV] alpha=10, l1_ratio=1 ............................................\n",
      "[CV] ............................. alpha=10, l1_ratio=1, total=   0.0s\n",
      "[CV] alpha=10, l1_ratio=1 ............................................\n",
      "[CV] ............................. alpha=10, l1_ratio=1, total=   0.0s\n",
      "[CV] alpha=10, l1_ratio=1 ............................................\n",
      "[CV] ............................. alpha=10, l1_ratio=1, total=   0.0s\n",
      "[CV] alpha=10, l1_ratio=1 ............................................\n",
      "[CV] ............................. alpha=10, l1_ratio=1, total=   0.0s\n",
      "[CV] alpha=50, l1_ratio=0.1 ..........................................\n",
      "[CV] ........................... alpha=50, l1_ratio=0.1, total=   0.0s\n",
      "[CV] alpha=50, l1_ratio=0.1 ..........................................\n",
      "[CV] ........................... alpha=50, l1_ratio=0.1, total=   0.0s\n",
      "[CV] alpha=50, l1_ratio=0.1 ..........................................\n",
      "[CV] ........................... alpha=50, l1_ratio=0.1, total=   0.0s\n",
      "[CV] alpha=50, l1_ratio=0.1 ..........................................\n",
      "[CV] ........................... alpha=50, l1_ratio=0.1, total=   0.0s\n",
      "[CV] alpha=50, l1_ratio=0.1 ..........................................\n",
      "[CV] ........................... alpha=50, l1_ratio=0.1, total=   0.0s\n",
      "[CV] alpha=50, l1_ratio=0.5 ..........................................\n",
      "[CV] ........................... alpha=50, l1_ratio=0.5, total=   0.0s\n",
      "[CV] alpha=50, l1_ratio=0.5 ..........................................\n",
      "[CV] ........................... alpha=50, l1_ratio=0.5, total=   0.0s\n",
      "[CV] alpha=50, l1_ratio=0.5 ..........................................\n",
      "[CV] ........................... alpha=50, l1_ratio=0.5, total=   0.0s\n",
      "[CV] alpha=50, l1_ratio=0.5 ..........................................\n",
      "[CV] ........................... alpha=50, l1_ratio=0.5, total=   0.0s\n",
      "[CV] alpha=50, l1_ratio=0.5 ..........................................\n",
      "[CV] ........................... alpha=50, l1_ratio=0.5, total=   0.0s\n",
      "[CV] alpha=50, l1_ratio=0.7 ..........................................\n",
      "[CV] ........................... alpha=50, l1_ratio=0.7, total=   0.0s\n",
      "[CV] alpha=50, l1_ratio=0.7 ..........................................\n",
      "[CV] ........................... alpha=50, l1_ratio=0.7, total=   0.0s\n",
      "[CV] alpha=50, l1_ratio=0.7 ..........................................\n",
      "[CV] ........................... alpha=50, l1_ratio=0.7, total=   0.0s\n",
      "[CV] alpha=50, l1_ratio=0.7 ..........................................\n",
      "[CV] ........................... alpha=50, l1_ratio=0.7, total=   0.0s\n",
      "[CV] alpha=50, l1_ratio=0.7 ..........................................\n",
      "[CV] ........................... alpha=50, l1_ratio=0.7, total=   0.0s\n",
      "[CV] alpha=50, l1_ratio=0.9 ..........................................\n",
      "[CV] ........................... alpha=50, l1_ratio=0.9, total=   0.0s\n",
      "[CV] alpha=50, l1_ratio=0.9 ..........................................\n",
      "[CV] ........................... alpha=50, l1_ratio=0.9, total=   0.0s\n",
      "[CV] alpha=50, l1_ratio=0.9 ..........................................\n",
      "[CV] ........................... alpha=50, l1_ratio=0.9, total=   0.0s\n",
      "[CV] alpha=50, l1_ratio=0.9 ..........................................\n",
      "[CV] ........................... alpha=50, l1_ratio=0.9, total=   0.0s\n",
      "[CV] alpha=50, l1_ratio=0.9 ..........................................\n",
      "[CV] ........................... alpha=50, l1_ratio=0.9, total=   0.0s\n",
      "[CV] alpha=50, l1_ratio=0.95 .........................................\n",
      "[CV] .......................... alpha=50, l1_ratio=0.95, total=   0.0s\n",
      "[CV] alpha=50, l1_ratio=0.95 .........................................\n",
      "[CV] .......................... alpha=50, l1_ratio=0.95, total=   0.0s\n",
      "[CV] alpha=50, l1_ratio=0.95 .........................................\n",
      "[CV] .......................... alpha=50, l1_ratio=0.95, total=   0.0s\n",
      "[CV] alpha=50, l1_ratio=0.95 .........................................\n",
      "[CV] .......................... alpha=50, l1_ratio=0.95, total=   0.0s\n",
      "[CV] alpha=50, l1_ratio=0.95 .........................................\n",
      "[CV] .......................... alpha=50, l1_ratio=0.95, total=   0.0s\n",
      "[CV] alpha=50, l1_ratio=0.99 .........................................\n",
      "[CV] .......................... alpha=50, l1_ratio=0.99, total=   0.0s\n",
      "[CV] alpha=50, l1_ratio=0.99 .........................................\n",
      "[CV] .......................... alpha=50, l1_ratio=0.99, total=   0.0s\n",
      "[CV] alpha=50, l1_ratio=0.99 .........................................\n",
      "[CV] .......................... alpha=50, l1_ratio=0.99, total=   0.0s\n",
      "[CV] alpha=50, l1_ratio=0.99 .........................................\n",
      "[CV] .......................... alpha=50, l1_ratio=0.99, total=   0.0s\n",
      "[CV] alpha=50, l1_ratio=0.99 .........................................\n",
      "[CV] .......................... alpha=50, l1_ratio=0.99, total=   0.0s\n",
      "[CV] alpha=50, l1_ratio=1 ............................................\n",
      "[CV] ............................. alpha=50, l1_ratio=1, total=   0.0s\n",
      "[CV] alpha=50, l1_ratio=1 ............................................\n",
      "[CV] ............................. alpha=50, l1_ratio=1, total=   0.0s\n",
      "[CV] alpha=50, l1_ratio=1 ............................................\n",
      "[CV] ............................. alpha=50, l1_ratio=1, total=   0.0s\n",
      "[CV] alpha=50, l1_ratio=1 ............................................\n",
      "[CV] ............................. alpha=50, l1_ratio=1, total=   0.0s\n",
      "[CV] alpha=50, l1_ratio=1 ............................................\n",
      "[CV] ............................. alpha=50, l1_ratio=1, total=   0.0s\n",
      "[CV] alpha=100, l1_ratio=0.1 .........................................\n",
      "[CV] .......................... alpha=100, l1_ratio=0.1, total=   0.0s\n",
      "[CV] alpha=100, l1_ratio=0.1 .........................................\n",
      "[CV] .......................... alpha=100, l1_ratio=0.1, total=   0.0s\n",
      "[CV] alpha=100, l1_ratio=0.1 .........................................\n",
      "[CV] .......................... alpha=100, l1_ratio=0.1, total=   0.0s\n",
      "[CV] alpha=100, l1_ratio=0.1 .........................................\n",
      "[CV] .......................... alpha=100, l1_ratio=0.1, total=   0.0s\n",
      "[CV] alpha=100, l1_ratio=0.1 .........................................\n",
      "[CV] .......................... alpha=100, l1_ratio=0.1, total=   0.0s\n",
      "[CV] alpha=100, l1_ratio=0.5 .........................................\n",
      "[CV] .......................... alpha=100, l1_ratio=0.5, total=   0.0s\n",
      "[CV] alpha=100, l1_ratio=0.5 .........................................\n",
      "[CV] .......................... alpha=100, l1_ratio=0.5, total=   0.0s\n",
      "[CV] alpha=100, l1_ratio=0.5 .........................................\n",
      "[CV] .......................... alpha=100, l1_ratio=0.5, total=   0.0s\n",
      "[CV] alpha=100, l1_ratio=0.5 .........................................\n",
      "[CV] .......................... alpha=100, l1_ratio=0.5, total=   0.0s\n",
      "[CV] alpha=100, l1_ratio=0.5 .........................................\n",
      "[CV] .......................... alpha=100, l1_ratio=0.5, total=   0.0s\n"
     ]
    },
    {
     "name": "stdout",
     "output_type": "stream",
     "text": [
      "[CV] alpha=100, l1_ratio=0.7 .........................................\n",
      "[CV] .......................... alpha=100, l1_ratio=0.7, total=   0.0s\n",
      "[CV] alpha=100, l1_ratio=0.7 .........................................\n",
      "[CV] .......................... alpha=100, l1_ratio=0.7, total=   0.0s\n",
      "[CV] alpha=100, l1_ratio=0.7 .........................................\n",
      "[CV] .......................... alpha=100, l1_ratio=0.7, total=   0.0s\n",
      "[CV] alpha=100, l1_ratio=0.7 .........................................\n",
      "[CV] .......................... alpha=100, l1_ratio=0.7, total=   0.0s\n",
      "[CV] alpha=100, l1_ratio=0.7 .........................................\n",
      "[CV] .......................... alpha=100, l1_ratio=0.7, total=   0.0s\n",
      "[CV] alpha=100, l1_ratio=0.9 .........................................\n",
      "[CV] .......................... alpha=100, l1_ratio=0.9, total=   0.0s\n",
      "[CV] alpha=100, l1_ratio=0.9 .........................................\n",
      "[CV] .......................... alpha=100, l1_ratio=0.9, total=   0.0s\n",
      "[CV] alpha=100, l1_ratio=0.9 .........................................\n",
      "[CV] .......................... alpha=100, l1_ratio=0.9, total=   0.0s\n",
      "[CV] alpha=100, l1_ratio=0.9 .........................................\n",
      "[CV] .......................... alpha=100, l1_ratio=0.9, total=   0.0s\n",
      "[CV] alpha=100, l1_ratio=0.9 .........................................\n",
      "[CV] .......................... alpha=100, l1_ratio=0.9, total=   0.0s\n",
      "[CV] alpha=100, l1_ratio=0.95 ........................................\n",
      "[CV] ......................... alpha=100, l1_ratio=0.95, total=   0.0s\n",
      "[CV] alpha=100, l1_ratio=0.95 ........................................\n",
      "[CV] ......................... alpha=100, l1_ratio=0.95, total=   0.0s\n",
      "[CV] alpha=100, l1_ratio=0.95 ........................................\n",
      "[CV] ......................... alpha=100, l1_ratio=0.95, total=   0.0s\n",
      "[CV] alpha=100, l1_ratio=0.95 ........................................\n",
      "[CV] ......................... alpha=100, l1_ratio=0.95, total=   0.0s\n",
      "[CV] alpha=100, l1_ratio=0.95 ........................................\n",
      "[CV] ......................... alpha=100, l1_ratio=0.95, total=   0.0s\n",
      "[CV] alpha=100, l1_ratio=0.99 ........................................\n",
      "[CV] ......................... alpha=100, l1_ratio=0.99, total=   0.0s\n",
      "[CV] alpha=100, l1_ratio=0.99 ........................................\n",
      "[CV] ......................... alpha=100, l1_ratio=0.99, total=   0.0s\n",
      "[CV] alpha=100, l1_ratio=0.99 ........................................\n",
      "[CV] ......................... alpha=100, l1_ratio=0.99, total=   0.0s\n",
      "[CV] alpha=100, l1_ratio=0.99 ........................................\n",
      "[CV] ......................... alpha=100, l1_ratio=0.99, total=   0.0s\n",
      "[CV] alpha=100, l1_ratio=0.99 ........................................\n",
      "[CV] ......................... alpha=100, l1_ratio=0.99, total=   0.0s\n",
      "[CV] alpha=100, l1_ratio=1 ...........................................\n",
      "[CV] ............................ alpha=100, l1_ratio=1, total=   0.0s\n",
      "[CV] alpha=100, l1_ratio=1 ...........................................\n",
      "[CV] ............................ alpha=100, l1_ratio=1, total=   0.0s\n",
      "[CV] alpha=100, l1_ratio=1 ...........................................\n",
      "[CV] ............................ alpha=100, l1_ratio=1, total=   0.0s\n",
      "[CV] alpha=100, l1_ratio=1 ...........................................\n",
      "[CV] ............................ alpha=100, l1_ratio=1, total=   0.0s\n",
      "[CV] alpha=100, l1_ratio=1 ...........................................\n",
      "[CV] ............................ alpha=100, l1_ratio=1, total=   0.0s\n"
     ]
    },
    {
     "name": "stderr",
     "output_type": "stream",
     "text": [
      "[Parallel(n_jobs=1)]: Done 210 out of 210 | elapsed:   10.5s finished\n"
     ]
    },
    {
     "data": {
      "text/plain": [
       "GridSearchCV(cv=5, estimator=ElasticNet(),\n",
       "             param_grid={'alpha': [0.1, 1, 5, 10, 50, 100],\n",
       "                         'l1_ratio': [0.1, 0.5, 0.7, 0.9, 0.95, 0.99, 1]},\n",
       "             scoring='neg_mean_squared_error', verbose=2)"
      ]
     },
     "execution_count": 162,
     "metadata": {},
     "output_type": "execute_result"
    }
   ],
   "source": [
    "grid_model.fit(x_train,y_train)"
   ]
  },
  {
   "cell_type": "code",
   "execution_count": 163,
   "metadata": {},
   "outputs": [
    {
     "data": {
      "text/plain": [
       "ElasticNet(alpha=0.1, l1_ratio=0.9)"
      ]
     },
     "execution_count": 163,
     "metadata": {},
     "output_type": "execute_result"
    }
   ],
   "source": [
    "grid_model.best_estimator_"
   ]
  },
  {
   "cell_type": "code",
   "execution_count": 164,
   "metadata": {},
   "outputs": [
    {
     "data": {
      "text/plain": [
       "{'alpha': 0.1, 'l1_ratio': 0.9}"
      ]
     },
     "execution_count": 164,
     "metadata": {},
     "output_type": "execute_result"
    }
   ],
   "source": [
    "grid_model.best_params_"
   ]
  },
  {
   "cell_type": "code",
   "execution_count": 165,
   "metadata": {},
   "outputs": [
    {
     "data": {
      "text/html": [
       "<div>\n",
       "<style scoped>\n",
       "    .dataframe tbody tr th:only-of-type {\n",
       "        vertical-align: middle;\n",
       "    }\n",
       "\n",
       "    .dataframe tbody tr th {\n",
       "        vertical-align: top;\n",
       "    }\n",
       "\n",
       "    .dataframe thead th {\n",
       "        text-align: right;\n",
       "    }\n",
       "</style>\n",
       "<table border=\"1\" class=\"dataframe\">\n",
       "  <thead>\n",
       "    <tr style=\"text-align: right;\">\n",
       "      <th></th>\n",
       "      <th>mean_fit_time</th>\n",
       "      <th>std_fit_time</th>\n",
       "      <th>mean_score_time</th>\n",
       "      <th>std_score_time</th>\n",
       "      <th>param_alpha</th>\n",
       "      <th>param_l1_ratio</th>\n",
       "      <th>params</th>\n",
       "      <th>split0_test_score</th>\n",
       "      <th>split1_test_score</th>\n",
       "      <th>split2_test_score</th>\n",
       "      <th>split3_test_score</th>\n",
       "      <th>split4_test_score</th>\n",
       "      <th>mean_test_score</th>\n",
       "      <th>std_test_score</th>\n",
       "      <th>rank_test_score</th>\n",
       "    </tr>\n",
       "  </thead>\n",
       "  <tbody>\n",
       "    <tr>\n",
       "      <th>0</th>\n",
       "      <td>0.105626</td>\n",
       "      <td>0.021274</td>\n",
       "      <td>0.012169</td>\n",
       "      <td>0.021347</td>\n",
       "      <td>0.1</td>\n",
       "      <td>0.1</td>\n",
       "      <td>{'alpha': 0.1, 'l1_ratio': 0.1}</td>\n",
       "      <td>-579.573442</td>\n",
       "      <td>-466.940909</td>\n",
       "      <td>-485.703744</td>\n",
       "      <td>-435.479709</td>\n",
       "      <td>-459.826921</td>\n",
       "      <td>-485.504945</td>\n",
       "      <td>49.710020</td>\n",
       "      <td>7</td>\n",
       "    </tr>\n",
       "    <tr>\n",
       "      <th>1</th>\n",
       "      <td>0.079980</td>\n",
       "      <td>0.006355</td>\n",
       "      <td>0.001797</td>\n",
       "      <td>0.000749</td>\n",
       "      <td>0.1</td>\n",
       "      <td>0.5</td>\n",
       "      <td>{'alpha': 0.1, 'l1_ratio': 0.5}</td>\n",
       "      <td>-576.023517</td>\n",
       "      <td>-462.726282</td>\n",
       "      <td>-480.432897</td>\n",
       "      <td>-431.499662</td>\n",
       "      <td>-453.369421</td>\n",
       "      <td>-480.810356</td>\n",
       "      <td>50.154305</td>\n",
       "      <td>6</td>\n",
       "    </tr>\n",
       "    <tr>\n",
       "      <th>2</th>\n",
       "      <td>0.074800</td>\n",
       "      <td>0.005745</td>\n",
       "      <td>0.001197</td>\n",
       "      <td>0.000397</td>\n",
       "      <td>0.1</td>\n",
       "      <td>0.7</td>\n",
       "      <td>{'alpha': 0.1, 'l1_ratio': 0.7}</td>\n",
       "      <td>-573.472958</td>\n",
       "      <td>-460.571965</td>\n",
       "      <td>-478.655032</td>\n",
       "      <td>-430.254439</td>\n",
       "      <td>-451.777496</td>\n",
       "      <td>-478.946378</td>\n",
       "      <td>49.763503</td>\n",
       "      <td>2</td>\n",
       "    </tr>\n",
       "    <tr>\n",
       "      <th>3</th>\n",
       "      <td>0.136337</td>\n",
       "      <td>0.018549</td>\n",
       "      <td>0.001399</td>\n",
       "      <td>0.000487</td>\n",
       "      <td>0.1</td>\n",
       "      <td>0.9</td>\n",
       "      <td>{'alpha': 0.1, 'l1_ratio': 0.9}</td>\n",
       "      <td>-572.420047</td>\n",
       "      <td>-459.365604</td>\n",
       "      <td>-478.122582</td>\n",
       "      <td>-430.251796</td>\n",
       "      <td>-452.120436</td>\n",
       "      <td>-478.456093</td>\n",
       "      <td>49.418628</td>\n",
       "      <td>1</td>\n",
       "    </tr>\n",
       "    <tr>\n",
       "      <th>4</th>\n",
       "      <td>0.225916</td>\n",
       "      <td>0.034739</td>\n",
       "      <td>0.001198</td>\n",
       "      <td>0.000399</td>\n",
       "      <td>0.1</td>\n",
       "      <td>0.95</td>\n",
       "      <td>{'alpha': 0.1, 'l1_ratio': 0.95}</td>\n",
       "      <td>-572.821260</td>\n",
       "      <td>-459.887412</td>\n",
       "      <td>-478.639530</td>\n",
       "      <td>-430.693779</td>\n",
       "      <td>-453.010480</td>\n",
       "      <td>-479.010492</td>\n",
       "      <td>49.349358</td>\n",
       "      <td>3</td>\n",
       "    </tr>\n",
       "    <tr>\n",
       "      <th>5</th>\n",
       "      <td>0.240623</td>\n",
       "      <td>0.020386</td>\n",
       "      <td>0.002395</td>\n",
       "      <td>0.001957</td>\n",
       "      <td>0.1</td>\n",
       "      <td>0.99</td>\n",
       "      <td>{'alpha': 0.1, 'l1_ratio': 0.99}</td>\n",
       "      <td>-573.182562</td>\n",
       "      <td>-460.356829</td>\n",
       "      <td>-479.531569</td>\n",
       "      <td>-431.327150</td>\n",
       "      <td>-453.750125</td>\n",
       "      <td>-479.629647</td>\n",
       "      <td>49.247294</td>\n",
       "      <td>4</td>\n",
       "    </tr>\n",
       "    <tr>\n",
       "      <th>6</th>\n",
       "      <td>0.210037</td>\n",
       "      <td>0.020536</td>\n",
       "      <td>0.001596</td>\n",
       "      <td>0.000487</td>\n",
       "      <td>0.1</td>\n",
       "      <td>1</td>\n",
       "      <td>{'alpha': 0.1, 'l1_ratio': 1}</td>\n",
       "      <td>-573.276167</td>\n",
       "      <td>-459.995007</td>\n",
       "      <td>-479.739971</td>\n",
       "      <td>-431.311244</td>\n",
       "      <td>-454.002520</td>\n",
       "      <td>-479.664982</td>\n",
       "      <td>49.288159</td>\n",
       "      <td>5</td>\n",
       "    </tr>\n",
       "    <tr>\n",
       "      <th>7</th>\n",
       "      <td>0.039294</td>\n",
       "      <td>0.002323</td>\n",
       "      <td>0.001394</td>\n",
       "      <td>0.000491</td>\n",
       "      <td>1</td>\n",
       "      <td>0.1</td>\n",
       "      <td>{'alpha': 1, 'l1_ratio': 0.1}</td>\n",
       "      <td>-613.926460</td>\n",
       "      <td>-588.287904</td>\n",
       "      <td>-618.180496</td>\n",
       "      <td>-562.526832</td>\n",
       "      <td>-628.113161</td>\n",
       "      <td>-602.206971</td>\n",
       "      <td>23.798674</td>\n",
       "      <td>14</td>\n",
       "    </tr>\n",
       "    <tr>\n",
       "      <th>8</th>\n",
       "      <td>0.045077</td>\n",
       "      <td>0.004345</td>\n",
       "      <td>0.001197</td>\n",
       "      <td>0.000399</td>\n",
       "      <td>1</td>\n",
       "      <td>0.5</td>\n",
       "      <td>{'alpha': 1, 'l1_ratio': 0.5}</td>\n",
       "      <td>-578.610896</td>\n",
       "      <td>-525.137995</td>\n",
       "      <td>-570.200907</td>\n",
       "      <td>-520.953891</td>\n",
       "      <td>-569.082069</td>\n",
       "      <td>-552.797151</td>\n",
       "      <td>24.549789</td>\n",
       "      <td>13</td>\n",
       "    </tr>\n",
       "    <tr>\n",
       "      <th>9</th>\n",
       "      <td>0.045078</td>\n",
       "      <td>0.003300</td>\n",
       "      <td>0.001798</td>\n",
       "      <td>0.000743</td>\n",
       "      <td>1</td>\n",
       "      <td>0.7</td>\n",
       "      <td>{'alpha': 1, 'l1_ratio': 0.7}</td>\n",
       "      <td>-561.290359</td>\n",
       "      <td>-494.199875</td>\n",
       "      <td>-543.231633</td>\n",
       "      <td>-500.260577</td>\n",
       "      <td>-538.767760</td>\n",
       "      <td>-527.550041</td>\n",
       "      <td>25.950364</td>\n",
       "      <td>12</td>\n",
       "    </tr>\n",
       "    <tr>\n",
       "      <th>10</th>\n",
       "      <td>0.045680</td>\n",
       "      <td>0.003473</td>\n",
       "      <td>0.001395</td>\n",
       "      <td>0.000488</td>\n",
       "      <td>1</td>\n",
       "      <td>0.9</td>\n",
       "      <td>{'alpha': 1, 'l1_ratio': 0.9}</td>\n",
       "      <td>-547.738717</td>\n",
       "      <td>-467.126344</td>\n",
       "      <td>-523.152012</td>\n",
       "      <td>-482.601004</td>\n",
       "      <td>-507.099737</td>\n",
       "      <td>-505.543563</td>\n",
       "      <td>28.618714</td>\n",
       "      <td>11</td>\n",
       "    </tr>\n",
       "    <tr>\n",
       "      <th>11</th>\n",
       "      <td>0.042486</td>\n",
       "      <td>0.003709</td>\n",
       "      <td>0.001197</td>\n",
       "      <td>0.000399</td>\n",
       "      <td>1</td>\n",
       "      <td>0.95</td>\n",
       "      <td>{'alpha': 1, 'l1_ratio': 0.95}</td>\n",
       "      <td>-544.399455</td>\n",
       "      <td>-464.996804</td>\n",
       "      <td>-522.246786</td>\n",
       "      <td>-483.407079</td>\n",
       "      <td>-500.553172</td>\n",
       "      <td>-503.120659</td>\n",
       "      <td>27.994261</td>\n",
       "      <td>10</td>\n",
       "    </tr>\n",
       "    <tr>\n",
       "      <th>12</th>\n",
       "      <td>0.050664</td>\n",
       "      <td>0.005691</td>\n",
       "      <td>0.001995</td>\n",
       "      <td>0.000631</td>\n",
       "      <td>1</td>\n",
       "      <td>0.99</td>\n",
       "      <td>{'alpha': 1, 'l1_ratio': 0.99}</td>\n",
       "      <td>-539.852089</td>\n",
       "      <td>-459.436072</td>\n",
       "      <td>-523.931758</td>\n",
       "      <td>-486.869616</td>\n",
       "      <td>-499.347855</td>\n",
       "      <td>-501.887478</td>\n",
       "      <td>28.147361</td>\n",
       "      <td>9</td>\n",
       "    </tr>\n",
       "    <tr>\n",
       "      <th>13</th>\n",
       "      <td>0.049867</td>\n",
       "      <td>0.005747</td>\n",
       "      <td>0.001196</td>\n",
       "      <td>0.000746</td>\n",
       "      <td>1</td>\n",
       "      <td>1</td>\n",
       "      <td>{'alpha': 1, 'l1_ratio': 1}</td>\n",
       "      <td>-538.665932</td>\n",
       "      <td>-456.439710</td>\n",
       "      <td>-524.399494</td>\n",
       "      <td>-488.501368</td>\n",
       "      <td>-498.451888</td>\n",
       "      <td>-501.291678</td>\n",
       "      <td>28.685054</td>\n",
       "      <td>8</td>\n",
       "    </tr>\n",
       "    <tr>\n",
       "      <th>14</th>\n",
       "      <td>0.019346</td>\n",
       "      <td>0.001849</td>\n",
       "      <td>0.001795</td>\n",
       "      <td>0.000398</td>\n",
       "      <td>5</td>\n",
       "      <td>0.1</td>\n",
       "      <td>{'alpha': 5, 'l1_ratio': 0.1}</td>\n",
       "      <td>-1050.694266</td>\n",
       "      <td>-1233.069947</td>\n",
       "      <td>-1228.470572</td>\n",
       "      <td>-1033.272176</td>\n",
       "      <td>-1261.298895</td>\n",
       "      <td>-1161.361171</td>\n",
       "      <td>98.272401</td>\n",
       "      <td>24</td>\n",
       "    </tr>\n",
       "    <tr>\n",
       "      <th>15</th>\n",
       "      <td>0.020948</td>\n",
       "      <td>0.001404</td>\n",
       "      <td>0.001595</td>\n",
       "      <td>0.000488</td>\n",
       "      <td>5</td>\n",
       "      <td>0.5</td>\n",
       "      <td>{'alpha': 5, 'l1_ratio': 0.5}</td>\n",
       "      <td>-943.559157</td>\n",
       "      <td>-1062.679172</td>\n",
       "      <td>-1055.550416</td>\n",
       "      <td>-913.804770</td>\n",
       "      <td>-1088.409810</td>\n",
       "      <td>-1012.800665</td>\n",
       "      <td>70.180800</td>\n",
       "      <td>22</td>\n",
       "    </tr>\n",
       "    <tr>\n",
       "      <th>16</th>\n",
       "      <td>0.022738</td>\n",
       "      <td>0.003179</td>\n",
       "      <td>0.000998</td>\n",
       "      <td>0.000001</td>\n",
       "      <td>5</td>\n",
       "      <td>0.7</td>\n",
       "      <td>{'alpha': 5, 'l1_ratio': 0.7}</td>\n",
       "      <td>-878.352451</td>\n",
       "      <td>-956.194803</td>\n",
       "      <td>-941.425275</td>\n",
       "      <td>-837.184676</td>\n",
       "      <td>-978.260642</td>\n",
       "      <td>-918.283570</td>\n",
       "      <td>52.424373</td>\n",
       "      <td>19</td>\n",
       "    </tr>\n",
       "    <tr>\n",
       "      <th>17</th>\n",
       "      <td>0.025137</td>\n",
       "      <td>0.001324</td>\n",
       "      <td>0.000997</td>\n",
       "      <td>0.000002</td>\n",
       "      <td>5</td>\n",
       "      <td>0.9</td>\n",
       "      <td>{'alpha': 5, 'l1_ratio': 0.9}</td>\n",
       "      <td>-810.902513</td>\n",
       "      <td>-817.596974</td>\n",
       "      <td>-803.324897</td>\n",
       "      <td>-751.291727</td>\n",
       "      <td>-850.554623</td>\n",
       "      <td>-806.734147</td>\n",
       "      <td>32.065855</td>\n",
       "      <td>18</td>\n",
       "    </tr>\n",
       "    <tr>\n",
       "      <th>18</th>\n",
       "      <td>0.028230</td>\n",
       "      <td>0.003051</td>\n",
       "      <td>0.001995</td>\n",
       "      <td>0.000892</td>\n",
       "      <td>5</td>\n",
       "      <td>0.95</td>\n",
       "      <td>{'alpha': 5, 'l1_ratio': 0.95}</td>\n",
       "      <td>-786.815383</td>\n",
       "      <td>-769.106896</td>\n",
       "      <td>-770.912619</td>\n",
       "      <td>-728.629462</td>\n",
       "      <td>-809.015043</td>\n",
       "      <td>-772.895880</td>\n",
       "      <td>26.367222</td>\n",
       "      <td>17</td>\n",
       "    </tr>\n",
       "    <tr>\n",
       "      <th>19</th>\n",
       "      <td>0.026330</td>\n",
       "      <td>0.002152</td>\n",
       "      <td>0.001793</td>\n",
       "      <td>0.000398</td>\n",
       "      <td>5</td>\n",
       "      <td>0.99</td>\n",
       "      <td>{'alpha': 5, 'l1_ratio': 0.99}</td>\n",
       "      <td>-744.987122</td>\n",
       "      <td>-718.038748</td>\n",
       "      <td>-749.013007</td>\n",
       "      <td>-721.185521</td>\n",
       "      <td>-770.508710</td>\n",
       "      <td>-740.746622</td>\n",
       "      <td>19.341050</td>\n",
       "      <td>16</td>\n",
       "    </tr>\n",
       "    <tr>\n",
       "      <th>20</th>\n",
       "      <td>0.025342</td>\n",
       "      <td>0.002556</td>\n",
       "      <td>0.001199</td>\n",
       "      <td>0.000400</td>\n",
       "      <td>5</td>\n",
       "      <td>1</td>\n",
       "      <td>{'alpha': 5, 'l1_ratio': 1}</td>\n",
       "      <td>-734.626410</td>\n",
       "      <td>-704.920375</td>\n",
       "      <td>-756.559615</td>\n",
       "      <td>-727.919607</td>\n",
       "      <td>-764.275386</td>\n",
       "      <td>-737.660279</td>\n",
       "      <td>21.173262</td>\n",
       "      <td>15</td>\n",
       "    </tr>\n",
       "    <tr>\n",
       "      <th>21</th>\n",
       "      <td>0.016659</td>\n",
       "      <td>0.001170</td>\n",
       "      <td>0.001595</td>\n",
       "      <td>0.000488</td>\n",
       "      <td>10</td>\n",
       "      <td>0.1</td>\n",
       "      <td>{'alpha': 10, 'l1_ratio': 0.1}</td>\n",
       "      <td>-1618.854785</td>\n",
       "      <td>-1948.600839</td>\n",
       "      <td>-1924.079499</td>\n",
       "      <td>-1551.153498</td>\n",
       "      <td>-1936.993022</td>\n",
       "      <td>-1795.936329</td>\n",
       "      <td>173.724277</td>\n",
       "      <td>28</td>\n",
       "    </tr>\n",
       "    <tr>\n",
       "      <th>22</th>\n",
       "      <td>0.017755</td>\n",
       "      <td>0.001163</td>\n",
       "      <td>0.000999</td>\n",
       "      <td>0.000632</td>\n",
       "      <td>10</td>\n",
       "      <td>0.5</td>\n",
       "      <td>{'alpha': 10, 'l1_ratio': 0.5}</td>\n",
       "      <td>-1482.283964</td>\n",
       "      <td>-1761.794981</td>\n",
       "      <td>-1723.683088</td>\n",
       "      <td>-1395.766856</td>\n",
       "      <td>-1735.548895</td>\n",
       "      <td>-1619.815557</td>\n",
       "      <td>150.634382</td>\n",
       "      <td>27</td>\n",
       "    </tr>\n",
       "    <tr>\n",
       "      <th>23</th>\n",
       "      <td>0.020343</td>\n",
       "      <td>0.002793</td>\n",
       "      <td>0.001797</td>\n",
       "      <td>0.000751</td>\n",
       "      <td>10</td>\n",
       "      <td>0.7</td>\n",
       "      <td>{'alpha': 10, 'l1_ratio': 0.7}</td>\n",
       "      <td>-1351.843620</td>\n",
       "      <td>-1574.635112</td>\n",
       "      <td>-1536.156579</td>\n",
       "      <td>-1254.840921</td>\n",
       "      <td>-1553.383153</td>\n",
       "      <td>-1454.171877</td>\n",
       "      <td>127.498754</td>\n",
       "      <td>26</td>\n",
       "    </tr>\n",
       "    <tr>\n",
       "      <th>24</th>\n",
       "      <td>0.018948</td>\n",
       "      <td>0.001093</td>\n",
       "      <td>0.001196</td>\n",
       "      <td>0.000400</td>\n",
       "      <td>10</td>\n",
       "      <td>0.9</td>\n",
       "      <td>{'alpha': 10, 'l1_ratio': 0.9}</td>\n",
       "      <td>-1147.468428</td>\n",
       "      <td>-1260.248223</td>\n",
       "      <td>-1238.136151</td>\n",
       "      <td>-1038.430833</td>\n",
       "      <td>-1281.525858</td>\n",
       "      <td>-1193.161899</td>\n",
       "      <td>89.845471</td>\n",
       "      <td>25</td>\n",
       "    </tr>\n",
       "    <tr>\n",
       "      <th>25</th>\n",
       "      <td>0.023932</td>\n",
       "      <td>0.001891</td>\n",
       "      <td>0.001597</td>\n",
       "      <td>0.000489</td>\n",
       "      <td>10</td>\n",
       "      <td>0.95</td>\n",
       "      <td>{'alpha': 10, 'l1_ratio': 0.95}</td>\n",
       "      <td>-1066.011305</td>\n",
       "      <td>-1131.796131</td>\n",
       "      <td>-1136.410353</td>\n",
       "      <td>-955.819730</td>\n",
       "      <td>-1175.812227</td>\n",
       "      <td>-1093.169949</td>\n",
       "      <td>77.193439</td>\n",
       "      <td>23</td>\n",
       "    </tr>\n",
       "    <tr>\n",
       "      <th>26</th>\n",
       "      <td>0.024535</td>\n",
       "      <td>0.001351</td>\n",
       "      <td>0.001398</td>\n",
       "      <td>0.000490</td>\n",
       "      <td>10</td>\n",
       "      <td>0.99</td>\n",
       "      <td>{'alpha': 10, 'l1_ratio': 0.99}</td>\n",
       "      <td>-974.265304</td>\n",
       "      <td>-1006.128318</td>\n",
       "      <td>-1043.246716</td>\n",
       "      <td>-895.377014</td>\n",
       "      <td>-1055.606747</td>\n",
       "      <td>-994.924820</td>\n",
       "      <td>57.409758</td>\n",
       "      <td>21</td>\n",
       "    </tr>\n",
       "    <tr>\n",
       "      <th>27</th>\n",
       "      <td>0.024137</td>\n",
       "      <td>0.001465</td>\n",
       "      <td>0.001395</td>\n",
       "      <td>0.000488</td>\n",
       "      <td>10</td>\n",
       "      <td>1</td>\n",
       "      <td>{'alpha': 10, 'l1_ratio': 1}</td>\n",
       "      <td>-957.005193</td>\n",
       "      <td>-977.247434</td>\n",
       "      <td>-1030.628884</td>\n",
       "      <td>-895.124890</td>\n",
       "      <td>-1037.125853</td>\n",
       "      <td>-979.426451</td>\n",
       "      <td>52.086705</td>\n",
       "      <td>20</td>\n",
       "    </tr>\n",
       "    <tr>\n",
       "      <th>28</th>\n",
       "      <td>0.019947</td>\n",
       "      <td>0.006017</td>\n",
       "      <td>0.001996</td>\n",
       "      <td>0.001092</td>\n",
       "      <td>50</td>\n",
       "      <td>0.1</td>\n",
       "      <td>{'alpha': 50, 'l1_ratio': 0.1}</td>\n",
       "      <td>-4077.137502</td>\n",
       "      <td>-4770.654707</td>\n",
       "      <td>-4697.292605</td>\n",
       "      <td>-3707.559472</td>\n",
       "      <td>-4563.336359</td>\n",
       "      <td>-4363.196129</td>\n",
       "      <td>407.280745</td>\n",
       "      <td>29</td>\n",
       "    </tr>\n",
       "    <tr>\n",
       "      <th>29</th>\n",
       "      <td>0.017063</td>\n",
       "      <td>0.001268</td>\n",
       "      <td>0.001796</td>\n",
       "      <td>0.000745</td>\n",
       "      <td>50</td>\n",
       "      <td>0.5</td>\n",
       "      <td>{'alpha': 50, 'l1_ratio': 0.5}</td>\n",
       "      <td>-4752.874925</td>\n",
       "      <td>-5524.465018</td>\n",
       "      <td>-5437.568944</td>\n",
       "      <td>-4255.365263</td>\n",
       "      <td>-5254.565236</td>\n",
       "      <td>-5044.967877</td>\n",
       "      <td>476.817520</td>\n",
       "      <td>32</td>\n",
       "    </tr>\n",
       "    <tr>\n",
       "      <th>30</th>\n",
       "      <td>0.015155</td>\n",
       "      <td>0.001163</td>\n",
       "      <td>0.001797</td>\n",
       "      <td>0.001163</td>\n",
       "      <td>50</td>\n",
       "      <td>0.7</td>\n",
       "      <td>{'alpha': 50, 'l1_ratio': 0.7}</td>\n",
       "      <td>-4978.579664</td>\n",
       "      <td>-5798.774785</td>\n",
       "      <td>-5707.002639</td>\n",
       "      <td>-4440.103012</td>\n",
       "      <td>-5497.956761</td>\n",
       "      <td>-5284.483372</td>\n",
       "      <td>508.948789</td>\n",
       "      <td>33</td>\n",
       "    </tr>\n",
       "    <tr>\n",
       "      <th>31</th>\n",
       "      <td>0.015463</td>\n",
       "      <td>0.001479</td>\n",
       "      <td>0.001397</td>\n",
       "      <td>0.000489</td>\n",
       "      <td>50</td>\n",
       "      <td>0.9</td>\n",
       "      <td>{'alpha': 50, 'l1_ratio': 0.9}</td>\n",
       "      <td>-5127.019322</td>\n",
       "      <td>-6033.267354</td>\n",
       "      <td>-5926.515855</td>\n",
       "      <td>-4540.703570</td>\n",
       "      <td>-5666.192005</td>\n",
       "      <td>-5458.739621</td>\n",
       "      <td>555.834824</td>\n",
       "      <td>36</td>\n",
       "    </tr>\n",
       "    <tr>\n",
       "      <th>32</th>\n",
       "      <td>0.015756</td>\n",
       "      <td>0.001164</td>\n",
       "      <td>0.001395</td>\n",
       "      <td>0.000488</td>\n",
       "      <td>50</td>\n",
       "      <td>0.95</td>\n",
       "      <td>{'alpha': 50, 'l1_ratio': 0.95}</td>\n",
       "      <td>-5046.273636</td>\n",
       "      <td>-5947.407932</td>\n",
       "      <td>-5848.994886</td>\n",
       "      <td>-4464.903922</td>\n",
       "      <td>-5618.929468</td>\n",
       "      <td>-5385.301969</td>\n",
       "      <td>556.350397</td>\n",
       "      <td>35</td>\n",
       "    </tr>\n",
       "    <tr>\n",
       "      <th>33</th>\n",
       "      <td>0.015359</td>\n",
       "      <td>0.002570</td>\n",
       "      <td>0.001793</td>\n",
       "      <td>0.000748</td>\n",
       "      <td>50</td>\n",
       "      <td>0.99</td>\n",
       "      <td>{'alpha': 50, 'l1_ratio': 0.99}</td>\n",
       "      <td>-4737.213938</td>\n",
       "      <td>-5530.332787</td>\n",
       "      <td>-5419.261095</td>\n",
       "      <td>-4143.601619</td>\n",
       "      <td>-5249.769290</td>\n",
       "      <td>-5016.035746</td>\n",
       "      <td>513.927311</td>\n",
       "      <td>31</td>\n",
       "    </tr>\n",
       "    <tr>\n",
       "      <th>34</th>\n",
       "      <td>0.016156</td>\n",
       "      <td>0.000395</td>\n",
       "      <td>0.001396</td>\n",
       "      <td>0.000487</td>\n",
       "      <td>50</td>\n",
       "      <td>1</td>\n",
       "      <td>{'alpha': 50, 'l1_ratio': 1}</td>\n",
       "      <td>-4247.226351</td>\n",
       "      <td>-5040.119796</td>\n",
       "      <td>-4940.401210</td>\n",
       "      <td>-3725.865313</td>\n",
       "      <td>-4742.046975</td>\n",
       "      <td>-4539.131929</td>\n",
       "      <td>489.855458</td>\n",
       "      <td>30</td>\n",
       "    </tr>\n",
       "    <tr>\n",
       "      <th>35</th>\n",
       "      <td>0.016958</td>\n",
       "      <td>0.001093</td>\n",
       "      <td>0.001394</td>\n",
       "      <td>0.000490</td>\n",
       "      <td>100</td>\n",
       "      <td>0.1</td>\n",
       "      <td>{'alpha': 100, 'l1_ratio': 0.1}</td>\n",
       "      <td>-5050.135322</td>\n",
       "      <td>-5841.181788</td>\n",
       "      <td>-5753.987146</td>\n",
       "      <td>-4564.374553</td>\n",
       "      <td>-5563.168267</td>\n",
       "      <td>-5354.569415</td>\n",
       "      <td>481.025497</td>\n",
       "      <td>34</td>\n",
       "    </tr>\n",
       "    <tr>\n",
       "      <th>36</th>\n",
       "      <td>0.014560</td>\n",
       "      <td>0.000798</td>\n",
       "      <td>0.001396</td>\n",
       "      <td>0.000488</td>\n",
       "      <td>100</td>\n",
       "      <td>0.5</td>\n",
       "      <td>{'alpha': 100, 'l1_ratio': 0.5}</td>\n",
       "      <td>-5915.989100</td>\n",
       "      <td>-6789.708045</td>\n",
       "      <td>-6694.245800</td>\n",
       "      <td>-5331.769443</td>\n",
       "      <td>-6457.633349</td>\n",
       "      <td>-6237.869147</td>\n",
       "      <td>545.110184</td>\n",
       "      <td>37</td>\n",
       "    </tr>\n",
       "    <tr>\n",
       "      <th>37</th>\n",
       "      <td>0.014761</td>\n",
       "      <td>0.000746</td>\n",
       "      <td>0.001197</td>\n",
       "      <td>0.000399</td>\n",
       "      <td>100</td>\n",
       "      <td>0.7</td>\n",
       "      <td>{'alpha': 100, 'l1_ratio': 0.7}</td>\n",
       "      <td>-6001.104850</td>\n",
       "      <td>-6860.408720</td>\n",
       "      <td>-6765.952941</td>\n",
       "      <td>-5424.805157</td>\n",
       "      <td>-6536.708736</td>\n",
       "      <td>-6317.796081</td>\n",
       "      <td>536.828077</td>\n",
       "      <td>38</td>\n",
       "    </tr>\n",
       "    <tr>\n",
       "      <th>38</th>\n",
       "      <td>0.014562</td>\n",
       "      <td>0.001353</td>\n",
       "      <td>0.001197</td>\n",
       "      <td>0.000398</td>\n",
       "      <td>100</td>\n",
       "      <td>0.9</td>\n",
       "      <td>{'alpha': 100, 'l1_ratio': 0.9}</td>\n",
       "      <td>-6001.104850</td>\n",
       "      <td>-6860.408720</td>\n",
       "      <td>-6765.952941</td>\n",
       "      <td>-5424.805157</td>\n",
       "      <td>-6536.708736</td>\n",
       "      <td>-6317.796081</td>\n",
       "      <td>536.828077</td>\n",
       "      <td>38</td>\n",
       "    </tr>\n",
       "    <tr>\n",
       "      <th>39</th>\n",
       "      <td>0.014964</td>\n",
       "      <td>0.001666</td>\n",
       "      <td>0.002392</td>\n",
       "      <td>0.001740</td>\n",
       "      <td>100</td>\n",
       "      <td>0.95</td>\n",
       "      <td>{'alpha': 100, 'l1_ratio': 0.95}</td>\n",
       "      <td>-6001.104850</td>\n",
       "      <td>-6860.408720</td>\n",
       "      <td>-6765.952941</td>\n",
       "      <td>-5424.805157</td>\n",
       "      <td>-6536.708736</td>\n",
       "      <td>-6317.796081</td>\n",
       "      <td>536.828077</td>\n",
       "      <td>38</td>\n",
       "    </tr>\n",
       "    <tr>\n",
       "      <th>40</th>\n",
       "      <td>0.013166</td>\n",
       "      <td>0.000743</td>\n",
       "      <td>0.001394</td>\n",
       "      <td>0.000490</td>\n",
       "      <td>100</td>\n",
       "      <td>0.99</td>\n",
       "      <td>{'alpha': 100, 'l1_ratio': 0.99}</td>\n",
       "      <td>-6001.104850</td>\n",
       "      <td>-6860.408720</td>\n",
       "      <td>-6765.952941</td>\n",
       "      <td>-5424.805157</td>\n",
       "      <td>-6536.708736</td>\n",
       "      <td>-6317.796081</td>\n",
       "      <td>536.828077</td>\n",
       "      <td>38</td>\n",
       "    </tr>\n",
       "    <tr>\n",
       "      <th>41</th>\n",
       "      <td>0.014165</td>\n",
       "      <td>0.001461</td>\n",
       "      <td>0.001393</td>\n",
       "      <td>0.000488</td>\n",
       "      <td>100</td>\n",
       "      <td>1</td>\n",
       "      <td>{'alpha': 100, 'l1_ratio': 1}</td>\n",
       "      <td>-6001.104850</td>\n",
       "      <td>-6860.408720</td>\n",
       "      <td>-6765.952941</td>\n",
       "      <td>-5424.805157</td>\n",
       "      <td>-6536.708736</td>\n",
       "      <td>-6317.796081</td>\n",
       "      <td>536.828077</td>\n",
       "      <td>38</td>\n",
       "    </tr>\n",
       "  </tbody>\n",
       "</table>\n",
       "</div>"
      ],
      "text/plain": [
       "    mean_fit_time  std_fit_time  mean_score_time  std_score_time param_alpha  \\\n",
       "0        0.105626      0.021274         0.012169        0.021347         0.1   \n",
       "1        0.079980      0.006355         0.001797        0.000749         0.1   \n",
       "2        0.074800      0.005745         0.001197        0.000397         0.1   \n",
       "3        0.136337      0.018549         0.001399        0.000487         0.1   \n",
       "4        0.225916      0.034739         0.001198        0.000399         0.1   \n",
       "5        0.240623      0.020386         0.002395        0.001957         0.1   \n",
       "6        0.210037      0.020536         0.001596        0.000487         0.1   \n",
       "7        0.039294      0.002323         0.001394        0.000491           1   \n",
       "8        0.045077      0.004345         0.001197        0.000399           1   \n",
       "9        0.045078      0.003300         0.001798        0.000743           1   \n",
       "10       0.045680      0.003473         0.001395        0.000488           1   \n",
       "11       0.042486      0.003709         0.001197        0.000399           1   \n",
       "12       0.050664      0.005691         0.001995        0.000631           1   \n",
       "13       0.049867      0.005747         0.001196        0.000746           1   \n",
       "14       0.019346      0.001849         0.001795        0.000398           5   \n",
       "15       0.020948      0.001404         0.001595        0.000488           5   \n",
       "16       0.022738      0.003179         0.000998        0.000001           5   \n",
       "17       0.025137      0.001324         0.000997        0.000002           5   \n",
       "18       0.028230      0.003051         0.001995        0.000892           5   \n",
       "19       0.026330      0.002152         0.001793        0.000398           5   \n",
       "20       0.025342      0.002556         0.001199        0.000400           5   \n",
       "21       0.016659      0.001170         0.001595        0.000488          10   \n",
       "22       0.017755      0.001163         0.000999        0.000632          10   \n",
       "23       0.020343      0.002793         0.001797        0.000751          10   \n",
       "24       0.018948      0.001093         0.001196        0.000400          10   \n",
       "25       0.023932      0.001891         0.001597        0.000489          10   \n",
       "26       0.024535      0.001351         0.001398        0.000490          10   \n",
       "27       0.024137      0.001465         0.001395        0.000488          10   \n",
       "28       0.019947      0.006017         0.001996        0.001092          50   \n",
       "29       0.017063      0.001268         0.001796        0.000745          50   \n",
       "30       0.015155      0.001163         0.001797        0.001163          50   \n",
       "31       0.015463      0.001479         0.001397        0.000489          50   \n",
       "32       0.015756      0.001164         0.001395        0.000488          50   \n",
       "33       0.015359      0.002570         0.001793        0.000748          50   \n",
       "34       0.016156      0.000395         0.001396        0.000487          50   \n",
       "35       0.016958      0.001093         0.001394        0.000490         100   \n",
       "36       0.014560      0.000798         0.001396        0.000488         100   \n",
       "37       0.014761      0.000746         0.001197        0.000399         100   \n",
       "38       0.014562      0.001353         0.001197        0.000398         100   \n",
       "39       0.014964      0.001666         0.002392        0.001740         100   \n",
       "40       0.013166      0.000743         0.001394        0.000490         100   \n",
       "41       0.014165      0.001461         0.001393        0.000488         100   \n",
       "\n",
       "   param_l1_ratio                            params  split0_test_score  \\\n",
       "0             0.1   {'alpha': 0.1, 'l1_ratio': 0.1}        -579.573442   \n",
       "1             0.5   {'alpha': 0.1, 'l1_ratio': 0.5}        -576.023517   \n",
       "2             0.7   {'alpha': 0.1, 'l1_ratio': 0.7}        -573.472958   \n",
       "3             0.9   {'alpha': 0.1, 'l1_ratio': 0.9}        -572.420047   \n",
       "4            0.95  {'alpha': 0.1, 'l1_ratio': 0.95}        -572.821260   \n",
       "5            0.99  {'alpha': 0.1, 'l1_ratio': 0.99}        -573.182562   \n",
       "6               1     {'alpha': 0.1, 'l1_ratio': 1}        -573.276167   \n",
       "7             0.1     {'alpha': 1, 'l1_ratio': 0.1}        -613.926460   \n",
       "8             0.5     {'alpha': 1, 'l1_ratio': 0.5}        -578.610896   \n",
       "9             0.7     {'alpha': 1, 'l1_ratio': 0.7}        -561.290359   \n",
       "10            0.9     {'alpha': 1, 'l1_ratio': 0.9}        -547.738717   \n",
       "11           0.95    {'alpha': 1, 'l1_ratio': 0.95}        -544.399455   \n",
       "12           0.99    {'alpha': 1, 'l1_ratio': 0.99}        -539.852089   \n",
       "13              1       {'alpha': 1, 'l1_ratio': 1}        -538.665932   \n",
       "14            0.1     {'alpha': 5, 'l1_ratio': 0.1}       -1050.694266   \n",
       "15            0.5     {'alpha': 5, 'l1_ratio': 0.5}        -943.559157   \n",
       "16            0.7     {'alpha': 5, 'l1_ratio': 0.7}        -878.352451   \n",
       "17            0.9     {'alpha': 5, 'l1_ratio': 0.9}        -810.902513   \n",
       "18           0.95    {'alpha': 5, 'l1_ratio': 0.95}        -786.815383   \n",
       "19           0.99    {'alpha': 5, 'l1_ratio': 0.99}        -744.987122   \n",
       "20              1       {'alpha': 5, 'l1_ratio': 1}        -734.626410   \n",
       "21            0.1    {'alpha': 10, 'l1_ratio': 0.1}       -1618.854785   \n",
       "22            0.5    {'alpha': 10, 'l1_ratio': 0.5}       -1482.283964   \n",
       "23            0.7    {'alpha': 10, 'l1_ratio': 0.7}       -1351.843620   \n",
       "24            0.9    {'alpha': 10, 'l1_ratio': 0.9}       -1147.468428   \n",
       "25           0.95   {'alpha': 10, 'l1_ratio': 0.95}       -1066.011305   \n",
       "26           0.99   {'alpha': 10, 'l1_ratio': 0.99}        -974.265304   \n",
       "27              1      {'alpha': 10, 'l1_ratio': 1}        -957.005193   \n",
       "28            0.1    {'alpha': 50, 'l1_ratio': 0.1}       -4077.137502   \n",
       "29            0.5    {'alpha': 50, 'l1_ratio': 0.5}       -4752.874925   \n",
       "30            0.7    {'alpha': 50, 'l1_ratio': 0.7}       -4978.579664   \n",
       "31            0.9    {'alpha': 50, 'l1_ratio': 0.9}       -5127.019322   \n",
       "32           0.95   {'alpha': 50, 'l1_ratio': 0.95}       -5046.273636   \n",
       "33           0.99   {'alpha': 50, 'l1_ratio': 0.99}       -4737.213938   \n",
       "34              1      {'alpha': 50, 'l1_ratio': 1}       -4247.226351   \n",
       "35            0.1   {'alpha': 100, 'l1_ratio': 0.1}       -5050.135322   \n",
       "36            0.5   {'alpha': 100, 'l1_ratio': 0.5}       -5915.989100   \n",
       "37            0.7   {'alpha': 100, 'l1_ratio': 0.7}       -6001.104850   \n",
       "38            0.9   {'alpha': 100, 'l1_ratio': 0.9}       -6001.104850   \n",
       "39           0.95  {'alpha': 100, 'l1_ratio': 0.95}       -6001.104850   \n",
       "40           0.99  {'alpha': 100, 'l1_ratio': 0.99}       -6001.104850   \n",
       "41              1     {'alpha': 100, 'l1_ratio': 1}       -6001.104850   \n",
       "\n",
       "    split1_test_score  split2_test_score  split3_test_score  \\\n",
       "0         -466.940909        -485.703744        -435.479709   \n",
       "1         -462.726282        -480.432897        -431.499662   \n",
       "2         -460.571965        -478.655032        -430.254439   \n",
       "3         -459.365604        -478.122582        -430.251796   \n",
       "4         -459.887412        -478.639530        -430.693779   \n",
       "5         -460.356829        -479.531569        -431.327150   \n",
       "6         -459.995007        -479.739971        -431.311244   \n",
       "7         -588.287904        -618.180496        -562.526832   \n",
       "8         -525.137995        -570.200907        -520.953891   \n",
       "9         -494.199875        -543.231633        -500.260577   \n",
       "10        -467.126344        -523.152012        -482.601004   \n",
       "11        -464.996804        -522.246786        -483.407079   \n",
       "12        -459.436072        -523.931758        -486.869616   \n",
       "13        -456.439710        -524.399494        -488.501368   \n",
       "14       -1233.069947       -1228.470572       -1033.272176   \n",
       "15       -1062.679172       -1055.550416        -913.804770   \n",
       "16        -956.194803        -941.425275        -837.184676   \n",
       "17        -817.596974        -803.324897        -751.291727   \n",
       "18        -769.106896        -770.912619        -728.629462   \n",
       "19        -718.038748        -749.013007        -721.185521   \n",
       "20        -704.920375        -756.559615        -727.919607   \n",
       "21       -1948.600839       -1924.079499       -1551.153498   \n",
       "22       -1761.794981       -1723.683088       -1395.766856   \n",
       "23       -1574.635112       -1536.156579       -1254.840921   \n",
       "24       -1260.248223       -1238.136151       -1038.430833   \n",
       "25       -1131.796131       -1136.410353        -955.819730   \n",
       "26       -1006.128318       -1043.246716        -895.377014   \n",
       "27        -977.247434       -1030.628884        -895.124890   \n",
       "28       -4770.654707       -4697.292605       -3707.559472   \n",
       "29       -5524.465018       -5437.568944       -4255.365263   \n",
       "30       -5798.774785       -5707.002639       -4440.103012   \n",
       "31       -6033.267354       -5926.515855       -4540.703570   \n",
       "32       -5947.407932       -5848.994886       -4464.903922   \n",
       "33       -5530.332787       -5419.261095       -4143.601619   \n",
       "34       -5040.119796       -4940.401210       -3725.865313   \n",
       "35       -5841.181788       -5753.987146       -4564.374553   \n",
       "36       -6789.708045       -6694.245800       -5331.769443   \n",
       "37       -6860.408720       -6765.952941       -5424.805157   \n",
       "38       -6860.408720       -6765.952941       -5424.805157   \n",
       "39       -6860.408720       -6765.952941       -5424.805157   \n",
       "40       -6860.408720       -6765.952941       -5424.805157   \n",
       "41       -6860.408720       -6765.952941       -5424.805157   \n",
       "\n",
       "    split4_test_score  mean_test_score  std_test_score  rank_test_score  \n",
       "0         -459.826921      -485.504945       49.710020                7  \n",
       "1         -453.369421      -480.810356       50.154305                6  \n",
       "2         -451.777496      -478.946378       49.763503                2  \n",
       "3         -452.120436      -478.456093       49.418628                1  \n",
       "4         -453.010480      -479.010492       49.349358                3  \n",
       "5         -453.750125      -479.629647       49.247294                4  \n",
       "6         -454.002520      -479.664982       49.288159                5  \n",
       "7         -628.113161      -602.206971       23.798674               14  \n",
       "8         -569.082069      -552.797151       24.549789               13  \n",
       "9         -538.767760      -527.550041       25.950364               12  \n",
       "10        -507.099737      -505.543563       28.618714               11  \n",
       "11        -500.553172      -503.120659       27.994261               10  \n",
       "12        -499.347855      -501.887478       28.147361                9  \n",
       "13        -498.451888      -501.291678       28.685054                8  \n",
       "14       -1261.298895     -1161.361171       98.272401               24  \n",
       "15       -1088.409810     -1012.800665       70.180800               22  \n",
       "16        -978.260642      -918.283570       52.424373               19  \n",
       "17        -850.554623      -806.734147       32.065855               18  \n",
       "18        -809.015043      -772.895880       26.367222               17  \n",
       "19        -770.508710      -740.746622       19.341050               16  \n",
       "20        -764.275386      -737.660279       21.173262               15  \n",
       "21       -1936.993022     -1795.936329      173.724277               28  \n",
       "22       -1735.548895     -1619.815557      150.634382               27  \n",
       "23       -1553.383153     -1454.171877      127.498754               26  \n",
       "24       -1281.525858     -1193.161899       89.845471               25  \n",
       "25       -1175.812227     -1093.169949       77.193439               23  \n",
       "26       -1055.606747      -994.924820       57.409758               21  \n",
       "27       -1037.125853      -979.426451       52.086705               20  \n",
       "28       -4563.336359     -4363.196129      407.280745               29  \n",
       "29       -5254.565236     -5044.967877      476.817520               32  \n",
       "30       -5497.956761     -5284.483372      508.948789               33  \n",
       "31       -5666.192005     -5458.739621      555.834824               36  \n",
       "32       -5618.929468     -5385.301969      556.350397               35  \n",
       "33       -5249.769290     -5016.035746      513.927311               31  \n",
       "34       -4742.046975     -4539.131929      489.855458               30  \n",
       "35       -5563.168267     -5354.569415      481.025497               34  \n",
       "36       -6457.633349     -6237.869147      545.110184               37  \n",
       "37       -6536.708736     -6317.796081      536.828077               38  \n",
       "38       -6536.708736     -6317.796081      536.828077               38  \n",
       "39       -6536.708736     -6317.796081      536.828077               38  \n",
       "40       -6536.708736     -6317.796081      536.828077               38  \n",
       "41       -6536.708736     -6317.796081      536.828077               38  "
      ]
     },
     "execution_count": 165,
     "metadata": {},
     "output_type": "execute_result"
    }
   ],
   "source": [
    " pd.DataFrame(grid_model.cv_results_)"
   ]
  },
  {
   "cell_type": "code",
   "execution_count": 166,
   "metadata": {},
   "outputs": [],
   "source": [
    "test_pred = grid_model.predict(x_test)"
   ]
  },
  {
   "cell_type": "code",
   "execution_count": 167,
   "metadata": {},
   "outputs": [],
   "source": [
    "from sklearn.metrics import mean_squared_error"
   ]
  },
  {
   "cell_type": "code",
   "execution_count": 168,
   "metadata": {},
   "outputs": [
    {
     "data": {
      "text/plain": [
       "14.259955510749112"
      ]
     },
     "execution_count": 168,
     "metadata": {},
     "output_type": "execute_result"
    }
   ],
   "source": [
    "MAE = mean_absolute_error(y_test,test_pred)\n",
    "\n",
    "MAE"
   ]
  },
  {
   "cell_type": "code",
   "execution_count": 169,
   "metadata": {},
   "outputs": [
    {
     "data": {
      "text/plain": [
       "365.5143136806475"
      ]
     },
     "execution_count": 169,
     "metadata": {},
     "output_type": "execute_result"
    }
   ],
   "source": [
    "MSE=mean_squared_error(y_test,test_pred)\n",
    "\n",
    "MSE"
   ]
  },
  {
   "cell_type": "code",
   "execution_count": 170,
   "metadata": {},
   "outputs": [
    {
     "data": {
      "text/plain": [
       "19.11842864046749"
      ]
     },
     "execution_count": 170,
     "metadata": {},
     "output_type": "execute_result"
    }
   ],
   "source": [
    "RMSE=np.sqrt(MSE)\n",
    "\n",
    "RMSE"
   ]
  },
  {
   "cell_type": "code",
   "execution_count": 171,
   "metadata": {},
   "outputs": [
    {
     "data": {
      "text/plain": [
       "18.749088872647455"
      ]
     },
     "execution_count": 171,
     "metadata": {},
     "output_type": "execute_result"
    }
   ],
   "source": [
    "#predict on train set\n",
    "\n",
    "train_pred=grid_model.predict(x_train)\n",
    "\n",
    "MSE = mean_squared_error(y_train,train_pred)\n",
    "RMSE= np.sqrt(MSE)\n",
    "\n",
    "RMSE"
   ]
  },
  {
   "cell_type": "code",
   "execution_count": 172,
   "metadata": {
    "scrolled": true
   },
   "outputs": [
    {
     "data": {
      "text/plain": [
       "412.29959220652387"
      ]
     },
     "execution_count": 172,
     "metadata": {},
     "output_type": "execute_result"
    }
   ],
   "source": [
    "df['SalePrice'].mean()"
   ]
  },
  {
   "cell_type": "code",
   "execution_count": 173,
   "metadata": {
    "scrolled": true
   },
   "outputs": [
    {
     "data": {
      "text/plain": [
       "4.547442982494123"
      ]
     },
     "execution_count": 173,
     "metadata": {},
     "output_type": "execute_result"
    }
   ],
   "source": [
    "RMSE*100/df['SalePrice'].mean()"
   ]
  },
  {
   "cell_type": "code",
   "execution_count": 174,
   "metadata": {},
   "outputs": [
    {
     "data": {
      "text/plain": [
       "16"
      ]
     },
     "execution_count": 174,
     "metadata": {},
     "output_type": "execute_result"
    }
   ],
   "source": [
    "4**2"
   ]
  },
  {
   "cell_type": "markdown",
   "metadata": {},
   "source": [
    "5% percent of error percentage for predicting sales price"
   ]
  },
  {
   "cell_type": "markdown",
   "metadata": {},
   "source": [
    "**Test 2 - Residual Plot and Distribution Plot**"
   ]
  },
  {
   "cell_type": "code",
   "execution_count": 175,
   "metadata": {},
   "outputs": [],
   "source": [
    "test_res=y_test-test_pred"
   ]
  },
  {
   "cell_type": "code",
   "execution_count": 176,
   "metadata": {},
   "outputs": [
    {
     "data": {
      "image/png": "[encoded data removed]",
      "text/plain": [
       "<Figure size 432x288 with 1 Axes>"
      ]
     },
     "metadata": {
      "needs_background": "light"
     },
     "output_type": "display_data"
    }
   ],
   "source": [
    "sns.scatterplot(x=y_test,y=test_res)\n",
    "plt.axhline(y=0,color='red',linestyle='--');"
   ]
  },
  {
   "cell_type": "code",
   "execution_count": 177,
   "metadata": {},
   "outputs": [
    {
     "data": {
      "image/png": "[encoded data removed]",
      "text/plain": [
       "<Figure size 432x288 with 1 Axes>"
      ]
     },
     "metadata": {
      "needs_background": "light"
     },
     "output_type": "display_data"
    }
   ],
   "source": [
    "sns.kdeplot(test_res);"
   ]
  },
  {
   "cell_type": "code",
   "execution_count": 178,
   "metadata": {},
   "outputs": [
    {
     "data": {
      "image/png": "[encoded data removed]",
      "text/plain": [
       "<Figure size 360x360 with 1 Axes>"
      ]
     },
     "metadata": {
      "needs_background": "light"
     },
     "output_type": "display_data"
    }
   ],
   "source": [
    "sns.displot(test_res,bins=20,kde=True);"
   ]
  },
  {
   "cell_type": "markdown",
   "metadata": {},
   "source": [
    "**Test 3 - Probability Plot**"
   ]
  },
  {
   "cell_type": "code",
   "execution_count": 179,
   "metadata": {},
   "outputs": [],
   "source": [
    "import scipy as sp"
   ]
  },
  {
   "cell_type": "code",
   "execution_count": 180,
   "metadata": {},
   "outputs": [
    {
     "data": {
      "image/png": "[encoded data removed]",
      "text/plain": [
       "<Figure size 600x800 with 1 Axes>"
      ]
     },
     "metadata": {
      "needs_background": "light"
     },
     "output_type": "display_data"
    }
   ],
   "source": [
    "fig,ax=plt.subplots(figsize=(6,8),dpi=100)\n",
    "\n",
    "_=sp.stats.probplot(test_res,plot=ax)\n"
   ]
  },
  {
   "cell_type": "markdown",
   "metadata": {},
   "source": [
    "## model deployment"
   ]
  },
  {
   "cell_type": "code",
   "execution_count": 181,
   "metadata": {},
   "outputs": [],
   "source": [
    "from joblib import dump, load"
   ]
  },
  {
   "cell_type": "code",
   "execution_count": 182,
   "metadata": {},
   "outputs": [
    {
     "data": {
      "text/plain": [
       "['ames_scaler.pkl']"
      ]
     },
     "execution_count": 182,
     "metadata": {},
     "output_type": "execute_result"
    }
   ],
   "source": [
    "dump(scaler,'ames_scaler.pkl')"
   ]
  },
  {
   "cell_type": "code",
   "execution_count": 183,
   "metadata": {},
   "outputs": [
    {
     "data": {
      "text/plain": [
       "['ames_model.h5']"
      ]
     },
     "execution_count": 183,
     "metadata": {},
     "output_type": "execute_result"
    }
   ],
   "source": [
    "dump(grid_model,'ames_model.h5')"
   ]
  },
  {
   "cell_type": "code",
   "execution_count": 184,
   "metadata": {},
   "outputs": [
    {
     "data": {
      "text/plain": [
       "Exter Qual      -0.702112\n",
       "Kitchen Qual    -0.676457\n",
       "Bsmt Qual       -0.634937\n",
       "Garage Finish   -0.594782\n",
       "Fireplace Qu    -0.544727\n",
       "                   ...   \n",
       "Total Bsmt SF    0.637243\n",
       "Garage Cars      0.686680\n",
       "Gr Liv Area      0.705968\n",
       "Overall Qual     0.825046\n",
       "SalePrice        1.000000\n",
       "Name: SalePrice, Length: 233, dtype: float64"
      ]
     },
     "execution_count": 184,
     "metadata": {},
     "output_type": "execute_result"
    }
   ],
   "source": [
    "df.corr()['SalePrice'].sort_values()"
   ]
  },
  {
   "cell_type": "code",
   "execution_count": 185,
   "metadata": {
    "scrolled": true
   },
   "outputs": [],
   "source": [
    "sale_price_example = {'Overall Qual':8,\n",
    "                 'Gr Liv Area':3000,\n",
    "                 'Garage Cars':3.0,\n",
    "                 'Total Bsmt SF':3000}"
   ]
  },
  {
   "cell_type": "code",
   "execution_count": 186,
   "metadata": {},
   "outputs": [],
   "source": [
    "from joblib import dump, load\n",
    "\n",
    "sale_price_model = load('ames_model.h5')\n",
    "\n",
    "sale_price_scaler = load('ames_scaler.pkl')\n",
    "\n",
    "def return_prediction(model,scaler,sample_json):\n",
    "    \n",
    "    ovr_qual = sample_json['Overall Qual']\n",
    "    gr_liv_area = sample_json['Gr Liv Area']\n",
    "    gr_cars = sample_json['Garage Cars']\n",
    "    t_bsmt_sf = sample_json['Total Bsmt SF']\n",
    "    \n",
    "    \n",
    "    sale_price = [[ovr_qual,gr_liv_area,gr_cars,t_bsmt_sf]]\n",
    "    \n",
    "    sale_price = scaler.transform(sale_price)\n",
    "    \n",
    "    prediction= model.predict(sale_price)\n",
    "    \n",
    "    return prediction[0]"
   ]
  },
  {
   "cell_type": "code",
   "execution_count": 187,
   "metadata": {},
   "outputs": [
    {
     "data": {
      "text/plain": [
       "0       6\n",
       "1       5\n",
       "2       6\n",
       "3       7\n",
       "4       5\n",
       "       ..\n",
       "2834    6\n",
       "2835    5\n",
       "2836    5\n",
       "2837    5\n",
       "2838    7\n",
       "Name: Overall Qual, Length: 2839, dtype: int64"
      ]
     },
     "execution_count": 187,
     "metadata": {},
     "output_type": "execute_result"
    }
   ],
   "source": [
    "df['Overall Qual']"
   ]
  },
  {
   "cell_type": "markdown",
   "metadata": {},
   "source": [
    "## RIDGE CV WITHOUT SCALER"
   ]
  },
  {
   "cell_type": "code",
   "execution_count": 188,
   "metadata": {},
   "outputs": [],
   "source": [
    "df=pd.read_csv('Ames_Housing_Clean_Data(remove skew).csv')\n",
    "\n",
    "x=df.drop('SalePrice',axis=1)\n",
    "y=df['SalePrice']\n",
    "\n",
    "from sklearn.model_selection import train_test_split\n",
    "\n",
    "x_train,x_test,y_train,y_test=train_test_split(x,y,test_size=0.3,random_state=101)"
   ]
  },
  {
   "cell_type": "code",
   "execution_count": 189,
   "metadata": {},
   "outputs": [],
   "source": [
    "from sklearn.linear_model import RidgeCV"
   ]
  },
  {
   "cell_type": "code",
   "execution_count": 190,
   "metadata": {},
   "outputs": [],
   "source": [
    "ridge_cv_model=RidgeCV(alphas=(0.1,1.0,10.0),scoring='neg_mean_absolute_error')"
   ]
  },
  {
   "cell_type": "code",
   "execution_count": 191,
   "metadata": {},
   "outputs": [
    {
     "data": {
      "text/plain": [
       "RidgeCV(alphas=array([ 0.1,  1. , 10. ]), scoring='neg_mean_absolute_error')"
      ]
     },
     "execution_count": 191,
     "metadata": {},
     "output_type": "execute_result"
    }
   ],
   "source": [
    "ridge_cv_model.fit(x_train,y_train)"
   ]
  },
  {
   "cell_type": "code",
   "execution_count": 192,
   "metadata": {},
   "outputs": [
    {
     "data": {
      "text/plain": [
       "10.0"
      ]
     },
     "execution_count": 192,
     "metadata": {},
     "output_type": "execute_result"
    }
   ],
   "source": [
    "ridge_cv_model.alpha_"
   ]
  },
  {
   "cell_type": "code",
   "execution_count": 193,
   "metadata": {},
   "outputs": [],
   "source": [
    "test_pred=ridge_cv_model.predict(x_test)"
   ]
  },
  {
   "cell_type": "code",
   "execution_count": 194,
   "metadata": {},
   "outputs": [
    {
     "data": {
      "text/plain": [
       "14.318689885494559"
      ]
     },
     "execution_count": 194,
     "metadata": {},
     "output_type": "execute_result"
    }
   ],
   "source": [
    "MAE=mean_absolute_error(y_test,test_pred)\n",
    "MAE"
   ]
  },
  {
   "cell_type": "code",
   "execution_count": 195,
   "metadata": {},
   "outputs": [
    {
     "data": {
      "text/plain": [
       "369.20775245596565"
      ]
     },
     "execution_count": 195,
     "metadata": {},
     "output_type": "execute_result"
    }
   ],
   "source": [
    "MSE=mean_squared_error(y_test,test_pred)\n",
    "MSE"
   ]
  },
  {
   "cell_type": "code",
   "execution_count": 196,
   "metadata": {},
   "outputs": [
    {
     "data": {
      "text/plain": [
       "19.214779531807427"
      ]
     },
     "execution_count": 196,
     "metadata": {},
     "output_type": "execute_result"
    }
   ],
   "source": [
    "RMSE=np.sqrt(MSE)\n",
    "RMSE"
   ]
  },
  {
   "cell_type": "code",
   "execution_count": 197,
   "metadata": {},
   "outputs": [
    {
     "data": {
      "text/plain": [
       "14.020019446214306"
      ]
     },
     "execution_count": 197,
     "metadata": {},
     "output_type": "execute_result"
    }
   ],
   "source": [
    "# test on train set\n",
    "\n",
    "train_pred=ridge_cv_model.predict(x_train)\n",
    "MAE=mean_absolute_error(y_train,train_pred)\n",
    "MAE"
   ]
  },
  {
   "cell_type": "code",
   "execution_count": 198,
   "metadata": {
    "scrolled": true
   },
   "outputs": [
    {
     "data": {
      "text/plain": [
       "4.660392562838773"
      ]
     },
     "execution_count": 198,
     "metadata": {},
     "output_type": "execute_result"
    }
   ],
   "source": [
    "RMSE*100/df['SalePrice'].mean()"
   ]
  },
  {
   "cell_type": "markdown",
   "metadata": {},
   "source": [
    "5% percent of error percentage for predicting sales price"
   ]
  },
  {
   "cell_type": "markdown",
   "metadata": {},
   "source": [
    "**Test 2 - Residual Plot and Distribution Plot**"
   ]
  },
  {
   "cell_type": "code",
   "execution_count": 199,
   "metadata": {},
   "outputs": [],
   "source": [
    "test_res=y_test-test_pred"
   ]
  },
  {
   "cell_type": "code",
   "execution_count": 200,
   "metadata": {},
   "outputs": [
    {
     "data": {
      "image/png": "[encoded data removed]",
      "text/plain": [
       "<Figure size 432x288 with 1 Axes>"
      ]
     },
     "metadata": {
      "needs_background": "light"
     },
     "output_type": "display_data"
    }
   ],
   "source": [
    "sns.scatterplot(x=y_test,y=test_res)\n",
    "plt.axhline(y=0,color='red',linestyle='--');"
   ]
  },
  {
   "cell_type": "code",
   "execution_count": 201,
   "metadata": {},
   "outputs": [
    {
     "data": {
      "image/png": "[encoded data removed]",
      "text/plain": [
       "<Figure size 432x288 with 1 Axes>"
      ]
     },
     "metadata": {
      "needs_background": "light"
     },
     "output_type": "display_data"
    }
   ],
   "source": [
    "sns.kdeplot(test_res);"
   ]
  },
  {
   "cell_type": "code",
   "execution_count": 202,
   "metadata": {},
   "outputs": [
    {
     "data": {
      "image/png": "[encoded data removed]",
      "text/plain": [
       "<Figure size 360x360 with 1 Axes>"
      ]
     },
     "metadata": {
      "needs_background": "light"
     },
     "output_type": "display_data"
    }
   ],
   "source": [
    "sns.displot(test_res,bins=20,kde=True);"
   ]
  },
  {
   "cell_type": "markdown",
   "metadata": {},
   "source": [
    "**Test 3 - Probability Plot**"
   ]
  },
  {
   "cell_type": "code",
   "execution_count": 203,
   "metadata": {},
   "outputs": [],
   "source": [
    "import scipy as sp"
   ]
  },
  {
   "cell_type": "code",
   "execution_count": 204,
   "metadata": {},
   "outputs": [
    {
     "data": {
      "image/png": "[encoded data removed]",
      "text/plain": [
       "<Figure size 600x800 with 1 Axes>"
      ]
     },
     "metadata": {
      "needs_background": "light"
     },
     "output_type": "display_data"
    }
   ],
   "source": [
    "fig,ax=plt.subplots(figsize=(6,8),dpi=100)\n",
    "\n",
    "_=sp.stats.probplot(test_res,plot=ax)\n"
   ]
  },
  {
   "cell_type": "code",
   "execution_count": 205,
   "metadata": {
    "scrolled": true
   },
   "outputs": [
    {
     "data": {
      "text/plain": [
       "array([ 7.18678242e-02,  4.03193524e-04,  5.80415853e-01,  9.63904348e-01,\n",
       "        1.00695473e+01,  7.19643790e+00,  3.86768418e-01,  3.96298155e-02,\n",
       "        5.56768820e-01, -4.50735412e+00,  4.82295964e-01, -3.14945611e+00,\n",
       "        7.21086522e-01, -3.69950775e+00,  1.50442219e-02,  1.21280551e-02,\n",
       "       -4.73956548e-03,  2.24327115e-02, -1.95551626e+00, -2.39949571e+00,\n",
       "        2.21567952e-02,  1.99270636e-02, -5.96817232e-03,  3.61156864e-02,\n",
       "        3.23564158e+00,  2.37188283e-02,  3.99049326e+00,  4.15255258e+00,\n",
       "       -2.76386202e+00, -6.13728178e+00, -5.57009435e+00,  3.27293612e-01,\n",
       "        2.55476331e+00, -6.61480200e-01, -9.13221735e-03, -8.57170003e-01,\n",
       "        6.47021496e+00,  5.89704338e-01, -2.05626475e+00,  3.31829254e-01,\n",
       "        1.10025663e-02,  1.38537332e-02,  2.26193613e-02,  1.39834105e-02,\n",
       "        2.96942960e-02, -1.21001752e-02,  8.95763915e-05, -2.01862855e-01,\n",
       "       -6.71178685e-01, -3.49845167e+00,  2.00935338e+00,  3.27321269e+00,\n",
       "        4.38421977e+00,  1.58469591e+00,  6.11481814e+00,  6.27112146e-01,\n",
       "       -3.45751427e-01,  8.78612213e-01, -7.35760008e+00, -5.79773103e+00,\n",
       "       -3.72586531e+00, -1.22166136e+01, -4.87954492e+00, -3.44885917e+00,\n",
       "       -3.42817284e+00,  4.85423824e+00, -7.75391210e-01,  3.33598143e+00,\n",
       "        2.54586855e+00, -6.38571402e+00,  1.00328743e+01,  4.84666227e+00,\n",
       "       -3.70880869e+00, -5.31482555e+00,  7.64648610e-01, -1.80057984e+00,\n",
       "       -2.22401753e+00,  8.10528335e+00,  1.04743439e+00,  1.29877369e+00,\n",
       "        2.94546158e+00,  4.39297553e+00,  5.21568303e+00, -2.77391947e-01,\n",
       "       -8.05236083e+00,  1.47854462e+01, -8.16218481e+00, -7.10610295e+00,\n",
       "        1.99941624e+00,  8.70249929e+00, -1.36417449e+00, -3.34773809e-01,\n",
       "       -9.29640968e+00, -7.30783227e+00, -4.90414529e+00,  3.13804446e+00,\n",
       "       -1.15498220e+01,  9.07905220e+00,  1.22290475e+01, -4.42351116e+00,\n",
       "       -2.13342138e+00,  1.02878508e-01, -9.82396010e+00,  4.88020592e+00,\n",
       "        1.52769310e+01, -9.57764521e-01,  1.96049126e+00,  2.60564239e-01,\n",
       "        9.08294219e+00,  3.13261806e+00,  1.13763352e+01, -1.20187736e+00,\n",
       "        8.03751830e-01, -5.66657933e-01, -2.66680632e+00, -1.03649998e+00,\n",
       "        2.35710041e+00,  3.99609907e+00,  0.00000000e+00, -1.37145528e+00,\n",
       "        9.59825383e-03,  8.32021214e-01, -3.74234751e+00, -7.35760008e+00,\n",
       "       -1.32240507e+01, -8.64701929e+00,  1.11683287e+00,  5.11890182e+00,\n",
       "       -4.96768364e+00,  2.97917846e+00,  3.14752872e-01,  3.54007235e-01,\n",
       "        7.45993660e-02,  7.95171522e-01,  2.16743324e+00,  2.90939746e+00,\n",
       "        5.14194646e+00, -6.50183642e+00,  2.77496447e+00,  1.10733597e+00,\n",
       "        2.17643013e-01, -3.75863284e+00, -3.37184887e+00,  5.29701205e+00,\n",
       "       -1.16892632e+00, -3.68549571e+00,  1.29448778e+01, -8.68477679e-01,\n",
       "        1.06457484e+00, -3.52933582e+00, -1.34253835e+00,  2.43185011e+00,\n",
       "       -2.14896638e-01,  0.00000000e+00,  2.71201092e+00, -2.77267718e+00,\n",
       "       -2.65220830e+00, -9.89619221e-01,  1.69343802e-01,  5.86832906e-01,\n",
       "       -3.48753702e+00,  1.00494138e+00,  7.93322048e+00, -1.35347362e-01,\n",
       "       -2.23311581e-01, -1.08588486e+00,  0.00000000e+00, -2.41412854e+00,\n",
       "        3.02931875e-01, -2.77290309e+00,  1.86551710e+00,  2.13039732e+00,\n",
       "       -3.33758329e-01,  3.77586520e+00, -5.82793168e+00,  9.76828773e+00,\n",
       "        7.65089049e+00, -2.10625833e+00,  2.41136601e+00, -3.27552665e+00,\n",
       "        9.63966316e+00, -3.40387854e+00,  8.53067420e-01, -6.62720208e+00,\n",
       "        3.40853588e+00, -4.21224433e+00,  9.63966316e+00, -4.00671686e+00,\n",
       "        5.08943437e-01, -8.49532622e-01,  2.34586608e+00, -9.20065423e-01,\n",
       "       -2.16643538e+00,  1.59016734e+00, -1.89646639e+00, -4.17289952e-01,\n",
       "        2.45617019e-01,  2.95632468e-01,  1.86641203e+00,  3.22465998e+00,\n",
       "        2.37692667e+00, -9.81880910e-01, -4.63273476e+00, -4.17855152e+00,\n",
       "        3.52458872e+00,  3.85934809e+00, -8.76600053e-01, -2.62044775e+00,\n",
       "       -7.14729499e+00,  1.18964558e+01,  4.08194088e+00, -2.06015931e+00,\n",
       "        7.46308914e+00, -5.52636486e+00,  5.08272371e+00,  9.50783857e-01,\n",
       "        7.12598659e-01,  2.05990152e+00,  4.27663171e+00,  9.80056781e+00,\n",
       "        1.27936555e+00,  3.41229539e-01,  2.40734365e+00,  1.31370577e+01,\n",
       "        7.61426643e-01,  0.00000000e+00,  1.12455323e+00,  1.07212800e+01,\n",
       "        8.88368565e+00,  5.53626843e+00,  1.23241096e+01,  1.00961221e+01])"
      ]
     },
     "execution_count": 205,
     "metadata": {},
     "output_type": "execute_result"
    }
   ],
   "source": [
    "ridge_cv_model.coef_"
   ]
  }
 ],
 "metadata": {
  "kernelspec": {
   "display_name": "Python 3",
   "language": "python",
   "name": "python3"
  },
  "language_info": {
   "codemirror_mode": {
    "name": "ipython",
    "version": 3
   },
   "file_extension": ".py",
   "mimetype": "text/x-python",
   "name": "python",
   "nbconvert_exporter": "python",
   "pygments_lexer": "ipython3",
   "version": "3.8.5"
  }
 },
 "nbformat": 4,
 "nbformat_minor": 4
}
