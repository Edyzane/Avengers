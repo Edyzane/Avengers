{
 "cells": [
  {
   "cell_type": "markdown",
   "id": "missing-clinton",
   "metadata": {},
   "source": [
    "# testing different models for accuracy"
   ]
  },
  {
   "cell_type": "code",
   "execution_count": 1,
   "id": "conditional-flooring",
   "metadata": {},
   "outputs": [],
   "source": [
    "#importing libraries\n",
    "from sklearn.datasets import load_boston\n",
    "import pandas as pd\n",
    "import numpy as np\n",
    "import matplotlib\n",
    "import matplotlib.pyplot as plt\n",
    "import seaborn as sns\n",
    "\n",
    "%matplotlib inline\n",
    "from sklearn.model_selection import train_test_split\n",
    "from sklearn.linear_model import LinearRegression\n",
    "from sklearn.feature_selection import RFE\n",
    "from sklearn.linear_model import RidgeCV, LassoCV, Ridge, Lasso\n",
    "from sklearn.metrics import mean_squared_error, mean_absolute_error,r2_score\n",
    "import scipy as sp\n",
    "from joblib import dump\n",
    "from sklearn.linear_model import ElasticNet\n",
    "from sklearn.model_selection import GridSearchCV\n",
    "from sklearn.preprocessing import StandardScaler"
   ]
  },
  {
   "cell_type": "code",
   "execution_count": 2,
   "id": "incoming-worker",
   "metadata": {},
   "outputs": [],
   "source": [
    "df = pd.read_csv(\"cs1_part3_res.csv\")"
   ]
  },
  {
   "cell_type": "code",
   "execution_count": 3,
   "id": "portuguese-subdivision",
   "metadata": {
    "scrolled": true
   },
   "outputs": [
    {
     "name": "stdout",
     "output_type": "stream",
     "text": [
      "<class 'pandas.core.frame.DataFrame'>\n",
      "RangeIndex: 2916 entries, 0 to 2915\n",
      "Columns: 229 entries, ms_subclass to sale_condition_Partial\n",
      "dtypes: float64(38), int64(191)\n",
      "memory usage: 5.1 MB\n"
     ]
    }
   ],
   "source": [
    "df.info()"
   ]
  },
  {
   "cell_type": "markdown",
   "id": "congressional-greece",
   "metadata": {},
   "source": [
    "# lasso cv"
   ]
  },
  {
   "cell_type": "code",
   "execution_count": 4,
   "id": "desperate-eating",
   "metadata": {},
   "outputs": [],
   "source": [
    "#Create  and y \n",
    "X = df.drop('saleprice',axis=1)\n",
    "y = df['saleprice']\n",
    "\n",
    "from sklearn.model_selection import train_test_split\n",
    "X_train,X_test, y_train, y_test = train_test_split(X,y, test_size = 0.2)"
   ]
  },
  {
   "cell_type": "code",
   "execution_count": 5,
   "id": "double-score",
   "metadata": {},
   "outputs": [],
   "source": [
    "from sklearn.preprocessing import StandardScaler\n",
    "scaler = StandardScaler()\n",
    "scaler.fit(X_train)\n",
    "X_train = scaler.transform(X_train)\n",
    "X_test = scaler.transform(X_test)"
   ]
  },
  {
   "cell_type": "code",
   "execution_count": 6,
   "id": "laden-squad",
   "metadata": {},
   "outputs": [],
   "source": [
    "lasso_model = LassoCV()"
   ]
  },
  {
   "cell_type": "code",
   "execution_count": 7,
   "id": "returning-vinyl",
   "metadata": {},
   "outputs": [
    {
     "data": {
      "text/plain": [
       "LassoCV()"
      ]
     },
     "execution_count": 7,
     "metadata": {},
     "output_type": "execute_result"
    }
   ],
   "source": [
    "lasso_model.fit(X_train,y_train)"
   ]
  },
  {
   "cell_type": "code",
   "execution_count": 8,
   "id": "humanitarian-system",
   "metadata": {},
   "outputs": [],
   "source": [
    "pred_test_lasso = lasso_model.predict(X_test)"
   ]
  },
  {
   "cell_type": "code",
   "execution_count": 9,
   "id": "driving-builder",
   "metadata": {},
   "outputs": [
    {
     "data": {
      "text/plain": [
       "array([11.7383428 , 11.81419688, 12.29343431, 12.86916536, 12.03552457,\n",
       "       12.41943395, 11.81531303, 11.86347057, 12.34900296, 11.69461479,\n",
       "       11.77597266, 11.48010706, 11.84423586, 11.55722551, 12.29359068,\n",
       "       11.81927639, 11.87012116, 11.43237605, 12.58812522, 12.35531201,\n",
       "       11.85107585, 11.49943328, 11.8291375 , 12.23941965, 12.18552123,\n",
       "       11.92927302, 11.52962212, 11.73356249, 11.62008021, 11.9393835 ,\n",
       "       12.21308519, 12.01950945, 11.58618363, 11.74991755, 12.32116784,\n",
       "       11.73147422, 12.23977473, 12.16078613, 11.71305815, 11.7563332 ,\n",
       "       12.05205365, 12.58314481, 11.76005033, 11.63475124, 11.72931908,\n",
       "       12.30888863, 12.31239032, 12.34699907, 12.0747628 , 11.73944388,\n",
       "       11.4944678 , 12.35314931, 11.0672706 , 12.28713452, 11.50238755,\n",
       "       11.76311559, 11.86146511, 11.68241874, 11.7747052 , 12.6196594 ,\n",
       "       11.95381493, 11.51917848, 12.02591433, 11.8156279 , 12.30176039,\n",
       "       11.88485987, 12.37794877, 12.09519063, 11.46266623, 12.10131847,\n",
       "       11.81689085, 12.15201501, 12.77647241, 11.78571544, 12.32928545,\n",
       "       12.45026385, 12.11994135, 12.16293197, 11.77768226, 11.53734645,\n",
       "       12.01631185, 12.53244172, 12.05167676, 11.41143216, 12.23887257,\n",
       "       12.14388526, 12.36294784, 11.78576339, 11.75902031, 12.44696032,\n",
       "       12.12133078, 12.13385439, 11.13894561, 12.19470933, 11.85205346,\n",
       "       12.77996787, 12.21858767, 12.2335351 , 11.61544228, 12.41109038,\n",
       "       12.10367728, 12.69108201, 12.38200548, 12.02499597, 11.80218587,\n",
       "       12.0275185 , 12.12867529, 12.72827288, 12.76513995, 12.59230994,\n",
       "       11.86643167, 11.79961438, 11.70897424, 12.98837845, 12.17557397,\n",
       "       11.13742128, 11.88015801, 11.95606699, 11.48709045, 12.26129508,\n",
       "       12.67581674, 11.72443477, 12.11270224, 12.09562707, 11.68260327,\n",
       "       12.21473028, 11.77814099, 12.02204317, 11.79377519, 11.63940376,\n",
       "       12.01660457, 12.3168755 , 11.79292386, 12.68132381, 12.15599536,\n",
       "       11.97815661, 12.33171992, 12.16097452, 12.55269853, 11.84883998,\n",
       "       11.50194565, 11.82635804, 11.99586765, 11.98365417, 11.3638721 ,\n",
       "       11.8520959 , 12.51572956, 11.2931453 , 11.7307323 , 11.89105313,\n",
       "       12.05124307, 12.08680775, 12.02056215, 11.72998102, 11.8594733 ,\n",
       "       12.21198185, 11.87861292, 11.86441893, 12.3764646 , 11.89357621,\n",
       "       12.93273496, 11.54838472, 12.24494801, 11.84524691, 12.51479074,\n",
       "       11.95816551, 11.64295748, 12.4067748 , 12.19893421, 12.61654898,\n",
       "       11.92337247, 12.20622927, 12.08804262, 11.59881073, 11.81306696,\n",
       "       12.18274252, 11.8939862 , 11.85940851, 11.82146612, 11.88091634,\n",
       "       12.54100008, 12.11970376, 12.11864426, 11.2066429 , 11.72148993,\n",
       "       11.83671074, 11.82592559, 12.2455892 , 11.61683669, 11.72987125,\n",
       "       12.13751049, 12.09222076, 11.43495173, 11.73303454, 12.00597699,\n",
       "       12.07502116, 11.81196567, 11.83232476, 11.79325612, 12.13051732,\n",
       "       12.28684319, 11.99297372, 11.71835983, 12.4023617 , 12.02852377,\n",
       "       11.72127173, 12.30513285, 12.05674773, 11.68863243, 11.91272347,\n",
       "       11.84625492, 11.78701392, 12.37765392, 11.91460964, 12.28080154,\n",
       "       11.59282151, 12.71658328, 11.75294786, 12.42251001, 12.27416878,\n",
       "       11.33533203, 11.72430676, 11.06678957, 12.08524918, 12.10908029,\n",
       "       11.62185321, 12.52582477, 12.24032634, 11.46580235, 11.33732243,\n",
       "       12.12218964, 12.53631369, 12.64898874, 12.20242391, 12.48123592,\n",
       "       11.73880385, 11.91920852, 11.8534775 , 10.89997228, 12.10934538,\n",
       "       12.14325598, 11.29296005, 11.85814956, 12.56075125, 11.86672909,\n",
       "       11.94391401, 11.86714923, 12.36557087, 12.06181427, 11.93185421,\n",
       "       11.69374626, 11.75874112, 11.56286418, 12.04981563, 12.07148181,\n",
       "       11.82044171, 11.86946574, 12.11045565, 11.88236638, 11.804161  ,\n",
       "       12.40809803, 12.01422823, 12.23604934, 12.74444307, 12.28224177,\n",
       "       11.70499298, 11.41497463, 12.2553414 , 12.45532518, 11.76995655,\n",
       "       12.01143522, 11.7882233 , 13.04734466, 12.40538669, 12.00854233,\n",
       "       11.7678912 , 11.77671126, 12.50978251, 12.11947615, 11.83438565,\n",
       "       12.18514688, 12.48181877, 12.07852374, 11.7153044 , 11.83497207,\n",
       "       11.67169522, 11.98570939, 11.24128988, 12.72161207, 12.1517676 ,\n",
       "       11.58547652, 11.6540516 , 12.75294325, 11.97864077, 11.6347185 ,\n",
       "       12.12831064, 12.35413535, 12.32949434, 12.11752792, 12.56276111,\n",
       "       11.78306359, 11.39681399, 12.83962382, 11.64828781, 11.44897838,\n",
       "       12.11415862, 12.65897103, 12.63694636, 11.74413049, 12.02670949,\n",
       "       11.9390337 , 11.84718254, 12.15834811, 12.69677282, 12.28830026,\n",
       "       11.85096624, 12.60175975, 12.10999503, 12.00227796, 12.77829313,\n",
       "       11.67413286, 12.36260262, 11.76041404, 11.81727971, 12.1834067 ,\n",
       "       12.16932191, 12.80993219, 11.9347727 , 12.11923955, 11.7828119 ,\n",
       "       11.93692432, 12.23814841, 11.2140536 , 11.88358025, 12.58250316,\n",
       "       11.87135792, 11.80129123, 11.74340103, 12.00467343, 12.07958125,\n",
       "       12.79275801, 11.96649003, 11.33277609, 12.33554496, 11.96289665,\n",
       "       12.07300275, 12.33530798, 12.19779458, 11.62547089, 11.75443181,\n",
       "       11.7030152 , 12.21631063, 11.68856446, 11.86855644, 11.88640235,\n",
       "       12.05815871, 12.11331567, 12.24783242, 12.06703863, 11.93737228,\n",
       "       12.58196086, 12.07697401, 11.57177426, 12.27296547, 11.62273313,\n",
       "       12.46927224, 11.28189987, 12.27034373, 12.10906151, 12.53177185,\n",
       "       12.47479515, 10.70249619, 11.83475593, 11.94419254, 11.88494246,\n",
       "       11.88964777, 11.88600913, 12.17691185, 11.88641828, 12.19663025,\n",
       "       12.26316245, 11.76446683, 11.9533778 , 11.42662641, 12.54371161,\n",
       "       12.28411559, 12.02811741, 11.82003554, 12.13457007, 11.40352686,\n",
       "       12.02757952, 12.12412395, 11.76201856, 12.61510403, 12.2753062 ,\n",
       "       12.03322256, 12.00138973, 11.77314466, 11.86666119, 11.70823   ,\n",
       "       11.27613191, 12.32682823, 12.25066445, 12.17208742, 12.06100552,\n",
       "       11.20824274, 11.93515166, 12.10627962, 11.85268165, 12.30057043,\n",
       "       11.76197251, 12.49766057, 11.67807136, 12.357334  , 11.44289304,\n",
       "       11.93503722, 11.63691845, 11.62527227, 11.89604652, 12.46338133,\n",
       "       12.2059261 , 11.78081111, 11.90181397, 12.17592026, 11.61695139,\n",
       "       11.51501249, 11.85517326, 11.81941388, 11.63677258, 12.12224986,\n",
       "       12.18107987, 12.35329666, 11.5286246 , 11.34919607, 12.25211347,\n",
       "       11.69971066, 12.04133438, 11.94905534, 12.27783498, 11.85313349,\n",
       "       12.00782255, 11.97803269, 12.03093209, 11.9068151 , 12.70849743,\n",
       "       11.40587323, 11.89921785, 12.2652951 , 12.41928476, 12.6137086 ,\n",
       "       12.34538734, 11.84823575, 13.00234546, 11.2668836 , 12.01418632,\n",
       "       11.76191742, 11.2173168 , 12.06519917, 11.57546971, 11.920015  ,\n",
       "       12.1953101 , 11.37178075, 11.9057558 , 11.90517566, 12.1802216 ,\n",
       "       12.26478061, 11.32082301, 12.07567969, 12.63248018, 12.01499468,\n",
       "       12.28993907, 12.27902846, 12.2750317 , 11.47235116, 11.35872666,\n",
       "       12.95109249, 12.50545771, 11.66429441, 12.70621125, 11.97477596,\n",
       "       11.50542518, 12.41153292, 11.44853674, 11.79524968, 12.2591771 ,\n",
       "       11.45454758, 12.52679518, 12.0545207 , 12.03129486, 11.85386448,\n",
       "       12.38858096, 12.1471001 , 11.96883025, 12.08591632, 12.16167519,\n",
       "       12.21803719, 11.48603509, 12.00530447, 12.20768236, 12.12829675,\n",
       "       12.13860925, 12.5950473 , 11.84157279, 11.8541452 , 12.44931742,\n",
       "       11.81793039, 12.14654799, 11.7163132 , 12.07667807, 12.16684616,\n",
       "       12.25883995, 11.81665655, 11.98750801, 12.07353299, 11.73108341,\n",
       "       13.02708434, 11.98437186, 11.88746706, 11.80081018, 11.32199215,\n",
       "       11.77062938, 11.95035468, 12.29786343, 12.87883402, 12.22641915,\n",
       "       12.78399381, 11.87981148, 11.54417113, 11.76056967, 12.35281275,\n",
       "       11.56126359, 12.20206159, 12.244019  , 11.9928793 , 12.30631238,\n",
       "       11.94623457, 12.38296628, 11.28557146, 11.50109621, 11.57696441,\n",
       "       12.09577937, 12.19760721, 11.60429612, 11.87409408, 11.49327972,\n",
       "       11.29365189, 11.85516498, 11.77660492, 12.29366996, 12.54243052,\n",
       "       11.79747005, 11.56434554, 12.85970821, 11.87045523, 12.57341907,\n",
       "       12.21320592, 11.89565903, 11.9407169 , 11.91119806, 11.94601604,\n",
       "       12.02617296, 12.3619246 , 11.61013282, 11.68623918, 11.86953814,\n",
       "       12.27073931, 11.94956423, 11.85083279, 11.64233857, 12.01136052,\n",
       "       11.90642003, 12.10100122, 11.83145804, 12.79859389, 12.48296293,\n",
       "       12.54052719, 11.8567877 , 11.95505068, 11.74104934, 12.45787364,\n",
       "       11.91330053, 12.08467889, 12.14002758, 12.84208417])"
      ]
     },
     "execution_count": 9,
     "metadata": {},
     "output_type": "execute_result"
    }
   ],
   "source": [
    "pred_test_lasso"
   ]
  },
  {
   "cell_type": "code",
   "execution_count": 10,
   "id": "indian-married",
   "metadata": {},
   "outputs": [],
   "source": [
    "MAE_Lasso = mean_absolute_error(y_test,pred_test_lasso)\n",
    "MSE_Lasso = mean_squared_error(y_test,pred_test_lasso)\n",
    "RMSE_Lasso = np.sqrt(MSE_Lasso)"
   ]
  },
  {
   "cell_type": "code",
   "execution_count": 11,
   "id": "permanent-village",
   "metadata": {},
   "outputs": [
    {
     "data": {
      "text/plain": [
       "0.07829473134860467"
      ]
     },
     "execution_count": 11,
     "metadata": {},
     "output_type": "execute_result"
    }
   ],
   "source": [
    "MAE_Lasso"
   ]
  },
  {
   "cell_type": "code",
   "execution_count": 12,
   "id": "quiet-success",
   "metadata": {},
   "outputs": [
    {
     "data": {
      "text/plain": [
       "0.014000491739232113"
      ]
     },
     "execution_count": 12,
     "metadata": {},
     "output_type": "execute_result"
    }
   ],
   "source": [
    "MSE_Lasso"
   ]
  },
  {
   "cell_type": "code",
   "execution_count": 13,
   "id": "fundamental-credits",
   "metadata": {},
   "outputs": [
    {
     "data": {
      "text/plain": [
       "0.11832367362126699"
      ]
     },
     "execution_count": 13,
     "metadata": {},
     "output_type": "execute_result"
    }
   ],
   "source": [
    "RMSE_Lasso"
   ]
  },
  {
   "cell_type": "code",
   "execution_count": 14,
   "id": "complex-romania",
   "metadata": {},
   "outputs": [],
   "source": [
    "def MAPE(y_test,pred_test_lasso):\n",
    "    mape = np.mean(np.abs((y_test - pred_test_lasso)/y_test))*100\n",
    "    return mape"
   ]
  },
  {
   "cell_type": "code",
   "execution_count": 15,
   "id": "ultimate-visit",
   "metadata": {},
   "outputs": [],
   "source": [
    "LR_MAPElassocv= MAPE(y_test,pred_test_lasso)"
   ]
  },
  {
   "cell_type": "code",
   "execution_count": 16,
   "id": "korean-microphone",
   "metadata": {},
   "outputs": [
    {
     "name": "stdout",
     "output_type": "stream",
     "text": [
      "lassocv MAPE:  0.6563420379206504\n"
     ]
    }
   ],
   "source": [
    "print(\"lassocv MAPE: \",LR_MAPElassocv)"
   ]
  },
  {
   "cell_type": "code",
   "execution_count": 17,
   "id": "noble-privacy",
   "metadata": {},
   "outputs": [
    {
     "name": "stdout",
     "output_type": "stream",
     "text": [
      "Best alpha using built-in LassoCV: 0.002572\n",
      "Best score using built-in LassoCV: -2052878.124931\n"
     ]
    }
   ],
   "source": [
    "print(\"Best alpha using built-in LassoCV: %f\" % lasso_model.alpha_)\n",
    "print(\"Best score using built-in LassoCV: %f\" %lasso_model.score(X,y))\n",
    "coef = pd.Series(lasso_model.coef_, index = X.columns)"
   ]
  },
  {
   "cell_type": "code",
   "execution_count": 18,
   "id": "diverse-protein",
   "metadata": {},
   "outputs": [
    {
     "data": {
      "text/plain": [
       "<matplotlib.lines.Line2D at 0x153a577e888>"
      ]
     },
     "execution_count": 18,
     "metadata": {},
     "output_type": "execute_result"
    },
    {
     "data": {
      "image/png": "[encoded data removed]",
      "text/plain": [
       "<Figure size 432x288 with 1 Axes>"
      ]
     },
     "metadata": {
      "needs_background": "light"
     },
     "output_type": "display_data"
    }
   ],
   "source": [
    "sns.scatterplot(x=y_test,y=pred_test_lasso)\n",
    "plt.axhline(y=0,color='magenta',linestyle='--')"
   ]
  },
  {
   "cell_type": "code",
   "execution_count": 19,
   "id": "hidden-alert",
   "metadata": {},
   "outputs": [
    {
     "data": {
      "image/png": "[encoded data removed]",
      "text/plain": [
       "<Figure size 1000x1200 with 1 Axes>"
      ]
     },
     "metadata": {
      "needs_background": "light"
     },
     "output_type": "display_data"
    }
   ],
   "source": [
    "fig,ax = plt.subplots(figsize=(10,12),dpi=100)\n",
    "\n",
    "_=sp.stats.probplot(pred_test_lasso,plot=ax)"
   ]
  },
  {
   "cell_type": "code",
   "execution_count": 20,
   "id": "major-tennessee",
   "metadata": {},
   "outputs": [
    {
     "data": {
      "text/plain": [
       "0.9844819485397567"
      ]
     },
     "execution_count": 20,
     "metadata": {},
     "output_type": "execute_result"
    }
   ],
   "source": [
    "100*RMSE_Lasso/df['saleprice'].mean()"
   ]
  },
  {
   "cell_type": "markdown",
   "id": "solid-champagne",
   "metadata": {},
   "source": [
    "# linear regression"
   ]
  },
  {
   "cell_type": "code",
   "execution_count": 21,
   "id": "accepting-bracelet",
   "metadata": {},
   "outputs": [],
   "source": [
    "#Create  and y \n",
    "X = df.drop('saleprice',axis=1)\n",
    "y = df['saleprice']\n",
    "\n",
    "from sklearn.model_selection import train_test_split\n",
    "X_train,X_test, y_train, y_test = train_test_split(X,y, test_size = 0.2)"
   ]
  },
  {
   "cell_type": "code",
   "execution_count": 22,
   "id": "decreased-beads",
   "metadata": {},
   "outputs": [],
   "source": [
    "from sklearn.preprocessing import StandardScaler\n",
    "scaler = StandardScaler()\n",
    "scaler.fit(X_train)\n",
    "X_train = scaler.transform(X_train)\n",
    "X_test = scaler.transform(X_test)"
   ]
  },
  {
   "cell_type": "code",
   "execution_count": 23,
   "id": "blessed-balloon",
   "metadata": {},
   "outputs": [],
   "source": [
    "linear_model = LinearRegression()"
   ]
  },
  {
   "cell_type": "code",
   "execution_count": 24,
   "id": "german-flooring",
   "metadata": {},
   "outputs": [
    {
     "data": {
      "text/plain": [
       "LinearRegression()"
      ]
     },
     "execution_count": 24,
     "metadata": {},
     "output_type": "execute_result"
    }
   ],
   "source": [
    "linear_model.fit(X_train,y_train)"
   ]
  },
  {
   "cell_type": "code",
   "execution_count": 25,
   "id": "intensive-deputy",
   "metadata": {},
   "outputs": [],
   "source": [
    "pred_linear_model = linear_model.predict(X_test)"
   ]
  },
  {
   "cell_type": "code",
   "execution_count": 26,
   "id": "sound-palace",
   "metadata": {},
   "outputs": [
    {
     "data": {
      "text/plain": [
       "array([ 1.15508403e+01,  1.21664477e+01,  1.16407681e+01,  1.30898135e+01,\n",
       "        1.21875754e+01,  1.21950961e+01,  1.17624236e+01,  1.18142062e+01,\n",
       "        1.19106398e+01,  1.18000098e+01,  1.16184831e+01,  1.19155532e+01,\n",
       "        1.17315894e+01,  1.21993419e+01,  1.22906810e+01,  1.14495617e+01,\n",
       "        1.18443900e+01,  1.18042856e+01,  1.15462422e+01,  1.17688757e+01,\n",
       "        1.23178836e+01,  1.17763511e+01,  1.20264159e+01,  1.21464105e+01,\n",
       "        1.25523215e+01,  1.12749716e+01,  1.25351640e+01,  1.13014704e+01,\n",
       "        1.21056662e+01,  1.22011867e+01,  1.29562121e+01,  1.19925123e+01,\n",
       "        1.12141238e+01,  1.22137476e+01,  1.19069320e+01,  1.18594752e+01,\n",
       "        1.23230258e+01,  1.20267707e+01,  1.16973477e+01,  1.26653767e+01,\n",
       "        1.17382093e+01,  1.26213934e+01,  1.16187268e+01,  1.25667562e+01,\n",
       "        1.31701243e+01,  1.21826750e+01,  1.21605197e+01,  1.25753029e+01,\n",
       "        1.20391780e+01,  1.17621527e+01,  1.21124898e+01,  1.25224467e+01,\n",
       "        1.24040993e+01,  1.20146126e+01,  1.23935724e+01,  1.31258388e+01,\n",
       "        1.14247027e+01,  1.15124102e+01,  1.20410357e+01,  1.27013350e+01,\n",
       "        1.23113461e+01,  1.19474974e+01,  1.24250155e+01,  1.22087069e+01,\n",
       "        1.25168219e+01,  1.14078540e+01,  1.13833946e+01,  1.18861667e+01,\n",
       "        1.19630690e+01,  1.22447081e+01,  1.19778162e+01,  1.24663918e+01,\n",
       "        1.19220534e+01,  1.17925349e+01,  1.20962210e+01,  1.22681623e+01,\n",
       "        1.22607251e+01,  1.22704145e+01,  1.20947018e+01,  1.19582979e+01,\n",
       "        1.15243189e+01,  1.17597355e+01,  1.20577951e+01,  1.18617049e+01,\n",
       "        1.17501517e+01,  1.16000396e+01,  1.18215438e+01,  1.20517684e+01,\n",
       "        1.19826246e+01,  1.20152198e+01,  1.21405474e+01,  1.19840569e+01,\n",
       "        1.19917168e+01,  1.21263705e+01,  1.20562316e+01,  1.26138223e+01,\n",
       "        1.17831293e+01,  1.22222334e+01,  1.16785950e+01,  1.15779553e+01,\n",
       "        1.23743792e+01,  1.17757097e+01,  1.19099356e+01,  1.19751559e+01,\n",
       "        1.26852718e+01,  1.18626090e+01,  1.22599245e+01,  1.17509294e+01,\n",
       "        1.22694732e+01,  1.23046561e+01,  1.23800722e+01,  1.26128951e+01,\n",
       "        1.21554849e+01,  1.19269553e+01,  1.27865136e+01,  1.14091583e+01,\n",
       "        1.25278579e+01, -6.58058888e+10,  1.19894223e+01,  1.11268425e+01,\n",
       "        1.17605735e+01,  1.22644435e+01,  1.17663523e+01,  1.23609625e+01,\n",
       "        1.22293959e+01,  1.16908155e+01,  1.19664102e+01,  1.17792912e+01,\n",
       "        1.17600489e+01,  1.22418855e+01,  1.19957972e+01,  1.28211616e+01,\n",
       "        1.23066550e+01,  1.16230989e+01,  1.21213809e+01,  1.24804463e+01,\n",
       "        1.26916400e+01,  1.23319083e+01,  1.15761967e+01,  1.20471231e+01,\n",
       "        1.22931681e+01,  1.17119990e+01,  1.19496489e+01,  1.24963046e+01,\n",
       "        1.16424470e+01,  1.19603792e+01,  1.19579898e+01,  1.19994746e+01,\n",
       "        1.20724188e+01,  1.18080501e+01,  1.26352907e+01,  1.14460312e+01,\n",
       "        1.13910623e+01,  1.23118356e+01,  1.18396693e+01,  1.23427187e+01,\n",
       "        1.22336160e+01,  1.23041292e+01,  1.20068789e+01,  1.16858950e+01,\n",
       "        1.23058652e+01,  1.16863509e+01,  1.21424560e+01,  1.22302938e+01,\n",
       "        1.15568534e+01,  1.17169772e+01,  1.20225268e+01,  1.21559211e+01,\n",
       "        1.17820750e+01,  1.18434797e+01,  1.26445342e+01,  1.18960639e+01,\n",
       "        1.18343039e+01,  1.16095395e+01,  1.20816890e+01,  1.22984477e+01,\n",
       "        1.23174086e+01,  1.20306993e+01,  1.23162504e+01,  1.21618987e+01,\n",
       "        1.23356353e+01,  1.20194574e+01,  1.17986131e+01,  1.24175270e+01,\n",
       "        1.25020912e+01,  1.17758890e+01,  1.29432953e+01,  1.17211400e+01,\n",
       "        1.26142811e+01,  1.16986414e+01,  1.23316427e+01,  1.25025569e+01,\n",
       "        1.19144870e+01,  1.12849451e+01,  1.16378413e+01,  1.20741473e+01,\n",
       "        1.18125500e+01,  1.22992790e+01,  1.20728446e+01,  1.21305203e+01,\n",
       "        1.17170702e+01,  1.17577010e+01,  1.23602303e+01,  1.20750459e+01,\n",
       "        1.12695494e+01,  1.20911146e+01,  1.21503421e+01,  1.14338809e+01,\n",
       "        1.20917612e+01,  1.18900634e+01,  1.22275892e+01,  1.19448438e+01,\n",
       "        1.24803205e+01,  1.32095166e+01,  1.20976327e+01,  1.21712122e+01,\n",
       "        1.22122457e+01,  1.22289763e+01,  1.16866446e+01,  1.23732844e+01,\n",
       "        1.24639383e+01,  1.30023788e+01,  1.17417289e+01,  1.17244454e+01,\n",
       "        1.29286025e+01,  1.25370179e+01,  1.11589660e+01,  1.22357055e+01,\n",
       "        1.25419714e+01,  1.26949485e+01,  1.22567120e+01,  1.21523200e+01,\n",
       "        1.16456552e+01,  1.23013030e+01,  1.22849437e+01,  1.26298012e+01,\n",
       "        1.17069722e+01,  1.22036162e+01,  1.23496366e+01,  1.20585447e+01,\n",
       "        1.19472152e+01,  1.20929538e+01,  1.15601921e+01,  1.28177896e+01,\n",
       "        1.13709222e+01,  1.27387358e+01,  1.18960143e+01,  1.14598144e+01,\n",
       "        1.22196484e+01,  1.14345117e+01,  1.18931847e+01,  1.21679555e+01,\n",
       "        1.15398922e+01,  1.20924216e+01,  1.16081596e+01,  1.25817266e+01,\n",
       "        1.15712806e+01,  1.16820092e+01,  1.25189429e+01,  1.18692364e+01,\n",
       "        1.20652095e+01,  1.19409586e+01,  1.17386294e+01,  1.17670108e+01,\n",
       "        1.23429843e+01,  1.22679759e+01,  1.19381495e+01,  1.18069602e+01,\n",
       "        1.28172119e+01,  1.22190115e+01,  1.22256833e+01,  1.19458891e+01,\n",
       "        1.24080224e+01,  1.20906230e+01,  1.17583724e+01,  1.24142886e+01,\n",
       "        1.19361163e+01,  1.18307633e+01,  1.19539233e+01,  1.20118419e+01,\n",
       "        1.17938090e+01,  1.18630400e+01,  1.18473388e+01,  1.13879590e+01,\n",
       "        1.19053565e+01,  1.16018429e+01,  1.20349551e+01,  1.18191653e+01,\n",
       "        1.18156749e+01,  1.21758586e+01,  1.15063692e+01,  1.17132726e+01,\n",
       "        1.18863235e+01,  1.25841661e+01,  1.24811426e+01,  1.22998356e+01,\n",
       "        1.20930624e+01,  1.15810095e+01,  1.14255677e+01,  1.28783935e+01,\n",
       "        1.20196418e+01,  1.24460684e+01,  1.17347984e+01,  1.22114459e+01,\n",
       "        1.21923631e+01,  1.15672627e+01,  1.26807321e+01,  1.23214308e+01,\n",
       "        1.16740360e+01,  1.22804080e+01,  1.18207236e+01,  1.13437143e+01,\n",
       "        1.15671550e+01,  1.12425305e+01,  1.16249333e+01,  1.17642451e+01,\n",
       "        1.22734244e+01,  1.16564070e+01,  1.15592390e+01,  1.18063451e+01,\n",
       "        1.22972155e+01,  1.25557180e+01,  1.21688472e+01,  1.14965711e+01,\n",
       "        1.25195392e+01,  1.26322385e+01,  1.23740063e+01,  1.16455055e+01,\n",
       "        1.32004669e+01,  1.15655642e+01,  1.21127292e+01,  1.18587771e+01,\n",
       "        1.19043704e+01,  1.15440579e+01,  1.17140799e+01,  1.25316090e+01,\n",
       "        1.25533417e+01,  1.17167402e+01,  1.20924350e+01,  1.16046201e+01,\n",
       "        1.14399744e+01,  1.21571317e+01,  1.22499114e+01,  1.24155379e+01,\n",
       "        1.21248732e+01,  1.19163924e+01,  1.18095904e+01,  1.18732301e+01,\n",
       "        1.18932843e+01,  1.14494029e+01,  1.20656529e+01,  1.17952948e+01,\n",
       "        1.21715747e+01,  1.17691803e+01,  1.14846769e+01,  1.24104372e+01,\n",
       "        1.17231780e+01,  1.20826007e+01,  1.22658182e+01,  1.24772464e+01,\n",
       "        1.18637324e+01,  1.16511344e+01,  1.23653055e+01,  1.23316871e+01,\n",
       "        1.13015991e+01,  1.24126693e+01,  1.21806986e+01,  1.24135257e+01,\n",
       "        1.17571631e+01,  1.20358944e+01,  1.22584010e+01,  1.16294084e+01,\n",
       "        1.18723059e+01,  1.22303203e+01,  1.29184352e+01,  1.22075379e+01,\n",
       "        1.16723605e+01,  1.18319331e+01,  1.19988147e+01,  1.15386267e+01,\n",
       "        1.27214211e+01,  1.18864522e+01,  1.19143630e+01,  1.17166657e+01,\n",
       "        1.21300402e+01,  1.18297530e+01,  1.16863519e+01,  1.19244386e+01,\n",
       "        1.21486193e+01,  1.17559439e+01,  1.22304354e+01,  1.27501034e+01,\n",
       "        1.13997055e+01,  1.19065772e+01,  1.23884989e+01,  1.17738176e+01,\n",
       "        1.17748442e+01,  1.15945993e+01,  1.18267585e+01,  1.25827361e+01,\n",
       "        1.20033255e+01,  1.21234651e+01,  1.17546445e+01,  1.13848520e+01,\n",
       "        1.18489066e+01,  1.17001005e+01,  1.20742573e+01,  1.19314357e+01,\n",
       "        1.21697989e+01,  1.20134745e+01,  1.19772921e+01,  1.17089415e+01,\n",
       "        1.26692994e+01,  1.25074931e+01,  1.13938495e+01,  1.21370188e+01,\n",
       "        1.23122741e+01,  1.19019748e+01,  1.19247399e+01,  1.20387502e+01,\n",
       "        1.21073461e+01,  1.15894700e+01,  1.14993482e+01,  1.23359171e+01,\n",
       "        1.16898065e+01,  1.18040866e+01,  1.21956358e+01,  1.29086996e+01,\n",
       "        1.13722964e+01,  1.17732944e+01,  1.18671447e+01,  1.18617106e+01,\n",
       "        1.15246702e+01,  1.18747030e+01,  1.15368086e+01,  1.16426016e+01,\n",
       "        1.24200030e+01,  1.22090650e+01,  1.15480619e+01,  1.15861455e+01,\n",
       "        1.18891630e+01,  1.22158644e+01,  1.22184230e+01,  1.19453212e+01,\n",
       "        1.19739371e+01,  1.21784259e+01,  1.17717481e+01,  1.23672468e+01,\n",
       "        1.18429938e+01,  1.17168170e+01,  1.23544088e+01,  1.19868054e+01,\n",
       "        1.17368047e+01,  1.16836530e+01,  1.21339846e+01,  1.21148411e+01,\n",
       "        1.25996857e+01,  1.21895200e+01,  1.11835700e+01,  1.19604598e+01,\n",
       "        1.11000214e+01,  1.20141840e+01,  1.21636992e+01,  1.24454604e+01,\n",
       "        1.14389722e+01,  1.18846206e+01,  1.17993168e+01,  1.20292976e+01,\n",
       "        1.20576278e+01,  1.28863393e+01,  1.22790131e+01,  1.22850123e+01,\n",
       "        1.22009843e+01,  1.17665797e+01,  1.17597280e+01,  1.18812705e+01,\n",
       "        1.26225978e+01,  1.21489344e+01,  1.24009178e+01,  1.19123306e+01,\n",
       "        1.16565042e+01,  1.21660090e+01,  1.30918129e+01,  1.19135753e+01,\n",
       "        1.19112588e+01,  1.19643889e+01,  1.16216794e+01,  1.15842614e+01,\n",
       "        1.24312442e+01,  1.20144029e+01,  1.16695333e+01,  1.16995946e+01,\n",
       "        1.20848618e+01,  1.23636561e+01,  1.22308684e+01,  1.20280600e+01,\n",
       "        1.23506862e+01,  1.24665700e+01,  1.16155897e+01,  1.12605139e+01,\n",
       "        1.27194181e+01,  1.18354512e+01,  1.23470139e+01,  1.17905017e+01,\n",
       "        1.27130605e+01,  1.22357722e+01,  1.21246458e+01,  1.20741797e+01,\n",
       "        1.19144774e+01,  1.24101263e+01,  1.19064079e+01,  1.17879992e+01,\n",
       "        1.15120049e+01,  1.22048693e+01,  1.17910524e+01,  1.22545329e+01,\n",
       "        1.29961058e+01,  1.17596308e+01,  1.24933921e+01,  1.20576995e+01,\n",
       "        1.17256666e+01,  1.26259835e+01,  1.25230210e+01,  1.22467147e+01,\n",
       "        1.21436110e+01,  1.20804797e+01,  1.23139525e+01,  1.17161589e+01,\n",
       "        1.28337537e+01,  1.16049972e+01,  1.23120584e+01,  1.18259779e+01,\n",
       "        1.14651347e+01,  1.18687983e+01,  1.19817202e+01,  1.18291064e+01,\n",
       "        1.16955863e+01,  1.26961242e+01,  5.55087532e+10,  1.25034643e+01,\n",
       "        1.20562430e+01,  1.16812316e+01,  1.18197366e+01,  1.16358952e+01,\n",
       "        1.24399973e+01,  1.24955492e+01,  1.25933181e+01,  1.22389055e+01,\n",
       "        1.27282511e+01,  1.24931589e+01,  1.24136778e+01,  1.19322959e+01,\n",
       "        1.19515419e+01,  1.14202829e+01,  1.24238253e+01,  1.17612367e+01,\n",
       "        1.19815279e+01,  1.13960987e+01,  1.24104205e+01,  1.20848876e+01,\n",
       "        1.17130438e+01,  1.19910779e+01,  1.19830347e+01,  1.17591697e+01,\n",
       "        1.21132721e+01,  1.16203810e+01,  1.21330310e+01,  1.20815707e+01,\n",
       "        1.20783053e+01,  1.20230219e+01,  1.24762543e+01,  1.24567903e+01,\n",
       "        1.26769487e+01,  1.16160016e+01,  1.12903086e+01,  1.09647156e+01,\n",
       "        1.26277552e+01,  1.16190024e+01,  1.17472291e+01,  1.22343393e+01,\n",
       "        1.07196508e+01,  1.16113416e+01,  1.22938319e+01,  1.17578717e+01])"
      ]
     },
     "execution_count": 26,
     "metadata": {},
     "output_type": "execute_result"
    }
   ],
   "source": [
    "pred_linear_model"
   ]
  },
  {
   "cell_type": "code",
   "execution_count": 27,
   "id": "median-supervision",
   "metadata": {},
   "outputs": [],
   "source": [
    "MAE_Lr = mean_absolute_error(y_test,pred_linear_model)\n",
    "MSE_Lr = mean_squared_error(y_test,pred_linear_model)\n",
    "RMSE_Lr = np.sqrt(MSE_Lr)"
   ]
  },
  {
   "cell_type": "code",
   "execution_count": 28,
   "id": "electronic-uncle",
   "metadata": {},
   "outputs": [
    {
     "data": {
      "text/plain": [
       "207730551.4994402"
      ]
     },
     "execution_count": 28,
     "metadata": {},
     "output_type": "execute_result"
    }
   ],
   "source": [
    "MAE_Lr"
   ]
  },
  {
   "cell_type": "code",
   "execution_count": 29,
   "id": "spanish-treasurer",
   "metadata": {},
   "outputs": [
    {
     "data": {
      "text/plain": [
       "1.269115871052125e+19"
      ]
     },
     "execution_count": 29,
     "metadata": {},
     "output_type": "execute_result"
    }
   ],
   "source": [
    "MSE_Lr"
   ]
  },
  {
   "cell_type": "code",
   "execution_count": 30,
   "id": "celtic-antarctica",
   "metadata": {},
   "outputs": [
    {
     "data": {
      "text/plain": [
       "3562465257.4476075"
      ]
     },
     "execution_count": 30,
     "metadata": {},
     "output_type": "execute_result"
    }
   ],
   "source": [
    "RMSE_Lr"
   ]
  },
  {
   "cell_type": "code",
   "execution_count": 31,
   "id": "atmospheric-intranet",
   "metadata": {},
   "outputs": [],
   "source": [
    "def MAPE(y_test,pred_linear_model):\n",
    "    mape = np.mean(np.abs((y_test - pred_linear_model)/y_test))*100\n",
    "    return mape"
   ]
  },
  {
   "cell_type": "code",
   "execution_count": 32,
   "id": "composite-packaging",
   "metadata": {},
   "outputs": [],
   "source": [
    "LR_MAPE= MAPE(y_test,pred_linear_model)"
   ]
  },
  {
   "cell_type": "code",
   "execution_count": 33,
   "id": "electronic-parts",
   "metadata": {},
   "outputs": [
    {
     "name": "stdout",
     "output_type": "stream",
     "text": [
      "MAPE:  1794646420.821549\n"
     ]
    }
   ],
   "source": [
    "print(\"MAPE: \",LR_MAPE)"
   ]
  },
  {
   "cell_type": "code",
   "execution_count": 34,
   "id": "empty-hughes",
   "metadata": {},
   "outputs": [
    {
     "name": "stdout",
     "output_type": "stream",
     "text": [
      "Best score using built-in LassoCV: -76214526198742001658101760.000000\n"
     ]
    }
   ],
   "source": [
    "#print(\"Best alpha using built-in LassoCV: %f\" % linear_model.alpha_)\n",
    "print(\"Best score using built-in LassoCV: %f\" %linear_model.score(X,y))\n",
    "coef = pd.Series(linear_model.coef_, index = X.columns)"
   ]
  },
  {
   "cell_type": "code",
   "execution_count": 35,
   "id": "opposite-dakota",
   "metadata": {},
   "outputs": [
    {
     "data": {
      "text/plain": [
       "<matplotlib.lines.Line2D at 0x153a7fe8208>"
      ]
     },
     "execution_count": 35,
     "metadata": {},
     "output_type": "execute_result"
    },
    {
     "data": {
      "image/png": "[encoded data removed]",
      "text/plain": [
       "<Figure size 432x288 with 1 Axes>"
      ]
     },
     "metadata": {
      "needs_background": "light"
     },
     "output_type": "display_data"
    }
   ],
   "source": [
    "sns.scatterplot(x=y_test,y=pred_linear_model)\n",
    "plt.axhline(y=0,color='magenta',linestyle='--')"
   ]
  },
  {
   "cell_type": "code",
   "execution_count": 36,
   "id": "private-addiction",
   "metadata": {},
   "outputs": [
    {
     "data": {
      "image/png": "[encoded data removed]",
      "text/plain": [
       "<Figure size 1000x1200 with 1 Axes>"
      ]
     },
     "metadata": {
      "needs_background": "light"
     },
     "output_type": "display_data"
    }
   ],
   "source": [
    "fig,ax = plt.subplots(figsize=(10,12),dpi=100)\n",
    "\n",
    "_=sp.stats.probplot(pred_linear_model,plot=ax)"
   ]
  },
  {
   "cell_type": "markdown",
   "id": "right-mistake",
   "metadata": {},
   "source": [
    "# Grid search with elastic cv"
   ]
  },
  {
   "cell_type": "code",
   "execution_count": 37,
   "id": "conservative-topic",
   "metadata": {},
   "outputs": [],
   "source": [
    "#Create  and y \n",
    "X = df.drop('saleprice',axis=1)\n",
    "y = df['saleprice']\n",
    "\n",
    "from sklearn.model_selection import train_test_split\n",
    "X_train,X_test, y_train, y_test = train_test_split(X,y, test_size = 0.3)\n",
    "\n",
    "from sklearn.preprocessing import StandardScaler\n",
    "scaler = StandardScaler()\n",
    "scaler.fit(X_train)\n",
    "X_train = scaler.transform(X_train)\n",
    "X_test = scaler.transform(X_test)"
   ]
  },
  {
   "cell_type": "code",
   "execution_count": 38,
   "id": "ancient-asbestos",
   "metadata": {},
   "outputs": [],
   "source": [
    "#base_elastic_model = ElasticNet(max_iter=250000)\n",
    "base_elastic_model = ElasticNet()"
   ]
  },
  {
   "cell_type": "code",
   "execution_count": 39,
   "id": "junior-teacher",
   "metadata": {},
   "outputs": [],
   "source": [
    "param_grid = {'alpha':[0.1,1,10,50,100],'l1_ratio':[0.1,0.5,0.7,0.9,1]}"
   ]
  },
  {
   "cell_type": "code",
   "execution_count": 40,
   "id": "harmful-valuable",
   "metadata": {},
   "outputs": [],
   "source": [
    "#grid_model = GridSearchCV(estimator=base_elastic_model,param_grid=param_grid,scoring='neg_mean_squared_error',cv=10,verbose=2)\n",
    "grid_model = GridSearchCV(estimator=base_elastic_model,param_grid=param_grid,scoring='neg_mean_squared_error',cv=10,verbose=2)"
   ]
  },
  {
   "cell_type": "code",
   "execution_count": 41,
   "id": "entitled-closing",
   "metadata": {},
   "outputs": [
    {
     "name": "stdout",
     "output_type": "stream",
     "text": [
      "Fitting 10 folds for each of 25 candidates, totalling 250 fits\n",
      "[CV] alpha=0.1, l1_ratio=0.1 .........................................\n",
      "[CV] .......................... alpha=0.1, l1_ratio=0.1, total=   0.0s\n",
      "[CV] alpha=0.1, l1_ratio=0.1 .........................................\n",
      "[CV] .......................... alpha=0.1, l1_ratio=0.1, total=   0.0s\n",
      "[CV] alpha=0.1, l1_ratio=0.1 .........................................\n",
      "[CV] .......................... alpha=0.1, l1_ratio=0.1, total=   0.0s\n",
      "[CV] alpha=0.1, l1_ratio=0.1 .........................................\n",
      "[CV] .......................... alpha=0.1, l1_ratio=0.1, total=   0.0s\n",
      "[CV] alpha=0.1, l1_ratio=0.1 .........................................\n",
      "[CV] .......................... alpha=0.1, l1_ratio=0.1, total=   0.0s\n",
      "[CV] alpha=0.1, l1_ratio=0.1 .........................................\n",
      "[CV] .......................... alpha=0.1, l1_ratio=0.1, total=   0.0s\n",
      "[CV] alpha=0.1, l1_ratio=0.1 .........................................\n",
      "[CV] .......................... alpha=0.1, l1_ratio=0.1, total=   0.0s\n",
      "[CV] alpha=0.1, l1_ratio=0.1 .........................................\n",
      "[CV] .......................... alpha=0.1, l1_ratio=0.1, total=   0.0s\n",
      "[CV] alpha=0.1, l1_ratio=0.1 .........................................\n",
      "[CV] .......................... alpha=0.1, l1_ratio=0.1, total=   0.0s\n",
      "[CV] alpha=0.1, l1_ratio=0.1 .........................................\n"
     ]
    },
    {
     "name": "stderr",
     "output_type": "stream",
     "text": [
      "[Parallel(n_jobs=1)]: Using backend SequentialBackend with 1 concurrent workers.\n",
      "[Parallel(n_jobs=1)]: Done   1 out of   1 | elapsed:    0.0s remaining:    0.0s\n"
     ]
    },
    {
     "name": "stdout",
     "output_type": "stream",
     "text": [
      "[CV] .......................... alpha=0.1, l1_ratio=0.1, total=   0.0s\n",
      "[CV] alpha=0.1, l1_ratio=0.5 .........................................\n",
      "[CV] .......................... alpha=0.1, l1_ratio=0.5, total=   0.0s\n",
      "[CV] alpha=0.1, l1_ratio=0.5 .........................................\n",
      "[CV] .......................... alpha=0.1, l1_ratio=0.5, total=   0.0s\n",
      "[CV] alpha=0.1, l1_ratio=0.5 .........................................\n",
      "[CV] .......................... alpha=0.1, l1_ratio=0.5, total=   0.0s\n",
      "[CV] alpha=0.1, l1_ratio=0.5 .........................................\n",
      "[CV] .......................... alpha=0.1, l1_ratio=0.5, total=   0.0s\n",
      "[CV] alpha=0.1, l1_ratio=0.5 .........................................\n",
      "[CV] .......................... alpha=0.1, l1_ratio=0.5, total=   0.0s\n",
      "[CV] alpha=0.1, l1_ratio=0.5 .........................................\n",
      "[CV] .......................... alpha=0.1, l1_ratio=0.5, total=   0.0s\n",
      "[CV] alpha=0.1, l1_ratio=0.5 .........................................\n",
      "[CV] .......................... alpha=0.1, l1_ratio=0.5, total=   0.0s\n",
      "[CV] alpha=0.1, l1_ratio=0.5 .........................................\n",
      "[CV] .......................... alpha=0.1, l1_ratio=0.5, total=   0.0s\n",
      "[CV] alpha=0.1, l1_ratio=0.5 .........................................\n",
      "[CV] .......................... alpha=0.1, l1_ratio=0.5, total=   0.0s\n",
      "[CV] alpha=0.1, l1_ratio=0.5 .........................................\n",
      "[CV] .......................... alpha=0.1, l1_ratio=0.5, total=   0.0s\n",
      "[CV] alpha=0.1, l1_ratio=0.7 .........................................\n",
      "[CV] .......................... alpha=0.1, l1_ratio=0.7, total=   0.0s\n",
      "[CV] alpha=0.1, l1_ratio=0.7 .........................................\n",
      "[CV] .......................... alpha=0.1, l1_ratio=0.7, total=   0.0s\n",
      "[CV] alpha=0.1, l1_ratio=0.7 .........................................\n",
      "[CV] .......................... alpha=0.1, l1_ratio=0.7, total=   0.0s\n",
      "[CV] alpha=0.1, l1_ratio=0.7 .........................................\n",
      "[CV] .......................... alpha=0.1, l1_ratio=0.7, total=   0.0s\n",
      "[CV] alpha=0.1, l1_ratio=0.7 .........................................\n",
      "[CV] .......................... alpha=0.1, l1_ratio=0.7, total=   0.0s\n",
      "[CV] alpha=0.1, l1_ratio=0.7 .........................................\n",
      "[CV] .......................... alpha=0.1, l1_ratio=0.7, total=   0.0s\n",
      "[CV] alpha=0.1, l1_ratio=0.7 .........................................\n",
      "[CV] .......................... alpha=0.1, l1_ratio=0.7, total=   0.0s\n",
      "[CV] alpha=0.1, l1_ratio=0.7 .........................................\n",
      "[CV] .......................... alpha=0.1, l1_ratio=0.7, total=   0.0s\n",
      "[CV] alpha=0.1, l1_ratio=0.7 .........................................\n",
      "[CV] .......................... alpha=0.1, l1_ratio=0.7, total=   0.0s\n",
      "[CV] alpha=0.1, l1_ratio=0.7 .........................................\n",
      "[CV] .......................... alpha=0.1, l1_ratio=0.7, total=   0.0s\n",
      "[CV] alpha=0.1, l1_ratio=0.9 .........................................\n",
      "[CV] .......................... alpha=0.1, l1_ratio=0.9, total=   0.0s\n",
      "[CV] alpha=0.1, l1_ratio=0.9 .........................................\n",
      "[CV] .......................... alpha=0.1, l1_ratio=0.9, total=   0.0s\n",
      "[CV] alpha=0.1, l1_ratio=0.9 .........................................\n",
      "[CV] .......................... alpha=0.1, l1_ratio=0.9, total=   0.0s\n",
      "[CV] alpha=0.1, l1_ratio=0.9 .........................................\n",
      "[CV] .......................... alpha=0.1, l1_ratio=0.9, total=   0.0s\n",
      "[CV] alpha=0.1, l1_ratio=0.9 .........................................\n",
      "[CV] .......................... alpha=0.1, l1_ratio=0.9, total=   0.0s\n",
      "[CV] alpha=0.1, l1_ratio=0.9 .........................................\n",
      "[CV] .......................... alpha=0.1, l1_ratio=0.9, total=   0.0s\n",
      "[CV] alpha=0.1, l1_ratio=0.9 .........................................\n",
      "[CV] .......................... alpha=0.1, l1_ratio=0.9, total=   0.0s\n",
      "[CV] alpha=0.1, l1_ratio=0.9 .........................................\n",
      "[CV] .......................... alpha=0.1, l1_ratio=0.9, total=   0.0s\n",
      "[CV] alpha=0.1, l1_ratio=0.9 .........................................\n",
      "[CV] .......................... alpha=0.1, l1_ratio=0.9, total=   0.0s\n",
      "[CV] alpha=0.1, l1_ratio=0.9 .........................................\n",
      "[CV] .......................... alpha=0.1, l1_ratio=0.9, total=   0.0s\n",
      "[CV] alpha=0.1, l1_ratio=1 ...........................................\n",
      "[CV] ............................ alpha=0.1, l1_ratio=1, total=   0.0s\n",
      "[CV] alpha=0.1, l1_ratio=1 ...........................................\n",
      "[CV] ............................ alpha=0.1, l1_ratio=1, total=   0.0s\n",
      "[CV] alpha=0.1, l1_ratio=1 ...........................................\n",
      "[CV] ............................ alpha=0.1, l1_ratio=1, total=   0.0s\n",
      "[CV] alpha=0.1, l1_ratio=1 ...........................................\n",
      "[CV] ............................ alpha=0.1, l1_ratio=1, total=   0.0s\n",
      "[CV] alpha=0.1, l1_ratio=1 ...........................................\n",
      "[CV] ............................ alpha=0.1, l1_ratio=1, total=   0.0s\n",
      "[CV] alpha=0.1, l1_ratio=1 ...........................................\n",
      "[CV] ............................ alpha=0.1, l1_ratio=1, total=   0.0s\n",
      "[CV] alpha=0.1, l1_ratio=1 ...........................................\n",
      "[CV] ............................ alpha=0.1, l1_ratio=1, total=   0.0s\n",
      "[CV] alpha=0.1, l1_ratio=1 ...........................................\n",
      "[CV] ............................ alpha=0.1, l1_ratio=1, total=   0.0s\n",
      "[CV] alpha=0.1, l1_ratio=1 ...........................................\n",
      "[CV] ............................ alpha=0.1, l1_ratio=1, total=   0.0s\n",
      "[CV] alpha=0.1, l1_ratio=1 ...........................................\n",
      "[CV] ............................ alpha=0.1, l1_ratio=1, total=   0.0s\n",
      "[CV] alpha=1, l1_ratio=0.1 ...........................................\n",
      "[CV] ............................ alpha=1, l1_ratio=0.1, total=   0.0s\n",
      "[CV] alpha=1, l1_ratio=0.1 ...........................................\n",
      "[CV] ............................ alpha=1, l1_ratio=0.1, total=   0.0s\n",
      "[CV] alpha=1, l1_ratio=0.1 ...........................................\n",
      "[CV] ............................ alpha=1, l1_ratio=0.1, total=   0.0s\n",
      "[CV] alpha=1, l1_ratio=0.1 ...........................................\n",
      "[CV] ............................ alpha=1, l1_ratio=0.1, total=   0.0s\n",
      "[CV] alpha=1, l1_ratio=0.1 ...........................................\n",
      "[CV] ............................ alpha=1, l1_ratio=0.1, total=   0.0s\n",
      "[CV] alpha=1, l1_ratio=0.1 ...........................................\n",
      "[CV] ............................ alpha=1, l1_ratio=0.1, total=   0.0s\n",
      "[CV] alpha=1, l1_ratio=0.1 ...........................................\n",
      "[CV] ............................ alpha=1, l1_ratio=0.1, total=   0.0s\n",
      "[CV] alpha=1, l1_ratio=0.1 ...........................................\n",
      "[CV] ............................ alpha=1, l1_ratio=0.1, total=   0.0s\n",
      "[CV] alpha=1, l1_ratio=0.1 ...........................................\n",
      "[CV] ............................ alpha=1, l1_ratio=0.1, total=   0.0s\n",
      "[CV] alpha=1, l1_ratio=0.1 ...........................................\n",
      "[CV] ............................ alpha=1, l1_ratio=0.1, total=   0.0s\n",
      "[CV] alpha=1, l1_ratio=0.5 ...........................................\n",
      "[CV] ............................ alpha=1, l1_ratio=0.5, total=   0.0s\n",
      "[CV] alpha=1, l1_ratio=0.5 ...........................................\n",
      "[CV] ............................ alpha=1, l1_ratio=0.5, total=   0.0s\n",
      "[CV] alpha=1, l1_ratio=0.5 ...........................................\n",
      "[CV] ............................ alpha=1, l1_ratio=0.5, total=   0.0s\n",
      "[CV] alpha=1, l1_ratio=0.5 ...........................................\n",
      "[CV] ............................ alpha=1, l1_ratio=0.5, total=   0.0s\n",
      "[CV] alpha=1, l1_ratio=0.5 ...........................................\n",
      "[CV] ............................ alpha=1, l1_ratio=0.5, total=   0.0s\n",
      "[CV] alpha=1, l1_ratio=0.5 ...........................................\n",
      "[CV] ............................ alpha=1, l1_ratio=0.5, total=   0.0s\n",
      "[CV] alpha=1, l1_ratio=0.5 ...........................................\n",
      "[CV] ............................ alpha=1, l1_ratio=0.5, total=   0.0s\n",
      "[CV] alpha=1, l1_ratio=0.5 ...........................................\n",
      "[CV] ............................ alpha=1, l1_ratio=0.5, total=   0.0s\n",
      "[CV] alpha=1, l1_ratio=0.5 ...........................................\n",
      "[CV] ............................ alpha=1, l1_ratio=0.5, total=   0.0s\n",
      "[CV] alpha=1, l1_ratio=0.5 ...........................................\n",
      "[CV] ............................ alpha=1, l1_ratio=0.5, total=   0.0s\n",
      "[CV] alpha=1, l1_ratio=0.7 ...........................................\n",
      "[CV] ............................ alpha=1, l1_ratio=0.7, total=   0.0s\n",
      "[CV] alpha=1, l1_ratio=0.7 ...........................................\n",
      "[CV] ............................ alpha=1, l1_ratio=0.7, total=   0.0s\n",
      "[CV] alpha=1, l1_ratio=0.7 ...........................................\n",
      "[CV] ............................ alpha=1, l1_ratio=0.7, total=   0.0s\n",
      "[CV] alpha=1, l1_ratio=0.7 ...........................................\n"
     ]
    },
    {
     "name": "stdout",
     "output_type": "stream",
     "text": [
      "[CV] ............................ alpha=1, l1_ratio=0.7, total=   0.0s\n",
      "[CV] alpha=1, l1_ratio=0.7 ...........................................\n",
      "[CV] ............................ alpha=1, l1_ratio=0.7, total=   0.0s\n",
      "[CV] alpha=1, l1_ratio=0.7 ...........................................\n",
      "[CV] ............................ alpha=1, l1_ratio=0.7, total=   0.0s\n",
      "[CV] alpha=1, l1_ratio=0.7 ...........................................\n",
      "[CV] ............................ alpha=1, l1_ratio=0.7, total=   0.0s\n",
      "[CV] alpha=1, l1_ratio=0.7 ...........................................\n",
      "[CV] ............................ alpha=1, l1_ratio=0.7, total=   0.0s\n",
      "[CV] alpha=1, l1_ratio=0.7 ...........................................\n",
      "[CV] ............................ alpha=1, l1_ratio=0.7, total=   0.0s\n",
      "[CV] alpha=1, l1_ratio=0.7 ...........................................\n",
      "[CV] ............................ alpha=1, l1_ratio=0.7, total=   0.0s\n",
      "[CV] alpha=1, l1_ratio=0.9 ...........................................\n",
      "[CV] ............................ alpha=1, l1_ratio=0.9, total=   0.0s\n",
      "[CV] alpha=1, l1_ratio=0.9 ...........................................\n",
      "[CV] ............................ alpha=1, l1_ratio=0.9, total=   0.0s\n",
      "[CV] alpha=1, l1_ratio=0.9 ...........................................\n",
      "[CV] ............................ alpha=1, l1_ratio=0.9, total=   0.0s\n",
      "[CV] alpha=1, l1_ratio=0.9 ...........................................\n",
      "[CV] ............................ alpha=1, l1_ratio=0.9, total=   0.0s\n",
      "[CV] alpha=1, l1_ratio=0.9 ...........................................\n",
      "[CV] ............................ alpha=1, l1_ratio=0.9, total=   0.0s\n",
      "[CV] alpha=1, l1_ratio=0.9 ...........................................\n",
      "[CV] ............................ alpha=1, l1_ratio=0.9, total=   0.0s\n",
      "[CV] alpha=1, l1_ratio=0.9 ...........................................\n",
      "[CV] ............................ alpha=1, l1_ratio=0.9, total=   0.0s\n",
      "[CV] alpha=1, l1_ratio=0.9 ...........................................\n",
      "[CV] ............................ alpha=1, l1_ratio=0.9, total=   0.0s\n",
      "[CV] alpha=1, l1_ratio=0.9 ...........................................\n",
      "[CV] ............................ alpha=1, l1_ratio=0.9, total=   0.0s\n",
      "[CV] alpha=1, l1_ratio=0.9 ...........................................\n",
      "[CV] ............................ alpha=1, l1_ratio=0.9, total=   0.0s\n",
      "[CV] alpha=1, l1_ratio=1 .............................................\n",
      "[CV] .............................. alpha=1, l1_ratio=1, total=   0.0s\n",
      "[CV] alpha=1, l1_ratio=1 .............................................\n",
      "[CV] .............................. alpha=1, l1_ratio=1, total=   0.0s\n",
      "[CV] alpha=1, l1_ratio=1 .............................................\n",
      "[CV] .............................. alpha=1, l1_ratio=1, total=   0.0s\n",
      "[CV] alpha=1, l1_ratio=1 .............................................\n",
      "[CV] .............................. alpha=1, l1_ratio=1, total=   0.0s\n",
      "[CV] alpha=1, l1_ratio=1 .............................................\n",
      "[CV] .............................. alpha=1, l1_ratio=1, total=   0.0s\n",
      "[CV] alpha=1, l1_ratio=1 .............................................\n",
      "[CV] .............................. alpha=1, l1_ratio=1, total=   0.0s\n",
      "[CV] alpha=1, l1_ratio=1 .............................................\n",
      "[CV] .............................. alpha=1, l1_ratio=1, total=   0.0s\n",
      "[CV] alpha=1, l1_ratio=1 .............................................\n",
      "[CV] .............................. alpha=1, l1_ratio=1, total=   0.0s\n",
      "[CV] alpha=1, l1_ratio=1 .............................................\n",
      "[CV] .............................. alpha=1, l1_ratio=1, total=   0.0s\n",
      "[CV] alpha=1, l1_ratio=1 .............................................\n",
      "[CV] .............................. alpha=1, l1_ratio=1, total=   0.0s\n",
      "[CV] alpha=10, l1_ratio=0.1 ..........................................\n",
      "[CV] ........................... alpha=10, l1_ratio=0.1, total=   0.0s\n",
      "[CV] alpha=10, l1_ratio=0.1 ..........................................\n",
      "[CV] ........................... alpha=10, l1_ratio=0.1, total=   0.0s\n",
      "[CV] alpha=10, l1_ratio=0.1 ..........................................\n",
      "[CV] ........................... alpha=10, l1_ratio=0.1, total=   0.0s\n",
      "[CV] alpha=10, l1_ratio=0.1 ..........................................\n",
      "[CV] ........................... alpha=10, l1_ratio=0.1, total=   0.0s\n",
      "[CV] alpha=10, l1_ratio=0.1 ..........................................\n",
      "[CV] ........................... alpha=10, l1_ratio=0.1, total=   0.0s\n",
      "[CV] alpha=10, l1_ratio=0.1 ..........................................\n",
      "[CV] ........................... alpha=10, l1_ratio=0.1, total=   0.0s\n",
      "[CV] alpha=10, l1_ratio=0.1 ..........................................\n",
      "[CV] ........................... alpha=10, l1_ratio=0.1, total=   0.0s\n",
      "[CV] alpha=10, l1_ratio=0.1 ..........................................\n",
      "[CV] ........................... alpha=10, l1_ratio=0.1, total=   0.0s\n",
      "[CV] alpha=10, l1_ratio=0.1 ..........................................\n",
      "[CV] ........................... alpha=10, l1_ratio=0.1, total=   0.0s\n",
      "[CV] alpha=10, l1_ratio=0.1 ..........................................\n",
      "[CV] ........................... alpha=10, l1_ratio=0.1, total=   0.0s\n",
      "[CV] alpha=10, l1_ratio=0.5 ..........................................\n",
      "[CV] ........................... alpha=10, l1_ratio=0.5, total=   0.0s\n",
      "[CV] alpha=10, l1_ratio=0.5 ..........................................\n",
      "[CV] ........................... alpha=10, l1_ratio=0.5, total=   0.0s\n",
      "[CV] alpha=10, l1_ratio=0.5 ..........................................\n",
      "[CV] ........................... alpha=10, l1_ratio=0.5, total=   0.0s\n",
      "[CV] alpha=10, l1_ratio=0.5 ..........................................\n",
      "[CV] ........................... alpha=10, l1_ratio=0.5, total=   0.0s\n",
      "[CV] alpha=10, l1_ratio=0.5 ..........................................\n",
      "[CV] ........................... alpha=10, l1_ratio=0.5, total=   0.0s\n",
      "[CV] alpha=10, l1_ratio=0.5 ..........................................\n",
      "[CV] ........................... alpha=10, l1_ratio=0.5, total=   0.0s\n",
      "[CV] alpha=10, l1_ratio=0.5 ..........................................\n",
      "[CV] ........................... alpha=10, l1_ratio=0.5, total=   0.0s\n",
      "[CV] alpha=10, l1_ratio=0.5 ..........................................\n",
      "[CV] ........................... alpha=10, l1_ratio=0.5, total=   0.0s\n",
      "[CV] alpha=10, l1_ratio=0.5 ..........................................\n",
      "[CV] ........................... alpha=10, l1_ratio=0.5, total=   0.0s\n",
      "[CV] alpha=10, l1_ratio=0.5 ..........................................\n",
      "[CV] ........................... alpha=10, l1_ratio=0.5, total=   0.0s\n",
      "[CV] alpha=10, l1_ratio=0.7 ..........................................\n",
      "[CV] ........................... alpha=10, l1_ratio=0.7, total=   0.0s\n",
      "[CV] alpha=10, l1_ratio=0.7 ..........................................\n",
      "[CV] ........................... alpha=10, l1_ratio=0.7, total=   0.0s\n",
      "[CV] alpha=10, l1_ratio=0.7 ..........................................\n",
      "[CV] ........................... alpha=10, l1_ratio=0.7, total=   0.0s\n",
      "[CV] alpha=10, l1_ratio=0.7 ..........................................\n",
      "[CV] ........................... alpha=10, l1_ratio=0.7, total=   0.0s\n",
      "[CV] alpha=10, l1_ratio=0.7 ..........................................\n",
      "[CV] ........................... alpha=10, l1_ratio=0.7, total=   0.0s\n",
      "[CV] alpha=10, l1_ratio=0.7 ..........................................\n",
      "[CV] ........................... alpha=10, l1_ratio=0.7, total=   0.0s\n",
      "[CV] alpha=10, l1_ratio=0.7 ..........................................\n",
      "[CV] ........................... alpha=10, l1_ratio=0.7, total=   0.0s\n",
      "[CV] alpha=10, l1_ratio=0.7 ..........................................\n",
      "[CV] ........................... alpha=10, l1_ratio=0.7, total=   0.0s\n",
      "[CV] alpha=10, l1_ratio=0.7 ..........................................\n",
      "[CV] ........................... alpha=10, l1_ratio=0.7, total=   0.0s\n",
      "[CV] alpha=10, l1_ratio=0.7 ..........................................\n",
      "[CV] ........................... alpha=10, l1_ratio=0.7, total=   0.0s\n",
      "[CV] alpha=10, l1_ratio=0.9 ..........................................\n",
      "[CV] ........................... alpha=10, l1_ratio=0.9, total=   0.0s\n",
      "[CV] alpha=10, l1_ratio=0.9 ..........................................\n",
      "[CV] ........................... alpha=10, l1_ratio=0.9, total=   0.0s\n",
      "[CV] alpha=10, l1_ratio=0.9 ..........................................\n",
      "[CV] ........................... alpha=10, l1_ratio=0.9, total=   0.0s\n",
      "[CV] alpha=10, l1_ratio=0.9 ..........................................\n",
      "[CV] ........................... alpha=10, l1_ratio=0.9, total=   0.0s\n",
      "[CV] alpha=10, l1_ratio=0.9 ..........................................\n",
      "[CV] ........................... alpha=10, l1_ratio=0.9, total=   0.0s\n",
      "[CV] alpha=10, l1_ratio=0.9 ..........................................\n",
      "[CV] ........................... alpha=10, l1_ratio=0.9, total=   0.0s\n",
      "[CV] alpha=10, l1_ratio=0.9 ..........................................\n",
      "[CV] ........................... alpha=10, l1_ratio=0.9, total=   0.0s\n",
      "[CV] alpha=10, l1_ratio=0.9 ..........................................\n",
      "[CV] ........................... alpha=10, l1_ratio=0.9, total=   0.0s\n",
      "[CV] alpha=10, l1_ratio=0.9 ..........................................\n",
      "[CV] ........................... alpha=10, l1_ratio=0.9, total=   0.0s\n",
      "[CV] alpha=10, l1_ratio=0.9 ..........................................\n",
      "[CV] ........................... alpha=10, l1_ratio=0.9, total=   0.0s\n",
      "[CV] alpha=10, l1_ratio=1 ............................................\n",
      "[CV] ............................. alpha=10, l1_ratio=1, total=   0.0s\n",
      "[CV] alpha=10, l1_ratio=1 ............................................\n",
      "[CV] ............................. alpha=10, l1_ratio=1, total=   0.0s\n",
      "[CV] alpha=10, l1_ratio=1 ............................................\n"
     ]
    },
    {
     "name": "stdout",
     "output_type": "stream",
     "text": [
      "[CV] ............................. alpha=10, l1_ratio=1, total=   0.0s\n",
      "[CV] alpha=10, l1_ratio=1 ............................................\n",
      "[CV] ............................. alpha=10, l1_ratio=1, total=   0.0s\n",
      "[CV] alpha=10, l1_ratio=1 ............................................\n",
      "[CV] ............................. alpha=10, l1_ratio=1, total=   0.0s\n",
      "[CV] alpha=10, l1_ratio=1 ............................................\n",
      "[CV] ............................. alpha=10, l1_ratio=1, total=   0.0s\n",
      "[CV] alpha=10, l1_ratio=1 ............................................\n",
      "[CV] ............................. alpha=10, l1_ratio=1, total=   0.0s\n",
      "[CV] alpha=10, l1_ratio=1 ............................................\n",
      "[CV] ............................. alpha=10, l1_ratio=1, total=   0.0s\n",
      "[CV] alpha=10, l1_ratio=1 ............................................\n",
      "[CV] ............................. alpha=10, l1_ratio=1, total=   0.0s\n",
      "[CV] alpha=10, l1_ratio=1 ............................................\n",
      "[CV] ............................. alpha=10, l1_ratio=1, total=   0.0s\n",
      "[CV] alpha=50, l1_ratio=0.1 ..........................................\n",
      "[CV] ........................... alpha=50, l1_ratio=0.1, total=   0.0s\n",
      "[CV] alpha=50, l1_ratio=0.1 ..........................................\n",
      "[CV] ........................... alpha=50, l1_ratio=0.1, total=   0.0s\n",
      "[CV] alpha=50, l1_ratio=0.1 ..........................................\n",
      "[CV] ........................... alpha=50, l1_ratio=0.1, total=   0.0s\n",
      "[CV] alpha=50, l1_ratio=0.1 ..........................................\n",
      "[CV] ........................... alpha=50, l1_ratio=0.1, total=   0.0s\n",
      "[CV] alpha=50, l1_ratio=0.1 ..........................................\n",
      "[CV] ........................... alpha=50, l1_ratio=0.1, total=   0.0s\n",
      "[CV] alpha=50, l1_ratio=0.1 ..........................................\n",
      "[CV] ........................... alpha=50, l1_ratio=0.1, total=   0.0s\n",
      "[CV] alpha=50, l1_ratio=0.1 ..........................................\n",
      "[CV] ........................... alpha=50, l1_ratio=0.1, total=   0.0s\n",
      "[CV] alpha=50, l1_ratio=0.1 ..........................................\n",
      "[CV] ........................... alpha=50, l1_ratio=0.1, total=   0.0s\n",
      "[CV] alpha=50, l1_ratio=0.1 ..........................................\n",
      "[CV] ........................... alpha=50, l1_ratio=0.1, total=   0.0s\n",
      "[CV] alpha=50, l1_ratio=0.1 ..........................................\n",
      "[CV] ........................... alpha=50, l1_ratio=0.1, total=   0.0s\n",
      "[CV] alpha=50, l1_ratio=0.5 ..........................................\n",
      "[CV] ........................... alpha=50, l1_ratio=0.5, total=   0.0s\n",
      "[CV] alpha=50, l1_ratio=0.5 ..........................................\n",
      "[CV] ........................... alpha=50, l1_ratio=0.5, total=   0.0s\n",
      "[CV] alpha=50, l1_ratio=0.5 ..........................................\n",
      "[CV] ........................... alpha=50, l1_ratio=0.5, total=   0.0s\n",
      "[CV] alpha=50, l1_ratio=0.5 ..........................................\n",
      "[CV] ........................... alpha=50, l1_ratio=0.5, total=   0.0s\n",
      "[CV] alpha=50, l1_ratio=0.5 ..........................................\n",
      "[CV] ........................... alpha=50, l1_ratio=0.5, total=   0.0s\n",
      "[CV] alpha=50, l1_ratio=0.5 ..........................................\n",
      "[CV] ........................... alpha=50, l1_ratio=0.5, total=   0.0s\n",
      "[CV] alpha=50, l1_ratio=0.5 ..........................................\n",
      "[CV] ........................... alpha=50, l1_ratio=0.5, total=   0.0s\n",
      "[CV] alpha=50, l1_ratio=0.5 ..........................................\n",
      "[CV] ........................... alpha=50, l1_ratio=0.5, total=   0.0s\n",
      "[CV] alpha=50, l1_ratio=0.5 ..........................................\n",
      "[CV] ........................... alpha=50, l1_ratio=0.5, total=   0.0s\n",
      "[CV] alpha=50, l1_ratio=0.5 ..........................................\n",
      "[CV] ........................... alpha=50, l1_ratio=0.5, total=   0.0s\n",
      "[CV] alpha=50, l1_ratio=0.7 ..........................................\n",
      "[CV] ........................... alpha=50, l1_ratio=0.7, total=   0.0s\n",
      "[CV] alpha=50, l1_ratio=0.7 ..........................................\n",
      "[CV] ........................... alpha=50, l1_ratio=0.7, total=   0.0s\n",
      "[CV] alpha=50, l1_ratio=0.7 ..........................................\n",
      "[CV] ........................... alpha=50, l1_ratio=0.7, total=   0.0s\n",
      "[CV] alpha=50, l1_ratio=0.7 ..........................................\n",
      "[CV] ........................... alpha=50, l1_ratio=0.7, total=   0.0s\n",
      "[CV] alpha=50, l1_ratio=0.7 ..........................................\n",
      "[CV] ........................... alpha=50, l1_ratio=0.7, total=   0.0s\n",
      "[CV] alpha=50, l1_ratio=0.7 ..........................................\n",
      "[CV] ........................... alpha=50, l1_ratio=0.7, total=   0.0s\n",
      "[CV] alpha=50, l1_ratio=0.7 ..........................................\n",
      "[CV] ........................... alpha=50, l1_ratio=0.7, total=   0.0s\n",
      "[CV] alpha=50, l1_ratio=0.7 ..........................................\n",
      "[CV] ........................... alpha=50, l1_ratio=0.7, total=   0.0s\n",
      "[CV] alpha=50, l1_ratio=0.7 ..........................................\n",
      "[CV] ........................... alpha=50, l1_ratio=0.7, total=   0.0s\n",
      "[CV] alpha=50, l1_ratio=0.7 ..........................................\n",
      "[CV] ........................... alpha=50, l1_ratio=0.7, total=   0.0s\n",
      "[CV] alpha=50, l1_ratio=0.9 ..........................................\n",
      "[CV] ........................... alpha=50, l1_ratio=0.9, total=   0.0s\n",
      "[CV] alpha=50, l1_ratio=0.9 ..........................................\n",
      "[CV] ........................... alpha=50, l1_ratio=0.9, total=   0.0s\n",
      "[CV] alpha=50, l1_ratio=0.9 ..........................................\n",
      "[CV] ........................... alpha=50, l1_ratio=0.9, total=   0.0s\n",
      "[CV] alpha=50, l1_ratio=0.9 ..........................................\n",
      "[CV] ........................... alpha=50, l1_ratio=0.9, total=   0.0s\n",
      "[CV] alpha=50, l1_ratio=0.9 ..........................................\n",
      "[CV] ........................... alpha=50, l1_ratio=0.9, total=   0.0s\n",
      "[CV] alpha=50, l1_ratio=0.9 ..........................................\n",
      "[CV] ........................... alpha=50, l1_ratio=0.9, total=   0.0s\n",
      "[CV] alpha=50, l1_ratio=0.9 ..........................................\n",
      "[CV] ........................... alpha=50, l1_ratio=0.9, total=   0.0s\n",
      "[CV] alpha=50, l1_ratio=0.9 ..........................................\n",
      "[CV] ........................... alpha=50, l1_ratio=0.9, total=   0.0s\n",
      "[CV] alpha=50, l1_ratio=0.9 ..........................................\n",
      "[CV] ........................... alpha=50, l1_ratio=0.9, total=   0.0s\n",
      "[CV] alpha=50, l1_ratio=0.9 ..........................................\n",
      "[CV] ........................... alpha=50, l1_ratio=0.9, total=   0.0s\n",
      "[CV] alpha=50, l1_ratio=1 ............................................\n",
      "[CV] ............................. alpha=50, l1_ratio=1, total=   0.0s\n",
      "[CV] alpha=50, l1_ratio=1 ............................................\n",
      "[CV] ............................. alpha=50, l1_ratio=1, total=   0.0s\n",
      "[CV] alpha=50, l1_ratio=1 ............................................\n",
      "[CV] ............................. alpha=50, l1_ratio=1, total=   0.0s\n",
      "[CV] alpha=50, l1_ratio=1 ............................................\n",
      "[CV] ............................. alpha=50, l1_ratio=1, total=   0.0s\n",
      "[CV] alpha=50, l1_ratio=1 ............................................\n",
      "[CV] ............................. alpha=50, l1_ratio=1, total=   0.0s\n",
      "[CV] alpha=50, l1_ratio=1 ............................................\n",
      "[CV] ............................. alpha=50, l1_ratio=1, total=   0.0s\n",
      "[CV] alpha=50, l1_ratio=1 ............................................\n",
      "[CV] ............................. alpha=50, l1_ratio=1, total=   0.0s\n",
      "[CV] alpha=50, l1_ratio=1 ............................................\n",
      "[CV] ............................. alpha=50, l1_ratio=1, total=   0.0s\n",
      "[CV] alpha=50, l1_ratio=1 ............................................\n",
      "[CV] ............................. alpha=50, l1_ratio=1, total=   0.0s\n",
      "[CV] alpha=50, l1_ratio=1 ............................................\n",
      "[CV] ............................. alpha=50, l1_ratio=1, total=   0.0s\n",
      "[CV] alpha=100, l1_ratio=0.1 .........................................\n",
      "[CV] .......................... alpha=100, l1_ratio=0.1, total=   0.0s\n",
      "[CV] alpha=100, l1_ratio=0.1 .........................................\n",
      "[CV] .......................... alpha=100, l1_ratio=0.1, total=   0.0s\n",
      "[CV] alpha=100, l1_ratio=0.1 .........................................\n",
      "[CV] .......................... alpha=100, l1_ratio=0.1, total=   0.0s\n",
      "[CV] alpha=100, l1_ratio=0.1 .........................................\n",
      "[CV] .......................... alpha=100, l1_ratio=0.1, total=   0.0s\n",
      "[CV] alpha=100, l1_ratio=0.1 .........................................\n",
      "[CV] .......................... alpha=100, l1_ratio=0.1, total=   0.0s\n",
      "[CV] alpha=100, l1_ratio=0.1 .........................................\n",
      "[CV] .......................... alpha=100, l1_ratio=0.1, total=   0.0s\n",
      "[CV] alpha=100, l1_ratio=0.1 .........................................\n",
      "[CV] .......................... alpha=100, l1_ratio=0.1, total=   0.0s\n",
      "[CV] alpha=100, l1_ratio=0.1 .........................................\n",
      "[CV] .......................... alpha=100, l1_ratio=0.1, total=   0.0s\n",
      "[CV] alpha=100, l1_ratio=0.1 .........................................\n",
      "[CV] .......................... alpha=100, l1_ratio=0.1, total=   0.0s\n",
      "[CV] alpha=100, l1_ratio=0.1 .........................................\n",
      "[CV] .......................... alpha=100, l1_ratio=0.1, total=   0.0s\n",
      "[CV] alpha=100, l1_ratio=0.5 .........................................\n",
      "[CV] .......................... alpha=100, l1_ratio=0.5, total=   0.0s\n",
      "[CV] alpha=100, l1_ratio=0.5 .........................................\n",
      "[CV] .......................... alpha=100, l1_ratio=0.5, total=   0.0s\n",
      "[CV] alpha=100, l1_ratio=0.5 .........................................\n",
      "[CV] .......................... alpha=100, l1_ratio=0.5, total=   0.0s\n",
      "[CV] alpha=100, l1_ratio=0.5 .........................................\n",
      "[CV] .......................... alpha=100, l1_ratio=0.5, total=   0.0s\n",
      "[CV] alpha=100, l1_ratio=0.5 .........................................\n"
     ]
    },
    {
     "name": "stdout",
     "output_type": "stream",
     "text": [
      "[CV] .......................... alpha=100, l1_ratio=0.5, total=   0.0s\n",
      "[CV] alpha=100, l1_ratio=0.5 .........................................\n",
      "[CV] .......................... alpha=100, l1_ratio=0.5, total=   0.0s\n",
      "[CV] alpha=100, l1_ratio=0.5 .........................................\n",
      "[CV] .......................... alpha=100, l1_ratio=0.5, total=   0.0s\n",
      "[CV] alpha=100, l1_ratio=0.5 .........................................\n",
      "[CV] .......................... alpha=100, l1_ratio=0.5, total=   0.0s\n",
      "[CV] alpha=100, l1_ratio=0.5 .........................................\n",
      "[CV] .......................... alpha=100, l1_ratio=0.5, total=   0.0s\n",
      "[CV] alpha=100, l1_ratio=0.5 .........................................\n",
      "[CV] .......................... alpha=100, l1_ratio=0.5, total=   0.0s\n",
      "[CV] alpha=100, l1_ratio=0.7 .........................................\n",
      "[CV] .......................... alpha=100, l1_ratio=0.7, total=   0.0s\n",
      "[CV] alpha=100, l1_ratio=0.7 .........................................\n",
      "[CV] .......................... alpha=100, l1_ratio=0.7, total=   0.0s\n",
      "[CV] alpha=100, l1_ratio=0.7 .........................................\n",
      "[CV] .......................... alpha=100, l1_ratio=0.7, total=   0.0s\n",
      "[CV] alpha=100, l1_ratio=0.7 .........................................\n",
      "[CV] .......................... alpha=100, l1_ratio=0.7, total=   0.0s\n",
      "[CV] alpha=100, l1_ratio=0.7 .........................................\n",
      "[CV] .......................... alpha=100, l1_ratio=0.7, total=   0.0s\n",
      "[CV] alpha=100, l1_ratio=0.7 .........................................\n",
      "[CV] .......................... alpha=100, l1_ratio=0.7, total=   0.0s\n",
      "[CV] alpha=100, l1_ratio=0.7 .........................................\n",
      "[CV] .......................... alpha=100, l1_ratio=0.7, total=   0.0s\n",
      "[CV] alpha=100, l1_ratio=0.7 .........................................\n",
      "[CV] .......................... alpha=100, l1_ratio=0.7, total=   0.0s\n",
      "[CV] alpha=100, l1_ratio=0.7 .........................................\n",
      "[CV] .......................... alpha=100, l1_ratio=0.7, total=   0.0s\n",
      "[CV] alpha=100, l1_ratio=0.7 .........................................\n",
      "[CV] .......................... alpha=100, l1_ratio=0.7, total=   0.0s\n",
      "[CV] alpha=100, l1_ratio=0.9 .........................................\n",
      "[CV] .......................... alpha=100, l1_ratio=0.9, total=   0.0s\n",
      "[CV] alpha=100, l1_ratio=0.9 .........................................\n",
      "[CV] .......................... alpha=100, l1_ratio=0.9, total=   0.0s\n",
      "[CV] alpha=100, l1_ratio=0.9 .........................................\n",
      "[CV] .......................... alpha=100, l1_ratio=0.9, total=   0.0s\n",
      "[CV] alpha=100, l1_ratio=0.9 .........................................\n",
      "[CV] .......................... alpha=100, l1_ratio=0.9, total=   0.0s\n",
      "[CV] alpha=100, l1_ratio=0.9 .........................................\n",
      "[CV] .......................... alpha=100, l1_ratio=0.9, total=   0.0s\n",
      "[CV] alpha=100, l1_ratio=0.9 .........................................\n",
      "[CV] .......................... alpha=100, l1_ratio=0.9, total=   0.0s\n",
      "[CV] alpha=100, l1_ratio=0.9 .........................................\n",
      "[CV] .......................... alpha=100, l1_ratio=0.9, total=   0.0s\n",
      "[CV] alpha=100, l1_ratio=0.9 .........................................\n",
      "[CV] .......................... alpha=100, l1_ratio=0.9, total=   0.0s\n",
      "[CV] alpha=100, l1_ratio=0.9 .........................................\n",
      "[CV] .......................... alpha=100, l1_ratio=0.9, total=   0.0s\n",
      "[CV] alpha=100, l1_ratio=0.9 .........................................\n",
      "[CV] .......................... alpha=100, l1_ratio=0.9, total=   0.0s\n",
      "[CV] alpha=100, l1_ratio=1 ...........................................\n",
      "[CV] ............................ alpha=100, l1_ratio=1, total=   0.0s\n",
      "[CV] alpha=100, l1_ratio=1 ...........................................\n",
      "[CV] ............................ alpha=100, l1_ratio=1, total=   0.0s\n",
      "[CV] alpha=100, l1_ratio=1 ...........................................\n",
      "[CV] ............................ alpha=100, l1_ratio=1, total=   0.0s\n",
      "[CV] alpha=100, l1_ratio=1 ...........................................\n",
      "[CV] ............................ alpha=100, l1_ratio=1, total=   0.0s\n",
      "[CV] alpha=100, l1_ratio=1 ...........................................\n",
      "[CV] ............................ alpha=100, l1_ratio=1, total=   0.0s\n",
      "[CV] alpha=100, l1_ratio=1 ...........................................\n",
      "[CV] ............................ alpha=100, l1_ratio=1, total=   0.0s\n",
      "[CV] alpha=100, l1_ratio=1 ...........................................\n",
      "[CV] ............................ alpha=100, l1_ratio=1, total=   0.0s\n",
      "[CV] alpha=100, l1_ratio=1 ...........................................\n",
      "[CV] ............................ alpha=100, l1_ratio=1, total=   0.0s\n",
      "[CV] alpha=100, l1_ratio=1 ...........................................\n",
      "[CV] ............................ alpha=100, l1_ratio=1, total=   0.0s\n",
      "[CV] alpha=100, l1_ratio=1 ...........................................\n",
      "[CV] ............................ alpha=100, l1_ratio=1, total=   0.0s\n"
     ]
    },
    {
     "name": "stderr",
     "output_type": "stream",
     "text": [
      "[Parallel(n_jobs=1)]: Done 250 out of 250 | elapsed:    3.1s finished\n"
     ]
    },
    {
     "data": {
      "text/plain": [
       "GridSearchCV(cv=10, estimator=ElasticNet(),\n",
       "             param_grid={'alpha': [0.1, 1, 10, 50, 100],\n",
       "                         'l1_ratio': [0.1, 0.5, 0.7, 0.9, 1]},\n",
       "             scoring='neg_mean_squared_error', verbose=2)"
      ]
     },
     "execution_count": 41,
     "metadata": {},
     "output_type": "execute_result"
    }
   ],
   "source": [
    "grid_model.fit(X_train,y_train)"
   ]
  },
  {
   "cell_type": "code",
   "execution_count": 42,
   "id": "durable-banking",
   "metadata": {},
   "outputs": [
    {
     "data": {
      "text/plain": [
       "{'alpha': 0.1, 'l1_ratio': 0.1}"
      ]
     },
     "execution_count": 42,
     "metadata": {},
     "output_type": "execute_result"
    }
   ],
   "source": [
    "grid_model.best_params_"
   ]
  },
  {
   "cell_type": "code",
   "execution_count": 43,
   "id": "removable-hazard",
   "metadata": {},
   "outputs": [
    {
     "data": {
      "text/plain": [
       "ElasticNet(alpha=0.1, l1_ratio=0.1)"
      ]
     },
     "execution_count": 43,
     "metadata": {},
     "output_type": "execute_result"
    }
   ],
   "source": [
    "grid_model.best_estimator_"
   ]
  },
  {
   "cell_type": "code",
   "execution_count": 44,
   "id": "contemporary-encoding",
   "metadata": {},
   "outputs": [],
   "source": [
    "y_pred = grid_model.predict(X_test)"
   ]
  },
  {
   "cell_type": "code",
   "execution_count": 45,
   "id": "mounted-strand",
   "metadata": {},
   "outputs": [
    {
     "data": {
      "text/plain": [
       "0.013726411864978113"
      ]
     },
     "execution_count": 45,
     "metadata": {},
     "output_type": "execute_result"
    }
   ],
   "source": [
    "mean_squared_error(y_test,y_pred)"
   ]
  },
  {
   "cell_type": "code",
   "execution_count": 46,
   "id": "trained-shadow",
   "metadata": {},
   "outputs": [
    {
     "data": {
      "text/plain": [
       "0.11715977067653432"
      ]
     },
     "execution_count": 46,
     "metadata": {},
     "output_type": "execute_result"
    }
   ],
   "source": [
    "RMSE = np.sqrt(mean_squared_error(y_test,y_pred))\n",
    "RMSE"
   ]
  },
  {
   "cell_type": "code",
   "execution_count": 47,
   "id": "registered-nursing",
   "metadata": {},
   "outputs": [],
   "source": [
    "test_prob = y_test - y_pred"
   ]
  },
  {
   "cell_type": "code",
   "execution_count": 48,
   "id": "corporate-sodium",
   "metadata": {},
   "outputs": [
    {
     "data": {
      "text/plain": [
       "<matplotlib.lines.Line2D at 0x153a7ad8a48>"
      ]
     },
     "execution_count": 48,
     "metadata": {},
     "output_type": "execute_result"
    },
    {
     "data": {
      "image/png": "[encoded data removed]",
      "text/plain": [
       "<Figure size 432x288 with 1 Axes>"
      ]
     },
     "metadata": {
      "needs_background": "light"
     },
     "output_type": "display_data"
    }
   ],
   "source": [
    "sns.scatterplot(x=y_test,y=test_prob)\n",
    "plt.axhline(y=0,color='magenta',linestyle='--')"
   ]
  },
  {
   "cell_type": "code",
   "execution_count": 49,
   "id": "other-integral",
   "metadata": {},
   "outputs": [
    {
     "data": {
      "image/png": "[encoded data removed]",
      "text/plain": [
       "<Figure size 1000x1200 with 1 Axes>"
      ]
     },
     "metadata": {
      "needs_background": "light"
     },
     "output_type": "display_data"
    }
   ],
   "source": [
    "fig,ax = plt.subplots(figsize=(10,12),dpi=100)\n",
    "\n",
    "_=sp.stats.probplot(test_prob,plot=ax)"
   ]
  },
  {
   "cell_type": "code",
   "execution_count": 50,
   "id": "opening-plaza",
   "metadata": {},
   "outputs": [],
   "source": [
    "def MAPE(y_test,y_pred):\n",
    "    mape = np.mean(np.abs((y_test - y_pred)/y_test))*100\n",
    "    return mape"
   ]
  },
  {
   "cell_type": "code",
   "execution_count": 51,
   "id": "dried-scene",
   "metadata": {},
   "outputs": [],
   "source": [
    "LR_MAPEgrid= MAPE(y_test,y_pred)"
   ]
  },
  {
   "cell_type": "code",
   "execution_count": 52,
   "id": "identical-folder",
   "metadata": {},
   "outputs": [
    {
     "name": "stdout",
     "output_type": "stream",
     "text": [
      "MAPE:  0.7084285541275762\n"
     ]
    }
   ],
   "source": [
    "print(\"MAPE: \",LR_MAPEgrid)"
   ]
  },
  {
   "cell_type": "markdown",
   "id": "floral-domain",
   "metadata": {},
   "source": [
    "# Ridge model"
   ]
  },
  {
   "cell_type": "code",
   "execution_count": 53,
   "id": "sound-fellowship",
   "metadata": {},
   "outputs": [],
   "source": [
    "#Create  and y \n",
    "X = df.drop('saleprice',axis=1)\n",
    "y = df['saleprice']\n",
    "\n",
    "from sklearn.model_selection import train_test_split\n",
    "X_train,X_test, y_train, y_test = train_test_split(X,y, test_size = 0.3)\n",
    "\n",
    "from sklearn.preprocessing import StandardScaler\n",
    "scaler = StandardScaler()\n",
    "scaler.fit(X_train)\n",
    "X_train = scaler.transform(X_train)\n",
    "X_test = scaler.transform(X_test)"
   ]
  },
  {
   "cell_type": "code",
   "execution_count": 54,
   "id": "growing-siemens",
   "metadata": {},
   "outputs": [],
   "source": [
    "ridge_model = Ridge(alpha=10)"
   ]
  },
  {
   "cell_type": "code",
   "execution_count": 55,
   "id": "extraordinary-pasta",
   "metadata": {},
   "outputs": [
    {
     "data": {
      "text/plain": [
       "Ridge(alpha=10)"
      ]
     },
     "execution_count": 55,
     "metadata": {},
     "output_type": "execute_result"
    }
   ],
   "source": [
    "ridge_model.fit(X_train,y_train)"
   ]
  },
  {
   "cell_type": "code",
   "execution_count": 56,
   "id": "revised-parking",
   "metadata": {},
   "outputs": [],
   "source": [
    "pred_test_ridge = ridge_model.predict(X_test)"
   ]
  },
  {
   "cell_type": "code",
   "execution_count": 57,
   "id": "occasional-rwanda",
   "metadata": {},
   "outputs": [
    {
     "data": {
      "text/plain": [
       "array([12.49475657, 11.61864582, 12.16776412, 11.84433401, 11.60485556,\n",
       "       12.15053006, 12.28905853, 12.36568881, 12.00926211, 12.64246066,\n",
       "       11.2675521 , 11.85248499, 12.07283008, 11.65789455, 11.78365339,\n",
       "       12.97158442, 11.5378669 , 11.64024622, 12.52581605, 11.67170999,\n",
       "       12.09311487, 12.23209892, 11.73193827, 11.7013675 , 12.69446045,\n",
       "       11.77914027, 12.57733472, 11.29808775, 11.97708821, 11.66776139,\n",
       "       12.22695373, 11.34211808, 12.45222499, 11.69630781, 11.81360992,\n",
       "       12.15135832, 11.34076867, 12.11102906, 11.71666445, 11.3595509 ,\n",
       "       12.37370653, 12.18754624, 12.2450048 , 11.9116334 , 12.29412396,\n",
       "       12.18301814, 11.89035559, 11.89980663, 13.15069481, 12.22501326,\n",
       "       11.28272597, 11.84328727, 11.8813109 , 11.59325566, 11.93205518,\n",
       "       11.90153615, 12.07452607, 11.88899007, 12.65138398, 11.56057046,\n",
       "       11.8786021 , 12.60426627, 12.14161554, 11.89032846, 12.64328819,\n",
       "       12.22405166, 11.94941313, 11.8797583 , 11.92774096, 11.93165935,\n",
       "       12.47184747, 12.46020177, 12.04483784, 12.39520218, 12.47242288,\n",
       "       12.57646728, 11.72069528, 12.14330676, 12.50679977, 12.2671285 ,\n",
       "       11.7479095 , 12.35433629, 12.2688191 , 12.26271845, 11.55173232,\n",
       "       12.16261783, 12.5261709 , 11.845619  , 12.41849207, 12.03970591,\n",
       "       11.99687742, 12.73088041, 12.02184648, 11.37355546, 11.6728339 ,\n",
       "       11.95177533, 12.7688521 , 13.37824261, 12.44916279, 12.95847716,\n",
       "       11.70306166, 12.07082112, 12.06891446, 12.73185846, 11.96673912,\n",
       "       12.09551374, 12.74325883, 12.06895283, 11.64762272, 11.89225871,\n",
       "       11.69536848, 12.09078964, 11.85978387, 12.40930303, 12.16275954,\n",
       "       11.92273684, 11.94864673, 12.11771728, 12.17655882, 12.46539537,\n",
       "       12.33790503, 11.18602163, 11.73851095, 11.70294105, 11.73407158,\n",
       "       12.25703725, 11.49986989, 12.41254247, 11.70604771, 12.25058219,\n",
       "       11.76458973, 12.10201273, 11.64685665, 11.61581112, 12.01547071,\n",
       "       11.76555078, 11.59407065, 11.69014557, 11.97470683, 11.17573059,\n",
       "       12.09406111, 11.96212838, 11.44397803, 12.18641577, 12.54294145,\n",
       "       11.72372441, 11.43208045, 11.87235848, 12.30093669, 12.93848321,\n",
       "       13.38241897, 11.72570188, 11.45270574, 11.85232488, 12.3521363 ,\n",
       "       11.7737959 , 11.74168231, 12.58251671, 11.30408083, 11.96085643,\n",
       "       11.64459408, 12.23904761, 12.21758499, 12.66350528, 12.12939845,\n",
       "       11.71633869, 12.13581365, 11.99327826, 12.23346482, 12.09821722,\n",
       "       12.84362367, 11.98070628, 12.34336603, 12.63272776, 11.85941207,\n",
       "       12.66915933, 11.69716855, 12.12807533, 11.71201124, 11.44295255,\n",
       "       11.81423885, 11.99533819, 11.52605283, 12.15460313, 12.55595999,\n",
       "       11.74317393, 12.26794035, 11.57561287, 11.90425119, 12.10849819,\n",
       "       12.16741401, 11.61349306, 12.35894119, 12.04626673, 11.40316239,\n",
       "       11.65852037, 12.19444446, 11.78420452, 12.75909473, 11.8356626 ,\n",
       "       12.13391578, 11.67353706, 11.84625408, 11.81527798, 11.84327383,\n",
       "       12.21079632, 11.6924784 , 11.45572277, 11.40343922, 11.75115253,\n",
       "       12.20723197, 12.30582588, 12.14400924, 12.18269168, 11.87939812,\n",
       "       12.5991025 , 11.76183078, 11.81917468, 11.48729242, 11.92247191,\n",
       "       12.53050051, 12.06641783, 12.16988385, 13.07327181, 11.72344439,\n",
       "       12.32884203, 12.01496431, 11.8204179 , 12.77042966, 11.52806683,\n",
       "       11.9803219 , 12.4191563 , 11.83134108, 12.69697067, 12.03213027,\n",
       "       12.00635488, 11.75326161, 12.6443864 , 12.46420277, 11.72092675,\n",
       "       12.55840106, 12.58146807, 11.50165699, 12.3688077 , 11.58564633,\n",
       "       11.82773723, 11.00430917, 12.60925186, 12.42933674, 12.22078341,\n",
       "       11.38053993, 11.96491612, 11.78616686, 12.63127382, 12.16669955,\n",
       "       12.01294934, 12.56325507, 12.34435868, 12.48276069, 11.73891109,\n",
       "       11.91304679, 11.85378341, 11.70191704, 11.81742638, 11.85870936,\n",
       "       11.55411101, 11.94884681, 11.90795888, 11.60528379, 11.85184619,\n",
       "       11.7985422 , 12.10884115, 11.98394579, 12.45388234, 12.44441904,\n",
       "       11.65838857, 11.70788763, 11.80265151, 12.26267602, 11.61415954,\n",
       "       11.90028491, 12.06787092, 12.16268394, 11.92653587, 12.58760335,\n",
       "       11.78978746, 12.94008837, 11.98400446, 11.79760993, 12.54035652,\n",
       "       12.76955902, 11.50387105, 12.13074321, 12.44953649, 12.46175432,\n",
       "       10.95465186, 12.6217902 , 12.00337805, 11.93652381, 12.16062257,\n",
       "       11.7802457 , 12.17185511, 12.83403012, 11.62504219, 11.83664846,\n",
       "       12.08843654, 12.06297184, 12.11625033, 13.01621838, 12.08582417,\n",
       "       12.14440473, 12.51711516, 12.21571918, 12.0901473 , 12.12625088,\n",
       "       13.16585569, 12.29316358, 11.76441541, 11.62935472, 12.47186807,\n",
       "       12.03889919, 11.72075434, 11.8003508 , 12.38718191, 11.70503043,\n",
       "       12.22470737, 12.79174519, 11.78144047, 12.05967601, 12.58936472,\n",
       "       11.23841977, 11.82002134, 11.60312773, 12.0460468 , 11.69188084,\n",
       "       12.29014451, 11.75346145, 11.9993188 , 12.49794015, 11.66289222,\n",
       "       12.81524806, 12.63631601, 12.0265024 , 11.90247035, 11.91182799,\n",
       "       12.04909115, 12.59768308, 11.90096915, 11.56631994, 12.72044487,\n",
       "       11.30912668, 11.71431264, 11.48101344, 12.0546158 , 11.6614934 ,\n",
       "       12.27491733, 11.62218489, 11.6126091 , 12.22821295, 11.51807087,\n",
       "       12.43857912, 11.68098877, 11.6036238 , 11.76620892, 12.085355  ,\n",
       "       11.69529524, 11.66391439, 11.99099023, 12.36182683, 12.31489003,\n",
       "       12.37934595, 12.1940231 , 11.68811827, 11.89251055, 12.55935776,\n",
       "       11.46850456, 11.76579923, 12.83246345, 11.89917382, 11.78146519,\n",
       "       11.82804751, 11.54738646, 12.22492628, 11.87495966, 12.24276692,\n",
       "       12.13146789, 11.64083682, 11.36427865, 11.63686   , 11.37592095,\n",
       "       11.42017135, 11.42178583, 11.66919052, 12.37283095, 11.51309118,\n",
       "       12.43363129, 11.06803683, 11.52335774, 11.68334378, 12.06506502,\n",
       "       11.78662748, 11.79879157, 11.43672282, 11.57788157, 11.83538262,\n",
       "       11.98798083, 11.82881353, 11.83355137, 12.13687377, 12.52613923,\n",
       "       11.89969955, 12.32523404, 12.27725101, 12.38243102, 11.80290968,\n",
       "       11.75832212, 12.06180261, 11.88757084, 11.19102542, 12.47568767,\n",
       "       12.46457509, 11.6283239 , 11.78716741, 12.79978535, 12.05561175,\n",
       "       12.02412925, 11.7711733 , 11.82464049, 12.05569916, 11.88602181,\n",
       "       11.81330641, 11.53215469, 12.09459165, 11.90682722, 11.37287207,\n",
       "       11.74823414, 12.10038535, 12.17111438, 11.59084754, 11.66567058,\n",
       "       11.60837356, 11.71422382, 12.00902628, 11.83621924, 11.72834018,\n",
       "       11.85130053, 12.52474343, 12.20970058, 12.35354107, 11.79967532,\n",
       "       12.00757294, 12.1822823 , 12.29078373, 12.00907252, 13.11477677,\n",
       "       11.37227118, 12.52503641, 12.30309568, 11.9806504 , 12.21164247,\n",
       "       12.04748533, 11.6846229 , 12.53400807, 11.73695971, 11.68914248,\n",
       "       12.14828619, 11.83679239, 12.15314609, 12.12027281, 11.40492973,\n",
       "       11.95223686, 11.88458308, 12.14143324, 12.07503677, 12.31303951,\n",
       "       11.53558186, 11.60083181, 11.51366465, 11.89555507, 11.99813104,\n",
       "       11.70963905, 12.53614021, 11.70814124, 12.10284046, 11.62202921,\n",
       "       11.5318542 , 12.17554438, 11.99415573, 12.69824108, 12.38404583,\n",
       "       11.8291996 , 11.18645912, 11.60991408, 11.63439387, 11.81434118,\n",
       "       12.75806868, 12.57505278, 11.82696671, 11.86056803, 12.28306715,\n",
       "       11.89497242, 11.82701218, 11.75393918, 11.51917327, 12.5654207 ,\n",
       "       12.37995238, 12.30698592, 11.47660632, 11.39047348, 11.88164919,\n",
       "       11.79004973, 12.05196068, 12.74024013, 11.65094016, 11.64573112,\n",
       "       11.91649756, 11.63055768, 11.52243167, 12.43879459, 12.27445904,\n",
       "       11.65917166, 11.73263449, 11.89534271, 11.3194532 , 12.33578061,\n",
       "       11.24457376, 11.7723703 , 12.41845828, 11.93835705, 11.69281514,\n",
       "       11.35588361, 11.55989931, 11.73232624, 12.10217045, 12.39710056,\n",
       "       12.52956459, 12.20957795, 12.16768423, 11.76854167, 11.80536876,\n",
       "       12.15154679, 12.54044418, 12.44265723, 12.4545962 , 11.42732677,\n",
       "       11.65468814, 12.34954006, 12.67701586, 11.92075959, 11.89632363,\n",
       "       12.25119138, 11.83847397, 12.05972047, 11.12883332, 11.58426685,\n",
       "       12.27723493, 12.08452026, 12.05214217, 12.25603374, 11.50448775,\n",
       "       11.76793079, 12.16011142, 11.9241969 , 12.00837827, 12.31161625,\n",
       "       12.02049222, 11.8281604 , 11.61351243, 12.0079083 , 12.19756627,\n",
       "       11.96775387, 11.64563047, 12.78942074, 11.58301589, 12.14946407,\n",
       "       12.191348  , 12.59526915, 11.82830884, 12.47139439, 11.6481538 ,\n",
       "       12.21750921, 11.90813966, 12.30082692, 12.72604615, 12.02003457,\n",
       "       12.13655059, 11.87643691, 11.97529671, 11.33179183, 11.71735483,\n",
       "       11.63807818, 11.25850842, 13.16599151, 12.8686837 , 11.87313529,\n",
       "       11.51023666, 11.57232357, 12.31919314, 11.13052449, 11.91874496,\n",
       "       12.15826941, 11.84461004, 11.5776431 , 11.9058392 , 11.67099157,\n",
       "       11.89132759, 12.92138291, 12.13349874, 11.97073567, 11.69523371,\n",
       "       11.65750688, 11.34243987, 12.37194595, 12.18184152, 11.6968471 ,\n",
       "       11.66909651, 12.15356232, 11.68282643, 12.23453049, 11.68033495,\n",
       "       12.42498545, 11.53304096, 11.5000862 , 13.12020894, 12.05790323,\n",
       "       11.98675081, 12.03129281, 12.7303658 , 11.72400104, 12.07189965,\n",
       "       12.66977789, 12.15877109, 11.78962364, 12.0049182 , 12.37380059,\n",
       "       12.45963091, 12.21785957, 11.90941478, 11.99741287, 13.29330449,\n",
       "       11.82539224, 12.14160611, 11.60985862, 12.24716622, 11.86212435,\n",
       "       11.63094012, 11.96320116, 12.95970143, 12.64640741, 11.61040091,\n",
       "       12.36856801, 11.82040547, 11.83005944, 12.24702748, 12.01173643,\n",
       "       12.69306092, 11.30821501, 11.70575025, 12.21923866, 12.29174434,\n",
       "       12.22999104, 11.86378992, 11.02074416, 12.25000821, 12.50978449,\n",
       "       11.63765535, 11.30527817, 12.40072334, 12.20932578, 11.73550014,\n",
       "       11.4114234 , 12.08238589, 12.65869622, 11.64321834, 11.71907823,\n",
       "       11.63379357, 11.94343877, 11.91851609, 12.04526561, 12.43155312,\n",
       "       11.74452495, 12.37404429, 11.55835824, 11.81071221, 11.73485377,\n",
       "       11.8782441 , 11.81797523, 12.45036263, 11.9278733 , 11.65721946,\n",
       "       11.69997748, 12.09021492, 12.33718811, 12.09577148, 12.17192156,\n",
       "       11.03181177, 12.3817214 , 12.10046616, 12.25221716, 12.04982229,\n",
       "       12.49291642, 11.82554579, 11.80403016, 11.98611232, 11.78770899,\n",
       "       12.22639371, 11.96686718, 11.7736654 , 12.05859431, 11.93756123,\n",
       "       12.51810794, 12.36507543, 12.18221289, 12.02986579, 11.46658126,\n",
       "       11.90120834, 11.83663875, 11.78740259, 11.84416159, 11.66561379,\n",
       "       11.85938658, 11.18296802, 11.66267429, 12.23529712, 11.98455479,\n",
       "       12.57232795, 11.84722236, 12.14114496, 12.41341494, 11.66361026,\n",
       "       12.07318957, 11.7642453 , 12.20607911, 11.68155933, 12.66615971,\n",
       "       11.7849739 , 12.36294636, 12.10404228, 12.02945777, 11.91674947,\n",
       "       12.03396445, 12.07937939, 11.84657087, 11.65949366, 12.41876909,\n",
       "       11.89313438, 12.23604688, 12.51169011, 13.12888878, 12.02752205,\n",
       "       11.8284317 , 12.00946241, 12.00303257, 11.44480112, 12.69154617,\n",
       "       12.64768838, 12.06044681, 12.27211979, 12.07039649, 12.60788407,\n",
       "       12.23407335, 12.19314918, 11.21748016, 11.86666951, 11.88831156,\n",
       "       12.04686786, 11.87503724, 12.68840499, 11.9748485 , 12.04067028,\n",
       "       11.68131223, 12.31911291, 11.89734326, 11.56553668, 12.48185143,\n",
       "       11.77200785, 11.9215418 , 12.06835137, 12.46904403, 12.21512746,\n",
       "       11.78785574, 12.87287576, 12.30446355, 11.73509331, 12.03882714,\n",
       "       11.82255093, 11.65939964, 11.73863619, 12.33039162, 12.06814223,\n",
       "       12.45409801, 11.96035613, 12.22258966, 11.90465577, 11.66455116,\n",
       "       12.27187185, 11.86293718, 11.71334512, 12.36751758, 11.65362687,\n",
       "       11.46767851, 11.47503186, 12.67774568, 12.11302655, 11.46883454,\n",
       "       13.02504488, 12.48664817, 11.21663427, 11.72685201, 12.23432854,\n",
       "       11.70062666, 11.14864378, 11.77825125, 12.26324612, 11.82070233,\n",
       "       12.94617853, 11.85198512, 11.83677734, 11.80219742, 11.51500609,\n",
       "       11.86920741, 12.86831631, 11.76545555, 11.63839477, 11.72650605,\n",
       "       11.63241202, 12.02373196, 12.32432525, 11.56059748, 11.60548637,\n",
       "       11.86232918, 12.37445082, 12.6669397 , 12.03243432, 12.13562367,\n",
       "       12.59813776, 12.06053347, 12.16161349, 11.72967845, 11.79662485,\n",
       "       12.91136658, 12.22914814, 11.61339537, 11.20019764, 12.25874121,\n",
       "       11.71870522, 11.98708229, 11.69878042, 12.10907457, 11.90165391,\n",
       "       12.09418407, 11.92043647, 11.61578364, 11.50124362, 11.51883773,\n",
       "       12.30786545, 12.09544866, 11.73000509, 11.42426862, 11.81100389,\n",
       "       11.76285391, 12.25326588, 12.31447168, 12.09339163, 12.24791189,\n",
       "       11.75265934, 11.81562562, 12.0560415 , 12.88341396, 11.72392147,\n",
       "       12.32738036, 11.80000961, 11.8462177 , 12.43777555, 11.4658713 ])"
      ]
     },
     "execution_count": 57,
     "metadata": {},
     "output_type": "execute_result"
    }
   ],
   "source": [
    "pred_test_ridge"
   ]
  },
  {
   "cell_type": "code",
   "execution_count": 58,
   "id": "julian-declaration",
   "metadata": {},
   "outputs": [],
   "source": [
    "MAE_ridge = mean_absolute_error(y_test,pred_test_ridge)\n",
    "MSE_ridge = mean_squared_error(y_test,pred_test_ridge)\n",
    "RMSE_ridge = np.sqrt(MSE_ridge)"
   ]
  },
  {
   "cell_type": "code",
   "execution_count": 59,
   "id": "popular-intervention",
   "metadata": {},
   "outputs": [
    {
     "data": {
      "text/plain": [
       "0.08250453012846906"
      ]
     },
     "execution_count": 59,
     "metadata": {},
     "output_type": "execute_result"
    }
   ],
   "source": [
    "MAE_ridge"
   ]
  },
  {
   "cell_type": "code",
   "execution_count": 60,
   "id": "theoretical-platinum",
   "metadata": {},
   "outputs": [
    {
     "data": {
      "text/plain": [
       "0.020269678581679728"
      ]
     },
     "execution_count": 60,
     "metadata": {},
     "output_type": "execute_result"
    }
   ],
   "source": [
    "MSE_ridge"
   ]
  },
  {
   "cell_type": "code",
   "execution_count": 61,
   "id": "complimentary-lemon",
   "metadata": {},
   "outputs": [
    {
     "data": {
      "text/plain": [
       "0.14237162140567103"
      ]
     },
     "execution_count": 61,
     "metadata": {},
     "output_type": "execute_result"
    }
   ],
   "source": [
    "RMSE_ridge"
   ]
  },
  {
   "cell_type": "code",
   "execution_count": 62,
   "id": "developing-developer",
   "metadata": {},
   "outputs": [],
   "source": [
    "def MAPE(y_test,pred_test_ridge):\n",
    "    mape = np.mean(np.abs((y_test - pred_test_ridge)/y_test))*100\n",
    "    return mape"
   ]
  },
  {
   "cell_type": "code",
   "execution_count": 63,
   "id": "institutional-authorization",
   "metadata": {},
   "outputs": [],
   "source": [
    "LR_MAPEridge= MAPE(y_test,pred_test_ridge)"
   ]
  },
  {
   "cell_type": "code",
   "execution_count": 64,
   "id": "moral-tucson",
   "metadata": {},
   "outputs": [
    {
     "name": "stdout",
     "output_type": "stream",
     "text": [
      "MAPE:  0.7003927459922745\n"
     ]
    }
   ],
   "source": [
    "print(\"MAPE: \",LR_MAPEridge)"
   ]
  },
  {
   "cell_type": "code",
   "execution_count": 65,
   "id": "chinese-beast",
   "metadata": {},
   "outputs": [
    {
     "data": {
      "text/plain": [
       "<matplotlib.lines.Line2D at 0x153a7ba1988>"
      ]
     },
     "execution_count": 65,
     "metadata": {},
     "output_type": "execute_result"
    },
    {
     "data": {
      "image/png": "[encoded data removed]",
      "text/plain": [
       "<Figure size 432x288 with 1 Axes>"
      ]
     },
     "metadata": {
      "needs_background": "light"
     },
     "output_type": "display_data"
    }
   ],
   "source": [
    "sns.scatterplot(x=y_test,y=pred_test_ridge)\n",
    "plt.axhline(y=0,color='magenta',linestyle='--')"
   ]
  },
  {
   "cell_type": "code",
   "execution_count": 66,
   "id": "boring-cooling",
   "metadata": {},
   "outputs": [
    {
     "data": {
      "image/png": "[encoded data removed]",
      "text/plain": [
       "<Figure size 1000x1200 with 1 Axes>"
      ]
     },
     "metadata": {
      "needs_background": "light"
     },
     "output_type": "display_data"
    }
   ],
   "source": [
    "fig,ax = plt.subplots(figsize=(10,12),dpi=100)\n",
    "\n",
    "_=sp.stats.probplot(pred_test_ridge,plot=ax)"
   ]
  },
  {
   "cell_type": "markdown",
   "id": "separate-envelope",
   "metadata": {},
   "source": [
    "# elastic model"
   ]
  },
  {
   "cell_type": "code",
   "execution_count": 67,
   "id": "weird-poison",
   "metadata": {},
   "outputs": [],
   "source": [
    "#Create  and y \n",
    "X = df.drop('saleprice',axis=1)\n",
    "y = df['saleprice']\n",
    "\n",
    "from sklearn.model_selection import train_test_split\n",
    "X_train,X_test, y_train, y_test = train_test_split(X,y, test_size = 0.3)\n",
    "\n",
    "from sklearn.preprocessing import StandardScaler\n",
    "scaler = StandardScaler()\n",
    "scaler.fit(X_train)\n",
    "X_train = scaler.transform(X_train)\n",
    "X_test = scaler.transform(X_test)"
   ]
  },
  {
   "cell_type": "code",
   "execution_count": 68,
   "id": "iraqi-waters",
   "metadata": {},
   "outputs": [],
   "source": [
    "elastic_model = ElasticNet()"
   ]
  },
  {
   "cell_type": "code",
   "execution_count": 69,
   "id": "described-backup",
   "metadata": {},
   "outputs": [
    {
     "data": {
      "text/plain": [
       "ElasticNet()"
      ]
     },
     "execution_count": 69,
     "metadata": {},
     "output_type": "execute_result"
    }
   ],
   "source": [
    "elastic_model.fit(X_train,y_train)"
   ]
  },
  {
   "cell_type": "code",
   "execution_count": 70,
   "id": "suspected-notion",
   "metadata": {},
   "outputs": [],
   "source": [
    "pred_test_elastic = elastic_model.predict(X_test)"
   ]
  },
  {
   "cell_type": "code",
   "execution_count": 71,
   "id": "designed-museum",
   "metadata": {},
   "outputs": [
    {
     "data": {
      "text/plain": [
       "array([12.03117144, 12.03117144, 12.03117144, 12.03117144, 12.03117144,\n",
       "       12.03117144, 12.03117144, 12.03117144, 12.03117144, 12.03117144,\n",
       "       12.03117144, 12.03117144, 12.03117144, 12.03117144, 12.03117144,\n",
       "       12.03117144, 12.03117144, 12.03117144, 12.03117144, 12.03117144,\n",
       "       12.03117144, 12.03117144, 12.03117144, 12.03117144, 12.03117144,\n",
       "       12.03117144, 12.03117144, 12.03117144, 12.03117144, 12.03117144,\n",
       "       12.03117144, 12.03117144, 12.03117144, 12.03117144, 12.03117144,\n",
       "       12.03117144, 12.03117144, 12.03117144, 12.03117144, 12.03117144,\n",
       "       12.03117144, 12.03117144, 12.03117144, 12.03117144, 12.03117144,\n",
       "       12.03117144, 12.03117144, 12.03117144, 12.03117144, 12.03117144,\n",
       "       12.03117144, 12.03117144, 12.03117144, 12.03117144, 12.03117144,\n",
       "       12.03117144, 12.03117144, 12.03117144, 12.03117144, 12.03117144,\n",
       "       12.03117144, 12.03117144, 12.03117144, 12.03117144, 12.03117144,\n",
       "       12.03117144, 12.03117144, 12.03117144, 12.03117144, 12.03117144,\n",
       "       12.03117144, 12.03117144, 12.03117144, 12.03117144, 12.03117144,\n",
       "       12.03117144, 12.03117144, 12.03117144, 12.03117144, 12.03117144,\n",
       "       12.03117144, 12.03117144, 12.03117144, 12.03117144, 12.03117144,\n",
       "       12.03117144, 12.03117144, 12.03117144, 12.03117144, 12.03117144,\n",
       "       12.03117144, 12.03117144, 12.03117144, 12.03117144, 12.03117144,\n",
       "       12.03117144, 12.03117144, 12.03117144, 12.03117144, 12.03117144,\n",
       "       12.03117144, 12.03117144, 12.03117144, 12.03117144, 12.03117144,\n",
       "       12.03117144, 12.03117144, 12.03117144, 12.03117144, 12.03117144,\n",
       "       12.03117144, 12.03117144, 12.03117144, 12.03117144, 12.03117144,\n",
       "       12.03117144, 12.03117144, 12.03117144, 12.03117144, 12.03117144,\n",
       "       12.03117144, 12.03117144, 12.03117144, 12.03117144, 12.03117144,\n",
       "       12.03117144, 12.03117144, 12.03117144, 12.03117144, 12.03117144,\n",
       "       12.03117144, 12.03117144, 12.03117144, 12.03117144, 12.03117144,\n",
       "       12.03117144, 12.03117144, 12.03117144, 12.03117144, 12.03117144,\n",
       "       12.03117144, 12.03117144, 12.03117144, 12.03117144, 12.03117144,\n",
       "       12.03117144, 12.03117144, 12.03117144, 12.03117144, 12.03117144,\n",
       "       12.03117144, 12.03117144, 12.03117144, 12.03117144, 12.03117144,\n",
       "       12.03117144, 12.03117144, 12.03117144, 12.03117144, 12.03117144,\n",
       "       12.03117144, 12.03117144, 12.03117144, 12.03117144, 12.03117144,\n",
       "       12.03117144, 12.03117144, 12.03117144, 12.03117144, 12.03117144,\n",
       "       12.03117144, 12.03117144, 12.03117144, 12.03117144, 12.03117144,\n",
       "       12.03117144, 12.03117144, 12.03117144, 12.03117144, 12.03117144,\n",
       "       12.03117144, 12.03117144, 12.03117144, 12.03117144, 12.03117144,\n",
       "       12.03117144, 12.03117144, 12.03117144, 12.03117144, 12.03117144,\n",
       "       12.03117144, 12.03117144, 12.03117144, 12.03117144, 12.03117144,\n",
       "       12.03117144, 12.03117144, 12.03117144, 12.03117144, 12.03117144,\n",
       "       12.03117144, 12.03117144, 12.03117144, 12.03117144, 12.03117144,\n",
       "       12.03117144, 12.03117144, 12.03117144, 12.03117144, 12.03117144,\n",
       "       12.03117144, 12.03117144, 12.03117144, 12.03117144, 12.03117144,\n",
       "       12.03117144, 12.03117144, 12.03117144, 12.03117144, 12.03117144,\n",
       "       12.03117144, 12.03117144, 12.03117144, 12.03117144, 12.03117144,\n",
       "       12.03117144, 12.03117144, 12.03117144, 12.03117144, 12.03117144,\n",
       "       12.03117144, 12.03117144, 12.03117144, 12.03117144, 12.03117144,\n",
       "       12.03117144, 12.03117144, 12.03117144, 12.03117144, 12.03117144,\n",
       "       12.03117144, 12.03117144, 12.03117144, 12.03117144, 12.03117144,\n",
       "       12.03117144, 12.03117144, 12.03117144, 12.03117144, 12.03117144,\n",
       "       12.03117144, 12.03117144, 12.03117144, 12.03117144, 12.03117144,\n",
       "       12.03117144, 12.03117144, 12.03117144, 12.03117144, 12.03117144,\n",
       "       12.03117144, 12.03117144, 12.03117144, 12.03117144, 12.03117144,\n",
       "       12.03117144, 12.03117144, 12.03117144, 12.03117144, 12.03117144,\n",
       "       12.03117144, 12.03117144, 12.03117144, 12.03117144, 12.03117144,\n",
       "       12.03117144, 12.03117144, 12.03117144, 12.03117144, 12.03117144,\n",
       "       12.03117144, 12.03117144, 12.03117144, 12.03117144, 12.03117144,\n",
       "       12.03117144, 12.03117144, 12.03117144, 12.03117144, 12.03117144,\n",
       "       12.03117144, 12.03117144, 12.03117144, 12.03117144, 12.03117144,\n",
       "       12.03117144, 12.03117144, 12.03117144, 12.03117144, 12.03117144,\n",
       "       12.03117144, 12.03117144, 12.03117144, 12.03117144, 12.03117144,\n",
       "       12.03117144, 12.03117144, 12.03117144, 12.03117144, 12.03117144,\n",
       "       12.03117144, 12.03117144, 12.03117144, 12.03117144, 12.03117144,\n",
       "       12.03117144, 12.03117144, 12.03117144, 12.03117144, 12.03117144,\n",
       "       12.03117144, 12.03117144, 12.03117144, 12.03117144, 12.03117144,\n",
       "       12.03117144, 12.03117144, 12.03117144, 12.03117144, 12.03117144,\n",
       "       12.03117144, 12.03117144, 12.03117144, 12.03117144, 12.03117144,\n",
       "       12.03117144, 12.03117144, 12.03117144, 12.03117144, 12.03117144,\n",
       "       12.03117144, 12.03117144, 12.03117144, 12.03117144, 12.03117144,\n",
       "       12.03117144, 12.03117144, 12.03117144, 12.03117144, 12.03117144,\n",
       "       12.03117144, 12.03117144, 12.03117144, 12.03117144, 12.03117144,\n",
       "       12.03117144, 12.03117144, 12.03117144, 12.03117144, 12.03117144,\n",
       "       12.03117144, 12.03117144, 12.03117144, 12.03117144, 12.03117144,\n",
       "       12.03117144, 12.03117144, 12.03117144, 12.03117144, 12.03117144,\n",
       "       12.03117144, 12.03117144, 12.03117144, 12.03117144, 12.03117144,\n",
       "       12.03117144, 12.03117144, 12.03117144, 12.03117144, 12.03117144,\n",
       "       12.03117144, 12.03117144, 12.03117144, 12.03117144, 12.03117144,\n",
       "       12.03117144, 12.03117144, 12.03117144, 12.03117144, 12.03117144,\n",
       "       12.03117144, 12.03117144, 12.03117144, 12.03117144, 12.03117144,\n",
       "       12.03117144, 12.03117144, 12.03117144, 12.03117144, 12.03117144,\n",
       "       12.03117144, 12.03117144, 12.03117144, 12.03117144, 12.03117144,\n",
       "       12.03117144, 12.03117144, 12.03117144, 12.03117144, 12.03117144,\n",
       "       12.03117144, 12.03117144, 12.03117144, 12.03117144, 12.03117144,\n",
       "       12.03117144, 12.03117144, 12.03117144, 12.03117144, 12.03117144,\n",
       "       12.03117144, 12.03117144, 12.03117144, 12.03117144, 12.03117144,\n",
       "       12.03117144, 12.03117144, 12.03117144, 12.03117144, 12.03117144,\n",
       "       12.03117144, 12.03117144, 12.03117144, 12.03117144, 12.03117144,\n",
       "       12.03117144, 12.03117144, 12.03117144, 12.03117144, 12.03117144,\n",
       "       12.03117144, 12.03117144, 12.03117144, 12.03117144, 12.03117144,\n",
       "       12.03117144, 12.03117144, 12.03117144, 12.03117144, 12.03117144,\n",
       "       12.03117144, 12.03117144, 12.03117144, 12.03117144, 12.03117144,\n",
       "       12.03117144, 12.03117144, 12.03117144, 12.03117144, 12.03117144,\n",
       "       12.03117144, 12.03117144, 12.03117144, 12.03117144, 12.03117144,\n",
       "       12.03117144, 12.03117144, 12.03117144, 12.03117144, 12.03117144,\n",
       "       12.03117144, 12.03117144, 12.03117144, 12.03117144, 12.03117144,\n",
       "       12.03117144, 12.03117144, 12.03117144, 12.03117144, 12.03117144,\n",
       "       12.03117144, 12.03117144, 12.03117144, 12.03117144, 12.03117144,\n",
       "       12.03117144, 12.03117144, 12.03117144, 12.03117144, 12.03117144,\n",
       "       12.03117144, 12.03117144, 12.03117144, 12.03117144, 12.03117144,\n",
       "       12.03117144, 12.03117144, 12.03117144, 12.03117144, 12.03117144,\n",
       "       12.03117144, 12.03117144, 12.03117144, 12.03117144, 12.03117144,\n",
       "       12.03117144, 12.03117144, 12.03117144, 12.03117144, 12.03117144,\n",
       "       12.03117144, 12.03117144, 12.03117144, 12.03117144, 12.03117144,\n",
       "       12.03117144, 12.03117144, 12.03117144, 12.03117144, 12.03117144,\n",
       "       12.03117144, 12.03117144, 12.03117144, 12.03117144, 12.03117144,\n",
       "       12.03117144, 12.03117144, 12.03117144, 12.03117144, 12.03117144,\n",
       "       12.03117144, 12.03117144, 12.03117144, 12.03117144, 12.03117144,\n",
       "       12.03117144, 12.03117144, 12.03117144, 12.03117144, 12.03117144,\n",
       "       12.03117144, 12.03117144, 12.03117144, 12.03117144, 12.03117144,\n",
       "       12.03117144, 12.03117144, 12.03117144, 12.03117144, 12.03117144,\n",
       "       12.03117144, 12.03117144, 12.03117144, 12.03117144, 12.03117144,\n",
       "       12.03117144, 12.03117144, 12.03117144, 12.03117144, 12.03117144,\n",
       "       12.03117144, 12.03117144, 12.03117144, 12.03117144, 12.03117144,\n",
       "       12.03117144, 12.03117144, 12.03117144, 12.03117144, 12.03117144,\n",
       "       12.03117144, 12.03117144, 12.03117144, 12.03117144, 12.03117144,\n",
       "       12.03117144, 12.03117144, 12.03117144, 12.03117144, 12.03117144,\n",
       "       12.03117144, 12.03117144, 12.03117144, 12.03117144, 12.03117144,\n",
       "       12.03117144, 12.03117144, 12.03117144, 12.03117144, 12.03117144,\n",
       "       12.03117144, 12.03117144, 12.03117144, 12.03117144, 12.03117144,\n",
       "       12.03117144, 12.03117144, 12.03117144, 12.03117144, 12.03117144,\n",
       "       12.03117144, 12.03117144, 12.03117144, 12.03117144, 12.03117144,\n",
       "       12.03117144, 12.03117144, 12.03117144, 12.03117144, 12.03117144,\n",
       "       12.03117144, 12.03117144, 12.03117144, 12.03117144, 12.03117144,\n",
       "       12.03117144, 12.03117144, 12.03117144, 12.03117144, 12.03117144,\n",
       "       12.03117144, 12.03117144, 12.03117144, 12.03117144, 12.03117144,\n",
       "       12.03117144, 12.03117144, 12.03117144, 12.03117144, 12.03117144,\n",
       "       12.03117144, 12.03117144, 12.03117144, 12.03117144, 12.03117144,\n",
       "       12.03117144, 12.03117144, 12.03117144, 12.03117144, 12.03117144,\n",
       "       12.03117144, 12.03117144, 12.03117144, 12.03117144, 12.03117144,\n",
       "       12.03117144, 12.03117144, 12.03117144, 12.03117144, 12.03117144,\n",
       "       12.03117144, 12.03117144, 12.03117144, 12.03117144, 12.03117144,\n",
       "       12.03117144, 12.03117144, 12.03117144, 12.03117144, 12.03117144,\n",
       "       12.03117144, 12.03117144, 12.03117144, 12.03117144, 12.03117144,\n",
       "       12.03117144, 12.03117144, 12.03117144, 12.03117144, 12.03117144,\n",
       "       12.03117144, 12.03117144, 12.03117144, 12.03117144, 12.03117144,\n",
       "       12.03117144, 12.03117144, 12.03117144, 12.03117144, 12.03117144,\n",
       "       12.03117144, 12.03117144, 12.03117144, 12.03117144, 12.03117144,\n",
       "       12.03117144, 12.03117144, 12.03117144, 12.03117144, 12.03117144,\n",
       "       12.03117144, 12.03117144, 12.03117144, 12.03117144, 12.03117144,\n",
       "       12.03117144, 12.03117144, 12.03117144, 12.03117144, 12.03117144,\n",
       "       12.03117144, 12.03117144, 12.03117144, 12.03117144, 12.03117144,\n",
       "       12.03117144, 12.03117144, 12.03117144, 12.03117144, 12.03117144,\n",
       "       12.03117144, 12.03117144, 12.03117144, 12.03117144, 12.03117144,\n",
       "       12.03117144, 12.03117144, 12.03117144, 12.03117144, 12.03117144,\n",
       "       12.03117144, 12.03117144, 12.03117144, 12.03117144, 12.03117144,\n",
       "       12.03117144, 12.03117144, 12.03117144, 12.03117144, 12.03117144,\n",
       "       12.03117144, 12.03117144, 12.03117144, 12.03117144, 12.03117144,\n",
       "       12.03117144, 12.03117144, 12.03117144, 12.03117144, 12.03117144,\n",
       "       12.03117144, 12.03117144, 12.03117144, 12.03117144, 12.03117144,\n",
       "       12.03117144, 12.03117144, 12.03117144, 12.03117144, 12.03117144,\n",
       "       12.03117144, 12.03117144, 12.03117144, 12.03117144, 12.03117144,\n",
       "       12.03117144, 12.03117144, 12.03117144, 12.03117144, 12.03117144,\n",
       "       12.03117144, 12.03117144, 12.03117144, 12.03117144, 12.03117144,\n",
       "       12.03117144, 12.03117144, 12.03117144, 12.03117144, 12.03117144,\n",
       "       12.03117144, 12.03117144, 12.03117144, 12.03117144, 12.03117144,\n",
       "       12.03117144, 12.03117144, 12.03117144, 12.03117144, 12.03117144,\n",
       "       12.03117144, 12.03117144, 12.03117144, 12.03117144, 12.03117144,\n",
       "       12.03117144, 12.03117144, 12.03117144, 12.03117144, 12.03117144,\n",
       "       12.03117144, 12.03117144, 12.03117144, 12.03117144, 12.03117144,\n",
       "       12.03117144, 12.03117144, 12.03117144, 12.03117144, 12.03117144,\n",
       "       12.03117144, 12.03117144, 12.03117144, 12.03117144, 12.03117144,\n",
       "       12.03117144, 12.03117144, 12.03117144, 12.03117144, 12.03117144,\n",
       "       12.03117144, 12.03117144, 12.03117144, 12.03117144, 12.03117144,\n",
       "       12.03117144, 12.03117144, 12.03117144, 12.03117144, 12.03117144,\n",
       "       12.03117144, 12.03117144, 12.03117144, 12.03117144, 12.03117144,\n",
       "       12.03117144, 12.03117144, 12.03117144, 12.03117144, 12.03117144,\n",
       "       12.03117144, 12.03117144, 12.03117144, 12.03117144, 12.03117144,\n",
       "       12.03117144, 12.03117144, 12.03117144, 12.03117144, 12.03117144,\n",
       "       12.03117144, 12.03117144, 12.03117144, 12.03117144, 12.03117144,\n",
       "       12.03117144, 12.03117144, 12.03117144, 12.03117144, 12.03117144,\n",
       "       12.03117144, 12.03117144, 12.03117144, 12.03117144, 12.03117144,\n",
       "       12.03117144, 12.03117144, 12.03117144, 12.03117144, 12.03117144,\n",
       "       12.03117144, 12.03117144, 12.03117144, 12.03117144, 12.03117144,\n",
       "       12.03117144, 12.03117144, 12.03117144, 12.03117144, 12.03117144,\n",
       "       12.03117144, 12.03117144, 12.03117144, 12.03117144, 12.03117144])"
      ]
     },
     "execution_count": 71,
     "metadata": {},
     "output_type": "execute_result"
    }
   ],
   "source": [
    "pred_test_elastic"
   ]
  },
  {
   "cell_type": "code",
   "execution_count": 72,
   "id": "wired-thought",
   "metadata": {},
   "outputs": [],
   "source": [
    "MAE_elastic = mean_absolute_error(y_test,pred_test_elastic)\n",
    "MSE_elastic = mean_squared_error(y_test,pred_test_elastic)\n",
    "RMSE_elastic = np.sqrt(MSE_ridge)"
   ]
  },
  {
   "cell_type": "code",
   "execution_count": 73,
   "id": "hollow-effects",
   "metadata": {},
   "outputs": [
    {
     "data": {
      "text/plain": [
       "0.30309537011986665"
      ]
     },
     "execution_count": 73,
     "metadata": {},
     "output_type": "execute_result"
    }
   ],
   "source": [
    "MAE_elastic"
   ]
  },
  {
   "cell_type": "code",
   "execution_count": 74,
   "id": "exterior-albuquerque",
   "metadata": {},
   "outputs": [
    {
     "data": {
      "text/plain": [
       "0.15655132119263493"
      ]
     },
     "execution_count": 74,
     "metadata": {},
     "output_type": "execute_result"
    }
   ],
   "source": [
    "MSE_elastic"
   ]
  },
  {
   "cell_type": "code",
   "execution_count": 75,
   "id": "premium-hotel",
   "metadata": {},
   "outputs": [
    {
     "data": {
      "text/plain": [
       "0.14237162140567103"
      ]
     },
     "execution_count": 75,
     "metadata": {},
     "output_type": "execute_result"
    }
   ],
   "source": [
    "RMSE_elastic"
   ]
  },
  {
   "cell_type": "code",
   "execution_count": 76,
   "id": "brilliant-shark",
   "metadata": {},
   "outputs": [],
   "source": [
    "def MAPE(y_test,pred_test_elastic):\n",
    "    mape = np.mean(np.abs((y_test - pred_test_elastic)/y_test))*100\n",
    "    return mape"
   ]
  },
  {
   "cell_type": "code",
   "execution_count": 77,
   "id": "brilliant-emphasis",
   "metadata": {},
   "outputs": [],
   "source": [
    "LR_MAPEelastic= MAPE(y_test,pred_test_elastic)"
   ]
  },
  {
   "cell_type": "code",
   "execution_count": 78,
   "id": "sapphire-confusion",
   "metadata": {},
   "outputs": [
    {
     "name": "stdout",
     "output_type": "stream",
     "text": [
      "MAPE:  2.5402328425410614\n"
     ]
    }
   ],
   "source": [
    "print(\"MAPE: \",LR_MAPEelastic)"
   ]
  },
  {
   "cell_type": "code",
   "execution_count": 79,
   "id": "ruled-rings",
   "metadata": {},
   "outputs": [
    {
     "data": {
      "text/plain": [
       "<matplotlib.lines.Line2D at 0x153a7c63188>"
      ]
     },
     "execution_count": 79,
     "metadata": {},
     "output_type": "execute_result"
    },
    {
     "data": {
      "image/png": "[encoded data removed]",
      "text/plain": [
       "<Figure size 432x288 with 1 Axes>"
      ]
     },
     "metadata": {
      "needs_background": "light"
     },
     "output_type": "display_data"
    }
   ],
   "source": [
    "sns.scatterplot(x=y_test,y=pred_test_elastic)\n",
    "plt.axhline(y=0,color='magenta',linestyle='--')"
   ]
  },
  {
   "cell_type": "code",
   "execution_count": 80,
   "id": "multiple-glossary",
   "metadata": {
    "scrolled": true
   },
   "outputs": [
    {
     "data": {
      "image/png": "[encoded data removed]",
      "text/plain": [
       "<Figure size 1000x1200 with 1 Axes>"
      ]
     },
     "metadata": {
      "needs_background": "light"
     },
     "output_type": "display_data"
    }
   ],
   "source": [
    "fig,ax = plt.subplots(figsize=(10,12),dpi=100)\n",
    "\n",
    "_=sp.stats.probplot(pred_test_elastic,plot=ax)"
   ]
  },
  {
   "cell_type": "markdown",
   "id": "focal-benefit",
   "metadata": {},
   "source": [
    "# ridge cv"
   ]
  },
  {
   "cell_type": "code",
   "execution_count": 81,
   "id": "domestic-advantage",
   "metadata": {},
   "outputs": [],
   "source": [
    "#Create  and y \n",
    "X = df.drop('saleprice',axis=1)\n",
    "y = df['saleprice']\n",
    "\n",
    "from sklearn.model_selection import train_test_split\n",
    "X_train,X_test, y_train, y_test = train_test_split(X,y, test_size = 0.3)\n",
    "\n",
    "from sklearn.preprocessing import StandardScaler\n",
    "scaler = StandardScaler()\n",
    "scaler.fit(X_train)\n",
    "X_train = scaler.transform(X_train)\n",
    "X_test = scaler.transform(X_test)"
   ]
  },
  {
   "cell_type": "code",
   "execution_count": 82,
   "id": "varied-police",
   "metadata": {},
   "outputs": [],
   "source": [
    "ridgecv_model = RidgeCV()"
   ]
  },
  {
   "cell_type": "code",
   "execution_count": 83,
   "id": "superb-railway",
   "metadata": {},
   "outputs": [
    {
     "data": {
      "text/plain": [
       "RidgeCV(alphas=array([ 0.1,  1. , 10. ]))"
      ]
     },
     "execution_count": 83,
     "metadata": {},
     "output_type": "execute_result"
    }
   ],
   "source": [
    "ridgecv_model.fit(X_train,y_train)"
   ]
  },
  {
   "cell_type": "code",
   "execution_count": 84,
   "id": "romantic-representation",
   "metadata": {},
   "outputs": [],
   "source": [
    "pred_test_ridgecv = ridgecv_model.predict(X_test)"
   ]
  },
  {
   "cell_type": "code",
   "execution_count": 85,
   "id": "efficient-sender",
   "metadata": {},
   "outputs": [
    {
     "data": {
      "text/plain": [
       "array([11.74292033, 11.66479851, 12.07368019, 12.01739189, 11.55027477,\n",
       "       12.21537539, 12.00140998, 12.76406875, 12.71347869, 11.4849255 ,\n",
       "       12.63316397, 12.05635734, 12.36292628, 12.12783079, 12.13800907,\n",
       "       11.91965679, 12.17772004, 11.51913549, 11.4104233 , 12.41001164,\n",
       "       11.68346505, 11.91960469, 12.40331064, 12.10283447, 11.88692337,\n",
       "       11.80592295, 12.57367497, 12.26268456, 12.20205357, 12.45211934,\n",
       "       11.32324495, 11.85161312, 11.87247966, 12.74225716, 12.30939836,\n",
       "       11.51160128, 11.66864917, 11.76983461, 11.66829266, 12.44252674,\n",
       "       11.69432941, 11.62780044, 11.83353883, 12.37770592, 11.74831861,\n",
       "       12.43824395, 12.49323443, 12.18420102, 12.40926874, 11.55599276,\n",
       "       12.14046599, 11.87655567, 12.35569233, 12.44299919, 11.67814718,\n",
       "       11.60980497, 11.6151952 , 12.15197062, 11.68874026, 11.65236282,\n",
       "       12.64150623, 11.64324114, 11.90594525, 12.30013988, 11.94203918,\n",
       "       12.15572496, 11.63654989, 11.8597788 , 12.08788964, 12.22755578,\n",
       "       11.6710762 , 12.03317381, 11.77389831, 12.51769997, 11.47410153,\n",
       "       11.62422152, 11.85255644, 11.72577917, 11.26566241, 11.58668113,\n",
       "       11.8879446 , 11.95875581, 12.05921565, 12.06322088, 12.02526705,\n",
       "       12.05078694, 11.87295425, 12.28674035, 11.83300641, 12.32180667,\n",
       "       11.70463235, 12.30500279, 12.03663903, 11.48150442, 12.06157067,\n",
       "       12.1581065 , 12.26158261, 11.54867076, 11.49818075, 11.89017115,\n",
       "       12.53046011, 11.83234911, 11.69328289, 12.04553333, 13.0084146 ,\n",
       "       11.91414799, 12.20473277, 11.95749846, 12.31073943, 10.95676945,\n",
       "       12.56119619, 12.45172245, 11.70313622, 11.45066545, 11.95585359,\n",
       "       11.54639893, 11.56242068, 11.88341385, 11.72046383, 11.63340024,\n",
       "       11.84403352, 11.38842331, 11.85728069, 12.02910945, 11.62890493,\n",
       "       11.64001623, 11.98945676, 11.71753858, 12.76660249, 11.37764252,\n",
       "       12.02131814, 11.79236693, 12.07678817, 11.73448017, 12.37860621,\n",
       "       12.05939127, 11.54769185, 11.74779858, 12.70074364, 12.21892268,\n",
       "       12.71125915, 11.70144604, 12.09905991, 12.19589434, 11.94837261,\n",
       "       12.48306851, 11.97903288, 12.30020515, 11.76539463, 11.22169893,\n",
       "       12.18861251, 11.74205984, 11.44768519, 11.91407083, 12.04923007,\n",
       "       11.24208644, 12.33984069, 12.11583863, 11.21190013, 11.81309311,\n",
       "       11.55870817, 12.18345071, 11.96725018, 12.16665261, 11.29394054,\n",
       "       11.90135914, 12.56393869, 11.72492053, 11.22402848, 11.80139643,\n",
       "       11.78512049, 12.6603477 , 11.68141427, 12.0748082 , 12.4183172 ,\n",
       "       12.09822877, 11.83717786, 12.11525897, 12.00639088, 11.66516514,\n",
       "       12.88345653, 11.73877353, 11.42402715, 12.38231141, 12.59426166,\n",
       "       11.59819038, 11.93974454, 11.89012026, 11.64141487, 11.71082497,\n",
       "       12.77794178, 12.40997222, 12.17278087, 11.94382522, 12.01140815,\n",
       "       12.4273854 , 11.20957155, 11.72006323, 11.9070851 , 11.63621448,\n",
       "       12.39787525, 11.95059012, 11.66466879, 12.05339901, 12.41054657,\n",
       "       12.0229697 , 11.38312953, 12.45031415, 12.00654505, 12.10157177,\n",
       "       11.9224151 , 11.81859711, 11.96562672, 11.75349961, 12.70483215,\n",
       "       11.60263947, 11.94362178, 11.28761253, 11.75477576, 11.82509578,\n",
       "       11.9266364 , 11.03922167, 12.08369728, 12.32480953, 12.24941854,\n",
       "       12.26465651, 12.36350931, 11.83152856, 11.84898669, 12.49886933,\n",
       "       12.1871129 , 11.41423177, 12.26542728, 11.71533226, 11.76734844,\n",
       "       11.17842103, 12.27067605, 11.7213235 , 11.67821745, 11.80739426,\n",
       "       12.02123063, 12.01109577, 13.17578351, 11.87270299, 12.01828225,\n",
       "       12.28593937, 12.2029183 , 11.68882669, 11.67464978, 11.84229252,\n",
       "       12.27551605, 12.04818179, 11.55507742, 11.78511579, 12.70919797,\n",
       "       12.65506822, 12.21037422, 11.19095636, 12.0774292 , 11.74921646,\n",
       "       12.05597814, 11.77657121, 12.47095774, 11.57492583, 12.09157547,\n",
       "       12.15763657, 11.99062727, 11.61539667, 12.06299637, 11.87883209,\n",
       "       12.35910217, 12.31892497, 11.39675075, 11.76212072, 12.87215212,\n",
       "       12.63313435, 12.37844957, 11.69937083, 11.91655498, 12.28944559,\n",
       "       12.12930082, 12.15607029, 11.88518964, 12.16015425, 12.32817801,\n",
       "       12.22094293, 11.90853953, 12.7821411 , 12.58302693, 12.25709097,\n",
       "       12.13278711, 12.30926496, 11.8132578 , 12.48238674, 11.74043364,\n",
       "       11.88787817, 11.66569712, 12.32519615, 12.00241527, 12.20844089,\n",
       "       11.77867771, 12.35627344, 12.06170708, 12.12852235, 11.5041226 ,\n",
       "       11.60199958, 12.28401341, 12.14926088, 11.69123081, 11.46118291,\n",
       "       12.47346169, 11.72958261, 11.11798774, 12.45917649, 12.73243692,\n",
       "       11.80182283, 11.60688806, 11.9178421 , 12.30893194, 11.87692314,\n",
       "       11.8886489 , 11.69166462, 10.95519214, 11.822657  , 12.49295157,\n",
       "       11.79637396, 11.88537041, 12.19741632, 12.22151172, 11.52533877,\n",
       "       12.08502079, 12.18473699, 12.18872132, 12.04672037, 12.13324738,\n",
       "       11.47177644, 11.6255633 , 11.77146779, 12.43695977, 11.96136366,\n",
       "       11.74338551, 11.78498566, 12.22279288, 12.23569833, 11.75178206,\n",
       "       11.63127564, 11.85152099, 12.4093686 , 12.2176428 , 11.8595517 ,\n",
       "       12.49268678, 11.86088992, 12.39089534, 11.40225073, 11.90638666,\n",
       "       11.74157762, 11.6644669 , 12.17537468, 12.16501602, 11.40039023,\n",
       "       12.15496648, 11.60662208, 11.54932694, 11.84282345, 11.8704664 ,\n",
       "       12.44266107, 11.86009979, 11.87138882, 12.31258969, 12.08114383,\n",
       "       11.49778391, 12.29471421, 12.50060716, 11.94991527, 12.38441579,\n",
       "       12.02668687, 12.13408023, 11.5913886 , 12.11694376, 12.13565805,\n",
       "       11.74594311, 12.31050734, 11.95043182, 11.45154966, 12.1437322 ,\n",
       "       12.01504542, 11.74053838, 11.41450236, 12.2367609 , 11.88949185,\n",
       "       11.80503935, 12.43061989, 12.0438673 , 11.8793761 , 12.04225867,\n",
       "       12.40683447, 12.31608328, 11.97669511, 12.67377635, 12.47441961,\n",
       "       11.91309984, 12.66979953, 12.63227942, 11.85980399, 12.58980022,\n",
       "       11.49002241, 12.33630994, 11.33857225, 12.03475624, 12.26031247,\n",
       "       11.88961535, 11.80003405, 12.03912658, 13.12347813, 11.29651106,\n",
       "       11.0150717 , 11.86594366, 12.32235136, 12.10500027, 11.73977395,\n",
       "       12.67802132, 11.76797297, 11.85626637, 12.75237944, 12.24021201,\n",
       "       11.74129209, 12.39448257, 12.35598033, 11.8194302 , 12.14617035,\n",
       "       11.64539542, 12.02596424, 11.28167355, 11.88119412, 12.18239328,\n",
       "       12.19595051, 11.80348103, 12.20685923, 11.93914136, 12.21063215,\n",
       "       11.04332301, 12.28703341, 12.52483166, 11.99114668, 12.59446335,\n",
       "       12.07140664, 11.52932341, 12.45630529, 11.60376789, 11.4122059 ,\n",
       "       12.38144365, 11.81521041, 12.6123754 , 11.49924726, 11.60584923,\n",
       "       12.2893227 , 12.59518942, 11.74493348, 12.04537671, 12.35452355,\n",
       "       11.94971196, 12.8217008 , 11.81603334, 11.99213556, 12.08529655,\n",
       "       11.91088019, 11.7903473 , 11.79446256, 12.37662139, 12.20546786,\n",
       "       12.6261628 , 12.30128716, 12.2168406 , 12.18023423, 12.0179788 ,\n",
       "       12.27605346, 11.7358169 , 12.49063417, 12.15947825, 12.07505126,\n",
       "       12.19148848, 11.20095517, 12.02844646, 11.90225491, 12.1566923 ,\n",
       "       11.84819751, 11.87230458, 11.95027559, 12.22879023, 12.08745207,\n",
       "       11.88276548, 12.14357486, 12.44894477, 11.60684815, 11.74811028,\n",
       "       11.72240841, 12.50164388, 11.89254136, 11.92617773, 11.68468068,\n",
       "       11.83832579, 12.09446159, 12.00695728, 12.35916503, 12.28004588,\n",
       "       11.79565567, 11.56017452, 12.78382859, 12.36373261, 11.526762  ,\n",
       "       12.9375964 , 11.46657602, 12.75552318, 11.84100394, 12.03283231,\n",
       "       11.75032931, 11.8899233 , 11.36669908, 12.18186414, 12.10658581,\n",
       "       12.01424832, 12.31432634, 11.60579304, 11.64669678, 11.30633815,\n",
       "       11.84497381, 11.90313617, 11.95988347, 12.18377188, 11.84080447,\n",
       "       11.87531589, 11.68354668, 11.39416844, 12.07975014, 12.45941121,\n",
       "       11.79330641, 11.82089238, 11.88832765, 11.66046167, 12.29645731,\n",
       "       12.15577251, 11.37924161, 12.4981426 , 12.53444846, 11.73365915,\n",
       "       12.20024958, 11.58067565, 11.7939896 , 11.31175538, 12.61648197,\n",
       "       11.9863345 , 12.06248972, 11.92769139, 11.64673767, 12.46325383,\n",
       "       12.26687704, 11.55342701, 11.59405701, 12.61818843, 11.35338359,\n",
       "       12.90884618, 12.1745422 , 12.09195922, 12.18169394, 11.83290096,\n",
       "       11.43573236, 11.68809293, 11.50731407, 11.3444275 , 11.94973366,\n",
       "       11.96445257, 11.4593989 , 11.96426713, 11.69492318, 11.47318   ,\n",
       "       12.13372155, 11.92444397, 11.67243453, 12.16410016, 11.90547813,\n",
       "       12.20610357, 11.83848056, 11.35544194, 12.22852441, 12.19885867,\n",
       "       12.68174787, 11.95722621, 11.8145291 , 12.29300836, 11.95389488,\n",
       "       11.80327634, 11.66638617, 11.81588847, 12.0138663 , 11.82006652,\n",
       "       11.76473328, 11.50472122, 11.89092644, 12.54235712, 11.85408874,\n",
       "       12.08480477, 12.46264596, 12.45846879, 11.33660495, 12.36923356,\n",
       "       11.81394312, 12.42555514, 11.5864453 , 12.04310624, 11.82242509,\n",
       "       12.1187638 , 11.72362683, 12.59664299, 11.74652401, 11.52746424,\n",
       "       12.36803786, 11.77537252, 12.10019913, 12.48930705, 12.21179601,\n",
       "       11.96339039, 11.83486459, 12.18920304, 11.73823178, 11.5339936 ,\n",
       "       12.13585525, 11.81767689,  9.71100853, 11.97703523, 12.05295489,\n",
       "       11.75596901, 11.76063729, 12.11811919, 11.39624053, 11.73400358,\n",
       "       12.08794491, 12.25104627, 12.33415485, 12.07298524, 12.49789194,\n",
       "       12.40276965, 11.92149288, 12.38080364, 11.71097565, 11.86796363,\n",
       "       11.52713758, 13.09071381, 12.14456536, 11.82208406, 12.29994609,\n",
       "       12.6033237 , 12.08975199, 11.90020224, 11.98303082, 12.32293473,\n",
       "       11.18458732, 11.50995967, 11.99293165, 11.76425987, 11.63558142,\n",
       "       12.07071097, 12.20375644, 11.86087957, 11.95666702, 12.61585609,\n",
       "       11.811901  , 11.99162274, 11.62997978, 11.7981376 , 11.96621848,\n",
       "       11.77190488, 11.89936061, 12.13017013, 12.30609323, 11.25345757,\n",
       "       11.74150699, 11.9643827 , 12.11453673, 12.05897307, 12.06038364,\n",
       "       11.77449367, 11.46234595, 13.07933676, 11.82823374, 12.23105937,\n",
       "       12.44994938, 11.77633915, 11.76661432, 11.82761843, 11.71889594,\n",
       "       12.21490457, 11.57932145, 12.25514874, 12.1700505 , 12.22456396,\n",
       "       12.18217119, 11.84367891, 12.05837091, 11.80029513, 12.61481717,\n",
       "       11.93916113, 12.22876886, 12.26561743, 12.01422686, 12.20991283,\n",
       "       11.26675501, 12.46580154, 12.16295849, 11.83205603, 12.14359445,\n",
       "       12.17781409, 12.25027946, 11.90261394, 12.31307664, 11.56460764,\n",
       "       12.35632955, 11.67024528, 12.31826229, 11.86077801, 12.24475399,\n",
       "       11.9211483 , 12.1065661 , 12.34810931, 13.23536111, 12.14890828,\n",
       "       11.72858691, 12.22460225, 12.73993572, 11.80699458, 12.71763286,\n",
       "       12.59853058, 12.213383  , 11.97831067, 11.63877055, 11.70614814,\n",
       "       12.72053039, 12.09740545, 11.71718886, 11.75030163, 12.01658244,\n",
       "       11.69160381, 12.11951821, 11.97326954, 11.74917986, 12.34352169,\n",
       "       11.92531847, 11.87888086, 12.1356264 , 12.51400177, 11.91995248,\n",
       "       11.69085275, 12.8314785 , 12.37686958, 13.07447837, 12.13143992,\n",
       "       12.07101969, 11.79573801, 12.23018216, 11.7474598 , 11.93953146,\n",
       "       11.51384871, 12.12856707, 12.33033821, 11.88553283, 11.47150582,\n",
       "       11.72611234, 11.87107603, 11.93963932, 11.8107037 , 12.11903238,\n",
       "       12.68114931, 12.70361705, 11.54877185, 11.73701837, 12.16851341,\n",
       "       12.69659875, 12.05393654, 12.26633671, 12.20898655, 11.72442988,\n",
       "       11.43860739, 12.16362033, 11.83665643, 12.55002761, 11.99985745,\n",
       "       12.72340803, 12.33447661, 12.65874427, 11.95697346, 12.21085124,\n",
       "       11.77870674, 12.18149386, 12.14117776, 12.58925511, 11.77303608,\n",
       "       12.08200789, 12.36319431, 11.34037192, 11.56799155, 11.87347373,\n",
       "       12.0570601 , 11.54452437, 12.0923269 , 11.91741614, 12.53471129,\n",
       "       11.72104838, 12.13215926, 12.84418109, 11.16414809, 12.15720447,\n",
       "       11.75247958, 12.14961773, 12.18225886, 12.45410955, 11.86144135,\n",
       "       11.94374289, 11.7648223 , 12.06758367, 11.86753067, 11.29508878,\n",
       "       12.36117404, 12.0784513 , 11.89863872, 12.14551921, 11.85644827,\n",
       "       11.50127108, 12.31271053, 11.2091788 , 11.70822314, 11.94353065,\n",
       "       11.67608665, 12.52624396, 11.47584193, 11.7174559 , 12.39235635,\n",
       "       11.3617025 , 12.28484395, 12.04533982, 11.89401152, 12.10082009,\n",
       "       11.90015935, 12.10114581, 11.76519002, 12.29068889, 12.6973741 ,\n",
       "       12.21204898, 12.56151363, 11.55470624, 11.70100464, 12.0078168 ,\n",
       "       11.78090485, 11.20508206, 12.1807305 , 12.15036428, 12.01386473,\n",
       "       12.62281535, 12.56448429, 11.53481266, 12.26195106, 12.36383283,\n",
       "       11.89360391, 12.17533475, 11.98066538, 11.61679982, 11.3989637 ,\n",
       "       12.15150014, 11.36045474, 11.81530569, 11.96205838, 12.44781005,\n",
       "       10.74170464, 12.67311146, 12.55296663, 11.89459538, 12.20179677])"
      ]
     },
     "execution_count": 85,
     "metadata": {},
     "output_type": "execute_result"
    }
   ],
   "source": [
    "pred_test_ridgecv"
   ]
  },
  {
   "cell_type": "code",
   "execution_count": 86,
   "id": "labeled-indie",
   "metadata": {},
   "outputs": [],
   "source": [
    "MAE_ridgecv = mean_absolute_error(y_test,pred_test_ridgecv)\n",
    "MSE_ridgecv = mean_squared_error(y_test,pred_test_ridgecv)\n",
    "RMSE_ridgecv = np.sqrt(MSE_ridge)"
   ]
  },
  {
   "cell_type": "code",
   "execution_count": 87,
   "id": "sixth-necklace",
   "metadata": {},
   "outputs": [
    {
     "data": {
      "text/plain": [
       "0.08293989671692657"
      ]
     },
     "execution_count": 87,
     "metadata": {},
     "output_type": "execute_result"
    }
   ],
   "source": [
    "MAE_ridgecv"
   ]
  },
  {
   "cell_type": "code",
   "execution_count": 88,
   "id": "spanish-killer",
   "metadata": {},
   "outputs": [
    {
     "data": {
      "text/plain": [
       "0.018798464316765604"
      ]
     },
     "execution_count": 88,
     "metadata": {},
     "output_type": "execute_result"
    }
   ],
   "source": [
    "MSE_ridgecv "
   ]
  },
  {
   "cell_type": "code",
   "execution_count": 89,
   "id": "prime-location",
   "metadata": {},
   "outputs": [
    {
     "data": {
      "text/plain": [
       "0.14237162140567103"
      ]
     },
     "execution_count": 89,
     "metadata": {},
     "output_type": "execute_result"
    }
   ],
   "source": [
    "RMSE_ridgecv "
   ]
  },
  {
   "cell_type": "code",
   "execution_count": 90,
   "id": "accomplished-tuition",
   "metadata": {},
   "outputs": [],
   "source": [
    "def MAPE(y_test,pred_test_ridgecv):\n",
    "    mape = np.mean(np.abs((y_test - pred_test_elastic)/y_test))*100\n",
    "    return mape"
   ]
  },
  {
   "cell_type": "code",
   "execution_count": 91,
   "id": "textile-defendant",
   "metadata": {},
   "outputs": [],
   "source": [
    "LR_MAPEridgecv= MAPE(y_test,pred_test_ridgecv)"
   ]
  },
  {
   "cell_type": "code",
   "execution_count": 92,
   "id": "historical-hybrid",
   "metadata": {},
   "outputs": [
    {
     "name": "stdout",
     "output_type": "stream",
     "text": [
      "MAPE:  2.565590256596199\n"
     ]
    }
   ],
   "source": [
    "print(\"MAPE: \",LR_MAPEridgecv)"
   ]
  },
  {
   "cell_type": "code",
   "execution_count": 93,
   "id": "extreme-albert",
   "metadata": {},
   "outputs": [
    {
     "data": {
      "text/plain": [
       "<matplotlib.lines.Line2D at 0x153a7a15a88>"
      ]
     },
     "execution_count": 93,
     "metadata": {},
     "output_type": "execute_result"
    },
    {
     "data": {
      "image/png": "[encoded data removed]",
      "text/plain": [
       "<Figure size 432x288 with 1 Axes>"
      ]
     },
     "metadata": {
      "needs_background": "light"
     },
     "output_type": "display_data"
    }
   ],
   "source": [
    "sns.scatterplot(x=y_test,y=pred_test_ridgecv)\n",
    "plt.axhline(y=0,color='magenta',linestyle='--')"
   ]
  },
  {
   "cell_type": "code",
   "execution_count": 94,
   "id": "waiting-bedroom",
   "metadata": {},
   "outputs": [
    {
     "data": {
      "image/png": "[encoded data removed]",
      "text/plain": [
       "<Figure size 1000x1200 with 1 Axes>"
      ]
     },
     "metadata": {
      "needs_background": "light"
     },
     "output_type": "display_data"
    }
   ],
   "source": [
    "fig,ax = plt.subplots(figsize=(10,12),dpi=100)\n",
    "\n",
    "_=sp.stats.probplot(pred_test_ridgecv,plot=ax)"
   ]
  },
  {
   "cell_type": "code",
   "execution_count": 95,
   "id": "hydraulic-macedonia",
   "metadata": {},
   "outputs": [
    {
     "name": "stdout",
     "output_type": "stream",
     "text": [
      "lasso cv: \t 0.6563420379206504\n"
     ]
    }
   ],
   "source": [
    "print(\"lasso cv: \\t\",LR_MAPElassocv)"
   ]
  },
  {
   "cell_type": "code",
   "execution_count": 96,
   "id": "relative-survivor",
   "metadata": {},
   "outputs": [
    {
     "name": "stdout",
     "output_type": "stream",
     "text": [
      "Linear regression\t 1794646420.821549\n"
     ]
    }
   ],
   "source": [
    "print(\"Linear regression\\t\",LR_MAPE)\n"
   ]
  },
  {
   "cell_type": "code",
   "execution_count": 101,
   "id": "bound-alias",
   "metadata": {},
   "outputs": [
    {
     "name": "stdout",
     "output_type": "stream",
     "text": [
      "Gridcv with elastic :\t 0.7084285541275762\n"
     ]
    }
   ],
   "source": [
    "print(\"Gridcv with elastic :\\t\",LR_MAPEgrid)\n"
   ]
  },
  {
   "cell_type": "code",
   "execution_count": 98,
   "id": "superior-barrier",
   "metadata": {},
   "outputs": [
    {
     "name": "stdout",
     "output_type": "stream",
     "text": [
      "ridge :\t 0.7003927459922745\n"
     ]
    }
   ],
   "source": [
    "print(\"ridge :\\t\",LR_MAPEridge)\n"
   ]
  },
  {
   "cell_type": "code",
   "execution_count": 99,
   "id": "fiscal-arctic",
   "metadata": {},
   "outputs": [
    {
     "name": "stdout",
     "output_type": "stream",
     "text": [
      "elastic :\t 2.5402328425410614\n"
     ]
    }
   ],
   "source": [
    "print(\"elastic :\\t\",LR_MAPEelastic)\n"
   ]
  },
  {
   "cell_type": "code",
   "execution_count": 100,
   "id": "instructional-plenty",
   "metadata": {},
   "outputs": [
    {
     "name": "stdout",
     "output_type": "stream",
     "text": [
      "ridge cv: \t 2.565590256596199\n"
     ]
    }
   ],
   "source": [
    "print(\"ridge cv: \\t\",LR_MAPEridgecv)"
   ]
  }
 ],
 "metadata": {
  "kernelspec": {
   "display_name": "Python 3",
   "language": "python",
   "name": "python3"
  },
  "language_info": {
   "codemirror_mode": {
    "name": "ipython",
    "version": 3
   },
   "file_extension": ".py",
   "mimetype": "text/x-python",
   "name": "python",
   "nbconvert_exporter": "python",
   "pygments_lexer": "ipython3",
   "version": "3.7.10"
  }
 },
 "nbformat": 4,
 "nbformat_minor": 5
}
