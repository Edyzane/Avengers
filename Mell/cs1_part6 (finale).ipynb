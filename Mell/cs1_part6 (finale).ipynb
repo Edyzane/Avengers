{
 "cells": [
  {
   "cell_type": "markdown",
   "id": "former-variable",
   "metadata": {},
   "source": [
    "# train new model with selected features and revert log transformation"
   ]
  },
  {
   "cell_type": "code",
   "execution_count": 1,
   "id": "tight-joshua",
   "metadata": {},
   "outputs": [],
   "source": [
    "#importing libraries\n",
    "from sklearn.datasets import load_boston\n",
    "import pandas as pd\n",
    "import numpy as np\n",
    "import matplotlib\n",
    "import matplotlib.pyplot as plt\n",
    "import seaborn as sns\n",
    "\n",
    "%matplotlib inline\n",
    "from sklearn.model_selection import train_test_split\n",
    "from sklearn.linear_model import LinearRegression\n",
    "from sklearn.feature_selection import RFE\n",
    "from sklearn.linear_model import RidgeCV, LassoCV, Ridge, Lasso\n",
    "from sklearn.metrics import mean_squared_error, mean_absolute_error,r2_score\n",
    "import scipy as sp\n",
    "from joblib import dump\n",
    "from sklearn.linear_model import ElasticNet\n",
    "from sklearn.model_selection import GridSearchCV\n",
    "from sklearn.preprocessing import StandardScaler"
   ]
  },
  {
   "cell_type": "code",
   "execution_count": 2,
   "id": "lonely-backing",
   "metadata": {},
   "outputs": [],
   "source": [
    "df = pd.read_csv(\"cs1_part3_res.csv\")"
   ]
  },
  {
   "cell_type": "code",
   "execution_count": 3,
   "id": "compound-danish",
   "metadata": {},
   "outputs": [],
   "source": [
    "#include saleprice here\n",
    "df = df[['lot_area', 'year_built', 'year_remod/add', 'mas_vnr_area',\n",
    "       'bsmtfin_sf_1', 'total_bsmt_sf', '2nd_flr_sf', 'gr_liv_area',\n",
    "       'garage_yr_blt', 'garage_area', 'wood_deck_sf', 'open_porch_sf',\n",
    "       'screen_porch','saleprice']]"
   ]
  },
  {
   "cell_type": "code",
   "execution_count": 4,
   "id": "corrected-rental",
   "metadata": {},
   "outputs": [],
   "source": [
    "#Create  and y \n",
    "X = df.drop('saleprice',axis=1)\n",
    "y = df['saleprice']"
   ]
  },
  {
   "cell_type": "code",
   "execution_count": 5,
   "id": "cathedral-catholic",
   "metadata": {},
   "outputs": [],
   "source": [
    "##Log transformation of sale price for whole training set\n",
    "x = np.expm1(y)\n",
    "df['saleprice'] = x"
   ]
  },
  {
   "cell_type": "code",
   "execution_count": 6,
   "id": "french-latvia",
   "metadata": {},
   "outputs": [],
   "source": [
    "from sklearn.model_selection import train_test_split\n",
    "X_train,X_test, y_train, y_test = train_test_split(X,y, test_size = 0.2)"
   ]
  },
  {
   "cell_type": "code",
   "execution_count": 7,
   "id": "latest-deadline",
   "metadata": {},
   "outputs": [],
   "source": [
    "from sklearn.preprocessing import StandardScaler\n",
    "scaler = StandardScaler()\n",
    "scaler.fit(X_train)\n",
    "X_train = scaler.transform(X_train)\n",
    "X_test = scaler.transform(X_test)"
   ]
  },
  {
   "cell_type": "code",
   "execution_count": 8,
   "id": "approximate-description",
   "metadata": {},
   "outputs": [],
   "source": [
    "lasso_model = LassoCV()"
   ]
  },
  {
   "cell_type": "code",
   "execution_count": 9,
   "id": "obvious-intervention",
   "metadata": {},
   "outputs": [
    {
     "data": {
      "text/plain": [
       "LassoCV()"
      ]
     },
     "execution_count": 9,
     "metadata": {},
     "output_type": "execute_result"
    }
   ],
   "source": [
    "lasso_model.fit(X_train,y_train)"
   ]
  },
  {
   "cell_type": "code",
   "execution_count": 10,
   "id": "deluxe-staff",
   "metadata": {},
   "outputs": [],
   "source": [
    "pred_test_lasso = lasso_model.predict(X_test)"
   ]
  },
  {
   "cell_type": "code",
   "execution_count": 11,
   "id": "through-chance",
   "metadata": {},
   "outputs": [],
   "source": [
    "pred_test_lasso[pred_test_lasso<0] = 0"
   ]
  },
  {
   "cell_type": "code",
   "execution_count": 12,
   "id": "bearing-morning",
   "metadata": {},
   "outputs": [
    {
     "data": {
      "text/plain": [
       "array([139325.76063761,  19456.34769416, 149018.24636858, 102859.5686662 ,\n",
       "       237631.00390444, 230126.99556925, 161487.35812678, 278501.68118587,\n",
       "       135368.45499961, 147622.8536315 ,  83187.47746837, 119497.74868311,\n",
       "       146831.81127861, 167003.52302739, 166788.79084859,  77913.64234936,\n",
       "       146910.7475542 , 185186.36012821, 110254.20609473, 192133.12270824,\n",
       "       239759.19320607, 129897.27794239, 219684.24858464, 164165.93079336,\n",
       "       206459.60061861, 280717.66407588, 190735.21801883, 107756.13779369,\n",
       "       186115.66238147, 347909.12017802, 233296.82788366, 296072.8847936 ,\n",
       "       272713.1656536 , 120181.03326858, 133579.86651637, 268787.05508623,\n",
       "       137392.62752066, 214114.15101764, 108194.87609812, 223240.96190689,\n",
       "       142888.05441541, 147574.90872202, 111922.00319645, 128987.46105475,\n",
       "       205323.77826578, 120895.58200605, 165792.79236775, 238260.68687414,\n",
       "       183602.36560654,  98611.40222471, 189024.81458216, 238185.85246557,\n",
       "       105581.59293036, 166673.41179662, 227237.44973981,  88028.2320861 ,\n",
       "       134804.11523574, 106461.40394981, 182509.12382871, 201302.38854413,\n",
       "       120872.13874903, 276118.62129523, 261269.23569704, 131071.12239731,\n",
       "       320010.7259064 , 235471.97592958, 135094.22069075, 211004.80028693,\n",
       "       161245.27638274, 130479.11443156, 103243.3063215 , 224381.00668646,\n",
       "        78948.66968745, 260557.66362071, 198959.21604201, 170331.15320158,\n",
       "        45855.01833056, 185616.51107764, 172334.21265804, 319273.78757794,\n",
       "       245986.64263628, 175186.77343165,  99600.62748935, 132813.75878258,\n",
       "       146612.95547542, 229151.86024588, 208200.19928378, 285558.97261673,\n",
       "       276779.79001391, 250033.35692481, 269531.02648409, 179759.56738489,\n",
       "       186737.81662638, 252428.41097027, 211353.89668771, 312654.58794771,\n",
       "       199988.60070255,  65377.23703188, 160689.95383447, 112091.34332324,\n",
       "       130308.09036564, 278705.27116966, 179279.94006298, 135439.57604675,\n",
       "       121450.62970829, 127928.99102452, 153974.3281837 , 163508.35290791,\n",
       "        95804.44974122, 201300.23309777, 177095.30889549, 332510.33444519,\n",
       "       123631.97928984, 335072.56866164, 115281.95098638, 146840.75041583,\n",
       "       256576.50297294, 172635.89756533, 316353.29646623,  85251.59640047,\n",
       "       104324.69395372, 174841.40852314, 227379.84266196, 285207.34815623,\n",
       "       192790.93579718, 302049.41998171, 115886.4048964 , 103460.28175774,\n",
       "       174298.53075938,  96342.663429  , 229294.01392787, 186936.78063508,\n",
       "        22555.85900409, 268202.78671923, 252000.82347131, 285926.53034524,\n",
       "        95170.73576681, 214813.78063465, 249702.76308574, 308417.0184211 ,\n",
       "       123711.56079983, 106513.84635562, 167555.10297952, 245248.43619742,\n",
       "       177119.30313506, 219202.00728483, 197139.27681924, 179807.15937431,\n",
       "       249815.97736756, 219953.62777949, 201477.30536661, 134446.54022292,\n",
       "       191002.13508549, 222128.64073356, 142268.29322352, 192057.55928202,\n",
       "       270045.70051636, 208144.5691974 , 265932.63861748, 242641.22415467,\n",
       "       399541.71276919, 223768.94626707, 158045.35006946, 116460.79332592,\n",
       "       132084.74839541, 200682.38218283, 138618.87628873, 120261.23991746,\n",
       "       150880.73695967, 103445.39545414, 206268.67003187, 160430.94549896,\n",
       "       128732.28553214, 199887.14709612, 221091.50292392,  67131.50718893,\n",
       "        77590.3765735 , 214008.24641949,  95752.38838823, 114415.15411461,\n",
       "       209533.77628529, 169480.23666197, 277548.75748695, 249248.33391606,\n",
       "       195863.63550266, 165926.14695945, 113707.30253976, 161964.30713807,\n",
       "       156824.01282314, 228870.78189163,  48519.27861941, 256195.43389053,\n",
       "       195526.18883068, 390365.6653064 , 228661.03916606, 111889.09378845,\n",
       "       279815.29537791, 103965.5665208 , 112701.11896864, 314536.29288449,\n",
       "       233065.71497086, 129900.99120284, 222502.85123033, 170247.32722389,\n",
       "       108223.16370627, 184623.44114858, 315870.00447882, 215452.75249011,\n",
       "       245043.33656813,  91702.17380513, 213218.01783018,  45994.71683158,\n",
       "       160710.10452055,  82715.64685354,  67895.26838145,  94982.32967678,\n",
       "       105708.05834717, 172924.6805951 , 320308.7016317 ,  97588.03095335,\n",
       "       249412.53028322, 180101.43724981, 103749.50953792, 400118.84680996,\n",
       "       105535.12157843, 112914.76286966, 322687.47075635, 223566.09748029,\n",
       "       200316.47362053, 181492.12222064, 173506.30208463, 136259.3212651 ,\n",
       "       131984.10022723, 179751.57601095, 333324.8920052 ,  94890.40062356,\n",
       "       100042.33821811, 248757.85740233, 138830.27085001, 224420.42915734,\n",
       "       188808.47767887, 200184.54927117, 268430.73909037, 149393.09165429,\n",
       "       172843.00259787, 147876.29689444, 132635.40092398, 113606.61352125,\n",
       "       323224.59307196, 210773.14935285, 233290.49338711, 161421.29281137,\n",
       "       228927.61233864, 130773.57515176, 107072.12222155, 151799.4838227 ,\n",
       "       145371.78026567, 248103.20237245, 113172.69918329, 137084.86742284,\n",
       "        30700.64128404, 199161.92525952,  97910.33629014, 106454.14645331,\n",
       "       198603.75053111,  90166.08007656, 118112.73713692,  91561.03039275,\n",
       "       194194.4271719 , 123239.95323378, 151839.19993251, 327409.76470552,\n",
       "        78554.12498923, 193866.41754505,  86408.42639182, 105459.47935469,\n",
       "       328716.71795155, 268972.98999003, 196765.54411133, 205462.10988932,\n",
       "        93324.68858486, 259719.76280861, 156978.61837421, 163687.73862063,\n",
       "       172743.05516616, 140034.53953619, 201672.10737289,  87458.02860375,\n",
       "       158463.55914383, 319654.68328687, 156690.81228666, 221097.1634079 ,\n",
       "       167050.83788418, 171097.03204929, 196236.94078349, 154483.89620433,\n",
       "       155766.34125754, 350642.95656694, 240497.98565152,  33152.41521862,\n",
       "       236711.06945079, 148132.97760103, 243897.00236562, 240261.20833394,\n",
       "       152191.96640284,  54595.5444688 , 324527.12912011, 119403.10708393,\n",
       "       206639.5705235 , 100149.78377259, 184234.52204725, 480212.31666943,\n",
       "       150746.95767638, 303965.68954511, 169365.28931049,  94212.54743709,\n",
       "       127430.52459246, 224093.49493632, 110031.83088368, 119233.7549296 ,\n",
       "       142085.79015247, 182145.36241755, 129195.80118726,  62389.89367364,\n",
       "       166773.52396119, 173497.00243603, 255090.49470053, 101076.89427156,\n",
       "       183600.87630029, 230257.11334077, 151026.2653787 , 155363.61733735,\n",
       "       315175.27359339, 256395.49457841, 136829.90538491,  87294.47535772,\n",
       "       112294.94872821,  61717.64764361,  41004.16656927, 239414.34022081,\n",
       "       204567.63479929, 222996.92924743, 240804.97514017, 150994.8012486 ,\n",
       "       386488.33019724, 155599.92612204, 315134.8098067 , 129662.7108221 ,\n",
       "       156210.29121072, 155701.04542036, 159180.14396809, 117375.16699165,\n",
       "        57435.1333653 , 186872.03567822, 300957.78085912, 155641.65959887,\n",
       "       131909.03624913, 119158.03895906, 223808.53286669, 201828.43655902,\n",
       "       182967.04206301, 246721.77329413, 106195.56117325, 276905.63130801,\n",
       "       117595.32684473, 109183.17180839, 207567.32443427, 168150.56810816,\n",
       "       142178.12290089, 228450.63360565, 288997.56551642, 155929.32789705,\n",
       "       141887.40863952, 154565.60642407, 127073.29302267, 258234.46030735,\n",
       "       177137.51116079, 210810.72290357, 156636.92019825, 224355.20534489,\n",
       "       145297.28037186, 228195.20392512, 101210.72150319, 302068.89826854,\n",
       "       256906.04504312, 238350.73015532, 233992.8412367 , 238092.42934281,\n",
       "       189416.70183605, 135339.01849681, 103406.10376704, 206813.69592933,\n",
       "       139972.82293919, 176998.95852729, 288130.17650357, 140046.17266628,\n",
       "       155235.64072282, 223174.32311337, 235799.08046364, 124225.91627143,\n",
       "       179877.76152597, 252416.82889347, 220658.97057857, 311047.69519593,\n",
       "       195374.38481904,  73444.10344106, 144841.42424906, 120605.92751184,\n",
       "       240767.04343288,  78634.18884869, 126476.00350558, 316218.22000315,\n",
       "       155843.75456057, 214339.12446972, 116372.73136978, 218134.43791007,\n",
       "       197394.84293846, 242819.44992664, 426020.12510211, 131621.26683121,\n",
       "       125915.20266647, 108155.37041086, 123931.20106528, 146217.88374081,\n",
       "       310462.63703306, 149395.63240291, 178317.91716625, 190651.31448515,\n",
       "       120493.47100601, 176883.71060352, 204236.90947307, 245200.97230133,\n",
       "       204040.0419603 , 206300.69606247, 103065.22478072, 113590.80188314,\n",
       "       156456.9097587 , 191961.44622826, 337099.3026579 , 142645.70253551,\n",
       "       148336.54257407, 170556.95427808, 148069.4348848 ,  52534.24690034,\n",
       "       131527.81376294, 133811.08831939, 183452.85715776, 240299.47617635,\n",
       "       198305.52758895, 200581.62840486, 179615.86981667, 185375.8620778 ,\n",
       "       129506.10544565, 160455.39247587, 153408.0698058 , 112765.07743795,\n",
       "       172562.15235858, 266902.1425357 , 159491.265288  , 257534.67712759,\n",
       "        97557.91736469, 263949.7218131 , 195757.1661132 , 302427.88656131,\n",
       "       126730.59448773, 205577.66423739,  97343.84314694, 231966.69745892,\n",
       "        54402.39802669, 142306.92017683, 119335.95110542,  88193.29254574,\n",
       "       166380.22060549, 258606.1642312 , 271851.05521911, 120809.33070376,\n",
       "       256999.51749951, 332926.5624728 , 253665.78362537, 111387.85479827,\n",
       "       119369.29303958, 168235.6749962 , 124295.62359616, 143257.37503727,\n",
       "       227791.33410477, 206654.89630163, 289463.1959877 , 215952.76852625,\n",
       "       200674.58943709, 153613.11343846, 287011.73731744, 200373.67499581,\n",
       "       110507.7555482 , 158933.28158457, 220494.32991224,  56989.0734041 ,\n",
       "        84286.00724063, 211651.9244271 , 157532.77776494,  94715.28706431,\n",
       "       130801.61860058,  61758.48495041, 255393.70781101, 354058.93328841,\n",
       "       221410.70082133,  80688.27672427, 167032.72950295, 205188.88895787,\n",
       "       280853.7686435 ,  64027.41989964, 175008.68872521, 100674.90301434,\n",
       "       177146.64081078, 298806.97118179,  64959.0600268 , 219570.53473383,\n",
       "       180976.99136534, 363074.32783481, 140858.96603531, 265422.24975654,\n",
       "       229677.55459755, 135695.75468018, 123604.36379293, 291425.07113375,\n",
       "       113251.00054116, 193895.96579125, 197499.62854367, 144129.11331545,\n",
       "       292137.55995389, 210358.79947227, 273984.2211351 , 146963.14186062,\n",
       "       230128.00130003, 231910.60789519, 289637.32665076, 169033.14534205,\n",
       "       118714.75421358, 157168.66113806, 240349.78411133,  81085.51853717,\n",
       "       203318.52675981, 123670.75108057, 182421.72512839, 290965.92970028,\n",
       "       241214.76187615, 148644.11770351, 143621.26334053, 123518.39776453,\n",
       "       110960.32411364, 249441.79629634, 273895.96377299, 195096.1976558 ,\n",
       "       108301.93707381, 184744.38103754, 142733.40966205, 300924.1465229 ,\n",
       "       235465.79841938, 134514.85946905, 221942.47450808, 321095.57559231,\n",
       "       124181.80163988, 234549.47017293, 164896.12301486, 159595.8997061 ,\n",
       "       188364.47698951,  74975.7308108 , 212149.0336658 , 142971.5144168 ,\n",
       "       119342.26832357, 193474.35598772,  70498.9543583 ,  62854.81309137,\n",
       "       139879.3852439 , 224860.08432021,  92694.0874384 , 125729.85455231,\n",
       "       172094.58805687, 102615.96055565, 189281.02699314, 189025.45125616,\n",
       "       215003.12205201, 166897.71994452, 208075.96059342, 240776.84539533])"
      ]
     },
     "execution_count": 12,
     "metadata": {},
     "output_type": "execute_result"
    }
   ],
   "source": [
    "pred_test_lasso"
   ]
  },
  {
   "cell_type": "code",
   "execution_count": 13,
   "id": "killing-beaver",
   "metadata": {},
   "outputs": [],
   "source": [
    "MAE_Lasso = mean_absolute_error(y_test,pred_test_lasso)\n",
    "MSE_Lasso = mean_squared_error(y_test,pred_test_lasso)\n",
    "RMSE_Lasso = np.sqrt(MSE_Lasso)"
   ]
  },
  {
   "cell_type": "code",
   "execution_count": 14,
   "id": "spatial-spelling",
   "metadata": {},
   "outputs": [
    {
     "data": {
      "text/plain": [
       "23148.827512118358"
      ]
     },
     "execution_count": 14,
     "metadata": {},
     "output_type": "execute_result"
    }
   ],
   "source": [
    "MAE_Lasso"
   ]
  },
  {
   "cell_type": "code",
   "execution_count": 15,
   "id": "occupational-assumption",
   "metadata": {},
   "outputs": [
    {
     "data": {
      "text/plain": [
       "1108015507.6536603"
      ]
     },
     "execution_count": 15,
     "metadata": {},
     "output_type": "execute_result"
    }
   ],
   "source": [
    "MSE_Lasso"
   ]
  },
  {
   "cell_type": "code",
   "execution_count": 16,
   "id": "australian-rally",
   "metadata": {},
   "outputs": [
    {
     "data": {
      "text/plain": [
       "33286.866894522536"
      ]
     },
     "execution_count": 16,
     "metadata": {},
     "output_type": "execute_result"
    }
   ],
   "source": [
    "RMSE_Lasso"
   ]
  },
  {
   "cell_type": "code",
   "execution_count": 17,
   "id": "special-fault",
   "metadata": {},
   "outputs": [],
   "source": [
    "def MAPE(y_test,pred_test_lasso):\n",
    "    mape = np.mean(np.abs((y_test - pred_test_lasso)/y_test))*100\n",
    "    return mape"
   ]
  },
  {
   "cell_type": "code",
   "execution_count": 18,
   "id": "coated-uniform",
   "metadata": {},
   "outputs": [],
   "source": [
    "LR_MAPElassocv= MAPE(y_test,pred_test_lasso)"
   ]
  },
  {
   "cell_type": "code",
   "execution_count": 19,
   "id": "sweet-puppy",
   "metadata": {},
   "outputs": [
    {
     "name": "stdout",
     "output_type": "stream",
     "text": [
      "lassocv MAPE:  13.019556999459464\n"
     ]
    }
   ],
   "source": [
    "print(\"lassocv MAPE: \",LR_MAPElassocv)"
   ]
  },
  {
   "cell_type": "code",
   "execution_count": 20,
   "id": "creative-brunei",
   "metadata": {},
   "outputs": [
    {
     "data": {
      "text/plain": [
       "<matplotlib.lines.Line2D at 0x19de71ae8c8>"
      ]
     },
     "execution_count": 20,
     "metadata": {},
     "output_type": "execute_result"
    },
    {
     "data": {
      "image/png": "[encoded data removed]",
      "text/plain": [
       "<Figure size 432x288 with 1 Axes>"
      ]
     },
     "metadata": {
      "needs_background": "light"
     },
     "output_type": "display_data"
    }
   ],
   "source": [
    "sns.scatterplot(x=y_test,y=pred_test_lasso)\n",
    "plt.axhline(y=0,color='magenta',linestyle='--')"
   ]
  },
  {
   "cell_type": "code",
   "execution_count": 21,
   "id": "optical-plastic",
   "metadata": {},
   "outputs": [
    {
     "data": {
      "image/png": "[encoded data removed]",
      "text/plain": [
       "<Figure size 1000x1200 with 1 Axes>"
      ]
     },
     "metadata": {
      "needs_background": "light"
     },
     "output_type": "display_data"
    }
   ],
   "source": [
    "fig,ax = plt.subplots(figsize=(10,12),dpi=100)\n",
    "\n",
    "_=sp.stats.probplot(pred_test_lasso,plot=ax)"
   ]
  },
  {
   "cell_type": "code",
   "execution_count": 22,
   "id": "textile-passing",
   "metadata": {},
   "outputs": [
    {
     "data": {
      "text/plain": [
       "<seaborn.axisgrid.FacetGrid at 0x19de778bc08>"
      ]
     },
     "execution_count": 22,
     "metadata": {},
     "output_type": "execute_result"
    },
    {
     "data": {
      "image/png": "[encoded data removed]",
      "text/plain": [
       "<Figure size 360x360 with 1 Axes>"
      ]
     },
     "metadata": {
      "needs_background": "light"
     },
     "output_type": "display_data"
    }
   ],
   "source": [
    "sns.displot(pred_test_lasso,bins=15,kde=True)"
   ]
  },
  {
   "cell_type": "code",
   "execution_count": 23,
   "id": "baking-pantyhose",
   "metadata": {},
   "outputs": [
    {
     "data": {
      "text/plain": [
       "['cs1_Ames_Housing_scaler.pkl']"
      ]
     },
     "execution_count": 23,
     "metadata": {},
     "output_type": "execute_result"
    }
   ],
   "source": [
    "dump(scaler,\"cs1_Ames_Housing_scaler.pkl\")"
   ]
  },
  {
   "cell_type": "code",
   "execution_count": 24,
   "id": "stone-remains",
   "metadata": {},
   "outputs": [
    {
     "data": {
      "text/plain": [
       "['cs1_Ames_Housing_model.h5']"
      ]
     },
     "execution_count": 24,
     "metadata": {},
     "output_type": "execute_result"
    }
   ],
   "source": [
    "dump(lasso_model,\"cs1_Ames_Housing_model.h5\")"
   ]
  },
  {
   "cell_type": "code",
   "execution_count": null,
   "id": "adjustable-novelty",
   "metadata": {},
   "outputs": [],
   "source": []
  }
 ],
 "metadata": {
  "kernelspec": {
   "display_name": "Python 3",
   "language": "python",
   "name": "python3"
  },
  "language_info": {
   "codemirror_mode": {
    "name": "ipython",
    "version": 3
   },
   "file_extension": ".py",
   "mimetype": "text/x-python",
   "name": "python",
   "nbconvert_exporter": "python",
   "pygments_lexer": "ipython3",
   "version": "3.7.10"
  }
 },
 "nbformat": 4,
 "nbformat_minor": 5
}
